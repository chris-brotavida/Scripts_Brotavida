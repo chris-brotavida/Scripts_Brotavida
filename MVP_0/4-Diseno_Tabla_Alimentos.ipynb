{
 "cells": [
  {
   "cell_type": "markdown",
   "id": "39b9a456",
   "metadata": {},
   "source": [
    "# Imports y definiciones"
   ]
  },
  {
   "cell_type": "code",
   "execution_count": 2,
   "id": "c73debe3",
   "metadata": {
    "ExecuteTime": {
     "end_time": "2021-08-09T01:27:47.350477Z",
     "start_time": "2021-08-09T01:27:46.966319Z"
    }
   },
   "outputs": [],
   "source": [
    "import os, re, json\n",
    "import numpy as np\n",
    "import pandas as pd\n",
    "from ast import literal_eval\n",
    "from collections import defaultdict"
   ]
  },
  {
   "cell_type": "code",
   "execution_count": 3,
   "id": "f5871b27",
   "metadata": {
    "ExecuteTime": {
     "end_time": "2021-08-09T01:27:47.816235Z",
     "start_time": "2021-08-09T01:27:47.807284Z"
    },
    "scrolled": false
   },
   "outputs": [
    {
     "data": {
      "text/plain": [
       "['foodb_2020_04_07_json', 'foodb_2020_4_7_csv.tar.gz']"
      ]
     },
     "metadata": {},
     "output_type": "display_data"
    },
    {
     "data": {
      "text/plain": [
       "'C:/Users/Chris/Desktop/Databases/foodb_2020_04_07_json'"
      ]
     },
     "execution_count": 3,
     "metadata": {},
     "output_type": "execute_result"
    }
   ],
   "source": [
    "databases = 'C:/Users/Chris/Desktop/Databases'\n",
    "display(os.listdir(databases))\n",
    "\n",
    "# Se elige el JSON\n",
    "db = f'{databases}/{os.listdir(databases)[0]}'\n",
    "db"
   ]
  },
  {
   "cell_type": "markdown",
   "id": "ac019f4f",
   "metadata": {},
   "source": [
    "# Definición del diccionario de componentes a buscar (modificado en comparación con el script anterior)"
   ]
  },
  {
   "cell_type": "code",
   "execution_count": 4,
   "id": "e941daad",
   "metadata": {
    "ExecuteTime": {
     "end_time": "2021-08-09T01:27:49.400301Z",
     "start_time": "2021-08-09T01:27:48.594144Z"
    },
    "code_folding": [
     31
    ]
   },
   "outputs": [],
   "source": [
    "# Definición del diccionario y lista de interés\n",
    "compound_dict = dict()\n",
    "compound_nums = list()\n",
    "compound_list_publicID = list()\n",
    "\n",
    "# Obteniendo la información de los componentes a utilizar\n",
    "with open('interest_drink_comps_codes.csv', 'r', encoding='utf8') as file:\n",
    "    for line in file:\n",
    "        # Formateando la línea\n",
    "        data = line.strip().split(';')\n",
    "        # Agregando al diccionario\n",
    "        compound_dict[data[0]] = data[1:]\n",
    "        # Y a la lista\n",
    "        compound_list_publicID.append((data[0], data[2]))\n",
    "\n",
    "# Definición de una lista para pasarlos a números ID\n",
    "compound_list_ID = [i for i in compound_list_publicID]\n",
    "\n",
    "# Pasando a número los \"compounds\"\n",
    "with open(f'{db}/Compound.json', 'r', encoding='utf8') as file:\n",
    "    for line in file:\n",
    "        # Transformando el dato a diccionario\n",
    "        dict_to_rev = json.loads(line.strip())\n",
    "        \n",
    "        if dict_to_rev['public_id'] in list(zip(*compound_list_ID))[1]:\n",
    "            # Reemplazando en la lista\n",
    "            compound_list_ID = [i if dict_to_rev['public_id'] != i[1] \n",
    "                                else (i[0], dict_to_rev['id'], 'Compound')\n",
    "                                for i in compound_list_ID]\n",
    "            \n",
    "# Pasando a número los \"compounds\" que no aparecen en la lista\n",
    "with open(f'{db}/AccessionNumber.json', 'r', encoding='utf8') as file:\n",
    "    for line in file:\n",
    "        # Transformando el dato a diccionario\n",
    "        dict_to_rev = json.loads(line.strip())\n",
    "        \n",
    "        if dict_to_rev['number'] in list(zip(*compound_list_ID))[1]:\n",
    "            # Reemplazando en la lista\n",
    "            compound_list_ID = [i if dict_to_rev['number'] != i[1] \n",
    "                                else (i[0], dict_to_rev['compound_id'], 'Compound')\n",
    "                                for i in compound_list_ID]\n",
    "\n",
    "# Finalmente, pasando a número los \"nutrients\"\n",
    "with open(f'{db}/Nutrient.json', 'r', encoding='utf8') as file:\n",
    "    for line in file:\n",
    "        # Transformando el dato a diccionario\n",
    "        dict_to_rev = json.loads(line.strip())\n",
    "        \n",
    "        if dict_to_rev['public_id'] in list(zip(*compound_list_ID))[1]:\n",
    "            # Reemplazando en la lista\n",
    "            compound_list_ID = [i if dict_to_rev['public_id'] != i[1] \n",
    "                                else (i[0], dict_to_rev['id'], 'Nutrient')\n",
    "                                for i in compound_list_ID]"
   ]
  },
  {
   "cell_type": "code",
   "execution_count": 5,
   "id": "747b7fb0",
   "metadata": {
    "ExecuteTime": {
     "end_time": "2021-08-09T01:27:49.446747Z",
     "start_time": "2021-08-09T01:27:49.434082Z"
    },
    "scrolled": true
   },
   "outputs": [
    {
     "data": {
      "text/plain": [
       "{'Protein': ['Protein', 'FDBN00002', 'Nutrient'],\n",
       " 'Water': ['Water', 'FDB013390', 'Compound'],\n",
       " 'Caffeine': ['Caffeine', 'FDB002100', 'Compound'],\n",
       " 'Sugars': ['Sugars', 'FDB003715', 'Compound'],\n",
       " 'Calcium, Ca': ['Calcium', 'FDB003513', 'Compound'],\n",
       " 'Iron, Fe': ['Iron', 'FDB016251', 'Compound'],\n",
       " 'Magnesium, Mg': ['Magnesium', 'FDB003518', 'Compound'],\n",
       " 'Phosphorus, P': ['Phosphorus', 'FDB003520', 'Compound'],\n",
       " 'Potassium, K': ['Potassium', 'FDB003521', 'Compound'],\n",
       " 'Sodium, Na': ['Sodium', 'FDB003523', 'Compound'],\n",
       " 'Zinc, Zn': ['Zinc', 'FDB003729', 'Compound'],\n",
       " 'Copper, Cu': ['Copper', 'FDB003582', 'Compound'],\n",
       " 'Selenium, Se': ['Selenium', 'FDB013400', 'Compound'],\n",
       " 'Vitamin C': ['Ascorbic acid', 'FDB001223', 'Compound'],\n",
       " 'Thiamin': ['Thiamine', 'FDB008424', 'Compound'],\n",
       " 'Riboflavin': ['Riboflavine', 'FDB012160', 'Compound'],\n",
       " 'Niacin': ['Nicotinic acid', 'FDB001014', 'Compound'],\n",
       " 'Vitamin B6': ['Pyridoxine', 'FDB000574', 'Compound'],\n",
       " 'Choline': ['Choline', 'FDB000710', 'Compound'],\n",
       " 'Vitamin K': ['Phytomenadione', 'FDB023087', 'Compound'],\n",
       " 'Folic acid': ['Folic acid', 'FDB014504', 'Compound'],\n",
       " 'Vitamin B12, added': ['Cobalamin', 'FDB022886', 'Compound']}"
      ]
     },
     "execution_count": 5,
     "metadata": {},
     "output_type": "execute_result"
    }
   ],
   "source": [
    "compound_dict"
   ]
  },
  {
   "cell_type": "code",
   "execution_count": 6,
   "id": "3118b283",
   "metadata": {
    "ExecuteTime": {
     "end_time": "2021-08-09T01:27:49.959429Z",
     "start_time": "2021-08-09T01:27:49.940481Z"
    }
   },
   "outputs": [
    {
     "data": {
      "text/plain": [
       "[('Protein', 'FDBN00002'),\n",
       " ('Water', 'FDB013390'),\n",
       " ('Caffeine', 'FDB002100'),\n",
       " ('Sugars', 'FDB003715'),\n",
       " ('Calcium, Ca', 'FDB003513'),\n",
       " ('Iron, Fe', 'FDB016251'),\n",
       " ('Magnesium, Mg', 'FDB003518'),\n",
       " ('Phosphorus, P', 'FDB003520'),\n",
       " ('Potassium, K', 'FDB003521'),\n",
       " ('Sodium, Na', 'FDB003523'),\n",
       " ('Zinc, Zn', 'FDB003729'),\n",
       " ('Copper, Cu', 'FDB003582'),\n",
       " ('Selenium, Se', 'FDB013400'),\n",
       " ('Vitamin C', 'FDB001223'),\n",
       " ('Thiamin', 'FDB008424'),\n",
       " ('Riboflavin', 'FDB012160'),\n",
       " ('Niacin', 'FDB001014'),\n",
       " ('Vitamin B6', 'FDB000574'),\n",
       " ('Choline', 'FDB000710'),\n",
       " ('Vitamin K', 'FDB023087'),\n",
       " ('Folic acid', 'FDB014504'),\n",
       " ('Vitamin B12, added', 'FDB022886')]"
      ]
     },
     "execution_count": 6,
     "metadata": {},
     "output_type": "execute_result"
    }
   ],
   "source": [
    "compound_list_publicID"
   ]
  },
  {
   "cell_type": "code",
   "execution_count": 7,
   "id": "dc62ef8f",
   "metadata": {
    "ExecuteTime": {
     "end_time": "2021-08-09T01:27:50.256261Z",
     "start_time": "2021-08-09T01:27:50.241297Z"
    },
    "scrolled": true
   },
   "outputs": [
    {
     "data": {
      "text/plain": [
       "[('Protein', 2, 'Nutrient'),\n",
       " ('Water', 31063, 'Compound'),\n",
       " ('Caffeine', 2100, 'Compound'),\n",
       " ('Sugars', 3716, 'Compound'),\n",
       " ('Calcium, Ca', 3514, 'Compound'),\n",
       " ('Iron, Fe', 16258, 'Compound'),\n",
       " ('Magnesium, Mg', 31167, 'Compound'),\n",
       " ('Phosphorus, P', 3521, 'Compound'),\n",
       " ('Potassium, K', 3522, 'Compound'),\n",
       " ('Sodium, Na', 3524, 'Compound'),\n",
       " ('Zinc, Zn', 3730, 'Compound'),\n",
       " ('Copper, Cu', 3583, 'Compound'),\n",
       " ('Selenium, Se', 13403, 'Compound'),\n",
       " ('Vitamin C', 1223, 'Compound'),\n",
       " ('Thiamin', 8425, 'Compound'),\n",
       " ('Riboflavin', 12163, 'Compound'),\n",
       " ('Niacin', 1014, 'Compound'),\n",
       " ('Vitamin B6', 574, 'Compound'),\n",
       " ('Choline', 710, 'Compound'),\n",
       " ('Vitamin K', 23250, 'Compound'),\n",
       " ('Folic acid', 14507, 'Compound'),\n",
       " ('Vitamin B12, added', 23049, 'Compound')]"
      ]
     },
     "execution_count": 7,
     "metadata": {},
     "output_type": "execute_result"
    }
   ],
   "source": [
    "compound_list_ID"
   ]
  },
  {
   "cell_type": "markdown",
   "id": "26b597b5",
   "metadata": {},
   "source": [
    "# Creación de las tablas en bruto"
   ]
  },
  {
   "cell_type": "code",
   "execution_count": 8,
   "id": "14a81226",
   "metadata": {
    "ExecuteTime": {
     "end_time": "2021-08-09T01:27:51.225693Z",
     "start_time": "2021-08-09T01:27:50.886744Z"
    },
    "scrolled": true
   },
   "outputs": [],
   "source": [
    "with open('summary/food_compounds.txt', 'r', encoding='utf8') as file:\n",
    "    food_dict = file.readline().strip()\n",
    "\n",
    "# Modificando el string para parsearlo adecuadamente\n",
    "pattern = re.compile(\"^defaultdict\\(<class '(\\w+)'>\")\n",
    "class_to = pattern.findall(food_dict)[0]\n",
    "food_dict = food_dict.replace(f\"<class '{class_to}'>\", class_to)\n",
    "food_dict = eval(food_dict)"
   ]
  },
  {
   "cell_type": "code",
   "execution_count": 9,
   "id": "ca8ea386",
   "metadata": {
    "ExecuteTime": {
     "end_time": "2021-08-09T01:27:51.662309Z",
     "start_time": "2021-08-09T01:27:51.637584Z"
    }
   },
   "outputs": [],
   "source": [
    "# Definición del diccionario de la tabla para cada alimento\n",
    "table_data = dict()\n",
    "\n",
    "for food_id in food_dict.keys():\n",
    "    # Definición del diccionario de la tabla para cada componente\n",
    "    compound_data = dict()\n",
    "    \n",
    "    for comp_info in compound_list_ID:\n",
    "        # Obtener los datos de interés\n",
    "        comp_name, source_id, source_type = comp_info\n",
    "        \n",
    "        # Definición de una lista que almacenará los datos para \n",
    "        # la comida \"food_id\" con componente \"source_id\"\n",
    "        orig_content_list_i = list()\n",
    "        \n",
    "        # Revisando en la información filtrada \n",
    "        for dataline in food_dict[food_id]:\n",
    "            if (dataline['source_id'] == source_id and \n",
    "                dataline['source_type'] == source_type and\n",
    "                dataline['orig_unit'] == 'mg/100 g'): # Filtro de unidad\n",
    "                # Se obtienen los componentes de interés\n",
    "                if dataline['orig_content'] is not None:\n",
    "                    orig_content_list_i.append((float(dataline['orig_content']), \n",
    "                                                dataline['orig_min'], \n",
    "                                                dataline['orig_max'], \n",
    "                                                dataline['orig_unit']))\n",
    "                else:\n",
    "                    orig_content_list_i.append((None, \n",
    "                                                dataline['orig_min'], \n",
    "                                                dataline['orig_max'], \n",
    "                                                dataline['orig_unit']))\n",
    "                    \n",
    "        \n",
    "        # Agregando al diccionario de componentes\n",
    "        compound_data[comp_name] = orig_content_list_i\n",
    "    \n",
    "    # Agregando a los datos de cada alimento\n",
    "    table_data[food_id] = compound_data"
   ]
  },
  {
   "cell_type": "code",
   "execution_count": 10,
   "id": "ea72b4b2",
   "metadata": {
    "ExecuteTime": {
     "end_time": "2021-08-09T01:27:52.238798Z",
     "start_time": "2021-08-09T01:27:52.227825Z"
    }
   },
   "outputs": [],
   "source": [
    "with open('summary/raw_food_compounds_dict.txt', 'w', encoding='utf8') as file:\n",
    "    file.write(str(table_data))"
   ]
  },
  {
   "cell_type": "markdown",
   "id": "6783bb0a",
   "metadata": {},
   "source": [
    "# Sanidad para asegurarnos de que todos estén en mg/100g"
   ]
  },
  {
   "cell_type": "code",
   "execution_count": 11,
   "id": "39752701",
   "metadata": {
    "ExecuteTime": {
     "end_time": "2021-08-09T01:27:53.003801Z",
     "start_time": "2021-08-09T01:27:52.984930Z"
    }
   },
   "outputs": [
    {
     "data": {
      "text/plain": [
       "{'mg/100 g'}"
      ]
     },
     "execution_count": 11,
     "metadata": {},
     "output_type": "execute_result"
    }
   ],
   "source": [
    "units_total = set()\n",
    "\n",
    "for food_id in table_data.keys():\n",
    "    for comp_name in table_data[food_id]:\n",
    "        for i in set([i[3] for i in table_data[food_id][comp_name]]):\n",
    "            units_total.add(i)\n",
    "\n",
    "units_total"
   ]
  },
  {
   "cell_type": "markdown",
   "id": "99b008cf",
   "metadata": {},
   "source": [
    "# Creando un diccionario de traducción food_id $\\rightarrow$ food_name"
   ]
  },
  {
   "cell_type": "code",
   "execution_count": 12,
   "id": "f0c3b4ca",
   "metadata": {
    "ExecuteTime": {
     "end_time": "2021-08-09T01:27:53.832026Z",
     "start_time": "2021-08-09T01:27:53.761496Z"
    }
   },
   "outputs": [],
   "source": [
    "with open('summary/raw_food_compounds_dict.txt', 'r', encoding='utf8') as file:\n",
    "    table_data = literal_eval(file.readline().strip())\n",
    "\n",
    "# Definición del diccionario de alimentos\n",
    "food_translate_dict = dict()\n",
    "\n",
    "# Pasando a número\n",
    "with open(f'{db}/Food.json', 'r', encoding='utf8') as file:\n",
    "    for line in file:\n",
    "        # Transformando el dato a diccionario\n",
    "        dict_to_rev = json.loads(line.strip())\n",
    "        \n",
    "        if dict_to_rev['id'] in table_data.keys():\n",
    "            # Reemplazando en la lista\n",
    "            food_translate_dict[dict_to_rev['id']] = dict_to_rev['name']"
   ]
  },
  {
   "cell_type": "code",
   "execution_count": 13,
   "id": "8a74e513",
   "metadata": {
    "ExecuteTime": {
     "end_time": "2021-08-09T01:27:54.378277Z",
     "start_time": "2021-08-09T01:27:54.369530Z"
    },
    "scrolled": true
   },
   "outputs": [
    {
     "data": {
      "text/plain": [
       "{40: 'Pepper',\n",
       " 58: 'Coffee',\n",
       " 68: 'Turmeric',\n",
       " 109: 'Mentha',\n",
       " 159: 'Rosemary',\n",
       " 165: 'Common sage',\n",
       " 168: 'Winter savory',\n",
       " 183: 'Common thyme',\n",
       " 206: 'Ginger',\n",
       " 219: 'Ginseng',\n",
       " 246: 'Triticale',\n",
       " 341: 'Coconut',\n",
       " 372: 'Ginkgo nuts',\n",
       " 384: 'Horseradish tree',\n",
       " 562: 'Shiitake',\n",
       " 569: 'Maitake',\n",
       " 586: 'Cinnamon',\n",
       " 666: 'Salt',\n",
       " 748: 'Hibiscus tea',\n",
       " 905: 'Root vegetables',\n",
       " 947: 'Guarana'}"
      ]
     },
     "execution_count": 13,
     "metadata": {},
     "output_type": "execute_result"
    }
   ],
   "source": [
    "food_translate_dict"
   ]
  },
  {
   "cell_type": "markdown",
   "id": "63a9fcac",
   "metadata": {},
   "source": [
    "# Creación de las tablas sintetizadas brutas"
   ]
  },
  {
   "cell_type": "code",
   "execution_count": 14,
   "id": "a1bc339f",
   "metadata": {
    "ExecuteTime": {
     "end_time": "2021-08-09T01:27:55.236159Z",
     "start_time": "2021-08-09T01:27:55.139359Z"
    }
   },
   "outputs": [],
   "source": [
    "with open('summary/raw_food_compounds_dict.txt', 'r', encoding='utf8') as file:\n",
    "    table_data = literal_eval(file.readline().strip())"
   ]
  },
  {
   "cell_type": "code",
   "execution_count": 15,
   "id": "1c258e34",
   "metadata": {
    "ExecuteTime": {
     "end_time": "2021-08-09T01:27:55.858952Z",
     "start_time": "2021-08-09T01:27:55.709890Z"
    }
   },
   "outputs": [
    {
     "name": "stdout",
     "output_type": "stream",
     "text": [
      "341 Protein [6400. 1200.    0.    0. 4400.  800.    0.    0.    0.    0.    0.    0.\n",
      " 3330. 6880. 3130. 3350. 5300. 3630. 1170. 2290. 2020.  720. 1610. 5300.\n",
      " 2880. 5450.    0.    0. 6400. 4400.]\n",
      "341 Caffeine [0. 0. 0. 0. 0. 0. 0. 0. 0. 0. 0. 0.]\n",
      "341 Sugars [ 6400.     0.  3700.     0.     0.     0.     0.     0.  6230.  7350.\n",
      " 36750. 51500.  3340.  2610. 43170.]\n",
      "341 Calcium, Ca [10.8   1.   10.8   0.    0.    0.    2.    1.   14.   26.   11.   14.\n",
      " 27.   11.    4.   16.   18.   24.    4.   26.   15.   27.35  0.    1.\n",
      " 10.8  10.8  14.  ]\n",
      "341 Iron, Fe [3.6  0.06 1.8  0.04 0.04 0.04 0.15 0.15 2.43 3.32 1.51 1.84 3.39 2.28\n",
      " 0.13 1.64 3.3  0.29 0.81 3.36 1.92 2.8  0.04 0.06 3.6  1.8  2.43]\n",
      "341 Magnesium, Mg [32.]\n",
      "341 Phosphorus, P [187.    0.  117.    0.    0.    0.    0.    0.  113.  206.  100.  103.\n",
      " 211.  122.   22.  100.   96.   20.   59.  209.  107.  161.5 113. ]\n",
      "341 Potassium, K [750.     0.   331.     0.     0.     0.     2.     2.   356.   543.\n",
      " 361.   324.   554.   325.   101.   263.   220.   250.   232.   551.\n",
      " 337.   702.55   0.     0.   750.   331.   356.  ]\n",
      "341 Sodium, Na [ 28.     0.    21.     0.     0.     0.     5.     7.    20.    37.\n",
      " 285.    20.    37.     4.    36.    15.    13.   105.    12.    37.\n",
      " 262.    38.55   0.     0.    28.    21.    20.  ]\n",
      "341 Zinc, Zn [0.5  0.   0.5  0.   0.   0.   0.04 0.04 1.1  2.01 0.71 1.59 2.05 0.96\n",
      " 0.6  0.67 0.56 0.1  0.59 2.04 1.82 1.5  0.   0.   0.5  0.5  1.1 ]\n",
      "341 Copper, Cu [0.55  0.    0.32  0.    0.    0.    0.    0.    0.435 0.796 0.295 0.308\n",
      " 0.812 0.378 0.236 0.266 0.223 0.04  0.235 0.807 0.313 1.81  0.    0.\n",
      " 0.55  0.32  0.435]\n",
      "341 Selenium, Se [6.80e-03 0.00e+00 2.00e-03 0.00e+00 0.00e+00 0.00e+00 0.00e+00 0.00e+00\n",
      " 1.01e-02 1.85e-02 1.61e-02 5.50e-03 6.20e-03 1.00e-03 1.67e-02 2.00e-03\n",
      " 0.00e+00 0.00e+00 6.80e-03 2.00e-03 1.01e+01]\n",
      "341 Thiamin [0.    0.    0.    0.    0.066 0.06  0.015 0.03  0.061 0.03  0.022 0.026\n",
      " 0.022 0.03  0.023 0.061 0.031 0.    0.    0.035 0.025 0.066]\n",
      "341 Riboflavin [0.04  0.    0.01  0.    0.    0.    0.    0.    0.02  0.1   0.015 0.02\n",
      " 0.102 0.    0.04  0.    0.    0.057 0.    0.101 0.02  0.045 0.    0.\n",
      " 0.04  0.01 ]\n",
      "341 Niacin [0.6   1.42  0.    0.    0.6   1.83  0.    0.    0.    0.    0.    0.\n",
      " 0.54  0.603 0.697 0.305 0.616 0.89  0.038 0.76  0.637 0.08  0.671 0.611\n",
      " 0.474 0.75  0.    0.    0.    0.    2.02  0.6   2.43  0.6   0.54 ]\n",
      "341 Vitamin B6 [0.044 0.    0.06  0.    0.    0.    0.    0.    0.054 0.3   0.03  0.237\n",
      " 0.306 0.047 0.029 0.033 0.028 0.032 0.03  0.304 0.271 0.    0.    0.044\n",
      " 0.06  0.054]\n",
      "341 Choline [ 0.3  0.3  0.3  0.3 12.1 22.1 19.3  6.6  8.5  8.5  1.1 19.3 12.1]\n",
      "341 Folic acid [2.4e-02 0.0e+00 2.4e-02 0.0e+00 0.0e+00 0.0e+00 0.0e+00 0.0e+00 0.0e+00\n",
      " 0.0e+00 0.0e+00 0.0e+00 0.0e+00 0.0e+00 0.0e+00 0.0e+00 0.0e+00 0.0e+00\n",
      " 0.0e+00 0.0e+00 2.6e-02 0.0e+00 2.6e-02 2.6e-02 9.0e-03 0.0e+00 9.0e-03\n",
      " 9.0e-03 3.0e-03 0.0e+00 3.0e-03 3.0e-03 7.0e-03 0.0e+00 7.0e-03 7.0e-03\n",
      " 9.0e-03 0.0e+00 9.0e-03 9.0e-03 2.3e-02 0.0e+00 2.3e-02 2.3e-02 1.4e-02\n",
      " 0.0e+00 1.4e-02 1.4e-02 1.6e-02 0.0e+00 1.6e-02 1.6e-02 1.4e-02 0.0e+00\n",
      " 1.4e-02 1.4e-02 3.0e-03 0.0e+00 3.0e-03 3.0e-03 1.4e-02 0.0e+00 1.4e-02\n",
      " 1.4e-02 9.0e-03 0.0e+00 9.0e-03 9.0e-03 8.0e-03 0.0e+00 8.0e-03 8.0e-03\n",
      " 0.0e+00 0.0e+00 2.4e-02 2.4e-02 0.0e+00 2.6e+01 2.6e+01 2.6e+01]\n",
      "341 Vitamin B12, added [0. 0. 0. 0.]\n",
      "168 Copper, Cu [0.85]\n",
      "58 Protein [14600.  2300.   100.     0. 11600.  2200.   100.     0. 19500.  3100.\n",
      "   100.     0.   100.   100. 14420.   120.   120. 12200.   100. 11600.\n",
      "   120.  5290.  3100.  4500.  1960.   100.   100. 11600.   100. 19500.\n",
      " 14600.]\n",
      "58 Caffeine [1.000e+00 1.000e+00 1.571e+03 4.000e+01 2.120e+02 3.142e+03 2.600e+01\n",
      " 1.220e+02 1.000e+00 3.600e+02 3.020e+02 2.460e+02 2.100e+01]\n",
      "58 Sugars [    0.     0.     0.     0.  6500.     0.     0.     0.     0.     0.\n",
      "     0.     0.     0.     0.     0. 58200. 69160. 41740. 59000.]\n",
      "58 Calcium, Ca [120.   2. 140.   4. 160.   4.   2.   2. 141.   2.   2. 141.   4. 140.\n",
      "   4. 271. 133.  36.  18.   2.   4. 140.   4. 160. 120.]\n",
      "58 Iron, Fe [4.1  0.   3.8  0.04 4.4  0.04 0.05 0.13 4.41 0.01 0.13 4.41 0.04 3.8\n",
      " 0.04 0.   0.48 0.36 0.06 0.   0.04 3.8  0.04 4.4  4.1 ]\n",
      "58 Phosphorus, P [160.   2. 286.   3. 350.   3.   1.   7. 303.   3.   7. 303.   3. 286.\n",
      "   3. 251. 183. 354. 135.]\n",
      "58 Potassium, K [2020.   66. 3501.   36. 4000.   30.   54.  115. 3535.   49.  115. 3535.\n",
      "   30. 3501.   36. 1033.  831. 1184.  909.   66.   36. 3501.   30. 4000.\n",
      " 2020.]\n",
      "58 Sodium, Na [ 74.   0.  23.   4.  41.   4.   2.  14.  37.   2.  14.  37.   4.  23.\n",
      "   4. 317. 180. 557. 819.   0.   4.  23.   4.  41.  74.]\n",
      "58 Zinc, Zn [0.79  0.    0.11  0.01  0.57  0.006 0.02  0.05  0.35  0.02  0.05  0.35\n",
      " 0.01  0.11  0.01  0.96  0.25  0.04  0.02  0.    0.01  0.11  0.006 0.57\n",
      " 0.79 ]\n",
      "58 Copper, Cu [1.55e+00 0.00e+00 6.90e-02 1.00e-02 1.00e-01 1.00e-03 7.00e-03 5.00e-02\n",
      " 1.39e-01 2.00e-03 5.00e-02 1.39e-01 1.10e-02 6.90e-02 1.00e-02 4.35e-01\n",
      " 1.10e-01 2.20e-02 1.10e-02 0.00e+00 1.00e-02 6.90e-02 1.00e-03 1.00e-01\n",
      " 1.55e+00]\n",
      "58 Selenium, Se [1.00e-02 5.00e-05 1.73e-02 0.00e+00 0.00e+00 3.00e-05 1.00e-04 0.00e+00\n",
      " 1.26e-02 0.00e+00 0.00e+00 1.26e-02 1.00e-04 1.73e-02 2.00e-04 6.20e-03\n",
      " 4.20e-03 1.40e-03 9.00e-04 5.00e-05 0.00e+00 1.73e-02 3.00e-05 0.00e+00\n",
      " 1.00e-02]\n",
      "58 Thiamin [0.    0.001 0.008 0.014 0.001 0.008 0.    0.    0.    0.031 0.111 0.001\n",
      " 0.    0.    0.    0.    0.    0.    0.07 ]\n",
      "58 Riboflavin [2.00e-01 1.00e-02 1.36e+00 1.40e-02 1.10e-01 1.00e-03 0.00e+00 1.77e-01\n",
      " 7.40e-02 7.60e-02 1.77e-01 7.40e-02 1.00e-03 1.36e+00 1.40e-02 2.80e-02\n",
      " 3.70e-02 2.00e-02 0.00e+00 1.00e-02 1.40e-02 1.36e+00 1.00e-03 1.10e-01\n",
      " 2.00e-01]\n",
      "58 Niacin [15.     1.83   0.7    0.    28.1    0.467  0.282  0.    22.     3.83\n",
      "  0.236  0.     0.222  5.207 28.173  0.191  5.207 28.173  0.236 28.075\n",
      "  0.282  2.263  2.262  5.859  0.188  0.7    0.7    0.282  0.282 28.5\n",
      " 28.1    0.236  0.236 25.8   22.    16.8   15.   ]\n",
      "58 Vitamin B6 [0.001 0.    0.    0.    0.03  0.    0.    0.002 0.029 0.001 0.002 0.029\n",
      " 0.    0.    0.    0.055 0.036 0.002 0.    0.    0.    0.    0.    0.03\n",
      " 0.001]\n",
      "58 Choline [  1.    1.  101.9   2.6   2.6 101.9 101.9  31.3  68.   10.    0.7]\n",
      "58 Folic acid [0.022   0.00025 0.      0.      0.022   0.      0.      0.      0.\n",
      " 0.      0.001   0.      0.001   0.001   0.      0.      0.      0.\n",
      " 0.002   0.      0.002   0.002   0.001   0.      0.001   0.001   0.\n",
      " 0.      0.      0.      0.      0.      0.      0.      0.      0.\n",
      " 0.      0.      0.      0.      0.      0.      0.009   0.      0.009\n",
      " 0.009   0.005   0.      0.005   0.005   0.      0.      0.      0.\n",
      " 0.001   0.      0.001   0.001   0.00025 0.      0.      0.      0.022\n",
      " 0.022  ]\n",
      "58 Vitamin B12, added [0. 0. 0. 0. 0. 0.]\n",
      "586 Protein [4000.  600. 4000.]\n",
      "586 Caffeine [0.]\n",
      "586 Sugars [0.]\n",
      "586 Calcium, Ca [1002. 1002.  181.]\n",
      "586 Iron, Fe [8.32  8.32  8.595]\n",
      "586 Magnesium, Mg [20.]\n",
      "586 Phosphorus, P [64. 17.]\n",
      "586 Potassium, K [431. 431. 104.]\n",
      "586 Sodium, Na [10. 10.  8.]\n",
      "586 Zinc, Zn [1.83 1.83 0.71]\n",
      "586 Copper, Cu [0.339  0.339  0.0565]\n",
      "586 Selenium, Se [0.0031 0.0031 1.7   ]\n",
      "586 Thiamin [0.022  0.0075]\n",
      "586 Riboflavin [0.041 0.041]\n",
      "586 Niacin [1.33   0.     1.33   1.33   0.4515]\n",
      "586 Vitamin B6 [0.158  0.158  0.1565]\n",
      "586 Choline [11.]\n",
      "586 Folic acid [0.006 0.006 0.    1.5   1.5   6.   ]\n",
      "586 Vitamin B12, added [0.]\n",
      "68 Protein [ 7830. 15900.]\n",
      "68 Caffeine [0. 0.]\n",
      "68 Sugars [3210.]\n",
      "68 Calcium, Ca [183.  158.4 168. ]\n",
      "68 Iron, Fe [41.42 29.4  55.  ]\n",
      "68 Magnesium, Mg [208.]\n",
      "68 Phosphorus, P [268.   347.35 299.  ]\n",
      "68 Potassium, K [2525.   2307.05 2080.  ]\n",
      "68 Sodium, Na [ 38. 216.  27.]\n",
      "68 Zinc, Zn [4.35 2.2  4.5 ]\n",
      "68 Copper, Cu [0.603 1.15  1.3  ]\n",
      "68 Selenium, Se [4.5e-03 6.2e+00]\n",
      "68 Thiamin [0.152 0.058]\n",
      "68 Riboflavin [0.233 0.6  ]\n",
      "68 Niacin [5.14 3.35 1.35]\n",
      "68 Vitamin B6 [1.8   0.073]\n",
      "68 Choline [49.2 49.2]\n",
      "68 Folic acid [ 0.039  0.     0.039  0.039  0.    20.    20.    20.   ]\n",
      "372 Protein [ 4320. 10350.  2290.  8710.]\n",
      "372 Caffeine [0.]\n",
      "372 Calcium, Ca [ 2.   20.    4.    6.45  2.  ]\n",
      "372 Iron, Fe [1.   1.6  0.29 1.8  1.  ]\n",
      "372 Magnesium, Mg [27.]\n",
      "372 Phosphorus, P [124.  269.   54.  225.4 124. ]\n",
      "372 Potassium, K [510.  998.  180.  824.7 510. ]\n",
      "372 Sodium, Na [  7.   13.  307.   11.5   7. ]\n",
      "372 Zinc, Zn [0.34 0.67 0.21 0.55 0.34]\n",
      "372 Copper, Cu [0.274 0.536 0.166 0.45  0.274]\n",
      "372 Selenium, Se [0.0005]\n",
      "372 Thiamin [0.22  0.43  0.133 0.22 ]\n",
      "372 Riboflavin [0.09  0.176 0.054 0.2  ]\n",
      "372 Niacin [ 6.    11.732  3.623  8.1    6.   ]\n",
      "372 Vitamin B6 [0.328 0.641 0.198 0.328]\n",
      "372 Folic acid [5.40e-02 0.00e+00 5.40e-02 5.40e-02 1.06e-01 0.00e+00 1.06e-01 1.06e-01\n",
      " 3.30e-02 0.00e+00 3.30e-02 3.30e-02 0.00e+00 5.40e+01 5.40e+01 5.40e+01]\n",
      "748 Protein [430.]\n",
      "748 Caffeine [0. 0.]\n",
      "748 Sugars [6000.]\n",
      "748 Calcium, Ca [1. 8.]\n",
      "748 Iron, Fe [8.64 0.08]\n",
      "748 Magnesium, Mg [3.]\n",
      "748 Phosphorus, P [3. 1.]\n",
      "748 Potassium, K [ 9. 20.]\n",
      "748 Sodium, Na [3. 4.]\n",
      "748 Zinc, Zn [0.12 0.04]\n",
      "748 Copper, Cu [0.073 0.   ]\n",
      "748 Selenium, Se [0. 0.]\n",
      "748 Thiamin [1.279 0.   ]\n",
      "748 Riboflavin [0.099]\n",
      "748 Niacin [0.   0.04]\n",
      "748 Vitamin B6 [0. 0.]\n",
      "748 Choline [0.4 0.4]\n",
      "748 Folic acid [0.001 0.    0.001 0.001 1.    1.    0.    1.   ]\n",
      "206 Protein [1800.  300. 8980. 1820. 7150. 1800.]\n",
      "206 Caffeine [0. 0. 0.]\n",
      "206 Sugars [   0. 3390. 1700.]\n",
      "206 Calcium, Ca [ 16.  114.   16.  180.4  16.    1.5]\n",
      "206 Iron, Fe [ 0.6   19.8    0.6    8.3    0.6    0.095]\n",
      "206 Magnesium, Mg [0.]\n",
      "206 Phosphorus, P [ 34.   168.    34.   282.15   7.5 ]\n",
      "206 Potassium, K [ 415.   1320.    415.   1385.95  415.      0.  ]\n",
      "206 Sodium, Na [13.   27.   13.   38.45 13.    0.  ]\n",
      "206 Zinc, Zn [0.34 3.64 0.34 5.7  0.34 0.  ]\n",
      "206 Copper, Cu [0.226 0.48  0.226 0.95  0.226 0.   ]\n",
      "206 Selenium, Se [0.     0.0558 0.0007 0.     0.7   ]\n",
      "206 Thiamin [0.046  0.025  0.025  0.0015]\n",
      "206 Riboflavin [0.034 0.17  0.034 0.25  0.034]\n",
      "206 Niacin [0.75 0.2  9.62 0.75 7.   0.95 0.75 0.05]\n",
      "206 Vitamin B6 [0.16  0.626 0.16  0.515 0.16  0.   ]\n",
      "206 Choline [41.2 28.8 28.8]\n",
      "206 Folic acid [1.1e-02 1.3e-02 0.0e+00 1.3e-02 1.3e-02 1.1e-02 0.0e+00 1.1e-02 1.1e-02\n",
      " 1.1e-02 0.0e+00 0.0e+00 1.1e+01 1.1e+01]\n",
      "206 Vitamin B12, added [0.]\n",
      "569 Protein [1940.]\n",
      "569 Caffeine [0. 0.]\n",
      "569 Sugars [2070.]\n",
      "569 Calcium, Ca [1. 1.]\n",
      "569 Iron, Fe [0.3   0.015]\n",
      "569 Magnesium, Mg [10.]\n",
      "569 Phosphorus, P [74. 74.]\n",
      "569 Potassium, K [204.  10.]\n",
      "569 Sodium, Na [1.  0.5]\n",
      "569 Zinc, Zn [0.75 0.75]\n",
      "569 Copper, Cu [0.252  0.0285]\n",
      "569 Selenium, Se [0.0022 0.    ]\n",
      "569 Thiamin [0.146  0.0195]\n",
      "569 Riboflavin [0.242]\n",
      "569 Niacin [6.585 0.445]\n",
      "569 Vitamin B6 [0.056  0.0085]\n",
      "569 Choline [51.1 51.1]\n",
      "569 Folic acid [ 0.021  0.     0.021  0.021  0.     7.5    7.5   21.   ]\n",
      "384 Protein [ 9400.    5270.    2100.    2090.    5270.    2090.    9948.25 16750.\n",
      " 39200.   26724.25]\n",
      "384 Caffeine [0. 0.]\n",
      "384 Sugars [1000. 1000.]\n",
      "384 Calcium, Ca [ 185.    151.     30.     20.    151.     20.    142.25 1100.  ]\n",
      "384 Iron, Fe [ 4.    2.32  0.36  0.45  2.32  0.45  1.65 17.5  11.25]\n",
      "384 Phosphorus, P [112.    67.    50.    49.    67.    49.   236.75 175.  ]\n",
      "384 Potassium, K [ 337.    344.    461.    457.    344.    457.   2183.75  958.  ]\n",
      "384 Sodium, Na [  9.    9.   42.   43.  245.  279.  199.   25.5]\n",
      "384 Zinc, Zn [0.6  0.49 0.45 0.42 0.49 0.42]\n",
      "384 Copper, Cu [0.105 0.086 0.084 0.078 0.086 0.078 0.25 ]\n",
      "384 Selenium, Se [0.0009 0.0009 0.0007 0.0007 0.0009 0.0007]\n",
      "384 Thiamin [0.257 0.222 0.053 0.046 0.222 0.046]\n",
      "384 Riboflavin [0.66  0.509 0.074 0.068 0.509 0.068 0.35  1.8  ]\n",
      "384 Niacin [2.22  1.995 0.62  0.59  1.995 0.59  2.9   6.35 ]\n",
      "384 Vitamin B6 [1.2   0.929 0.12  0.112 0.929 0.112 0.55  3.4  ]\n",
      "384 Choline [ 21.  21. 423. 423.]\n",
      "384 Folic acid [0.04  0.    0.04  0.04  0.023 0.    0.023 0.023 0.044 0.    0.044 0.044\n",
      " 0.03  0.    0.03  0.03  0.023 0.    0.023 0.023 0.03  0.    0.03  0.03 ]\n",
      "159 Protein [4880.  3310.  5163.4]\n",
      "159 Calcium, Ca [1280.    317.   1353.45  317.  ]\n",
      "159 Iron, Fe [29.25  6.65 31.    6.65]\n",
      "159 Magnesium, Mg [91.]\n",
      "159 Phosphorus, P [70.  66.  74.5 66. ]\n",
      "159 Potassium, K [ 955.   668.  1006.3  668. ]\n",
      "159 Sodium, Na [50.  26.  52.7 26. ]\n",
      "159 Zinc, Zn [3.23 0.93 3.4  0.93]\n",
      "159 Copper, Cu [0.55  0.301 0.55  0.301]\n",
      "159 Selenium, Se [0.0046]\n",
      "159 Thiamin [0.514 0.036 0.036]\n",
      "159 Riboflavin [0.428 0.152]\n",
      "159 Niacin [1.    0.912 1.05  0.912]\n",
      "159 Vitamin B6 [1.74  0.336 0.336]\n",
      "159 Folic acid [  0.307   0.      0.307   0.307   0.109   0.      0.109   0.109   0.\n",
      " 109.    109.    109.   ]\n",
      "666 Protein [0. 0. 0. 0. 0. 0. 0. 0. 0. 0.]\n",
      "666 Caffeine [0.]\n",
      "666 Sugars [0. 0. 0. 0.]\n",
      "666 Calcium, Ca [230.   51.   29.   24.   29.   51.  230.   62.5]\n",
      "666 Iron, Fe [0.3  3.   0.2  0.33 0.2  3.   0.3  0.  ]\n",
      "666 Magnesium, Mg [0.]\n",
      "666 Phosphorus, P [0.  1.2 8.  0.  0. ]\n",
      "666 Potassium, K [ 0.  56.   0.   8.   0.  56.   0.  26.5]\n",
      "666 Sodium, Na [38700. 33800. 38850. 38758. 38850. 33800. 38700.  1750.]\n",
      "666 Zinc, Zn [0.076 0.077 0.076 0.1   0.076 0.077 0.076 0.   ]\n",
      "666 Copper, Cu [0.39 0.14 0.16 0.03 0.16 0.14 0.39 0.  ]\n",
      "666 Selenium, Se [0.0005 0.     0.0005 0.0001 0.0005 0.     0.0005]\n",
      "666 Thiamin [0. 0. 0. 0.]\n",
      "666 Riboflavin [0. 0. 0. 0. 0. 0. 0.]\n",
      "666 Niacin [0. 0. 0. 0. 0. 0. 0. 0. 0. 0. 0. 0. 0.]\n",
      "666 Vitamin B6 [0. 0. 0. 0. 0. 0. 0.]\n",
      "666 Choline [0.]\n",
      "666 Folic acid [0. 0. 0. 0. 0. 0. 0. 0. 0. 0.]\n",
      "666 Vitamin B12, added [0. 0. 0.]\n",
      "165 Protein [10630. 11500. 18000.]\n",
      "165 Caffeine [0.]\n",
      "165 Sugars [1710.]\n",
      "165 Calcium, Ca [1652.   1437.85]\n",
      "165 Iron, Fe [28.12 22.75]\n",
      "165 Phosphorus, P [ 91.  109.5]\n",
      "165 Potassium, K [1070.  2470.  1116.5]\n",
      "165 Sodium, Na [ 11.   108.     1.15]\n",
      "165 Zinc, Zn [4.7 5.9]\n",
      "165 Copper, Cu [0.757 0.75 ]\n",
      "165 Selenium, Se [0.0037]\n",
      "165 Thiamin [0.754]\n",
      "165 Riboflavin [0.336 0.35 ]\n",
      "165 Niacin [5.72 5.95]\n",
      "165 Vitamin B6 [2.69]\n",
      "165 Choline [43.6]\n",
      "165 Folic acid [0.274 0.    0.274 0.274]\n",
      "562 Protein [2240. 3450. 9580. 1560. 1560.]\n",
      "562 Caffeine [0. 0. 0. 0.]\n",
      "562 Sugars [2380.  300. 2210. 3840. 3840.]\n",
      "562 Calcium, Ca [ 2.  2. 11.  3.  3.  1.]\n",
      "562 Iron, Fe [0.41  0.53  1.72  0.44  0.44  0.215]\n",
      "562 Magnesium, Mg [3.5]\n",
      "562 Phosphorus, P [112. 111. 294.  29.  29.  24.]\n",
      "562 Potassium, K [ 304.  326. 1534.  117.  117.   82.]\n",
      "562 Sodium, Na [  9.   5.  13.   4. 240.   5.]\n",
      "562 Zinc, Zn [1.03 0.96 7.66 1.33 1.33 0.4 ]\n",
      "562 Copper, Cu [0.142 0.163 5.165 0.896 0.896 0.048]\n",
      "562 Selenium, Se [0.0057 0.0063 0.0461 0.0248 0.0248 1.05  ]\n",
      "562 Thiamin [0.015 0.099 0.3   0.037 0.037 0.   ]\n",
      "562 Riboflavin [0.217 0.274 1.27  0.17  0.17 ]\n",
      "562 Niacin [ 3.877  3.87  14.1    1.5    1.5    0.99 ]\n",
      "562 Vitamin B6 [0.293  0.174  0.965  0.159  0.159  0.0605]\n",
      "562 Choline [ 59.4 201.7  36.8  80. ]\n",
      "562 Folic acid [ 0.013  0.013  0.014  0.     0.014  0.014  0.163  0.     0.163  0.163\n",
      "  0.021  0.     0.021  0.021  0.021  0.     0.021  0.021  0.    13.\n",
      "  3.5    3.5  ]\n",
      "183 Protein [9110. 5560. 9900.]\n",
      "183 Caffeine [0. 0.]\n",
      "183 Sugars [1710.]\n",
      "183 Calcium, Ca [1890.    405.   1670.   1973.45  405.   1890.  ]\n",
      "183 Iron, Fe [123.6   17.45 129.15  17.45 123.6 ]\n",
      "183 Magnesium, Mg [160. 220.]\n",
      "183 Phosphorus, P [201.   106.    95.   210.25 106.   201.  ]\n",
      "183 Potassium, K [814.   609.   968.   848.45 609.   814.  ]\n",
      "183 Sodium, Na [ 55.     9.   149.    88.55   9.    55.  ]\n",
      "183 Zinc, Zn [6.18 1.81 1.5  6.45 1.81 6.18]\n",
      "183 Copper, Cu [0.86  0.555 0.85  0.555 0.86 ]\n",
      "183 Selenium, Se [0.0046 4.6   ]\n",
      "183 Thiamin [0.513 0.048 0.048 0.513]\n",
      "183 Riboflavin [0.399 0.471 2.85 ]\n",
      "183 Niacin [4.94  1.824 5.4   1.824 4.94 ]\n",
      "183 Vitamin B6 [0.55  0.348 0.348 0.55 ]\n",
      "183 Choline [43.6 43.6]\n",
      "183 Folic acid [2.74e-01 0.00e+00 2.74e-01 2.74e-01 4.50e-02 0.00e+00 4.50e-02 4.50e-02\n",
      " 4.50e+01 0.00e+00 4.50e+01 4.50e+01 0.00e+00 2.74e+02 2.74e+02 2.74e+02]\n",
      "40 Protein [  900.   100.  2000.   300.   800.   100.   900.   100.  1300.   200.\n",
      " 10400.  1700. 13460. 14140. 12010.   900.   860.   920.   800.  1080.\n",
      "   950.   780.   920. 17900.  2000.  1870.   900.   990.   920.   920.\n",
      "   920.   950.   800.  1080.   950.   950.  1040. 17900.  1100.  1000.\n",
      " 10580.  1660.  1740. 11860.   910.   720.   800. 12350.  9600.  1300.\n",
      "   900.  2000. 10400.   900.   800.  1300.]\n",
      "40 Caffeine [0. 0. 0. 0. 0. 0. 0. 0. 0. 0. 0. 0. 0. 0. 0. 0. 0. 0. 0. 0. 0. 0. 0. 0.\n",
      " 0. 0.]\n",
      "40 Sugars [    0.     0.     0.  1950.  4050.     0.  7190. 10340. 10340.  3120.\n",
      "  2400.  3190.  2170.  2140. 38480.  5100.  5300.  3320.  4200.  3190.\n",
      "  4390.  4390.  3260.  2860.  2860.  4280. 40770.  2710. 41060.  1950.\n",
      "  3830.  4120.  3530.]\n",
      "40 Calcium, Ca [  7.    14.    41.     8.55   5.78 265.   330.   229.   148.     7.\n",
      "  10.     9.    41.     9.     8.     8.    23.   134.    18.    14.\n",
      "   7.     7.     9.     9.     9.     8.    41.     9.     8.     8.\n",
      "   7.   134.     6.    11.    45.    14.    11.    61.    12.    36.\n",
      "  12.    97.    99.6    4.4    7.    14.   265.     8.55  41.     5.78]\n",
      "40 Iron, Fe [ 0.5    1.2    0.8    0.354  0.481 14.3   17.3   21.14   7.8    0.5\n",
      "  0.34   0.46   0.8    0.62   0.52   0.3    1.88  10.4    1.2    1.03\n",
      "  0.5    0.43   0.46   0.46   0.46   0.52   0.8    0.62   0.52   0.52\n",
      "  0.47  10.4    1.68   0.46   6.04   0.46   0.86  10.93   0.25   1.33\n",
      "  0.46   9.83  14.5    0.24   0.5    1.2   14.3    0.354  0.8    0.481]\n",
      "40 Phosphorus, P [ 17.    67.5   20.    27.4   30.5  176.   300.   314.   293.    17.\n",
      "  20.    18.    20.    17.    13.    15.    18.   327.    46.    43.\n",
      "  17.    26.    18.    18.    18.    13.    20.    17.    13.    13.\n",
      "  23.   327.    17.    24.   159.    32.    40.   201.    26.    11.\n",
      "  29.   267.   203.55]\n",
      "40 Potassium, K [ 187.   340.   146.   187.   247.    73.  1950.  2280.  2014.   187.\n",
      "  175.   166.   146.    91.    72.   134.   193.  3170.   340.   322.\n",
      "  187.   211.   166.   166.   166.    72.   146.    91.    72.    72.\n",
      "  193.  3170.   158.   212.  1870.   256.   305.  2411.   248.   113.\n",
      "  202.  2222.  1843.1  353.   187.   340.    73.   187.   146.   247. ]\n",
      "40 Sodium, Na [1.173e+03 7.000e+00 1.369e+03 6.000e+00 5.000e+00 5.000e+00 1.640e+03\n",
      " 6.800e+01 3.000e+01 1.173e+03 3.000e+00 2.000e+00 1.369e+03 5.000e+00\n",
      " 4.000e+00 1.700e+01 1.671e+03 1.930e+02 7.000e+00 9.000e+00 1.173e+03\n",
      " 4.000e+00 2.380e+02 2.000e+00 2.380e+02 2.400e+02 1.369e+03 5.000e+00\n",
      " 4.000e+00 2.400e+02 2.100e+01 1.930e+02 1.400e+01 2.000e+00 9.100e+01\n",
      " 1.300e+01 1.000e+01 4.300e+01 3.000e+00 3.970e+02 1.000e+00 8.900e+01\n",
      " 3.250e+01 2.000e+00 1.173e+03 7.000e+00 5.000e+00 6.000e+00 1.369e+03\n",
      " 5.000e+00]\n",
      "40 Zinc, Zn [0.17  0.3   0.18  0.11  0.22  1.13  4.3   4.33  2.48  0.17  0.13  0.12\n",
      " 0.18  0.06  0.05  0.06  0.34  2.41  0.3   0.26  0.17  0.25  0.12  0.12\n",
      " 0.12  0.05  0.18  0.06  0.05  0.05  0.15  2.41  0.19  0.17  1.02  0.25\n",
      " 0.26  1.42  0.14  0.09  0.3   1.4   3.9   0.176 0.17  0.3   1.13  0.11\n",
      " 0.18  0.22 ]\n",
      "40 Copper, Cu [0.101 0.174 0.13  0.083 0.08  0.    1.    0.713 0.373 0.101 0.066 0.065\n",
      " 0.13  0.053 0.044 0.017 0.146 1.389 0.174 0.129 0.101 0.017 0.065 0.065\n",
      " 0.065 0.044 0.13  0.053 0.044 0.044 0.017 1.389 0.049 0.107 0.228 0.094\n",
      " 0.129 0.508 0.046 0.115 0.423 1.025 0.11  0.101 0.174 0.    0.083 0.13\n",
      " 0.08 ]\n",
      "40 Selenium, Se [0.      0.      0.      0.0001  0.0001  0.      0.0204  0.0063  0.0088\n",
      " 0.0003  0.      0.0003  0.0003  0.0002  0.0002  0.0006  0.0004  0.0037\n",
      " 0.0005  0.0005  0.0003  0.0001  0.0003  0.0003  0.0003  0.0002  0.0003\n",
      " 0.0002  0.0002  0.0002  0.0037  0.0002  0.0003  0.0035  0.0003  0.0004\n",
      " 0.0029  0.0004  0.0003  0.0003  0.0032  0.00015 0.00104 0.      0.\n",
      " 0.      0.0001  0.      0.0001 ]\n",
      "40 Thiamin [0.25  0.33  0.328 0.02  0.057 0.059 0.025 0.069 0.051 0.042 0.043 1.2\n",
      " 0.09  0.072 0.02  0.054 0.059 0.059 0.059 0.051 0.025 0.069 0.051 0.051\n",
      " 0.056 1.2   0.017 0.028 0.081 0.081 0.054 0.179 0.04  0.01  0.079 0.172\n",
      " 0.039 0.02  0.09  0.022 0.034 0.025 0.05 ]\n",
      "40 Riboflavin [0.05  0.09  0.03  0.025 0.094 0.126 0.94  1.23  0.919 0.05  0.028 0.03\n",
      " 0.03  0.038 0.031 0.048 0.038 1.2   0.09  0.086 0.05  0.085 0.03  0.03\n",
      " 0.03  0.031 0.03  0.038 0.031 0.031 0.109 1.2   0.06  0.025 1.205 0.054\n",
      " 0.081 2.255 0.07  0.03  0.055 3.197 0.95  0.024 0.05  0.09  0.126 0.025\n",
      " 0.03  0.094]\n",
      "40 Niacin [ 0.8    0.2    0.9    0.433  0.55   0.083  0.6    0.083  1.6    0.117\n",
      "  0.212  0.    11.6   10.06   8.701  0.8    0.48   0.477  0.55   1.37\n",
      "  1.082  0.582  0.403  7.4    0.95   1.244  0.8    0.979  0.477  0.477\n",
      "  0.477  1.082  0.55   1.37   1.082  1.082  0.954  7.4    0.615  0.89\n",
      "  8.669  1.242  1.537  6.403  1.28   0.627  1.092  7.175  8.8    0.9\n",
      "  0.7    1.     0.8    1.33   0.9    0.212  0.212  0.683  0.6    0.633\n",
      "  0.55   1.72   1.6  ]\n",
      "40 Vitamin B6 [0.153 0.278 0.    0.19  0.305 0.    2.094 2.141 2.45  0.153 0.224 0.233\n",
      " 0.178 0.137 0.108 0.196 0.19  2.223 0.278 0.506 0.153 0.291 0.233 0.233\n",
      " 0.233 0.108 0.178 0.137 0.108 0.108 0.364 2.223 0.215 0.168 0.81  0.357\n",
      " 0.505 3.535 0.419 0.12  0.517 4.228 1.2   0.299 0.153 0.278 0.    0.19\n",
      " 0.    0.305]\n",
      "40 Choline [66.5 51.5 51.5  6.8  5.5  7.4  4.8 89.  11.1 10.9  6.8  5.6  7.4  5.8\n",
      "  5.8  4.3  3.8  3.8  6.1  6.3 84.3  7.4  8.9  7.5  7.7 29.7 36. ]\n",
      "40 Folic acid [0.01  0.023 0.052 0.035 0.088 0.    0.028 0.    0.028 0.028 0.049 0.\n",
      " 0.049 0.049 0.106 0.    0.106 0.106 0.01  0.    0.01  0.01  0.01  0.\n",
      " 0.01  0.01  0.016 0.    0.016 0.016 0.016 0.    0.016 0.016 0.014 0.\n",
      " 0.014 0.014 0.01  0.    0.01  0.01  0.002 0.002 0.014 0.    0.014 0.014\n",
      " 0.229 0.    0.229 0.229 0.023 0.    0.023 0.023 0.023 0.    0.023 0.023\n",
      " 0.01  0.    0.01  0.01  0.046 0.    0.046 0.046 0.016 0.    0.016 0.016\n",
      " 0.016 0.    0.016 0.016 0.016 0.    0.016 0.016 0.01  0.    0.01  0.01\n",
      " 0.016 0.    0.016 0.016 0.014 0.    0.014 0.014 0.01  0.    0.01  0.01\n",
      " 0.01  0.    0.01  0.01  0.002 0.    0.002 0.002 0.229 0.    0.229 0.229\n",
      " 0.006 0.    0.006 0.006 0.026 0.    0.026 0.026 0.051 0.    0.051 0.051\n",
      " 0.029 0.    0.029 0.029 0.023 0.    0.023 0.023 0.069 0.    0.069 0.069\n",
      " 0.027 0.    0.027 0.027 0.054 0.    0.054 0.054 0.053 0.    0.053 0.053\n",
      " 0.17  0.    0.17  0.17  0.15  0.038 0.01  0.023 0.    0.035 0.052 0.088]\n",
      "40 Vitamin B12, added [0. 0. 0. 0. 0. 0. 0.]\n",
      "246 Protein [13050. 13180.]\n",
      "246 Calcium, Ca [37. 35. 37.]\n",
      "246 Iron, Fe [2.57 2.59 2.57]\n",
      "246 Magnesium, Mg [130.]\n",
      "246 Phosphorus, P [358. 321. 358.]\n",
      "246 Potassium, K [332. 466. 332.]\n",
      "246 Sodium, Na [5. 2. 5.]\n",
      "246 Zinc, Zn [3.45 2.66 3.45]\n",
      "246 Copper, Cu [0.457 0.559 0.457]\n",
      "246 Thiamin [0.416 0.378 0.416]\n",
      "246 Riboflavin [0.134 0.132]\n",
      "246 Niacin [1.43 2.86 1.43]\n",
      "246 Vitamin B6 [0.138 0.403 0.138]\n",
      "246 Folic acid [7.3e-02 0.0e+00 7.3e-02 7.3e-02 7.4e-02 0.0e+00 7.4e-02 7.4e-02 0.0e+00\n",
      " 7.3e+01 7.3e+01 7.3e+01]\n"
     ]
    }
   ],
   "source": [
    "# Para cada alimento\n",
    "for food_id in table_data.keys():\n",
    "    # Guardar la tabla\n",
    "    with open(f'summary/foodTables_raw/{food_id}_{food_translate_dict[food_id]}.txt', \n",
    "              'w', encoding='utf8') as file:\n",
    "        for comp_name in table_data[food_id]:\n",
    "            if table_data[food_id][comp_name] != []:\n",
    "                print(food_id, comp_name, np.array(table_data[food_id][comp_name])[:,0].astype(float))\n",
    "                comp_value = np.mean(np.array(table_data[food_id][comp_name])[:,0].astype(float) / 1000 / 100)\n",
    "                file.write(f'{comp_name};{comp_value}\\n')"
   ]
  },
  {
   "cell_type": "code",
   "execution_count": 16,
   "id": "7913f0d6",
   "metadata": {
    "ExecuteTime": {
     "end_time": "2021-08-09T01:27:56.370412Z",
     "start_time": "2021-08-09T01:27:56.350402Z"
    },
    "scrolled": true
   },
   "outputs": [
    {
     "data": {
      "text/plain": [
       "{'Protein': [(4000.0, None, None, 'mg/100 g'),\n",
       "  (600.0, None, None, 'mg/100 g'),\n",
       "  (4000.0, None, None, 'mg/100 g')],\n",
       " 'Water': [],\n",
       " 'Caffeine': [(0.0, None, None, 'mg/100 g')],\n",
       " 'Sugars': [(0.0, None, None, 'mg/100 g')],\n",
       " 'Calcium, Ca': [(1002.0, None, None, 'mg/100 g'),\n",
       "  (1002.0, None, None, 'mg/100 g'),\n",
       "  (181.0, '903.0', '1265.0', 'mg/100 g')],\n",
       " 'Iron, Fe': [(8.32, None, None, 'mg/100 g'),\n",
       "  (8.32, None, None, 'mg/100 g'),\n",
       "  (8.595, '1.15', '18.34', 'mg/100 g')],\n",
       " 'Magnesium, Mg': [(20.0, '47.0', '87.0', 'mg/100 g')],\n",
       " 'Phosphorus, P': [(64.0, None, None, 'mg/100 g'),\n",
       "  (17.0, '49.0', '83.0', 'mg/100 g')],\n",
       " 'Potassium, K': [(431.0, None, None, 'mg/100 g'),\n",
       "  (431.0, None, None, 'mg/100 g'),\n",
       "  (104.0, '304.0', '512.0', 'mg/100 g')],\n",
       " 'Sodium, Na': [(10.0, None, None, 'mg/100 g'),\n",
       "  (10.0, None, None, 'mg/100 g'),\n",
       "  (8.0, '3.0', '19.0', 'mg/100 g')],\n",
       " 'Zinc, Zn': [(1.83, None, None, 'mg/100 g'),\n",
       "  (1.83, None, None, 'mg/100 g'),\n",
       "  (0.71, '1.34', '2.76', 'mg/100 g')],\n",
       " 'Copper, Cu': [(0.339, None, None, 'mg/100 g'),\n",
       "  (0.339, None, None, 'mg/100 g'),\n",
       "  (0.0565, '0.271', '0.384', 'mg/100 g')],\n",
       " 'Selenium, Se': [(0.0031, None, None, 'mg/100 g'),\n",
       "  (0.0031, None, None, 'mg/100 g'),\n",
       "  (1.7, '1.4', '4.8', 'mg/100 g')],\n",
       " 'Vitamin C': [],\n",
       " 'Thiamin': [(0.022, None, None, 'mg/100 g'),\n",
       "  (0.0075, '0.016', '0.031', 'mg/100 g')],\n",
       " 'Riboflavin': [(0.041, None, None, 'mg/100 g'),\n",
       "  (0.041, None, None, 'mg/100 g')],\n",
       " 'Niacin': [(1.33, None, None, 'mg/100 g'),\n",
       "  (0.0, None, None, 'mg/100 g'),\n",
       "  (1.33, None, None, 'mg/100 g'),\n",
       "  (1.33, None, None, 'mg/100 g'),\n",
       "  (0.4515, '0.877', '1.78', 'mg/100 g')],\n",
       " 'Vitamin B6': [(0.158, None, None, 'mg/100 g'),\n",
       "  (0.158, None, None, 'mg/100 g'),\n",
       "  (0.1565, '0.017', '0.33', 'mg/100 g')],\n",
       " 'Choline': [(11.0, None, None, 'mg/100 g')],\n",
       " 'Vitamin K': [],\n",
       " 'Folic acid': [(0.006, None, None, 'mg/100 g'),\n",
       "  (0.006, None, None, 'mg/100 g'),\n",
       "  (0.0, None, None, 'mg/100 g'),\n",
       "  (1.5, '5.0', '8.0', 'mg/100 g'),\n",
       "  (1.5, '5.0', '8.0', 'mg/100 g'),\n",
       "  (6.0, None, None, 'mg/100 g')],\n",
       " 'Vitamin B12, added': [(0.0, None, None, 'mg/100 g')]}"
      ]
     },
     "metadata": {},
     "output_type": "display_data"
    }
   ],
   "source": [
    "display(table_data[586])"
   ]
  },
  {
   "cell_type": "markdown",
   "id": "914de902",
   "metadata": {},
   "source": [
    "# Tablas a sacar\n",
    "\n",
    "Estas tablas en general no poseen mucha de la información relevante que se necesita, por lo cual no se considerará en el MVP0. "
   ]
  },
  {
   "cell_type": "code",
   "execution_count": 17,
   "id": "218f18ee",
   "metadata": {
    "ExecuteTime": {
     "end_time": "2021-08-09T01:27:57.562302Z",
     "start_time": "2021-08-09T01:27:57.551303Z"
    }
   },
   "outputs": [],
   "source": [
    "dont_consider = (109, 168, 219, 905, 947)"
   ]
  },
  {
   "cell_type": "markdown",
   "id": "92ecb285",
   "metadata": {},
   "source": [
    "# Filtrando las características que no aparezcan en todas las tablas"
   ]
  },
  {
   "cell_type": "code",
   "execution_count": 18,
   "id": "808a6e2d",
   "metadata": {
    "ExecuteTime": {
     "end_time": "2021-08-09T01:27:59.225869Z",
     "start_time": "2021-08-09T01:27:59.188212Z"
    },
    "code_folding": []
   },
   "outputs": [
    {
     "name": "stdout",
     "output_type": "stream",
     "text": [
      "['Protein', 'Calcium, Ca', 'Iron, Fe', 'Phosphorus, P', 'Potassium, K', 'Sodium, Na', 'Zinc, Zn', 'Copper, Cu', 'Thiamin', 'Riboflavin', 'Niacin', 'Vitamin B6', 'Folic acid']\n"
     ]
    }
   ],
   "source": [
    "# Definición de la lista de componentes finales a considerar\n",
    "compounds_mvp0 = [i[0] for i in compound_list_ID]\n",
    "\n",
    "for filename in os.listdir('summary/foodTables_raw'):\n",
    "    # Indice del alimento a revisar\n",
    "    index_to_rev = int(filename.split('_')[0])\n",
    "    \n",
    "    # Si es que la tabla es válida, se revisan sus campos\n",
    "    if not index_to_rev in dont_consider:\n",
    "        with open(f'summary/foodTables_raw/{filename}', 'r', encoding='utf8') as file:\n",
    "            # Definición de una lista auxiliar de los compuestos que contiene este alimento\n",
    "            aux_compounds = list()\n",
    "            \n",
    "            for line in file:\n",
    "                # Agregando los compuestos a la lista auxiliar\n",
    "                aux_compounds.append(line.split(';')[0])\n",
    "                \n",
    "            # Finalmente se actualiza la lista solo con los componentes que se encontraron\n",
    "            # en este alimento\n",
    "            compounds_mvp0 = [i for i in compounds_mvp0 if i in aux_compounds]\n",
    "            \n",
    "print(compounds_mvp0)"
   ]
  },
  {
   "cell_type": "markdown",
   "id": "c5571493",
   "metadata": {},
   "source": [
    "# Creación de tablas finales (filtradas por alimento sin información y componentes que no aparecen en todas las tablas)"
   ]
  },
  {
   "cell_type": "code",
   "execution_count": 19,
   "id": "26b7fcda",
   "metadata": {
    "ExecuteTime": {
     "end_time": "2021-08-09T01:28:00.180093Z",
     "start_time": "2021-08-09T01:28:00.159131Z"
    }
   },
   "outputs": [],
   "source": [
    "for filename in os.listdir('summary/foodTables_raw'):\n",
    "    # Indice del alimento a revisar\n",
    "    index_to_rev = int(filename.split('_')[0])\n",
    "    \n",
    "    # Si es que el alimento es válido, se revisan sus campos\n",
    "    if not index_to_rev in dont_consider:\n",
    "        with open(f'summary/foodTables_raw/{filename}', 'r', encoding='utf8') as file:\n",
    "            # Definición de una lista auxiliar de la información a agregar en la tabla definitiva\n",
    "            info_to_append = list()\n",
    "            \n",
    "            for line in file:\n",
    "                # Agregando los compuestos a la lista auxiliar\n",
    "                compound_to_rev = line.split(';')[0]\n",
    "                \n",
    "                # Si es que el compuesto es válido, se agrega a la lista de interés\n",
    "                if compound_to_rev in compounds_mvp0:\n",
    "                    info_to_append.append(line)\n",
    "            \n",
    "        # Finalmente, con toda la información recolectada, se escribe la tabla definitiva\n",
    "        with open(f'summary/foodTables/{filename}', 'w', encoding='utf8') as file:\n",
    "            file.writelines(info_to_append)"
   ]
  },
  {
   "cell_type": "markdown",
   "id": "51b1fc09",
   "metadata": {},
   "source": []
  }
 ],
 "metadata": {
  "kernelspec": {
   "display_name": "Python 3 (ipykernel)",
   "language": "python",
   "name": "python3"
  },
  "language_info": {
   "codemirror_mode": {
    "name": "ipython",
    "version": 3
   },
   "file_extension": ".py",
   "mimetype": "text/x-python",
   "name": "python",
   "nbconvert_exporter": "python",
   "pygments_lexer": "ipython3",
   "version": "3.8.7"
  },
  "varInspector": {
   "cols": {
    "lenName": 16,
    "lenType": 16,
    "lenVar": 40
   },
   "kernels_config": {
    "python": {
     "delete_cmd_postfix": "",
     "delete_cmd_prefix": "del ",
     "library": "var_list.py",
     "varRefreshCmd": "print(var_dic_list())"
    },
    "r": {
     "delete_cmd_postfix": ") ",
     "delete_cmd_prefix": "rm(",
     "library": "var_list.r",
     "varRefreshCmd": "cat(var_dic_list()) "
    }
   },
   "position": {
    "height": "320px",
    "left": "990px",
    "right": "20px",
    "top": "102px",
    "width": "511px"
   },
   "types_to_exclude": [
    "module",
    "function",
    "builtin_function_or_method",
    "instance",
    "_Feature"
   ],
   "window_display": false
  }
 },
 "nbformat": 4,
 "nbformat_minor": 5
}
