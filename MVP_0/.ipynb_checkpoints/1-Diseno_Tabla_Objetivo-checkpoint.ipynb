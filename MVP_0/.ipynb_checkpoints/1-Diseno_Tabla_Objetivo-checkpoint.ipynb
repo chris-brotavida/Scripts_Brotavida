{
 "cells": [
  {
   "cell_type": "markdown",
   "id": "39fe363a",
   "metadata": {},
   "source": [
    "# Imports y definiciones"
   ]
  },
  {
   "cell_type": "code",
   "execution_count": 1,
   "id": "9dd1e840",
   "metadata": {
    "ExecuteTime": {
     "end_time": "2021-08-05T20:45:49.933059Z",
     "start_time": "2021-08-05T20:45:49.603882Z"
    }
   },
   "outputs": [],
   "source": [
    "import os\n",
    "import json\n",
    "import numpy as np\n",
    "import pandas as pd\n",
    "from ast import literal_eval\n",
    "from collections import defaultdict"
   ]
  },
  {
   "cell_type": "markdown",
   "id": "9a40d2cd",
   "metadata": {},
   "source": [
    "# Revisión de componentes de las bebidas energéticas"
   ]
  },
  {
   "cell_type": "code",
   "execution_count": 2,
   "id": "eaeb18e8",
   "metadata": {
    "ExecuteTime": {
     "end_time": "2021-08-05T20:45:50.688070Z",
     "start_time": "2021-08-05T20:45:50.665166Z"
    },
    "code_folding": [
     5
    ],
    "scrolled": true
   },
   "outputs": [],
   "source": [
    "# Poblando el diccionario de información\n",
    "energyzer_fold = 'bebidas'\n",
    "energyzer_files = [f'{energyzer_fold}/{i}' for i in os.listdir(energyzer_fold)]\n",
    "energyzer_dict = defaultdict(list)\n",
    "\n",
    "for name in energyzer_files:\n",
    "    with open(name, 'r', encoding='utf8') as file:\n",
    "        value_total = 0\n",
    "        \n",
    "        # Obtener la dosis\n",
    "        dosis = file.readline().strip().split(';')\n",
    "        \n",
    "        # Saltar la primera linea\n",
    "        file.readline()\n",
    "        \n",
    "        # Agregar los nombres\n",
    "        energyzer_dict['\"Name\"'].append(name)\n",
    "        \n",
    "        # Modificando la dosis total\n",
    "        if dosis[1] == 'g':\n",
    "            dosis_total = float(dosis[0])\n",
    "        elif dosis[1] == 'mg':\n",
    "            dosis_total = float(dosis[0]) / 1e3\n",
    "        elif dosis[1] == 'ug':\n",
    "            dosis_total = float(dosis[0]) / 1e6\n",
    "        \n",
    "        # Agregando la dosis al registro\n",
    "        energyzer_dict['\"Size\"'].append(dosis_total)\n",
    "        \n",
    "        # Revisando los datos\n",
    "        for line in file:\n",
    "            data_line = line.strip().split(';')\n",
    "            \n",
    "            # Obtención del gramaje\n",
    "            gram_unit = data_line[2].lower()\n",
    "            \n",
    "            # Modificando el gramaje\n",
    "            if gram_unit == 'g':\n",
    "                value_to = float(data_line[1])\n",
    "            elif gram_unit == 'mg':\n",
    "                value_to = float(data_line[1]) / 1e3\n",
    "            elif gram_unit == 'ug':\n",
    "                value_to = float(data_line[1]) / 1e6\n",
    "            \n",
    "            # Normalizando por la dosis total\n",
    "            value_perc = value_to / dosis_total\n",
    "            \n",
    "            # Agregando al diccionario\n",
    "            energyzer_dict[data_line[0]].append(value_perc)"
   ]
  },
  {
   "cell_type": "code",
   "execution_count": 3,
   "id": "4a73c5a8",
   "metadata": {
    "ExecuteTime": {
     "end_time": "2021-08-05T20:45:51.171221Z",
     "start_time": "2021-08-05T20:45:51.156261Z"
    },
    "scrolled": true
   },
   "outputs": [],
   "source": [
    "# Definición de las componentes que aportan\n",
    "interest_compounds = list()\n",
    "\n",
    "for key in energyzer_dict.keys():\n",
    "    if key != '\"Name\"':\n",
    "        # Si es que al menos tiene algo que aportar, se agrega\n",
    "        if sum(energyzer_dict[key]) > 0:\n",
    "            interest_compounds.append(key)"
   ]
  },
  {
   "cell_type": "code",
   "execution_count": 4,
   "id": "4a693923",
   "metadata": {
    "ExecuteTime": {
     "end_time": "2021-08-05T20:45:51.546232Z",
     "start_time": "2021-08-05T20:45:51.530276Z"
    },
    "scrolled": true
   },
   "outputs": [
    {
     "data": {
      "text/plain": [
       "['\"Size\"',\n",
       " '\"Fat\"',\n",
       " '\"Protein\"',\n",
       " '\"Carbohydrate\"',\n",
       " '\"Water\"',\n",
       " '\"Caffeine\"',\n",
       " '\"Sugars\"',\n",
       " '\"Calcium, Ca\"',\n",
       " '\"Iron, Fe\"',\n",
       " '\"Magnesium, Mg\"',\n",
       " '\"Phosphorus, P\"',\n",
       " '\"Potassium, K\"',\n",
       " '\"Sodium, Na\"',\n",
       " '\"Zinc, Zn\"',\n",
       " '\"Copper, Cu\"',\n",
       " '\"Selenium, Se\"',\n",
       " '\"Vitamin C\"',\n",
       " '\"Thiamin\"',\n",
       " '\"Riboflavin\"',\n",
       " '\"Niacin\"',\n",
       " '\"Vitamin B6\"',\n",
       " '\"Folate\"',\n",
       " '\"Vitamin B12\"',\n",
       " '\"Choline\"',\n",
       " '\"Vitamin K\"',\n",
       " '\"Folic acid\"',\n",
       " '\"Folate, DFE\"',\n",
       " '\"Vitamin B12, added\"',\n",
       " '\"Net carbs\"']"
      ]
     },
     "execution_count": 4,
     "metadata": {},
     "output_type": "execute_result"
    }
   ],
   "source": [
    "interest_compounds"
   ]
  },
  {
   "cell_type": "markdown",
   "id": "bc4eec7d",
   "metadata": {},
   "source": [
    "# Obtener macro categorías para eliminarlas"
   ]
  },
  {
   "cell_type": "code",
   "execution_count": 5,
   "id": "ce534391",
   "metadata": {
    "ExecuteTime": {
     "end_time": "2021-08-05T20:45:52.360265Z",
     "start_time": "2021-08-05T20:45:52.349414Z"
    }
   },
   "outputs": [
    {
     "name": "stdout",
     "output_type": "stream",
     "text": [
      "{'Folate', 'Vitamin E (alpha-tocopherol)', 'Saturated fatty acids', 'Folate, DFE', 'Net carbs', '-', 'Vitamin A, RAE', 'Vitamin B12', 'Fat', 'Monounsaturated fatty acids', 'Carbohydrate'}\n"
     ]
    }
   ],
   "source": [
    "macro_categories = set()\n",
    "with open('bebidas/energy_drink.csv', 'r', encoding='utf8') as file:\n",
    "    # Saltarse las 2 primeras líneas\n",
    "    file.readline()\n",
    "    file.readline()\n",
    "    \n",
    "    for line in file:\n",
    "        info_to_append = line.strip().split(';')[-2:]\n",
    "        macro_categories.add(info_to_append[0])\n",
    "        macro_categories.add(info_to_append[1])\n",
    "        \n",
    "# Se agregan los net carbs porque son un resumen de los carbohidratos\n",
    "macro_categories.add('Net carbs')\n",
    "macro_categories.add('Carbohydrate')\n",
    "\n",
    "# Se agregan los folatos, porque es lo mismo que acido fólico\n",
    "macro_categories.add('Folate')\n",
    "print(macro_categories)"
   ]
  },
  {
   "cell_type": "markdown",
   "id": "0b196916",
   "metadata": {},
   "source": [
    "# Obtener los códigos de los componentes de interés"
   ]
  },
  {
   "cell_type": "code",
   "execution_count": 6,
   "id": "06c7a2c2",
   "metadata": {
    "ExecuteTime": {
     "end_time": "2021-08-05T20:45:53.850002Z",
     "start_time": "2021-08-05T20:45:53.494668Z"
    }
   },
   "outputs": [],
   "source": [
    "# Lectura del excel de codificación de las componentes\n",
    "code_data = pd.read_excel('drink_comps_codes.xlsx')\n",
    "\n",
    "# Limpiar los datos del archivo antes de partir\n",
    "with open('interest_drink_comps_codes.csv', 'w', encoding='utf8') as file:\n",
    "    pass\n",
    "\n",
    "for i in range(code_data.shape[0]):\n",
    "    if (f'\\\"{code_data[\"Nombre del componente\"][i]}\\\"' in interest_compounds\n",
    "        and code_data[\"Nombre del componente\"][i] not in macro_categories):\n",
    "        with open('interest_drink_comps_codes.csv', 'a', encoding='utf8') as file:\n",
    "            file.write(code_data.loc[[i]].to_csv(sep=';', header=False, index=False).strip())\n",
    "            file.write('\\n')"
   ]
  },
  {
   "cell_type": "markdown",
   "id": "37ba075f",
   "metadata": {},
   "source": [
    "# Filtro de componentes de interés"
   ]
  },
  {
   "cell_type": "code",
   "execution_count": 7,
   "id": "d586d342",
   "metadata": {
    "ExecuteTime": {
     "end_time": "2021-08-05T20:45:54.724477Z",
     "start_time": "2021-08-05T20:45:54.707488Z"
    }
   },
   "outputs": [],
   "source": [
    "# Definición del diccionario de salida\n",
    "interest_energyzer_dict = dict()\n",
    "\n",
    "# Definición de los parámetros de interés\n",
    "interest_keys = list()\n",
    "\n",
    "with open('interest_drink_comps_codes.csv', 'r', encoding='utf8') as file:\n",
    "    for line in file:\n",
    "        interest_keys.append(f'\\\"{line.strip().split(\";\")[0]}\\\"')\n",
    "\n",
    "# Para cada key, revisar si es que está en la lista y agregarlo al diccionario\n",
    "# de interés\n",
    "for key in energyzer_dict.keys():\n",
    "    if key in ['\"Name\"', '\"Size\"'] or key in interest_keys:\n",
    "        interest_energyzer_dict[key] = energyzer_dict[key]"
   ]
  },
  {
   "cell_type": "markdown",
   "id": "4b01cd22",
   "metadata": {},
   "source": [
    "# Test de sanidad para gramajes por bebida"
   ]
  },
  {
   "cell_type": "code",
   "execution_count": 8,
   "id": "1680cc4e",
   "metadata": {
    "ExecuteTime": {
     "end_time": "2021-08-05T20:45:55.597436Z",
     "start_time": "2021-08-05T20:45:55.587461Z"
    },
    "scrolled": false
   },
   "outputs": [
    {
     "name": "stdout",
     "output_type": "stream",
     "text": [
      "bebidas/energy_drink.csv 1.0001171748387099\n",
      "bebidas/energy_drink_full_throttle.csv 0.9971819883870967\n",
      "bebidas/energy_drink_monster.csv 0.996079283870968\n",
      "bebidas/energy_drink_mountain_dew_amp.csv 0.9972590506854838\n",
      "bebidas/energy_drink_nos.csv 0.9982144846774194\n",
      "bebidas/energy_drink_no_fear.csv 0.9881215502419353\n",
      "bebidas/energy_drink_no_fear_motherload.csv 0.9881215502419353\n",
      "bebidas/energy_drink_ocean_spray_cranenergy_juice_drink.csv 1.0000881504032255\n",
      "bebidas/energy_drink_red_bull.csv 1.0001171748387099\n",
      "bebidas/energy_drink_rockstar.csv 0.9974657514112905\n",
      "bebidas/energy_drink_sobe_energize_energy_juice_drink.csv 0.9893096774193548\n",
      "bebidas/energy_drink_vault.csv 0.9976112157258066\n",
      "bebidas/energy_drink_xs.csv 0.9874392880645161\n",
      "bebidas/energy_drink_xs_gold_plus.csv 0.9874392880645161\n"
     ]
    }
   ],
   "source": [
    "for num, name in enumerate(interest_energyzer_dict['\"Name\"']):\n",
    "    keys_to_rev = list(interest_energyzer_dict.keys())[2:]\n",
    "#     print(keys_to_rev)\n",
    "    \n",
    "    # Cantidad de gramos por componentes\n",
    "    grams_drink = 0\n",
    "    \n",
    "    for key in keys_to_rev:\n",
    "        grams_drink += interest_energyzer_dict[key][num]\n",
    "        \n",
    "    print(name, grams_drink)"
   ]
  },
  {
   "cell_type": "markdown",
   "id": "a633963a",
   "metadata": {},
   "source": [
    "## OJO\n",
    "\n",
    "La suma de la masa de los componentes no dan exactos con la porción total a analizar. \n",
    "**Por revisar si es que hay componentes que se forman como suma de otros.**"
   ]
  },
  {
   "cell_type": "markdown",
   "id": "5d5fbb36",
   "metadata": {},
   "source": [
    "# Registro en archivo"
   ]
  },
  {
   "cell_type": "code",
   "execution_count": 9,
   "id": "fe7363bd",
   "metadata": {
    "ExecuteTime": {
     "end_time": "2021-08-05T20:45:56.878044Z",
     "start_time": "2021-08-05T20:45:56.866044Z"
    },
    "scrolled": true
   },
   "outputs": [],
   "source": [
    "with open('summary/summary_drinks_dict.txt', 'w', encoding='utf8') as file:\n",
    "    file.write(str(interest_energyzer_dict))"
   ]
  },
  {
   "cell_type": "markdown",
   "id": "c852adf2",
   "metadata": {},
   "source": [
    "# Definición de la tabla objetivo"
   ]
  },
  {
   "cell_type": "code",
   "execution_count": 10,
   "id": "450ec51f",
   "metadata": {
    "ExecuteTime": {
     "end_time": "2021-08-05T20:45:57.778732Z",
     "start_time": "2021-08-05T20:45:57.740179Z"
    },
    "scrolled": true
   },
   "outputs": [],
   "source": [
    "with open('summary/objective_table.csv', 'w', encoding='utf8') as file:\n",
    "    file.write('Compound;proportion\\n')\n",
    "    \n",
    "    for key in interest_energyzer_dict.keys():\n",
    "        if key not in ['\"Name\"', '\"Size\"']:\n",
    "            mean_value = np.mean(interest_energyzer_dict[key])\n",
    "            file.write(f'{key};{mean_value}\\n')"
   ]
  },
  {
   "cell_type": "code",
   "execution_count": null,
   "id": "ba00e680",
   "metadata": {},
   "outputs": [],
   "source": []
  }
 ],
 "metadata": {
  "kernelspec": {
   "display_name": "Python 3 (ipykernel)",
   "language": "python",
   "name": "python3"
  },
  "language_info": {
   "codemirror_mode": {
    "name": "ipython",
    "version": 3
   },
   "file_extension": ".py",
   "mimetype": "text/x-python",
   "name": "python",
   "nbconvert_exporter": "python",
   "pygments_lexer": "ipython3",
   "version": "3.8.7"
  },
  "varInspector": {
   "cols": {
    "lenName": 16,
    "lenType": 16,
    "lenVar": 40
   },
   "kernels_config": {
    "python": {
     "delete_cmd_postfix": "",
     "delete_cmd_prefix": "del ",
     "library": "var_list.py",
     "varRefreshCmd": "print(var_dic_list())"
    },
    "r": {
     "delete_cmd_postfix": ") ",
     "delete_cmd_prefix": "rm(",
     "library": "var_list.r",
     "varRefreshCmd": "cat(var_dic_list()) "
    }
   },
   "types_to_exclude": [
    "module",
    "function",
    "builtin_function_or_method",
    "instance",
    "_Feature"
   ],
   "window_display": false
  }
 },
 "nbformat": 4,
 "nbformat_minor": 5
}
