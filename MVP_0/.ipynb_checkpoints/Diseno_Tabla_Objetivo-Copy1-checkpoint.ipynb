{
 "cells": [
  {
   "cell_type": "markdown",
   "id": "a9ab50ee",
   "metadata": {},
   "source": [
    "# Imports y definiciones"
   ]
  },
  {
   "cell_type": "code",
   "execution_count": 27,
   "id": "9dd1e840",
   "metadata": {
    "ExecuteTime": {
     "end_time": "2021-08-05T19:21:09.520273Z",
     "start_time": "2021-08-05T19:21:09.507563Z"
    }
   },
   "outputs": [],
   "source": [
    "import os\n",
    "import json\n",
    "import numpy as np\n",
    "import pandas as pd\n",
    "from ast import literal_eval\n",
    "from collections import defaultdict"
   ]
  },
  {
   "cell_type": "code",
   "execution_count": 2,
   "id": "802342e6",
   "metadata": {
    "ExecuteTime": {
     "end_time": "2021-08-05T18:50:01.255403Z",
     "start_time": "2021-08-05T18:50:01.234461Z"
    }
   },
   "outputs": [
    {
     "data": {
      "text/plain": [
       "['foodb_2020_04_07_csv',\n",
       " 'foodb_2020_04_07_json',\n",
       " 'foodb_server_dump_2020_4_21.sql',\n",
       " 'FoodData_Central_foundation_food_csv_2021-04-28']"
      ]
     },
     "metadata": {},
     "output_type": "display_data"
    }
   ],
   "source": [
    "databases = 'C:/Users/Chris-Brota/Desktop/Databases'\n",
    "display(os.listdir(databases))\n",
    "\n",
    "# Se elige el JSON\n",
    "db = f'{databases}/{os.listdir(databases)[1]}'"
   ]
  },
  {
   "cell_type": "markdown",
   "id": "9a40d2cd",
   "metadata": {},
   "source": [
    "# Revisión de componentes de las bebidas energéticas"
   ]
  },
  {
   "cell_type": "code",
   "execution_count": 3,
   "id": "eaeb18e8",
   "metadata": {
    "ExecuteTime": {
     "end_time": "2021-08-05T18:50:02.111533Z",
     "start_time": "2021-08-05T18:50:02.087541Z"
    },
    "code_folding": [
     5
    ],
    "scrolled": true
   },
   "outputs": [],
   "source": [
    "# Poblando el diccionario de información\n",
    "energyzer_fold = 'bebidas'\n",
    "energyzer_files = [f'{energyzer_fold}/{i}' for i in os.listdir(energyzer_fold)]\n",
    "energyzer_dict = defaultdict(list)\n",
    "\n",
    "for name in energyzer_files:\n",
    "    with open(name, 'r', encoding='utf8') as file:\n",
    "        value_total = 0\n",
    "        \n",
    "        # Obtener la dosis\n",
    "        dosis = file.readline().strip().split(';')\n",
    "        \n",
    "        # Saltar la primera linea\n",
    "        file.readline()\n",
    "        \n",
    "        # Agregar los nombres\n",
    "        energyzer_dict['\"Name\"'].append(name)\n",
    "        \n",
    "        # Modificando la dosis total\n",
    "        if dosis[1] == 'g':\n",
    "            dosis_total = float(dosis[0])\n",
    "        elif dosis[1] == 'mg':\n",
    "            dosis_total = float(dosis[0]) / 1e3\n",
    "        elif dosis[1] == 'ug':\n",
    "            dosis_total = float(dosis[0]) / 1e6\n",
    "        \n",
    "        # Agregando la dosis al registro\n",
    "        energyzer_dict['\"Size\"'].append(dosis_total)\n",
    "        \n",
    "        # Revisando los datos\n",
    "        for line in file:\n",
    "            data_line = line.strip().split(';')\n",
    "            \n",
    "            # Obtención del gramaje\n",
    "            gram_unit = data_line[2].lower()\n",
    "            \n",
    "            # Modificando el gramaje\n",
    "            if gram_unit == 'g':\n",
    "                value_to = float(data_line[1])\n",
    "            elif gram_unit == 'mg':\n",
    "                value_to = float(data_line[1]) / 1e3\n",
    "            elif gram_unit == 'ug':\n",
    "                value_to = float(data_line[1]) / 1e6\n",
    "            \n",
    "            # Normalizando por la dosis total\n",
    "            value_perc = value_to / dosis_total\n",
    "            \n",
    "            # Agregando al diccionario\n",
    "            energyzer_dict[data_line[0]].append(value_perc)"
   ]
  },
  {
   "cell_type": "code",
   "execution_count": 4,
   "id": "4a73c5a8",
   "metadata": {
    "ExecuteTime": {
     "end_time": "2021-08-05T18:50:02.673101Z",
     "start_time": "2021-08-05T18:50:02.662130Z"
    },
    "scrolled": true
   },
   "outputs": [],
   "source": [
    "# Definición de las componentes que aportan\n",
    "interest_compounds = list()\n",
    "\n",
    "for key in energyzer_dict.keys():\n",
    "    if key != '\"Name\"':\n",
    "        # Si es que al menos tiene algo que aportar, se agrega\n",
    "        if sum(energyzer_dict[key]) > 0:\n",
    "            interest_compounds.append(key)"
   ]
  },
  {
   "cell_type": "code",
   "execution_count": 5,
   "id": "d6fbfc18",
   "metadata": {
    "ExecuteTime": {
     "end_time": "2021-08-05T18:50:03.261023Z",
     "start_time": "2021-08-05T18:50:03.252047Z"
    },
    "scrolled": true
   },
   "outputs": [
    {
     "data": {
      "text/plain": [
       "['\"Size\"',\n",
       " '\"Fat\"',\n",
       " '\"Protein\"',\n",
       " '\"Carbohydrate\"',\n",
       " '\"Water\"',\n",
       " '\"Caffeine\"',\n",
       " '\"Sugars\"',\n",
       " '\"Calcium, Ca\"',\n",
       " '\"Iron, Fe\"',\n",
       " '\"Magnesium, Mg\"',\n",
       " '\"Phosphorus, P\"',\n",
       " '\"Potassium, K\"',\n",
       " '\"Sodium, Na\"',\n",
       " '\"Zinc, Zn\"',\n",
       " '\"Copper, Cu\"',\n",
       " '\"Selenium, Se\"',\n",
       " '\"Vitamin C\"',\n",
       " '\"Thiamin\"',\n",
       " '\"Riboflavin\"',\n",
       " '\"Niacin\"',\n",
       " '\"Vitamin B6\"',\n",
       " '\"Folate\"',\n",
       " '\"Vitamin B12\"',\n",
       " '\"Choline\"',\n",
       " '\"Vitamin K\"',\n",
       " '\"Folic acid\"',\n",
       " '\"Folate, DFE\"',\n",
       " '\"Vitamin B12, added\"',\n",
       " '\"Net carbs\"']"
      ]
     },
     "execution_count": 5,
     "metadata": {},
     "output_type": "execute_result"
    }
   ],
   "source": [
    "interest_compounds"
   ]
  },
  {
   "cell_type": "markdown",
   "id": "55ab84a7",
   "metadata": {},
   "source": [
    "# Obtener macro categorías para eliminarlas"
   ]
  },
  {
   "cell_type": "code",
   "execution_count": 6,
   "id": "33d47037",
   "metadata": {
    "ExecuteTime": {
     "end_time": "2021-08-05T18:50:04.348574Z",
     "start_time": "2021-08-05T18:50:04.340566Z"
    }
   },
   "outputs": [
    {
     "name": "stdout",
     "output_type": "stream",
     "text": [
      "{'Vitamin E (alpha-tocopherol)', 'Fat', 'Monounsaturated fatty acids', 'Vitamin A, RAE', 'Vitamin B12', '-', 'Saturated fatty acids', 'Folate, DFE', 'Net carbs', 'Carbohydrate'}\n"
     ]
    }
   ],
   "source": [
    "macro_categories = set()\n",
    "with open('bebidas/energy_drink.csv', 'r', encoding='utf8') as file:\n",
    "    # Saltarse las 2 primeras líneas\n",
    "    file.readline()\n",
    "    file.readline()\n",
    "    \n",
    "    for line in file:\n",
    "        info_to_append = line.strip().split(';')[-2:]\n",
    "        macro_categories.add(info_to_append[0])\n",
    "        macro_categories.add(info_to_append[1])\n",
    "        \n",
    "# Se agregan los net carbs porque son un resumen de los carbohidratos\n",
    "macro_categories.add('Net carbs')\n",
    "macro_categories.add('Carbohydrate')\n",
    "print(macro_categories)"
   ]
  },
  {
   "cell_type": "markdown",
   "id": "4b378ceb",
   "metadata": {},
   "source": [
    "# Obtener los códigos de los componentes de interés"
   ]
  },
  {
   "cell_type": "code",
   "execution_count": 7,
   "id": "70e14f27",
   "metadata": {
    "ExecuteTime": {
     "end_time": "2021-08-05T18:50:05.595356Z",
     "start_time": "2021-08-05T18:50:05.298529Z"
    }
   },
   "outputs": [],
   "source": [
    "# Lectura del excel de codificación de las componentes\n",
    "code_data = pd.read_excel('drink_comps_codes.xlsx')\n",
    "\n",
    "# Limpiar los datos del archivo antes de partir\n",
    "with open('interest_drink_comps_codes.csv', 'w', encoding='utf8') as file:\n",
    "    pass\n",
    "\n",
    "for i in range(code_data.shape[0]):\n",
    "    if (f'\\\"{code_data[\"Nombre del componente\"][i]}\\\"' in interest_compounds\n",
    "        and code_data[\"Nombre del componente\"][i] not in macro_categories):\n",
    "        with open('interest_drink_comps_codes.csv', 'a', encoding='utf8') as file:\n",
    "            file.write(code_data.loc[[i]].to_csv(sep=';', header=False, index=False).strip())\n",
    "            file.write('\\n')"
   ]
  },
  {
   "cell_type": "markdown",
   "id": "54341f12",
   "metadata": {},
   "source": [
    "# Filtro de componentes de interés"
   ]
  },
  {
   "cell_type": "code",
   "execution_count": 9,
   "id": "f71497f1",
   "metadata": {
    "ExecuteTime": {
     "end_time": "2021-08-05T18:50:31.956235Z",
     "start_time": "2021-08-05T18:50:31.940278Z"
    }
   },
   "outputs": [],
   "source": [
    "# Definición del diccionario de salida\n",
    "interest_energyzer_dict = dict()\n",
    "\n",
    "# Definición de los parámetros de interés\n",
    "interest_keys = list()\n",
    "\n",
    "with open('interest_drink_comps_codes.csv', 'r', encoding='utf8') as file:\n",
    "    for line in file:\n",
    "        interest_keys.append(f'\\\"{line.strip().split(\";\")[0]}\\\"')\n",
    "\n",
    "# Para cada key, revisar si es que está en la lista y agregarlo al diccionario\n",
    "# de interés\n",
    "for key in energyzer_dict.keys():\n",
    "    if key in ['\"Name\"', '\"Size\"'] or key in interest_keys:\n",
    "        interest_energyzer_dict[key] = energyzer_dict[key]"
   ]
  },
  {
   "cell_type": "markdown",
   "id": "f5e45371",
   "metadata": {},
   "source": [
    "# Test de sanidad para gramajes por bebida"
   ]
  },
  {
   "cell_type": "code",
   "execution_count": 11,
   "id": "acd1943b",
   "metadata": {
    "ExecuteTime": {
     "end_time": "2021-08-05T18:50:43.141521Z",
     "start_time": "2021-08-05T18:50:43.130551Z"
    },
    "scrolled": false
   },
   "outputs": [
    {
     "name": "stdout",
     "output_type": "stream",
     "text": [
      "bebidas/energy_drink.csv 1.0001171748387099\n",
      "bebidas/energy_drink_full_throttle.csv 0.9971819883870967\n",
      "bebidas/energy_drink_monster.csv 0.996079283870968\n",
      "bebidas/energy_drink_mountain_dew_amp.csv 0.9972590506854838\n",
      "bebidas/energy_drink_nos.csv 0.9982144846774194\n",
      "bebidas/energy_drink_no_fear.csv 0.9881232202419352\n",
      "bebidas/energy_drink_no_fear_motherload.csv 0.9881232202419352\n",
      "bebidas/energy_drink_ocean_spray_cranenergy_juice_drink.csv 1.0000881504032255\n",
      "bebidas/energy_drink_red_bull.csv 1.0001171748387099\n",
      "bebidas/energy_drink_rockstar.csv 0.9974657514112905\n",
      "bebidas/energy_drink_sobe_energize_energy_juice_drink.csv 0.9893096774193548\n",
      "bebidas/energy_drink_vault.csv 0.9976112157258066\n",
      "bebidas/energy_drink_xs.csv 0.9874392880645161\n",
      "bebidas/energy_drink_xs_gold_plus.csv 0.9874392880645161\n"
     ]
    }
   ],
   "source": [
    "for num, name in enumerate(interest_energyzer_dict['\"Name\"']):\n",
    "    keys_to_rev = list(interest_energyzer_dict.keys())[2:]\n",
    "#     print(keys_to_rev)\n",
    "    \n",
    "    # Cantidad de gramos por componentes\n",
    "    grams_drink = 0\n",
    "    \n",
    "    for key in keys_to_rev:\n",
    "        grams_drink += interest_energyzer_dict[key][num]\n",
    "        \n",
    "    print(name, grams_drink)"
   ]
  },
  {
   "cell_type": "markdown",
   "id": "8d9e8a6d",
   "metadata": {},
   "source": [
    "## OJO\n",
    "\n",
    "La suma de la masa de los componentes no dan exactos con la porción total a analizar. \n",
    "**Por revisar si es que hay componentes que se forman como suma de otros.**"
   ]
  },
  {
   "cell_type": "markdown",
   "id": "9eb936c8",
   "metadata": {},
   "source": [
    "# Registro en archivo"
   ]
  },
  {
   "cell_type": "code",
   "execution_count": 25,
   "id": "94ab7372",
   "metadata": {
    "ExecuteTime": {
     "end_time": "2021-08-05T18:58:25.797365Z",
     "start_time": "2021-08-05T18:58:25.790419Z"
    },
    "scrolled": true
   },
   "outputs": [],
   "source": [
    "with open('results/summary_drinks_dict.txt', 'w', encoding='utf8') as file:\n",
    "    file.write(str(interest_energyzer_dict))"
   ]
  },
  {
   "cell_type": "markdown",
   "id": "93607f10",
   "metadata": {},
   "source": [
    "# Definición de la tabla objetivo"
   ]
  },
  {
   "cell_type": "code",
   "execution_count": 30,
   "id": "39b8d0bb",
   "metadata": {
    "ExecuteTime": {
     "end_time": "2021-08-05T19:23:02.593179Z",
     "start_time": "2021-08-05T19:23:02.565651Z"
    },
    "scrolled": true
   },
   "outputs": [],
   "source": [
    "with open('results/objective_table.csv', 'w', encoding='utf8') as file:\n",
    "    file.write('Compound;proportion\\n')\n",
    "    \n",
    "    for key in interest_energyzer_dict.keys():\n",
    "        if key not in ['\"Name\"', '\"Size\"']:\n",
    "            mean_value = np.mean(interest_energyzer_dict[key])\n",
    "            file.write(f'{key};{mean_value}\\n')"
   ]
  },
  {
   "cell_type": "markdown",
   "id": "2ccd729a",
   "metadata": {},
   "source": [
    "# Búsqueda de alimentos energéticos por descripción"
   ]
  },
  {
   "cell_type": "code",
   "execution_count": 16,
   "id": "3195ae3c",
   "metadata": {
    "ExecuteTime": {
     "end_time": "2021-08-05T18:52:30.546794Z",
     "start_time": "2021-08-05T18:52:30.518547Z"
    }
   },
   "outputs": [],
   "source": [
    "with open(f'{db}/Food.json', 'r', encoding='utf8') as file:\n",
    "    # Definición de la lista de alimentos energéticos \n",
    "    energetic_foods = list()\n",
    "    \n",
    "    keyword = 'energ'\n",
    "    \n",
    "    # Para cada línea en el archivo\n",
    "    for line in file:\n",
    "        data = json.loads(line.strip())\n",
    "        \n",
    "        if data['description'] is not None:\n",
    "            if keyword in data['description']:\n",
    "                energetic_foods.append((data['id'], data['name'], data['public_id']))"
   ]
  },
  {
   "cell_type": "code",
   "execution_count": 17,
   "id": "9763197c",
   "metadata": {
    "ExecuteTime": {
     "end_time": "2021-08-05T18:52:30.749800Z",
     "start_time": "2021-08-05T18:52:30.743849Z"
    }
   },
   "outputs": [
    {
     "data": {
      "text/plain": [
       "[(246, 'Triticale', 'FOOD00246'),\n",
       " (670, 'Sugar', 'FOOD00651'),\n",
       " (676, 'Sugar substitute', 'FOOD00656'),\n",
       " (727, 'Energy drink', 'FOOD00703'),\n",
       " (779, 'Nutritional drink', 'FOOD00754'),\n",
       " (848, 'Trail mix', 'FOOD00819'),\n",
       " (893, 'Milk and milk products', 'FOOD00863'),\n",
       " (905, 'Root vegetables', 'FOOD00873'),\n",
       " (947, 'Guarana', 'FOOD00915'),\n",
       " (982, 'Cottage cheese', 'FOOD00950')]"
      ]
     },
     "execution_count": 17,
     "metadata": {},
     "output_type": "execute_result"
    }
   ],
   "source": [
    "energetic_foods"
   ]
  },
  {
   "cell_type": "code",
   "execution_count": 18,
   "id": "26eb3ca6",
   "metadata": {
    "ExecuteTime": {
     "end_time": "2021-08-05T18:52:30.999853Z",
     "start_time": "2021-08-05T18:52:30.981935Z"
    }
   },
   "outputs": [],
   "source": [
    "energetic_list = ['FOOD00336', 'FOOD00336', 'FOOD00168', 'FOOD00058', 'FOOD00572', \n",
    "                  'FOOD00068', 'FOOD00367', 'FOOD00219', 'FOOD00723', 'FOOD00206', \n",
    "                  'FOOD00555', 'FOOD00109', 'FOOD00379', 'FOOD00159', 'FOOD00647', \n",
    "                  'FOOD00165', 'FOOD00548', 'FOOD00183', 'FOOD00040']\n",
    "\n",
    "# Agregando las encontradas anteriormente\n",
    "energetic_list.extend(['FOOD00246', 'FOOD00873', 'FOOD00915'])"
   ]
  },
  {
   "cell_type": "markdown",
   "id": "e3084433",
   "metadata": {
    "ExecuteTime": {
     "end_time": "2021-08-02T20:06:07.110872Z",
     "start_time": "2021-08-02T20:06:07.091911Z"
    }
   },
   "source": [
    "# Búsqueda de alimentos energéticos por nutrientes o principios activos"
   ]
  },
  {
   "cell_type": "code",
   "execution_count": 19,
   "id": "031a5ca1",
   "metadata": {
    "ExecuteTime": {
     "end_time": "2021-08-05T18:52:31.590109Z",
     "start_time": "2021-08-05T18:52:31.586120Z"
    }
   },
   "outputs": [],
   "source": [
    "# Definición de la lista de componentes\n",
    "compound = ['FDB003010', 'FDB009020', 'FDB000571', 'FDB016592', 'FDB013228', 'FDB012292', \n",
    "            'FDB014504', 'FDB001108', 'FDB023903', 'FDB016251', 'FDB000572', 'FDB012738', \n",
    "            'FDB013567', 'FDB003518', 'FDB024414', 'FDB003521', 'FDB031212', 'FDB011795', \n",
    "            'FDB003523', 'FDB003191', 'FDB000455', 'FDB000453', 'FDB014601', 'FDB014797', \n",
    "            'FDB002251', 'FDB022939', 'FDB001014', 'FDB000574', 'FDB017534', 'FDB023125', \n",
    "            'FDB001977', 'FDB003729']"
   ]
  },
  {
   "cell_type": "code",
   "execution_count": 20,
   "id": "5f5e6e62",
   "metadata": {
    "ExecuteTime": {
     "end_time": "2021-08-05T18:52:32.700385Z",
     "start_time": "2021-08-05T18:52:32.135502Z"
    }
   },
   "outputs": [],
   "source": [
    "# Pasando a número\n",
    "with open(f'{db}/Compound.json', 'r', encoding='utf8') as file:\n",
    "    # Definición de la lista de las componentes\n",
    "    compound_num = list()\n",
    "    \n",
    "    # Para cada línea en el archivo\n",
    "    for line in file:\n",
    "        data = json.loads(line.strip())\n",
    "        \n",
    "        if data['public_id'] in compound:\n",
    "            compound_num.append((data['id'], data['public_id']))"
   ]
  },
  {
   "cell_type": "code",
   "execution_count": 21,
   "id": "b6559f19",
   "metadata": {
    "ExecuteTime": {
     "end_time": "2021-08-05T18:52:32.824783Z",
     "start_time": "2021-08-05T18:52:32.810820Z"
    },
    "scrolled": true
   },
   "outputs": [
    {
     "name": "stdout",
     "output_type": "stream",
     "text": [
      "[453, 455, 571, 572, 574, 1014, 1108, 1977, 2251, 3011, 3192, 3522, 3524, 3730, 9021, 11798, 12295, 12741, 13231, 13570, 14507, 14604, 14800, 16258, 16599, 17541, 23102, 23288, 24066, 24577, 31375]\n"
     ]
    }
   ],
   "source": [
    "comp_only_num = [i[0] for i in compound_num]\n",
    "print(comp_only_num)"
   ]
  },
  {
   "cell_type": "code",
   "execution_count": 22,
   "id": "e23ad016",
   "metadata": {
    "ExecuteTime": {
     "end_time": "2021-08-05T18:53:15.396013Z",
     "start_time": "2021-08-05T18:52:34.360432Z"
    }
   },
   "outputs": [],
   "source": [
    "energetic_list_ppo = list()\n",
    "\n",
    "# Revisando ahora en la base de contenidos\n",
    "with open(f'{db}/Content.json', 'r', encoding='utf8') as file:\n",
    "    # Definición de la lista de alimentos energéticos \n",
    "    energetic_foods_num = list()\n",
    "    \n",
    "#     i = 0\n",
    "    # Para cada línea en el archivo\n",
    "    for line in file:\n",
    "        data = json.loads(line.strip())\n",
    "        \n",
    "#         print(data)\n",
    "#         i+=1\n",
    "#         if i > 1:\n",
    "#             break\n",
    "            \n",
    "        if data['source_id'] in comp_only_num:\n",
    "            energetic_foods_num.append(data['food_id'])"
   ]
  },
  {
   "cell_type": "code",
   "execution_count": 94,
   "id": "65f4ac19",
   "metadata": {
    "ExecuteTime": {
     "end_time": "2021-08-02T22:23:11.533798Z",
     "start_time": "2021-08-02T22:23:11.511858Z"
    }
   },
   "outputs": [
    {
     "data": {
      "text/plain": [
       "967"
      ]
     },
     "execution_count": 94,
     "metadata": {},
     "output_type": "execute_result"
    }
   ],
   "source": [
    "len(set(energetic_foods_num))"
   ]
  },
  {
   "cell_type": "markdown",
   "id": "64e5db00",
   "metadata": {},
   "source": [
    "# Obtener las tablas de cada alimento"
   ]
  },
  {
   "cell_type": "code",
   "execution_count": null,
   "id": "3be89358",
   "metadata": {},
   "outputs": [],
   "source": []
  },
  {
   "cell_type": "code",
   "execution_count": null,
   "id": "ba00e680",
   "metadata": {},
   "outputs": [],
   "source": []
  }
 ],
 "metadata": {
  "kernelspec": {
   "display_name": "Python 3 (ipykernel)",
   "language": "python",
   "name": "python3"
  },
  "language_info": {
   "codemirror_mode": {
    "name": "ipython",
    "version": 3
   },
   "file_extension": ".py",
   "mimetype": "text/x-python",
   "name": "python",
   "nbconvert_exporter": "python",
   "pygments_lexer": "ipython3",
   "version": "3.8.7"
  },
  "varInspector": {
   "cols": {
    "lenName": 16,
    "lenType": 16,
    "lenVar": 40
   },
   "kernels_config": {
    "python": {
     "delete_cmd_postfix": "",
     "delete_cmd_prefix": "del ",
     "library": "var_list.py",
     "varRefreshCmd": "print(var_dic_list())"
    },
    "r": {
     "delete_cmd_postfix": ") ",
     "delete_cmd_prefix": "rm(",
     "library": "var_list.r",
     "varRefreshCmd": "cat(var_dic_list()) "
    }
   },
   "types_to_exclude": [
    "module",
    "function",
    "builtin_function_or_method",
    "instance",
    "_Feature"
   ],
   "window_display": false
  }
 },
 "nbformat": 4,
 "nbformat_minor": 5
}
