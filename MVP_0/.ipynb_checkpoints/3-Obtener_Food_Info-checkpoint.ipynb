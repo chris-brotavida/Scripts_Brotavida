{
 "cells": [
  {
   "cell_type": "markdown",
   "id": "a9ab50ee",
   "metadata": {},
   "source": [
    "# Imports y definiciones"
   ]
  },
  {
   "cell_type": "code",
   "execution_count": 1,
   "id": "9dd1e840",
   "metadata": {
    "ExecuteTime": {
     "end_time": "2021-08-06T15:59:18.661338Z",
     "start_time": "2021-08-06T15:59:18.094733Z"
    }
   },
   "outputs": [],
   "source": [
    "import os\n",
    "import json\n",
    "import numpy as np\n",
    "import pandas as pd\n",
    "from ast import literal_eval\n",
    "from collections import defaultdict"
   ]
  },
  {
   "cell_type": "code",
   "execution_count": 34,
   "id": "802342e6",
   "metadata": {
    "ExecuteTime": {
     "end_time": "2021-08-05T22:33:54.602455Z",
     "start_time": "2021-08-05T22:33:54.589493Z"
    },
    "scrolled": false
   },
   "outputs": [
    {
     "data": {
      "text/plain": [
       "['foodb_2020_04_07_csv',\n",
       " 'foodb_2020_04_07_json',\n",
       " 'foodb_server_dump_2020_4_21.sql',\n",
       " 'FoodData_Central_foundation_food_csv_2021-04-28']"
      ]
     },
     "metadata": {},
     "output_type": "display_data"
    },
    {
     "data": {
      "text/plain": [
       "'C:/Users/Chris-Brota/Desktop/Databases/foodb_2020_04_07_json'"
      ]
     },
     "execution_count": 34,
     "metadata": {},
     "output_type": "execute_result"
    }
   ],
   "source": [
    "databases = 'C:/Users/Chris-Brota/Desktop/Databases'\n",
    "display(os.listdir(databases))\n",
    "\n",
    "# Se elige el JSON\n",
    "db = f'{databases}/{os.listdir(databases)[1]}'\n",
    "db"
   ]
  },
  {
   "cell_type": "markdown",
   "id": "a2cde5af",
   "metadata": {},
   "source": [
    "# Definición de los alimentos a usar"
   ]
  },
  {
   "cell_type": "code",
   "execution_count": 4,
   "id": "26eb3ca6",
   "metadata": {
    "ExecuteTime": {
     "end_time": "2021-08-05T21:37:54.758038Z",
     "start_time": "2021-08-05T21:37:54.730107Z"
    }
   },
   "outputs": [],
   "source": [
    "# Definición de los alimentos energéticos\n",
    "food_list_publicID = ['FOOD00336', 'FOOD00168', 'FOOD00058', 'FOOD00572', 'FOOD00068', \n",
    "                      'FOOD00367', 'FOOD00219', 'FOOD00723', 'FOOD00206', 'FOOD00555', \n",
    "                      'FOOD00109', 'FOOD00379', 'FOOD00159', 'FOOD00647', 'FOOD00165', \n",
    "                      'FOOD00548', 'FOOD00183', 'FOOD00040', 'FOOD00246', 'FOOD00873', \n",
    "                      'FOOD00915']\n",
    "\n",
    "# Copiando la lista para obtener los números\n",
    "food_list_ID = [i for i in food_list_publicID]\n",
    "\n",
    "# Pasando a número\n",
    "with open(f'{db}/Food.json', 'r', encoding='utf8') as file:\n",
    "    for line in file:\n",
    "        # Transformando el dato a diccionario\n",
    "        dict_to_rev = json.loads(line.strip())\n",
    "        \n",
    "        if dict_to_rev['public_id'] in food_list_ID:\n",
    "            # Reemplazando en la lista\n",
    "            food_list_ID = [i if dict_to_rev['public_id'] != i \n",
    "                            else dict_to_rev['id']\n",
    "                            for i in food_list_ID]"
   ]
  },
  {
   "cell_type": "markdown",
   "id": "f6a328da",
   "metadata": {},
   "source": [
    "# Definición del diccionario de componentes a buscar"
   ]
  },
  {
   "cell_type": "code",
   "execution_count": 31,
   "id": "e985773e",
   "metadata": {
    "ExecuteTime": {
     "end_time": "2021-08-05T22:22:52.450306Z",
     "start_time": "2021-08-05T22:22:51.921167Z"
    },
    "code_folding": [
     19,
     31,
     43
    ]
   },
   "outputs": [],
   "source": [
    "# Definición del diccionario y lista de interés\n",
    "compound_dict = dict()\n",
    "compound_nums = list()\n",
    "compound_list_publicID = list()\n",
    "\n",
    "# Obteniendo la información de los componentes a utilizar\n",
    "with open('interest_drink_comps_codes.csv', 'r', encoding='utf8') as file:\n",
    "    for line in file:\n",
    "        # Formateando la línea\n",
    "        data = line.strip().split(';')\n",
    "        # Agregando al diccionario\n",
    "        compound_dict[data[0]] = data[1:]\n",
    "        # Y a la lista\n",
    "        compound_list_publicID.append(data[2])\n",
    "\n",
    "# Definición de una lista para pasarlos a números ID\n",
    "compound_list_ID = [i for i in compound_list_publicID]\n",
    "\n",
    "# Pasando a número los \"compounds\"\n",
    "with open(f'{db}/Compound.json', 'r', encoding='utf8') as file:\n",
    "    for line in file:\n",
    "        # Transformando el dato a diccionario\n",
    "        dict_to_rev = json.loads(line.strip())\n",
    "        \n",
    "        if dict_to_rev['public_id'] in compound_list_ID:\n",
    "            # Reemplazando en la lista\n",
    "            compound_list_ID = [i if dict_to_rev['public_id'] != i \n",
    "                                else (dict_to_rev['id'], 'Compound')\n",
    "                                for i in compound_list_ID]\n",
    "            \n",
    "# Pasando a número los \"compounds\" que no aparecen en la lista\n",
    "with open(f'{db}/AccessionNumber.json', 'r', encoding='utf8') as file:\n",
    "    for line in file:\n",
    "        # Transformando el dato a diccionario\n",
    "        dict_to_rev = json.loads(line.strip())\n",
    "        \n",
    "        if dict_to_rev['number'] in compound_list_ID:\n",
    "            # Reemplazando en la lista\n",
    "            compound_list_ID = [i if dict_to_rev['number'] != i \n",
    "                                else (dict_to_rev['compound_id'], 'Compound')\n",
    "                                for i in compound_list_ID]\n",
    "\n",
    "# Finalmente, pasando a número los \"nutrients\"\n",
    "with open(f'{db}/Nutrient.json', 'r', encoding='utf8') as file:\n",
    "    for line in file:\n",
    "        # Transformando el dato a diccionario\n",
    "        dict_to_rev = json.loads(line.strip())\n",
    "        \n",
    "        if dict_to_rev['public_id'] in compound_list_ID:\n",
    "            # Reemplazando en la lista\n",
    "            compound_list_ID = [i if dict_to_rev['public_id'] != i \n",
    "                                else (dict_to_rev['id'], 'Nutrient')\n",
    "                                for i in compound_list_ID]"
   ]
  },
  {
   "cell_type": "code",
   "execution_count": 32,
   "id": "f2db7a6a",
   "metadata": {
    "ExecuteTime": {
     "end_time": "2021-08-05T22:22:52.918430Z",
     "start_time": "2021-08-05T22:22:52.899472Z"
    },
    "scrolled": true
   },
   "outputs": [
    {
     "data": {
      "text/plain": [
       "{'Protein': ['Protein', 'FDBN00002', 'Nutrient'],\n",
       " 'Water': ['Water', 'FDB013390', 'Compound'],\n",
       " 'Caffeine': ['Caffeine', 'FDB002100', 'Compound'],\n",
       " 'Sugars': ['Sugars', 'FDB003715', 'Compound'],\n",
       " 'Calcium, Ca': ['Calcium', 'FDB003513', 'Compound'],\n",
       " 'Iron, Fe': ['Iron', 'FDB016251', 'Compound'],\n",
       " 'Magnesium, Mg': ['Magnesium', 'FDB003518', 'Compound'],\n",
       " 'Phosphorus, P': ['Phosphorus', 'FDB003520', 'Compound'],\n",
       " 'Potassium, K': ['Potassium', 'FDB003521', 'Compound'],\n",
       " 'Sodium, Na': ['Sodium', 'FDB003523', 'Compound'],\n",
       " 'Zinc, Zn': ['Zinc', 'FDB003729', 'Compound'],\n",
       " 'Copper, Cu': ['Copper', 'FDB003582', 'Compound'],\n",
       " 'Selenium, Se': ['Selenium', 'FDB013400', 'Compound'],\n",
       " 'Vitamin C': ['Ascorbic acid', 'FDB001223', 'Compound'],\n",
       " 'Thiamin': ['Thiamine', 'FDB008424', 'Compound'],\n",
       " 'Riboflavin': ['Riboflavine', 'FDB012160', 'Compound'],\n",
       " 'Niacin': ['Nicotinic acid', 'FDB001014', 'Compound'],\n",
       " 'Vitamin B6': ['Pyridoxine', 'FDB000574', 'Compound'],\n",
       " 'Choline': ['Choline', 'FDB000710', 'Compound'],\n",
       " 'Vitamin K': ['Phytomenadione', 'FDB023087', 'Compound'],\n",
       " 'Folic acid': ['Folic acid', 'FDB014504', 'Compound'],\n",
       " 'Vitamin B12, added': ['Cobalamin', 'FDB022886', 'Compound']}"
      ]
     },
     "execution_count": 32,
     "metadata": {},
     "output_type": "execute_result"
    }
   ],
   "source": [
    "compound_dict"
   ]
  },
  {
   "cell_type": "code",
   "execution_count": 33,
   "id": "1d32529f",
   "metadata": {
    "ExecuteTime": {
     "end_time": "2021-08-05T22:22:53.230413Z",
     "start_time": "2021-08-05T22:22:53.222467Z"
    },
    "scrolled": true
   },
   "outputs": [
    {
     "data": {
      "text/plain": [
       "[(2, 'Nutrient'),\n",
       " (31063, 'Compound'),\n",
       " (2100, 'Compound'),\n",
       " (3716, 'Compound'),\n",
       " (3514, 'Compound'),\n",
       " (16258, 'Compound'),\n",
       " (31167, 'Compound'),\n",
       " (3521, 'Compound'),\n",
       " (3522, 'Compound'),\n",
       " (3524, 'Compound'),\n",
       " (3730, 'Compound'),\n",
       " (3583, 'Compound'),\n",
       " (13403, 'Compound'),\n",
       " (1223, 'Compound'),\n",
       " (8425, 'Compound'),\n",
       " (12163, 'Compound'),\n",
       " (1014, 'Compound'),\n",
       " (574, 'Compound'),\n",
       " (710, 'Compound'),\n",
       " (23250, 'Compound'),\n",
       " (14507, 'Compound'),\n",
       " (23049, 'Compound')]"
      ]
     },
     "execution_count": 33,
     "metadata": {},
     "output_type": "execute_result"
    }
   ],
   "source": [
    "compound_list_ID"
   ]
  },
  {
   "cell_type": "markdown",
   "id": "64e5db00",
   "metadata": {},
   "source": [
    "# Registrar las composiciones de cada alimento de interés"
   ]
  },
  {
   "cell_type": "code",
   "execution_count": 52,
   "id": "3be89358",
   "metadata": {
    "ExecuteTime": {
     "end_time": "2021-08-06T15:42:26.347850Z",
     "start_time": "2021-08-06T15:27:35.672515Z"
    },
    "scrolled": true
   },
   "outputs": [
    {
     "name": "stdout",
     "output_type": "stream",
     "text": [
      "Reviewing 341...\n",
      "Reviewing 168...\n",
      "Reviewing 58...\n",
      "Reviewing 586...\n",
      "Reviewing 68...\n",
      "Reviewing 372...\n",
      "Reviewing 219...\n",
      "Reviewing 748...\n",
      "Reviewing 206...\n",
      "Reviewing 569...\n",
      "Reviewing 109...\n",
      "Reviewing 384...\n",
      "Reviewing 159...\n",
      "Reviewing 666...\n",
      "Reviewing 165...\n",
      "Reviewing 562...\n",
      "Reviewing 183...\n",
      "Reviewing 40...\n",
      "Reviewing 246...\n",
      "Reviewing 905...\n",
      "Reviewing 947...\n"
     ]
    }
   ],
   "source": [
    "# Creación del diccionario con cada uno de los \n",
    "food_dict = defaultdict(list)\n",
    "\n",
    "# Para cada alimento (food_list), revisar cada uno de los componentes\n",
    "# de interés (compound_list)\n",
    "for food_id in food_list_ID:\n",
    "    print(f'Reviewing {food_id}...')\n",
    "    \n",
    "    # Definición de las entradas a revisar\n",
    "    entries_desired = list()\n",
    "    \n",
    "    for comp_info in compound_list_ID:\n",
    "        # Obteniendo los valores de las componentes\n",
    "        source_id, source_type = comp_info\n",
    "        \n",
    "        # Generando una entrada deseada\n",
    "        entries_desired.append((food_id, source_id, source_type))\n",
    "    \n",
    "    with open(f'{db}/Content.json', 'r', encoding='utf8') as file:\n",
    "        for line in file:\n",
    "            # Transformando la línea a diccionario\n",
    "            dataline = json.loads(line.strip())\n",
    "\n",
    "            # Generando una entrada a revisar para validar\n",
    "            entry_to_rev = (dataline['food_id'], dataline['source_id'], \n",
    "                            dataline['source_type'])\n",
    "\n",
    "            # Si es que esta entrada se encuentra en las de interés \n",
    "            if entry_to_rev in entries_desired:\n",
    "                food_dict[food_id].append(dataline)"
   ]
  },
  {
   "cell_type": "code",
   "execution_count": 55,
   "id": "ba00e680",
   "metadata": {
    "ExecuteTime": {
     "end_time": "2021-08-06T15:59:10.653254Z",
     "start_time": "2021-08-06T15:59:10.609371Z"
    }
   },
   "outputs": [],
   "source": [
    "with open('summary/food_compounds.txt', 'w', encoding='utf8') as file:\n",
    "    file.write(str(food_dict))"
   ]
  },
  {
   "cell_type": "code",
   "execution_count": null,
   "id": "bede63ba",
   "metadata": {},
   "outputs": [],
   "source": []
  }
 ],
 "metadata": {
  "kernelspec": {
   "display_name": "Python 3 (ipykernel)",
   "language": "python",
   "name": "python3"
  },
  "language_info": {
   "codemirror_mode": {
    "name": "ipython",
    "version": 3
   },
   "file_extension": ".py",
   "mimetype": "text/x-python",
   "name": "python",
   "nbconvert_exporter": "python",
   "pygments_lexer": "ipython3",
   "version": "3.8.7"
  },
  "varInspector": {
   "cols": {
    "lenName": 16,
    "lenType": 16,
    "lenVar": 40
   },
   "kernels_config": {
    "python": {
     "delete_cmd_postfix": "",
     "delete_cmd_prefix": "del ",
     "library": "var_list.py",
     "varRefreshCmd": "print(var_dic_list())"
    },
    "r": {
     "delete_cmd_postfix": ") ",
     "delete_cmd_prefix": "rm(",
     "library": "var_list.r",
     "varRefreshCmd": "cat(var_dic_list()) "
    }
   },
   "position": {
    "height": "320px",
    "left": "990px",
    "right": "20px",
    "top": "102px",
    "width": "511px"
   },
   "types_to_exclude": [
    "module",
    "function",
    "builtin_function_or_method",
    "instance",
    "_Feature"
   ],
   "window_display": false
  }
 },
 "nbformat": 4,
 "nbformat_minor": 5
}
