{
 "cells": [
  {
   "cell_type": "code",
   "execution_count": 1,
   "id": "9dd1e840",
   "metadata": {
    "ExecuteTime": {
     "end_time": "2021-08-04T22:20:32.147364Z",
     "start_time": "2021-08-04T22:20:32.128448Z"
    }
   },
   "outputs": [],
   "source": [
    "import os\n",
    "import json\n",
    "from ast import literal_eval\n",
    "from collections import defaultdict"
   ]
  },
  {
   "cell_type": "code",
   "execution_count": 2,
   "id": "802342e6",
   "metadata": {
    "ExecuteTime": {
     "end_time": "2021-08-04T22:20:32.239690Z",
     "start_time": "2021-08-04T22:20:32.217715Z"
    }
   },
   "outputs": [
    {
     "data": {
      "text/plain": [
       "['foodb_2020_04_07_csv',\n",
       " 'foodb_2020_04_07_json',\n",
       " 'foodb_server_dump_2020_4_21.sql',\n",
       " 'FoodData_Central_foundation_food_csv_2021-04-28']"
      ]
     },
     "metadata": {},
     "output_type": "display_data"
    }
   ],
   "source": [
    "databases = 'C:/Users/Chris-Brota/Desktop/Databases'\n",
    "display(os.listdir(databases))\n",
    "\n",
    "# Se elige el JSON\n",
    "db = f'{databases}/{os.listdir(databases)[1]}'"
   ]
  },
  {
   "cell_type": "markdown",
   "id": "9a40d2cd",
   "metadata": {},
   "source": [
    "# Revisión de componentes de las bebidas energéticas"
   ]
  },
  {
   "cell_type": "code",
   "execution_count": 65,
   "id": "eaeb18e8",
   "metadata": {
    "ExecuteTime": {
     "end_time": "2021-08-05T15:26:54.876897Z",
     "start_time": "2021-08-05T15:26:54.843853Z"
    },
    "code_folding": [
     5
    ],
    "scrolled": true
   },
   "outputs": [],
   "source": [
    "# Poblando el diccionario de información\n",
    "energyzer_fold = 'bebidas'\n",
    "energyzer_files = [f'{energyzer_fold}/{i}' for i in os.listdir(energyzer_fold)]\n",
    "energyzer_compounds = defaultdict(list)\n",
    "\n",
    "for name in energyzer_files:\n",
    "    with open(name, 'r', encoding='utf8') as file:\n",
    "        value_total = 0\n",
    "        \n",
    "        # Obtener la dosis\n",
    "        dosis = file.readline().strip().split(';')\n",
    "        \n",
    "        # Saltar la primera linea\n",
    "        file.readline()\n",
    "        \n",
    "        # Agregar los nombres\n",
    "        energyzer_compounds['\"Name\"'].append(name)\n",
    "        \n",
    "        # Modificando la dosis total\n",
    "        if dosis[1] == 'g':\n",
    "            dosis_total = float(dosis[0])\n",
    "        elif dosis[1] == 'mg':\n",
    "            dosis_total = float(dosis[0]) / 1e3\n",
    "        elif dosis[1] == 'ug':\n",
    "            dosis_total = float(dosis[0]) / 1e6\n",
    "        \n",
    "        # Agregando la dosis al registro\n",
    "        energyzer_compounds['\"Size\"'].append(dosis_total)\n",
    "        \n",
    "        # Revisando los datos\n",
    "        for line in file:\n",
    "            data_line = line.strip().split(';')\n",
    "            \n",
    "            # Obtención del gramaje\n",
    "            gram_unit = data_line[2].lower()\n",
    "            \n",
    "            # Modificando el gramaje\n",
    "            if gram_unit == 'g':\n",
    "                value_to = float(data_line[1])\n",
    "            elif gram_unit == 'mg':\n",
    "                value_to = float(data_line[1]) / 1e3\n",
    "            elif gram_unit == 'ug':\n",
    "                value_to = float(data_line[1]) / 1e6\n",
    "            \n",
    "            # Normalizando por la dosis total\n",
    "            value_perc = value_to / dosis_total\n",
    "            \n",
    "            # Agregando al diccionario\n",
    "            energyzer_compounds[data_line[0]].append(value_perc)"
   ]
  },
  {
   "cell_type": "code",
   "execution_count": 38,
   "id": "4a73c5a8",
   "metadata": {
    "ExecuteTime": {
     "end_time": "2021-08-05T14:39:40.297219Z",
     "start_time": "2021-08-05T14:39:40.273245Z"
    },
    "scrolled": true
   },
   "outputs": [
    {
     "name": "stdout",
     "output_type": "stream",
     "text": [
      "\"Fat\"\n",
      "\"Protein\"\n",
      "\"Carbohydrate\"\n",
      "\"Water\"\n",
      "\"Caffeine\"\n",
      "\"Sugars\"\n",
      "\"Calcium, Ca\"\n",
      "\"Iron, Fe\"\n",
      "\"Magnesium, Mg\"\n",
      "\"Phosphorus, P\"\n",
      "\"Potassium, K\"\n",
      "\"Sodium, Na\"\n",
      "\"Zinc, Zn\"\n",
      "\"Copper, Cu\"\n",
      "\"Selenium, Se\"\n",
      "\"Vitamin C\"\n",
      "\"Thiamin\"\n",
      "\"Riboflavin\"\n",
      "\"Niacin\"\n",
      "\"Vitamin B6\"\n",
      "\"Folate\"\n",
      "\"Vitamin B12\"\n",
      "\"Choline\"\n",
      "\"Vitamin K\"\n",
      "\"Folic acid\"\n",
      "\"Folate, DFE\"\n",
      "\"Vitamin B12, added\"\n",
      "\"Net carbs\"\n"
     ]
    }
   ],
   "source": [
    "# Definición de las componentes que aportan\n",
    "compounds_key = list()\n",
    "\n",
    "for key in energyzer_compounds.keys():\n",
    "    if key != '\"Name\"':\n",
    "        # Si es que al menos tiene algo que aportar, se agrega\n",
    "        if sum(energyzer_compounds[key]) > 0:\n",
    "            compounds_key.append(key)\n",
    "            print(key)"
   ]
  },
  {
   "cell_type": "markdown",
   "id": "2c5f9756",
   "metadata": {},
   "source": [
    "### Test de sanidad por bebida"
   ]
  },
  {
   "cell_type": "code",
   "execution_count": 62,
   "id": "7419864e",
   "metadata": {
    "ExecuteTime": {
     "end_time": "2021-08-05T15:21:22.767745Z",
     "start_time": "2021-08-05T15:21:22.756947Z"
    }
   },
   "outputs": [
    {
     "name": "stdout",
     "output_type": "stream",
     "text": [
      "bebidas/energy_drink.csv 1.2047139687500001\n",
      "bebidas/energy_drink_full_throttle.csv 1.2396013457258066\n",
      "bebidas/energy_drink_monster.csv 1.2218857612903222\n",
      "bebidas/energy_drink_mountain_dew_amp.csv 1.239678411532258\n",
      "bebidas/energy_drink_nos.csv 1.2232145096774196\n",
      "bebidas/energy_drink_no_fear.csv 1.288126075241936\n",
      "bebidas/energy_drink_no_fear_motherload.csv 1.288126075241936\n",
      "bebidas/energy_drink_ocean_spray_cranenergy_juice_drink.csv 1.0750881629032256\n",
      "bebidas/energy_drink_red_bull.csv 1.2047139687500001\n",
      "bebidas/energy_drink_rockstar.csv 1.2537157891129032\n",
      "bebidas/energy_drink_sobe_energize_energy_juice_drink.csv 1.2147129032258066\n",
      "bebidas/energy_drink_vault.csv 1.2574499254032256\n",
      "bebidas/energy_drink_xs.csv 1.0022780176612904\n",
      "bebidas/energy_drink_xs_gold_plus.csv 1.0022780176612904\n"
     ]
    }
   ],
   "source": [
    "for num, name in enumerate(energyzer_compounds['\"Name\"']):\n",
    "    keys_to_rev = list(energyzer_compounds.keys())[2:]\n",
    "    \n",
    "    # Cantidad de gramos por componentes\n",
    "    grams_drink = 0\n",
    "    \n",
    "    for key in keys_to_rev:\n",
    "        grams_drink += energyzer_compounds[key][num]\n",
    "        \n",
    "    print(name, grams_drink)\n",
    "    "
   ]
  },
  {
   "cell_type": "markdown",
   "id": "2ccd729a",
   "metadata": {},
   "source": [
    "# Revisando alimentos energéticos por descripción"
   ]
  },
  {
   "cell_type": "code",
   "execution_count": 60,
   "id": "3195ae3c",
   "metadata": {
    "ExecuteTime": {
     "end_time": "2021-08-02T20:49:56.882205Z",
     "start_time": "2021-08-02T20:49:56.854243Z"
    }
   },
   "outputs": [],
   "source": [
    "with open(f'{db}/Food.json', 'r', encoding='utf8') as file:\n",
    "    # Definición de la lista de alimentos energéticos \n",
    "    energetic_foods = list()\n",
    "    \n",
    "    keyword = 'energ'\n",
    "    \n",
    "    # Para cada línea en el archivo\n",
    "    for line in file:\n",
    "        data = json.loads(line.strip())\n",
    "        \n",
    "        if data['description'] is not None:\n",
    "            if keyword in data['description']:\n",
    "                energetic_foods.append((data['id'], data['name'], data['public_id']))"
   ]
  },
  {
   "cell_type": "code",
   "execution_count": 61,
   "id": "9763197c",
   "metadata": {
    "ExecuteTime": {
     "end_time": "2021-08-02T20:49:57.208351Z",
     "start_time": "2021-08-02T20:49:57.190521Z"
    }
   },
   "outputs": [
    {
     "data": {
      "text/plain": [
       "[(246, 'Triticale', 'FOOD00246'),\n",
       " (670, 'Sugar', 'FOOD00651'),\n",
       " (676, 'Sugar substitute', 'FOOD00656'),\n",
       " (727, 'Energy drink', 'FOOD00703'),\n",
       " (779, 'Nutritional drink', 'FOOD00754'),\n",
       " (848, 'Trail mix', 'FOOD00819'),\n",
       " (893, 'Milk and milk products', 'FOOD00863'),\n",
       " (905, 'Root vegetables', 'FOOD00873'),\n",
       " (947, 'Guarana', 'FOOD00915'),\n",
       " (982, 'Cottage cheese', 'FOOD00950')]"
      ]
     },
     "execution_count": 61,
     "metadata": {},
     "output_type": "execute_result"
    }
   ],
   "source": [
    "energetic_foods"
   ]
  },
  {
   "cell_type": "code",
   "execution_count": 65,
   "id": "26eb3ca6",
   "metadata": {
    "ExecuteTime": {
     "end_time": "2021-08-02T20:57:30.414690Z",
     "start_time": "2021-08-02T20:57:30.397456Z"
    }
   },
   "outputs": [],
   "source": [
    "energetic_list = ['FOOD00336', 'FOOD00336', 'FOOD00168', 'FOOD00058', 'FOOD00572', \n",
    "                  'FOOD00068', 'FOOD00367', 'FOOD00219', 'FOOD00723', 'FOOD00206', \n",
    "                  'FOOD00555', 'FOOD00109', 'FOOD00379', 'FOOD00159', 'FOOD00647', \n",
    "                  'FOOD00165', 'FOOD00548', 'FOOD00183', 'FOOD00040']\n",
    "\n",
    "# Agregando las encontradas anteriormente\n",
    "energetic_list.extend(['FOOD00246', 'FOOD00873', 'FOOD00915'])"
   ]
  },
  {
   "cell_type": "markdown",
   "id": "e3084433",
   "metadata": {
    "ExecuteTime": {
     "end_time": "2021-08-02T20:06:07.110872Z",
     "start_time": "2021-08-02T20:06:07.091911Z"
    }
   },
   "source": [
    "# Revisando alimentos energéticos por nutrientes o principios activos"
   ]
  },
  {
   "cell_type": "code",
   "execution_count": 67,
   "id": "031a5ca1",
   "metadata": {
    "ExecuteTime": {
     "end_time": "2021-08-02T20:57:48.764926Z",
     "start_time": "2021-08-02T20:57:48.754952Z"
    }
   },
   "outputs": [],
   "source": [
    "# Definición de la lista de componentes\n",
    "compound = ['FDB003010', 'FDB009020', 'FDB000571', 'FDB016592', 'FDB013228', 'FDB012292', \n",
    "            'FDB014504', 'FDB001108', 'FDB023903', 'FDB016251', 'FDB000572', 'FDB012738', \n",
    "            'FDB013567', 'FDB003518', 'FDB024414', 'FDB003521', 'FDB031212', 'FDB011795', \n",
    "            'FDB003523', 'FDB003191', 'FDB000455', 'FDB000453', 'FDB014601', 'FDB014797', \n",
    "            'FDB002251', 'FDB022939', 'FDB001014', 'FDB000574', 'FDB017534', 'FDB023125', \n",
    "            'FDB001977', 'FDB003729']"
   ]
  },
  {
   "cell_type": "code",
   "execution_count": 79,
   "id": "5f5e6e62",
   "metadata": {
    "ExecuteTime": {
     "end_time": "2021-08-02T21:14:05.333621Z",
     "start_time": "2021-08-02T21:14:04.798354Z"
    }
   },
   "outputs": [],
   "source": [
    "# Pasando a número\n",
    "with open(f'{db}/Compound.json', 'r', encoding='utf8') as file:\n",
    "    # Definición de la lista de las componentes\n",
    "    compound_num = list()\n",
    "    \n",
    "    # Para cada línea en el archivo\n",
    "    for line in file:\n",
    "        data = json.loads(line.strip())\n",
    "        \n",
    "        if data['public_id'] in compound:\n",
    "            compound_num.append((data['id'], data['public_id']))"
   ]
  },
  {
   "cell_type": "code",
   "execution_count": 90,
   "id": "b6559f19",
   "metadata": {
    "ExecuteTime": {
     "end_time": "2021-08-02T22:20:35.272769Z",
     "start_time": "2021-08-02T22:20:35.260836Z"
    },
    "scrolled": true
   },
   "outputs": [
    {
     "name": "stdout",
     "output_type": "stream",
     "text": [
      "[453, 455, 571, 572, 574, 1014, 1108, 1977, 2251, 3011, 3192, 3522, 3524, 3730, 9021, 11798, 12295, 12741, 13231, 13570, 14507, 14604, 14800, 16258, 16599, 17541, 23102, 23288, 24066, 24577, 31375]\n"
     ]
    }
   ],
   "source": [
    "comp_only_num = [i[0] for i in compound_num]\n",
    "print(comp_only_num)"
   ]
  },
  {
   "cell_type": "code",
   "execution_count": 91,
   "id": "e23ad016",
   "metadata": {
    "ExecuteTime": {
     "end_time": "2021-08-02T22:21:48.506494Z",
     "start_time": "2021-08-02T22:21:07.619130Z"
    }
   },
   "outputs": [],
   "source": [
    "energetic_list_ppo = list()\n",
    "\n",
    "# Revisando ahora en la base de contenidos\n",
    "with open(f'{db}/Content.json', 'r', encoding='utf8') as file:\n",
    "    # Definición de la lista de alimentos energéticos \n",
    "    energetic_foods_num = list()\n",
    "    \n",
    "#     i = 0\n",
    "    # Para cada línea en el archivo\n",
    "    for line in file:\n",
    "        data = json.loads(line.strip())\n",
    "        \n",
    "#         print(data)\n",
    "#         i+=1\n",
    "#         if i > 1:\n",
    "#             break\n",
    "            \n",
    "        if data['source_id'] in comp_only_num:\n",
    "            energetic_foods_num.append(data['food_id'])"
   ]
  },
  {
   "cell_type": "code",
   "execution_count": 94,
   "id": "65f4ac19",
   "metadata": {
    "ExecuteTime": {
     "end_time": "2021-08-02T22:23:11.533798Z",
     "start_time": "2021-08-02T22:23:11.511858Z"
    }
   },
   "outputs": [
    {
     "data": {
      "text/plain": [
       "967"
      ]
     },
     "execution_count": 94,
     "metadata": {},
     "output_type": "execute_result"
    }
   ],
   "source": [
    "len(set(energetic_foods_num))"
   ]
  },
  {
   "cell_type": "markdown",
   "id": "64e5db00",
   "metadata": {},
   "source": [
    "# Obtener las tablas de cada alimento"
   ]
  },
  {
   "cell_type": "code",
   "execution_count": null,
   "id": "3be89358",
   "metadata": {},
   "outputs": [],
   "source": []
  },
  {
   "cell_type": "code",
   "execution_count": null,
   "id": "ba00e680",
   "metadata": {},
   "outputs": [],
   "source": []
  }
 ],
 "metadata": {
  "kernelspec": {
   "display_name": "Python 3 (ipykernel)",
   "language": "python",
   "name": "python3"
  },
  "language_info": {
   "codemirror_mode": {
    "name": "ipython",
    "version": 3
   },
   "file_extension": ".py",
   "mimetype": "text/x-python",
   "name": "python",
   "nbconvert_exporter": "python",
   "pygments_lexer": "ipython3",
   "version": "3.8.7"
  },
  "varInspector": {
   "cols": {
    "lenName": 16,
    "lenType": 16,
    "lenVar": 40
   },
   "kernels_config": {
    "python": {
     "delete_cmd_postfix": "",
     "delete_cmd_prefix": "del ",
     "library": "var_list.py",
     "varRefreshCmd": "print(var_dic_list())"
    },
    "r": {
     "delete_cmd_postfix": ") ",
     "delete_cmd_prefix": "rm(",
     "library": "var_list.r",
     "varRefreshCmd": "cat(var_dic_list()) "
    }
   },
   "types_to_exclude": [
    "module",
    "function",
    "builtin_function_or_method",
    "instance",
    "_Feature"
   ],
   "window_display": false
  }
 },
 "nbformat": 4,
 "nbformat_minor": 5
}
