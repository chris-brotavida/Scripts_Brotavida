{
 "cells": [
  {
   "cell_type": "markdown",
   "id": "a9ab50ee",
   "metadata": {},
   "source": [
    "# Imports y definiciones"
   ]
  },
  {
   "cell_type": "code",
   "execution_count": 1,
   "id": "9dd1e840",
   "metadata": {
    "ExecuteTime": {
     "end_time": "2021-08-05T20:19:57.347726Z",
     "start_time": "2021-08-05T20:19:57.068657Z"
    }
   },
   "outputs": [],
   "source": [
    "import os\n",
    "import json\n",
    "import numpy as np\n",
    "import pandas as pd\n",
    "from ast import literal_eval\n",
    "from collections import defaultdict"
   ]
  },
  {
   "cell_type": "code",
   "execution_count": 2,
   "id": "802342e6",
   "metadata": {
    "ExecuteTime": {
     "end_time": "2021-08-05T20:19:57.424814Z",
     "start_time": "2021-08-05T20:19:57.399883Z"
    }
   },
   "outputs": [
    {
     "data": {
      "text/plain": [
       "['foodb_2020_04_07_csv',\n",
       " 'foodb_2020_04_07_json',\n",
       " 'foodb_server_dump_2020_4_21.sql',\n",
       " 'FoodData_Central_foundation_food_csv_2021-04-28']"
      ]
     },
     "metadata": {},
     "output_type": "display_data"
    }
   ],
   "source": [
    "databases = 'C:/Users/Chris-Brota/Desktop/Databases'\n",
    "display(os.listdir(databases))\n",
    "\n",
    "# Se elige el JSON\n",
    "db = f'{databases}/{os.listdir(databases)[1]}'"
   ]
  },
  {
   "cell_type": "markdown",
   "id": "2ccd729a",
   "metadata": {},
   "source": [
    "# Búsqueda de alimentos energéticos por descripción"
   ]
  },
  {
   "cell_type": "code",
   "execution_count": 3,
   "id": "3195ae3c",
   "metadata": {
    "ExecuteTime": {
     "end_time": "2021-08-05T20:20:01.741966Z",
     "start_time": "2021-08-05T20:20:01.720405Z"
    }
   },
   "outputs": [],
   "source": [
    "# Definición de la palabra clave de la búsqueda\n",
    "keyword = 'energ'\n",
    "\n",
    "with open(f'{db}/Food.json', 'r', encoding='utf8') as file:\n",
    "    # Definición de la lista de alimentos energéticos \n",
    "    energetic_foods = list()\n",
    "    \n",
    "    # Para cada línea en el archivo\n",
    "    for line in file:\n",
    "        data = json.loads(line.strip())\n",
    "        \n",
    "        if data['description'] is not None:\n",
    "            if keyword in data['description']:\n",
    "                energetic_foods.append((data['id'], data['name'], data['public_id']))"
   ]
  },
  {
   "cell_type": "code",
   "execution_count": 4,
   "id": "9763197c",
   "metadata": {
    "ExecuteTime": {
     "end_time": "2021-08-05T20:20:02.207106Z",
     "start_time": "2021-08-05T20:20:02.195139Z"
    }
   },
   "outputs": [
    {
     "data": {
      "text/plain": [
       "[(246, 'Triticale', 'FOOD00246'),\n",
       " (670, 'Sugar', 'FOOD00651'),\n",
       " (676, 'Sugar substitute', 'FOOD00656'),\n",
       " (727, 'Energy drink', 'FOOD00703'),\n",
       " (779, 'Nutritional drink', 'FOOD00754'),\n",
       " (848, 'Trail mix', 'FOOD00819'),\n",
       " (893, 'Milk and milk products', 'FOOD00863'),\n",
       " (905, 'Root vegetables', 'FOOD00873'),\n",
       " (947, 'Guarana', 'FOOD00915'),\n",
       " (982, 'Cottage cheese', 'FOOD00950')]"
      ]
     },
     "execution_count": 4,
     "metadata": {},
     "output_type": "execute_result"
    }
   ],
   "source": [
    "energetic_foods"
   ]
  },
  {
   "cell_type": "code",
   "execution_count": 6,
   "id": "26eb3ca6",
   "metadata": {
    "ExecuteTime": {
     "end_time": "2021-08-05T20:20:30.965783Z",
     "start_time": "2021-08-05T20:20:30.952819Z"
    }
   },
   "outputs": [],
   "source": [
    "energetic_list = ['FOOD00336', 'FOOD00336', 'FOOD00168', 'FOOD00058', 'FOOD00572', \n",
    "                  'FOOD00068', 'FOOD00367', 'FOOD00219', 'FOOD00723', 'FOOD00206', \n",
    "                  'FOOD00555', 'FOOD00109', 'FOOD00379', 'FOOD00159', 'FOOD00647', \n",
    "                  'FOOD00165', 'FOOD00548', 'FOOD00183', 'FOOD00040']\n",
    "\n",
    "# Agregando las encontradas anteriormente (Triticale, Root vegetables, Guarana)\n",
    "energetic_list.extend(['FOOD00246', 'FOOD00873', 'FOOD00915'])"
   ]
  },
  {
   "cell_type": "markdown",
   "id": "e3084433",
   "metadata": {
    "ExecuteTime": {
     "end_time": "2021-08-02T20:06:07.110872Z",
     "start_time": "2021-08-02T20:06:07.091911Z"
    }
   },
   "source": [
    "# Búsqueda de alimentos energéticos por nutrientes o principios activos"
   ]
  },
  {
   "cell_type": "code",
   "execution_count": 7,
   "id": "031a5ca1",
   "metadata": {
    "ExecuteTime": {
     "end_time": "2021-08-05T20:21:37.155585Z",
     "start_time": "2021-08-05T20:21:37.149601Z"
    }
   },
   "outputs": [],
   "source": [
    "# Definición de la lista de componentes\n",
    "compound = ['FDB003010', 'FDB009020', 'FDB000571', 'FDB016592', 'FDB013228', 'FDB012292', \n",
    "            'FDB014504', 'FDB001108', 'FDB023903', 'FDB016251', 'FDB000572', 'FDB012738', \n",
    "            'FDB013567', 'FDB003518', 'FDB024414', 'FDB003521', 'FDB031212', 'FDB011795', \n",
    "            'FDB003523', 'FDB003191', 'FDB000455', 'FDB000453', 'FDB014601', 'FDB014797', \n",
    "            'FDB002251', 'FDB022939', 'FDB001014', 'FDB000574', 'FDB017534', 'FDB023125', \n",
    "            'FDB001977', 'FDB003729']"
   ]
  },
  {
   "cell_type": "code",
   "execution_count": 8,
   "id": "5f5e6e62",
   "metadata": {
    "ExecuteTime": {
     "end_time": "2021-08-05T20:21:38.139792Z",
     "start_time": "2021-08-05T20:21:37.590598Z"
    }
   },
   "outputs": [],
   "source": [
    "# Pasando a número\n",
    "with open(f'{db}/Compound.json', 'r', encoding='utf8') as file:\n",
    "    # Definición de la lista de las componentes\n",
    "    compound_num = list()\n",
    "    \n",
    "    # Para cada línea en el archivo\n",
    "    for line in file:\n",
    "        data = json.loads(line.strip())\n",
    "        \n",
    "        if data['public_id'] in compound:\n",
    "            compound_num.append((data['id'], data['public_id']))"
   ]
  },
  {
   "cell_type": "code",
   "execution_count": 12,
   "id": "b6559f19",
   "metadata": {
    "ExecuteTime": {
     "end_time": "2021-08-05T20:23:50.351608Z",
     "start_time": "2021-08-05T20:23:50.337642Z"
    },
    "scrolled": true
   },
   "outputs": [
    {
     "name": "stdout",
     "output_type": "stream",
     "text": [
      "[453, 455, 571, 572, 574, 1014, 1108, 1977, 2251, 3011, 3192, 3522, 3524, 3730, 9021, 11798, 12295, 12741, 13231, 13570, 14507, 14604, 14800, 16258, 16599, 17541, 23102, 23288, 24066, 24577, 31375]\n"
     ]
    }
   ],
   "source": [
    "# Obtener el id de la comida\n",
    "comp_only_numId = [i[0] for i in compound_num]\n",
    "print(comp_only_numId)"
   ]
  },
  {
   "cell_type": "code",
   "execution_count": 13,
   "id": "e23ad016",
   "metadata": {
    "ExecuteTime": {
     "end_time": "2021-08-05T20:24:32.023112Z",
     "start_time": "2021-08-05T20:23:50.753235Z"
    }
   },
   "outputs": [],
   "source": [
    "energetic_list_ppo = list()\n",
    "\n",
    "# Revisando ahora en la base de contenidos\n",
    "with open(f'{db}/Content.json', 'r', encoding='utf8') as file:\n",
    "    # Definición de la lista de alimentos energéticos \n",
    "    energetic_foods_num = list()\n",
    "    \n",
    "    # Para cada línea en el archivo\n",
    "    for line in file:\n",
    "        data = json.loads(line.strip())\n",
    "            \n",
    "        if data['source_id'] in comp_only_numId:\n",
    "            energetic_foods_num.append(data['food_id'])"
   ]
  },
  {
   "cell_type": "code",
   "execution_count": 94,
   "id": "65f4ac19",
   "metadata": {
    "ExecuteTime": {
     "end_time": "2021-08-02T22:23:11.533798Z",
     "start_time": "2021-08-02T22:23:11.511858Z"
    }
   },
   "outputs": [
    {
     "data": {
      "text/plain": [
       "967"
      ]
     },
     "execution_count": 94,
     "metadata": {},
     "output_type": "execute_result"
    }
   ],
   "source": [
    "len(set(energetic_foods_num))"
   ]
  },
  {
   "cell_type": "markdown",
   "id": "115bf229",
   "metadata": {},
   "source": [
    "### Resultado\n",
    "\n",
    "No conviene buscar solo por la existencia de componentes, ya que en la base de datos se presentan incluso las que están en dosis extremadamente bajas. \n",
    "\n",
    "**Idea futura**: Filtrar por un rango de valores de cada componente en el alimento."
   ]
  },
  {
   "cell_type": "markdown",
   "id": "64e5db00",
   "metadata": {},
   "source": [
    "# Obtener las tablas de cada alimento"
   ]
  },
  {
   "cell_type": "code",
   "execution_count": null,
   "id": "3be89358",
   "metadata": {},
   "outputs": [],
   "source": []
  },
  {
   "cell_type": "code",
   "execution_count": null,
   "id": "ba00e680",
   "metadata": {},
   "outputs": [],
   "source": []
  }
 ],
 "metadata": {
  "kernelspec": {
   "display_name": "Python 3 (ipykernel)",
   "language": "python",
   "name": "python3"
  },
  "language_info": {
   "codemirror_mode": {
    "name": "ipython",
    "version": 3
   },
   "file_extension": ".py",
   "mimetype": "text/x-python",
   "name": "python",
   "nbconvert_exporter": "python",
   "pygments_lexer": "ipython3",
   "version": "3.8.7"
  },
  "varInspector": {
   "cols": {
    "lenName": 16,
    "lenType": 16,
    "lenVar": 40
   },
   "kernels_config": {
    "python": {
     "delete_cmd_postfix": "",
     "delete_cmd_prefix": "del ",
     "library": "var_list.py",
     "varRefreshCmd": "print(var_dic_list())"
    },
    "r": {
     "delete_cmd_postfix": ") ",
     "delete_cmd_prefix": "rm(",
     "library": "var_list.r",
     "varRefreshCmd": "cat(var_dic_list()) "
    }
   },
   "types_to_exclude": [
    "module",
    "function",
    "builtin_function_or_method",
    "instance",
    "_Feature"
   ],
   "window_display": false
  }
 },
 "nbformat": 4,
 "nbformat_minor": 5
}
