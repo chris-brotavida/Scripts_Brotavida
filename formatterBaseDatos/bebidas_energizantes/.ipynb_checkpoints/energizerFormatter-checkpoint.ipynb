{
 "cells": [
  {
   "cell_type": "code",
   "execution_count": 1,
   "id": "02fdc218",
   "metadata": {
    "ExecuteTime": {
     "end_time": "2021-08-04T22:14:21.126626Z",
     "start_time": "2021-08-04T22:14:21.112694Z"
    }
   },
   "outputs": [],
   "source": [
    "import os\n",
    "from collections import defaultdict\n",
    "folder_data = 'bebidas'"
   ]
  },
  {
   "cell_type": "code",
   "execution_count": 2,
   "id": "0c24d27b",
   "metadata": {
    "ExecuteTime": {
     "end_time": "2021-08-04T22:14:21.251816Z",
     "start_time": "2021-08-04T22:14:21.245830Z"
    }
   },
   "outputs": [
    {
     "name": "stdout",
     "output_type": "stream",
     "text": [
      "['bebidas/energy_drink.csv', 'bebidas/energy_drink_full_throttle.csv', 'bebidas/energy_drink_monster.csv', 'bebidas/energy_drink_mountain_dew_amp.csv', 'bebidas/energy_drink_nos.csv', 'bebidas/energy_drink_no_fear.csv', 'bebidas/energy_drink_no_fear_motherload.csv', 'bebidas/energy_drink_ocean_spray_cranenergy_juice_drink.csv', 'bebidas/energy_drink_red_bull.csv', 'bebidas/energy_drink_rockstar.csv', 'bebidas/energy_drink_sobe_energize_energy_juice_drink.csv', 'bebidas/energy_drink_vault.csv', 'bebidas/energy_drink_xs.csv', 'bebidas/energy_drink_xs_gold_plus.csv']\n"
     ]
    }
   ],
   "source": [
    "files = [f'{folder_data}/{i}' for i in os.listdir(folder_data)]\n",
    "print(files)"
   ]
  },
  {
   "cell_type": "code",
   "execution_count": 3,
   "id": "081168b7",
   "metadata": {
    "ExecuteTime": {
     "end_time": "2021-08-04T22:14:21.392587Z",
     "start_time": "2021-08-04T22:14:21.376754Z"
    },
    "code_folding": [
     1
    ]
   },
   "outputs": [],
   "source": [
    "# Definición de las categorías principales\n",
    "categories = {\n",
    "    'Vitamins': \n",
    "        {\"Choline\": [], \n",
    "         \"Folate, DFE\": \n",
    "             {\"Folate, food\": {}, \n",
    "              \"Folic acid\": {}}, \n",
    "         \"Niacin\": [], \n",
    "         \"Riboflavin\": [], \n",
    "         \"Thiamin\": [], \n",
    "         \"Vitamin A, RAE\": \n",
    "             {\"Carotene, alpha\": {}, \n",
    "              \"Carotene, beta\": {}, \n",
    "              \"Cryptoxanthin, beta\": {}, \n",
    "              \"Lutein + zeaxanthin\": {}, \n",
    "              \"Lycopene\": {}, \n",
    "              \"Retinol\": {}}, \n",
    "         \"Vitamin B12\": \n",
    "             {\"Vitamin B12, added\": {}}, \n",
    "         \"Vitamin B6\": [], \n",
    "         \"Vitamin C\": [], \n",
    "         \"Vitamin D\": [], \n",
    "         \"Vitamin E (alpha-tocopherol)\": \n",
    "             {\"Vitamin E, added\": {}, \n",
    "              \"Tocopherol, alpha\": {}}, \n",
    "         \"Vitamin K\": []\n",
    "        },\n",
    "    \n",
    "    'Carbohydrates': \n",
    "        {\"Carbohydrate\": [],\n",
    "         \"Fiber\": [],\n",
    "         \"Sugars\": [],\n",
    "         \"Net carbs\": []\n",
    "        },\n",
    "    \n",
    "    'Fats and Fatty Acids': \n",
    "        {\"Fat\": \n",
    "             {\"Saturated fatty acids\": \n",
    "                {\"Butanoic acid\": {},\n",
    "                 \"Decanoic acid\": {},\n",
    "                 \"Dodecanoic acid\": {},\n",
    "                 \"Hexadecanoic acid\": {},\n",
    "                 \"Hexanoic acid\": {},\n",
    "                 \"Octadecanoic acid\": {},\n",
    "                 \"Octanoic acid\": {},\n",
    "                 \"Tetradecanoic acid\": {}\n",
    "                  }, \n",
    "              \"Monounsaturated fatty acids\": \n",
    "                  {\"Docosenoic acid\": {},\n",
    "                   \"Eicosenoic acid\": {},\n",
    "                   \"Hexadecenoic acid\": {},\n",
    "                   \"Octadecenoic acid\": {}\n",
    "                  }, \n",
    "              \"Monounsaturated fatty acids\": \n",
    "                  {\"Docosahexaenoic n-3 acid (DHA)\": {},\n",
    "                   \"Docosapentaenoic n-3 acid (DPA)\": {},\n",
    "                   \"Eicosapentaenoic n-3 acid (EPA)\": {},\n",
    "                   \"Eicosatetraenoic acid\": {},\n",
    "                   \"Octadecadienoic acid\": {}\n",
    "                  }\n",
    "             }\n",
    "        },\n",
    "    \n",
    "    'Minerals': \n",
    "        {\"Calcium, Ca\": [], \n",
    "         \"Copper, Cu\": [], \n",
    "         \"Iron, Fe\": [], \n",
    "         \"Magnesium, Mg\": [], \n",
    "         \"Phosphorus, P\": [], \n",
    "         \"Potassium, K\": [], \n",
    "         \"Selenium, Se\": [], \n",
    "         \"Sodium, Na\": [], \n",
    "         \"Zinc, Zn\": []\n",
    "        },\n",
    "    \n",
    "    'Sterols': \n",
    "        {\"Cholesterol\": []},\n",
    "    \n",
    "    'Proteins and Aminoacids': \n",
    "        {\"Protein\": []},\n",
    "    \n",
    "    'Other': \n",
    "        {\"Alcohol, ethyl\": [], \n",
    "         \"Caffeine\": [], \n",
    "         \"Theobromine\": [], \n",
    "         \"Water\": []\n",
    "        }\n",
    "    }"
   ]
  },
  {
   "cell_type": "code",
   "execution_count": 4,
   "id": "6394ad0e",
   "metadata": {
    "ExecuteTime": {
     "end_time": "2021-08-04T22:14:21.872580Z",
     "start_time": "2021-08-04T22:14:21.857107Z"
    },
    "code_folding": [
     1
    ]
   },
   "outputs": [],
   "source": [
    "# Definición de las categorías principales\n",
    "categories = {\n",
    "    'Vitamins': \n",
    "        {\"Choline\": None, \n",
    "         \"Folate, DFE\": \n",
    "             {\"Folate, food\": None, \n",
    "              \"Folic acid\": None}, \n",
    "         \"Niacin\": None, \n",
    "         \"Riboflavin\": None, \n",
    "         \"Thiamin\": None, \n",
    "         \"Vitamin A, RAE\": \n",
    "             {\"Carotene, alpha\": None, \n",
    "              \"Carotene, beta\": None, \n",
    "              \"Cryptoxanthin, beta\": None, \n",
    "              \"Lutein + zeaxanthin\": None, \n",
    "              \"Lycopene\": None, \n",
    "              \"Retinol\": None}, \n",
    "         \"Vitamin B12\": \n",
    "             {\"Vitamin B12, added\": None}, \n",
    "         \"Vitamin B6\": None, \n",
    "         \"Vitamin C\": None, \n",
    "         \"Vitamin D\": None, \n",
    "         \"Vitamin E (alpha-tocopherol)\": \n",
    "             {\"Vitamin E, added\": None, \n",
    "              \"Tocopherol, alpha\": None}, \n",
    "         \"Vitamin K\": None\n",
    "        },\n",
    "    \n",
    "    'Carbohydrates': \n",
    "        {\"Carbohydrate\": None,\n",
    "         \"Fiber\": None,\n",
    "         \"Sugars\": None,\n",
    "         \"Net carbs\": None\n",
    "        },\n",
    "    \n",
    "    'Fats and Fatty Acids': \n",
    "        {\"Fat\": \n",
    "             {\"Saturated fatty acids\": \n",
    "                {\"Butanoic acid\": None,\n",
    "                 \"Decanoic acid\": None,\n",
    "                 \"Dodecanoic acid\": None,\n",
    "                 \"Hexadecanoic acid\": None,\n",
    "                 \"Hexanoic acid\": None,\n",
    "                 \"Octadecanoic acid\": None,\n",
    "                 \"Octanoic acid\": None,\n",
    "                 \"Tetradecanoic acid\": None\n",
    "                  }, \n",
    "              \"Monounsaturated fatty acids\": \n",
    "                  {\"Docosenoic acid\": None,\n",
    "                   \"Eicosenoic acid\": None,\n",
    "                   \"Hexadecenoic acid\": None,\n",
    "                   \"Octadecenoic acid\": None\n",
    "                  }, \n",
    "              \"Monounsaturated fatty acids\": \n",
    "                  {\"Docosahexaenoic n-3 acid (DHA)\": None,\n",
    "                   \"Docosapentaenoic n-3 acid (DPA)\": None,\n",
    "                   \"Eicosapentaenoic n-3 acid (EPA)\": None,\n",
    "                   \"Eicosatetraenoic acid\": None,\n",
    "                   \"Octadecadienoic acid\": None\n",
    "                  }\n",
    "             }\n",
    "        },\n",
    "    \n",
    "    'Minerals': \n",
    "        {\"Calcium, Ca\": None, \n",
    "         \"Copper, Cu\": None, \n",
    "         \"Iron, Fe\": None, \n",
    "         \"Magnesium, Mg\": None, \n",
    "         \"Phosphorus, P\": None, \n",
    "         \"Potassium, K\": None, \n",
    "         \"Selenium, Se\": None, \n",
    "         \"Sodium, Na\": None, \n",
    "         \"Zinc, Zn\": None\n",
    "        },\n",
    "    \n",
    "    'Sterols': \n",
    "        {\"Cholesterol\": None},\n",
    "    \n",
    "    'Proteins and Aminoacids': \n",
    "        {\"Protein\": None},\n",
    "    \n",
    "    'Other': \n",
    "        {\"Alcohol, ethyl\": None, \n",
    "         \"Caffeine\": None, \n",
    "         \"Theobromine\": None, \n",
    "         \"Water\": None\n",
    "        }\n",
    "    }"
   ]
  },
  {
   "cell_type": "code",
   "execution_count": 7,
   "id": "44ade0a3",
   "metadata": {
    "ExecuteTime": {
     "end_time": "2021-08-04T22:19:09.433226Z",
     "start_time": "2021-08-04T22:19:09.416270Z"
    },
    "code_folding": []
   },
   "outputs": [],
   "source": [
    "def format_filecsv(filepath, folder_save):\n",
    "    # Abriendo el archivo\n",
    "    with open(filepath, 'r', encoding='utf8') as file:\n",
    "        lines = file.readlines()\n",
    "        \n",
    "    # Definición del encabezado de las características de interés\n",
    "    headers = lines[3]\n",
    "        \n",
    "    # Definición de los valores de salida\n",
    "    category = '-'\n",
    "    subcategory = '-'\n",
    "    subsubcategory = '-'\n",
    "    \n",
    "    # Definición de la línea de inicio y fin de la tabla\n",
    "    init_line, end_line = 5, 71\n",
    "    \n",
    "    # Definición de la lista de salida\n",
    "    output_data = list()\n",
    "    \n",
    "    # Agregando el tamaño de la porción\n",
    "    dosis = lines[2].strip().split(' ')[-2:]\n",
    "    output_data.append(';'.join(dosis))\n",
    "    \n",
    "    # Agregando el encabezado\n",
    "    line_to = ';'.join(headers.strip().split(', '))\n",
    "    output_data.append(f'{line_to};category;subcategory;subsubcategory')\n",
    "    \n",
    "    # Revisando línea a línea el archivo de interés\n",
    "    for line in lines[init_line:end_line]:               \n",
    "        # Definición del compuesto\n",
    "        compound, rest_info = line.strip().split('\\\"')[1:]\n",
    "        \n",
    "        if len(rest_info.split(', ')) == 3:\n",
    "            to_compound = rest_info.split(', ')[1:]\n",
    "            to_compound[-1] = to_compound[-1][:-1]\n",
    "            data_compound = ';'.join(to_compound) + ';'\n",
    "            \n",
    "        elif len(rest_info.split(', ')) == 4:\n",
    "            data_compound = ';'.join(rest_info.split(', ')[1:])\n",
    "        # Acondicionando la línea\n",
    "#         separate = line.strip().split(', ')\n",
    "#         if len(separate) > 4:\n",
    "#             line_to = ', '.join(separate[:2]) + ';'.join(separate[2:])\n",
    "#         else:\n",
    "#             line_to = ';'.join(separate)\n",
    "#         data_compound = ';'.join(line.strip().split(', ')[-3:])\n",
    "        \n",
    "        # Revisando las caterorías\n",
    "        for cat in categories.keys():\n",
    "            # Si es que el compuesto está en este nivel, se guarda la categoría\n",
    "            if compound in categories[cat].keys():\n",
    "                category = cat\n",
    "                break\n",
    "            \n",
    "            # Revistando las subcategorías\n",
    "            for subcat in categories[cat].keys():\n",
    "                # Asegurarse de que la subcategoría no esté en el límite\n",
    "                if categories[cat][subcat] is not None:\n",
    "                    # Si es que el compuesto está en este nivel, se guarda la categoría\n",
    "                    if compound in categories[cat][subcat].keys():\n",
    "                        category = cat\n",
    "                        subcategory = subcat\n",
    "                        break\n",
    "                    \n",
    "                    # Revistando las subsubcategorías\n",
    "                    for subsubcat in categories[cat][subcat].keys():\n",
    "                        # Asegurarse de que la subsubcategoría no esté en el límite\n",
    "                        if categories[cat][subcat][subsubcat] is not None:\n",
    "                            # Si es que el compuesto está en este nivel, se guarda la categoría\n",
    "                            if compound in categories[cat][subcat][subsubcat].keys():\n",
    "                                category = cat\n",
    "                                subcategory = subcat\n",
    "                                subsubcategory = subsubcat\n",
    "                                break\n",
    "            \n",
    "        # Armando la línea de salida\n",
    "        output_line = f'\\\"{compound}\\\";{data_compound};{category};{subcategory};{subsubcategory}'\n",
    "        \n",
    "        # Agregando a la lista de salida\n",
    "        output_data.append(output_line)\n",
    "        \n",
    "        # Re definiendo los valores de salida\n",
    "        category = '-'\n",
    "        subcategory = '-'\n",
    "        subsubcategory = '-'\n",
    "    \n",
    "    # Escribir los archivos .csv para registrar estos datos\n",
    "    with open(f'{folder_save}/{filepath.split(\"/\")[-1]}', 'w', encoding='utf8') as file:\n",
    "        for line in output_data:\n",
    "            file.write(f'{line}\\n')\n",
    "    \n",
    "    return output_data\n"
   ]
  },
  {
   "cell_type": "code",
   "execution_count": 8,
   "id": "10478721",
   "metadata": {
    "ExecuteTime": {
     "end_time": "2021-08-04T22:19:10.014797Z",
     "start_time": "2021-08-04T22:19:09.975901Z"
    }
   },
   "outputs": [
    {
     "name": "stdout",
     "output_type": "stream",
     "text": [
      "bebidas/energy_drink.csv\n",
      "bebidas/energy_drink_full_throttle.csv\n",
      "bebidas/energy_drink_monster.csv\n",
      "bebidas/energy_drink_mountain_dew_amp.csv\n",
      "bebidas/energy_drink_nos.csv\n",
      "bebidas/energy_drink_no_fear.csv\n",
      "bebidas/energy_drink_no_fear_motherload.csv\n",
      "bebidas/energy_drink_ocean_spray_cranenergy_juice_drink.csv\n",
      "bebidas/energy_drink_red_bull.csv\n",
      "bebidas/energy_drink_rockstar.csv\n",
      "bebidas/energy_drink_sobe_energize_energy_juice_drink.csv\n",
      "bebidas/energy_drink_vault.csv\n",
      "bebidas/energy_drink_xs.csv\n",
      "bebidas/energy_drink_xs_gold_plus.csv\n"
     ]
    }
   ],
   "source": [
    "folder_save = 'bebidas_output'\n",
    "for filename in files:\n",
    "    print(filename)\n",
    "    output_data = format_filecsv(filename, folder_save)"
   ]
  },
  {
   "cell_type": "code",
   "execution_count": null,
   "id": "10177dde",
   "metadata": {},
   "outputs": [],
   "source": []
  }
 ],
 "metadata": {
  "kernelspec": {
   "display_name": "Python 3 (ipykernel)",
   "language": "python",
   "name": "python3"
  },
  "language_info": {
   "codemirror_mode": {
    "name": "ipython",
    "version": 3
   },
   "file_extension": ".py",
   "mimetype": "text/x-python",
   "name": "python",
   "nbconvert_exporter": "python",
   "pygments_lexer": "ipython3",
   "version": "3.8.7"
  },
  "varInspector": {
   "cols": {
    "lenName": 16,
    "lenType": 16,
    "lenVar": 40
   },
   "kernels_config": {
    "python": {
     "delete_cmd_postfix": "",
     "delete_cmd_prefix": "del ",
     "library": "var_list.py",
     "varRefreshCmd": "print(var_dic_list())"
    },
    "r": {
     "delete_cmd_postfix": ") ",
     "delete_cmd_prefix": "rm(",
     "library": "var_list.r",
     "varRefreshCmd": "cat(var_dic_list()) "
    }
   },
   "types_to_exclude": [
    "module",
    "function",
    "builtin_function_or_method",
    "instance",
    "_Feature"
   ],
   "window_display": false
  }
 },
 "nbformat": 4,
 "nbformat_minor": 5
}
