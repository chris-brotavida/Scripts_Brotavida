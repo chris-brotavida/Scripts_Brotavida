{
 "cells": [
  {
   "cell_type": "code",
   "execution_count": 1,
   "id": "4749d7ff",
   "metadata": {
    "ExecuteTime": {
     "end_time": "2021-07-28T16:53:11.550328Z",
     "start_time": "2021-07-28T16:53:11.485787Z"
    }
   },
   "outputs": [],
   "source": [
    "import requests"
   ]
  },
  {
   "cell_type": "markdown",
   "id": "0f7ae95b",
   "metadata": {},
   "source": [
    "# API: FooDB"
   ]
  },
  {
   "cell_type": "code",
   "execution_count": 4,
   "id": "2f9bccac",
   "metadata": {
    "ExecuteTime": {
     "end_time": "2021-07-28T17:01:08.691090Z",
     "start_time": "2021-07-28T17:01:06.640677Z"
    }
   },
   "outputs": [],
   "source": [
    "parameters = {\n",
    "    \"food_name\": \"Angelica\",\n",
    "    \"api_key\"  : \"d9b6cec3eb561db6f920a0797ba49f3e\",\n",
    "    \"page\": 1\n",
    "}\n",
    "\n",
    "\n",
    "response = requests.get('https://foodb.ca/api/v1/foodreport/food', params=parameters)"
   ]
  },
  {
   "cell_type": "code",
   "execution_count": 7,
   "id": "d40e0c82",
   "metadata": {
    "ExecuteTime": {
     "end_time": "2021-07-28T17:01:23.532787Z",
     "start_time": "2021-07-28T17:01:23.513809Z"
    }
   },
   "outputs": [
    {
     "data": {
      "text/plain": [
       "{'error': True, 'message': 'API key is not valid.'}"
      ]
     },
     "execution_count": 7,
     "metadata": {},
     "output_type": "execute_result"
    }
   ],
   "source": [
    "response.json()"
   ]
  }
 ],
 "metadata": {
  "kernelspec": {
   "display_name": "Python 3 (ipykernel)",
   "language": "python",
   "name": "python3"
  },
  "language_info": {
   "codemirror_mode": {
    "name": "ipython",
    "version": 3
   },
   "file_extension": ".py",
   "mimetype": "text/x-python",
   "name": "python",
   "nbconvert_exporter": "python",
   "pygments_lexer": "ipython3",
   "version": "3.8.7"
  },
  "varInspector": {
   "cols": {
    "lenName": 16,
    "lenType": 16,
    "lenVar": 40
   },
   "kernels_config": {
    "python": {
     "delete_cmd_postfix": "",
     "delete_cmd_prefix": "del ",
     "library": "var_list.py",
     "varRefreshCmd": "print(var_dic_list())"
    },
    "r": {
     "delete_cmd_postfix": ") ",
     "delete_cmd_prefix": "rm(",
     "library": "var_list.r",
     "varRefreshCmd": "cat(var_dic_list()) "
    }
   },
   "types_to_exclude": [
    "module",
    "function",
    "builtin_function_or_method",
    "instance",
    "_Feature"
   ],
   "window_display": false
  }
 },
 "nbformat": 4,
 "nbformat_minor": 5
}
