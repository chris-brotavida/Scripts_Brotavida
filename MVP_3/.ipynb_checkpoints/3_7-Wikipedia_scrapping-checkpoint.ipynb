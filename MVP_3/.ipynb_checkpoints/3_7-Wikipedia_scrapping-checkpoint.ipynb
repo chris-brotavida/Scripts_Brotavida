{
 "cells": [
  {
   "cell_type": "markdown",
   "id": "14c1efba",
   "metadata": {},
   "source": [
    "# Imports e inicialización del servidor"
   ]
  },
  {
   "cell_type": "code",
   "execution_count": 1,
   "id": "9c653a0b",
   "metadata": {
    "ExecuteTime": {
     "end_time": "2021-09-15T17:26:02.996331Z",
     "start_time": "2021-09-15T17:26:00.883047Z"
    }
   },
   "outputs": [],
   "source": [
    "import mysql.connector\n",
    "import os, getpass, re, requests\n",
    "import gensim, unidecode\n",
    "import wikipedia\n",
    "import pandas as pd\n",
    "import numpy as np\n",
    "import cvxpy as cp\n",
    "import tensorflow as tf\n",
    "from tqdm import tqdm\n",
    "from mysql.connector import Error\n",
    "from itertools import combinations\n",
    "from ast import literal_eval\n",
    "from collections import defaultdict\n",
    "from scipy.spatial import distance\n",
    "from bs4 import BeautifulSoup\n",
    "from urllib.request import urlopen\n",
    "K = 10"
   ]
  },
  {
   "cell_type": "code",
   "execution_count": 2,
   "id": "e4e6adbc",
   "metadata": {
    "ExecuteTime": {
     "end_time": "2021-09-15T17:26:08.249399Z",
     "start_time": "2021-09-15T17:26:03.881140Z"
    },
    "scrolled": true
   },
   "outputs": [
    {
     "name": "stdout",
     "output_type": "stream",
     "text": [
      "Introduzca la contraseña: ········\n",
      "Connected to MySQL Server version  8.0.26\n"
     ]
    }
   ],
   "source": [
    "# Definición de parámetros de conexión\n",
    "connection_params = {\n",
    "    'host': 'localhost',\n",
    "    'user': 'cmescobar',\n",
    "    'database': 'foodb',\n",
    "    'password': getpass.getpass(prompt='Introduzca la contraseña: ')\n",
    "}\n",
    "\n",
    "try:\n",
    "    connection = mysql.connector.connect(**connection_params)\n",
    "\n",
    "    if connection.is_connected():\n",
    "        db_Info = connection.get_server_info()\n",
    "        print(\"Connected to MySQL Server version \", db_Info)\n",
    "        cursor = connection.cursor()\n",
    "\n",
    "except Error as e:\n",
    "    print(\"Error while connecting to MySQL\", e)"
   ]
  },
  {
   "cell_type": "markdown",
   "id": "644b689c",
   "metadata": {},
   "source": [
    "# Funciones de scrapping"
   ]
  },
  {
   "cell_type": "code",
   "execution_count": 3,
   "id": "b289a32c",
   "metadata": {
    "ExecuteTime": {
     "end_time": "2021-09-15T17:26:09.183405Z",
     "start_time": "2021-09-15T17:26:09.162551Z"
    },
    "code_folding": [
     0,
     48
    ]
   },
   "outputs": [],
   "source": [
    "def bs4_scraping_OLD(page):\n",
    "    # Especificando la dirección URL\n",
    "    source = urlopen(f'https://en.wikipedia.org/wiki/{page}').read()\n",
    "    \n",
    "    # Preparando la sopa \n",
    "    soup = BeautifulSoup(source,'lxml')\n",
    "    \n",
    "    # Extrayendo el texto de los párrafos\n",
    "    text_out = ''\n",
    "    for paragraph in soup.find_all('p'):\n",
    "        text_out += paragraph.text\n",
    "\n",
    "    return text_out\n",
    "\n",
    "\n",
    "def bs4_scraping(page):\n",
    "    # Acondicionando el link de la página\n",
    "    page = page.replace(' ', '_')\n",
    "    page = unidecode.unidecode(page)\n",
    "    \n",
    "    # Especificando la dirección URL\n",
    "    source = urlopen(f'https://en.wikipedia.org/wiki/{page}').read()\n",
    "\n",
    "    # Preparando la sopa \n",
    "    soup = BeautifulSoup(source,'lxml')\n",
    "\n",
    "    # Extrayendo el texto de los párrafos\n",
    "    paragraphs = []\n",
    "    for paragraph in soup.find_all('p'):\n",
    "        paragraphs.append(str(paragraph.text))\n",
    "    \n",
    "    # Uniendo como texto plano\n",
    "    text_out = ' '.join(paragraphs)\n",
    "    \n",
    "    # Dropear footnotes en brackets\n",
    "    text_out = re.sub(r\"\\[.*?\\]+\", '', text_out)\n",
    "    \n",
    "    # Eliminar los non-breaking-spaces\n",
    "    text_out = re.sub(r\"\\xa0\", ' ', text_out)\n",
    "    \n",
    "    # Eliminar los code promotion\n",
    "    text_out = re.sub(r\"code: lat promoted to code: la \", '', text_out)\n",
    "\n",
    "    # Replace '\\n' (a new line) with '' and end the string at $1000.\n",
    "    text_out = text_out.replace('\\n', '')\n",
    "    \n",
    "    # Remover espacios extra\n",
    "    text_out = re.sub(r'\\s+', ' ', text_out)\n",
    "    \n",
    "    return text_out\n",
    "\n",
    "\n",
    "def wiki_scraping(page):\n",
    "    # Obteniendo el texto de la página de wikipedia\n",
    "    text_out = wikipedia.WikipediaPage(title=page).content\n",
    "    print(text_out)\n",
    "    # Limpiando el texto\n",
    "    text_out = re.sub(r'==.*?==+', '', text_out)\n",
    "    text_out = text_out.replace('\\n', '')\n",
    "    \n",
    "    return text_out"
   ]
  },
  {
   "cell_type": "markdown",
   "id": "c1714ca6",
   "metadata": {},
   "source": [
    "# Obtener páginas desde wikipedia "
   ]
  },
  {
   "cell_type": "code",
   "execution_count": 4,
   "id": "dfef3dd6",
   "metadata": {
    "ExecuteTime": {
     "end_time": "2021-09-15T17:26:10.133067Z",
     "start_time": "2021-09-15T17:26:10.018368Z"
    }
   },
   "outputs": [
    {
     "data": {
      "text/html": [
       "<div>\n",
       "<style scoped>\n",
       "    .dataframe tbody tr th:only-of-type {\n",
       "        vertical-align: middle;\n",
       "    }\n",
       "\n",
       "    .dataframe tbody tr th {\n",
       "        vertical-align: top;\n",
       "    }\n",
       "\n",
       "    .dataframe thead th {\n",
       "        text-align: right;\n",
       "    }\n",
       "</style>\n",
       "<table border=\"1\" class=\"dataframe\">\n",
       "  <thead>\n",
       "    <tr style=\"text-align: right;\">\n",
       "      <th></th>\n",
       "      <th>id</th>\n",
       "      <th>name</th>\n",
       "      <th>name_scientific</th>\n",
       "      <th>description</th>\n",
       "      <th>wikipedia_id</th>\n",
       "    </tr>\n",
       "  </thead>\n",
       "  <tbody>\n",
       "    <tr>\n",
       "      <th>0</th>\n",
       "      <td>1</td>\n",
       "      <td>Angelica</td>\n",
       "      <td>Angelica keiskei</td>\n",
       "      <td>Angelica is a genus of about 60 species of tal...</td>\n",
       "      <td>Angelica</td>\n",
       "    </tr>\n",
       "    <tr>\n",
       "      <th>1</th>\n",
       "      <td>2</td>\n",
       "      <td>Savoy cabbage</td>\n",
       "      <td>Brassica oleracea var. sabauda</td>\n",
       "      <td>Savoy cabbage (Brassica oleracea convar. capit...</td>\n",
       "      <td>Savoy cabbage</td>\n",
       "    </tr>\n",
       "    <tr>\n",
       "      <th>2</th>\n",
       "      <td>3</td>\n",
       "      <td>Silver linden</td>\n",
       "      <td>Tilia argentea</td>\n",
       "      <td>Tilia tomentosa (Silver Lime in the UK and Sil...</td>\n",
       "      <td>Tilia tomentosa</td>\n",
       "    </tr>\n",
       "    <tr>\n",
       "      <th>3</th>\n",
       "      <td>4</td>\n",
       "      <td>Kiwi</td>\n",
       "      <td>Actinidia chinensis</td>\n",
       "      <td>The kiwifruit, often shortened to kiwi in many...</td>\n",
       "      <td>Kiwifruit</td>\n",
       "    </tr>\n",
       "    <tr>\n",
       "      <th>4</th>\n",
       "      <td>5</td>\n",
       "      <td>Allium</td>\n",
       "      <td>Allium</td>\n",
       "      <td>Allium haematochiton is a species of wild onio...</td>\n",
       "      <td>Allium haematochiton</td>\n",
       "    </tr>\n",
       "    <tr>\n",
       "      <th>...</th>\n",
       "      <td>...</td>\n",
       "      <td>...</td>\n",
       "      <td>...</td>\n",
       "      <td>...</td>\n",
       "      <td>...</td>\n",
       "    </tr>\n",
       "    <tr>\n",
       "      <th>848</th>\n",
       "      <td>934</td>\n",
       "      <td>Asparagus fern</td>\n",
       "      <td>Asparagus setaceus</td>\n",
       "      <td>Asparagus setaceus, commonly called common asp...</td>\n",
       "      <td>Asparagus_setaceus</td>\n",
       "    </tr>\n",
       "    <tr>\n",
       "      <th>849</th>\n",
       "      <td>935</td>\n",
       "      <td>Thornless blackberry</td>\n",
       "      <td>Rubus ulmifolius</td>\n",
       "      <td>Rubus ulmifolius, commonly called thornless bl...</td>\n",
       "      <td>Rubus_ulmifolius</td>\n",
       "    </tr>\n",
       "    <tr>\n",
       "      <th>850</th>\n",
       "      <td>936</td>\n",
       "      <td>Tropical highland blackberry</td>\n",
       "      <td>Rubus adenotrichos</td>\n",
       "      <td>Rubus adenotrichos is commonly called tropical...</td>\n",
       "      <td>Rubus_adenotrichos</td>\n",
       "    </tr>\n",
       "    <tr>\n",
       "      <th>851</th>\n",
       "      <td>937</td>\n",
       "      <td>Andean blackberry</td>\n",
       "      <td>Rubus glaucus</td>\n",
       "      <td>Rubus glaucus, commonly called Andean blackber...</td>\n",
       "      <td>Rubus_glaucus</td>\n",
       "    </tr>\n",
       "    <tr>\n",
       "      <th>852</th>\n",
       "      <td>938</td>\n",
       "      <td>Blackberry</td>\n",
       "      <td>Rubus</td>\n",
       "      <td>The blackberry is an edible fruit produced by ...</td>\n",
       "      <td>Blackberry</td>\n",
       "    </tr>\n",
       "  </tbody>\n",
       "</table>\n",
       "<p>853 rows × 5 columns</p>\n",
       "</div>"
      ],
      "text/plain": [
       "      id                          name                 name_scientific  \\\n",
       "0      1                      Angelica                Angelica keiskei   \n",
       "1      2                 Savoy cabbage  Brassica oleracea var. sabauda   \n",
       "2      3                 Silver linden                  Tilia argentea   \n",
       "3      4                          Kiwi             Actinidia chinensis   \n",
       "4      5                        Allium                          Allium   \n",
       "..   ...                           ...                             ...   \n",
       "848  934                Asparagus fern              Asparagus setaceus   \n",
       "849  935          Thornless blackberry                Rubus ulmifolius   \n",
       "850  936  Tropical highland blackberry              Rubus adenotrichos   \n",
       "851  937             Andean blackberry                   Rubus glaucus   \n",
       "852  938                    Blackberry                           Rubus   \n",
       "\n",
       "                                           description          wikipedia_id  \n",
       "0    Angelica is a genus of about 60 species of tal...              Angelica  \n",
       "1    Savoy cabbage (Brassica oleracea convar. capit...         Savoy cabbage  \n",
       "2    Tilia tomentosa (Silver Lime in the UK and Sil...       Tilia tomentosa  \n",
       "3    The kiwifruit, often shortened to kiwi in many...             Kiwifruit  \n",
       "4    Allium haematochiton is a species of wild onio...  Allium haematochiton  \n",
       "..                                                 ...                   ...  \n",
       "848  Asparagus setaceus, commonly called common asp...    Asparagus_setaceus  \n",
       "849  Rubus ulmifolius, commonly called thornless bl...      Rubus_ulmifolius  \n",
       "850  Rubus adenotrichos is commonly called tropical...    Rubus_adenotrichos  \n",
       "851  Rubus glaucus, commonly called Andean blackber...         Rubus_glaucus  \n",
       "852  The blackberry is an edible fruit produced by ...            Blackberry  \n",
       "\n",
       "[853 rows x 5 columns]"
      ]
     },
     "execution_count": 4,
     "metadata": {},
     "output_type": "execute_result"
    }
   ],
   "source": [
    "query = \\\n",
    "''' SELECT f.id, f.name, f.name_scientific, f.description, f.wikipedia_id\n",
    "    FROM foods f\n",
    "    WHERE f.wikipedia_id IS NOT NULL\n",
    "    AND f.wikipedia_id != '';\n",
    "'''\n",
    "\n",
    "# Solicitud de la query\n",
    "df = pd.read_sql(query, connection)\n",
    "df"
   ]
  },
  {
   "cell_type": "code",
   "execution_count": 5,
   "id": "85071049",
   "metadata": {
    "ExecuteTime": {
     "end_time": "2021-09-15T17:26:10.631429Z",
     "start_time": "2021-09-15T17:26:10.618497Z"
    }
   },
   "outputs": [],
   "source": [
    "X_desc = df['description']\n",
    "X_wiki = df['wikipedia_id']"
   ]
  },
  {
   "cell_type": "code",
   "execution_count": 6,
   "id": "e6874915",
   "metadata": {
    "ExecuteTime": {
     "end_time": "2021-09-15T17:26:11.068093Z",
     "start_time": "2021-09-15T17:26:11.054491Z"
    }
   },
   "outputs": [
    {
     "data": {
      "text/plain": [
       "'Angelica'"
      ]
     },
     "execution_count": 6,
     "metadata": {},
     "output_type": "execute_result"
    }
   ],
   "source": [
    "X_wiki[0]"
   ]
  },
  {
   "cell_type": "markdown",
   "id": "822c322f",
   "metadata": {},
   "source": [
    "# Beautiful Soup"
   ]
  },
  {
   "cell_type": "code",
   "execution_count": 7,
   "id": "e22f09f8",
   "metadata": {
    "ExecuteTime": {
     "end_time": "2021-09-15T17:26:13.038954Z",
     "start_time": "2021-09-15T17:26:11.884056Z"
    }
   },
   "outputs": [
    {
     "data": {
      "text/plain": [
       "' The onion (Allium cepa L., from Latin cepa \"onion\"), also known as the bulb onion or common onion, is a vegetable that is the most widely cultivated species of the genus Allium. The shallot is a botanical variety of the onion. Until 2010, the shallot was classified as a separate species.: 21 Its close relatives include the garlic, scallion, leek, chive, and Chinese onion. This genus also contains several other species variously referred to as onions and cultivated for food, such as the Japanese bunching onion (Allium fistulosum), the tree onion (A. ×proliferum), and the Canada onion (Allium canadense). The name \"wild onion\" is applied to a number of Allium species, but A. cepa is exclusively known from cultivation. Its ancestral wild original form is not known, although escapes from cultivation have become established in some regions. The onion is most frequently a biennial or a perennial plant, but is usually treated as an annual and harvested in its first growing season. The onion plant has a fan of hollow, bluish-green leaves and its bulb at the base of the plant begins to swell when a certain day-length is reached. The bulbs are composed of shortened, compressed, underground stems surrounded by fleshy modified scale (leaves) that envelop a central bud at the tip of the stem. In the autumn (or in spring, in the case of overwintering onions), the foliage dies down and the outer layers of the bulb become more dry and brittle. The crop is harvested and dried and the onions are ready for use or storage. The crop is prone to attack by a number of pests and diseases, particularly the onion fly, the onion eelworm, and various fungi which can cause rotting. Some varieties of A. cepa, such as shallots and potato onions, produce multiple bulbs. Onions are cultivated and used around the world. As a food item, they are usually served cooked, as a vegetable or part of a prepared savoury dish, but can also be eaten raw or used to make pickles or chutneys. They are pungent when chopped and contain certain chemical substances which may irritate the eyes. The onion plant (Allium cepa), also known as the bulb onion or common onion,: 9-10 is the most widely cultivated species of the genus Allium. It was first officially described by Carl Linnaeus in his 1753 work Species Plantarum. A number of synonyms have appeared in its taxonomic history: A. cepa is known exclusively from cultivation, but related wild species occur in Central Asia. The most closely related species include A. vavilovii (Popov & Vved.) and A. asarense (R.M. Fritsch & Matin) from Iran. However, Zohary and Hopf state that \"there are doubts whether the A. vavilovii collections tested represent genuine wild material or only feral derivatives of the crop.\" The vast majority of cultivars of A. cepa belong to the \"common onion group\" (A. cepa var. cepa) and are usually referred to simply as \"onions\". The Aggregatum Group of cultivars (A. cepa var. aggregatum) includes both shallots and potato onions.: 20-21 The genus Allium also contains a number of other species variously referred to as onions and cultivated for food, such as the Japanese bunching onion (A. fistulosum), Egyptian onion (A. ×proliferum), and Canada onion (A. canadense).: 9-10 Cepa is commonly accepted as Latin for \"onion\" and has an affinity with Ancient Greek: κάπια (kápia) and Albanian: qepë and is ancestral to Aromanian: tseapã, Catalan: ceba, Occitan: ceba, Portuguese: cebola, Spanish: cebolla, Italian: cipolla, and Romanian: ceapă. The English word chive is also derived from the Old French cive, which derived from cepa. The onion plant has been grown and selectively bred in cultivation for at least 7,000 years. It is a biennial plant, but is usually grown as an annual. Modern varieties typically grow to a height of 15 to 45 cm (6 to 18 in). The leaves are yellowish- to bluish green and grow alternately in a flattened, fan-shaped swathe. They are fleshy, hollow, and cylindrical, with one flattened side. They are at their broadest about a quarter of the way up, beyond which they taper towards a blunt tip. The base of each leaf is a flattened, usually white sheath that grows out of the basal plate of a bulb. From the underside of the plate, a bundle of fibrous roots extends for a short way into the soil. As the onion matures, food reserves begin to accumulate in the leaf bases and the bulb of the onion swells. In the autumn, the leaves die back and the outer scales of the bulb become dry and brittle, so the crop is then normally harvested. If left in the soil over winter, the growing point in the middle of the bulb begins to develop in the spring. New leaves appear and a long, stout, hollow stem expands, topped by a bract protecting a developing inflorescence. The inflorescence takes the form of a globular umbel of white flowers with parts in sixes. The seeds are glossy black and triangular in cross section. The average pH of an onion is around 5.5. Because the wild onion is extinct and ancient records of using onions span western and eastern Asia, the geographic origin of the onion is uncertain, although domestication likely took place in Southwest or Central Asia.: 20-21 Onions have been variously described as having originated in Iran, western Pakistan and Central Asia.: 1 Traces of onions recovered from Bronze Age settlements in China suggest that onions were used as far back as 5000 BC, not only for their flavour, but the bulb\\'s durability in storage and transport. Ancient Egyptians revered the onion bulb, viewing its spherical shape and concentric rings as symbols of eternal life. Onions were used in Egyptian burials, as evidenced by onion traces found in the eye sockets of Ramesses IV. Pliny the Elder of the first century AD wrote about the use of onions and cabbage in Pompeii. He documented Roman beliefs about the onion\\'s ability to improve ocular ailments, aid in sleep, and heal everything from oral sores and toothaches to dog bites, lumbago, and even dysentery. Archaeologists unearthing Pompeii long after its 79 AD volcanic burial have found gardens resembling those in Pliny\\'s detailed narratives. According to texts collected in the fifth/sixth century AD under the authorial aegis of \"Apicius\" (said to have been a gourmet), onions were used in many Roman recipes. In the Age of Discovery, onions were taken to North America by the first European settlers, only to discover the plant readily available, and in wide use in Native American gastronomy. According to diaries kept by certain first English colonists, the bulb onion was one of the first crops planted by the Pilgrim fathers. Common onions are normally available in three colour varieties: While the large, mature onion bulb is most often eaten, onions can be eaten at immature stages. Young plants may be harvested before bulbing occurs and used whole as spring onions or scallions. When an onion is harvested after bulbing has begun, but the onion is not yet mature, the plants are sometimes referred to as \"summer\" onions. Additionally, onions may be bred and grown to mature at smaller sizes. Depending on the mature size and the purpose for which the onion is used, these may be referred to as pearl, boiler, or pickler onions, but differ from true pearl onions which are a different species. Pearl and boiler onions may be cooked as a vegetable rather than as an ingredient and pickler onions are often preserved in vinegar as a long-lasting relish. Onions are available in fresh, frozen, canned, caramelised, pickled, and chopped forms. The dehydrated product is available as kibbled, sliced, ring, minced, chopped, granulated, and powder forms. Onion powder is a seasoning widely used when the fresh ingredient is not available. It is made from finely ground, dehydrated onions, mainly the pungent varieties of bulb onions, and has a strong odour. Being dehydrated, it has a long shelf life and is available in several varieties: yellow, red, and white. Onions are commonly chopped and used as an ingredient in various hearty warm dishes, and may also be used as a main ingredient in their own right, for example in French onion soup, creamed onions, and onion chutney. They are versatile and can be baked, boiled, braised, grilled, fried, roasted, sautéed, or eaten raw in salads. Their layered nature makes them easy to hollow out once cooked, facilitating stuffing them, as in Turkish sogan-dolma. Onions pickled in vinegar are eaten as a snack around the world, and as a side serving in pubs and fish and chip shops throughout the United Kingdom and the Commonwealth. They are part of a traditional British pub\\'s ploughman\\'s lunch, usually served with crusty bread, English cheese, and ale. Similar to garlic, onions can show an additional colour – pink-red – after cutting, an effect caused by reactions of amino acids with sulfur compounds. Onions have particularly large cells that are readily observed under low magnification. Forming a single layer of cells, the bulb epidermis is easy to separate for educational, experimental, and breeding purposes. Onions are therefore commonly used in science education to teach the use of a microscope for observing cell structure. Onions are toxic to dogs, cats, guinea pigs, and many other animals. Onion skins can be boiled to make an orange-brown dye. Onions contain quercetin, a plant pigment which has antioxidant properties in vitro. The results of a Japanese study suggest that onions help in reducing oxidative stress caused by diabetes. In yet another study conducted in China concluded that onion juice reduces oxidative stress and can be recommended to patients dealing with bone problems like osteoporosis. Most onion cultivars are about 89% water, 9% carbohydrates (including 4% sugar and 2% dietary fibre), 1% protein, and negligible fat (table). Onions contain low amounts of essential nutrients and have an energy value of 166 kJ (40 kilocalories) in a 100 g (3.5 oz) amount. Onions contribute savoury flavour to dishes without contributing significant caloric content. Considerable differences exist between onion varieties in phytochemical content, particularly for polyphenols, with shallots having the highest level, six times the amount found in Vidalia onions. Yellow onions have the highest total flavonoid content, an amount 11 times higher than in white onions. Red onions have considerable content of anthocyanin pigments, with at least 25 different compounds identified representing 10% of total flavonoid content. Onion polyphenols are under basic research to determine their possible biological properties in humans. Some people suffer from allergic reactions after handling onions. Symptoms can include contact dermatitis, intense itching, rhinoconjunctivitis, blurred vision, bronchial asthma, sweating, and anaphylaxis. Allergic reactions may not occur when eating cooked onions, possibly due to the denaturing of the proteins from cooking. Freshly cut onions often cause a stinging sensation in the eyes of people nearby, and often uncontrollable tears. This is caused by the release of a volatile liquid, syn-propanethial-S-oxide and its aerosol, which stimulates nerves in the eye. This gas is produced by a chain of reactions which serve as a defence mechanism: chopping an onion causes damage to cells which releases enzymes called alliinases. These break down amino acid sulfoxides and generate sulfenic acids. A specific sulfenic acid, 1-propenesulfenic acid, is rapidly acted on by a second enzyme, the lacrimatory factor synthase (LFS), producing the syn-propanethial-S-oxide. This gas diffuses through the air and soon reaches the eyes, where it activates sensory neurons. Lacrimal glands produce tears to dilute and flush out the irritant. Eye irritation can be avoided by cutting onions under running water or submerged in a basin of water. Leaving the root end intact also reduces irritation as the onion base has a higher concentration of sulphur compounds than the rest of the bulb. Refrigerating the onions before use reduces the enzyme reaction rate and using a fan can blow the gas away from the eyes. The more often one chops onions, the less one experiences eye irritation. The amount of sulfenic acids and lacrimal factor released and the irritation effect differs among Allium species. In 2008, the New Zealand Institute for Crop and Food Research created \"no tears\" onions by genetic modification to prevent the synthesis of lachrymatory factor synthase in onions. One study suggests that consumers prefer the flavor of onions with lower LFS content. However, since the LFS-silencing process involves reducing sulfur ingestion by the plant, it has also been suggested that LFS− onions are inferior in flavor. A method for efficiently differentiating LFS− and LFS+ onions has been developed based on mass spectrometry, with potential application in high-volume production; gas chromatography is also used to measure lachrymatory factor in onions. In early 2018, Bayer released the first crop yield of commercially available LFS-silenced onions under the name \"Sunions.\" They were the product of 30 years of cross-breeding; genetic modification was not employed. Guinea hen weed and honey garlic contain a similar lachrymatory factor. Synthetic onion lachrymatory factor has been used in a study related to tear production, and has been proposed as a nonlethal deterrent against thieves and intruders. Onions are best cultivated in fertile soils that are well-drained. Sandy loams are good as they are low in sulphur, while clayey soils usually have a high sulphur content and produce pungent bulbs. Onions require a high level of nutrients in the soil. Phosphorus is often present in sufficient quantities, but may be applied before planting because of its low level of availability in cold soils. Nitrogen and potash can be applied at regular intervals during the growing season, the last application of nitrogen being at least four weeks before harvesting. Bulbing onions are day-length sensitive; their bulbs begin growing only after the number of daylight hours has surpassed some minimal quantity. Most traditional European onions are referred to as \"long-day\" onions, producing bulbs only after 14 hours or more of daylight occurs. Southern European and North African varieties are often known as \"intermediate-day\" types, requiring only 12–13 hours of daylight to stimulate bulb formation. \"Short-day\" onions, which have been developed in more recent times, are planted in mild-winter areas in the autumn and form bulbs in the early spring, and require only 11–12 hours of daylight to stimulate bulb formation. Onions are a cool-weather crop and can be grown in USDA zones 3 to 9. Hot temperatures or other stressful conditions cause them to \"bolt\", meaning that a flower stem begins to grow. Onions may be grown from seeds or from partially grown bulbs called \"sets\". Because onion seeds are short-lived, fresh seeds germinate more effectively when sown in shallow rows, or \"drills,\" with each drill 12\" to 18\" apart. As the seedlings emerge and crowd each other, they are progressively thinned until the proper distance, usually 4\" to 6\", between each plant is attained. In suitable climates, certain cultivars can be sown in late summer and autumn to overwinter in the ground and produce early crops the following year. Onion bulbs are produced by sowing seeds in a dense pattern in early summer, then harvested in the autumn when the bulbs are still small, followed by drying and storage. These bulbs planted the following spring grow into mature bulbs later in the growing season. Certain cultivars used for growing and storing bulbs may not have such good storage characteristics as those grown directly from seed. Routine care during the growing season involves keeping the rows free of competing weeds, especially when the plants are young. The plants are shallow-rooted and do not need much water when established. Bulbing usually takes place after 12 to 18 weeks. The bulbs can be gathered when needed to eat fresh, but if they will be stored, they are harvested after the leaves have died back naturally. In dry weather, they can be left on the surface of the soil for a few days for drying, then placed in nets, roped into strings, or laid in layers in shallow boxes. They are stored effectively in a well-ventilated, cool place. Onions suffer from a number of plant disorders. The most serious for the home gardener are likely to be the onion fly, stem and bulb eelworm, white rot, and neck rot. Diseases affecting the foliage include rust and smut, downy mildew, and white tip disease. The bulbs may be affected by splitting, white rot, and neck rot. Shanking is a condition in which the central leaves turn yellow and the inner part of the bulb collapses into an unpleasant-smelling slime. Most of these disorders are best treated by removing and burning affected plants. The larvae of the onion leaf miner or leek moth (Acrolepiopsis assectella) sometimes attack the foliage and may burrow down into the bulb. The onion fly (Delia antiqua) lays eggs on the leaves and stems and on the ground close to onion, shallot, leek, and garlic plants. The fly is attracted to the crop by the smell of damaged tissue and is liable to occur after thinning. Plants grown from sets are less prone to attack. The larvae tunnel into the bulbs and the foliage wilts and turns yellow. The bulbs are disfigured and rot, especially in wet weather. Control measures may include crop rotation, the use of seed dressings, early sowing or planting, and the removal of infested plants. The onion eelworm (Ditylenchus dipsaci), a tiny parasitic soil-living nematode, causes swollen, distorted foliage. Young plants are killed and older ones produce soft bulbs. No cure is known and affected plants should be uprooted and burned. The site should not be used for growing onions again for several years and should also be avoided for growing carrots, parsnips, and beans, which are also susceptible to the eelworm. White rot of onions, leeks, and garlic is caused by the soil-borne fungus Sclerotium cepivorum. As the roots rot, the foliage turns yellow and wilts. The bases of the bulbs are attacked and become covered by a fluffy white mass of mycelia, which later produces small, globular black structures called sclerotia. These resting structures remain in the soil to reinfect a future crop. No cure for this fungal disease exists, so affected plants should be removed and destroyed and the ground used for unrelated crops in subsequent years. Neck rot is a fungal disease affecting onions in storage. It is caused by Botrytis allii, which attacks the neck and upper parts of the bulb, causing a grey mould to develop. The symptoms often first occur where the bulb has been damaged and spread downwards in the affected scales. Large quantities of spores are produced and crust-like sclerotia may also develop. In time, a dry rot sets in and the bulb becomes a dry, mummified structure. This disease may be present throughout the growing period, but only manifests itself when the bulb is in storage. Antifungal seed dressings are available and the disease can be minimised by preventing physical damage to the bulbs at harvesting, careful drying and curing of the mature onions, and correct storage in a cool, dry place with plenty of circulating air. In 2019, world production of onions and shallots (as green produce) was 4.5 million tonnes, led by China with 22% of the world total, and Japan, Mali, and South Korea as secondary producers. Cooking onions and sweet onions are better stored at room temperature, optimally in a single layer, in large mesh bags in a dry, cool, dark, well-ventilated location. In this environment, cooking onions have a shelf life of three to four weeks and sweet onions one to two weeks. Cooking onions will absorb odours from apples and pears. Also, they draw moisture from vegetables with which they are stored which may cause them to decay. Sweet onions have a greater water and sugar content than cooking onions. This makes them sweeter and milder tasting, but reduces their shelf life. Sweet onions can be stored refrigerated; they have a shelf life of around 1 month. Irrespective of type, any cut pieces of onion are best tightly wrapped, stored away from other produce, and used within two to three days. Most of the diversity within A. cepa occurs within this group, the most economically important Allium crop. Plants within this group form large single bulbs, and are grown from seed or seed-grown sets. The majority of cultivated varieties grown for dry bulbs, salad onions, and pickling onions belong to this group.: 20-21 The range of diversity found among these cultivars includes variation in photoperiod (length of day that triggers bulbing), storage life, flavour, and skin colour. Common onions range from the pungent varieties used for dried soups and onion powder to the mild and hearty sweet onions, such as the Vidalia from Georgia, USA, or Walla Walla from Washington that can be sliced and eaten raw on a sandwich. This group contains shallots and potato onions, also referred to as multiplier onions. The bulbs are smaller than those of common onions, and a single plant forms an aggregate cluster of several bulbs from a master. They are propagated almost exclusively from daughter bulbs, although reproduction from seed is possible. Shallots are the most important subgroup within this group and comprise the only cultivars cultivated commercially. They form aggregate clusters of small, narrowly ovoid to pear-shaped bulbs. Potato onions differ from shallots in forming larger bulbs with fewer bulbs per cluster, and having a flattened (onion-like) shape. However, intermediate forms exist.: 20-21 I\\'itoi onion is a prolific multiplier onion cultivated in the Baboquivari Peak Wilderness, Arizona area. This small-bulb type has a shallot-like flavour and is easy to grow and ideal for hot, dry climates. Bulbs are separated, and planted in the fall 25 mm (1 in) below the surface and 300 mm (12 in) apart. Bulbs will multiply into clumps and can be harvested throughout the cooler months. Tops die back in the heat of summer and may return with heavy rains; bulbs can remain in the ground or be harvested and stored in a cool dry place for planting in the fall. The plants rarely flower; propagation is by division. A number of hybrids are cultivated that have A. cepa parentage, such as the diploid tree onion or Egyptian onion (A. ×proliferum), and the triploid onion (A. ×cornutum). The tree onion or Egyptian onion produces bulblets in the umbel instead of flowers, and is now known to be a hybrid of A. cepa and A. fistulosum. It has previously been treated as a variety of A. cepa, for example A. cepa var. proliferum, A. cepa var. bulbiferum, and A. cepa var. viviparum.: 19 It has been grown for centuries in Japan and China for use as a salad onion.: 9-10 The triploid onion is a hybrid species with three sets of chromosomes, two sets from A. cepa and the third set from an unknown parent.: 19 Various clones of the triploid onion are grown locally in different regions, such as \\'Ljutika\\' in Croatia, and \\'Pran\\', \\'Poonch\\', and \\'Srinagar\\' in the India-Kashmir region. \\'Pran\\' is grown extensively in the northern Indian provinces of Jammu and Kashmir. There are very small genetic differences between \\'Pran\\' and the Croatian clone \\'Ljutika\\', implying a monophyletic origin for this species. Some authors have used the name A. cepa var. viviparum (Metzg.) Alef. for the triploid onion, but this name has also been applied to the Egyptian onion. The only name unambiguously connected with the triploid onion is A. ×cornutum. Spring onions or salad onions may be grown from the Welsh onion (A. fistulosum), as well as from A. cepa. Young plants of A. fistulosum and A. cepa look very similar, but may be distinguished by their leaves, which are circular in cross-section in A. fistulosum rather than flattened on one side. '"
      ]
     },
     "execution_count": 7,
     "metadata": {},
     "output_type": "execute_result"
    }
   ],
   "source": [
    "bs4_scraping(X_wiki[5])"
   ]
  },
  {
   "cell_type": "markdown",
   "id": "5cb9a26d",
   "metadata": {},
   "source": [
    "# Wikipedia"
   ]
  },
  {
   "cell_type": "code",
   "execution_count": 8,
   "id": "923feb05",
   "metadata": {
    "ExecuteTime": {
     "end_time": "2021-09-15T17:26:17.709917Z",
     "start_time": "2021-09-15T17:26:14.746297Z"
    },
    "scrolled": true
   },
   "outputs": [
    {
     "name": "stdout",
     "output_type": "stream",
     "text": [
      "Angelica is a genus of about 60 species of tall biennial and perennial herbs in the family Apiaceae, native to temperate and subarctic regions of the Northern Hemisphere, reaching as far north as Iceland, Lapland and Greenland. They grow to 1–3 m (3 ft 3 in–9 ft 10 in) tall, with large bipinnate leaves and large compound umbels of white or greenish-white flowers. Found mainly in China, its main use was for medicine. It shows variations in fruit anatomy, leaf morphology and subterranean structures. The genes are extremely polymorphic.\n",
      "Some species can be found in purple moor and rush pastures.\n",
      "\n",
      "\n",
      "== Characteristics ==\n",
      "Angelica species grow to 1–3 m (3 ft 3 in–9 ft 10 in) tall, with large bipinnate leaves and large compound umbels of white or greenish-white flowers. Their large, sparkling, starburst flowers are pollinated by a great variety of insects (the generalist pollination syndrome), the floral scents are species-specific, and even specific to particular subspecies. The active ingredients of angelica are found in the roots and rhizomes and contains furocoumarins in its tissues which make the skin sensitive to light.\n",
      "\n",
      "\n",
      "== Species ==\n",
      "Angelica acutiloba – dang-gui in Chinese\n",
      "Angelica adzharica – Adjarian angelica\n",
      "Angelica ampla – giant angelica\n",
      "Angelica archangelica – garden angelica, archangel, angelique\n",
      "Angelica arguta – Lyall's angelica\n",
      "Angelica atropurpurea – purplestem angelica, alexanders\n",
      "Angelica breweri – Brewer's angelica\n",
      "Angelica californica – California angelica\n",
      "Angelica callii – Call's angelica\n",
      "Angelica canbyi – Canby's angelica\n",
      "Angelica cartilaginomarginata\n",
      "Angelica dahurica – bai zhi in Chinese\n",
      "Angelica dawsonii – Dawson's angelica\n",
      "Angelica dentata – coastalplain angelica\n",
      "Angelica genuflexa – kneeling angelica\n",
      "Angelica gigas – cham dangwi in Korean\n",
      "Angelica glabra – synonym for Angelica dahurica\n",
      "Angelica glauca – gandhrain (Kumaoni language), chippe/chouru' in Uttarakhandi languages (India)\n",
      "Angelica grayi – Gray's angelica\n",
      "Angelica harae\n",
      "Angelica hendersonii – Henderson's angelica\n",
      "Angelica japonica\n",
      "Angelica keiskei – ashitaba in Japanese\n",
      "Angelica kingii – King's angelica\n",
      "Angelica lignescens \n",
      "Angelica lineariloba – poison angelica\n",
      "Angelica lucida – seacoast angelica\n",
      "Angelica pachycarpa\n",
      "Angelica palustris – marsh angelica\n",
      "Angelica pancicii\n",
      "Angelica pinnata – small-leaf angelica\n",
      "Angelica polymorpha\n",
      "Angelica pubescens – shishiudo in Japanese, du huo in Chinese\n",
      "Angelica roseana – rose angelica\n",
      "Angelica sikkimensis\n",
      "Angelica sinensis –  dong quai in Chinese\n",
      "Angelica scabrida – Charleston Mountain angelica, rough angelica\n",
      "Angelica sylvestris – wild angelica\n",
      "Angelica tenuissima – Korean gobon, slender angelica\n",
      "Angelica tomentosa – woolly angelica\n",
      "Angelica triquinata – filmy angelica\n",
      "Angelica ubatakensis\n",
      "Angelica ursina\n",
      "Angelica venenosa – hairy angelica\n",
      "Angelica wheeleri – Utah angelica\n",
      "\n",
      "\n",
      "== Cultivation and uses ==\n",
      "Some species are grown as flavouring agents or for their medicinal properties. The most notable of these is garden angelica (A. archangelica), which is commonly known simply as angelica. Natives of Lapland use the fleshy roots as food and the stalks as medicine. Crystallized strips of young angelica stems and midribs are green in colour and are sold as decorative and flavoursome cake decoration material, but may also be enjoyed on their own. The roots and seeds are commonly used to flavour gin.  Its presence accounts for the distinct flavour of many liqueurs, such as Chartreuse.\n",
      "Among the Sami people of Lapland, the plant is used to make a traditional musical instrument the fadno.\n",
      "Seacoast angelica (A. lucida) has been eaten as a wild version of celery.\n",
      "In parts of Japan, especially the Izu Islands, the shoots and leaves of ashitaba (A. keiskei) are eaten as tempura, particularly in the spring.\n",
      "A. sylvestris and some other species are eaten by the larvae of some Lepidoptera species, including bordered pug, grey pug, lime-speck pug and the V-pug.\n",
      "A. dawsonii was used by several first nations in North America for ritual purposes.\n",
      "A. atropurpurea is found in North America from Newfoundland west to Wisconsin and south to Maryland, and was smoked by Missouri tribes for colds and respiratory ailments.  This species is very similar in appearance to the poisonous water hemlock.\n",
      "The boiled roots of angelica were applied internally and externally to wounds by the Aleut people in Alaska to speed healing.The herb, also known by the Chinese name, bai zhi, and Latin name, radix angelicae dahuricacode: lat promoted to code: la , is used medicinally in traditional Chinese medicine.\n",
      "\n",
      "\n",
      "== References ==\n",
      "\n",
      "\n",
      "== External links ==\n",
      "\"Angelica\". UVSC Herbarium.\n",
      "\"History of Angelica\". Our Herb Garden.\n",
      "\"Plants Profile Angelica L.\" Plants Database. USDA - NRCS.\n",
      "\"How to Take Care of Ashitaba Plant (Longevity Herb) Angelica\". Rochkirstin Santos.\n",
      "\"Angelica\" . Encyclopædia Britannica. 2 (9th ed.). 1878. p. 28.\n",
      "\"Angelica\" . Encyclopædia Britannica. 2 (11th ed.). 1911. p. 6.\n",
      "Traditional and Modern Use of Wild Angelica\n",
      "Angelica is a genus of about 60 species of tall biennial and perennial herbs in the family Apiaceae, native to temperate and subarctic regions of the Northern Hemisphere, reaching as far north as Iceland, Lapland and Greenland. They grow to 1–3 m (3 ft 3 in–9 ft 10 in) tall, with large bipinnate leaves and large compound umbels of white or greenish-white flowers. Found mainly in China, its main use was for medicine. It shows variations in fruit anatomy, leaf morphology and subterranean structures. The genes are extremely polymorphic.Some species can be found in purple moor and rush pastures.Angelica species grow to 1–3 m (3 ft 3 in–9 ft 10 in) tall, with large bipinnate leaves and large compound umbels of white or greenish-white flowers. Their large, sparkling, starburst flowers are pollinated by a great variety of insects (the generalist pollination syndrome), the floral scents are species-specific, and even specific to particular subspecies. The active ingredients of angelica are found in the roots and rhizomes and contains furocoumarins in its tissues which make the skin sensitive to light.Angelica acutiloba – dang-gui in ChineseAngelica adzharica – Adjarian angelicaAngelica ampla – giant angelicaAngelica archangelica – garden angelica, archangel, angeliqueAngelica arguta – Lyall's angelicaAngelica atropurpurea – purplestem angelica, alexandersAngelica breweri – Brewer's angelicaAngelica californica – California angelicaAngelica callii – Call's angelicaAngelica canbyi – Canby's angelicaAngelica cartilaginomarginataAngelica dahurica – bai zhi in ChineseAngelica dawsonii – Dawson's angelicaAngelica dentata – coastalplain angelicaAngelica genuflexa – kneeling angelicaAngelica gigas – cham dangwi in KoreanAngelica glabra – synonym for Angelica dahuricaAngelica glauca – gandhrain (Kumaoni language), chippe/chouru' in Uttarakhandi languages (India)Angelica grayi – Gray's angelicaAngelica haraeAngelica hendersonii – Henderson's angelicaAngelica japonicaAngelica keiskei – ashitaba in JapaneseAngelica kingii – King's angelicaAngelica lignescens Angelica lineariloba – poison angelicaAngelica lucida – seacoast angelicaAngelica pachycarpaAngelica palustris – marsh angelicaAngelica panciciiAngelica pinnata – small-leaf angelicaAngelica polymorphaAngelica pubescens – shishiudo in Japanese, du huo in ChineseAngelica roseana – rose angelicaAngelica sikkimensisAngelica sinensis –  dong quai in ChineseAngelica scabrida – Charleston Mountain angelica, rough angelicaAngelica sylvestris – wild angelicaAngelica tenuissima – Korean gobon, slender angelicaAngelica tomentosa – woolly angelicaAngelica triquinata – filmy angelicaAngelica ubatakensisAngelica ursinaAngelica venenosa – hairy angelicaAngelica wheeleri – Utah angelicaSome species are grown as flavouring agents or for their medicinal properties. The most notable of these is garden angelica (A. archangelica), which is commonly known simply as angelica. Natives of Lapland use the fleshy roots as food and the stalks as medicine. Crystallized strips of young angelica stems and midribs are green in colour and are sold as decorative and flavoursome cake decoration material, but may also be enjoyed on their own. The roots and seeds are commonly used to flavour gin.  Its presence accounts for the distinct flavour of many liqueurs, such as Chartreuse.Among the Sami people of Lapland, the plant is used to make a traditional musical instrument the fadno.Seacoast angelica (A. lucida) has been eaten as a wild version of celery.In parts of Japan, especially the Izu Islands, the shoots and leaves of ashitaba (A. keiskei) are eaten as tempura, particularly in the spring.A. sylvestris and some other species are eaten by the larvae of some Lepidoptera species, including bordered pug, grey pug, lime-speck pug and the V-pug.A. dawsonii was used by several first nations in North America for ritual purposes.A. atropurpurea is found in North America from Newfoundland west to Wisconsin and south to Maryland, and was smoked by Missouri tribes for colds and respiratory ailments.  This species is very similar in appearance to the poisonous water hemlock.The boiled roots of angelica were applied internally and externally to wounds by the Aleut people in Alaska to speed healing.The herb, also known by the Chinese name, bai zhi, and Latin name, radix angelicae dahuricacode: lat promoted to code: la , is used medicinally in traditional Chinese medicine.\"Angelica\". UVSC Herbarium.\"History of Angelica\". Our Herb Garden.\"Plants Profile Angelica L.\" Plants Database. USDA - NRCS.\"How to Take Care of Ashitaba Plant (Longevity Herb) Angelica\". Rochkirstin Santos.\"Angelica\" . Encyclopædia Britannica. 2 (9th ed.). 1878. p. 28.\"Angelica\" . Encyclopædia Britannica. 2 (11th ed.). 1911. p. 6.Traditional and Modern Use of Wild Angelica\n"
     ]
    }
   ],
   "source": [
    "_ = wiki_scraping(X_wiki[0])\n",
    "print(_)"
   ]
  },
  {
   "cell_type": "markdown",
   "id": "fda36ccb",
   "metadata": {},
   "source": [
    "# Aplicando web scraping con BS4 para obtener el texto de las páginas"
   ]
  },
  {
   "cell_type": "code",
   "execution_count": 9,
   "id": "86fe1a6b",
   "metadata": {
    "ExecuteTime": {
     "end_time": "2021-09-15T17:39:53.345244Z",
     "start_time": "2021-09-15T17:26:19.249776Z"
    }
   },
   "outputs": [
    {
     "name": "stderr",
     "output_type": "stream",
     "text": [
      "Ingredient: 100%|███████████████████| 853/853 [13:34<00:00,  1.05it/s]\n"
     ]
    }
   ],
   "source": [
    "# Definición de la columna de texto a añadir\n",
    "text_wiki = list()\n",
    "\n",
    "for page in tqdm(X_wiki, ncols=70, desc='Ingredient'):\n",
    "    # Definición del texto que se tiene para cada columna\n",
    "    try:\n",
    "        text_to = bs4_scraping(page)\n",
    "        text_wiki.append(text_to)\n",
    "    except:\n",
    "        print(\"Page not found:\", page)\n",
    "        text_wiki.append(None)\n",
    "\n",
    "# Añadiendo al dataframe\n",
    "df['wikipedia_text'] = text_wiki"
   ]
  },
  {
   "cell_type": "code",
   "execution_count": 10,
   "id": "8a3f7799",
   "metadata": {
    "ExecuteTime": {
     "end_time": "2021-09-15T17:39:57.624134Z",
     "start_time": "2021-09-15T17:39:57.595211Z"
    }
   },
   "outputs": [],
   "source": [
    "# Guardando\n",
    "df.to_pickle('Summary/Food_wikitext.pkl')"
   ]
  },
  {
   "cell_type": "code",
   "execution_count": null,
   "id": "f9207eec",
   "metadata": {},
   "outputs": [],
   "source": []
  }
 ],
 "metadata": {
  "kernelspec": {
   "display_name": "Python 3 (ipykernel)",
   "language": "python",
   "name": "python3"
  },
  "language_info": {
   "codemirror_mode": {
    "name": "ipython",
    "version": 3
   },
   "file_extension": ".py",
   "mimetype": "text/x-python",
   "name": "python",
   "nbconvert_exporter": "python",
   "pygments_lexer": "ipython3",
   "version": "3.8.7"
  },
  "varInspector": {
   "cols": {
    "lenName": 16,
    "lenType": 16,
    "lenVar": 40
   },
   "kernels_config": {
    "python": {
     "delete_cmd_postfix": "",
     "delete_cmd_prefix": "del ",
     "library": "var_list.py",
     "varRefreshCmd": "print(var_dic_list())"
    },
    "r": {
     "delete_cmd_postfix": ") ",
     "delete_cmd_prefix": "rm(",
     "library": "var_list.r",
     "varRefreshCmd": "cat(var_dic_list()) "
    }
   },
   "types_to_exclude": [
    "module",
    "function",
    "builtin_function_or_method",
    "instance",
    "_Feature"
   ],
   "window_display": false
  }
 },
 "nbformat": 4,
 "nbformat_minor": 5
}
