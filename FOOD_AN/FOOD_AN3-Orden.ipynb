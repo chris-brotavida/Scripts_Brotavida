{
 "cells": [
  {
   "cell_type": "markdown",
   "id": "1a68ed41",
   "metadata": {},
   "source": [
    "# Análisis de variables más importantes por cluster"
   ]
  },
  {
   "cell_type": "code",
   "execution_count": 23,
   "id": "6e666611",
   "metadata": {
    "ExecuteTime": {
     "end_time": "2021-10-13T17:17:14.452696Z",
     "start_time": "2021-10-13T17:17:14.419119Z"
    }
   },
   "outputs": [],
   "source": [
    "import os, pickle\n",
    "import pandas as pd\n",
    "import numpy as np\n",
    "import tensorflow as tf\n",
    "import plotly.graph_objects as go\n",
    "import plotly.express as px\n",
    "from collections import defaultdict\n",
    "from sklearn.linear_model import LogisticRegression "
   ]
  },
  {
   "cell_type": "markdown",
   "id": "7c4a9b8b",
   "metadata": {},
   "source": [
    "# Obtención de los datos"
   ]
  },
  {
   "cell_type": "code",
   "execution_count": 46,
   "id": "71c5b40e",
   "metadata": {
    "ExecuteTime": {
     "end_time": "2021-10-13T20:50:47.491507Z",
     "start_time": "2021-10-13T20:50:47.440583Z"
    }
   },
   "outputs": [
    {
     "data": {
      "text/plain": [
       "206"
      ]
     },
     "execution_count": 46,
     "metadata": {},
     "output_type": "execute_result"
    }
   ],
   "source": [
    "with open('Results/TSNE_foodSpace_all_baseZero_carb.pkl', 'rb') as file:\n",
    "    data = pickle.load(file)\n",
    "\n",
    "T_foods, labels, food_vectors, clusters = data\n",
    "len(clusters)"
   ]
  },
  {
   "cell_type": "code",
   "execution_count": 47,
   "id": "9bb8e7ba",
   "metadata": {
    "ExecuteTime": {
     "end_time": "2021-10-13T20:50:48.817843Z",
     "start_time": "2021-10-13T20:50:48.803848Z"
    }
   },
   "outputs": [
    {
     "data": {
      "text/plain": [
       "defaultdict(int, {0: 21, 1: 62, 2: 49, 3: 23, 4: 14, 5: 10, 6: 7, 7: 17, 8: 3})"
      ]
     },
     "execution_count": 47,
     "metadata": {},
     "output_type": "execute_result"
    }
   ],
   "source": [
    "count_dict = defaultdict(int)\n",
    "for i in clusters:\n",
    "    count_dict[i] += 1\n",
    "count_dict"
   ]
  },
  {
   "cell_type": "code",
   "execution_count": 48,
   "id": "5b5f7aa6",
   "metadata": {
    "ExecuteTime": {
     "end_time": "2021-10-13T20:50:55.067257Z",
     "start_time": "2021-10-13T20:50:55.012587Z"
    }
   },
   "outputs": [
    {
     "data": {
      "text/html": [
       "<div>\n",
       "<style scoped>\n",
       "    .dataframe tbody tr th:only-of-type {\n",
       "        vertical-align: middle;\n",
       "    }\n",
       "\n",
       "    .dataframe tbody tr th {\n",
       "        vertical-align: top;\n",
       "    }\n",
       "\n",
       "    .dataframe thead th {\n",
       "        text-align: right;\n",
       "    }\n",
       "</style>\n",
       "<table border=\"1\" class=\"dataframe\">\n",
       "  <thead>\n",
       "    <tr style=\"text-align: right;\">\n",
       "      <th></th>\n",
       "      <th>G_energy</th>\n",
       "      <th>G_protein</th>\n",
       "      <th>G_fiber, total dietary</th>\n",
       "      <th>G_carbohydrate</th>\n",
       "      <th>G_carbohydrate, by difference</th>\n",
       "      <th>G_fatty acids, total monounsaturated</th>\n",
       "      <th>G_fatty acids, total polyunsaturated</th>\n",
       "      <th>G_fatty acids, total saturated</th>\n",
       "      <th>G_sugars, total</th>\n",
       "      <th>G_total lipid (fat)</th>\n",
       "      <th>...</th>\n",
       "      <th>ANE_histidine</th>\n",
       "      <th>ANE_isoleucine</th>\n",
       "      <th>ANE_leucine</th>\n",
       "      <th>ANE_lysine</th>\n",
       "      <th>ANE_methionine</th>\n",
       "      <th>ANE_phenylalanine</th>\n",
       "      <th>ANE_threonine</th>\n",
       "      <th>ANE_tryptophan</th>\n",
       "      <th>ANE_valine</th>\n",
       "      <th>OT_choline</th>\n",
       "    </tr>\n",
       "  </thead>\n",
       "  <tbody>\n",
       "    <tr>\n",
       "      <th>0</th>\n",
       "      <td>329.110899</td>\n",
       "      <td>2000.0</td>\n",
       "      <td>6400.0</td>\n",
       "      <td>71200.0</td>\n",
       "      <td>0.0</td>\n",
       "      <td>0.0</td>\n",
       "      <td>0.0</td>\n",
       "      <td>200.0</td>\n",
       "      <td>63900.0</td>\n",
       "      <td>0.0</td>\n",
       "      <td>...</td>\n",
       "      <td>29.0</td>\n",
       "      <td>45.0</td>\n",
       "      <td>86.0</td>\n",
       "      <td>54.0</td>\n",
       "      <td>26.0</td>\n",
       "      <td>58.0</td>\n",
       "      <td>54.0</td>\n",
       "      <td>54.0</td>\n",
       "      <td>64.0</td>\n",
       "      <td>0.0</td>\n",
       "    </tr>\n",
       "    <tr>\n",
       "      <th>1</th>\n",
       "      <td>369.024857</td>\n",
       "      <td>10600.0</td>\n",
       "      <td>1900.0</td>\n",
       "      <td>0.0</td>\n",
       "      <td>78000.0</td>\n",
       "      <td>60.0</td>\n",
       "      <td>220.0</td>\n",
       "      <td>80.0</td>\n",
       "      <td>0.0</td>\n",
       "      <td>500.0</td>\n",
       "      <td>...</td>\n",
       "      <td>215.0</td>\n",
       "      <td>409.0</td>\n",
       "      <td>724.0</td>\n",
       "      <td>203.0</td>\n",
       "      <td>165.0</td>\n",
       "      <td>514.0</td>\n",
       "      <td>280.0</td>\n",
       "      <td>136.0</td>\n",
       "      <td>451.0</td>\n",
       "      <td>0.0</td>\n",
       "    </tr>\n",
       "    <tr>\n",
       "      <th>2</th>\n",
       "      <td>419.000000</td>\n",
       "      <td>14480.0</td>\n",
       "      <td>20500.0</td>\n",
       "      <td>0.0</td>\n",
       "      <td>66270.0</td>\n",
       "      <td>3750.0</td>\n",
       "      <td>4543.0</td>\n",
       "      <td>1974.0</td>\n",
       "      <td>21320.0</td>\n",
       "      <td>10640.0</td>\n",
       "      <td>...</td>\n",
       "      <td>313.0</td>\n",
       "      <td>485.0</td>\n",
       "      <td>1468.0</td>\n",
       "      <td>498.0</td>\n",
       "      <td>293.0</td>\n",
       "      <td>642.0</td>\n",
       "      <td>431.0</td>\n",
       "      <td>94.0</td>\n",
       "      <td>655.0</td>\n",
       "      <td>0.0</td>\n",
       "    </tr>\n",
       "    <tr>\n",
       "      <th>3</th>\n",
       "      <td>508.126195</td>\n",
       "      <td>26080.0</td>\n",
       "      <td>12200.0</td>\n",
       "      <td>0.0</td>\n",
       "      <td>28090.0</td>\n",
       "      <td>22518.0</td>\n",
       "      <td>10088.0</td>\n",
       "      <td>1989.0</td>\n",
       "      <td>6790.0</td>\n",
       "      <td>36240.0</td>\n",
       "      <td>...</td>\n",
       "      <td>878.0</td>\n",
       "      <td>1183.0</td>\n",
       "      <td>2080.0</td>\n",
       "      <td>1844.0</td>\n",
       "      <td>483.0</td>\n",
       "      <td>1173.0</td>\n",
       "      <td>838.0</td>\n",
       "      <td>256.0</td>\n",
       "      <td>1509.0</td>\n",
       "      <td>122.7</td>\n",
       "    </tr>\n",
       "    <tr>\n",
       "      <th>4</th>\n",
       "      <td>348.000000</td>\n",
       "      <td>10350.0</td>\n",
       "      <td>0.0</td>\n",
       "      <td>0.0</td>\n",
       "      <td>72450.0</td>\n",
       "      <td>739.0</td>\n",
       "      <td>737.0</td>\n",
       "      <td>381.0</td>\n",
       "      <td>0.0</td>\n",
       "      <td>2000.0</td>\n",
       "      <td>...</td>\n",
       "      <td>244.0</td>\n",
       "      <td>500.0</td>\n",
       "      <td>755.0</td>\n",
       "      <td>494.0</td>\n",
       "      <td>133.0</td>\n",
       "      <td>408.0</td>\n",
       "      <td>640.0</td>\n",
       "      <td>170.0</td>\n",
       "      <td>677.0</td>\n",
       "      <td>0.0</td>\n",
       "    </tr>\n",
       "    <tr>\n",
       "      <th>...</th>\n",
       "      <td>...</td>\n",
       "      <td>...</td>\n",
       "      <td>...</td>\n",
       "      <td>...</td>\n",
       "      <td>...</td>\n",
       "      <td>...</td>\n",
       "      <td>...</td>\n",
       "      <td>...</td>\n",
       "      <td>...</td>\n",
       "      <td>...</td>\n",
       "      <td>...</td>\n",
       "      <td>...</td>\n",
       "      <td>...</td>\n",
       "      <td>...</td>\n",
       "      <td>...</td>\n",
       "      <td>...</td>\n",
       "      <td>...</td>\n",
       "      <td>...</td>\n",
       "      <td>...</td>\n",
       "      <td>...</td>\n",
       "      <td>...</td>\n",
       "    </tr>\n",
       "    <tr>\n",
       "      <th>201</th>\n",
       "      <td>283.000000</td>\n",
       "      <td>4080.0</td>\n",
       "      <td>6800.0</td>\n",
       "      <td>0.0</td>\n",
       "      <td>74080.0</td>\n",
       "      <td>47.0</td>\n",
       "      <td>180.0</td>\n",
       "      <td>28.0</td>\n",
       "      <td>67280.0</td>\n",
       "      <td>270.0</td>\n",
       "      <td>...</td>\n",
       "      <td>0.0</td>\n",
       "      <td>0.0</td>\n",
       "      <td>0.0</td>\n",
       "      <td>0.0</td>\n",
       "      <td>0.0</td>\n",
       "      <td>0.0</td>\n",
       "      <td>0.0</td>\n",
       "      <td>0.0</td>\n",
       "      <td>0.0</td>\n",
       "      <td>10.6</td>\n",
       "    </tr>\n",
       "    <tr>\n",
       "      <th>202</th>\n",
       "      <td>345.000000</td>\n",
       "      <td>12350.0</td>\n",
       "      <td>26800.0</td>\n",
       "      <td>0.0</td>\n",
       "      <td>51130.0</td>\n",
       "      <td>0.0</td>\n",
       "      <td>0.0</td>\n",
       "      <td>0.0</td>\n",
       "      <td>0.0</td>\n",
       "      <td>15850.0</td>\n",
       "      <td>...</td>\n",
       "      <td>0.0</td>\n",
       "      <td>0.0</td>\n",
       "      <td>0.0</td>\n",
       "      <td>0.0</td>\n",
       "      <td>0.0</td>\n",
       "      <td>0.0</td>\n",
       "      <td>0.0</td>\n",
       "      <td>0.0</td>\n",
       "      <td>0.0</td>\n",
       "      <td>0.0</td>\n",
       "    </tr>\n",
       "    <tr>\n",
       "      <th>203</th>\n",
       "      <td>306.405354</td>\n",
       "      <td>6210.0</td>\n",
       "      <td>7700.0</td>\n",
       "      <td>0.0</td>\n",
       "      <td>80880.0</td>\n",
       "      <td>27.0</td>\n",
       "      <td>102.0</td>\n",
       "      <td>61.0</td>\n",
       "      <td>2970.0</td>\n",
       "      <td>300.0</td>\n",
       "      <td>...</td>\n",
       "      <td>0.0</td>\n",
       "      <td>0.0</td>\n",
       "      <td>0.0</td>\n",
       "      <td>0.0</td>\n",
       "      <td>0.0</td>\n",
       "      <td>0.0</td>\n",
       "      <td>0.0</td>\n",
       "      <td>0.0</td>\n",
       "      <td>0.0</td>\n",
       "      <td>63.3</td>\n",
       "    </tr>\n",
       "    <tr>\n",
       "      <th>204</th>\n",
       "      <td>341.061185</td>\n",
       "      <td>1710.0</td>\n",
       "      <td>15600.0</td>\n",
       "      <td>0.0</td>\n",
       "      <td>81980.0</td>\n",
       "      <td>0.0</td>\n",
       "      <td>0.0</td>\n",
       "      <td>0.0</td>\n",
       "      <td>50700.0</td>\n",
       "      <td>690.0</td>\n",
       "      <td>...</td>\n",
       "      <td>0.0</td>\n",
       "      <td>0.0</td>\n",
       "      <td>0.0</td>\n",
       "      <td>0.0</td>\n",
       "      <td>0.0</td>\n",
       "      <td>0.0</td>\n",
       "      <td>0.0</td>\n",
       "      <td>0.0</td>\n",
       "      <td>0.0</td>\n",
       "      <td>0.0</td>\n",
       "    </tr>\n",
       "    <tr>\n",
       "      <th>205</th>\n",
       "      <td>386.233270</td>\n",
       "      <td>9880.0</td>\n",
       "      <td>0.0</td>\n",
       "      <td>0.0</td>\n",
       "      <td>74930.0</td>\n",
       "      <td>1483.0</td>\n",
       "      <td>1900.0</td>\n",
       "      <td>820.0</td>\n",
       "      <td>5380.0</td>\n",
       "      <td>5220.0</td>\n",
       "      <td>...</td>\n",
       "      <td>0.0</td>\n",
       "      <td>0.0</td>\n",
       "      <td>0.0</td>\n",
       "      <td>0.0</td>\n",
       "      <td>0.0</td>\n",
       "      <td>0.0</td>\n",
       "      <td>0.0</td>\n",
       "      <td>0.0</td>\n",
       "      <td>0.0</td>\n",
       "      <td>0.0</td>\n",
       "    </tr>\n",
       "  </tbody>\n",
       "</table>\n",
       "<p>206 rows × 47 columns</p>\n",
       "</div>"
      ],
      "text/plain": [
       "       G_energy  G_protein  G_fiber, total dietary  G_carbohydrate  \\\n",
       "0    329.110899     2000.0                  6400.0         71200.0   \n",
       "1    369.024857    10600.0                  1900.0             0.0   \n",
       "2    419.000000    14480.0                 20500.0             0.0   \n",
       "3    508.126195    26080.0                 12200.0             0.0   \n",
       "4    348.000000    10350.0                     0.0             0.0   \n",
       "..          ...        ...                     ...             ...   \n",
       "201  283.000000     4080.0                  6800.0             0.0   \n",
       "202  345.000000    12350.0                 26800.0             0.0   \n",
       "203  306.405354     6210.0                  7700.0             0.0   \n",
       "204  341.061185     1710.0                 15600.0             0.0   \n",
       "205  386.233270     9880.0                     0.0             0.0   \n",
       "\n",
       "     G_carbohydrate, by difference  G_fatty acids, total monounsaturated  \\\n",
       "0                              0.0                                   0.0   \n",
       "1                          78000.0                                  60.0   \n",
       "2                          66270.0                                3750.0   \n",
       "3                          28090.0                               22518.0   \n",
       "4                          72450.0                                 739.0   \n",
       "..                             ...                                   ...   \n",
       "201                        74080.0                                  47.0   \n",
       "202                        51130.0                                   0.0   \n",
       "203                        80880.0                                  27.0   \n",
       "204                        81980.0                                   0.0   \n",
       "205                        74930.0                                1483.0   \n",
       "\n",
       "     G_fatty acids, total polyunsaturated  G_fatty acids, total saturated  \\\n",
       "0                                     0.0                           200.0   \n",
       "1                                   220.0                            80.0   \n",
       "2                                  4543.0                          1974.0   \n",
       "3                                 10088.0                          1989.0   \n",
       "4                                   737.0                           381.0   \n",
       "..                                    ...                             ...   \n",
       "201                                 180.0                            28.0   \n",
       "202                                   0.0                             0.0   \n",
       "203                                 102.0                            61.0   \n",
       "204                                   0.0                             0.0   \n",
       "205                                1900.0                           820.0   \n",
       "\n",
       "     G_sugars, total  G_total lipid (fat)  ...  ANE_histidine  ANE_isoleucine  \\\n",
       "0            63900.0                  0.0  ...           29.0            45.0   \n",
       "1                0.0                500.0  ...          215.0           409.0   \n",
       "2            21320.0              10640.0  ...          313.0           485.0   \n",
       "3             6790.0              36240.0  ...          878.0          1183.0   \n",
       "4                0.0               2000.0  ...          244.0           500.0   \n",
       "..               ...                  ...  ...            ...             ...   \n",
       "201          67280.0                270.0  ...            0.0             0.0   \n",
       "202              0.0              15850.0  ...            0.0             0.0   \n",
       "203           2970.0                300.0  ...            0.0             0.0   \n",
       "204          50700.0                690.0  ...            0.0             0.0   \n",
       "205           5380.0               5220.0  ...            0.0             0.0   \n",
       "\n",
       "     ANE_leucine  ANE_lysine  ANE_methionine  ANE_phenylalanine  \\\n",
       "0           86.0        54.0            26.0               58.0   \n",
       "1          724.0       203.0           165.0              514.0   \n",
       "2         1468.0       498.0           293.0              642.0   \n",
       "3         2080.0      1844.0           483.0             1173.0   \n",
       "4          755.0       494.0           133.0              408.0   \n",
       "..           ...         ...             ...                ...   \n",
       "201          0.0         0.0             0.0                0.0   \n",
       "202          0.0         0.0             0.0                0.0   \n",
       "203          0.0         0.0             0.0                0.0   \n",
       "204          0.0         0.0             0.0                0.0   \n",
       "205          0.0         0.0             0.0                0.0   \n",
       "\n",
       "     ANE_threonine  ANE_tryptophan  ANE_valine  OT_choline  \n",
       "0             54.0            54.0        64.0         0.0  \n",
       "1            280.0           136.0       451.0         0.0  \n",
       "2            431.0            94.0       655.0         0.0  \n",
       "3            838.0           256.0      1509.0       122.7  \n",
       "4            640.0           170.0       677.0         0.0  \n",
       "..             ...             ...         ...         ...  \n",
       "201            0.0             0.0         0.0        10.6  \n",
       "202            0.0             0.0         0.0         0.0  \n",
       "203            0.0             0.0         0.0        63.3  \n",
       "204            0.0             0.0         0.0         0.0  \n",
       "205            0.0             0.0         0.0         0.0  \n",
       "\n",
       "[206 rows x 47 columns]"
      ]
     },
     "execution_count": 48,
     "metadata": {},
     "output_type": "execute_result"
    }
   ],
   "source": [
    "interest_vectors = food_vectors.iloc[:, 6:]\n",
    "interest_vectors"
   ]
  },
  {
   "cell_type": "markdown",
   "id": "a721327c",
   "metadata": {},
   "source": [
    "# Modelos"
   ]
  },
  {
   "cell_type": "code",
   "execution_count": 49,
   "id": "0236b9b2",
   "metadata": {
    "ExecuteTime": {
     "end_time": "2021-10-13T20:50:58.475203Z",
     "start_time": "2021-10-13T20:50:58.434617Z"
    },
    "code_folding": [
     0,
     18,
     37
    ]
   },
   "outputs": [],
   "source": [
    "def model_1(input_shape, compile_dict):\n",
    "    # Definición de la capa de entrada\n",
    "    x_in = tf.keras.Input(shape=(input_shape[1]))\n",
    "    # Definición de la capa de salida (para los pesos)\n",
    "    x_out = tf.keras.layers.Dense(units=1, activation='sigmoid',\n",
    "                                  kernel_initializer='he_normal',\n",
    "                                  kernel_regularizer=tf.keras.regularizers.L1L2(l1=0, l2=1))(x_in)\n",
    "    \n",
    "    # Definición del modelo\n",
    "    model = tf.keras.Model(inputs=x_in, outputs=x_out)\n",
    "    \n",
    "    # Compilando el modelo\n",
    "    model.compile(optimizer=compile_dict['optimizer'], loss=compile_dict['loss'],\n",
    "                  metrics=compile_dict['metrics'])\n",
    "    \n",
    "    return model\n",
    "\n",
    "\n",
    "def model_2(input_shape, compile_dict):\n",
    "    # Definición de la capa de entrada\n",
    "    x_in = tf.keras.Input(shape=(input_shape[1]))\n",
    "    # Definición de la capa de salida (para los pesos)\n",
    "    x_out = tf.keras.layers.Dense(units=compile_dict['num_clusters'], \n",
    "                                  activation='softmax',\n",
    "                                  kernel_initializer='he_normal',\n",
    "                                  kernel_regularizer=tf.keras.regularizers.L1L2(l1=0, l2=1))(x_in)\n",
    "    \n",
    "    # Definición del modelo\n",
    "    model = tf.keras.Model(inputs=x_in, outputs=x_out)\n",
    "    \n",
    "    # Compilando el modelo\n",
    "    model.compile(optimizer=compile_dict['optimizer'], loss=compile_dict['loss'],\n",
    "                  metrics=compile_dict['metrics'])\n",
    "    \n",
    "    return model\n",
    "\n",
    "\n",
    "def model_1_1(input_shape, compile_dict):\n",
    "    # Definición de la capa de entrada\n",
    "    x_in = tf.keras.Input(shape=(input_shape[1]))\n",
    "    # Definición de la capa de salida (para los pesos)\n",
    "    x_out = tf.keras.layers.Dense(units=2, activation='softmax', \n",
    "                                  kernel_initializer='he_normal',\n",
    "                                  kernel_regularizer=tf.keras.regularizers.L1L2(l1=0, l2=1))(x_in)\n",
    "    \n",
    "    # Definición del modelo\n",
    "    model = tf.keras.Model(inputs=x_in, outputs=x_out)\n",
    "    \n",
    "    # Compilando el modelo\n",
    "    model.compile(optimizer=compile_dict['optimizer'], loss=compile_dict['loss'],\n",
    "                  metrics=compile_dict['metrics'])\n",
    "    \n",
    "    return model"
   ]
  },
  {
   "cell_type": "markdown",
   "id": "ddbfff85",
   "metadata": {},
   "source": [
    "# Función conjunta"
   ]
  },
  {
   "cell_type": "code",
   "execution_count": 31,
   "id": "267ca4d4",
   "metadata": {
    "ExecuteTime": {
     "end_time": "2021-10-13T17:17:31.771010Z",
     "start_time": "2021-10-13T17:17:31.752421Z"
    }
   },
   "outputs": [],
   "source": [
    "def get_important_features(data_matrix, comp_dict, cluster_to_rev, model_num='1'):\n",
    "    # Obteniendo el modelo\n",
    "    if model_num == '1':\n",
    "        model = model_1(data_matrix.shape, comp_dict)\n",
    "    elif model_num == '2':\n",
    "        model = model_2(data_matrix.shape, comp_dict)\n",
    "    elif model_num == '1_1':\n",
    "        model = model_1_1(data_matrix.shape, comp_dict)\n",
    "    \n",
    "    # Definición del Early Stopping\n",
    "    early_stop = tf.keras.callbacks.EarlyStopping(monitor='loss', patience=20)\n",
    "    \n",
    "    # Definición del x e y\n",
    "    X = data_matrix.to_numpy()\n",
    "    if model_num in ['1', '1_1']:\n",
    "        Y = np.array(clusters == cluster_to_rev, dtype=int)\n",
    "    elif model_num == '2':\n",
    "        Y = np.array([clusters]).T\n",
    "    \n",
    "    # Ajustar el modelo\n",
    "    model.fit(X, Y, batch_size=1, epochs=1000, verbose=1, callbacks=[early_stop])\n",
    "    \n",
    "    # Obtener los pesos\n",
    "    weights = model.layers[1].weights[0].numpy()\n",
    "    \n",
    "    if model_num == '1':\n",
    "        # Eliminar la dimensión extra\n",
    "        weights = np.squeeze(weights)\n",
    "\n",
    "        # Ordenando los pesos\n",
    "        weights_data = [(interest_vectors.columns[i], data_i) for i, data_i in enumerate(weights)]\n",
    "        weights_data = sorted(weights_data, key=lambda x: x[1], reverse=True)\n",
    "    \n",
    "        return weights_data\n",
    "    \n",
    "    elif model_num in ['2']:\n",
    "        return weights\n",
    "    \n",
    "    elif model_num in ['1_1']:\n",
    "        return weights"
   ]
  },
  {
   "cell_type": "markdown",
   "id": "ac781a4c",
   "metadata": {},
   "source": [
    "# Diseño del sistema"
   ]
  },
  {
   "cell_type": "markdown",
   "id": "06c1af20",
   "metadata": {},
   "source": [
    "### Idea 1"
   ]
  },
  {
   "cell_type": "code",
   "execution_count": 33,
   "id": "6def2753",
   "metadata": {
    "ExecuteTime": {
     "end_time": "2021-10-13T17:18:42.876130Z",
     "start_time": "2021-10-13T17:18:32.181046Z"
    },
    "scrolled": true
   },
   "outputs": [
    {
     "name": "stdout",
     "output_type": "stream",
     "text": [
      "Revisando cluster #0\n",
      "Epoch 1/1000\n",
      "206/206 [==============================] - 0s 859us/step - loss: 10.6694 - accuracy: 0.6214\n",
      "Epoch 2/1000\n",
      "206/206 [==============================] - 0s 933us/step - loss: 9.2912 - accuracy: 0.6893\n",
      "Epoch 3/1000\n",
      "206/206 [==============================] - 0s 944us/step - loss: 8.2903 - accuracy: 0.7184\n",
      "Epoch 4/1000\n",
      "206/206 [==============================] - 0s 1ms/step - loss: 7.3665 - accuracy: 0.7573\n",
      "Epoch 5/1000\n",
      "206/206 [==============================] - 0s 916us/step - loss: 6.4857 - accuracy: 0.7961\n",
      "Epoch 6/1000\n",
      "206/206 [==============================] - 0s 938us/step - loss: 5.6538 - accuracy: 0.7961\n",
      "Epoch 7/1000\n",
      "206/206 [==============================] - 0s 1ms/step - loss: 4.8430 - accuracy: 0.7864\n",
      "Epoch 8/1000\n",
      "206/206 [==============================] - 0s 907us/step - loss: 4.0639 - accuracy: 0.7573\n",
      "Epoch 9/1000\n",
      "206/206 [==============================] - 0s 883us/step - loss: 3.3226 - accuracy: 0.7476\n",
      "Epoch 10/1000\n",
      "206/206 [==============================] - 0s 921us/step - loss: 2.6462 - accuracy: 0.7282\n",
      "Epoch 11/1000\n",
      "206/206 [==============================] - 0s 866us/step - loss: 1.9810 - accuracy: 0.7233\n",
      "Epoch 12/1000\n",
      "206/206 [==============================] - 0s 835us/step - loss: 1.3708 - accuracy: 0.7087\n",
      "Epoch 13/1000\n",
      "206/206 [==============================] - 0s 893us/step - loss: 0.8657 - accuracy: 0.7476\n",
      "Epoch 14/1000\n",
      "206/206 [==============================] - 0s 909us/step - loss: 0.4981 - accuracy: 0.8398\n",
      "Epoch 15/1000\n",
      "206/206 [==============================] - 0s 825us/step - loss: 0.3820 - accuracy: 0.8738\n",
      "Epoch 16/1000\n",
      "206/206 [==============================] - 0s 1ms/step - loss: 0.3790 - accuracy: 0.8738\n",
      "Epoch 17/1000\n",
      "206/206 [==============================] - 0s 921us/step - loss: 0.3780 - accuracy: 0.8738\n",
      "Epoch 18/1000\n",
      "206/206 [==============================] - 0s 932us/step - loss: 0.3777 - accuracy: 0.8738\n",
      "Epoch 19/1000\n",
      "206/206 [==============================] - 0s 1ms/step - loss: 0.3774 - accuracy: 0.8738\n",
      "Epoch 20/1000\n",
      "206/206 [==============================] - 0s 938us/step - loss: 0.3771 - accuracy: 0.8738\n",
      "Epoch 21/1000\n",
      "206/206 [==============================] - 0s 953us/step - loss: 0.3768 - accuracy: 0.8738\n",
      "Epoch 22/1000\n",
      "206/206 [==============================] - 0s 1ms/step - loss: 0.3769 - accuracy: 0.8738\n",
      "Epoch 23/1000\n",
      "206/206 [==============================] - 0s 1ms/step - loss: 0.3770 - accuracy: 0.8738\n",
      "Epoch 24/1000\n",
      "206/206 [==============================] - 0s 934us/step - loss: 0.3768 - accuracy: 0.8738\n",
      "Epoch 25/1000\n",
      "206/206 [==============================] - 0s 1ms/step - loss: 0.3766 - accuracy: 0.8738\n",
      "Epoch 26/1000\n",
      "206/206 [==============================] - 0s 980us/step - loss: 0.3767 - accuracy: 0.8738\n",
      "Epoch 27/1000\n",
      "206/206 [==============================] - 0s 878us/step - loss: 0.3766 - accuracy: 0.8738\n",
      "Epoch 28/1000\n",
      "206/206 [==============================] - 0s 922us/step - loss: 0.3764 - accuracy: 0.8738\n",
      "Epoch 29/1000\n",
      "206/206 [==============================] - 0s 1ms/step - loss: 0.3766 - accuracy: 0.8738\n",
      "Epoch 30/1000\n",
      "206/206 [==============================] - 0s 932us/step - loss: 0.3767 - accuracy: 0.8738\n",
      "Epoch 31/1000\n",
      "206/206 [==============================] - 0s 918us/step - loss: 0.3764 - accuracy: 0.8738\n",
      "Epoch 32/1000\n",
      "206/206 [==============================] - 0s 1ms/step - loss: 0.3765 - accuracy: 0.8738\n",
      "Epoch 33/1000\n",
      "206/206 [==============================] - 0s 915us/step - loss: 0.3769 - accuracy: 0.8738\n",
      "Epoch 34/1000\n",
      "206/206 [==============================] - 0s 987us/step - loss: 0.3766 - accuracy: 0.8738\n",
      "Epoch 35/1000\n",
      "206/206 [==============================] - 0s 863us/step - loss: 0.3766 - accuracy: 0.8738\n",
      "Epoch 36/1000\n",
      "206/206 [==============================] - 0s 869us/step - loss: 0.3769 - accuracy: 0.8738\n",
      "Epoch 37/1000\n",
      "206/206 [==============================] - 0s 996us/step - loss: 0.3770 - accuracy: 0.8738\n",
      "Epoch 38/1000\n",
      "206/206 [==============================] - 0s 850us/step - loss: 0.3765 - accuracy: 0.8738\n",
      "Epoch 39/1000\n",
      "206/206 [==============================] - 0s 941us/step - loss: 0.3768 - accuracy: 0.8738\n",
      "Epoch 40/1000\n",
      "206/206 [==============================] - 0s 874us/step - loss: 0.3766 - accuracy: 0.8738\n",
      "Epoch 41/1000\n",
      "206/206 [==============================] - 0s 889us/step - loss: 0.3785 - accuracy: 0.8738\n",
      "Epoch 42/1000\n",
      "206/206 [==============================] - 0s 931us/step - loss: 0.3768 - accuracy: 0.8738\n",
      "Epoch 43/1000\n",
      "206/206 [==============================] - 0s 967us/step - loss: 0.3771 - accuracy: 0.8738\n",
      "Epoch 44/1000\n",
      "206/206 [==============================] - 0s 1ms/step - loss: 0.3769 - accuracy: 0.8738\n",
      "Epoch 45/1000\n",
      "206/206 [==============================] - 0s 891us/step - loss: 0.3768 - accuracy: 0.8738\n",
      "Epoch 46/1000\n",
      "206/206 [==============================] - 0s 902us/step - loss: 0.3770 - accuracy: 0.8738\n",
      "Epoch 47/1000\n",
      "206/206 [==============================] - 0s 917us/step - loss: 0.3800 - accuracy: 0.8689\n",
      "Epoch 48/1000\n",
      "206/206 [==============================] - 0s 888us/step - loss: 0.3800 - accuracy: 0.8738\n",
      "Epoch 49/1000\n",
      "206/206 [==============================] - 0s 1ms/step - loss: 0.3779 - accuracy: 0.8738\n",
      "Epoch 50/1000\n",
      "206/206 [==============================] - 0s 1ms/step - loss: 0.3767 - accuracy: 0.8738\n",
      "Epoch 51/1000\n",
      "206/206 [==============================] - 0s 867us/step - loss: 0.3766 - accuracy: 0.8738\n"
     ]
    },
    {
     "data": {
      "text/plain": [
       "[('V_vit b2', 0.00830599),\n",
       " ('V_vit b6', 0.00652485),\n",
       " ('V_vit b12', -2.3642147e-06),\n",
       " ('V_vit k', -0.0014318905),\n",
       " ('V_vit b1', -0.003279257),\n",
       " ('V_vit b9', -0.0054591154),\n",
       " ('V_vit c', -0.0075351656),\n",
       " ('V_vit h', -0.01594795),\n",
       " ('V_vit b5', -0.021292591)]"
      ]
     },
     "metadata": {},
     "output_type": "display_data"
    }
   ],
   "source": [
    "weights_list = list()\n",
    "\n",
    "# Definición de parámetros\n",
    "comp_dict = {'optimizer': 'adam',\n",
    "             'loss': 'binary_crossentropy',\n",
    "             'metrics': ['accuracy'],\n",
    "             'model_num': '1'}\n",
    "\n",
    "for cluster in range(len(np.unique(clusters))):\n",
    "    print(f'Revisando cluster #{cluster}')\n",
    "    weights_data = get_important_features(interest_vectors, comp_dict, cluster_to_rev=cluster,\n",
    "                                          model_num=comp_dict['model_num'])\n",
    "    weights_list.append(weights_data)\n",
    "    display(weights_data)\n",
    "    break"
   ]
  },
  {
   "cell_type": "markdown",
   "id": "772fb2e4",
   "metadata": {},
   "source": [
    "### Idea 2"
   ]
  },
  {
   "cell_type": "code",
   "execution_count": 22,
   "id": "f21ffcfe",
   "metadata": {
    "ExecuteTime": {
     "end_time": "2021-10-13T16:29:56.672008Z",
     "start_time": "2021-10-13T16:29:52.892874Z"
    },
    "scrolled": true
   },
   "outputs": [
    {
     "name": "stdout",
     "output_type": "stream",
     "text": [
      "Revisando cluster #0\n",
      "Epoch 1/1000\n",
      "206/206 [==============================] - 0s 723us/step - loss: nan - accuracy: 0.5971\n",
      "Epoch 2/1000\n",
      "206/206 [==============================] - 0s 682us/step - loss: nan - accuracy: 0.6019\n",
      "Epoch 3/1000\n",
      "206/206 [==============================] - 0s 708us/step - loss: nan - accuracy: 0.6019\n",
      "Epoch 4/1000\n",
      "206/206 [==============================] - 0s 707us/step - loss: nan - accuracy: 0.6019\n",
      "Epoch 5/1000\n",
      "206/206 [==============================] - 0s 703us/step - loss: nan - accuracy: 0.6019\n",
      "Epoch 6/1000\n",
      "206/206 [==============================] - 0s 707us/step - loss: nan - accuracy: 0.6019\n",
      "Epoch 7/1000\n",
      "206/206 [==============================] - 0s 707us/step - loss: nan - accuracy: 0.6019\n",
      "Epoch 8/1000\n",
      "206/206 [==============================] - 0s 702us/step - loss: nan - accuracy: 0.6019\n",
      "Epoch 9/1000\n",
      "206/206 [==============================] - 0s 867us/step - loss: nan - accuracy: 0.6019\n",
      "Epoch 10/1000\n",
      "206/206 [==============================] - 0s 721us/step - loss: nan - accuracy: 0.6019\n",
      "Epoch 11/1000\n",
      "206/206 [==============================] - 0s 705us/step - loss: nan - accuracy: 0.6019\n",
      "Epoch 12/1000\n",
      "206/206 [==============================] - 0s 862us/step - loss: nan - accuracy: 0.6019\n",
      "Epoch 13/1000\n",
      "206/206 [==============================] - 0s 707us/step - loss: nan - accuracy: 0.6019\n",
      "Epoch 14/1000\n",
      "206/206 [==============================] - 0s 673us/step - loss: nan - accuracy: 0.6019\n",
      "Epoch 15/1000\n",
      "206/206 [==============================] - 0s 700us/step - loss: nan - accuracy: 0.6019\n",
      "Epoch 16/1000\n",
      "206/206 [==============================] - 0s 676us/step - loss: nan - accuracy: 0.6019\n",
      "Epoch 17/1000\n",
      "206/206 [==============================] - 0s 685us/step - loss: nan - accuracy: 0.6019\n",
      "Epoch 18/1000\n",
      "206/206 [==============================] - 0s 700us/step - loss: nan - accuracy: 0.6019\n",
      "Epoch 19/1000\n",
      "206/206 [==============================] - 0s 670us/step - loss: nan - accuracy: 0.6019\n",
      "Epoch 20/1000\n",
      "206/206 [==============================] - 0s 704us/step - loss: nan - accuracy: 0.6019\n",
      "Epoch 21/1000\n",
      "206/206 [==============================] - 0s 694us/step - loss: nan - accuracy: 0.6019\n",
      "Epoch 22/1000\n",
      "206/206 [==============================] - 0s 671us/step - loss: nan - accuracy: 0.6019\n"
     ]
    },
    {
     "data": {
      "text/plain": [
       "array([[nan, nan, nan, nan, nan, nan],\n",
       "       [nan, nan, nan, nan, nan, nan],\n",
       "       [nan, nan, nan, nan, nan, nan],\n",
       "       [nan, nan, nan, nan, nan, nan]], dtype=float32)"
      ]
     },
     "metadata": {},
     "output_type": "display_data"
    }
   ],
   "source": [
    "weights_list = list()\n",
    "\n",
    "# Definición de parámetros\n",
    "comp_dict = {'optimizer': 'adam',\n",
    "             'loss': 'sparse_categorical_crossentropy',\n",
    "             'metrics': ['accuracy'],\n",
    "             'num_clusters': len(np.unique(clusters)),\n",
    "             'model_num': '2'}\n",
    "\n",
    "\n",
    "for cluster in range(len(np.unique(clusters))):\n",
    "    print(f'Revisando cluster #{cluster}')\n",
    "    weights_data = get_important_features(interest_vectors, comp_dict, cluster_to_rev=cluster,\n",
    "                                          model_num=comp_dict['model_num'])\n",
    "    weights_list.append(weights_data)\n",
    "    display(weights_data)\n",
    "    break"
   ]
  },
  {
   "cell_type": "markdown",
   "id": "8089c173",
   "metadata": {},
   "source": [
    "### Idea 3"
   ]
  },
  {
   "cell_type": "code",
   "execution_count": 386,
   "id": "e91f3123",
   "metadata": {
    "ExecuteTime": {
     "end_time": "2021-10-13T15:52:27.264497Z",
     "start_time": "2021-10-13T15:52:22.996414Z"
    },
    "scrolled": true
   },
   "outputs": [
    {
     "name": "stdout",
     "output_type": "stream",
     "text": [
      "Revisando cluster #0\n",
      "Epoch 1/1000\n",
      "206/206 [==============================] - 0s 778us/step - loss: 7.3346 - accuracy: 0.7767\n",
      "Epoch 2/1000\n",
      "206/206 [==============================] - 0s 726us/step - loss: 4.6271 - accuracy: 0.7573\n",
      "Epoch 3/1000\n",
      "206/206 [==============================] - 0s 704us/step - loss: 2.6969 - accuracy: 0.7136\n",
      "Epoch 4/1000\n",
      "206/206 [==============================] - 0s 723us/step - loss: 1.5769 - accuracy: 0.8495\n",
      "Epoch 5/1000\n",
      "206/206 [==============================] - 0s 693us/step - loss: 1.2929 - accuracy: 0.8738\n",
      "Epoch 6/1000\n",
      "206/206 [==============================] - 0s 701us/step - loss: 1.1853 - accuracy: 0.8738\n",
      "Epoch 7/1000\n",
      "206/206 [==============================] - 0s 704us/step - loss: 1.1249 - accuracy: 0.8738\n",
      "Epoch 8/1000\n",
      "206/206 [==============================] - 0s 721us/step - loss: 1.0870 - accuracy: 0.8738\n",
      "Epoch 9/1000\n",
      "206/206 [==============================] - 0s 721us/step - loss: 1.0578 - accuracy: 0.8738\n",
      "Epoch 10/1000\n",
      "206/206 [==============================] - 0s 741us/step - loss: 1.0319 - accuracy: 0.8738\n",
      "Epoch 11/1000\n",
      "206/206 [==============================] - 0s 708us/step - loss: 1.0070 - accuracy: 0.8738\n",
      "Epoch 12/1000\n",
      "206/206 [==============================] - 0s 828us/step - loss: 0.9808 - accuracy: 0.8738\n",
      "Epoch 13/1000\n",
      "206/206 [==============================] - 0s 755us/step - loss: 0.9537 - accuracy: 0.8738\n",
      "Epoch 14/1000\n",
      "206/206 [==============================] - 0s 695us/step - loss: 0.9256 - accuracy: 0.8738\n",
      "Epoch 15/1000\n",
      "206/206 [==============================] - 0s 697us/step - loss: 0.8957 - accuracy: 0.8738\n",
      "Epoch 16/1000\n",
      "206/206 [==============================] - 0s 707us/step - loss: 0.8656 - accuracy: 0.8738\n",
      "Epoch 17/1000\n",
      "206/206 [==============================] - 0s 732us/step - loss: 0.8343 - accuracy: 0.8738\n",
      "Epoch 18/1000\n",
      "206/206 [==============================] - 0s 676us/step - loss: 0.8020 - accuracy: 0.8738\n",
      "Epoch 19/1000\n",
      "206/206 [==============================] - 0s 686us/step - loss: 0.7695 - accuracy: 0.8738\n",
      "Epoch 20/1000\n",
      "206/206 [==============================] - 0s 675us/step - loss: 0.7369 - accuracy: 0.8738\n",
      "Epoch 21/1000\n",
      "206/206 [==============================] - 0s 770us/step - loss: 0.7032 - accuracy: 0.8738\n",
      "Epoch 22/1000\n",
      "206/206 [==============================] - 0s 736us/step - loss: 0.6710 - accuracy: 0.8738\n",
      "Epoch 23/1000\n",
      "206/206 [==============================] - 0s 716us/step - loss: 0.6406 - accuracy: 0.8738\n",
      "Epoch 24/1000\n",
      "206/206 [==============================] - 0s 765us/step - loss: 0.6097 - accuracy: 0.8738\n",
      "Epoch 25/1000\n",
      "206/206 [==============================] - 0s 688us/step - loss: 0.5855 - accuracy: 0.8738\n"
     ]
    },
    {
     "data": {
      "text/plain": [
       "array([[ 3.9777798e-03, -3.9714319e-03],\n",
       "       [ 7.2078684e-08, -1.4199226e-08],\n",
       "       [-8.8992761e-03,  8.9303618e-03],\n",
       "       [ 1.8144624e-02, -1.8141564e-02],\n",
       "       [-6.6987635e-03,  6.7009642e-03],\n",
       "       [ 2.1231249e-03, -1.9584233e-03],\n",
       "       [ 3.3590609e-01,  2.8413904e-01],\n",
       "       [ 9.2697311e-03, -9.3598757e-03],\n",
       "       [ 1.2146984e-03, -2.9937651e-03]], dtype=float32)"
      ]
     },
     "metadata": {},
     "output_type": "display_data"
    }
   ],
   "source": [
    "weights_list = list()\n",
    "\n",
    "# Definición de parámetros\n",
    "comp_dict = {'optimizer': 'adam',\n",
    "             'loss': 'sparse_categorical_crossentropy',\n",
    "             'metrics': ['accuracy'],\n",
    "             'num_clusters': len(np.unique(clusters)),\n",
    "             'model_num': '1_1'}\n",
    "\n",
    "\n",
    "for cluster in range(len(np.unique(clusters))):\n",
    "    print(f'Revisando cluster #{cluster}')\n",
    "    weights_data = get_important_features(interest_vectors, comp_dict, cluster_to_rev=cluster,\n",
    "                                          model_num=comp_dict['model_num'])\n",
    "    weights_list.append(weights_data)\n",
    "    display(weights_data)\n",
    "    break"
   ]
  },
  {
   "cell_type": "code",
   "execution_count": 387,
   "id": "5ec8a9a7",
   "metadata": {
    "ExecuteTime": {
     "end_time": "2021-10-13T15:52:27.406398Z",
     "start_time": "2021-10-13T15:52:27.391398Z"
    }
   },
   "outputs": [
    {
     "data": {
      "text/plain": [
       "[('V_vit c', 0.3359061),\n",
       " ('V_vit b5', 0.018144624),\n",
       " ('V_vit h', 0.009269731),\n",
       " ('V_vit b1', 0.0039777798),\n",
       " ('V_vit b9', 0.002123125),\n",
       " ('V_vit k', 0.0012146984),\n",
       " ('V_vit b12', 7.2078684e-08),\n",
       " ('V_vit b6', -0.0066987635),\n",
       " ('V_vit b2', -0.008899276)]"
      ]
     },
     "execution_count": 387,
     "metadata": {},
     "output_type": "execute_result"
    }
   ],
   "source": [
    "a = [(interest_vectors.columns[i], data_i[0]) for i, data_i in enumerate(weights_data)]\n",
    "a.sort(key=lambda x: x[1], reverse=True)\n",
    "a"
   ]
  },
  {
   "cell_type": "code",
   "execution_count": 352,
   "id": "1d656e41",
   "metadata": {
    "ExecuteTime": {
     "end_time": "2021-10-13T15:47:09.185882Z",
     "start_time": "2021-10-13T15:47:09.168928Z"
    }
   },
   "outputs": [
    {
     "data": {
      "text/plain": [
       "Index(['V_vit b1', 'V_vit b12', 'V_vit b2', 'V_vit b5', 'V_vit b6', 'V_vit b9',\n",
       "       'V_vit c', 'V_vit h', 'V_vit k'],\n",
       "      dtype='object')"
      ]
     },
     "execution_count": 352,
     "metadata": {},
     "output_type": "execute_result"
    }
   ],
   "source": [
    "interest_vectors.columns"
   ]
  },
  {
   "cell_type": "markdown",
   "id": "700a02ae",
   "metadata": {},
   "source": [
    "# Con sklearn"
   ]
  },
  {
   "cell_type": "code",
   "execution_count": 205,
   "id": "b100a3e4",
   "metadata": {
    "ExecuteTime": {
     "end_time": "2021-10-13T15:20:42.857068Z",
     "start_time": "2021-10-13T15:20:42.844135Z"
    }
   },
   "outputs": [],
   "source": [
    "from sklearn.linear_model import LogisticRegression"
   ]
  },
  {
   "cell_type": "code",
   "execution_count": 44,
   "id": "16d6d051",
   "metadata": {
    "ExecuteTime": {
     "end_time": "2021-10-13T17:50:59.434423Z",
     "start_time": "2021-10-13T17:50:59.416513Z"
    }
   },
   "outputs": [],
   "source": [
    "# Definición del x e y\n",
    "X = interest_vectors.to_numpy()\n",
    "Y = np.array(clusters == 0, dtype=int)"
   ]
  },
  {
   "cell_type": "code",
   "execution_count": 45,
   "id": "f8e9d86b",
   "metadata": {
    "ExecuteTime": {
     "end_time": "2021-10-13T17:50:59.584735Z",
     "start_time": "2021-10-13T17:50:59.564723Z"
    },
    "scrolled": false
   },
   "outputs": [
    {
     "name": "stdout",
     "output_type": "stream",
     "text": [
      "[LibLinear]"
     ]
    },
    {
     "data": {
      "text/plain": [
       "array([[-0.05489158, -0.37704036, -0.95228148, -0.00402614]])"
      ]
     },
     "metadata": {},
     "output_type": "display_data"
    },
    {
     "data": {
      "text/plain": [
       "array([ True,  True,  True,  True,  True,  True,  True,  True,  True,\n",
       "        True,  True,  True,  True,  True,  True,  True,  True,  True,\n",
       "        True,  True,  True,  True,  True,  True,  True,  True,  True,\n",
       "        True,  True,  True,  True,  True,  True,  True,  True,  True,\n",
       "        True,  True,  True,  True,  True,  True,  True,  True,  True,\n",
       "        True,  True,  True,  True,  True,  True,  True,  True,  True,\n",
       "        True,  True,  True,  True,  True,  True,  True,  True,  True,\n",
       "        True,  True,  True,  True,  True,  True,  True,  True,  True,\n",
       "        True,  True,  True,  True,  True,  True,  True,  True,  True,\n",
       "        True,  True,  True,  True,  True,  True,  True,  True,  True,\n",
       "        True,  True,  True,  True,  True,  True,  True,  True,  True,\n",
       "        True,  True,  True,  True,  True,  True,  True,  True,  True,\n",
       "        True,  True,  True,  True,  True,  True,  True,  True,  True,\n",
       "        True,  True,  True,  True,  True,  True,  True,  True,  True,\n",
       "        True,  True,  True,  True,  True,  True,  True,  True,  True,\n",
       "        True,  True,  True,  True,  True,  True,  True,  True,  True,\n",
       "        True,  True,  True,  True,  True,  True,  True,  True,  True,\n",
       "        True,  True,  True,  True,  True,  True,  True,  True,  True,\n",
       "        True,  True,  True,  True,  True,  True,  True,  True,  True,\n",
       "        True,  True,  True,  True,  True,  True,  True,  True,  True,\n",
       "        True,  True,  True,  True,  True,  True,  True,  True,  True,\n",
       "        True,  True,  True,  True,  True,  True,  True,  True,  True,\n",
       "        True,  True,  True,  True,  True,  True,  True,  True])"
      ]
     },
     "metadata": {},
     "output_type": "display_data"
    },
    {
     "data": {
      "text/plain": [
       "1.0"
      ]
     },
     "metadata": {},
     "output_type": "display_data"
    }
   ],
   "source": [
    "clf = LogisticRegression(random_state=0, max_iter=2000, verbose=1, solver='liblinear').fit(X, Y)\n",
    "display(clf.coef_)\n",
    "display(clf.predict(X) == Y)\n",
    "display(np.sum(clf.predict(X) == Y) / len(Y))"
   ]
  },
  {
   "cell_type": "code",
   "execution_count": 43,
   "id": "199d79e1",
   "metadata": {
    "ExecuteTime": {
     "end_time": "2021-10-13T17:20:29.296864Z",
     "start_time": "2021-10-13T17:20:29.283900Z"
    }
   },
   "outputs": [
    {
     "data": {
      "text/plain": [
       "[('OT_theobromine', -0.0040261378884168374),\n",
       " ('OT_betaine', -0.05489158375462725),\n",
       " ('OT_caffeine', -0.3770403575726564),\n",
       " ('OT_choline', -0.9522814806524978)]"
      ]
     },
     "execution_count": 43,
     "metadata": {},
     "output_type": "execute_result"
    }
   ],
   "source": [
    "a = [(interest_vectors.columns[i], data_i) for i, data_i in enumerate(clf.coef_[0])]\n",
    "a.sort(key=lambda x: x[1], reverse=True)\n",
    "a"
   ]
  },
  {
   "cell_type": "code",
   "execution_count": 19,
   "id": "c4d61262",
   "metadata": {
    "ExecuteTime": {
     "end_time": "2021-10-13T16:28:54.605507Z",
     "start_time": "2021-10-13T16:28:54.592542Z"
    }
   },
   "outputs": [
    {
     "data": {
      "text/plain": [
       "array([[-0.05489158, -0.37704036, -0.95228148, -0.00402614]])"
      ]
     },
     "execution_count": 19,
     "metadata": {},
     "output_type": "execute_result"
    }
   ],
   "source": [
    "clf.coef_"
   ]
  },
  {
   "cell_type": "code",
   "execution_count": null,
   "id": "fbad0cac",
   "metadata": {},
   "outputs": [],
   "source": []
  }
 ],
 "metadata": {
  "kernelspec": {
   "display_name": "Python 3 (ipykernel)",
   "language": "python",
   "name": "python3"
  },
  "language_info": {
   "codemirror_mode": {
    "name": "ipython",
    "version": 3
   },
   "file_extension": ".py",
   "mimetype": "text/x-python",
   "name": "python",
   "nbconvert_exporter": "python",
   "pygments_lexer": "ipython3",
   "version": "3.8.7"
  },
  "varInspector": {
   "cols": {
    "lenName": 16,
    "lenType": 16,
    "lenVar": 40
   },
   "kernels_config": {
    "python": {
     "delete_cmd_postfix": "",
     "delete_cmd_prefix": "del ",
     "library": "var_list.py",
     "varRefreshCmd": "print(var_dic_list())"
    },
    "r": {
     "delete_cmd_postfix": ") ",
     "delete_cmd_prefix": "rm(",
     "library": "var_list.r",
     "varRefreshCmd": "cat(var_dic_list()) "
    }
   },
   "types_to_exclude": [
    "module",
    "function",
    "builtin_function_or_method",
    "instance",
    "_Feature"
   ],
   "window_display": false
  }
 },
 "nbformat": 4,
 "nbformat_minor": 5
}
