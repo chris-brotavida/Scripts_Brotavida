{
 "cells": [
  {
   "cell_type": "code",
   "execution_count": 1,
   "id": "6e666611",
   "metadata": {
    "ExecuteTime": {
     "end_time": "2021-10-06T20:50:44.091378Z",
     "start_time": "2021-10-06T20:50:41.657806Z"
    }
   },
   "outputs": [],
   "source": [
    "import os, getpass\n",
    "import pandas as pd\n",
    "import numpy as np\n",
    "import tensorflow as tf\n",
    "import matplotlib.pyplot as plt\n",
    "from sklearn.manifold import TSNE\n",
    "from sklearn.decomposition import PCA\n",
    "import plotly.graph_objects as go\n",
    "K = 10"
   ]
  },
  {
   "cell_type": "code",
   "execution_count": 70,
   "id": "5434dc4d",
   "metadata": {
    "ExecuteTime": {
     "end_time": "2021-10-07T15:28:19.500053Z",
     "start_time": "2021-10-07T15:28:19.436204Z"
    }
   },
   "outputs": [
    {
     "data": {
      "text/html": [
       "<div>\n",
       "<style scoped>\n",
       "    .dataframe tbody tr th:only-of-type {\n",
       "        vertical-align: middle;\n",
       "    }\n",
       "\n",
       "    .dataframe tbody tr th {\n",
       "        vertical-align: top;\n",
       "    }\n",
       "\n",
       "    .dataframe thead th {\n",
       "        text-align: right;\n",
       "    }\n",
       "</style>\n",
       "<table border=\"1\" class=\"dataframe\">\n",
       "  <thead>\n",
       "    <tr style=\"text-align: right;\">\n",
       "      <th></th>\n",
       "      <th>orig_food_id</th>\n",
       "      <th>id_food_table</th>\n",
       "      <th>food_group</th>\n",
       "      <th>food_subgroup</th>\n",
       "      <th>nombre_primario</th>\n",
       "      <th>nombre_secundario</th>\n",
       "      <th>G_energy</th>\n",
       "      <th>G_protein</th>\n",
       "      <th>G_fiber, total dietary</th>\n",
       "      <th>G_carbohydrate</th>\n",
       "      <th>...</th>\n",
       "      <th>ANE_lysine</th>\n",
       "      <th>ANE_methionine</th>\n",
       "      <th>ANE_phenylalanine</th>\n",
       "      <th>ANE_threonine</th>\n",
       "      <th>ANE_tryptophan</th>\n",
       "      <th>ANE_valine</th>\n",
       "      <th>OT_betaine</th>\n",
       "      <th>OT_caffeine</th>\n",
       "      <th>OT_choline</th>\n",
       "      <th>OT_theobromine</th>\n",
       "    </tr>\n",
       "  </thead>\n",
       "  <tbody>\n",
       "    <tr>\n",
       "      <th>0</th>\n",
       "      <td>44</td>\n",
       "      <td>135</td>\n",
       "      <td>fruits</td>\n",
       "      <td>other fruits</td>\n",
       "      <td>date</td>\n",
       "      <td>date, dried</td>\n",
       "      <td>329.110899</td>\n",
       "      <td>2000.0</td>\n",
       "      <td>6400.0</td>\n",
       "      <td>71200.0</td>\n",
       "      <td>...</td>\n",
       "      <td>54.0</td>\n",
       "      <td>26.0</td>\n",
       "      <td>58.0</td>\n",
       "      <td>54.0</td>\n",
       "      <td>54.0</td>\n",
       "      <td>64.0</td>\n",
       "      <td>0.0</td>\n",
       "      <td>0.0</td>\n",
       "      <td>0.0</td>\n",
       "      <td>0.0</td>\n",
       "    </tr>\n",
       "    <tr>\n",
       "      <th>1</th>\n",
       "      <td>8172</td>\n",
       "      <td>270</td>\n",
       "      <td>cereals and cereal products</td>\n",
       "      <td>cereal products</td>\n",
       "      <td>breakfast cereal</td>\n",
       "      <td>cereals, farina, unenriched, dry</td>\n",
       "      <td>369.024857</td>\n",
       "      <td>10600.0</td>\n",
       "      <td>1900.0</td>\n",
       "      <td>0.0</td>\n",
       "      <td>...</td>\n",
       "      <td>203.0</td>\n",
       "      <td>165.0</td>\n",
       "      <td>514.0</td>\n",
       "      <td>280.0</td>\n",
       "      <td>136.0</td>\n",
       "      <td>451.0</td>\n",
       "      <td>0.0</td>\n",
       "      <td>0.0</td>\n",
       "      <td>0.0</td>\n",
       "      <td>0.0</td>\n",
       "    </tr>\n",
       "    <tr>\n",
       "      <th>2</th>\n",
       "      <td>35183</td>\n",
       "      <td>205</td>\n",
       "      <td>cereals and cereal products</td>\n",
       "      <td>cereals</td>\n",
       "      <td>corn</td>\n",
       "      <td>corn, dried, yellow (northern plains indians)</td>\n",
       "      <td>419.000000</td>\n",
       "      <td>14480.0</td>\n",
       "      <td>20500.0</td>\n",
       "      <td>0.0</td>\n",
       "      <td>...</td>\n",
       "      <td>498.0</td>\n",
       "      <td>293.0</td>\n",
       "      <td>642.0</td>\n",
       "      <td>431.0</td>\n",
       "      <td>94.0</td>\n",
       "      <td>655.0</td>\n",
       "      <td>0.0</td>\n",
       "      <td>0.0</td>\n",
       "      <td>0.0</td>\n",
       "      <td>0.0</td>\n",
       "    </tr>\n",
       "    <tr>\n",
       "      <th>3</th>\n",
       "      <td>2024</td>\n",
       "      <td>420</td>\n",
       "      <td>herbs and spices</td>\n",
       "      <td>spices</td>\n",
       "      <td>white mustard</td>\n",
       "      <td>spices, mustard seed, ground</td>\n",
       "      <td>508.126195</td>\n",
       "      <td>26080.0</td>\n",
       "      <td>12200.0</td>\n",
       "      <td>0.0</td>\n",
       "      <td>...</td>\n",
       "      <td>1844.0</td>\n",
       "      <td>483.0</td>\n",
       "      <td>1173.0</td>\n",
       "      <td>838.0</td>\n",
       "      <td>256.0</td>\n",
       "      <td>1509.0</td>\n",
       "      <td>1.9</td>\n",
       "      <td>0.0</td>\n",
       "      <td>122.7</td>\n",
       "      <td>0.0</td>\n",
       "    </tr>\n",
       "    <tr>\n",
       "      <th>4</th>\n",
       "      <td>12128</td>\n",
       "      <td>372</td>\n",
       "      <td>herbs and spices</td>\n",
       "      <td>other seeds</td>\n",
       "      <td>ginkgo nuts</td>\n",
       "      <td>nuts, ginkgo nuts, dried</td>\n",
       "      <td>348.000000</td>\n",
       "      <td>10350.0</td>\n",
       "      <td>0.0</td>\n",
       "      <td>0.0</td>\n",
       "      <td>...</td>\n",
       "      <td>494.0</td>\n",
       "      <td>133.0</td>\n",
       "      <td>408.0</td>\n",
       "      <td>640.0</td>\n",
       "      <td>170.0</td>\n",
       "      <td>677.0</td>\n",
       "      <td>0.0</td>\n",
       "      <td>0.0</td>\n",
       "      <td>0.0</td>\n",
       "      <td>0.0</td>\n",
       "    </tr>\n",
       "    <tr>\n",
       "      <th>...</th>\n",
       "      <td>...</td>\n",
       "      <td>...</td>\n",
       "      <td>...</td>\n",
       "      <td>...</td>\n",
       "      <td>...</td>\n",
       "      <td>...</td>\n",
       "      <td>...</td>\n",
       "      <td>...</td>\n",
       "      <td>...</td>\n",
       "      <td>...</td>\n",
       "      <td>...</td>\n",
       "      <td>...</td>\n",
       "      <td>...</td>\n",
       "      <td>...</td>\n",
       "      <td>...</td>\n",
       "      <td>...</td>\n",
       "      <td>...</td>\n",
       "      <td>...</td>\n",
       "      <td>...</td>\n",
       "      <td>...</td>\n",
       "      <td>...</td>\n",
       "    </tr>\n",
       "    <tr>\n",
       "      <th>201</th>\n",
       "      <td>9085</td>\n",
       "      <td>204</td>\n",
       "      <td>fruits</td>\n",
       "      <td>berries</td>\n",
       "      <td>common grape</td>\n",
       "      <td>currants, zante, dried</td>\n",
       "      <td>283.000000</td>\n",
       "      <td>4080.0</td>\n",
       "      <td>6800.0</td>\n",
       "      <td>0.0</td>\n",
       "      <td>...</td>\n",
       "      <td>0.0</td>\n",
       "      <td>0.0</td>\n",
       "      <td>0.0</td>\n",
       "      <td>0.0</td>\n",
       "      <td>0.0</td>\n",
       "      <td>0.0</td>\n",
       "      <td>0.0</td>\n",
       "      <td>0.0</td>\n",
       "      <td>10.6</td>\n",
       "      <td>0.0</td>\n",
       "    </tr>\n",
       "    <tr>\n",
       "      <th>202</th>\n",
       "      <td>11982</td>\n",
       "      <td>40</td>\n",
       "      <td>vegetables</td>\n",
       "      <td>fruit vegetables</td>\n",
       "      <td>pepper</td>\n",
       "      <td>peppers, pasilla, dried</td>\n",
       "      <td>345.000000</td>\n",
       "      <td>12350.0</td>\n",
       "      <td>26800.0</td>\n",
       "      <td>0.0</td>\n",
       "      <td>...</td>\n",
       "      <td>0.0</td>\n",
       "      <td>0.0</td>\n",
       "      <td>0.0</td>\n",
       "      <td>0.0</td>\n",
       "      <td>0.0</td>\n",
       "      <td>0.0</td>\n",
       "      <td>0.0</td>\n",
       "      <td>0.0</td>\n",
       "      <td>0.0</td>\n",
       "      <td>0.0</td>\n",
       "    </tr>\n",
       "    <tr>\n",
       "      <th>203</th>\n",
       "      <td>11663</td>\n",
       "      <td>285</td>\n",
       "      <td>aquatic foods</td>\n",
       "      <td>seaweed</td>\n",
       "      <td>agar</td>\n",
       "      <td>seaweed, agar, dried</td>\n",
       "      <td>306.405354</td>\n",
       "      <td>6210.0</td>\n",
       "      <td>7700.0</td>\n",
       "      <td>0.0</td>\n",
       "      <td>...</td>\n",
       "      <td>0.0</td>\n",
       "      <td>0.0</td>\n",
       "      <td>0.0</td>\n",
       "      <td>0.0</td>\n",
       "      <td>0.0</td>\n",
       "      <td>0.0</td>\n",
       "      <td>0.0</td>\n",
       "      <td>0.0</td>\n",
       "      <td>63.3</td>\n",
       "      <td>0.0</td>\n",
       "    </tr>\n",
       "    <tr>\n",
       "      <th>204</th>\n",
       "      <td>35194</td>\n",
       "      <td>577</td>\n",
       "      <td>vegetables</td>\n",
       "      <td>other vegetables</td>\n",
       "      <td>agave</td>\n",
       "      <td>agave, dried (southwest)</td>\n",
       "      <td>341.061185</td>\n",
       "      <td>1710.0</td>\n",
       "      <td>15600.0</td>\n",
       "      <td>0.0</td>\n",
       "      <td>...</td>\n",
       "      <td>0.0</td>\n",
       "      <td>0.0</td>\n",
       "      <td>0.0</td>\n",
       "      <td>0.0</td>\n",
       "      <td>0.0</td>\n",
       "      <td>0.0</td>\n",
       "      <td>0.0</td>\n",
       "      <td>0.0</td>\n",
       "      <td>0.0</td>\n",
       "      <td>0.0</td>\n",
       "    </tr>\n",
       "    <tr>\n",
       "      <th>205</th>\n",
       "      <td>35134</td>\n",
       "      <td>205</td>\n",
       "      <td>cereals and cereal products</td>\n",
       "      <td>cereals</td>\n",
       "      <td>corn</td>\n",
       "      <td>corn, dried (navajo)</td>\n",
       "      <td>386.233270</td>\n",
       "      <td>9880.0</td>\n",
       "      <td>0.0</td>\n",
       "      <td>0.0</td>\n",
       "      <td>...</td>\n",
       "      <td>0.0</td>\n",
       "      <td>0.0</td>\n",
       "      <td>0.0</td>\n",
       "      <td>0.0</td>\n",
       "      <td>0.0</td>\n",
       "      <td>0.0</td>\n",
       "      <td>0.0</td>\n",
       "      <td>0.0</td>\n",
       "      <td>0.0</td>\n",
       "      <td>0.0</td>\n",
       "    </tr>\n",
       "  </tbody>\n",
       "</table>\n",
       "<p>206 rows × 60 columns</p>\n",
       "</div>"
      ],
      "text/plain": [
       "     orig_food_id  id_food_table                   food_group  \\\n",
       "0              44            135                       fruits   \n",
       "1            8172            270  cereals and cereal products   \n",
       "2           35183            205  cereals and cereal products   \n",
       "3            2024            420             herbs and spices   \n",
       "4           12128            372             herbs and spices   \n",
       "..            ...            ...                          ...   \n",
       "201          9085            204                       fruits   \n",
       "202         11982             40                   vegetables   \n",
       "203         11663            285                aquatic foods   \n",
       "204         35194            577                   vegetables   \n",
       "205         35134            205  cereals and cereal products   \n",
       "\n",
       "        food_subgroup   nombre_primario  \\\n",
       "0        other fruits              date   \n",
       "1     cereal products  breakfast cereal   \n",
       "2             cereals              corn   \n",
       "3              spices     white mustard   \n",
       "4         other seeds       ginkgo nuts   \n",
       "..                ...               ...   \n",
       "201           berries      common grape   \n",
       "202  fruit vegetables            pepper   \n",
       "203           seaweed              agar   \n",
       "204  other vegetables             agave   \n",
       "205           cereals              corn   \n",
       "\n",
       "                                 nombre_secundario    G_energy  G_protein  \\\n",
       "0                                      date, dried  329.110899     2000.0   \n",
       "1                 cereals, farina, unenriched, dry  369.024857    10600.0   \n",
       "2    corn, dried, yellow (northern plains indians)  419.000000    14480.0   \n",
       "3                     spices, mustard seed, ground  508.126195    26080.0   \n",
       "4                         nuts, ginkgo nuts, dried  348.000000    10350.0   \n",
       "..                                             ...         ...        ...   \n",
       "201                         currants, zante, dried  283.000000     4080.0   \n",
       "202                        peppers, pasilla, dried  345.000000    12350.0   \n",
       "203                           seaweed, agar, dried  306.405354     6210.0   \n",
       "204                       agave, dried (southwest)  341.061185     1710.0   \n",
       "205                           corn, dried (navajo)  386.233270     9880.0   \n",
       "\n",
       "     G_fiber, total dietary  G_carbohydrate  ...  ANE_lysine  ANE_methionine  \\\n",
       "0                    6400.0         71200.0  ...        54.0            26.0   \n",
       "1                    1900.0             0.0  ...       203.0           165.0   \n",
       "2                   20500.0             0.0  ...       498.0           293.0   \n",
       "3                   12200.0             0.0  ...      1844.0           483.0   \n",
       "4                       0.0             0.0  ...       494.0           133.0   \n",
       "..                      ...             ...  ...         ...             ...   \n",
       "201                  6800.0             0.0  ...         0.0             0.0   \n",
       "202                 26800.0             0.0  ...         0.0             0.0   \n",
       "203                  7700.0             0.0  ...         0.0             0.0   \n",
       "204                 15600.0             0.0  ...         0.0             0.0   \n",
       "205                     0.0             0.0  ...         0.0             0.0   \n",
       "\n",
       "     ANE_phenylalanine  ANE_threonine  ANE_tryptophan  ANE_valine  OT_betaine  \\\n",
       "0                 58.0           54.0            54.0        64.0         0.0   \n",
       "1                514.0          280.0           136.0       451.0         0.0   \n",
       "2                642.0          431.0            94.0       655.0         0.0   \n",
       "3               1173.0          838.0           256.0      1509.0         1.9   \n",
       "4                408.0          640.0           170.0       677.0         0.0   \n",
       "..                 ...            ...             ...         ...         ...   \n",
       "201                0.0            0.0             0.0         0.0         0.0   \n",
       "202                0.0            0.0             0.0         0.0         0.0   \n",
       "203                0.0            0.0             0.0         0.0         0.0   \n",
       "204                0.0            0.0             0.0         0.0         0.0   \n",
       "205                0.0            0.0             0.0         0.0         0.0   \n",
       "\n",
       "     OT_caffeine  OT_choline  OT_theobromine  \n",
       "0            0.0         0.0             0.0  \n",
       "1            0.0         0.0             0.0  \n",
       "2            0.0         0.0             0.0  \n",
       "3            0.0       122.7             0.0  \n",
       "4            0.0         0.0             0.0  \n",
       "..           ...         ...             ...  \n",
       "201          0.0        10.6             0.0  \n",
       "202          0.0         0.0             0.0  \n",
       "203          0.0        63.3             0.0  \n",
       "204          0.0         0.0             0.0  \n",
       "205          0.0         0.0             0.0  \n",
       "\n",
       "[206 rows x 60 columns]"
      ]
     },
     "execution_count": 70,
     "metadata": {},
     "output_type": "execute_result"
    }
   ],
   "source": [
    "df = pd.read_csv('CONSOLIDADO MVP v2.dat', sep='|')\n",
    "df"
   ]
  },
  {
   "cell_type": "markdown",
   "id": "7c4a9b8b",
   "metadata": {},
   "source": [
    "# Análisis de los datos"
   ]
  },
  {
   "cell_type": "markdown",
   "id": "2bfb0784",
   "metadata": {},
   "source": [
    "## Datos por columnas (compuestos)"
   ]
  },
  {
   "cell_type": "code",
   "execution_count": 85,
   "id": "46495866",
   "metadata": {
    "ExecuteTime": {
     "end_time": "2021-10-07T16:01:27.038118Z",
     "start_time": "2021-10-07T16:01:26.997229Z"
    },
    "code_folding": [
     0
    ]
   },
   "outputs": [],
   "source": [
    "def metrics_on_columns(dataframe, epsilon=0, start_idx=6):\n",
    "    # Definición del diccionario a transformar en tabla\n",
    "    dict_df = dict()\n",
    "    \n",
    "    for i in range(start_idx, dataframe.shape[1]):\n",
    "        # Columna i\n",
    "        df_i = dataframe.iloc[:, i]\n",
    "\n",
    "        # Métricas de interés\n",
    "        mean_i = df_i.mean()\n",
    "        std_i  = df_i.std()\n",
    "        zeros_i = int(sum(abs(df_i) <= epsilon))\n",
    "        zeros_perc = zeros_i / df.shape[0] * 100\n",
    "        \n",
    "        # Llenar el diccionario\n",
    "        dict_df[df.columns[i]] = [mean_i, std_i, zeros_i, zeros_perc]\n",
    "    \n",
    "    # Pasarlo a dataframe\n",
    "    df_out = pd.DataFrame(dict_df)\n",
    "    \n",
    "    # Agregar una columna de etiquetas\n",
    "    df_out.insert(0, 'metrics', ['mean', 'std', 'zeros', 'zeros (%)']) \n",
    "    \n",
    "    return df_out\n",
    "    \n",
    "\n",
    "    \n",
    "df_cols_metrics = metrics_on_columns(df)\n",
    "df_cols_metrics.to_csv('Results/Col_analysis.csv', sep=';', index=False, \n",
    "                       decimal='.')"
   ]
  },
  {
   "cell_type": "markdown",
   "id": "1e56c2a6",
   "metadata": {},
   "source": [
    "## Datos por filas (ingredientes)"
   ]
  },
  {
   "cell_type": "code",
   "execution_count": 87,
   "id": "b795a6c2",
   "metadata": {
    "ExecuteTime": {
     "end_time": "2021-10-07T16:02:38.677507Z",
     "start_time": "2021-10-07T16:02:38.521053Z"
    },
    "code_folding": [
     0
    ]
   },
   "outputs": [],
   "source": [
    "def metrics_on_rows(dataframe, epsilon=0, start_idx=6):\n",
    "    # Definición de la lista de filas\n",
    "    list_rows = list()\n",
    "    \n",
    "    # Definición de los nombres de las primeras columnas\n",
    "    col_names = [i for i in df][:6]\n",
    "    \n",
    "    for i in range(dataframe.shape[0]):\n",
    "        # Columna i\n",
    "        df_i = dataframe.iloc[i, start_idx:]\n",
    "        \n",
    "        # Métricas de interés\n",
    "        mean_i = df_i.mean()\n",
    "        std_i  = df_i.std()\n",
    "        zeros_i = int(sum(abs(df_i) <= epsilon))\n",
    "        zeros_perc = zeros_i / df.shape[0] * 100\n",
    "        \n",
    "        # Llenar el diccionario\n",
    "        list_rows.append([df['id_food_table'][i],\n",
    "                          df['orig_food_id'][i],\n",
    "                          df['food_group'][i],\n",
    "                          df['food_subgroup'][i],\n",
    "                          df['nombre_primario'][i],\n",
    "                          df['nombre_secundario'][i], \n",
    "                          mean_i, std_i, zeros_i, zeros_perc])\n",
    "    \n",
    "    # Pasarlo a dataframe\n",
    "    df_out = pd.DataFrame(list_rows, columns=col_names + ['mean', 'std', \n",
    "                                                          'zeros', \n",
    "                                                          'zeros (%)'])\n",
    "    \n",
    "    return df_out\n",
    "\n",
    "\n",
    "\n",
    "df_rows_metrics = metrics_on_rows(df)\n",
    "df_rows_metrics.to_csv('Results/Row_analysis.csv', sep=';', index=False, \n",
    "                       decimal='.')"
   ]
  },
  {
   "cell_type": "markdown",
   "id": "45d8bd45",
   "metadata": {},
   "source": [
    "# Resultados notables"
   ]
  },
  {
   "cell_type": "code",
   "execution_count": 106,
   "id": "175af509",
   "metadata": {
    "ExecuteTime": {
     "end_time": "2021-10-07T16:10:14.871887Z",
     "start_time": "2021-10-07T16:10:14.845952Z"
    }
   },
   "outputs": [
    {
     "data": {
      "text/html": [
       "<div>\n",
       "<style scoped>\n",
       "    .dataframe tbody tr th:only-of-type {\n",
       "        vertical-align: middle;\n",
       "    }\n",
       "\n",
       "    .dataframe tbody tr th {\n",
       "        vertical-align: top;\n",
       "    }\n",
       "\n",
       "    .dataframe thead th {\n",
       "        text-align: right;\n",
       "    }\n",
       "</style>\n",
       "<table border=\"1\" class=\"dataframe\">\n",
       "  <thead>\n",
       "    <tr style=\"text-align: right;\">\n",
       "      <th></th>\n",
       "      <th>orig_food_id</th>\n",
       "      <th>id_food_table</th>\n",
       "      <th>food_group</th>\n",
       "      <th>food_subgroup</th>\n",
       "      <th>nombre_primario</th>\n",
       "      <th>nombre_secundario</th>\n",
       "      <th>mean</th>\n",
       "      <th>std</th>\n",
       "      <th>zeros</th>\n",
       "      <th>zeros (%)</th>\n",
       "    </tr>\n",
       "  </thead>\n",
       "  <tbody>\n",
       "    <tr>\n",
       "      <th>0</th>\n",
       "      <td>135</td>\n",
       "      <td>44</td>\n",
       "      <td>fruits</td>\n",
       "      <td>other fruits</td>\n",
       "      <td>date</td>\n",
       "      <td>date, dried</td>\n",
       "      <td>2736.257513</td>\n",
       "      <td>12883.048081</td>\n",
       "      <td>11</td>\n",
       "      <td>5.339806</td>\n",
       "    </tr>\n",
       "    <tr>\n",
       "      <th>1</th>\n",
       "      <td>270</td>\n",
       "      <td>8172</td>\n",
       "      <td>cereals and cereal products</td>\n",
       "      <td>cereal products</td>\n",
       "      <td>breakfast cereal</td>\n",
       "      <td>cereals, farina, unenriched, dry</td>\n",
       "      <td>1906.824229</td>\n",
       "      <td>10659.843740</td>\n",
       "      <td>12</td>\n",
       "      <td>5.825243</td>\n",
       "    </tr>\n",
       "    <tr>\n",
       "      <th>2</th>\n",
       "      <td>205</td>\n",
       "      <td>35183</td>\n",
       "      <td>cereals and cereal products</td>\n",
       "      <td>cereals</td>\n",
       "      <td>corn</td>\n",
       "      <td>corn, dried, yellow (northern plains indians)</td>\n",
       "      <td>2970.614306</td>\n",
       "      <td>9878.210738</td>\n",
       "      <td>11</td>\n",
       "      <td>5.339806</td>\n",
       "    </tr>\n",
       "    <tr>\n",
       "      <th>3</th>\n",
       "      <td>420</td>\n",
       "      <td>2024</td>\n",
       "      <td>herbs and spices</td>\n",
       "      <td>spices</td>\n",
       "      <td>white mustard</td>\n",
       "      <td>spices, mustard seed, ground</td>\n",
       "      <td>3312.886254</td>\n",
       "      <td>7627.531850</td>\n",
       "      <td>7</td>\n",
       "      <td>3.398058</td>\n",
       "    </tr>\n",
       "    <tr>\n",
       "      <th>4</th>\n",
       "      <td>372</td>\n",
       "      <td>12128</td>\n",
       "      <td>herbs and spices</td>\n",
       "      <td>other seeds</td>\n",
       "      <td>ginkgo nuts</td>\n",
       "      <td>nuts, ginkgo nuts, dried</td>\n",
       "      <td>1896.093037</td>\n",
       "      <td>9892.831328</td>\n",
       "      <td>13</td>\n",
       "      <td>6.310680</td>\n",
       "    </tr>\n",
       "    <tr>\n",
       "      <th>...</th>\n",
       "      <td>...</td>\n",
       "      <td>...</td>\n",
       "      <td>...</td>\n",
       "      <td>...</td>\n",
       "      <td>...</td>\n",
       "      <td>...</td>\n",
       "      <td>...</td>\n",
       "      <td>...</td>\n",
       "      <td>...</td>\n",
       "      <td>...</td>\n",
       "    </tr>\n",
       "    <tr>\n",
       "      <th>201</th>\n",
       "      <td>204</td>\n",
       "      <td>9085</td>\n",
       "      <td>fruits</td>\n",
       "      <td>berries</td>\n",
       "      <td>common grape</td>\n",
       "      <td>currants, zante, dried</td>\n",
       "      <td>2899.644704</td>\n",
       "      <td>13479.460987</td>\n",
       "      <td>26</td>\n",
       "      <td>12.621359</td>\n",
       "    </tr>\n",
       "    <tr>\n",
       "      <th>202</th>\n",
       "      <td>40</td>\n",
       "      <td>11982</td>\n",
       "      <td>vegetables</td>\n",
       "      <td>fruit vegetables</td>\n",
       "      <td>pepper</td>\n",
       "      <td>peppers, pasilla, dried</td>\n",
       "      <td>2132.018411</td>\n",
       "      <td>8160.927580</td>\n",
       "      <td>32</td>\n",
       "      <td>15.533981</td>\n",
       "    </tr>\n",
       "    <tr>\n",
       "      <th>203</th>\n",
       "      <td>285</td>\n",
       "      <td>11663</td>\n",
       "      <td>aquatic foods</td>\n",
       "      <td>seaweed</td>\n",
       "      <td>agar</td>\n",
       "      <td>seaweed, agar, dried</td>\n",
       "      <td>1949.258892</td>\n",
       "      <td>11041.073293</td>\n",
       "      <td>27</td>\n",
       "      <td>13.106796</td>\n",
       "    </tr>\n",
       "    <tr>\n",
       "      <th>204</th>\n",
       "      <td>577</td>\n",
       "      <td>35194</td>\n",
       "      <td>vegetables</td>\n",
       "      <td>other vegetables</td>\n",
       "      <td>agave</td>\n",
       "      <td>agave, dried (southwest)</td>\n",
       "      <td>2903.956783</td>\n",
       "      <td>13103.199218</td>\n",
       "      <td>30</td>\n",
       "      <td>14.563107</td>\n",
       "    </tr>\n",
       "    <tr>\n",
       "      <th>205</th>\n",
       "      <td>205</td>\n",
       "      <td>35134</td>\n",
       "      <td>cereals and cereal products</td>\n",
       "      <td>cereals</td>\n",
       "      <td>corn</td>\n",
       "      <td>corn, dried (navajo)</td>\n",
       "      <td>1904.932299</td>\n",
       "      <td>10263.361855</td>\n",
       "      <td>30</td>\n",
       "      <td>14.563107</td>\n",
       "    </tr>\n",
       "  </tbody>\n",
       "</table>\n",
       "<p>206 rows × 10 columns</p>\n",
       "</div>"
      ],
      "text/plain": [
       "     orig_food_id  id_food_table                   food_group  \\\n",
       "0             135             44                       fruits   \n",
       "1             270           8172  cereals and cereal products   \n",
       "2             205          35183  cereals and cereal products   \n",
       "3             420           2024             herbs and spices   \n",
       "4             372          12128             herbs and spices   \n",
       "..            ...            ...                          ...   \n",
       "201           204           9085                       fruits   \n",
       "202            40          11982                   vegetables   \n",
       "203           285          11663                aquatic foods   \n",
       "204           577          35194                   vegetables   \n",
       "205           205          35134  cereals and cereal products   \n",
       "\n",
       "        food_subgroup   nombre_primario  \\\n",
       "0        other fruits              date   \n",
       "1     cereal products  breakfast cereal   \n",
       "2             cereals              corn   \n",
       "3              spices     white mustard   \n",
       "4         other seeds       ginkgo nuts   \n",
       "..                ...               ...   \n",
       "201           berries      common grape   \n",
       "202  fruit vegetables            pepper   \n",
       "203           seaweed              agar   \n",
       "204  other vegetables             agave   \n",
       "205           cereals              corn   \n",
       "\n",
       "                                 nombre_secundario         mean           std  \\\n",
       "0                                      date, dried  2736.257513  12883.048081   \n",
       "1                 cereals, farina, unenriched, dry  1906.824229  10659.843740   \n",
       "2    corn, dried, yellow (northern plains indians)  2970.614306   9878.210738   \n",
       "3                     spices, mustard seed, ground  3312.886254   7627.531850   \n",
       "4                         nuts, ginkgo nuts, dried  1896.093037   9892.831328   \n",
       "..                                             ...          ...           ...   \n",
       "201                         currants, zante, dried  2899.644704  13479.460987   \n",
       "202                        peppers, pasilla, dried  2132.018411   8160.927580   \n",
       "203                           seaweed, agar, dried  1949.258892  11041.073293   \n",
       "204                       agave, dried (southwest)  2903.956783  13103.199218   \n",
       "205                           corn, dried (navajo)  1904.932299  10263.361855   \n",
       "\n",
       "     zeros  zeros (%)  \n",
       "0       11   5.339806  \n",
       "1       12   5.825243  \n",
       "2       11   5.339806  \n",
       "3        7   3.398058  \n",
       "4       13   6.310680  \n",
       "..     ...        ...  \n",
       "201     26  12.621359  \n",
       "202     32  15.533981  \n",
       "203     27  13.106796  \n",
       "204     30  14.563107  \n",
       "205     30  14.563107  \n",
       "\n",
       "[206 rows x 10 columns]"
      ]
     },
     "execution_count": 106,
     "metadata": {},
     "output_type": "execute_result"
    }
   ],
   "source": [
    "df_rows_metrics"
   ]
  },
  {
   "cell_type": "markdown",
   "id": "a15d7394",
   "metadata": {},
   "source": [
    "## Compuestos"
   ]
  },
  {
   "cell_type": "code",
   "execution_count": 154,
   "id": "a2619174",
   "metadata": {
    "ExecuteTime": {
     "end_time": "2021-10-07T16:41:47.088982Z",
     "start_time": "2021-10-07T16:41:47.037935Z"
    },
    "scrolled": false
   },
   "outputs": [
    {
     "name": "stdout",
     "output_type": "stream",
     "text": [
      "Compuestos con >= 50% cantidad de ceros\n"
     ]
    },
    {
     "data": {
      "text/html": [
       "<div>\n",
       "<style scoped>\n",
       "    .dataframe tbody tr th:only-of-type {\n",
       "        vertical-align: middle;\n",
       "    }\n",
       "\n",
       "    .dataframe tbody tr th {\n",
       "        vertical-align: top;\n",
       "    }\n",
       "\n",
       "    .dataframe thead th {\n",
       "        text-align: right;\n",
       "    }\n",
       "</style>\n",
       "<table border=\"1\" class=\"dataframe\">\n",
       "  <thead>\n",
       "    <tr style=\"text-align: right;\">\n",
       "      <th></th>\n",
       "      <th>zeros (%)</th>\n",
       "    </tr>\n",
       "  </thead>\n",
       "  <tbody>\n",
       "    <tr>\n",
       "      <th>V_vit b12</th>\n",
       "      <td>99.029126</td>\n",
       "    </tr>\n",
       "    <tr>\n",
       "      <th>OT_theobromine</th>\n",
       "      <td>97.087379</td>\n",
       "    </tr>\n",
       "    <tr>\n",
       "      <th>OT_caffeine</th>\n",
       "      <td>95.631068</td>\n",
       "    </tr>\n",
       "    <tr>\n",
       "      <th>V_vit h</th>\n",
       "      <td>93.68932</td>\n",
       "    </tr>\n",
       "    <tr>\n",
       "      <th>M_chromium</th>\n",
       "      <td>89.320388</td>\n",
       "    </tr>\n",
       "    <tr>\n",
       "      <th>M_iodine</th>\n",
       "      <td>87.378641</td>\n",
       "    </tr>\n",
       "    <tr>\n",
       "      <th>OT_betaine</th>\n",
       "      <td>84.466019</td>\n",
       "    </tr>\n",
       "    <tr>\n",
       "      <th>G_carbohydrate</th>\n",
       "      <td>82.524272</td>\n",
       "    </tr>\n",
       "    <tr>\n",
       "      <th>OT_choline</th>\n",
       "      <td>59.223301</td>\n",
       "    </tr>\n",
       "    <tr>\n",
       "      <th>V_vit k</th>\n",
       "      <td>57.281553</td>\n",
       "    </tr>\n",
       "  </tbody>\n",
       "</table>\n",
       "</div>"
      ],
      "text/plain": [
       "                zeros (%)\n",
       "V_vit b12       99.029126\n",
       "OT_theobromine  97.087379\n",
       "OT_caffeine     95.631068\n",
       "V_vit h          93.68932\n",
       "M_chromium      89.320388\n",
       "M_iodine        87.378641\n",
       "OT_betaine      84.466019\n",
       "G_carbohydrate  82.524272\n",
       "OT_choline      59.223301\n",
       "V_vit k         57.281553"
      ]
     },
     "metadata": {},
     "output_type": "display_data"
    },
    {
     "name": "stdout",
     "output_type": "stream",
     "text": [
      "Ingredientes con >= 17% cantidad de ceros\n"
     ]
    },
    {
     "data": {
      "text/html": [
       "<div>\n",
       "<style scoped>\n",
       "    .dataframe tbody tr th:only-of-type {\n",
       "        vertical-align: middle;\n",
       "    }\n",
       "\n",
       "    .dataframe tbody tr th {\n",
       "        vertical-align: top;\n",
       "    }\n",
       "\n",
       "    .dataframe thead th {\n",
       "        text-align: right;\n",
       "    }\n",
       "</style>\n",
       "<table border=\"1\" class=\"dataframe\">\n",
       "  <thead>\n",
       "    <tr style=\"text-align: right;\">\n",
       "      <th></th>\n",
       "      <th>orig_food_id</th>\n",
       "      <th>id_food_table</th>\n",
       "      <th>food_group</th>\n",
       "      <th>food_subgroup</th>\n",
       "      <th>nombre_primario</th>\n",
       "      <th>nombre_secundario</th>\n",
       "      <th>mean</th>\n",
       "      <th>std</th>\n",
       "      <th>zeros</th>\n",
       "      <th>zeros (%)</th>\n",
       "    </tr>\n",
       "  </thead>\n",
       "  <tbody>\n",
       "    <tr>\n",
       "      <th>199</th>\n",
       "      <td>707</td>\n",
       "      <td>19171</td>\n",
       "      <td>cocoa and cocoa products</td>\n",
       "      <td>cocoa products</td>\n",
       "      <td>cocoa powder</td>\n",
       "      <td>cocoa, dry powder, unsweetened, hersheys europ...</td>\n",
       "      <td>2045.112882</td>\n",
       "      <td>8980.384379</td>\n",
       "      <td>48</td>\n",
       "      <td>23.300971</td>\n",
       "    </tr>\n",
       "    <tr>\n",
       "      <th>145</th>\n",
       "      <td>682</td>\n",
       "      <td>389</td>\n",
       "      <td>baking goods</td>\n",
       "      <td>baking goods</td>\n",
       "      <td>leavening agent</td>\n",
       "      <td>baking powder</td>\n",
       "      <td>2324.494689</td>\n",
       "      <td>8765.955401</td>\n",
       "      <td>44</td>\n",
       "      <td>21.359223</td>\n",
       "    </tr>\n",
       "    <tr>\n",
       "      <th>176</th>\n",
       "      <td>682</td>\n",
       "      <td>18369</td>\n",
       "      <td>baking goods</td>\n",
       "      <td>baking goods</td>\n",
       "      <td>leavening agent</td>\n",
       "      <td>leavening agents, baking powder, double-acting...</td>\n",
       "      <td>2110.705749</td>\n",
       "      <td>9912.577935</td>\n",
       "      <td>40</td>\n",
       "      <td>19.417476</td>\n",
       "    </tr>\n",
       "    <tr>\n",
       "      <th>153</th>\n",
       "      <td>61</td>\n",
       "      <td>527</td>\n",
       "      <td>herbs and spices</td>\n",
       "      <td>herbs</td>\n",
       "      <td>coriander</td>\n",
       "      <td>coriander, leaf, dried</td>\n",
       "      <td>1781.185106</td>\n",
       "      <td>6673.311920</td>\n",
       "      <td>39</td>\n",
       "      <td>18.932039</td>\n",
       "    </tr>\n",
       "    <tr>\n",
       "      <th>174</th>\n",
       "      <td>682</td>\n",
       "      <td>18370</td>\n",
       "      <td>baking goods</td>\n",
       "      <td>baking goods</td>\n",
       "      <td>leavening agent</td>\n",
       "      <td>leavening agents, baking powder, double-acting...</td>\n",
       "      <td>2249.654022</td>\n",
       "      <td>10350.196433</td>\n",
       "      <td>39</td>\n",
       "      <td>18.932039</td>\n",
       "    </tr>\n",
       "    <tr>\n",
       "      <th>189</th>\n",
       "      <td>13</td>\n",
       "      <td>842</td>\n",
       "      <td>herbs and spices</td>\n",
       "      <td>herbs</td>\n",
       "      <td>dill</td>\n",
       "      <td>dill weed, dried</td>\n",
       "      <td>1760.550661</td>\n",
       "      <td>6833.570751</td>\n",
       "      <td>39</td>\n",
       "      <td>18.932039</td>\n",
       "    </tr>\n",
       "    <tr>\n",
       "      <th>144</th>\n",
       "      <td>205</td>\n",
       "      <td>173</td>\n",
       "      <td>cereals and cereal products</td>\n",
       "      <td>cereals</td>\n",
       "      <td>corn</td>\n",
       "      <td>corn starch</td>\n",
       "      <td>1670.243119</td>\n",
       "      <td>12080.976735</td>\n",
       "      <td>38</td>\n",
       "      <td>18.446602</td>\n",
       "    </tr>\n",
       "    <tr>\n",
       "      <th>180</th>\n",
       "      <td>86</td>\n",
       "      <td>479</td>\n",
       "      <td>herbs and spices</td>\n",
       "      <td>oilseed crops</td>\n",
       "      <td>sunflower</td>\n",
       "      <td>sunflower seeds, decorticated, dried</td>\n",
       "      <td>886.999575</td>\n",
       "      <td>3617.981648</td>\n",
       "      <td>37</td>\n",
       "      <td>17.961165</td>\n",
       "    </tr>\n",
       "    <tr>\n",
       "      <th>183</th>\n",
       "      <td>393</td>\n",
       "      <td>9147</td>\n",
       "      <td>fruits</td>\n",
       "      <td>other fruits</td>\n",
       "      <td>jujube</td>\n",
       "      <td>jujube, dried</td>\n",
       "      <td>1506.651405</td>\n",
       "      <td>10012.513212</td>\n",
       "      <td>37</td>\n",
       "      <td>17.961165</td>\n",
       "    </tr>\n",
       "  </tbody>\n",
       "</table>\n",
       "</div>"
      ],
      "text/plain": [
       "     orig_food_id  id_food_table                   food_group   food_subgroup  \\\n",
       "199           707          19171     cocoa and cocoa products  cocoa products   \n",
       "145           682            389                 baking goods    baking goods   \n",
       "176           682          18369                 baking goods    baking goods   \n",
       "153            61            527             herbs and spices           herbs   \n",
       "174           682          18370                 baking goods    baking goods   \n",
       "189            13            842             herbs and spices           herbs   \n",
       "144           205            173  cereals and cereal products         cereals   \n",
       "180            86            479             herbs and spices   oilseed crops   \n",
       "183           393           9147                       fruits    other fruits   \n",
       "\n",
       "     nombre_primario                                  nombre_secundario  \\\n",
       "199     cocoa powder  cocoa, dry powder, unsweetened, hersheys europ...   \n",
       "145  leavening agent                                      baking powder   \n",
       "176  leavening agent  leavening agents, baking powder, double-acting...   \n",
       "153        coriander                             coriander, leaf, dried   \n",
       "174  leavening agent  leavening agents, baking powder, double-acting...   \n",
       "189             dill                                   dill weed, dried   \n",
       "144             corn                                        corn starch   \n",
       "180        sunflower               sunflower seeds, decorticated, dried   \n",
       "183           jujube                                      jujube, dried   \n",
       "\n",
       "            mean           std  zeros  zeros (%)  \n",
       "199  2045.112882   8980.384379     48  23.300971  \n",
       "145  2324.494689   8765.955401     44  21.359223  \n",
       "176  2110.705749   9912.577935     40  19.417476  \n",
       "153  1781.185106   6673.311920     39  18.932039  \n",
       "174  2249.654022  10350.196433     39  18.932039  \n",
       "189  1760.550661   6833.570751     39  18.932039  \n",
       "144  1670.243119  12080.976735     38  18.446602  \n",
       "180   886.999575   3617.981648     37  17.961165  \n",
       "183  1506.651405  10012.513212     37  17.961165  "
      ]
     },
     "metadata": {},
     "output_type": "display_data"
    },
    {
     "name": "stdout",
     "output_type": "stream",
     "text": [
      "20 Compuestos con mayor varianza\n"
     ]
    },
    {
     "data": {
      "text/html": [
       "<div>\n",
       "<style scoped>\n",
       "    .dataframe tbody tr th:only-of-type {\n",
       "        vertical-align: middle;\n",
       "    }\n",
       "\n",
       "    .dataframe tbody tr th {\n",
       "        vertical-align: top;\n",
       "    }\n",
       "\n",
       "    .dataframe thead th {\n",
       "        text-align: right;\n",
       "    }\n",
       "</style>\n",
       "<table border=\"1\" class=\"dataframe\">\n",
       "  <thead>\n",
       "    <tr style=\"text-align: right;\">\n",
       "      <th></th>\n",
       "      <th>mean</th>\n",
       "      <th>std</th>\n",
       "    </tr>\n",
       "  </thead>\n",
       "  <tbody>\n",
       "    <tr>\n",
       "      <th>G_carbohydrate, by difference</th>\n",
       "      <td>46779.368932</td>\n",
       "      <td>29794.301093</td>\n",
       "    </tr>\n",
       "    <tr>\n",
       "      <th>G_carbohydrate</th>\n",
       "      <td>7603.883495</td>\n",
       "      <td>19597.463362</td>\n",
       "    </tr>\n",
       "    <tr>\n",
       "      <th>G_total lipid (fat)</th>\n",
       "      <td>11430.776699</td>\n",
       "      <td>17771.630211</td>\n",
       "    </tr>\n",
       "    <tr>\n",
       "      <th>G_sugars, total</th>\n",
       "      <td>7229.174757</td>\n",
       "      <td>15448.388338</td>\n",
       "    </tr>\n",
       "    <tr>\n",
       "      <th>G_fiber, total dietary</th>\n",
       "      <td>12962.621359</td>\n",
       "      <td>12502.054891</td>\n",
       "    </tr>\n",
       "    <tr>\n",
       "      <th>G_protein</th>\n",
       "      <td>14421.990291</td>\n",
       "      <td>11603.978562</td>\n",
       "    </tr>\n",
       "    <tr>\n",
       "      <th>G_ash</th>\n",
       "      <td>5390.048544</td>\n",
       "      <td>8571.093990</td>\n",
       "    </tr>\n",
       "    <tr>\n",
       "      <th>G_fatty acids, total polyunsaturated</th>\n",
       "      <td>4039.655340</td>\n",
       "      <td>8312.065846</td>\n",
       "    </tr>\n",
       "    <tr>\n",
       "      <th>G_fatty acids, total saturated</th>\n",
       "      <td>3299.902913</td>\n",
       "      <td>6954.729270</td>\n",
       "    </tr>\n",
       "    <tr>\n",
       "      <th>G_fatty acids, total monounsaturated</th>\n",
       "      <td>3315.150485</td>\n",
       "      <td>6432.206426</td>\n",
       "    </tr>\n",
       "    <tr>\n",
       "      <th>AE_glutamine</th>\n",
       "      <td>2256.150485</td>\n",
       "      <td>2683.558677</td>\n",
       "    </tr>\n",
       "    <tr>\n",
       "      <th>AE_arginine</th>\n",
       "      <td>1078.713592</td>\n",
       "      <td>1541.064219</td>\n",
       "    </tr>\n",
       "    <tr>\n",
       "      <th>AE_aspartic acid</th>\n",
       "      <td>1173.048544</td>\n",
       "      <td>1440.819302</td>\n",
       "    </tr>\n",
       "    <tr>\n",
       "      <th>M_sodium</th>\n",
       "      <td>254.796068</td>\n",
       "      <td>1263.939252</td>\n",
       "    </tr>\n",
       "    <tr>\n",
       "      <th>M_potassium</th>\n",
       "      <td>1099.252427</td>\n",
       "      <td>1213.174555</td>\n",
       "    </tr>\n",
       "    <tr>\n",
       "      <th>M_calcium</th>\n",
       "      <td>429.611990</td>\n",
       "      <td>1130.329084</td>\n",
       "    </tr>\n",
       "    <tr>\n",
       "      <th>M_phosphorus</th>\n",
       "      <td>483.652913</td>\n",
       "      <td>1025.659502</td>\n",
       "    </tr>\n",
       "    <tr>\n",
       "      <th>ANE_leucine</th>\n",
       "      <td>851.077670</td>\n",
       "      <td>985.409472</td>\n",
       "    </tr>\n",
       "    <tr>\n",
       "      <th>AE_glycine</th>\n",
       "      <td>568.728155</td>\n",
       "      <td>721.450959</td>\n",
       "    </tr>\n",
       "    <tr>\n",
       "      <th>AE_proline</th>\n",
       "      <td>646.354369</td>\n",
       "      <td>717.556535</td>\n",
       "    </tr>\n",
       "  </tbody>\n",
       "</table>\n",
       "</div>"
      ],
      "text/plain": [
       "                                              mean           std\n",
       "G_carbohydrate, by difference         46779.368932  29794.301093\n",
       "G_carbohydrate                         7603.883495  19597.463362\n",
       "G_total lipid (fat)                   11430.776699  17771.630211\n",
       "G_sugars, total                        7229.174757  15448.388338\n",
       "G_fiber, total dietary                12962.621359  12502.054891\n",
       "G_protein                             14421.990291  11603.978562\n",
       "G_ash                                  5390.048544   8571.093990\n",
       "G_fatty acids, total polyunsaturated   4039.655340   8312.065846\n",
       "G_fatty acids, total saturated         3299.902913   6954.729270\n",
       "G_fatty acids, total monounsaturated   3315.150485   6432.206426\n",
       "AE_glutamine                           2256.150485   2683.558677\n",
       "AE_arginine                            1078.713592   1541.064219\n",
       "AE_aspartic acid                       1173.048544   1440.819302\n",
       "M_sodium                                254.796068   1263.939252\n",
       "M_potassium                            1099.252427   1213.174555\n",
       "M_calcium                               429.611990   1130.329084\n",
       "M_phosphorus                            483.652913   1025.659502\n",
       "ANE_leucine                             851.077670    985.409472\n",
       "AE_glycine                              568.728155    721.450959\n",
       "AE_proline                              646.354369    717.556535"
      ]
     },
     "metadata": {},
     "output_type": "display_data"
    },
    {
     "name": "stdout",
     "output_type": "stream",
     "text": [
      "20 Compuestos con menor varianza\n"
     ]
    },
    {
     "data": {
      "text/html": [
       "<div>\n",
       "<style scoped>\n",
       "    .dataframe tbody tr th:only-of-type {\n",
       "        vertical-align: middle;\n",
       "    }\n",
       "\n",
       "    .dataframe tbody tr th {\n",
       "        vertical-align: top;\n",
       "    }\n",
       "\n",
       "    .dataframe thead th {\n",
       "        text-align: right;\n",
       "    }\n",
       "</style>\n",
       "<table border=\"1\" class=\"dataframe\">\n",
       "  <thead>\n",
       "    <tr style=\"text-align: right;\">\n",
       "      <th></th>\n",
       "      <th>mean</th>\n",
       "      <th>std</th>\n",
       "    </tr>\n",
       "  </thead>\n",
       "  <tbody>\n",
       "    <tr>\n",
       "      <th>V_vit b12</th>\n",
       "      <td>0.000001</td>\n",
       "      <td>0.000015</td>\n",
       "    </tr>\n",
       "    <tr>\n",
       "      <th>M_chromium</th>\n",
       "      <td>0.002292</td>\n",
       "      <td>0.014570</td>\n",
       "    </tr>\n",
       "    <tr>\n",
       "      <th>M_selenium</th>\n",
       "      <td>0.021076</td>\n",
       "      <td>0.134287</td>\n",
       "    </tr>\n",
       "    <tr>\n",
       "      <th>V_vit k</th>\n",
       "      <td>0.056334</td>\n",
       "      <td>0.253667</td>\n",
       "    </tr>\n",
       "    <tr>\n",
       "      <th>V_vit b9</th>\n",
       "      <td>0.114904</td>\n",
       "      <td>0.333738</td>\n",
       "    </tr>\n",
       "    <tr>\n",
       "      <th>V_vit b2</th>\n",
       "      <td>0.349379</td>\n",
       "      <td>0.588316</td>\n",
       "    </tr>\n",
       "    <tr>\n",
       "      <th>V_vit b6</th>\n",
       "      <td>0.555286</td>\n",
       "      <td>0.634335</td>\n",
       "    </tr>\n",
       "    <tr>\n",
       "      <th>V_vit b1</th>\n",
       "      <td>0.496490</td>\n",
       "      <td>0.918151</td>\n",
       "    </tr>\n",
       "    <tr>\n",
       "      <th>M_copper</th>\n",
       "      <td>0.910325</td>\n",
       "      <td>1.087551</td>\n",
       "    </tr>\n",
       "    <tr>\n",
       "      <th>M_iodine</th>\n",
       "      <td>0.174958</td>\n",
       "      <td>2.508225</td>\n",
       "    </tr>\n",
       "    <tr>\n",
       "      <th>V_vit b5</th>\n",
       "      <td>1.084078</td>\n",
       "      <td>2.554383</td>\n",
       "    </tr>\n",
       "    <tr>\n",
       "      <th>M_zinc</th>\n",
       "      <td>3.230476</td>\n",
       "      <td>2.753934</td>\n",
       "    </tr>\n",
       "    <tr>\n",
       "      <th>M_manganese</th>\n",
       "      <td>2.989306</td>\n",
       "      <td>5.797843</td>\n",
       "    </tr>\n",
       "    <tr>\n",
       "      <th>OT_betaine</th>\n",
       "      <td>1.683010</td>\n",
       "      <td>7.963420</td>\n",
       "    </tr>\n",
       "    <tr>\n",
       "      <th>V_vit h</th>\n",
       "      <td>1.533010</td>\n",
       "      <td>14.711667</td>\n",
       "    </tr>\n",
       "    <tr>\n",
       "      <th>M_iron</th>\n",
       "      <td>10.682718</td>\n",
       "      <td>16.569784</td>\n",
       "    </tr>\n",
       "    <tr>\n",
       "      <th>OT_choline</th>\n",
       "      <td>17.756796</td>\n",
       "      <td>34.163971</td>\n",
       "    </tr>\n",
       "    <tr>\n",
       "      <th>OT_caffeine</th>\n",
       "      <td>5.538835</td>\n",
       "      <td>39.827750</td>\n",
       "    </tr>\n",
       "    <tr>\n",
       "      <th>V_vit c</th>\n",
       "      <td>15.475631</td>\n",
       "      <td>59.576938</td>\n",
       "    </tr>\n",
       "    <tr>\n",
       "      <th>G_energy</th>\n",
       "      <td>377.620710</td>\n",
       "      <td>119.630731</td>\n",
       "    </tr>\n",
       "  </tbody>\n",
       "</table>\n",
       "</div>"
      ],
      "text/plain": [
       "                   mean         std\n",
       "V_vit b12      0.000001    0.000015\n",
       "M_chromium     0.002292    0.014570\n",
       "M_selenium     0.021076    0.134287\n",
       "V_vit k        0.056334    0.253667\n",
       "V_vit b9       0.114904    0.333738\n",
       "V_vit b2       0.349379    0.588316\n",
       "V_vit b6       0.555286    0.634335\n",
       "V_vit b1       0.496490    0.918151\n",
       "M_copper       0.910325    1.087551\n",
       "M_iodine       0.174958    2.508225\n",
       "V_vit b5       1.084078    2.554383\n",
       "M_zinc         3.230476    2.753934\n",
       "M_manganese    2.989306    5.797843\n",
       "OT_betaine     1.683010    7.963420\n",
       "V_vit h        1.533010   14.711667\n",
       "M_iron        10.682718   16.569784\n",
       "OT_choline    17.756796   34.163971\n",
       "OT_caffeine    5.538835   39.827750\n",
       "V_vit c       15.475631   59.576938\n",
       "G_energy     377.620710  119.630731"
      ]
     },
     "metadata": {},
     "output_type": "display_data"
    }
   ],
   "source": [
    "# Compuestos con mayor porcentaje de ceros\n",
    "zp = 50\n",
    "print(f'Compuestos con >= {zp}% cantidad de ceros')\n",
    "display(df_cols_metrics.loc[3, [True] + list(df_cols_metrics.iloc[3, 1:] >= zp)][1:].to_frame(name='zeros (%)').sort_values(by='zeros (%)', ascending=False))\n",
    "\n",
    "# Ingredientes con mayor porcentaje de ceros\n",
    "zp = 17\n",
    "print(f'Ingredientes con >= {zp}% cantidad de ceros')\n",
    "display(df_rows_metrics.loc[df_rows_metrics['zeros (%)'] >= zp].sort_values(by='zeros (%)', ascending=False))\n",
    "\n",
    "# Compuestos con mayor varianza\n",
    "q_comp = 20\n",
    "print(f'{q_comp} Compuestos con mayor varianza')\n",
    "display(df_cols_metrics.iloc[0:2, 1:].sort_values(by=1, axis=1, ascending=False).T[:q_comp].rename(columns={0: 'mean', 1: 'std'}))\n",
    "\n",
    "# Compuestos con menor varianza\n",
    "print(f'{q_comp} Compuestos con menor varianza')\n",
    "display(df_cols_metrics.iloc[0:2, 1:].sort_values(by=1, axis=1, ascending=True).T[:q_comp].rename(columns={0: 'mean', 1: 'std'}))\n"
   ]
  },
  {
   "cell_type": "markdown",
   "id": "d9a5de4b",
   "metadata": {},
   "source": [
    "# Análisis con reducción de dimensiones"
   ]
  },
  {
   "cell_type": "code",
   "execution_count": 164,
   "id": "824b1bd4",
   "metadata": {
    "ExecuteTime": {
     "end_time": "2021-10-08T13:48:13.751020Z",
     "start_time": "2021-10-08T13:48:13.735292Z"
    }
   },
   "outputs": [
    {
     "data": {
      "text/plain": [
       "('V', 'M', 'AE', 'G', 'ANE', 'OT')"
      ]
     },
     "execution_count": 164,
     "metadata": {},
     "output_type": "execute_result"
    }
   ],
   "source": [
    "# Definición del conjunto de etiquetas/grupos de los alimentos\n",
    "group_labels = tuple(set([i.split('_')[0] for i in df.columns[6:]]))\n",
    "group_labels"
   ]
  },
  {
   "cell_type": "markdown",
   "id": "491a8081",
   "metadata": {},
   "source": [
    "## T-SNE"
   ]
  },
  {
   "cell_type": "code",
   "execution_count": null,
   "id": "28c56631",
   "metadata": {},
   "outputs": [],
   "source": [
    "def get_TSNE_projection(filter_type='all'):\n",
    "    # Definición de la lista que almacena los vectores\n",
    "    food_vectors = list()\n",
    "\n",
    "    # Definición de las etiquetas\n",
    "    labels = df['nombre_secundario']\n",
    "\n",
    "    for i, row in df.iterrows():\n",
    "        # Agregando los valores a la lista\n",
    "        food_vectors[i] = list(row[4:])\n",
    "    \n",
    "    \n",
    "    tsne = TSNE(n_components=2, random_state=0, n_iter=10000, perplexity=3)\n",
    "    T_foods = tsne.fit_transform(food_vectors)\n",
    "    \n",
    "    return T_foods"
   ]
  },
  {
   "cell_type": "markdown",
   "id": "37acd965",
   "metadata": {},
   "source": [
    "### Sobre todos"
   ]
  },
  {
   "cell_type": "code",
   "execution_count": 17,
   "id": "1f65e14b",
   "metadata": {
    "ExecuteTime": {
     "end_time": "2021-10-06T21:18:46.613491Z",
     "start_time": "2021-10-06T21:18:46.574628Z"
    }
   },
   "outputs": [
    {
     "data": {
      "text/plain": [
       "(208, 54)"
      ]
     },
     "execution_count": 17,
     "metadata": {},
     "output_type": "execute_result"
    }
   ],
   "source": [
    "# Definición de la matriz que almacena los vectores\n",
    "food_vectors = np.zeros((df.shape[0], df.shape[1] - 4))\n",
    "\n",
    "# Definición de las etiquetas\n",
    "labels = df['nombre_secundario']\n",
    "\n",
    "for i, row in df.iterrows():\n",
    "    # Agregando los valores a la lista\n",
    "    food_vectors[i] = list(row[4:])\n",
    "    \n",
    "food_vectors.shape"
   ]
  },
  {
   "cell_type": "code",
   "execution_count": 18,
   "id": "e80a1670",
   "metadata": {
    "ExecuteTime": {
     "end_time": "2021-10-06T21:18:50.642527Z",
     "start_time": "2021-10-06T21:18:47.119097Z"
    }
   },
   "outputs": [],
   "source": [
    "tsne = TSNE(n_components=2, random_state=0, n_iter=10000, perplexity=3)\n",
    "T_foods = tsne.fit_transform(food_vectors)"
   ]
  },
  {
   "cell_type": "code",
   "execution_count": 19,
   "id": "86daab15",
   "metadata": {
    "ExecuteTime": {
     "end_time": "2021-10-06T21:18:50.784842Z",
     "start_time": "2021-10-06T21:18:50.738963Z"
    }
   },
   "outputs": [
    {
     "data": {
      "application/vnd.plotly.v1+json": {
       "config": {
        "plotlyServerURL": "https://plot.ly"
       },
       "data": [
        {
         "mode": "markers+text",
         "text": [
          "date, dried",
          "cereals, farina, unenriched, dry",
          "corn, dried, yellow (northern plains indians)",
          "spices, mustard seed, ground",
          "nuts, ginkgo nuts, dried",
          "seeds, safflower seed kernels, dried",
          "cornmeal, yellow (navajo)",
          "fig, dried",
          "seeds, flaxseed",
          "spices, fenugreek seed",
          "seeds, sunflower seed flour, partially defatted",
          "carrot, dehydrated",
          "cereals, corn grits, white, regular and quick, unenriched, dry",
          "tapioca, pearl, dry",
          "nuts, brazilnuts, dried, unblanched",
          "seeds, sunflower seed kernels, dried",
          "seeds, pumpkin and squash seed kernels, dried",
          "soy flour, defatted",
          "bananas, dehydrated, or banana powder",
          "spices, pepper, black",
          "beans, white, dried",
          "seeds, pumpkin and squash seed kernels, dried",
          "lentils, dried",
          "rye flour, dark, whole meal",
          "beans, brown, dried",
          "spices, basil, dried",
          "carob flour",
          "nuts, pine nuts, pinyon, dried",
          "nuts, pilinuts, dried",
          "longans, dried",
          "prune, dried plum",
          "seeds, cottonseed flour, low fat (glandless)",
          "seeds, watermelon seed kernels, dried",
          "seeds, sesame flour, partially defatted",
          "buckwheat flour",
          "spices, paprika",
          "cornmeal, degermed, unenriched, white",
          "millet flour",
          "buckwheat flour, whole-groat",
          "nut, hazel (uk), filbert (usa), dried",
          "nuts, coconut meat, dried (desiccated), toasted",
          "radishes, oriental, dried",
          "spices, onion powder",
          "wheat flour",
          "nuts, pine nuts, dried",
          "spices, chili powder",
          "spices, caraway seed",
          "yeast, dried",
          "beans, soy, dried",
          "nuts, acorn flour, full fat",
          "cornmeal, whole-grain, yellow",
          "spices, oregano, dried",
          "peppers, hot chile, sun-dried",
          "seeds, sesame seed kernels, dried (decorticated)",
          "nuts, coconut meat, dried (desiccated), creamed",
          "pine nuts, pignolias, dried",
          "rye flour, medium",
          "cereals, corn grits, white, regular and quick, unenriched, dry",
          "spices, garlic powder",
          "cocoa, powder",
          "pistachio nuts, dried",
          "cornmeal, whole-grain, white",
          "peppers, ancho, dried",
          "cornstarch",
          "tomatoes, sun-dried",
          "onions, dehydrated flakes",
          "cocoa, dry powder, unsweetened, processed with alkali",
          "potato flour",
          "tomato powder",
          "cornmeal, degermed, unenriched, yellow",
          "nuts, butternuts, dried",
          "pecans, dried",
          "seeds, sesame seeds, whole, dried",
          "wheat flour, whole-grain",
          "wheat flour",
          "cereals, corn grits, yellow, regular and quick, unenriched, dry",
          "nuts, chestnuts, european, dried, unpeeled",
          "walnuts",
          "seeds, sunflower seed kernels, toasted, without salt",
          "cocoa, dry powder, unsweetened",
          "cereals, corn grits, yellow, regular and quick, unenriched, dry",
          "nuts, acorns, dried",
          "nuts, chestnuts, japanese, dried",
          "bulgur, dry",
          "rice flour",
          "spices, dill seed",
          "barley flour or meal",
          "barley malt flour",
          "peanut flour, low fat",
          "seeds, lotus seeds, dried",
          "nuts, walnuts, black, dried",
          "seeds, sesame flour, low-fat",
          "soya flour, full fat",
          "spices, cloves, ground",
          "rice flour, brown",
          "seeds, cottonseed flour, partially defatted (glandless)",
          "peanut flour, defatted",
          "corn flour",
          "nut, pea, dried",
          "corn flour, masa, unenriched, white",
          "sesame seeds, whole, dried",
          "cornmeal, white (navajo)",
          "soy flour, low-fat, crude protein basis (n x 6.25)",
          "peach, dried",
          "seaweed, spirulina, dried",
          "spices, ginger, ground",
          "arrowroot flour",
          "seeds, sesame flour, high-fat",
          "rye flour, light",
          "spearmint, dried",
          "nuts, beechnuts, dried",
          "cereals, oats, regular and quick, not fortified, dry",
          "nuts, hickorynuts, dried",
          "garlic, dried, powder",
          "apple, dried",
          "persimmons, japanese, dried",
          "spices, cinnamon, ground",
          "rye flour, dark",
          "rice flour, white",
          "seeds, sesame meal, partially defatted",
          "corn flour, whole-grain, white",
          "spices, parsley, dried",
          "seeds, safflower seed meal, partially defatted",
          "sesame seed, decorticated",
          "corn flour, whole-grain, yellow",
          "nuts, chestnuts, chinese, dried",
          "rice, white, long-grain, parboiled, unenriched, dry",
          "nuts, chestnuts, european, dried, peeled",
          "wheat flour, white, all-purpose, unenriched",
          "seeds, pumpkin and squash seed kernels, dried",
          "wheat, flour, wholemeal",
          "triticale flour, whole-grain",
          "tofu, dried-frozen (koyadofu)",
          "seeds, chia seeds, dried",
          "tomato, dried",
          "leavening agents, yeast, bakers, active dry",
          "spices, poppy seed",
          "soy flour, defatted, crude protein basis (n x 6.25)",
          "rice, white, with pasta, dry",
          "sorghum flour",
          "spices, fennel seed",
          "mushrooms, shiitake, dried",
          "apricot, dried",
          "seeds, sisymbrium sp. seeds, whole, dried",
          "corn starch",
          "baking powder",
          "spices, thyme, dried",
          "litchis, dried",
          "spices, allspice, ground",
          "coffee, dry, powder, with whitener, reduced calorie",
          "spices, sage, ground",
          "spices, anise seed",
          "coffee, dry, powder, with whitener, reduced calorie",
          "coriander, leaf, dried",
          "spices, coriander leaf, dried",
          "spices, coriander seed",
          "spices, saffron",
          "oat flour, partially debranned",
          "spices, chervil, dried",
          "wocas, dried seeds, oregon, yellow pond lily, nuphar lutea (or) - cy0617b",
          "cornmeal, blue (navajo)",
          "spices, nutmeg, ground",
          "spices, celery seed",
          "spices, mace, ground",
          "celery flakes, dried",
          "wheat flour, whole-grain, soft wheat",
          "chickpea flour (besan)",
          "spices, pumpkin pie spice",
          "coffee, dry, powder, with whitener, reduced calorie",
          "coffee and cocoa (mocha) powder, with whitener and low calorie sweetener",
          "coffee and cocoa (mocha) powder, with whitener and low calorie sweetener, decaffeinated",
          "spices, pepper, white",
          "spices, poultry seasoning",
          "spices, turmeric, ground",
          "leavening agents, baking powder, low-sodium",
          "spices, tarragon, dried",
          "leavening agents, baking powder, double-acting, straight phosphate",
          "spices, marjoram, dried",
          "leavening agents, baking powder, double-acting, sodium aluminum sulfate",
          "spices, bay leaf",
          "seaweed, konbu, dried (kelp)",
          "spices, cumin seed",
          "sunflower seeds, decorticated, dried",
          "curry powder",
          "spices, curry powder",
          "jujube, dried",
          "fungi, cloud ears, dried",
          "spices, pepper, red or cayenne",
          "spices, rosemary, dried",
          "pepeao, dried",
          "corn flour, degermed, unenriched, yellow",
          "dill weed, dried",
          "spices, dill weed, dried",
          "cereals, whole wheat hot natural cereal, dry",
          "rose hip, dried, powder",
          "spices, savory, ground",
          "corn flour, whole-grain, blue (harina de maiz morado)",
          "cocoa, dry powder, hi-fat or breakfast, plain",
          "cocoa, dry powder, hi-fat or breakfast, processed with alkali",
          "soy flour, low-fat",
          "fruit, mixed, (prune and apricot and pear), dried",
          "cocoa, dry powder, unsweetened, hersheys european style cocoa",
          "spices, cardamom",
          "currants, zante, dried",
          "peppers, pasilla, dried",
          "seaweed, agar, dried",
          "agave, dried (southwest)",
          "corn, dried (navajo)"
         ],
         "textfont": {
          "size": 8
         },
         "textposition": "top center",
         "type": "scatter",
         "x": [
          50.89813995361328,
          49.91078567504883,
          -28.175090789794922,
          -115.47086334228516,
          60.62160110473633,
          -119.15999603271484,
          61.547096252441406,
          48.630001068115234,
          -124.98931121826172,
          -77.98735046386719,
          -120.06449890136719,
          159.03549194335938,
          50.44182586669922,
          78.42951965332031,
          -73.17416381835938,
          -113.34529113769531,
          -99.75786590576172,
          -100.69020080566406,
          156.21849060058594,
          8.168888092041016,
          -23.44866943359375,
          -101.53400421142578,
          -31.521589279174805,
          -39.144798278808594,
          -22.324373245239258,
          -81.72433471679688,
          156.4054718017578,
          -75.8441162109375,
          -70.66445922851562,
          69.23780822753906,
          46.26149368286133,
          -118.2677001953125,
          -97.45570373535156,
          -119.43643188476562,
          -39.19321823120117,
          -33.32421875,
          56.61054611206055,
          58.966209411621094,
          31.897449493408203,
          15.544297218322754,
          -50.50303649902344,
          163.45901489257812,
          33.22710418701172,
          -40.23982238769531,
          -84.95891571044922,
          -34.692474365234375,
          -45.71363067626953,
          26.258867263793945,
          23.990938186645508,
          -68.01258850097656,
          59.076507568359375,
          -34.009010314941406,
          161.3228302001953,
          -74.7802734375,
          -50.006587982177734,
          15.305961608886719,
          37.98348617553711,
          52.49889373779297,
          34.02039337158203,
          34.0634651184082,
          16.002944946289062,
          58.11315155029297,
          -70.0039291381836,
          78.29949188232422,
          166.00466918945312,
          158.10435485839844,
          -52.39448547363281,
          -48.14580535888672,
          159.66842651367188,
          55.45758056640625,
          -90.18268585205078,
          14.705430030822754,
          -114.76066589355469,
          33.977684020996094,
          -41.62342834472656,
          50.450496673583984,
          55.6817741394043,
          -87.94342041015625,
          -89.02368927001953,
          -51.06413650512695,
          52.49473190307617,
          -66.782958984375,
          70.66694641113281,
          38.51451873779297,
          -45.56441879272461,
          -69.76898956298828,
          38.880531311035156,
          44.31697463989258,
          -117.69589233398438,
          24.59083366394043,
          -87.58468627929688,
          -119.6164321899414,
          22.633899688720703,
          -33.02077102661133,
          63.788299560546875,
          -120.62812805175781,
          -99.15641021728516,
          -44.393638610839844,
          17.840932846069336,
          58.73253631591797,
          16.06157112121582,
          63.282535552978516,
          -99.34254455566406,
          49.04024887084961,
          -120.06773376464844,
          31.899776458740234,
          76.73169708251953,
          -114.14258575439453,
          43.57002639770508,
          -83.07600402832031,
          -114.81773376464844,
          28.515661239624023,
          -74.98011016845703,
          -36.28483581542969,
          4.5637311935424805,
          53.562625885009766,
          -32.17015838623047,
          5.212265491485596,
          63.21502685546875,
          -115.44380950927734,
          58.00291442871094,
          -84.81719207763672,
          -122.9478759765625,
          15.156986236572266,
          56.609100341796875,
          70.91685485839844,
          61.98311233520508,
          71.35160064697266,
          50.444496154785156,
          -100.36229705810547,
          -37.9302978515625,
          36.42585372924805,
          -111.61231231689453,
          -126.90946197509766,
          44.131439208984375,
          -88.3098373413086,
          -123.69917297363281,
          -98.00367736816406,
          61.10920715332031,
          61.31631088256836,
          -45.33409881591797,
          35.01025390625,
          4.929569721221924,
          21.13207244873047,
          -47.64719009399414,
          -25.210634231567383,
          -35.33594512939453,
          150.78756713867188,
          14.195380210876465,
          140.9780731201172,
          -36.31630325317383,
          -69.80819702148438,
          139.8117218017578,
          -26.149200439453125,
          -11.897425651550293,
          -44.83513641357422,
          24.120502471923828,
          25.40945053100586,
          -11.331001281738281,
          40.747291564941406,
          64.28843688964844,
          -52.17835235595703,
          -69.83892822265625,
          -52.96357727050781,
          162.65452575683594,
          39.468292236328125,
          -13.490009307861328,
          23.09296226501465,
          141.6812744140625,
          151.56585693359375,
          151.01901245117188,
          7.157658100128174,
          25.658021926879883,
          16.323522567749023,
          12.724897384643555,
          -10.127768516540527,
          10.675514221191406,
          -36.80909729003906,
          11.519899368286133,
          12.77942180633545,
          -26.193578720092773,
          -69.71173095703125,
          13.316413879394531,
          35.49203109741211,
          -37.57059860229492,
          70.13219451904297,
          -31.414995193481445,
          -31.103940963745117,
          -34.93758010864258,
          70.55437469482422,
          65.94457244873047,
          -27.510034561157227,
          -9.528882026672363,
          41.61692428588867,
          39.149898529052734,
          -32.75510025024414,
          44.18988800048828,
          -52.418888092041016,
          -52.099674224853516,
          -95.40934753417969,
          52.707027435302734,
          -77.0010757446289,
          8.941983222961426,
          150.480224609375,
          -68.62956237792969,
          54.4799919128418,
          154.6105499267578,
          59.09198760986328
         ],
         "y": [
          -116.3495864868164,
          -15.986933708190918,
          19.543760299682617,
          -35.896827697753906,
          1.044467568397522,
          -51.995750427246094,
          37.284400939941406,
          -116.75614166259766,
          -55.174537658691406,
          13.825063705444336,
          -19.968374252319336,
          -58.817020416259766,
          -23.000789642333984,
          -43.68497848510742,
          -64.13297271728516,
          -48.53246307373047,
          -45.02192687988281,
          5.0991387367248535,
          -52.275203704833984,
          27.063528060913086,
          117.42147827148438,
          -44.56806945800781,
          114.35114288330078,
          113.04793548583984,
          116.65391540527344,
          7.284253120422363,
          -60.13081741333008,
          -63.68541717529297,
          -63.308082580566406,
          -9.205855369567871,
          -116.6805191040039,
          -18.976116180419922,
          -43.239288330078125,
          -26.265275955200195,
          119.24022674560547,
          16.890567779541016,
          -35.70846939086914,
          8.975750923156738,
          45.26551055908203,
          -124.30023193359375,
          41.38041305541992,
          -62.79932403564453,
          30.34832191467285,
          121.22604370117188,
          -72.66860961914062,
          16.40919303894043,
          12.971796989440918,
          -119.15049743652344,
          -120.21076202392578,
          41.191429138183594,
          17.19277000427246,
          -7.507303714752197,
          -61.68212890625,
          -65.48329162597656,
          42.7508659362793,
          -134.9499053955078,
          32.17023849487305,
          -25.003618240356445,
          47.919517517089844,
          -118.96302795410156,
          -127.38163757324219,
          16.112993240356445,
          22.066694259643555,
          -45.59650802612305,
          -63.54099655151367,
          -53.006431579589844,
          19.404212951660156,
          126.99775695800781,
          -57.233978271484375,
          -34.998130798339844,
          -74.01400756835938,
          -136.3048553466797,
          -48.580562591552734,
          44.868316650390625,
          120.39466094970703,
          -25.045204162597656,
          23.22068214416504,
          -73.39027404785156,
          -77.09799194335938,
          19.04969024658203,
          -22.955703735351562,
          40.55691146850586,
          -25.5528564453125,
          42.426910400390625,
          125.10757446289062,
          28.88555145263672,
          30.94086265563965,
          17.70856285095215,
          -29.578508377075195,
          52.27168273925781,
          -74.72293090820312,
          -17.90923309326172,
          -120.814208984375,
          0.48013028502464294,
          15.117268562316895,
          -25.06909942626953,
          3.1780362129211426,
          123.9524154663086,
          -125.31922912597656,
          12.298567771911621,
          -132.13140869140625,
          35.62165451049805,
          6.797389507293701,
          -115.060302734375,
          -15.336057662963867,
          35.89542007446289,
          -44.59674072265625,
          -36.907257080078125,
          18.924644470214844,
          8.485355377197266,
          -52.97289276123047,
          45.37553024291992,
          -61.994632720947266,
          116.01005554199219,
          -136.06654357910156,
          26.520145416259766,
          -11.070889472961426,
          27.15203857421875,
          -30.361186981201172,
          -51.21725845336914,
          20.597183227539062,
          8.32501220703125,
          -24.818897247314453,
          -129.28822326660156,
          19.871824264526367,
          -23.65428352355957,
          -29.56301498413086,
          -21.37688636779785,
          -14.687426567077637,
          -43.15769958496094,
          114.04918670654297,
          43.520450592041016,
          -37.462608337402344,
          -56.266563415527344,
          -117.05962371826172,
          7.702842712402344,
          -54.43720245361328,
          5.732666015625,
          -0.35051608085632324,
          15.532587051391602,
          11.465344429016113,
          31.96930503845215,
          -137.34552001953125,
          51.23975372314453,
          128.5803985595703,
          106.62317657470703,
          -3.3947484493255615,
          -47.24955749511719,
          33.129974365234375,
          -11.506644248962402,
          2.9716830253601074,
          30.5125789642334,
          -12.991628646850586,
          111.7596435546875,
          54.749385833740234,
          9.589729309082031,
          49.65463638305664,
          47.92391586303711,
          56.77391052246094,
          41.22658157348633,
          34.567256927490234,
          35.066619873046875,
          34.98091506958008,
          32.807640075683594,
          -64.1754379272461,
          34.38915252685547,
          52.5249137878418,
          38.41365051269531,
          -13.261369705200195,
          -6.299819469451904,
          -5.438441753387451,
          28.61574935913086,
          40.7420768737793,
          34.2000846862793,
          62.62798309326172,
          58.03065872192383,
          65.50775146484375,
          -3.6916544437408447,
          64.25928497314453,
          32.38362503051758,
          108.80844116210938,
          33.480796813964844,
          -129.3432159423828,
          -118.70687103271484,
          4.745755195617676,
          -10.209184646606445,
          -12.98625659942627,
          17.8242130279541,
          2.0991709232330322,
          -27.209463119506836,
          -30.462472915649414,
          111.67781829833984,
          55.32161331176758,
          30.8940486907959,
          -117.98991394042969,
          -8.327455520629883,
          29.990339279174805,
          30.272722244262695,
          28.868186950683594,
          6.379754543304443,
          28.795886993408203,
          14.844745635986328,
          29.375247955322266,
          -48.62836456298828,
          22.577392578125,
          -37.90791702270508,
          -52.43391799926758,
          6.655344009399414
         ]
        }
       ],
       "layout": {
        "template": {
         "data": {
          "bar": [
           {
            "error_x": {
             "color": "#2a3f5f"
            },
            "error_y": {
             "color": "#2a3f5f"
            },
            "marker": {
             "line": {
              "color": "#E5ECF6",
              "width": 0.5
             },
             "pattern": {
              "fillmode": "overlay",
              "size": 10,
              "solidity": 0.2
             }
            },
            "type": "bar"
           }
          ],
          "barpolar": [
           {
            "marker": {
             "line": {
              "color": "#E5ECF6",
              "width": 0.5
             },
             "pattern": {
              "fillmode": "overlay",
              "size": 10,
              "solidity": 0.2
             }
            },
            "type": "barpolar"
           }
          ],
          "carpet": [
           {
            "aaxis": {
             "endlinecolor": "#2a3f5f",
             "gridcolor": "white",
             "linecolor": "white",
             "minorgridcolor": "white",
             "startlinecolor": "#2a3f5f"
            },
            "baxis": {
             "endlinecolor": "#2a3f5f",
             "gridcolor": "white",
             "linecolor": "white",
             "minorgridcolor": "white",
             "startlinecolor": "#2a3f5f"
            },
            "type": "carpet"
           }
          ],
          "choropleth": [
           {
            "colorbar": {
             "outlinewidth": 0,
             "ticks": ""
            },
            "type": "choropleth"
           }
          ],
          "contour": [
           {
            "colorbar": {
             "outlinewidth": 0,
             "ticks": ""
            },
            "colorscale": [
             [
              0,
              "#0d0887"
             ],
             [
              0.1111111111111111,
              "#46039f"
             ],
             [
              0.2222222222222222,
              "#7201a8"
             ],
             [
              0.3333333333333333,
              "#9c179e"
             ],
             [
              0.4444444444444444,
              "#bd3786"
             ],
             [
              0.5555555555555556,
              "#d8576b"
             ],
             [
              0.6666666666666666,
              "#ed7953"
             ],
             [
              0.7777777777777778,
              "#fb9f3a"
             ],
             [
              0.8888888888888888,
              "#fdca26"
             ],
             [
              1,
              "#f0f921"
             ]
            ],
            "type": "contour"
           }
          ],
          "contourcarpet": [
           {
            "colorbar": {
             "outlinewidth": 0,
             "ticks": ""
            },
            "type": "contourcarpet"
           }
          ],
          "heatmap": [
           {
            "colorbar": {
             "outlinewidth": 0,
             "ticks": ""
            },
            "colorscale": [
             [
              0,
              "#0d0887"
             ],
             [
              0.1111111111111111,
              "#46039f"
             ],
             [
              0.2222222222222222,
              "#7201a8"
             ],
             [
              0.3333333333333333,
              "#9c179e"
             ],
             [
              0.4444444444444444,
              "#bd3786"
             ],
             [
              0.5555555555555556,
              "#d8576b"
             ],
             [
              0.6666666666666666,
              "#ed7953"
             ],
             [
              0.7777777777777778,
              "#fb9f3a"
             ],
             [
              0.8888888888888888,
              "#fdca26"
             ],
             [
              1,
              "#f0f921"
             ]
            ],
            "type": "heatmap"
           }
          ],
          "heatmapgl": [
           {
            "colorbar": {
             "outlinewidth": 0,
             "ticks": ""
            },
            "colorscale": [
             [
              0,
              "#0d0887"
             ],
             [
              0.1111111111111111,
              "#46039f"
             ],
             [
              0.2222222222222222,
              "#7201a8"
             ],
             [
              0.3333333333333333,
              "#9c179e"
             ],
             [
              0.4444444444444444,
              "#bd3786"
             ],
             [
              0.5555555555555556,
              "#d8576b"
             ],
             [
              0.6666666666666666,
              "#ed7953"
             ],
             [
              0.7777777777777778,
              "#fb9f3a"
             ],
             [
              0.8888888888888888,
              "#fdca26"
             ],
             [
              1,
              "#f0f921"
             ]
            ],
            "type": "heatmapgl"
           }
          ],
          "histogram": [
           {
            "marker": {
             "pattern": {
              "fillmode": "overlay",
              "size": 10,
              "solidity": 0.2
             }
            },
            "type": "histogram"
           }
          ],
          "histogram2d": [
           {
            "colorbar": {
             "outlinewidth": 0,
             "ticks": ""
            },
            "colorscale": [
             [
              0,
              "#0d0887"
             ],
             [
              0.1111111111111111,
              "#46039f"
             ],
             [
              0.2222222222222222,
              "#7201a8"
             ],
             [
              0.3333333333333333,
              "#9c179e"
             ],
             [
              0.4444444444444444,
              "#bd3786"
             ],
             [
              0.5555555555555556,
              "#d8576b"
             ],
             [
              0.6666666666666666,
              "#ed7953"
             ],
             [
              0.7777777777777778,
              "#fb9f3a"
             ],
             [
              0.8888888888888888,
              "#fdca26"
             ],
             [
              1,
              "#f0f921"
             ]
            ],
            "type": "histogram2d"
           }
          ],
          "histogram2dcontour": [
           {
            "colorbar": {
             "outlinewidth": 0,
             "ticks": ""
            },
            "colorscale": [
             [
              0,
              "#0d0887"
             ],
             [
              0.1111111111111111,
              "#46039f"
             ],
             [
              0.2222222222222222,
              "#7201a8"
             ],
             [
              0.3333333333333333,
              "#9c179e"
             ],
             [
              0.4444444444444444,
              "#bd3786"
             ],
             [
              0.5555555555555556,
              "#d8576b"
             ],
             [
              0.6666666666666666,
              "#ed7953"
             ],
             [
              0.7777777777777778,
              "#fb9f3a"
             ],
             [
              0.8888888888888888,
              "#fdca26"
             ],
             [
              1,
              "#f0f921"
             ]
            ],
            "type": "histogram2dcontour"
           }
          ],
          "mesh3d": [
           {
            "colorbar": {
             "outlinewidth": 0,
             "ticks": ""
            },
            "type": "mesh3d"
           }
          ],
          "parcoords": [
           {
            "line": {
             "colorbar": {
              "outlinewidth": 0,
              "ticks": ""
             }
            },
            "type": "parcoords"
           }
          ],
          "pie": [
           {
            "automargin": true,
            "type": "pie"
           }
          ],
          "scatter": [
           {
            "marker": {
             "colorbar": {
              "outlinewidth": 0,
              "ticks": ""
             }
            },
            "type": "scatter"
           }
          ],
          "scatter3d": [
           {
            "line": {
             "colorbar": {
              "outlinewidth": 0,
              "ticks": ""
             }
            },
            "marker": {
             "colorbar": {
              "outlinewidth": 0,
              "ticks": ""
             }
            },
            "type": "scatter3d"
           }
          ],
          "scattercarpet": [
           {
            "marker": {
             "colorbar": {
              "outlinewidth": 0,
              "ticks": ""
             }
            },
            "type": "scattercarpet"
           }
          ],
          "scattergeo": [
           {
            "marker": {
             "colorbar": {
              "outlinewidth": 0,
              "ticks": ""
             }
            },
            "type": "scattergeo"
           }
          ],
          "scattergl": [
           {
            "marker": {
             "colorbar": {
              "outlinewidth": 0,
              "ticks": ""
             }
            },
            "type": "scattergl"
           }
          ],
          "scattermapbox": [
           {
            "marker": {
             "colorbar": {
              "outlinewidth": 0,
              "ticks": ""
             }
            },
            "type": "scattermapbox"
           }
          ],
          "scatterpolar": [
           {
            "marker": {
             "colorbar": {
              "outlinewidth": 0,
              "ticks": ""
             }
            },
            "type": "scatterpolar"
           }
          ],
          "scatterpolargl": [
           {
            "marker": {
             "colorbar": {
              "outlinewidth": 0,
              "ticks": ""
             }
            },
            "type": "scatterpolargl"
           }
          ],
          "scatterternary": [
           {
            "marker": {
             "colorbar": {
              "outlinewidth": 0,
              "ticks": ""
             }
            },
            "type": "scatterternary"
           }
          ],
          "surface": [
           {
            "colorbar": {
             "outlinewidth": 0,
             "ticks": ""
            },
            "colorscale": [
             [
              0,
              "#0d0887"
             ],
             [
              0.1111111111111111,
              "#46039f"
             ],
             [
              0.2222222222222222,
              "#7201a8"
             ],
             [
              0.3333333333333333,
              "#9c179e"
             ],
             [
              0.4444444444444444,
              "#bd3786"
             ],
             [
              0.5555555555555556,
              "#d8576b"
             ],
             [
              0.6666666666666666,
              "#ed7953"
             ],
             [
              0.7777777777777778,
              "#fb9f3a"
             ],
             [
              0.8888888888888888,
              "#fdca26"
             ],
             [
              1,
              "#f0f921"
             ]
            ],
            "type": "surface"
           }
          ],
          "table": [
           {
            "cells": {
             "fill": {
              "color": "#EBF0F8"
             },
             "line": {
              "color": "white"
             }
            },
            "header": {
             "fill": {
              "color": "#C8D4E3"
             },
             "line": {
              "color": "white"
             }
            },
            "type": "table"
           }
          ]
         },
         "layout": {
          "annotationdefaults": {
           "arrowcolor": "#2a3f5f",
           "arrowhead": 0,
           "arrowwidth": 1
          },
          "autotypenumbers": "strict",
          "coloraxis": {
           "colorbar": {
            "outlinewidth": 0,
            "ticks": ""
           }
          },
          "colorscale": {
           "diverging": [
            [
             0,
             "#8e0152"
            ],
            [
             0.1,
             "#c51b7d"
            ],
            [
             0.2,
             "#de77ae"
            ],
            [
             0.3,
             "#f1b6da"
            ],
            [
             0.4,
             "#fde0ef"
            ],
            [
             0.5,
             "#f7f7f7"
            ],
            [
             0.6,
             "#e6f5d0"
            ],
            [
             0.7,
             "#b8e186"
            ],
            [
             0.8,
             "#7fbc41"
            ],
            [
             0.9,
             "#4d9221"
            ],
            [
             1,
             "#276419"
            ]
           ],
           "sequential": [
            [
             0,
             "#0d0887"
            ],
            [
             0.1111111111111111,
             "#46039f"
            ],
            [
             0.2222222222222222,
             "#7201a8"
            ],
            [
             0.3333333333333333,
             "#9c179e"
            ],
            [
             0.4444444444444444,
             "#bd3786"
            ],
            [
             0.5555555555555556,
             "#d8576b"
            ],
            [
             0.6666666666666666,
             "#ed7953"
            ],
            [
             0.7777777777777778,
             "#fb9f3a"
            ],
            [
             0.8888888888888888,
             "#fdca26"
            ],
            [
             1,
             "#f0f921"
            ]
           ],
           "sequentialminus": [
            [
             0,
             "#0d0887"
            ],
            [
             0.1111111111111111,
             "#46039f"
            ],
            [
             0.2222222222222222,
             "#7201a8"
            ],
            [
             0.3333333333333333,
             "#9c179e"
            ],
            [
             0.4444444444444444,
             "#bd3786"
            ],
            [
             0.5555555555555556,
             "#d8576b"
            ],
            [
             0.6666666666666666,
             "#ed7953"
            ],
            [
             0.7777777777777778,
             "#fb9f3a"
            ],
            [
             0.8888888888888888,
             "#fdca26"
            ],
            [
             1,
             "#f0f921"
            ]
           ]
          },
          "colorway": [
           "#636efa",
           "#EF553B",
           "#00cc96",
           "#ab63fa",
           "#FFA15A",
           "#19d3f3",
           "#FF6692",
           "#B6E880",
           "#FF97FF",
           "#FECB52"
          ],
          "font": {
           "color": "#2a3f5f"
          },
          "geo": {
           "bgcolor": "white",
           "lakecolor": "white",
           "landcolor": "#E5ECF6",
           "showlakes": true,
           "showland": true,
           "subunitcolor": "white"
          },
          "hoverlabel": {
           "align": "left"
          },
          "hovermode": "closest",
          "mapbox": {
           "style": "light"
          },
          "paper_bgcolor": "white",
          "plot_bgcolor": "#E5ECF6",
          "polar": {
           "angularaxis": {
            "gridcolor": "white",
            "linecolor": "white",
            "ticks": ""
           },
           "bgcolor": "#E5ECF6",
           "radialaxis": {
            "gridcolor": "white",
            "linecolor": "white",
            "ticks": ""
           }
          },
          "scene": {
           "xaxis": {
            "backgroundcolor": "#E5ECF6",
            "gridcolor": "white",
            "gridwidth": 2,
            "linecolor": "white",
            "showbackground": true,
            "ticks": "",
            "zerolinecolor": "white"
           },
           "yaxis": {
            "backgroundcolor": "#E5ECF6",
            "gridcolor": "white",
            "gridwidth": 2,
            "linecolor": "white",
            "showbackground": true,
            "ticks": "",
            "zerolinecolor": "white"
           },
           "zaxis": {
            "backgroundcolor": "#E5ECF6",
            "gridcolor": "white",
            "gridwidth": 2,
            "linecolor": "white",
            "showbackground": true,
            "ticks": "",
            "zerolinecolor": "white"
           }
          },
          "shapedefaults": {
           "line": {
            "color": "#2a3f5f"
           }
          },
          "ternary": {
           "aaxis": {
            "gridcolor": "white",
            "linecolor": "white",
            "ticks": ""
           },
           "baxis": {
            "gridcolor": "white",
            "linecolor": "white",
            "ticks": ""
           },
           "bgcolor": "#E5ECF6",
           "caxis": {
            "gridcolor": "white",
            "linecolor": "white",
            "ticks": ""
           }
          },
          "title": {
           "x": 0.05
          },
          "xaxis": {
           "automargin": true,
           "gridcolor": "white",
           "linecolor": "white",
           "ticks": "",
           "title": {
            "standoff": 15
           },
           "zerolinecolor": "white",
           "zerolinewidth": 2
          },
          "yaxis": {
           "automargin": true,
           "gridcolor": "white",
           "linecolor": "white",
           "ticks": "",
           "title": {
            "standoff": 15
           },
           "zerolinecolor": "white",
           "zerolinewidth": 2
          }
         }
        },
        "title": {
         "text": "Análisis de alimentos objetivos FooDB: TSNE sobre Word Embeddings"
        }
       }
      },
      "text/html": [
       "<div>                            <div id=\"9d35f02a-6482-474b-bc6f-9eb7f3e7c182\" class=\"plotly-graph-div\" style=\"height:525px; width:100%;\"></div>            <script type=\"text/javascript\">                require([\"plotly\"], function(Plotly) {                    window.PLOTLYENV=window.PLOTLYENV || {};                                    if (document.getElementById(\"9d35f02a-6482-474b-bc6f-9eb7f3e7c182\")) {                    Plotly.newPlot(                        \"9d35f02a-6482-474b-bc6f-9eb7f3e7c182\",                        [{\"mode\":\"markers+text\",\"text\":[\"date, dried\",\"cereals, farina, unenriched, dry\",\"corn, dried, yellow (northern plains indians)\",\"spices, mustard seed, ground\",\"nuts, ginkgo nuts, dried\",\"seeds, safflower seed kernels, dried\",\"cornmeal, yellow (navajo)\",\"fig, dried\",\"seeds, flaxseed\",\"spices, fenugreek seed\",\"seeds, sunflower seed flour, partially defatted\",\"carrot, dehydrated\",\"cereals, corn grits, white, regular and quick, unenriched, dry\",\"tapioca, pearl, dry\",\"nuts, brazilnuts, dried, unblanched\",\"seeds, sunflower seed kernels, dried\",\"seeds, pumpkin and squash seed kernels, dried\",\"soy flour, defatted\",\"bananas, dehydrated, or banana powder\",\"spices, pepper, black\",\"beans, white, dried\",\"seeds, pumpkin and squash seed kernels, dried\",\"lentils, dried\",\"rye flour, dark, whole meal\",\"beans, brown, dried\",\"spices, basil, dried\",\"carob flour\",\"nuts, pine nuts, pinyon, dried\",\"nuts, pilinuts, dried\",\"longans, dried\",\"prune, dried plum\",\"seeds, cottonseed flour, low fat (glandless)\",\"seeds, watermelon seed kernels, dried\",\"seeds, sesame flour, partially defatted\",\"buckwheat flour\",\"spices, paprika\",\"cornmeal, degermed, unenriched, white\",\"millet flour\",\"buckwheat flour, whole-groat\",\"nut, hazel (uk), filbert (usa), dried\",\"nuts, coconut meat, dried (desiccated), toasted\",\"radishes, oriental, dried\",\"spices, onion powder\",\"wheat flour\",\"nuts, pine nuts, dried\",\"spices, chili powder\",\"spices, caraway seed\",\"yeast, dried\",\"beans, soy, dried\",\"nuts, acorn flour, full fat\",\"cornmeal, whole-grain, yellow\",\"spices, oregano, dried\",\"peppers, hot chile, sun-dried\",\"seeds, sesame seed kernels, dried (decorticated)\",\"nuts, coconut meat, dried (desiccated), creamed\",\"pine nuts, pignolias, dried\",\"rye flour, medium\",\"cereals, corn grits, white, regular and quick, unenriched, dry\",\"spices, garlic powder\",\"cocoa, powder\",\"pistachio nuts, dried\",\"cornmeal, whole-grain, white\",\"peppers, ancho, dried\",\"cornstarch\",\"tomatoes, sun-dried\",\"onions, dehydrated flakes\",\"cocoa, dry powder, unsweetened, processed with alkali\",\"potato flour\",\"tomato powder\",\"cornmeal, degermed, unenriched, yellow\",\"nuts, butternuts, dried\",\"pecans, dried\",\"seeds, sesame seeds, whole, dried\",\"wheat flour, whole-grain\",\"wheat flour\",\"cereals, corn grits, yellow, regular and quick, unenriched, dry\",\"nuts, chestnuts, european, dried, unpeeled\",\"walnuts\",\"seeds, sunflower seed kernels, toasted, without salt\",\"cocoa, dry powder, unsweetened\",\"cereals, corn grits, yellow, regular and quick, unenriched, dry\",\"nuts, acorns, dried\",\"nuts, chestnuts, japanese, dried\",\"bulgur, dry\",\"rice flour\",\"spices, dill seed\",\"barley flour or meal\",\"barley malt flour\",\"peanut flour, low fat\",\"seeds, lotus seeds, dried\",\"nuts, walnuts, black, dried\",\"seeds, sesame flour, low-fat\",\"soya flour, full fat\",\"spices, cloves, ground\",\"rice flour, brown\",\"seeds, cottonseed flour, partially defatted (glandless)\",\"peanut flour, defatted\",\"corn flour\",\"nut, pea, dried\",\"corn flour, masa, unenriched, white\",\"sesame seeds, whole, dried\",\"cornmeal, white (navajo)\",\"soy flour, low-fat, crude protein basis (n x 6.25)\",\"peach, dried\",\"seaweed, spirulina, dried\",\"spices, ginger, ground\",\"arrowroot flour\",\"seeds, sesame flour, high-fat\",\"rye flour, light\",\"spearmint, dried\",\"nuts, beechnuts, dried\",\"cereals, oats, regular and quick, not fortified, dry\",\"nuts, hickorynuts, dried\",\"garlic, dried, powder\",\"apple, dried\",\"persimmons, japanese, dried\",\"spices, cinnamon, ground\",\"rye flour, dark\",\"rice flour, white\",\"seeds, sesame meal, partially defatted\",\"corn flour, whole-grain, white\",\"spices, parsley, dried\",\"seeds, safflower seed meal, partially defatted\",\"sesame seed, decorticated\",\"corn flour, whole-grain, yellow\",\"nuts, chestnuts, chinese, dried\",\"rice, white, long-grain, parboiled, unenriched, dry\",\"nuts, chestnuts, european, dried, peeled\",\"wheat flour, white, all-purpose, unenriched\",\"seeds, pumpkin and squash seed kernels, dried\",\"wheat, flour, wholemeal\",\"triticale flour, whole-grain\",\"tofu, dried-frozen (koyadofu)\",\"seeds, chia seeds, dried\",\"tomato, dried\",\"leavening agents, yeast, bakers, active dry\",\"spices, poppy seed\",\"soy flour, defatted, crude protein basis (n x 6.25)\",\"rice, white, with pasta, dry\",\"sorghum flour\",\"spices, fennel seed\",\"mushrooms, shiitake, dried\",\"apricot, dried\",\"seeds, sisymbrium sp. seeds, whole, dried\",\"corn starch\",\"baking powder\",\"spices, thyme, dried\",\"litchis, dried\",\"spices, allspice, ground\",\"coffee, dry, powder, with whitener, reduced calorie\",\"spices, sage, ground\",\"spices, anise seed\",\"coffee, dry, powder, with whitener, reduced calorie\",\"coriander, leaf, dried\",\"spices, coriander leaf, dried\",\"spices, coriander seed\",\"spices, saffron\",\"oat flour, partially debranned\",\"spices, chervil, dried\",\"wocas, dried seeds, oregon, yellow pond lily, nuphar lutea (or) - cy0617b\",\"cornmeal, blue (navajo)\",\"spices, nutmeg, ground\",\"spices, celery seed\",\"spices, mace, ground\",\"celery flakes, dried\",\"wheat flour, whole-grain, soft wheat\",\"chickpea flour (besan)\",\"spices, pumpkin pie spice\",\"coffee, dry, powder, with whitener, reduced calorie\",\"coffee and cocoa (mocha) powder, with whitener and low calorie sweetener\",\"coffee and cocoa (mocha) powder, with whitener and low calorie sweetener, decaffeinated\",\"spices, pepper, white\",\"spices, poultry seasoning\",\"spices, turmeric, ground\",\"leavening agents, baking powder, low-sodium\",\"spices, tarragon, dried\",\"leavening agents, baking powder, double-acting, straight phosphate\",\"spices, marjoram, dried\",\"leavening agents, baking powder, double-acting, sodium aluminum sulfate\",\"spices, bay leaf\",\"seaweed, konbu, dried (kelp)\",\"spices, cumin seed\",\"sunflower seeds, decorticated, dried\",\"curry powder\",\"spices, curry powder\",\"jujube, dried\",\"fungi, cloud ears, dried\",\"spices, pepper, red or cayenne\",\"spices, rosemary, dried\",\"pepeao, dried\",\"corn flour, degermed, unenriched, yellow\",\"dill weed, dried\",\"spices, dill weed, dried\",\"cereals, whole wheat hot natural cereal, dry\",\"rose hip, dried, powder\",\"spices, savory, ground\",\"corn flour, whole-grain, blue (harina de maiz morado)\",\"cocoa, dry powder, hi-fat or breakfast, plain\",\"cocoa, dry powder, hi-fat or breakfast, processed with alkali\",\"soy flour, low-fat\",\"fruit, mixed, (prune and apricot and pear), dried\",\"cocoa, dry powder, unsweetened, hersheys european style cocoa\",\"spices, cardamom\",\"currants, zante, dried\",\"peppers, pasilla, dried\",\"seaweed, agar, dried\",\"agave, dried (southwest)\",\"corn, dried (navajo)\"],\"textfont\":{\"size\":8},\"textposition\":\"top center\",\"type\":\"scatter\",\"x\":[50.89813995361328,49.91078567504883,-28.175090789794922,-115.47086334228516,60.62160110473633,-119.15999603271484,61.547096252441406,48.630001068115234,-124.98931121826172,-77.98735046386719,-120.06449890136719,159.03549194335938,50.44182586669922,78.42951965332031,-73.17416381835938,-113.34529113769531,-99.75786590576172,-100.69020080566406,156.21849060058594,8.168888092041016,-23.44866943359375,-101.53400421142578,-31.521589279174805,-39.144798278808594,-22.324373245239258,-81.72433471679688,156.4054718017578,-75.8441162109375,-70.66445922851562,69.23780822753906,46.26149368286133,-118.2677001953125,-97.45570373535156,-119.43643188476562,-39.19321823120117,-33.32421875,56.61054611206055,58.966209411621094,31.897449493408203,15.544297218322754,-50.50303649902344,163.45901489257812,33.22710418701172,-40.23982238769531,-84.95891571044922,-34.692474365234375,-45.71363067626953,26.258867263793945,23.990938186645508,-68.01258850097656,59.076507568359375,-34.009010314941406,161.3228302001953,-74.7802734375,-50.006587982177734,15.305961608886719,37.98348617553711,52.49889373779297,34.02039337158203,34.0634651184082,16.002944946289062,58.11315155029297,-70.0039291381836,78.29949188232422,166.00466918945312,158.10435485839844,-52.39448547363281,-48.14580535888672,159.66842651367188,55.45758056640625,-90.18268585205078,14.705430030822754,-114.76066589355469,33.977684020996094,-41.62342834472656,50.450496673583984,55.6817741394043,-87.94342041015625,-89.02368927001953,-51.06413650512695,52.49473190307617,-66.782958984375,70.66694641113281,38.51451873779297,-45.56441879272461,-69.76898956298828,38.880531311035156,44.31697463989258,-117.69589233398438,24.59083366394043,-87.58468627929688,-119.6164321899414,22.633899688720703,-33.02077102661133,63.788299560546875,-120.62812805175781,-99.15641021728516,-44.393638610839844,17.840932846069336,58.73253631591797,16.06157112121582,63.282535552978516,-99.34254455566406,49.04024887084961,-120.06773376464844,31.899776458740234,76.73169708251953,-114.14258575439453,43.57002639770508,-83.07600402832031,-114.81773376464844,28.515661239624023,-74.98011016845703,-36.28483581542969,4.5637311935424805,53.562625885009766,-32.17015838623047,5.212265491485596,63.21502685546875,-115.44380950927734,58.00291442871094,-84.81719207763672,-122.9478759765625,15.156986236572266,56.609100341796875,70.91685485839844,61.98311233520508,71.35160064697266,50.444496154785156,-100.36229705810547,-37.9302978515625,36.42585372924805,-111.61231231689453,-126.90946197509766,44.131439208984375,-88.3098373413086,-123.69917297363281,-98.00367736816406,61.10920715332031,61.31631088256836,-45.33409881591797,35.01025390625,4.929569721221924,21.13207244873047,-47.64719009399414,-25.210634231567383,-35.33594512939453,150.78756713867188,14.195380210876465,140.9780731201172,-36.31630325317383,-69.80819702148438,139.8117218017578,-26.149200439453125,-11.897425651550293,-44.83513641357422,24.120502471923828,25.40945053100586,-11.331001281738281,40.747291564941406,64.28843688964844,-52.17835235595703,-69.83892822265625,-52.96357727050781,162.65452575683594,39.468292236328125,-13.490009307861328,23.09296226501465,141.6812744140625,151.56585693359375,151.01901245117188,7.157658100128174,25.658021926879883,16.323522567749023,12.724897384643555,-10.127768516540527,10.675514221191406,-36.80909729003906,11.519899368286133,12.77942180633545,-26.193578720092773,-69.71173095703125,13.316413879394531,35.49203109741211,-37.57059860229492,70.13219451904297,-31.414995193481445,-31.103940963745117,-34.93758010864258,70.55437469482422,65.94457244873047,-27.510034561157227,-9.528882026672363,41.61692428588867,39.149898529052734,-32.75510025024414,44.18988800048828,-52.418888092041016,-52.099674224853516,-95.40934753417969,52.707027435302734,-77.0010757446289,8.941983222961426,150.480224609375,-68.62956237792969,54.4799919128418,154.6105499267578,59.09198760986328],\"y\":[-116.3495864868164,-15.986933708190918,19.543760299682617,-35.896827697753906,1.044467568397522,-51.995750427246094,37.284400939941406,-116.75614166259766,-55.174537658691406,13.825063705444336,-19.968374252319336,-58.817020416259766,-23.000789642333984,-43.68497848510742,-64.13297271728516,-48.53246307373047,-45.02192687988281,5.0991387367248535,-52.275203704833984,27.063528060913086,117.42147827148438,-44.56806945800781,114.35114288330078,113.04793548583984,116.65391540527344,7.284253120422363,-60.13081741333008,-63.68541717529297,-63.308082580566406,-9.205855369567871,-116.6805191040039,-18.976116180419922,-43.239288330078125,-26.265275955200195,119.24022674560547,16.890567779541016,-35.70846939086914,8.975750923156738,45.26551055908203,-124.30023193359375,41.38041305541992,-62.79932403564453,30.34832191467285,121.22604370117188,-72.66860961914062,16.40919303894043,12.971796989440918,-119.15049743652344,-120.21076202392578,41.191429138183594,17.19277000427246,-7.507303714752197,-61.68212890625,-65.48329162597656,42.7508659362793,-134.9499053955078,32.17023849487305,-25.003618240356445,47.919517517089844,-118.96302795410156,-127.38163757324219,16.112993240356445,22.066694259643555,-45.59650802612305,-63.54099655151367,-53.006431579589844,19.404212951660156,126.99775695800781,-57.233978271484375,-34.998130798339844,-74.01400756835938,-136.3048553466797,-48.580562591552734,44.868316650390625,120.39466094970703,-25.045204162597656,23.22068214416504,-73.39027404785156,-77.09799194335938,19.04969024658203,-22.955703735351562,40.55691146850586,-25.5528564453125,42.426910400390625,125.10757446289062,28.88555145263672,30.94086265563965,17.70856285095215,-29.578508377075195,52.27168273925781,-74.72293090820312,-17.90923309326172,-120.814208984375,0.48013028502464294,15.117268562316895,-25.06909942626953,3.1780362129211426,123.9524154663086,-125.31922912597656,12.298567771911621,-132.13140869140625,35.62165451049805,6.797389507293701,-115.060302734375,-15.336057662963867,35.89542007446289,-44.59674072265625,-36.907257080078125,18.924644470214844,8.485355377197266,-52.97289276123047,45.37553024291992,-61.994632720947266,116.01005554199219,-136.06654357910156,26.520145416259766,-11.070889472961426,27.15203857421875,-30.361186981201172,-51.21725845336914,20.597183227539062,8.32501220703125,-24.818897247314453,-129.28822326660156,19.871824264526367,-23.65428352355957,-29.56301498413086,-21.37688636779785,-14.687426567077637,-43.15769958496094,114.04918670654297,43.520450592041016,-37.462608337402344,-56.266563415527344,-117.05962371826172,7.702842712402344,-54.43720245361328,5.732666015625,-0.35051608085632324,15.532587051391602,11.465344429016113,31.96930503845215,-137.34552001953125,51.23975372314453,128.5803985595703,106.62317657470703,-3.3947484493255615,-47.24955749511719,33.129974365234375,-11.506644248962402,2.9716830253601074,30.5125789642334,-12.991628646850586,111.7596435546875,54.749385833740234,9.589729309082031,49.65463638305664,47.92391586303711,56.77391052246094,41.22658157348633,34.567256927490234,35.066619873046875,34.98091506958008,32.807640075683594,-64.1754379272461,34.38915252685547,52.5249137878418,38.41365051269531,-13.261369705200195,-6.299819469451904,-5.438441753387451,28.61574935913086,40.7420768737793,34.2000846862793,62.62798309326172,58.03065872192383,65.50775146484375,-3.6916544437408447,64.25928497314453,32.38362503051758,108.80844116210938,33.480796813964844,-129.3432159423828,-118.70687103271484,4.745755195617676,-10.209184646606445,-12.98625659942627,17.8242130279541,2.0991709232330322,-27.209463119506836,-30.462472915649414,111.67781829833984,55.32161331176758,30.8940486907959,-117.98991394042969,-8.327455520629883,29.990339279174805,30.272722244262695,28.868186950683594,6.379754543304443,28.795886993408203,14.844745635986328,29.375247955322266,-48.62836456298828,22.577392578125,-37.90791702270508,-52.43391799926758,6.655344009399414]}],                        {\"template\":{\"data\":{\"bar\":[{\"error_x\":{\"color\":\"#2a3f5f\"},\"error_y\":{\"color\":\"#2a3f5f\"},\"marker\":{\"line\":{\"color\":\"#E5ECF6\",\"width\":0.5},\"pattern\":{\"fillmode\":\"overlay\",\"size\":10,\"solidity\":0.2}},\"type\":\"bar\"}],\"barpolar\":[{\"marker\":{\"line\":{\"color\":\"#E5ECF6\",\"width\":0.5},\"pattern\":{\"fillmode\":\"overlay\",\"size\":10,\"solidity\":0.2}},\"type\":\"barpolar\"}],\"carpet\":[{\"aaxis\":{\"endlinecolor\":\"#2a3f5f\",\"gridcolor\":\"white\",\"linecolor\":\"white\",\"minorgridcolor\":\"white\",\"startlinecolor\":\"#2a3f5f\"},\"baxis\":{\"endlinecolor\":\"#2a3f5f\",\"gridcolor\":\"white\",\"linecolor\":\"white\",\"minorgridcolor\":\"white\",\"startlinecolor\":\"#2a3f5f\"},\"type\":\"carpet\"}],\"choropleth\":[{\"colorbar\":{\"outlinewidth\":0,\"ticks\":\"\"},\"type\":\"choropleth\"}],\"contour\":[{\"colorbar\":{\"outlinewidth\":0,\"ticks\":\"\"},\"colorscale\":[[0.0,\"#0d0887\"],[0.1111111111111111,\"#46039f\"],[0.2222222222222222,\"#7201a8\"],[0.3333333333333333,\"#9c179e\"],[0.4444444444444444,\"#bd3786\"],[0.5555555555555556,\"#d8576b\"],[0.6666666666666666,\"#ed7953\"],[0.7777777777777778,\"#fb9f3a\"],[0.8888888888888888,\"#fdca26\"],[1.0,\"#f0f921\"]],\"type\":\"contour\"}],\"contourcarpet\":[{\"colorbar\":{\"outlinewidth\":0,\"ticks\":\"\"},\"type\":\"contourcarpet\"}],\"heatmap\":[{\"colorbar\":{\"outlinewidth\":0,\"ticks\":\"\"},\"colorscale\":[[0.0,\"#0d0887\"],[0.1111111111111111,\"#46039f\"],[0.2222222222222222,\"#7201a8\"],[0.3333333333333333,\"#9c179e\"],[0.4444444444444444,\"#bd3786\"],[0.5555555555555556,\"#d8576b\"],[0.6666666666666666,\"#ed7953\"],[0.7777777777777778,\"#fb9f3a\"],[0.8888888888888888,\"#fdca26\"],[1.0,\"#f0f921\"]],\"type\":\"heatmap\"}],\"heatmapgl\":[{\"colorbar\":{\"outlinewidth\":0,\"ticks\":\"\"},\"colorscale\":[[0.0,\"#0d0887\"],[0.1111111111111111,\"#46039f\"],[0.2222222222222222,\"#7201a8\"],[0.3333333333333333,\"#9c179e\"],[0.4444444444444444,\"#bd3786\"],[0.5555555555555556,\"#d8576b\"],[0.6666666666666666,\"#ed7953\"],[0.7777777777777778,\"#fb9f3a\"],[0.8888888888888888,\"#fdca26\"],[1.0,\"#f0f921\"]],\"type\":\"heatmapgl\"}],\"histogram\":[{\"marker\":{\"pattern\":{\"fillmode\":\"overlay\",\"size\":10,\"solidity\":0.2}},\"type\":\"histogram\"}],\"histogram2d\":[{\"colorbar\":{\"outlinewidth\":0,\"ticks\":\"\"},\"colorscale\":[[0.0,\"#0d0887\"],[0.1111111111111111,\"#46039f\"],[0.2222222222222222,\"#7201a8\"],[0.3333333333333333,\"#9c179e\"],[0.4444444444444444,\"#bd3786\"],[0.5555555555555556,\"#d8576b\"],[0.6666666666666666,\"#ed7953\"],[0.7777777777777778,\"#fb9f3a\"],[0.8888888888888888,\"#fdca26\"],[1.0,\"#f0f921\"]],\"type\":\"histogram2d\"}],\"histogram2dcontour\":[{\"colorbar\":{\"outlinewidth\":0,\"ticks\":\"\"},\"colorscale\":[[0.0,\"#0d0887\"],[0.1111111111111111,\"#46039f\"],[0.2222222222222222,\"#7201a8\"],[0.3333333333333333,\"#9c179e\"],[0.4444444444444444,\"#bd3786\"],[0.5555555555555556,\"#d8576b\"],[0.6666666666666666,\"#ed7953\"],[0.7777777777777778,\"#fb9f3a\"],[0.8888888888888888,\"#fdca26\"],[1.0,\"#f0f921\"]],\"type\":\"histogram2dcontour\"}],\"mesh3d\":[{\"colorbar\":{\"outlinewidth\":0,\"ticks\":\"\"},\"type\":\"mesh3d\"}],\"parcoords\":[{\"line\":{\"colorbar\":{\"outlinewidth\":0,\"ticks\":\"\"}},\"type\":\"parcoords\"}],\"pie\":[{\"automargin\":true,\"type\":\"pie\"}],\"scatter\":[{\"marker\":{\"colorbar\":{\"outlinewidth\":0,\"ticks\":\"\"}},\"type\":\"scatter\"}],\"scatter3d\":[{\"line\":{\"colorbar\":{\"outlinewidth\":0,\"ticks\":\"\"}},\"marker\":{\"colorbar\":{\"outlinewidth\":0,\"ticks\":\"\"}},\"type\":\"scatter3d\"}],\"scattercarpet\":[{\"marker\":{\"colorbar\":{\"outlinewidth\":0,\"ticks\":\"\"}},\"type\":\"scattercarpet\"}],\"scattergeo\":[{\"marker\":{\"colorbar\":{\"outlinewidth\":0,\"ticks\":\"\"}},\"type\":\"scattergeo\"}],\"scattergl\":[{\"marker\":{\"colorbar\":{\"outlinewidth\":0,\"ticks\":\"\"}},\"type\":\"scattergl\"}],\"scattermapbox\":[{\"marker\":{\"colorbar\":{\"outlinewidth\":0,\"ticks\":\"\"}},\"type\":\"scattermapbox\"}],\"scatterpolar\":[{\"marker\":{\"colorbar\":{\"outlinewidth\":0,\"ticks\":\"\"}},\"type\":\"scatterpolar\"}],\"scatterpolargl\":[{\"marker\":{\"colorbar\":{\"outlinewidth\":0,\"ticks\":\"\"}},\"type\":\"scatterpolargl\"}],\"scatterternary\":[{\"marker\":{\"colorbar\":{\"outlinewidth\":0,\"ticks\":\"\"}},\"type\":\"scatterternary\"}],\"surface\":[{\"colorbar\":{\"outlinewidth\":0,\"ticks\":\"\"},\"colorscale\":[[0.0,\"#0d0887\"],[0.1111111111111111,\"#46039f\"],[0.2222222222222222,\"#7201a8\"],[0.3333333333333333,\"#9c179e\"],[0.4444444444444444,\"#bd3786\"],[0.5555555555555556,\"#d8576b\"],[0.6666666666666666,\"#ed7953\"],[0.7777777777777778,\"#fb9f3a\"],[0.8888888888888888,\"#fdca26\"],[1.0,\"#f0f921\"]],\"type\":\"surface\"}],\"table\":[{\"cells\":{\"fill\":{\"color\":\"#EBF0F8\"},\"line\":{\"color\":\"white\"}},\"header\":{\"fill\":{\"color\":\"#C8D4E3\"},\"line\":{\"color\":\"white\"}},\"type\":\"table\"}]},\"layout\":{\"annotationdefaults\":{\"arrowcolor\":\"#2a3f5f\",\"arrowhead\":0,\"arrowwidth\":1},\"autotypenumbers\":\"strict\",\"coloraxis\":{\"colorbar\":{\"outlinewidth\":0,\"ticks\":\"\"}},\"colorscale\":{\"diverging\":[[0,\"#8e0152\"],[0.1,\"#c51b7d\"],[0.2,\"#de77ae\"],[0.3,\"#f1b6da\"],[0.4,\"#fde0ef\"],[0.5,\"#f7f7f7\"],[0.6,\"#e6f5d0\"],[0.7,\"#b8e186\"],[0.8,\"#7fbc41\"],[0.9,\"#4d9221\"],[1,\"#276419\"]],\"sequential\":[[0.0,\"#0d0887\"],[0.1111111111111111,\"#46039f\"],[0.2222222222222222,\"#7201a8\"],[0.3333333333333333,\"#9c179e\"],[0.4444444444444444,\"#bd3786\"],[0.5555555555555556,\"#d8576b\"],[0.6666666666666666,\"#ed7953\"],[0.7777777777777778,\"#fb9f3a\"],[0.8888888888888888,\"#fdca26\"],[1.0,\"#f0f921\"]],\"sequentialminus\":[[0.0,\"#0d0887\"],[0.1111111111111111,\"#46039f\"],[0.2222222222222222,\"#7201a8\"],[0.3333333333333333,\"#9c179e\"],[0.4444444444444444,\"#bd3786\"],[0.5555555555555556,\"#d8576b\"],[0.6666666666666666,\"#ed7953\"],[0.7777777777777778,\"#fb9f3a\"],[0.8888888888888888,\"#fdca26\"],[1.0,\"#f0f921\"]]},\"colorway\":[\"#636efa\",\"#EF553B\",\"#00cc96\",\"#ab63fa\",\"#FFA15A\",\"#19d3f3\",\"#FF6692\",\"#B6E880\",\"#FF97FF\",\"#FECB52\"],\"font\":{\"color\":\"#2a3f5f\"},\"geo\":{\"bgcolor\":\"white\",\"lakecolor\":\"white\",\"landcolor\":\"#E5ECF6\",\"showlakes\":true,\"showland\":true,\"subunitcolor\":\"white\"},\"hoverlabel\":{\"align\":\"left\"},\"hovermode\":\"closest\",\"mapbox\":{\"style\":\"light\"},\"paper_bgcolor\":\"white\",\"plot_bgcolor\":\"#E5ECF6\",\"polar\":{\"angularaxis\":{\"gridcolor\":\"white\",\"linecolor\":\"white\",\"ticks\":\"\"},\"bgcolor\":\"#E5ECF6\",\"radialaxis\":{\"gridcolor\":\"white\",\"linecolor\":\"white\",\"ticks\":\"\"}},\"scene\":{\"xaxis\":{\"backgroundcolor\":\"#E5ECF6\",\"gridcolor\":\"white\",\"gridwidth\":2,\"linecolor\":\"white\",\"showbackground\":true,\"ticks\":\"\",\"zerolinecolor\":\"white\"},\"yaxis\":{\"backgroundcolor\":\"#E5ECF6\",\"gridcolor\":\"white\",\"gridwidth\":2,\"linecolor\":\"white\",\"showbackground\":true,\"ticks\":\"\",\"zerolinecolor\":\"white\"},\"zaxis\":{\"backgroundcolor\":\"#E5ECF6\",\"gridcolor\":\"white\",\"gridwidth\":2,\"linecolor\":\"white\",\"showbackground\":true,\"ticks\":\"\",\"zerolinecolor\":\"white\"}},\"shapedefaults\":{\"line\":{\"color\":\"#2a3f5f\"}},\"ternary\":{\"aaxis\":{\"gridcolor\":\"white\",\"linecolor\":\"white\",\"ticks\":\"\"},\"baxis\":{\"gridcolor\":\"white\",\"linecolor\":\"white\",\"ticks\":\"\"},\"bgcolor\":\"#E5ECF6\",\"caxis\":{\"gridcolor\":\"white\",\"linecolor\":\"white\",\"ticks\":\"\"}},\"title\":{\"x\":0.05},\"xaxis\":{\"automargin\":true,\"gridcolor\":\"white\",\"linecolor\":\"white\",\"ticks\":\"\",\"title\":{\"standoff\":15},\"zerolinecolor\":\"white\",\"zerolinewidth\":2},\"yaxis\":{\"automargin\":true,\"gridcolor\":\"white\",\"linecolor\":\"white\",\"ticks\":\"\",\"title\":{\"standoff\":15},\"zerolinecolor\":\"white\",\"zerolinewidth\":2}}},\"title\":{\"text\":\"An\\u00e1lisis de alimentos objetivos FooDB: TSNE sobre Word Embeddings\"}},                        {\"responsive\": true}                    ).then(function(){\n",
       "                            \n",
       "var gd = document.getElementById('9d35f02a-6482-474b-bc6f-9eb7f3e7c182');\n",
       "var x = new MutationObserver(function (mutations, observer) {{\n",
       "        var display = window.getComputedStyle(gd).display;\n",
       "        if (!display || display === 'none') {{\n",
       "            console.log([gd, 'removed!']);\n",
       "            Plotly.purge(gd);\n",
       "            observer.disconnect();\n",
       "        }}\n",
       "}});\n",
       "\n",
       "// Listen for the removal of the full notebook cells\n",
       "var notebookContainer = gd.closest('#notebook-container');\n",
       "if (notebookContainer) {{\n",
       "    x.observe(notebookContainer, {childList: true});\n",
       "}}\n",
       "\n",
       "// Listen for the clearing of the current output cell\n",
       "var outputEl = gd.closest('.output');\n",
       "if (outputEl) {{\n",
       "    x.observe(outputEl, {childList: true});\n",
       "}}\n",
       "\n",
       "                        })                };                });            </script>        </div>"
      ]
     },
     "metadata": {},
     "output_type": "display_data"
    }
   ],
   "source": [
    "fig = go.Figure()\n",
    "fig.add_trace(go.Scatter(x=T_foods[:, 0],\n",
    "                         y=T_foods[:, 1],\n",
    "                         text=labels,\n",
    "                         textposition='top center',\n",
    "                         mode='markers+text'))\n",
    "fig.update_traces(textfont_size=8)\n",
    "fig.update_layout(title='Análisis de alimentos objetivos FooDB: TSNE sobre Word Embeddings')\n",
    "fig.write_html('Results/TSNE_foodSpace_all.html')\n",
    "fig.show()"
   ]
  },
  {
   "cell_type": "markdown",
   "id": "24f875b7",
   "metadata": {},
   "source": [
    "### Sobre solo los grupos de interés"
   ]
  },
  {
   "cell_type": "code",
   "execution_count": null,
   "id": "87d2af03",
   "metadata": {},
   "outputs": [],
   "source": []
  },
  {
   "cell_type": "markdown",
   "id": "9ccbde20",
   "metadata": {},
   "source": [
    "## PCA"
   ]
  },
  {
   "cell_type": "code",
   "execution_count": null,
   "id": "411ed616",
   "metadata": {},
   "outputs": [],
   "source": [
    "PCA = "
   ]
  },
  {
   "cell_type": "markdown",
   "id": "15a2b77a",
   "metadata": {},
   "source": [
    "# Análisis de componentes"
   ]
  },
  {
   "cell_type": "code",
   "execution_count": null,
   "id": "1c76a608",
   "metadata": {},
   "outputs": [],
   "source": []
  },
  {
   "cell_type": "code",
   "execution_count": null,
   "id": "17e2efe0",
   "metadata": {},
   "outputs": [],
   "source": []
  }
 ],
 "metadata": {
  "kernelspec": {
   "display_name": "Python 3 (ipykernel)",
   "language": "python",
   "name": "python3"
  },
  "language_info": {
   "codemirror_mode": {
    "name": "ipython",
    "version": 3
   },
   "file_extension": ".py",
   "mimetype": "text/x-python",
   "name": "python",
   "nbconvert_exporter": "python",
   "pygments_lexer": "ipython3",
   "version": "3.8.7"
  },
  "varInspector": {
   "cols": {
    "lenName": 16,
    "lenType": 16,
    "lenVar": 40
   },
   "kernels_config": {
    "python": {
     "delete_cmd_postfix": "",
     "delete_cmd_prefix": "del ",
     "library": "var_list.py",
     "varRefreshCmd": "print(var_dic_list())"
    },
    "r": {
     "delete_cmd_postfix": ") ",
     "delete_cmd_prefix": "rm(",
     "library": "var_list.r",
     "varRefreshCmd": "cat(var_dic_list()) "
    }
   },
   "types_to_exclude": [
    "module",
    "function",
    "builtin_function_or_method",
    "instance",
    "_Feature"
   ],
   "window_display": false
  }
 },
 "nbformat": 4,
 "nbformat_minor": 5
}
