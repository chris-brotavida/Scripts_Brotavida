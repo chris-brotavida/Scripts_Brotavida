{
 "cells": [
  {
   "cell_type": "markdown",
   "id": "56a9e580",
   "metadata": {},
   "source": [
    "# Análisis preliminar de los resultados"
   ]
  },
  {
   "cell_type": "code",
   "execution_count": 1,
   "id": "6e666611",
   "metadata": {
    "ExecuteTime": {
     "end_time": "2021-10-13T17:40:50.137190Z",
     "start_time": "2021-10-13T17:40:43.967291Z"
    }
   },
   "outputs": [],
   "source": [
    "import os, pickle\n",
    "import seaborn as sns\n",
    "import pandas as pd\n",
    "import numpy as np\n",
    "import tensorflow as tf\n",
    "import matplotlib.pyplot as plt\n",
    "from sklearn.manifold import TSNE\n",
    "from sklearn.decomposition import PCA\n",
    "from sklearn.cluster import DBSCAN\n",
    "import plotly.graph_objects as go\n",
    "import plotly.express as px\n",
    "K = 10"
   ]
  },
  {
   "cell_type": "code",
   "execution_count": 32,
   "id": "5434dc4d",
   "metadata": {
    "ExecuteTime": {
     "end_time": "2021-10-15T18:53:16.316183Z",
     "start_time": "2021-10-15T18:53:16.267964Z"
    }
   },
   "outputs": [
    {
     "data": {
      "text/html": [
       "<div>\n",
       "<style scoped>\n",
       "    .dataframe tbody tr th:only-of-type {\n",
       "        vertical-align: middle;\n",
       "    }\n",
       "\n",
       "    .dataframe tbody tr th {\n",
       "        vertical-align: top;\n",
       "    }\n",
       "\n",
       "    .dataframe thead th {\n",
       "        text-align: right;\n",
       "    }\n",
       "</style>\n",
       "<table border=\"1\" class=\"dataframe\">\n",
       "  <thead>\n",
       "    <tr style=\"text-align: right;\">\n",
       "      <th></th>\n",
       "      <th>orig_food_id</th>\n",
       "      <th>id_food_table</th>\n",
       "      <th>food_group</th>\n",
       "      <th>food_subgroup</th>\n",
       "      <th>nombre_primario</th>\n",
       "      <th>nombre_secundario</th>\n",
       "      <th>G_energy</th>\n",
       "      <th>G_protein</th>\n",
       "      <th>G_fiber, total dietary</th>\n",
       "      <th>G_carbohydrate</th>\n",
       "      <th>...</th>\n",
       "      <th>ANE_methionine</th>\n",
       "      <th>ANE_phenylalanine</th>\n",
       "      <th>ANE_threonine</th>\n",
       "      <th>ANE_tryptophan</th>\n",
       "      <th>ANE_valine</th>\n",
       "      <th>OT_betaine</th>\n",
       "      <th>OT_caffeine</th>\n",
       "      <th>OT_choline</th>\n",
       "      <th>OT_theobromine</th>\n",
       "      <th>E</th>\n",
       "    </tr>\n",
       "  </thead>\n",
       "  <tbody>\n",
       "    <tr>\n",
       "      <th>0</th>\n",
       "      <td>338</td>\n",
       "      <td>105</td>\n",
       "      <td>fruits</td>\n",
       "      <td>pomes</td>\n",
       "      <td>apple</td>\n",
       "      <td>apple, dried</td>\n",
       "      <td>255.2581</td>\n",
       "      <td>930.0</td>\n",
       "      <td>8700.0</td>\n",
       "      <td>0.0</td>\n",
       "      <td>...</td>\n",
       "      <td>8.0</td>\n",
       "      <td>27.0</td>\n",
       "      <td>24.0</td>\n",
       "      <td>8.0</td>\n",
       "      <td>36.0</td>\n",
       "      <td>0.0</td>\n",
       "      <td>0.0</td>\n",
       "      <td>0.0</td>\n",
       "      <td>0.0</td>\n",
       "      <td>NaN</td>\n",
       "    </tr>\n",
       "    <tr>\n",
       "      <th>1</th>\n",
       "      <td>1</td>\n",
       "      <td>144</td>\n",
       "      <td>fruits</td>\n",
       "      <td>drupes</td>\n",
       "      <td>apricot</td>\n",
       "      <td>apricot, dried</td>\n",
       "      <td>277.0076</td>\n",
       "      <td>3390.0</td>\n",
       "      <td>7300.0</td>\n",
       "      <td>0.0</td>\n",
       "      <td>...</td>\n",
       "      <td>19.0</td>\n",
       "      <td>79.0</td>\n",
       "      <td>65.0</td>\n",
       "      <td>14.0</td>\n",
       "      <td>120.0</td>\n",
       "      <td>0.0</td>\n",
       "      <td>0.0</td>\n",
       "      <td>0.0</td>\n",
       "      <td>0.0</td>\n",
       "      <td>NaN</td>\n",
       "    </tr>\n",
       "    <tr>\n",
       "      <th>2</th>\n",
       "      <td>20003</td>\n",
       "      <td>291</td>\n",
       "      <td>vegetables</td>\n",
       "      <td>tubers</td>\n",
       "      <td>arrowroot</td>\n",
       "      <td>arrowroot flour</td>\n",
       "      <td>357.0746</td>\n",
       "      <td>300.0</td>\n",
       "      <td>3400.0</td>\n",
       "      <td>0.0</td>\n",
       "      <td>...</td>\n",
       "      <td>6.0</td>\n",
       "      <td>12.0</td>\n",
       "      <td>12.0</td>\n",
       "      <td>4.0</td>\n",
       "      <td>14.0</td>\n",
       "      <td>0.0</td>\n",
       "      <td>0.0</td>\n",
       "      <td>0.0</td>\n",
       "      <td>0.0</td>\n",
       "      <td>NaN</td>\n",
       "    </tr>\n",
       "    <tr>\n",
       "      <th>3</th>\n",
       "      <td>389</td>\n",
       "      <td>682</td>\n",
       "      <td>baking goods</td>\n",
       "      <td>baking goods</td>\n",
       "      <td>leavening agent</td>\n",
       "      <td>baking powder</td>\n",
       "      <td>174.7132</td>\n",
       "      <td>5200.0</td>\n",
       "      <td>0.0</td>\n",
       "      <td>37800.0</td>\n",
       "      <td>...</td>\n",
       "      <td>0.0</td>\n",
       "      <td>0.0</td>\n",
       "      <td>0.0</td>\n",
       "      <td>60.0</td>\n",
       "      <td>0.0</td>\n",
       "      <td>0.0</td>\n",
       "      <td>0.0</td>\n",
       "      <td>0.0</td>\n",
       "      <td>0.0</td>\n",
       "      <td>NaN</td>\n",
       "    </tr>\n",
       "    <tr>\n",
       "      <th>4</th>\n",
       "      <td>20130</td>\n",
       "      <td>88</td>\n",
       "      <td>cereals and cereal products</td>\n",
       "      <td>cereals</td>\n",
       "      <td>barley</td>\n",
       "      <td>barley flour or meal</td>\n",
       "      <td>345.0000</td>\n",
       "      <td>10500.0</td>\n",
       "      <td>10100.0</td>\n",
       "      <td>0.0</td>\n",
       "      <td>...</td>\n",
       "      <td>202.0</td>\n",
       "      <td>589.0</td>\n",
       "      <td>356.0</td>\n",
       "      <td>175.0</td>\n",
       "      <td>515.0</td>\n",
       "      <td>65.5</td>\n",
       "      <td>0.0</td>\n",
       "      <td>37.8</td>\n",
       "      <td>0.0</td>\n",
       "      <td>NaN</td>\n",
       "    </tr>\n",
       "    <tr>\n",
       "      <th>...</th>\n",
       "      <td>...</td>\n",
       "      <td>...</td>\n",
       "      <td>...</td>\n",
       "      <td>...</td>\n",
       "      <td>...</td>\n",
       "      <td>...</td>\n",
       "      <td>...</td>\n",
       "      <td>...</td>\n",
       "      <td>...</td>\n",
       "      <td>...</td>\n",
       "      <td>...</td>\n",
       "      <td>...</td>\n",
       "      <td>...</td>\n",
       "      <td>...</td>\n",
       "      <td>...</td>\n",
       "      <td>...</td>\n",
       "      <td>...</td>\n",
       "      <td>...</td>\n",
       "      <td>...</td>\n",
       "      <td>...</td>\n",
       "      <td>...</td>\n",
       "    </tr>\n",
       "    <tr>\n",
       "      <th>170</th>\n",
       "      <td>20080</td>\n",
       "      <td>575</td>\n",
       "      <td>cereals and cereal products</td>\n",
       "      <td>cereals</td>\n",
       "      <td>wheat</td>\n",
       "      <td>wheat flour, whole-grain</td>\n",
       "      <td>340.3442</td>\n",
       "      <td>13210.0</td>\n",
       "      <td>10700.0</td>\n",
       "      <td>0.0</td>\n",
       "      <td>...</td>\n",
       "      <td>228.0</td>\n",
       "      <td>682.0</td>\n",
       "      <td>367.0</td>\n",
       "      <td>174.0</td>\n",
       "      <td>564.0</td>\n",
       "      <td>72.8</td>\n",
       "      <td>0.0</td>\n",
       "      <td>31.2</td>\n",
       "      <td>0.0</td>\n",
       "      <td>NaN</td>\n",
       "    </tr>\n",
       "    <tr>\n",
       "      <th>171</th>\n",
       "      <td>20649</td>\n",
       "      <td>575</td>\n",
       "      <td>cereals and cereal products</td>\n",
       "      <td>cereals</td>\n",
       "      <td>wheat</td>\n",
       "      <td>wheat flour, whole-grain, soft wheat</td>\n",
       "      <td>332.4570</td>\n",
       "      <td>9610.0</td>\n",
       "      <td>13100.0</td>\n",
       "      <td>0.0</td>\n",
       "      <td>...</td>\n",
       "      <td>0.0</td>\n",
       "      <td>0.0</td>\n",
       "      <td>0.0</td>\n",
       "      <td>0.0</td>\n",
       "      <td>0.0</td>\n",
       "      <td>0.0</td>\n",
       "      <td>0.0</td>\n",
       "      <td>31.2</td>\n",
       "      <td>0.0</td>\n",
       "      <td>NaN</td>\n",
       "    </tr>\n",
       "    <tr>\n",
       "      <th>172</th>\n",
       "      <td>542</td>\n",
       "      <td>575</td>\n",
       "      <td>cereals and cereal products</td>\n",
       "      <td>cereals</td>\n",
       "      <td>wheat</td>\n",
       "      <td>wheat, flour, wholemeal</td>\n",
       "      <td>340.8222</td>\n",
       "      <td>10600.0</td>\n",
       "      <td>13800.0</td>\n",
       "      <td>60000.0</td>\n",
       "      <td>...</td>\n",
       "      <td>170.0</td>\n",
       "      <td>520.0</td>\n",
       "      <td>350.0</td>\n",
       "      <td>150.0</td>\n",
       "      <td>570.0</td>\n",
       "      <td>0.0</td>\n",
       "      <td>0.0</td>\n",
       "      <td>0.0</td>\n",
       "      <td>0.0</td>\n",
       "      <td>NaN</td>\n",
       "    </tr>\n",
       "    <tr>\n",
       "      <th>173</th>\n",
       "      <td>35232</td>\n",
       "      <td>863</td>\n",
       "      <td>herbs and spices</td>\n",
       "      <td>herbs</td>\n",
       "      <td>yellow pond-lily</td>\n",
       "      <td>wocas, dried seeds, oregon, yellow pond lily, ...</td>\n",
       "      <td>361.3767</td>\n",
       "      <td>7900.0</td>\n",
       "      <td>19200.0</td>\n",
       "      <td>0.0</td>\n",
       "      <td>...</td>\n",
       "      <td>0.0</td>\n",
       "      <td>0.0</td>\n",
       "      <td>0.0</td>\n",
       "      <td>0.0</td>\n",
       "      <td>0.0</td>\n",
       "      <td>0.0</td>\n",
       "      <td>0.0</td>\n",
       "      <td>0.0</td>\n",
       "      <td>0.0</td>\n",
       "      <td>NaN</td>\n",
       "    </tr>\n",
       "    <tr>\n",
       "      <th>174</th>\n",
       "      <td>1057</td>\n",
       "      <td>682</td>\n",
       "      <td>baking goods</td>\n",
       "      <td>baking goods</td>\n",
       "      <td>leavening agent</td>\n",
       "      <td>yeast, dried</td>\n",
       "      <td>317.1606</td>\n",
       "      <td>0.0</td>\n",
       "      <td>19700.0</td>\n",
       "      <td>33000.0</td>\n",
       "      <td>...</td>\n",
       "      <td>500.0</td>\n",
       "      <td>1400.0</td>\n",
       "      <td>1800.0</td>\n",
       "      <td>440.0</td>\n",
       "      <td>2300.0</td>\n",
       "      <td>0.0</td>\n",
       "      <td>0.0</td>\n",
       "      <td>0.0</td>\n",
       "      <td>0.0</td>\n",
       "      <td>NaN</td>\n",
       "    </tr>\n",
       "  </tbody>\n",
       "</table>\n",
       "<p>175 rows × 61 columns</p>\n",
       "</div>"
      ],
      "text/plain": [
       "     orig_food_id  id_food_table                   food_group food_subgroup  \\\n",
       "0             338            105                       fruits         pomes   \n",
       "1               1            144                       fruits        drupes   \n",
       "2           20003            291                   vegetables        tubers   \n",
       "3             389            682                 baking goods  baking goods   \n",
       "4           20130             88  cereals and cereal products       cereals   \n",
       "..            ...            ...                          ...           ...   \n",
       "170         20080            575  cereals and cereal products       cereals   \n",
       "171         20649            575  cereals and cereal products       cereals   \n",
       "172           542            575  cereals and cereal products       cereals   \n",
       "173         35232            863             herbs and spices         herbs   \n",
       "174          1057            682                 baking goods  baking goods   \n",
       "\n",
       "      nombre_primario                                  nombre_secundario  \\\n",
       "0               apple                                       apple, dried   \n",
       "1             apricot                                     apricot, dried   \n",
       "2           arrowroot                                    arrowroot flour   \n",
       "3     leavening agent                                      baking powder   \n",
       "4              barley                               barley flour or meal   \n",
       "..                ...                                                ...   \n",
       "170             wheat                           wheat flour, whole-grain   \n",
       "171             wheat               wheat flour, whole-grain, soft wheat   \n",
       "172             wheat                            wheat, flour, wholemeal   \n",
       "173  yellow pond-lily  wocas, dried seeds, oregon, yellow pond lily, ...   \n",
       "174   leavening agent                                       yeast, dried   \n",
       "\n",
       "     G_energy  G_protein  G_fiber, total dietary  G_carbohydrate  ...  \\\n",
       "0    255.2581      930.0                  8700.0             0.0  ...   \n",
       "1    277.0076     3390.0                  7300.0             0.0  ...   \n",
       "2    357.0746      300.0                  3400.0             0.0  ...   \n",
       "3    174.7132     5200.0                     0.0         37800.0  ...   \n",
       "4    345.0000    10500.0                 10100.0             0.0  ...   \n",
       "..        ...        ...                     ...             ...  ...   \n",
       "170  340.3442    13210.0                 10700.0             0.0  ...   \n",
       "171  332.4570     9610.0                 13100.0             0.0  ...   \n",
       "172  340.8222    10600.0                 13800.0         60000.0  ...   \n",
       "173  361.3767     7900.0                 19200.0             0.0  ...   \n",
       "174  317.1606        0.0                 19700.0         33000.0  ...   \n",
       "\n",
       "     ANE_methionine  ANE_phenylalanine  ANE_threonine  ANE_tryptophan  \\\n",
       "0               8.0               27.0           24.0             8.0   \n",
       "1              19.0               79.0           65.0            14.0   \n",
       "2               6.0               12.0           12.0             4.0   \n",
       "3               0.0                0.0            0.0            60.0   \n",
       "4             202.0              589.0          356.0           175.0   \n",
       "..              ...                ...            ...             ...   \n",
       "170           228.0              682.0          367.0           174.0   \n",
       "171             0.0                0.0            0.0             0.0   \n",
       "172           170.0              520.0          350.0           150.0   \n",
       "173             0.0                0.0            0.0             0.0   \n",
       "174           500.0             1400.0         1800.0           440.0   \n",
       "\n",
       "     ANE_valine  OT_betaine  OT_caffeine  OT_choline  OT_theobromine   E  \n",
       "0          36.0         0.0          0.0         0.0             0.0 NaN  \n",
       "1         120.0         0.0          0.0         0.0             0.0 NaN  \n",
       "2          14.0         0.0          0.0         0.0             0.0 NaN  \n",
       "3           0.0         0.0          0.0         0.0             0.0 NaN  \n",
       "4         515.0        65.5          0.0        37.8             0.0 NaN  \n",
       "..          ...         ...          ...         ...             ...  ..  \n",
       "170       564.0        72.8          0.0        31.2             0.0 NaN  \n",
       "171         0.0         0.0          0.0        31.2             0.0 NaN  \n",
       "172       570.0         0.0          0.0         0.0             0.0 NaN  \n",
       "173         0.0         0.0          0.0         0.0             0.0 NaN  \n",
       "174      2300.0         0.0          0.0         0.0             0.0 NaN  \n",
       "\n",
       "[175 rows x 61 columns]"
      ]
     },
     "execution_count": 32,
     "metadata": {},
     "output_type": "execute_result"
    }
   ],
   "source": [
    "df = pd.read_csv('CONSOLIDADO MVP v4 (sin En).txt', sep='\\t', decimal=',')\n",
    "df"
   ]
  },
  {
   "cell_type": "markdown",
   "id": "7c4a9b8b",
   "metadata": {},
   "source": [
    "# Análisis de los datos"
   ]
  },
  {
   "cell_type": "markdown",
   "id": "2bfb0784",
   "metadata": {},
   "source": [
    "## Datos por columnas (compuestos)"
   ]
  },
  {
   "cell_type": "code",
   "execution_count": 33,
   "id": "46495866",
   "metadata": {
    "ExecuteTime": {
     "end_time": "2021-10-15T18:53:17.605115Z",
     "start_time": "2021-10-15T18:53:17.517180Z"
    },
    "code_folding": []
   },
   "outputs": [],
   "source": [
    "def metrics_on_columns(dataframe, epsilon=0, start_idx=6):\n",
    "    # Definición del diccionario a transformar en tabla\n",
    "    dict_df = dict()\n",
    "    \n",
    "    for i in range(start_idx, dataframe.shape[1]):\n",
    "        # Columna i\n",
    "        df_i = dataframe.iloc[:, i]\n",
    "\n",
    "        # Métricas de interés\n",
    "        mean_i = df_i.mean()\n",
    "        std_i  = df_i.std()\n",
    "        zeros_i = int(sum(abs(df_i) <= epsilon))\n",
    "        zeros_perc = zeros_i / df.shape[0] * 100\n",
    "        \n",
    "        # Llenar el diccionario\n",
    "        dict_df[df.columns[i]] = [mean_i, std_i, zeros_i, zeros_perc]\n",
    "    \n",
    "    # Pasarlo a dataframe\n",
    "    df_out = pd.DataFrame(dict_df)\n",
    "    \n",
    "    # Agregar una columna de etiquetas\n",
    "    df_out.insert(0, 'metrics', ['mean', 'std', 'zeros', 'zeros (%)']) \n",
    "    \n",
    "    return df_out\n",
    "    \n",
    "\n",
    "    \n",
    "df_cols_metrics = metrics_on_columns(df)\n",
    "df_cols_metrics.to_csv('Results/Col_analysis.csv', sep=';', index=False, \n",
    "                       decimal='.')"
   ]
  },
  {
   "cell_type": "markdown",
   "id": "1e56c2a6",
   "metadata": {},
   "source": [
    "## Datos por filas (ingredientes)"
   ]
  },
  {
   "cell_type": "code",
   "execution_count": 34,
   "id": "b795a6c2",
   "metadata": {
    "ExecuteTime": {
     "end_time": "2021-10-15T18:53:19.196964Z",
     "start_time": "2021-10-15T18:53:19.025669Z"
    },
    "code_folding": []
   },
   "outputs": [],
   "source": [
    "def metrics_on_rows(dataframe, epsilon=0, start_idx=6):\n",
    "    # Definición de la lista de filas\n",
    "    list_rows = list()\n",
    "    \n",
    "    # Definición de los nombres de las primeras columnas\n",
    "    col_names = [i for i in df][:6]\n",
    "    \n",
    "    for i in range(dataframe.shape[0]):\n",
    "        # Columna i\n",
    "        df_i = dataframe.iloc[i, start_idx:]\n",
    "        \n",
    "        # Métricas de interés\n",
    "        mean_i = df_i.mean()\n",
    "        std_i  = df_i.std()\n",
    "        zeros_i = int(sum(abs(df_i) <= epsilon))\n",
    "        zeros_perc = zeros_i / df.shape[1] * 100\n",
    "        \n",
    "        # Llenar el diccionario\n",
    "        list_rows.append([df['id_food_table'][i],\n",
    "                          df['orig_food_id'][i],\n",
    "                          df['food_group'][i],\n",
    "                          df['food_subgroup'][i],\n",
    "                          df['nombre_primario'][i],\n",
    "                          df['nombre_secundario'][i], \n",
    "                          mean_i, std_i, zeros_i, zeros_perc])\n",
    "    \n",
    "    # Pasarlo a dataframe\n",
    "    df_out = pd.DataFrame(list_rows, columns=col_names + ['mean', 'std', \n",
    "                                                          'zeros', \n",
    "                                                          'zeros (%)'])\n",
    "    \n",
    "    return df_out\n",
    "\n",
    "\n",
    "\n",
    "df_rows_metrics = metrics_on_rows(df)\n",
    "df_rows_metrics.to_csv('Results/Row_analysis.csv', sep=';', index=False, \n",
    "                       decimal='.')"
   ]
  },
  {
   "cell_type": "markdown",
   "id": "45d8bd45",
   "metadata": {},
   "source": [
    "# Resultados notables"
   ]
  },
  {
   "cell_type": "code",
   "execution_count": 35,
   "id": "a2619174",
   "metadata": {
    "ExecuteTime": {
     "end_time": "2021-10-15T18:53:20.261461Z",
     "start_time": "2021-10-15T18:53:20.192635Z"
    },
    "scrolled": false
   },
   "outputs": [
    {
     "name": "stdout",
     "output_type": "stream",
     "text": [
      "Compuestos con >= 40% cantidad de ceros\n"
     ]
    },
    {
     "data": {
      "text/html": [
       "<div>\n",
       "<style scoped>\n",
       "    .dataframe tbody tr th:only-of-type {\n",
       "        vertical-align: middle;\n",
       "    }\n",
       "\n",
       "    .dataframe tbody tr th {\n",
       "        vertical-align: top;\n",
       "    }\n",
       "\n",
       "    .dataframe thead th {\n",
       "        text-align: right;\n",
       "    }\n",
       "</style>\n",
       "<table border=\"1\" class=\"dataframe\">\n",
       "  <thead>\n",
       "    <tr style=\"text-align: right;\">\n",
       "      <th></th>\n",
       "      <th>zeros (%)</th>\n",
       "    </tr>\n",
       "  </thead>\n",
       "  <tbody>\n",
       "    <tr>\n",
       "      <th>OT_caffeine</th>\n",
       "      <td>100.0</td>\n",
       "    </tr>\n",
       "    <tr>\n",
       "      <th>OT_theobromine</th>\n",
       "      <td>100.0</td>\n",
       "    </tr>\n",
       "    <tr>\n",
       "      <th>V_vit b12</th>\n",
       "      <td>98.857143</td>\n",
       "    </tr>\n",
       "    <tr>\n",
       "      <th>V_vit h</th>\n",
       "      <td>93.142857</td>\n",
       "    </tr>\n",
       "    <tr>\n",
       "      <th>M_chromium</th>\n",
       "      <td>89.142857</td>\n",
       "    </tr>\n",
       "    <tr>\n",
       "      <th>M_iodine</th>\n",
       "      <td>86.857143</td>\n",
       "    </tr>\n",
       "    <tr>\n",
       "      <th>OT_betaine</th>\n",
       "      <td>84.571429</td>\n",
       "    </tr>\n",
       "    <tr>\n",
       "      <th>G_carbohydrate</th>\n",
       "      <td>82.285714</td>\n",
       "    </tr>\n",
       "    <tr>\n",
       "      <th>OT_choline</th>\n",
       "      <td>62.857143</td>\n",
       "    </tr>\n",
       "    <tr>\n",
       "      <th>V_vit k</th>\n",
       "      <td>61.142857</td>\n",
       "    </tr>\n",
       "    <tr>\n",
       "      <th>V_vit c</th>\n",
       "      <td>49.714286</td>\n",
       "    </tr>\n",
       "    <tr>\n",
       "      <th>G_sugars, total</th>\n",
       "      <td>44.571429</td>\n",
       "    </tr>\n",
       "  </tbody>\n",
       "</table>\n",
       "</div>"
      ],
      "text/plain": [
       "                 zeros (%)\n",
       "OT_caffeine          100.0\n",
       "OT_theobromine       100.0\n",
       "V_vit b12        98.857143\n",
       "V_vit h          93.142857\n",
       "M_chromium       89.142857\n",
       "M_iodine         86.857143\n",
       "OT_betaine       84.571429\n",
       "G_carbohydrate   82.285714\n",
       "OT_choline       62.857143\n",
       "V_vit k          61.142857\n",
       "V_vit c          49.714286\n",
       "G_sugars, total  44.571429"
      ]
     },
     "metadata": {},
     "output_type": "display_data"
    },
    {
     "name": "stdout",
     "output_type": "stream",
     "text": [
      "Ingredientes con >= 50% cantidad de ceros\n"
     ]
    },
    {
     "data": {
      "text/html": [
       "<div>\n",
       "<style scoped>\n",
       "    .dataframe tbody tr th:only-of-type {\n",
       "        vertical-align: middle;\n",
       "    }\n",
       "\n",
       "    .dataframe tbody tr th {\n",
       "        vertical-align: top;\n",
       "    }\n",
       "\n",
       "    .dataframe thead th {\n",
       "        text-align: right;\n",
       "    }\n",
       "</style>\n",
       "<table border=\"1\" class=\"dataframe\">\n",
       "  <thead>\n",
       "    <tr style=\"text-align: right;\">\n",
       "      <th></th>\n",
       "      <th>orig_food_id</th>\n",
       "      <th>id_food_table</th>\n",
       "      <th>food_group</th>\n",
       "      <th>food_subgroup</th>\n",
       "      <th>nombre_primario</th>\n",
       "      <th>nombre_secundario</th>\n",
       "      <th>mean</th>\n",
       "      <th>std</th>\n",
       "      <th>zeros</th>\n",
       "      <th>zeros (%)</th>\n",
       "    </tr>\n",
       "  </thead>\n",
       "  <tbody>\n",
       "    <tr>\n",
       "      <th>3</th>\n",
       "      <td>682</td>\n",
       "      <td>389</td>\n",
       "      <td>baking goods</td>\n",
       "      <td>baking goods</td>\n",
       "      <td>leavening agent</td>\n",
       "      <td>baking powder</td>\n",
       "      <td>2324.494689</td>\n",
       "      <td>8765.955401</td>\n",
       "      <td>44</td>\n",
       "      <td>72.131148</td>\n",
       "    </tr>\n",
       "    <tr>\n",
       "      <th>44</th>\n",
       "      <td>682</td>\n",
       "      <td>18369</td>\n",
       "      <td>baking goods</td>\n",
       "      <td>baking goods</td>\n",
       "      <td>leavening agent</td>\n",
       "      <td>leavening agents, baking powder, double-acting...</td>\n",
       "      <td>2110.705750</td>\n",
       "      <td>9912.577935</td>\n",
       "      <td>40</td>\n",
       "      <td>65.573770</td>\n",
       "    </tr>\n",
       "    <tr>\n",
       "      <th>21</th>\n",
       "      <td>61</td>\n",
       "      <td>527</td>\n",
       "      <td>herbs and spices</td>\n",
       "      <td>herbs</td>\n",
       "      <td>coriander</td>\n",
       "      <td>coriander, leaf, dried</td>\n",
       "      <td>1781.185106</td>\n",
       "      <td>6673.311920</td>\n",
       "      <td>39</td>\n",
       "      <td>63.934426</td>\n",
       "    </tr>\n",
       "    <tr>\n",
       "      <th>40</th>\n",
       "      <td>13</td>\n",
       "      <td>842</td>\n",
       "      <td>herbs and spices</td>\n",
       "      <td>herbs</td>\n",
       "      <td>dill</td>\n",
       "      <td>dill weed, dried</td>\n",
       "      <td>1760.550661</td>\n",
       "      <td>6833.570751</td>\n",
       "      <td>39</td>\n",
       "      <td>63.934426</td>\n",
       "    </tr>\n",
       "    <tr>\n",
       "      <th>45</th>\n",
       "      <td>682</td>\n",
       "      <td>18370</td>\n",
       "      <td>baking goods</td>\n",
       "      <td>baking goods</td>\n",
       "      <td>leavening agent</td>\n",
       "      <td>leavening agents, baking powder, double-acting...</td>\n",
       "      <td>2249.654022</td>\n",
       "      <td>10350.196433</td>\n",
       "      <td>39</td>\n",
       "      <td>63.934426</td>\n",
       "    </tr>\n",
       "    <tr>\n",
       "      <th>28</th>\n",
       "      <td>205</td>\n",
       "      <td>173</td>\n",
       "      <td>cereals and cereal products</td>\n",
       "      <td>cereals</td>\n",
       "      <td>corn</td>\n",
       "      <td>corn starch</td>\n",
       "      <td>1670.243119</td>\n",
       "      <td>12080.976735</td>\n",
       "      <td>38</td>\n",
       "      <td>62.295082</td>\n",
       "    </tr>\n",
       "    <tr>\n",
       "      <th>161</th>\n",
       "      <td>86</td>\n",
       "      <td>479</td>\n",
       "      <td>herbs and spices</td>\n",
       "      <td>oilseed crops</td>\n",
       "      <td>sunflower</td>\n",
       "      <td>sunflower seeds, decorticated, dried</td>\n",
       "      <td>886.999574</td>\n",
       "      <td>3617.981648</td>\n",
       "      <td>37</td>\n",
       "      <td>60.655738</td>\n",
       "    </tr>\n",
       "    <tr>\n",
       "      <th>43</th>\n",
       "      <td>393</td>\n",
       "      <td>9147</td>\n",
       "      <td>fruits</td>\n",
       "      <td>other fruits</td>\n",
       "      <td>jujube</td>\n",
       "      <td>jujube, dried</td>\n",
       "      <td>1506.651406</td>\n",
       "      <td>10012.513212</td>\n",
       "      <td>37</td>\n",
       "      <td>60.655738</td>\n",
       "    </tr>\n",
       "    <tr>\n",
       "      <th>46</th>\n",
       "      <td>682</td>\n",
       "      <td>18371</td>\n",
       "      <td>baking goods</td>\n",
       "      <td>baking goods</td>\n",
       "      <td>leavening agent</td>\n",
       "      <td>leavening agents, baking powder, low-sodium</td>\n",
       "      <td>2180.117880</td>\n",
       "      <td>8974.723900</td>\n",
       "      <td>35</td>\n",
       "      <td>57.377049</td>\n",
       "    </tr>\n",
       "    <tr>\n",
       "      <th>25</th>\n",
       "      <td>205</td>\n",
       "      <td>20315</td>\n",
       "      <td>cereals and cereal products</td>\n",
       "      <td>cereals</td>\n",
       "      <td>corn</td>\n",
       "      <td>corn flour, whole-grain, blue (harina de maiz ...</td>\n",
       "      <td>1827.857980</td>\n",
       "      <td>10144.966188</td>\n",
       "      <td>34</td>\n",
       "      <td>55.737705</td>\n",
       "    </tr>\n",
       "    <tr>\n",
       "      <th>98</th>\n",
       "      <td>616</td>\n",
       "      <td>1049</td>\n",
       "      <td>aquatic foods</td>\n",
       "      <td>seaweed</td>\n",
       "      <td>kombu</td>\n",
       "      <td>seaweed, konbu, dried (kelp)</td>\n",
       "      <td>1843.371161</td>\n",
       "      <td>7578.333291</td>\n",
       "      <td>34</td>\n",
       "      <td>55.737705</td>\n",
       "    </tr>\n",
       "    <tr>\n",
       "      <th>143</th>\n",
       "      <td>13</td>\n",
       "      <td>2017</td>\n",
       "      <td>herbs and spices</td>\n",
       "      <td>herbs</td>\n",
       "      <td>dill</td>\n",
       "      <td>spices, dill weed, dried</td>\n",
       "      <td>2096.111835</td>\n",
       "      <td>8302.680838</td>\n",
       "      <td>34</td>\n",
       "      <td>55.737705</td>\n",
       "    </tr>\n",
       "    <tr>\n",
       "      <th>159</th>\n",
       "      <td>167</td>\n",
       "      <td>2039</td>\n",
       "      <td>herbs and spices</td>\n",
       "      <td>herbs</td>\n",
       "      <td>summer savory</td>\n",
       "      <td>spices, savory, ground</td>\n",
       "      <td>2667.727919</td>\n",
       "      <td>11173.986812</td>\n",
       "      <td>34</td>\n",
       "      <td>55.737705</td>\n",
       "    </tr>\n",
       "    <tr>\n",
       "      <th>42</th>\n",
       "      <td>568</td>\n",
       "      <td>11988</td>\n",
       "      <td>vegetables</td>\n",
       "      <td>mushrooms</td>\n",
       "      <td>cloud ear fungus</td>\n",
       "      <td>fungi, cloud ears, dried</td>\n",
       "      <td>2903.894152</td>\n",
       "      <td>13653.948101</td>\n",
       "      <td>33</td>\n",
       "      <td>54.098361</td>\n",
       "    </tr>\n",
       "    <tr>\n",
       "      <th>77</th>\n",
       "      <td>560</td>\n",
       "      <td>11230</td>\n",
       "      <td>vegetables</td>\n",
       "      <td>mushrooms</td>\n",
       "      <td>jews ear</td>\n",
       "      <td>pepeao, dried</td>\n",
       "      <td>1673.266083</td>\n",
       "      <td>11027.705089</td>\n",
       "      <td>33</td>\n",
       "      <td>54.098361</td>\n",
       "    </tr>\n",
       "    <tr>\n",
       "      <th>80</th>\n",
       "      <td>40</td>\n",
       "      <td>11982</td>\n",
       "      <td>vegetables</td>\n",
       "      <td>fruit vegetables</td>\n",
       "      <td>pepper</td>\n",
       "      <td>peppers, pasilla, dried</td>\n",
       "      <td>2132.018411</td>\n",
       "      <td>8160.927580</td>\n",
       "      <td>32</td>\n",
       "      <td>52.459016</td>\n",
       "    </tr>\n",
       "    <tr>\n",
       "      <th>134</th>\n",
       "      <td>74</td>\n",
       "      <td>2006</td>\n",
       "      <td>herbs and spices</td>\n",
       "      <td>spices</td>\n",
       "      <td>cardamom</td>\n",
       "      <td>spices, cardamom</td>\n",
       "      <td>2296.293657</td>\n",
       "      <td>10079.366907</td>\n",
       "      <td>32</td>\n",
       "      <td>52.459016</td>\n",
       "    </tr>\n",
       "    <tr>\n",
       "      <th>140</th>\n",
       "      <td>61</td>\n",
       "      <td>2013</td>\n",
       "      <td>herbs and spices</td>\n",
       "      <td>herbs</td>\n",
       "      <td>coriander</td>\n",
       "      <td>spices, coriander seed</td>\n",
       "      <td>2823.389117</td>\n",
       "      <td>9756.479747</td>\n",
       "      <td>32</td>\n",
       "      <td>52.459016</td>\n",
       "    </tr>\n",
       "    <tr>\n",
       "      <th>92</th>\n",
       "      <td>456</td>\n",
       "      <td>95</td>\n",
       "      <td>herbs and spices</td>\n",
       "      <td>herbs</td>\n",
       "      <td>rose hip</td>\n",
       "      <td>rose hip, dried, powder</td>\n",
       "      <td>2289.989963</td>\n",
       "      <td>8687.724705</td>\n",
       "      <td>31</td>\n",
       "      <td>50.819672</td>\n",
       "    </tr>\n",
       "  </tbody>\n",
       "</table>\n",
       "</div>"
      ],
      "text/plain": [
       "     orig_food_id  id_food_table                   food_group  \\\n",
       "3             682            389                 baking goods   \n",
       "44            682          18369                 baking goods   \n",
       "21             61            527             herbs and spices   \n",
       "40             13            842             herbs and spices   \n",
       "45            682          18370                 baking goods   \n",
       "28            205            173  cereals and cereal products   \n",
       "161            86            479             herbs and spices   \n",
       "43            393           9147                       fruits   \n",
       "46            682          18371                 baking goods   \n",
       "25            205          20315  cereals and cereal products   \n",
       "98            616           1049                aquatic foods   \n",
       "143            13           2017             herbs and spices   \n",
       "159           167           2039             herbs and spices   \n",
       "42            568          11988                   vegetables   \n",
       "77            560          11230                   vegetables   \n",
       "80             40          11982                   vegetables   \n",
       "134            74           2006             herbs and spices   \n",
       "140            61           2013             herbs and spices   \n",
       "92            456             95             herbs and spices   \n",
       "\n",
       "        food_subgroup   nombre_primario  \\\n",
       "3        baking goods   leavening agent   \n",
       "44       baking goods   leavening agent   \n",
       "21              herbs         coriander   \n",
       "40              herbs              dill   \n",
       "45       baking goods   leavening agent   \n",
       "28            cereals              corn   \n",
       "161     oilseed crops         sunflower   \n",
       "43       other fruits            jujube   \n",
       "46       baking goods   leavening agent   \n",
       "25            cereals              corn   \n",
       "98            seaweed             kombu   \n",
       "143             herbs              dill   \n",
       "159             herbs     summer savory   \n",
       "42          mushrooms  cloud ear fungus   \n",
       "77          mushrooms          jews ear   \n",
       "80   fruit vegetables            pepper   \n",
       "134            spices          cardamom   \n",
       "140             herbs         coriander   \n",
       "92              herbs          rose hip   \n",
       "\n",
       "                                     nombre_secundario         mean  \\\n",
       "3                                        baking powder  2324.494689   \n",
       "44   leavening agents, baking powder, double-acting...  2110.705750   \n",
       "21                              coriander, leaf, dried  1781.185106   \n",
       "40                                    dill weed, dried  1760.550661   \n",
       "45   leavening agents, baking powder, double-acting...  2249.654022   \n",
       "28                                         corn starch  1670.243119   \n",
       "161               sunflower seeds, decorticated, dried   886.999574   \n",
       "43                                       jujube, dried  1506.651406   \n",
       "46         leavening agents, baking powder, low-sodium  2180.117880   \n",
       "25   corn flour, whole-grain, blue (harina de maiz ...  1827.857980   \n",
       "98                        seaweed, konbu, dried (kelp)  1843.371161   \n",
       "143                           spices, dill weed, dried  2096.111835   \n",
       "159                             spices, savory, ground  2667.727919   \n",
       "42                            fungi, cloud ears, dried  2903.894152   \n",
       "77                                       pepeao, dried  1673.266083   \n",
       "80                             peppers, pasilla, dried  2132.018411   \n",
       "134                                   spices, cardamom  2296.293657   \n",
       "140                             spices, coriander seed  2823.389117   \n",
       "92                             rose hip, dried, powder  2289.989963   \n",
       "\n",
       "              std  zeros  zeros (%)  \n",
       "3     8765.955401     44  72.131148  \n",
       "44    9912.577935     40  65.573770  \n",
       "21    6673.311920     39  63.934426  \n",
       "40    6833.570751     39  63.934426  \n",
       "45   10350.196433     39  63.934426  \n",
       "28   12080.976735     38  62.295082  \n",
       "161   3617.981648     37  60.655738  \n",
       "43   10012.513212     37  60.655738  \n",
       "46    8974.723900     35  57.377049  \n",
       "25   10144.966188     34  55.737705  \n",
       "98    7578.333291     34  55.737705  \n",
       "143   8302.680838     34  55.737705  \n",
       "159  11173.986812     34  55.737705  \n",
       "42   13653.948101     33  54.098361  \n",
       "77   11027.705089     33  54.098361  \n",
       "80    8160.927580     32  52.459016  \n",
       "134  10079.366907     32  52.459016  \n",
       "140   9756.479747     32  52.459016  \n",
       "92    8687.724705     31  50.819672  "
      ]
     },
     "metadata": {},
     "output_type": "display_data"
    },
    {
     "name": "stdout",
     "output_type": "stream",
     "text": [
      "20 Compuestos con mayor varianza\n"
     ]
    },
    {
     "data": {
      "text/html": [
       "<div>\n",
       "<style scoped>\n",
       "    .dataframe tbody tr th:only-of-type {\n",
       "        vertical-align: middle;\n",
       "    }\n",
       "\n",
       "    .dataframe tbody tr th {\n",
       "        vertical-align: top;\n",
       "    }\n",
       "\n",
       "    .dataframe thead th {\n",
       "        text-align: right;\n",
       "    }\n",
       "</style>\n",
       "<table border=\"1\" class=\"dataframe\">\n",
       "  <thead>\n",
       "    <tr style=\"text-align: right;\">\n",
       "      <th></th>\n",
       "      <th>mean</th>\n",
       "      <th>std</th>\n",
       "    </tr>\n",
       "  </thead>\n",
       "  <tbody>\n",
       "    <tr>\n",
       "      <th>G_carbohydrate, by difference</th>\n",
       "      <td>45535.542857</td>\n",
       "      <td>29878.584412</td>\n",
       "    </tr>\n",
       "    <tr>\n",
       "      <th>G_carbohydrate</th>\n",
       "      <td>7550.857143</td>\n",
       "      <td>19556.028757</td>\n",
       "    </tr>\n",
       "    <tr>\n",
       "      <th>G_total lipid (fat)</th>\n",
       "      <td>11725.828571</td>\n",
       "      <td>18747.822227</td>\n",
       "    </tr>\n",
       "    <tr>\n",
       "      <th>G_sugars, total</th>\n",
       "      <td>5339.885714</td>\n",
       "      <td>12646.693493</td>\n",
       "    </tr>\n",
       "    <tr>\n",
       "      <th>G_protein</th>\n",
       "      <td>15204.742857</td>\n",
       "      <td>12122.321191</td>\n",
       "    </tr>\n",
       "    <tr>\n",
       "      <th>G_fiber, total dietary</th>\n",
       "      <td>12154.857143</td>\n",
       "      <td>11932.114825</td>\n",
       "    </tr>\n",
       "    <tr>\n",
       "      <th>G_ash</th>\n",
       "      <td>5542.228571</td>\n",
       "      <td>9196.805927</td>\n",
       "    </tr>\n",
       "    <tr>\n",
       "      <th>G_fatty acids, total polyunsaturated</th>\n",
       "      <td>4634.702857</td>\n",
       "      <td>8883.376510</td>\n",
       "    </tr>\n",
       "    <tr>\n",
       "      <th>G_fatty acids, total monounsaturated</th>\n",
       "      <td>3629.880000</td>\n",
       "      <td>6875.535227</td>\n",
       "    </tr>\n",
       "    <tr>\n",
       "      <th>G_fatty acids, total saturated</th>\n",
       "      <td>2718.960000</td>\n",
       "      <td>6490.383709</td>\n",
       "    </tr>\n",
       "    <tr>\n",
       "      <th>AE_glutamine</th>\n",
       "      <td>2490.080000</td>\n",
       "      <td>2791.420584</td>\n",
       "    </tr>\n",
       "    <tr>\n",
       "      <th>AE_arginine</th>\n",
       "      <td>1197.508571</td>\n",
       "      <td>1617.027224</td>\n",
       "    </tr>\n",
       "    <tr>\n",
       "      <th>AE_aspartic acid</th>\n",
       "      <td>1273.862857</td>\n",
       "      <td>1506.772677</td>\n",
       "    </tr>\n",
       "    <tr>\n",
       "      <th>M_sodium</th>\n",
       "      <td>273.217086</td>\n",
       "      <td>1366.862401</td>\n",
       "    </tr>\n",
       "    <tr>\n",
       "      <th>M_potassium</th>\n",
       "      <td>1063.320000</td>\n",
       "      <td>1258.793799</td>\n",
       "    </tr>\n",
       "    <tr>\n",
       "      <th>M_calcium</th>\n",
       "      <td>453.098114</td>\n",
       "      <td>1208.942127</td>\n",
       "    </tr>\n",
       "    <tr>\n",
       "      <th>M_phosphorus</th>\n",
       "      <td>519.259429</td>\n",
       "      <td>1104.994134</td>\n",
       "    </tr>\n",
       "    <tr>\n",
       "      <th>ANE_leucine</th>\n",
       "      <td>935.948571</td>\n",
       "      <td>1028.647490</td>\n",
       "    </tr>\n",
       "    <tr>\n",
       "      <th>AE_glycine</th>\n",
       "      <td>628.440000</td>\n",
       "      <td>756.947261</td>\n",
       "    </tr>\n",
       "    <tr>\n",
       "      <th>ANE_lysine</th>\n",
       "      <td>567.817143</td>\n",
       "      <td>749.302665</td>\n",
       "    </tr>\n",
       "  </tbody>\n",
       "</table>\n",
       "</div>"
      ],
      "text/plain": [
       "                                              mean           std\n",
       "G_carbohydrate, by difference         45535.542857  29878.584412\n",
       "G_carbohydrate                         7550.857143  19556.028757\n",
       "G_total lipid (fat)                   11725.828571  18747.822227\n",
       "G_sugars, total                        5339.885714  12646.693493\n",
       "G_protein                             15204.742857  12122.321191\n",
       "G_fiber, total dietary                12154.857143  11932.114825\n",
       "G_ash                                  5542.228571   9196.805927\n",
       "G_fatty acids, total polyunsaturated   4634.702857   8883.376510\n",
       "G_fatty acids, total monounsaturated   3629.880000   6875.535227\n",
       "G_fatty acids, total saturated         2718.960000   6490.383709\n",
       "AE_glutamine                           2490.080000   2791.420584\n",
       "AE_arginine                            1197.508571   1617.027224\n",
       "AE_aspartic acid                       1273.862857   1506.772677\n",
       "M_sodium                                273.217086   1366.862401\n",
       "M_potassium                            1063.320000   1258.793799\n",
       "M_calcium                               453.098114   1208.942127\n",
       "M_phosphorus                            519.259429   1104.994134\n",
       "ANE_leucine                             935.948571   1028.647490\n",
       "AE_glycine                              628.440000    756.947261\n",
       "ANE_lysine                              567.817143    749.302665"
      ]
     },
     "metadata": {},
     "output_type": "display_data"
    },
    {
     "name": "stdout",
     "output_type": "stream",
     "text": [
      "20 Compuestos con menor varianza\n"
     ]
    },
    {
     "data": {
      "text/html": [
       "<div>\n",
       "<style scoped>\n",
       "    .dataframe tbody tr th:only-of-type {\n",
       "        vertical-align: middle;\n",
       "    }\n",
       "\n",
       "    .dataframe tbody tr th {\n",
       "        vertical-align: top;\n",
       "    }\n",
       "\n",
       "    .dataframe thead th {\n",
       "        text-align: right;\n",
       "    }\n",
       "</style>\n",
       "<table border=\"1\" class=\"dataframe\">\n",
       "  <thead>\n",
       "    <tr style=\"text-align: right;\">\n",
       "      <th></th>\n",
       "      <th>mean</th>\n",
       "      <th>std</th>\n",
       "    </tr>\n",
       "  </thead>\n",
       "  <tbody>\n",
       "    <tr>\n",
       "      <th>OT_theobromine</th>\n",
       "      <td>0.000000</td>\n",
       "      <td>0.000000</td>\n",
       "    </tr>\n",
       "    <tr>\n",
       "      <th>OT_caffeine</th>\n",
       "      <td>0.000000</td>\n",
       "      <td>0.000000</td>\n",
       "    </tr>\n",
       "    <tr>\n",
       "      <th>V_vit b12</th>\n",
       "      <td>0.000002</td>\n",
       "      <td>0.000017</td>\n",
       "    </tr>\n",
       "    <tr>\n",
       "      <th>M_chromium</th>\n",
       "      <td>0.001252</td>\n",
       "      <td>0.006779</td>\n",
       "    </tr>\n",
       "    <tr>\n",
       "      <th>M_selenium</th>\n",
       "      <td>0.023345</td>\n",
       "      <td>0.145567</td>\n",
       "    </tr>\n",
       "    <tr>\n",
       "      <th>V_vit k</th>\n",
       "      <td>0.055270</td>\n",
       "      <td>0.243982</td>\n",
       "    </tr>\n",
       "    <tr>\n",
       "      <th>V_vit b9</th>\n",
       "      <td>0.123641</td>\n",
       "      <td>0.358372</td>\n",
       "    </tr>\n",
       "    <tr>\n",
       "      <th>V_vit b2</th>\n",
       "      <td>0.369886</td>\n",
       "      <td>0.625834</td>\n",
       "    </tr>\n",
       "    <tr>\n",
       "      <th>V_vit b6</th>\n",
       "      <td>0.570829</td>\n",
       "      <td>0.629708</td>\n",
       "    </tr>\n",
       "    <tr>\n",
       "      <th>V_vit b1</th>\n",
       "      <td>0.554063</td>\n",
       "      <td>0.982613</td>\n",
       "    </tr>\n",
       "    <tr>\n",
       "      <th>M_copper</th>\n",
       "      <td>0.898063</td>\n",
       "      <td>1.059102</td>\n",
       "    </tr>\n",
       "    <tr>\n",
       "      <th>M_zinc</th>\n",
       "      <td>3.239417</td>\n",
       "      <td>2.697122</td>\n",
       "    </tr>\n",
       "    <tr>\n",
       "      <th>M_iodine</th>\n",
       "      <td>0.205918</td>\n",
       "      <td>2.721329</td>\n",
       "    </tr>\n",
       "    <tr>\n",
       "      <th>V_vit b5</th>\n",
       "      <td>1.221737</td>\n",
       "      <td>2.741766</td>\n",
       "    </tr>\n",
       "    <tr>\n",
       "      <th>M_manganese</th>\n",
       "      <td>2.925051</td>\n",
       "      <td>5.618992</td>\n",
       "    </tr>\n",
       "    <tr>\n",
       "      <th>OT_betaine</th>\n",
       "      <td>1.684571</td>\n",
       "      <td>8.338964</td>\n",
       "    </tr>\n",
       "    <tr>\n",
       "      <th>M_iron</th>\n",
       "      <td>9.635486</td>\n",
       "      <td>13.851748</td>\n",
       "    </tr>\n",
       "    <tr>\n",
       "      <th>V_vit h</th>\n",
       "      <td>1.798857</td>\n",
       "      <td>15.953532</td>\n",
       "    </tr>\n",
       "    <tr>\n",
       "      <th>OT_choline</th>\n",
       "      <td>18.083429</td>\n",
       "      <td>35.530740</td>\n",
       "    </tr>\n",
       "    <tr>\n",
       "      <th>V_vit c</th>\n",
       "      <td>16.776000</td>\n",
       "      <td>64.239377</td>\n",
       "    </tr>\n",
       "  </tbody>\n",
       "</table>\n",
       "</div>"
      ],
      "text/plain": [
       "                     mean        std\n",
       "OT_theobromine   0.000000   0.000000\n",
       "OT_caffeine      0.000000   0.000000\n",
       "V_vit b12        0.000002   0.000017\n",
       "M_chromium       0.001252   0.006779\n",
       "M_selenium       0.023345   0.145567\n",
       "V_vit k          0.055270   0.243982\n",
       "V_vit b9         0.123641   0.358372\n",
       "V_vit b2         0.369886   0.625834\n",
       "V_vit b6         0.570829   0.629708\n",
       "V_vit b1         0.554063   0.982613\n",
       "M_copper         0.898063   1.059102\n",
       "M_zinc           3.239417   2.697122\n",
       "M_iodine         0.205918   2.721329\n",
       "V_vit b5         1.221737   2.741766\n",
       "M_manganese      2.925051   5.618992\n",
       "OT_betaine       1.684571   8.338964\n",
       "M_iron           9.635486  13.851748\n",
       "V_vit h          1.798857  15.953532\n",
       "OT_choline      18.083429  35.530740\n",
       "V_vit c         16.776000  64.239377"
      ]
     },
     "metadata": {},
     "output_type": "display_data"
    }
   ],
   "source": [
    "# Compuestos con mayor porcentaje de ceros\n",
    "zp = 40\n",
    "print(f'Compuestos con >= {zp}% cantidad de ceros')\n",
    "a = df_cols_metrics.loc[3, [True] + list(df_cols_metrics.iloc[3, 1:] >= zp)][1:].to_frame(name='zeros (%)').sort_values(by='zeros (%)', ascending=False)\n",
    "display(a)\n",
    "a.to_csv('Results/comp_zeros.csv', sep=';', index=True, decimal='.')\n",
    "\n",
    "# Ingredientes con mayor porcentaje de ceros\n",
    "zp = 50\n",
    "print(f'Ingredientes con >= {zp}% cantidad de ceros')\n",
    "a = df_rows_metrics.loc[df_rows_metrics['zeros (%)'] >= zp].sort_values(by='zeros (%)', ascending=False)\n",
    "display(a)\n",
    "a.to_csv('Results/ingd_zeros.csv', sep=';', index=False, decimal='.')\n",
    "\n",
    "# Compuestos con mayor varianza\n",
    "q_comp = 20\n",
    "print(f'{q_comp} Compuestos con mayor varianza')\n",
    "a = df_cols_metrics.iloc[0:2, 1:].sort_values(by=1, axis=1, ascending=False).T[:q_comp].rename(columns={0: 'mean', 1: 'std'})\n",
    "display(a)\n",
    "a.to_csv('Results/comp_var_more.csv', sep=';', index=True, decimal='.')\n",
    "\n",
    "# Compuestos con menor varianza\n",
    "print(f'{q_comp} Compuestos con menor varianza')\n",
    "a = df_cols_metrics.iloc[0:2, 1:].sort_values(by=1, axis=1, ascending=True).T[:q_comp].rename(columns={0: 'mean', 1: 'std'})\n",
    "display(a)\n",
    "a.to_csv('Results/comp_var_less.csv', sep=';', index=True, decimal='.')"
   ]
  },
  {
   "cell_type": "markdown",
   "id": "d9a5de4b",
   "metadata": {},
   "source": [
    "# Análisis con reducción de dimensiones"
   ]
  },
  {
   "cell_type": "code",
   "execution_count": 36,
   "id": "824b1bd4",
   "metadata": {
    "ExecuteTime": {
     "end_time": "2021-10-15T18:53:28.669755Z",
     "start_time": "2021-10-15T18:53:28.645753Z"
    }
   },
   "outputs": [
    {
     "data": {
      "text/plain": [
       "['AE', 'ANE', 'E', 'G', 'M', 'OT', 'V', 'all']"
      ]
     },
     "execution_count": 36,
     "metadata": {},
     "output_type": "execute_result"
    }
   ],
   "source": [
    "# Definición del conjunto de etiquetas/grupos de los alimentos\n",
    "group_labels = sorted(tuple(set([i.split('_')[0] for i in df.columns[6:]])))\n",
    "group_labels = group_labels + ['all']\n",
    "group_labels"
   ]
  },
  {
   "cell_type": "markdown",
   "id": "491a8081",
   "metadata": {},
   "source": [
    "## T-SNE"
   ]
  },
  {
   "cell_type": "code",
   "execution_count": 37,
   "id": "28c56631",
   "metadata": {
    "ExecuteTime": {
     "end_time": "2021-10-15T18:53:29.913649Z",
     "start_time": "2021-10-15T18:53:29.881650Z"
    },
    "code_folding": [
     0
    ]
   },
   "outputs": [],
   "source": [
    "def get_TSNE_projection(dataframe, filter_type='all', start_idx=6, plot_tsne=False,\n",
    "                        save_plot=False, save_data=False):\n",
    "    # Definición de la lista que almacena los vectores\n",
    "    food_vectors = list()\n",
    "    \n",
    "    # Definición del conjunto de etiquetas/grupos de los alimentos\n",
    "    group_labels = sorted(list(set([i.split('_')[0] for i in df.columns[6:]])) + ['all'])\n",
    "    \n",
    "    # Asegurándose de que la etiqueta se encuentra en el dataframe\n",
    "    if filter_type in group_labels:\n",
    "        # Agregando los valores a la lista\n",
    "        if filter_type == 'all':\n",
    "            idx_to_append = [i for i in range(start_idx, df.shape[1])]\n",
    "        elif filter_type == 'AE':\n",
    "            idx_to_append = [i for i, col in enumerate(dataframe.columns)\n",
    "                             if col.split('_')[0] == 'AE']\n",
    "        elif filter_type == 'ANE':\n",
    "            idx_to_append = [i for i, col in enumerate(dataframe.columns)\n",
    "                             if col.split('_')[0] == 'ANE']\n",
    "        elif filter_type == 'G':\n",
    "            idx_to_append = [i for i, col in enumerate(dataframe.columns)\n",
    "                             if col.split('_')[0] == 'G']\n",
    "        elif filter_type == 'M':\n",
    "            idx_to_append = [i for i, col in enumerate(dataframe.columns)\n",
    "                             if col.split('_')[0] == 'M']\n",
    "        elif filter_type == 'OT':\n",
    "            idx_to_append = [i for i, col in enumerate(dataframe.columns)\n",
    "                             if col.split('_')[0] == 'OT']\n",
    "        elif filter_type == 'V':\n",
    "            idx_to_append = [i for i, col in enumerate(dataframe.columns)\n",
    "                             if col.split('_')[0] == 'V']\n",
    "    else:\n",
    "        raise ValueError(f'\"{filter_type}\" no es una opción permitida para \"filter_type\"')\n",
    "    \n",
    "    \n",
    "    # Para cada fila\n",
    "    for i, row in dataframe.iterrows():\n",
    "        food_vectors.append(list(row[idx_to_append]))\n",
    "    \n",
    "    # Transformando a array\n",
    "    food_vectors = np.array(food_vectors)\n",
    "    \n",
    "    # Aplicando el algoritmo T-SNE\n",
    "    tsne = TSNE(n_components=2, random_state=0, n_iter=10000, perplexity=3)\n",
    "    T_foods = tsne.fit_transform(food_vectors)\n",
    "    \n",
    "    # Definición de las etiquetas\n",
    "    labels = dataframe['nombre_secundario']\n",
    "    \n",
    "    # Opción de graficar\n",
    "    if plot_tsne:\n",
    "        fig = go.Figure()\n",
    "        fig.add_trace(go.Scatter(x=T_foods[:, 0],\n",
    "                                 y=T_foods[:, 1],\n",
    "                                 text=labels,\n",
    "                                 textposition='top center',\n",
    "                                 mode='markers+text'))\n",
    "        fig.update_traces(textfont_size=8)\n",
    "        fig.update_layout(title='Análisis de alimentos objetivos FooDB: '\n",
    "                                'TSNE sobre Word Embeddings')\n",
    "        if save_plot:\n",
    "            fig.write_html(f'Results/TSNE_foodSpace_{filter_type}.html')\n",
    "        fig.show()\n",
    "        \n",
    "    # Opción de guardar valores\n",
    "    if save_data:\n",
    "        to_save = (T_foods, labels, \n",
    "                   dataframe.iloc[:, [i for i in range(start_idx)] + idx_to_append])\n",
    "        \n",
    "        with open(f'Results/TSNE_foodSpace_{filter_type}.pkl', 'wb') as file:\n",
    "            pickle.dump(to_save, file)\n",
    "        \n",
    "    return T_foods, labels"
   ]
  },
  {
   "cell_type": "markdown",
   "id": "bb8d91d0",
   "metadata": {},
   "source": [
    "## Clustering"
   ]
  },
  {
   "cell_type": "code",
   "execution_count": 38,
   "id": "46ec0d3a",
   "metadata": {
    "ExecuteTime": {
     "end_time": "2021-10-15T18:53:30.482744Z",
     "start_time": "2021-10-15T18:53:30.458744Z"
    },
    "code_folding": [
     9
    ]
   },
   "outputs": [],
   "source": [
    "def get_clusters_df(dataframe, filter_type='all', start_idx=6, plot_tsne=False,\n",
    "                    plot_clusters=False, save_plot=False, save_data=False):\n",
    "    # Definición de la lista que almacena los vectores\n",
    "    food_vectors = list()\n",
    "    \n",
    "    # Definición del conjunto de etiquetas/grupos de los alimentos\n",
    "    group_labels = sorted(list(set([i.split('_')[0] for i in df.columns[6:]])) + ['all'])\n",
    "    \n",
    "    # Asegurándose de que la etiqueta se encuentra en el dataframe\n",
    "    if filter_type in group_labels:\n",
    "        # Agregando los valores a la lista\n",
    "        if filter_type == 'all':\n",
    "            idx_to_append = [i for i in range(start_idx, df.shape[1])]\n",
    "        elif filter_type == 'AE':\n",
    "            idx_to_append = [i for i, col in enumerate(dataframe.columns)\n",
    "                             if col.split('_')[0] == 'AE']\n",
    "        elif filter_type == 'ANE':\n",
    "            idx_to_append = [i for i, col in enumerate(dataframe.columns)\n",
    "                             if col.split('_')[0] == 'ANE']\n",
    "        elif filter_type == 'G':\n",
    "            idx_to_append = [i for i, col in enumerate(dataframe.columns)\n",
    "                             if col.split('_')[0] == 'G']\n",
    "        elif filter_type == 'M':\n",
    "            idx_to_append = [i for i, col in enumerate(dataframe.columns)\n",
    "                             if col.split('_')[0] == 'M']\n",
    "        elif filter_type == 'OT':\n",
    "            idx_to_append = [i for i, col in enumerate(dataframe.columns)\n",
    "                             if col.split('_')[0] == 'OT']\n",
    "        elif filter_type == 'V':\n",
    "            idx_to_append = [i for i, col in enumerate(dataframe.columns)\n",
    "                             if col.split('_')[0] == 'V']\n",
    "    else:\n",
    "        raise ValueError(f'\"{filter_type}\" no es una opción permitida para \"filter_type\"')\n",
    "    \n",
    "    \n",
    "    # Para cada fila\n",
    "    for i, row in dataframe.iterrows():\n",
    "        food_vectors.append(list(row[idx_to_append]))\n",
    "    \n",
    "    # Transformando a array\n",
    "    food_vectors = np.array(food_vectors)\n",
    "    \n",
    "    # Aplicando el algoritmo T-SNE\n",
    "    tsne = TSNE(n_components=2, random_state=0, n_iter=10000, perplexity=3)\n",
    "    T_foods = tsne.fit_transform(food_vectors)\n",
    "    \n",
    "    # Opción de graficar\n",
    "    if plot_tsne:\n",
    "        fig = go.Figure()\n",
    "        fig.add_trace(go.Scatter(x=T_foods[:, 0],\n",
    "                                 y=T_foods[:, 1],\n",
    "                                 text=labels,\n",
    "                                 textposition='top center',\n",
    "                                 mode='markers+text'))\n",
    "        fig.update_traces(textfont_size=8)\n",
    "        fig.update_layout(title='Análisis de alimentos objetivos FooDB: '\n",
    "                                'TSNE sobre Word Embeddings')\n",
    "        if save_plot:\n",
    "            fig.write_html(f'Results/TSNE_foodSpace_{filter_type}.html')\n",
    "        fig.show()\n",
    "    \n",
    "    # Obteniendo los clusters mediante T-SNE\n",
    "    clusters = get_clusters(T_foods, labels, filter_type, plot_clusters=plot_clusters, \n",
    "                            save_plot=save_plot)\n",
    "    \n",
    "    # Opción de guardar valores\n",
    "    if save_data:\n",
    "        to_save = (T_foods, labels, \n",
    "                   dataframe.iloc[:, [i for i in range(start_idx)] + idx_to_append],\n",
    "                   clusters)\n",
    "        \n",
    "        with open(f'Results/TSNE_foodSpace_{filter_type}.pkl', 'wb') as file:\n",
    "            pickle.dump(to_save, file)\n",
    "        \n",
    "    return T_foods, labels, clusters"
   ]
  },
  {
   "cell_type": "code",
   "execution_count": 39,
   "id": "c632e69a",
   "metadata": {
    "ExecuteTime": {
     "end_time": "2021-10-15T18:53:37.015510Z",
     "start_time": "2021-10-15T18:53:36.975300Z"
    },
    "code_folding": []
   },
   "outputs": [],
   "source": [
    "def get_clusters(T_sne, labels, name, plot_clusters=False, save_plot=False):\n",
    "    # Aplicando un algoritmo de clustering DBSCAN\n",
    "    dbscan = DBSCAN(eps=20, min_samples=5)\n",
    "    clustering = dbscan.fit(T_sne)\n",
    "    clusters = clustering.labels_\n",
    "    \n",
    "    # Creando un dataframe que condense toda la información\n",
    "    dfi = np.concatenate((T_sne, np.array([labels]).T, np.array([clusters]).T), axis=1)\n",
    "    dfi = pd.DataFrame(dfi, columns=['x1', 'x2', 'label', 'cluster'])\n",
    "    \n",
    "    if plot_clusters:\n",
    "        fig = px.scatter(dfi, x='x1', y='x2', color='cluster', labels='label',\n",
    "                         hover_data=['label', 'cluster'], text='label')\n",
    "        fig.update_traces(textfont_size=7, textposition='top center')\n",
    "        fig.update_traces(marker={'size': 15, 'opacity': 0.5})\n",
    "        fig.update_layout(title='Análisis de ingredientes objetivos FooDB: '\n",
    "                                f'TSNE con filtro {name}.')\n",
    "        if save_plot:\n",
    "            fig.write_html(f'Results/TSNE_foodSpace_{name}.html')\n",
    "        fig.show()\n",
    "\n",
    "    return clusters"
   ]
  },
  {
   "cell_type": "markdown",
   "id": "37acd965",
   "metadata": {},
   "source": [
    "# Obteniendo los labels"
   ]
  },
  {
   "cell_type": "code",
   "execution_count": 26,
   "id": "f5200132",
   "metadata": {
    "ExecuteTime": {
     "end_time": "2021-10-13T18:10:42.980142Z",
     "start_time": "2021-10-13T18:10:41.260289Z"
    }
   },
   "outputs": [
    {
     "name": "stdout",
     "output_type": "stream",
     "text": [
      "Getting T-SNE from group AE...\n"
     ]
    },
    {
     "ename": "ValueError",
     "evalue": "Shape of passed values is (206, 11), indices imply (206, 4)",
     "output_type": "error",
     "traceback": [
      "\u001b[1;31m---------------------------------------------------------------------------\u001b[0m",
      "\u001b[1;31mValueError\u001b[0m                                Traceback (most recent call last)",
      "\u001b[1;32mC:\\Users\\CHRIS-~1\\AppData\\Local\\Temp/ipykernel_10672/1293462135.py\u001b[0m in \u001b[0;36m<module>\u001b[1;34m\u001b[0m\n\u001b[0;32m      9\u001b[0m     \u001b[1;31m# Rutina\u001b[0m\u001b[1;33m\u001b[0m\u001b[1;33m\u001b[0m\u001b[1;33m\u001b[0m\u001b[0m\n\u001b[0;32m     10\u001b[0m     \u001b[0mT_foods\u001b[0m\u001b[1;33m,\u001b[0m \u001b[0mlabels\u001b[0m\u001b[1;33m,\u001b[0m \u001b[0mclusters\u001b[0m \u001b[1;33m=\u001b[0m\u001b[0;31m \u001b[0m\u001b[0;31m\\\u001b[0m\u001b[1;33m\u001b[0m\u001b[1;33m\u001b[0m\u001b[0m\n\u001b[1;32m---> 11\u001b[1;33m             get_clusters_df(df, filter_type=group, start_idx=6, \n\u001b[0m\u001b[0;32m     12\u001b[0m                             \u001b[0mplot_tsne\u001b[0m\u001b[1;33m=\u001b[0m\u001b[1;32mFalse\u001b[0m\u001b[1;33m,\u001b[0m \u001b[0mplot_clusters\u001b[0m\u001b[1;33m=\u001b[0m\u001b[1;32mTrue\u001b[0m\u001b[1;33m,\u001b[0m\u001b[1;33m\u001b[0m\u001b[1;33m\u001b[0m\u001b[0m\n\u001b[0;32m     13\u001b[0m                             \u001b[0msave_plot\u001b[0m\u001b[1;33m=\u001b[0m\u001b[1;32mTrue\u001b[0m\u001b[1;33m,\u001b[0m \u001b[0msave_data\u001b[0m\u001b[1;33m=\u001b[0m\u001b[1;32mTrue\u001b[0m\u001b[1;33m,\u001b[0m\u001b[1;33m\u001b[0m\u001b[1;33m\u001b[0m\u001b[0m\n",
      "\u001b[1;32mC:\\Users\\CHRIS-~1\\AppData\\Local\\Temp/ipykernel_10672/3555297379.py\u001b[0m in \u001b[0;36mget_clusters_df\u001b[1;34m(dataframe, filter_type, start_idx, plot_tsne, plot_clusters, save_plot, save_data, cluster_on_tsne)\u001b[0m\n\u001b[0;32m     71\u001b[0m     \u001b[1;32melse\u001b[0m\u001b[1;33m:\u001b[0m\u001b[1;33m\u001b[0m\u001b[1;33m\u001b[0m\u001b[0m\n\u001b[0;32m     72\u001b[0m         \u001b[1;31m# Obteniendo los clusters mediante T-SNE\u001b[0m\u001b[1;33m\u001b[0m\u001b[1;33m\u001b[0m\u001b[1;33m\u001b[0m\u001b[0m\n\u001b[1;32m---> 73\u001b[1;33m         clusters = get_clusters(food_vectors, labels, filter_type, \n\u001b[0m\u001b[0;32m     74\u001b[0m                                 \u001b[0mplot_clusters\u001b[0m\u001b[1;33m=\u001b[0m\u001b[0mplot_clusters\u001b[0m\u001b[1;33m,\u001b[0m\u001b[1;33m\u001b[0m\u001b[1;33m\u001b[0m\u001b[0m\n\u001b[0;32m     75\u001b[0m                                 save_plot=save_plot)\n",
      "\u001b[1;32mC:\\Users\\CHRIS-~1\\AppData\\Local\\Temp/ipykernel_10672/1038591404.py\u001b[0m in \u001b[0;36mget_clusters\u001b[1;34m(features, labels, name, plot_clusters, save_plot)\u001b[0m\n\u001b[0;32m      7\u001b[0m     \u001b[1;31m# Creando un dataframe que condense toda la información\u001b[0m\u001b[1;33m\u001b[0m\u001b[1;33m\u001b[0m\u001b[1;33m\u001b[0m\u001b[0m\n\u001b[0;32m      8\u001b[0m     \u001b[0mdfi\u001b[0m \u001b[1;33m=\u001b[0m \u001b[0mnp\u001b[0m\u001b[1;33m.\u001b[0m\u001b[0mconcatenate\u001b[0m\u001b[1;33m(\u001b[0m\u001b[1;33m(\u001b[0m\u001b[0mfeatures\u001b[0m\u001b[1;33m,\u001b[0m \u001b[0mnp\u001b[0m\u001b[1;33m.\u001b[0m\u001b[0marray\u001b[0m\u001b[1;33m(\u001b[0m\u001b[1;33m[\u001b[0m\u001b[0mlabels\u001b[0m\u001b[1;33m]\u001b[0m\u001b[1;33m)\u001b[0m\u001b[1;33m.\u001b[0m\u001b[0mT\u001b[0m\u001b[1;33m,\u001b[0m \u001b[0mnp\u001b[0m\u001b[1;33m.\u001b[0m\u001b[0marray\u001b[0m\u001b[1;33m(\u001b[0m\u001b[1;33m[\u001b[0m\u001b[0mclusters\u001b[0m\u001b[1;33m]\u001b[0m\u001b[1;33m)\u001b[0m\u001b[1;33m.\u001b[0m\u001b[0mT\u001b[0m\u001b[1;33m)\u001b[0m\u001b[1;33m,\u001b[0m \u001b[0maxis\u001b[0m\u001b[1;33m=\u001b[0m\u001b[1;36m1\u001b[0m\u001b[1;33m)\u001b[0m\u001b[1;33m\u001b[0m\u001b[1;33m\u001b[0m\u001b[0m\n\u001b[1;32m----> 9\u001b[1;33m     \u001b[0mdfi\u001b[0m \u001b[1;33m=\u001b[0m \u001b[0mpd\u001b[0m\u001b[1;33m.\u001b[0m\u001b[0mDataFrame\u001b[0m\u001b[1;33m(\u001b[0m\u001b[0mdfi\u001b[0m\u001b[1;33m,\u001b[0m \u001b[0mcolumns\u001b[0m\u001b[1;33m=\u001b[0m\u001b[1;33m[\u001b[0m\u001b[1;34m'x1'\u001b[0m\u001b[1;33m,\u001b[0m \u001b[1;34m'x2'\u001b[0m\u001b[1;33m,\u001b[0m \u001b[1;34m'label'\u001b[0m\u001b[1;33m,\u001b[0m \u001b[1;34m'cluster'\u001b[0m\u001b[1;33m]\u001b[0m\u001b[1;33m)\u001b[0m\u001b[1;33m\u001b[0m\u001b[1;33m\u001b[0m\u001b[0m\n\u001b[0m\u001b[0;32m     10\u001b[0m \u001b[1;33m\u001b[0m\u001b[0m\n\u001b[0;32m     11\u001b[0m     \u001b[1;32mif\u001b[0m \u001b[0mplot_clusters\u001b[0m\u001b[1;33m:\u001b[0m\u001b[1;33m\u001b[0m\u001b[1;33m\u001b[0m\u001b[0m\n",
      "\u001b[1;32mc:\\users\\chris-brota\\appdata\\local\\programs\\python\\python38\\lib\\site-packages\\pandas\\core\\frame.py\u001b[0m in \u001b[0;36m__init__\u001b[1;34m(self, data, index, columns, dtype, copy)\u001b[0m\n\u001b[0;32m    670\u001b[0m                 )\n\u001b[0;32m    671\u001b[0m             \u001b[1;32melse\u001b[0m\u001b[1;33m:\u001b[0m\u001b[1;33m\u001b[0m\u001b[1;33m\u001b[0m\u001b[0m\n\u001b[1;32m--> 672\u001b[1;33m                 mgr = ndarray_to_mgr(\n\u001b[0m\u001b[0;32m    673\u001b[0m                     \u001b[0mdata\u001b[0m\u001b[1;33m,\u001b[0m\u001b[1;33m\u001b[0m\u001b[1;33m\u001b[0m\u001b[0m\n\u001b[0;32m    674\u001b[0m                     \u001b[0mindex\u001b[0m\u001b[1;33m,\u001b[0m\u001b[1;33m\u001b[0m\u001b[1;33m\u001b[0m\u001b[0m\n",
      "\u001b[1;32mc:\\users\\chris-brota\\appdata\\local\\programs\\python\\python38\\lib\\site-packages\\pandas\\core\\internals\\construction.py\u001b[0m in \u001b[0;36mndarray_to_mgr\u001b[1;34m(values, index, columns, dtype, copy, typ)\u001b[0m\n\u001b[0;32m    322\u001b[0m     )\n\u001b[0;32m    323\u001b[0m \u001b[1;33m\u001b[0m\u001b[0m\n\u001b[1;32m--> 324\u001b[1;33m     \u001b[0m_check_values_indices_shape_match\u001b[0m\u001b[1;33m(\u001b[0m\u001b[0mvalues\u001b[0m\u001b[1;33m,\u001b[0m \u001b[0mindex\u001b[0m\u001b[1;33m,\u001b[0m \u001b[0mcolumns\u001b[0m\u001b[1;33m)\u001b[0m\u001b[1;33m\u001b[0m\u001b[1;33m\u001b[0m\u001b[0m\n\u001b[0m\u001b[0;32m    325\u001b[0m \u001b[1;33m\u001b[0m\u001b[0m\n\u001b[0;32m    326\u001b[0m     \u001b[1;32mif\u001b[0m \u001b[0mtyp\u001b[0m \u001b[1;33m==\u001b[0m \u001b[1;34m\"array\"\u001b[0m\u001b[1;33m:\u001b[0m\u001b[1;33m\u001b[0m\u001b[1;33m\u001b[0m\u001b[0m\n",
      "\u001b[1;32mc:\\users\\chris-brota\\appdata\\local\\programs\\python\\python38\\lib\\site-packages\\pandas\\core\\internals\\construction.py\u001b[0m in \u001b[0;36m_check_values_indices_shape_match\u001b[1;34m(values, index, columns)\u001b[0m\n\u001b[0;32m    391\u001b[0m         \u001b[0mpassed\u001b[0m \u001b[1;33m=\u001b[0m \u001b[0mvalues\u001b[0m\u001b[1;33m.\u001b[0m\u001b[0mshape\u001b[0m\u001b[1;33m\u001b[0m\u001b[1;33m\u001b[0m\u001b[0m\n\u001b[0;32m    392\u001b[0m         \u001b[0mimplied\u001b[0m \u001b[1;33m=\u001b[0m \u001b[1;33m(\u001b[0m\u001b[0mlen\u001b[0m\u001b[1;33m(\u001b[0m\u001b[0mindex\u001b[0m\u001b[1;33m)\u001b[0m\u001b[1;33m,\u001b[0m \u001b[0mlen\u001b[0m\u001b[1;33m(\u001b[0m\u001b[0mcolumns\u001b[0m\u001b[1;33m)\u001b[0m\u001b[1;33m)\u001b[0m\u001b[1;33m\u001b[0m\u001b[1;33m\u001b[0m\u001b[0m\n\u001b[1;32m--> 393\u001b[1;33m         \u001b[1;32mraise\u001b[0m \u001b[0mValueError\u001b[0m\u001b[1;33m(\u001b[0m\u001b[1;34mf\"Shape of passed values is {passed}, indices imply {implied}\"\u001b[0m\u001b[1;33m)\u001b[0m\u001b[1;33m\u001b[0m\u001b[1;33m\u001b[0m\u001b[0m\n\u001b[0m\u001b[0;32m    394\u001b[0m \u001b[1;33m\u001b[0m\u001b[0m\n\u001b[0;32m    395\u001b[0m \u001b[1;33m\u001b[0m\u001b[0m\n",
      "\u001b[1;31mValueError\u001b[0m: Shape of passed values is (206, 11), indices imply (206, 4)"
     ]
    }
   ],
   "source": [
    "# Definición de las listas que registran los resultados para cada caso\n",
    "T_foods_list = list()\n",
    "labels_list = list()\n",
    "clusters_list = list()\n",
    "\n",
    "# Para cada grupo definido previamente\n",
    "for group in group_labels:\n",
    "    print(f'Getting T-SNE from group {group}...')\n",
    "    # Rutina\n",
    "    T_foods, labels, clusters = \\\n",
    "            get_clusters_df(df, filter_type=group, start_idx=6, \n",
    "                            plot_tsne=False, plot_clusters=True, \n",
    "                            save_plot=True, save_data=True,\n",
    "                            cluster_on_tsne=False)\n",
    "    \n",
    "    # Se almacena\n",
    "    T_foods_list.append(T_foods)\n",
    "    labels_list.append(labels)\n",
    "    clusters_list.append(clusters)"
   ]
  },
  {
   "cell_type": "markdown",
   "id": "9ee817ee",
   "metadata": {},
   "source": [
    "### Versión OLD"
   ]
  },
  {
   "cell_type": "code",
   "execution_count": 49,
   "id": "1f65e14b",
   "metadata": {
    "ExecuteTime": {
     "end_time": "2021-10-12T15:51:29.505844Z",
     "start_time": "2021-10-12T15:51:04.361291Z"
    },
    "scrolled": true
   },
   "outputs": [
    {
     "name": "stdout",
     "output_type": "stream",
     "text": [
      "Getting T-SNE from group AE...\n"
     ]
    },
    {
     "data": {
      "application/vnd.plotly.v1+json": {
       "config": {
        "plotlyServerURL": "https://plot.ly"
       },
       "data": [
        {
         "customdata": [
          [
           "date, dried",
           0
          ],
          [
           "tapioca, pearl, dry",
           0
          ],
          [
           "cornstarch",
           0
          ],
          [
           "potato flour",
           0
          ],
          [
           "spices, dill seed",
           0
          ],
          [
           "arrowroot flour",
           0
          ],
          [
           "apple, dried",
           0
          ],
          [
           "persimmons, japanese, dried",
           0
          ]
         ],
         "hovertemplate": "cluster=%{customdata[1]}<br>x1=%{x}<br>x2=%{y}<br>label=%{customdata[0]}<extra></extra>",
         "legendgroup": "0",
         "marker": {
          "color": "#636efa",
          "opacity": 0.5,
          "size": 15,
          "symbol": "circle"
         },
         "mode": "markers+text",
         "name": "0",
         "orientation": "v",
         "showlegend": true,
         "text": [
          "date, dried",
          "tapioca, pearl, dry",
          "cornstarch",
          "potato flour",
          "spices, dill seed",
          "arrowroot flour",
          "apple, dried",
          "persimmons, japanese, dried"
         ],
         "textfont": {
          "size": 7
         },
         "textposition": "top center",
         "type": "scatter",
         "x": [
          10.456348419189453,
          4.8817219734191895,
          7.257870674133301,
          5.852365016937256,
          11.494754791259766,
          6.841708183288574,
          11.603838920593262,
          10.975410461425781
         ],
         "xaxis": "x",
         "y": [
          54.2921142578125,
          57.95468521118164,
          59.091094970703125,
          57.897403717041016,
          52.751670837402344,
          58.14585494995117,
          56.0249137878418,
          54.57255554199219
         ],
         "yaxis": "y"
        },
        {
         "customdata": [
          [
           "cereals, farina, unenriched, dry",
           1
          ],
          [
           "corn, dried, yellow (northern plains indians)",
           1
          ],
          [
           "cornmeal, yellow (navajo)",
           1
          ],
          [
           "cereals, corn grits, white, regular and quick, unenriched, dry",
           1
          ],
          [
           "rye flour, dark, whole meal",
           1
          ],
          [
           "beans, brown, dried",
           1
          ],
          [
           "millet flour",
           1
          ],
          [
           "cornmeal, whole-grain, yellow",
           1
          ],
          [
           "rye flour, medium",
           1
          ],
          [
           "cereals, corn grits, white, regular and quick, unenriched, dry",
           1
          ],
          [
           "cornmeal, whole-grain, white",
           1
          ],
          [
           "tomatoes, sun-dried",
           1
          ],
          [
           "tomato powder",
           1
          ],
          [
           "wheat flour, whole-grain",
           1
          ],
          [
           "wheat flour",
           1
          ],
          [
           "cereals, corn grits, yellow, regular and quick, unenriched, dry",
           1
          ],
          [
           "cereals, corn grits, yellow, regular and quick, unenriched, dry",
           1
          ],
          [
           "bulgur, dry",
           1
          ],
          [
           "barley flour or meal",
           1
          ],
          [
           "barley malt flour",
           1
          ],
          [
           "corn flour, masa, unenriched, white",
           1
          ],
          [
           "cornmeal, white (navajo)",
           1
          ],
          [
           "rye flour, light",
           1
          ],
          [
           "cereals, oats, regular and quick, not fortified, dry",
           1
          ],
          [
           "rye flour, dark",
           1
          ],
          [
           "wheat flour, white, all-purpose, unenriched",
           1
          ],
          [
           "wheat, flour, wholemeal",
           1
          ],
          [
           "triticale flour, whole-grain",
           1
          ],
          [
           "tomato, dried",
           1
          ],
          [
           "rice, white, with pasta, dry",
           1
          ],
          [
           "sorghum flour",
           1
          ],
          [
           "mushrooms, shiitake, dried",
           1
          ]
         ],
         "hovertemplate": "cluster=%{customdata[1]}<br>x1=%{x}<br>x2=%{y}<br>label=%{customdata[0]}<extra></extra>",
         "legendgroup": "1",
         "marker": {
          "color": "#EF553B",
          "opacity": 0.5,
          "size": 15,
          "symbol": "circle"
         },
         "mode": "markers+text",
         "name": "1",
         "orientation": "v",
         "showlegend": true,
         "text": [
          "cereals, farina, unenriched, dry",
          "corn, dried, yellow (northern plains indians)",
          "cornmeal, yellow (navajo)",
          "cereals, corn grits, white, regular and quick, unenriched, dry",
          "rye flour, dark, whole meal",
          "beans, brown, dried",
          "millet flour",
          "cornmeal, whole-grain, yellow",
          "rye flour, medium",
          "cereals, corn grits, white, regular and quick, unenriched, dry",
          "cornmeal, whole-grain, white",
          "tomatoes, sun-dried",
          "tomato powder",
          "wheat flour, whole-grain",
          "wheat flour",
          "cereals, corn grits, yellow, regular and quick, unenriched, dry",
          "cereals, corn grits, yellow, regular and quick, unenriched, dry",
          "bulgur, dry",
          "barley flour or meal",
          "barley malt flour",
          "corn flour, masa, unenriched, white",
          "cornmeal, white (navajo)",
          "rye flour, light",
          "cereals, oats, regular and quick, not fortified, dry",
          "rye flour, dark",
          "wheat flour, white, all-purpose, unenriched",
          "wheat, flour, wholemeal",
          "triticale flour, whole-grain",
          "tomato, dried",
          "rice, white, with pasta, dry",
          "sorghum flour",
          "mushrooms, shiitake, dried"
         ],
         "textfont": {
          "size": 7
         },
         "textposition": "top center",
         "type": "scatter",
         "x": [
          -5.323807239532471,
          26.605012893676758,
          27.713878631591797,
          30.932458877563477,
          26.255022048950195,
          7.454207420349121,
          26.359590530395508,
          35.62049865722656,
          8.909650802612305,
          29.957706451416016,
          35.99774932861328,
          -20.543193817138672,
          -19.845632553100586,
          -8.638510704040527,
          -2.7657318115234375,
          31.41935920715332,
          30.45772933959961,
          -6.942019462585449,
          8.361286163330078,
          24.908777236938477,
          29.41571044921875,
          27.609830856323242,
          9.063365936279297,
          10.426309585571289,
          -0.8447437286376953,
          -3.569756031036377,
          -2.089719295501709,
          -7.668303489685059,
          -20.8299560546875,
          9.204194068908691,
          34.5048713684082,
          9.522465705871582
         ],
         "xaxis": "x",
         "y": [
          -84.25130462646484,
          -72.88152313232422,
          -77.36209869384766,
          -80.97879791259766,
          -78.47696685791016,
          -70.42225646972656,
          -72.2674331665039,
          -80.21688079833984,
          -73.51383972167969,
          -81.49108123779297,
          -79.88037109375,
          -83.3343276977539,
          -84.02342987060547,
          -85.70941925048828,
          -83.993896484375,
          -81.95580291748047,
          -82.45794677734375,
          -84.56165313720703,
          -75.40055847167969,
          -78.81635284423828,
          -78.94705200195312,
          -76.09133911132812,
          -74.1578140258789,
          -69.03585052490234,
          -82.10436248779297,
          -83.83189392089844,
          -82.97032165527344,
          -84.43116760253906,
          -84.17256927490234,
          -71.20337677001953,
          -78.13371276855469,
          -70.37383270263672
         ],
         "yaxis": "y"
        },
        {
         "customdata": [
          [
           "spices, mustard seed, ground",
           2
          ],
          [
           "seeds, safflower seed kernels, dried",
           2
          ],
          [
           "seeds, flaxseed",
           2
          ],
          [
           "spices, fenugreek seed",
           2
          ],
          [
           "seeds, sunflower seed kernels, dried",
           2
          ],
          [
           "beans, white, dried",
           2
          ],
          [
           "lentils, dried",
           2
          ],
          [
           "spices, basil, dried",
           2
          ],
          [
           "spices, paprika",
           2
          ],
          [
           "nut, hazel (uk), filbert (usa), dried",
           2
          ],
          [
           "spices, caraway seed",
           2
          ],
          [
           "yeast, dried",
           2
          ],
          [
           "seeds, sesame seed kernels, dried (decorticated)",
           2
          ],
          [
           "spices, garlic powder",
           2
          ],
          [
           "cocoa, powder",
           2
          ],
          [
           "pistachio nuts, dried",
           2
          ],
          [
           "cocoa, dry powder, unsweetened, processed with alkali",
           2
          ],
          [
           "seeds, sesame seeds, whole, dried",
           2
          ],
          [
           "walnuts",
           2
          ],
          [
           "seeds, sunflower seed kernels, toasted, without salt",
           2
          ],
          [
           "cocoa, dry powder, unsweetened",
           2
          ],
          [
           "seeds, lotus seeds, dried",
           2
          ],
          [
           "nuts, walnuts, black, dried",
           2
          ],
          [
           "sesame seeds, whole, dried",
           2
          ],
          [
           "spearmint, dried",
           2
          ],
          [
           "seeds, sesame meal, partially defatted",
           2
          ],
          [
           "spices, parsley, dried",
           2
          ],
          [
           "sesame seed, decorticated",
           2
          ],
          [
           "seeds, chia seeds, dried",
           2
          ],
          [
           "spices, poppy seed",
           2
          ],
          [
           "spices, fennel seed",
           2
          ]
         ],
         "hovertemplate": "cluster=%{customdata[1]}<br>x1=%{x}<br>x2=%{y}<br>label=%{customdata[0]}<extra></extra>",
         "legendgroup": "2",
         "marker": {
          "color": "#00cc96",
          "opacity": 0.5,
          "size": 15,
          "symbol": "circle"
         },
         "mode": "markers+text",
         "name": "2",
         "orientation": "v",
         "showlegend": true,
         "text": [
          "spices, mustard seed, ground",
          "seeds, safflower seed kernels, dried",
          "seeds, flaxseed",
          "spices, fenugreek seed",
          "seeds, sunflower seed kernels, dried",
          "beans, white, dried",
          "lentils, dried",
          "spices, basil, dried",
          "spices, paprika",
          "nut, hazel (uk), filbert (usa), dried",
          "spices, caraway seed",
          "yeast, dried",
          "seeds, sesame seed kernels, dried (decorticated)",
          "spices, garlic powder",
          "cocoa, powder",
          "pistachio nuts, dried",
          "cocoa, dry powder, unsweetened, processed with alkali",
          "seeds, sesame seeds, whole, dried",
          "walnuts",
          "seeds, sunflower seed kernels, toasted, without salt",
          "cocoa, dry powder, unsweetened",
          "seeds, lotus seeds, dried",
          "nuts, walnuts, black, dried",
          "sesame seeds, whole, dried",
          "spearmint, dried",
          "seeds, sesame meal, partially defatted",
          "spices, parsley, dried",
          "sesame seed, decorticated",
          "seeds, chia seeds, dried",
          "spices, poppy seed",
          "spices, fennel seed"
         ],
         "textfont": {
          "size": 7
         },
         "textposition": "top center",
         "type": "scatter",
         "x": [
          47.67808532714844,
          28.50649070739746,
          30.35295867919922,
          40.662349700927734,
          54.36930465698242,
          18.885108947753906,
          41.15673065185547,
          22.042720794677734,
          21.628620147705078,
          32.579833984375,
          19.489036560058594,
          41.758174896240234,
          55.91184616088867,
          33.29951858520508,
          16.263818740844727,
          29.27638816833496,
          17.260330200195312,
          32.23019027709961,
          58.27604675292969,
          30.030994415283203,
          17.88060760498047,
          21.956544876098633,
          58.10505676269531,
          55.4041862487793,
          17.852941513061523,
          31.701858520507812,
          40.59833526611328,
          55.47349166870117,
          29.405658721923828,
          47.21910095214844,
          15.264290809631348
         ],
         "xaxis": "x",
         "y": [
          -24.548486709594727,
          -26.71957015991211,
          -25.78628921508789,
          -21.719846725463867,
          -27.643178939819336,
          -23.993986129760742,
          -21.806264877319336,
          -13.74935531616211,
          -13.904787063598633,
          -33.86589813232422,
          -22.696937561035156,
          -19.47369384765625,
          -30.58946990966797,
          -35.131500244140625,
          -20.716676712036133,
          -27.962270736694336,
          -20.851472854614258,
          -32.66325378417969,
          -29.203840255737305,
          -25.18890380859375,
          -21.489307403564453,
          -23.46026611328125,
          -28.591625213623047,
          -29.828096389770508,
          -18.976486206054688,
          -32.49324035644531,
          -19.803144454956055,
          -28.89299774169922,
          -28.807809829711914,
          -24.358043670654297,
          -21.786094665527344
         ],
         "yaxis": "y"
        },
        {
         "customdata": [
          [
           "nuts, ginkgo nuts, dried",
           3
          ],
          [
           "carrot, dehydrated",
           3
          ],
          [
           "nuts, brazilnuts, dried, unblanched",
           3
          ],
          [
           "spices, pepper, black",
           3
          ],
          [
           "nuts, pine nuts, pinyon, dried",
           3
          ],
          [
           "nuts, pilinuts, dried",
           3
          ],
          [
           "buckwheat flour",
           3
          ],
          [
           "buckwheat flour, whole-groat",
           3
          ],
          [
           "nuts, coconut meat, dried (desiccated), toasted",
           3
          ],
          [
           "radishes, oriental, dried",
           3
          ],
          [
           "spices, onion powder",
           3
          ],
          [
           "wheat flour",
           3
          ],
          [
           "nuts, pine nuts, dried",
           3
          ],
          [
           "spices, chili powder",
           3
          ],
          [
           "nuts, acorn flour, full fat",
           3
          ],
          [
           "spices, oregano, dried",
           3
          ],
          [
           "peppers, hot chile, sun-dried",
           3
          ],
          [
           "nuts, coconut meat, dried (desiccated), creamed",
           3
          ],
          [
           "pine nuts, pignolias, dried",
           3
          ],
          [
           "peppers, ancho, dried",
           3
          ],
          [
           "onions, dehydrated flakes",
           3
          ],
          [
           "pecans, dried",
           3
          ],
          [
           "nuts, acorns, dried",
           3
          ],
          [
           "rice flour",
           3
          ],
          [
           "rice flour, brown",
           3
          ],
          [
           "spices, ginger, ground",
           3
          ],
          [
           "nuts, hickorynuts, dried",
           3
          ],
          [
           "garlic, dried, powder",
           3
          ],
          [
           "rice flour, white",
           3
          ],
          [
           "nuts, chestnuts, chinese, dried",
           3
          ],
          [
           "rice, white, long-grain, parboiled, unenriched, dry",
           3
          ],
          [
           "seeds, sisymbrium sp. seeds, whole, dried",
           3
          ]
         ],
         "hovertemplate": "cluster=%{customdata[1]}<br>x1=%{x}<br>x2=%{y}<br>label=%{customdata[0]}<extra></extra>",
         "legendgroup": "3",
         "marker": {
          "color": "#ab63fa",
          "opacity": 0.5,
          "size": 15,
          "symbol": "circle"
         },
         "mode": "markers+text",
         "name": "3",
         "orientation": "v",
         "showlegend": true,
         "text": [
          "nuts, ginkgo nuts, dried",
          "carrot, dehydrated",
          "nuts, brazilnuts, dried, unblanched",
          "spices, pepper, black",
          "nuts, pine nuts, pinyon, dried",
          "nuts, pilinuts, dried",
          "buckwheat flour",
          "buckwheat flour, whole-groat",
          "nuts, coconut meat, dried (desiccated), toasted",
          "radishes, oriental, dried",
          "spices, onion powder",
          "wheat flour",
          "nuts, pine nuts, dried",
          "spices, chili powder",
          "nuts, acorn flour, full fat",
          "spices, oregano, dried",
          "peppers, hot chile, sun-dried",
          "nuts, coconut meat, dried (desiccated), creamed",
          "pine nuts, pignolias, dried",
          "peppers, ancho, dried",
          "onions, dehydrated flakes",
          "pecans, dried",
          "nuts, acorns, dried",
          "rice flour",
          "rice flour, brown",
          "spices, ginger, ground",
          "nuts, hickorynuts, dried",
          "garlic, dried, powder",
          "rice flour, white",
          "nuts, chestnuts, chinese, dried",
          "rice, white, long-grain, parboiled, unenriched, dry",
          "seeds, sisymbrium sp. seeds, whole, dried"
         ],
         "textfont": {
          "size": 7
         },
         "textposition": "top center",
         "type": "scatter",
         "x": [
          -23.78302764892578,
          -59.39839553833008,
          -42.08544921875,
          -14.314116477966309,
          -32.22083282470703,
          -32.306007385253906,
          -18.548486709594727,
          -24.955181121826172,
          -47.84926986694336,
          -58.083168029785156,
          -32.07737731933594,
          -18.548486709594727,
          -40.60981369018555,
          -14.925779342651367,
          -55.411827087402344,
          -13.41486930847168,
          -20.73412322998047,
          -47.81270217895508,
          -40.47498321533203,
          -21.1374454498291,
          -46.20469665527344,
          -30.346342086791992,
          -56.17445373535156,
          -54.485267639160156,
          -57.80296325683594,
          -17.830768585205078,
          -41.80753707885742,
          -31.737228393554688,
          -53.369503021240234,
          -17.36925506591797,
          -56.744346618652344,
          -23.310178756713867
         ],
         "xaxis": "x",
         "y": [
          -30.95400047302246,
          -30.139892578125,
          -56.701568603515625,
          -34.060298919677734,
          -36.84745407104492,
          -34.66950225830078,
          -22.280420303344727,
          -30.63457489013672,
          -32.57699966430664,
          -27.55958366394043,
          -38.0005989074707,
          -22.280420303344727,
          -56.470062255859375,
          -33.569190979003906,
          -31.53943634033203,
          -34.78508377075195,
          -27.5214900970459,
          -32.1545295715332,
          -55.620506286621094,
          -28.009803771972656,
          -32.51341247558594,
          -34.543426513671875,
          -30.91939926147461,
          -32.29851150512695,
          -29.13931655883789,
          -19.99749183654785,
          -55.70935821533203,
          -35.169437408447266,
          -32.81443405151367,
          -20.39247703552246,
          -29.813753128051758,
          -30.070255279541016
         ],
         "yaxis": "y"
        },
        {
         "customdata": [
          [
           "fig, dried",
           4
          ],
          [
           "bananas, dehydrated, or banana powder",
           4
          ],
          [
           "carob flour",
           4
          ],
          [
           "longans, dried",
           4
          ],
          [
           "prune, dried plum",
           4
          ],
          [
           "nuts, chestnuts, european, dried, unpeeled",
           4
          ],
          [
           "nuts, chestnuts, japanese, dried",
           4
          ],
          [
           "spices, cloves, ground",
           4
          ],
          [
           "peach, dried",
           4
          ],
          [
           "nuts, beechnuts, dried",
           4
          ],
          [
           "spices, cinnamon, ground",
           4
          ],
          [
           "nuts, chestnuts, european, dried, peeled",
           4
          ],
          [
           "apricot, dried",
           4
          ]
         ],
         "hovertemplate": "cluster=%{customdata[1]}<br>x1=%{x}<br>x2=%{y}<br>label=%{customdata[0]}<extra></extra>",
         "legendgroup": "4",
         "marker": {
          "color": "#FFA15A",
          "opacity": 0.5,
          "size": 15,
          "symbol": "circle"
         },
         "mode": "markers+text",
         "name": "4",
         "orientation": "v",
         "showlegend": true,
         "text": [
          "fig, dried",
          "bananas, dehydrated, or banana powder",
          "carob flour",
          "longans, dried",
          "prune, dried plum",
          "nuts, chestnuts, european, dried, unpeeled",
          "nuts, chestnuts, japanese, dried",
          "spices, cloves, ground",
          "peach, dried",
          "nuts, beechnuts, dried",
          "spices, cinnamon, ground",
          "nuts, chestnuts, european, dried, peeled",
          "apricot, dried"
         ],
         "textfont": {
          "size": 7
         },
         "textposition": "top center",
         "type": "scatter",
         "x": [
          25.02399253845215,
          23.062881469726562,
          23.680252075195312,
          25.82213020324707,
          26.111080169677734,
          16.71399688720703,
          16.222042083740234,
          21.749961853027344,
          25.39983367919922,
          17.375511169433594,
          22.223281860351562,
          18.956092834472656,
          20.950437545776367
         ],
         "xaxis": "x",
         "y": [
          20.637474060058594,
          21.125547409057617,
          22.950424194335938,
          15.183438301086426,
          20.546659469604492,
          16.539897918701172,
          15.504192352294922,
          19.73565101623535,
          14.852231979370117,
          16.52181053161621,
          21.472537994384766,
          17.588834762573242,
          22.625246047973633
         ],
         "yaxis": "y"
        },
        {
         "customdata": [
          [
           "seeds, sunflower seed flour, partially defatted",
           5
          ],
          [
           "seeds, pumpkin and squash seed kernels, dried",
           5
          ],
          [
           "soy flour, defatted",
           5
          ],
          [
           "seeds, pumpkin and squash seed kernels, dried",
           5
          ],
          [
           "seeds, cottonseed flour, low fat (glandless)",
           5
          ],
          [
           "seeds, watermelon seed kernels, dried",
           5
          ],
          [
           "seeds, sesame flour, partially defatted",
           5
          ],
          [
           "beans, soy, dried",
           5
          ],
          [
           "nuts, butternuts, dried",
           5
          ],
          [
           "peanut flour, low fat",
           5
          ],
          [
           "seeds, sesame flour, low-fat",
           5
          ],
          [
           "soya flour, full fat",
           5
          ],
          [
           "seeds, cottonseed flour, partially defatted (glandless)",
           5
          ],
          [
           "peanut flour, defatted",
           5
          ],
          [
           "nut, pea, dried",
           5
          ],
          [
           "soy flour, low-fat, crude protein basis (n x 6.25)",
           5
          ],
          [
           "seaweed, spirulina, dried",
           5
          ],
          [
           "seeds, sesame flour, high-fat",
           5
          ],
          [
           "seeds, safflower seed meal, partially defatted",
           5
          ],
          [
           "seeds, pumpkin and squash seed kernels, dried",
           5
          ],
          [
           "tofu, dried-frozen (koyadofu)",
           5
          ],
          [
           "leavening agents, yeast, bakers, active dry",
           5
          ],
          [
           "soy flour, defatted, crude protein basis (n x 6.25)",
           5
          ]
         ],
         "hovertemplate": "cluster=%{customdata[1]}<br>x1=%{x}<br>x2=%{y}<br>label=%{customdata[0]}<extra></extra>",
         "legendgroup": "5",
         "marker": {
          "color": "#19d3f3",
          "opacity": 0.5,
          "size": 15,
          "symbol": "circle"
         },
         "mode": "markers+text",
         "name": "5",
         "orientation": "v",
         "showlegend": true,
         "text": [
          "seeds, sunflower seed flour, partially defatted",
          "seeds, pumpkin and squash seed kernels, dried",
          "soy flour, defatted",
          "seeds, pumpkin and squash seed kernels, dried",
          "seeds, cottonseed flour, low fat (glandless)",
          "seeds, watermelon seed kernels, dried",
          "seeds, sesame flour, partially defatted",
          "beans, soy, dried",
          "nuts, butternuts, dried",
          "peanut flour, low fat",
          "seeds, sesame flour, low-fat",
          "soya flour, full fat",
          "seeds, cottonseed flour, partially defatted (glandless)",
          "peanut flour, defatted",
          "nut, pea, dried",
          "soy flour, low-fat, crude protein basis (n x 6.25)",
          "seaweed, spirulina, dried",
          "seeds, sesame flour, high-fat",
          "seeds, safflower seed meal, partially defatted",
          "seeds, pumpkin and squash seed kernels, dried",
          "tofu, dried-frozen (koyadofu)",
          "leavening agents, yeast, bakers, active dry",
          "soy flour, defatted, crude protein basis (n x 6.25)"
         ],
         "textfont": {
          "size": 7
         },
         "textposition": "top center",
         "type": "scatter",
         "x": [
          72.13202667236328,
          89.94755554199219,
          84.36367797851562,
          90.88410949707031,
          70.8993911743164,
          87.547119140625,
          74.84235382080078,
          82.77022552490234,
          87.85367584228516,
          85.76827239990234,
          70.4359359741211,
          83.6741714477539,
          74.46172332763672,
          72.08328247070312,
          86.20498657226562,
          84.6583480834961,
          85.31600189208984,
          91.78797912597656,
          85.42887115478516,
          90.19217681884766,
          84.04190063476562,
          82.2472915649414,
          85.36114501953125
         ],
         "xaxis": "x",
         "y": [
          24.38397216796875,
          15.16794204711914,
          -4.645627498626709,
          14.91594409942627,
          24.905683517456055,
          13.63040828704834,
          21.14766502380371,
          1.6874510049819946,
          13.00300121307373,
          7.888325214385986,
          25.81389045715332,
          -0.017655503004789352,
          21.59054183959961,
          25.521095275878906,
          9.134894371032715,
          -3.663530111312866,
          -6.33664083480835,
          12.979424476623535,
          6.967043399810791,
          14.229915618896484,
          -1.0764859914779663,
          2.2768125534057617,
          -4.405090808868408
         ],
         "yaxis": "y"
        },
        {
         "customdata": [
          [
           "cornmeal, degermed, unenriched, white",
           6
          ],
          [
           "cornmeal, degermed, unenriched, yellow",
           6
          ],
          [
           "corn flour",
           6
          ],
          [
           "corn flour, whole-grain, white",
           6
          ],
          [
           "corn flour, whole-grain, yellow",
           6
          ]
         ],
         "hovertemplate": "cluster=%{customdata[1]}<br>x1=%{x}<br>x2=%{y}<br>label=%{customdata[0]}<extra></extra>",
         "legendgroup": "6",
         "marker": {
          "color": "#FF6692",
          "opacity": 0.5,
          "size": 15,
          "symbol": "circle"
         },
         "mode": "markers+text",
         "name": "6",
         "orientation": "v",
         "showlegend": true,
         "text": [
          "cornmeal, degermed, unenriched, white",
          "cornmeal, degermed, unenriched, yellow",
          "corn flour",
          "corn flour, whole-grain, white",
          "corn flour, whole-grain, yellow"
         ],
         "textfont": {
          "size": 7
         },
         "textposition": "top center",
         "type": "scatter",
         "x": [
          60.929405212402344,
          61.39321517944336,
          62.217525482177734,
          62.33760070800781,
          62.976295471191406
         ],
         "xaxis": "x",
         "y": [
          -115.8321304321289,
          -115.60652160644531,
          -118.32132720947266,
          -119.5398941040039,
          -119.2763671875
         ],
         "yaxis": "y"
        },
        {
         "customdata": [
          [
           "corn starch",
           7
          ],
          [
           "baking powder",
           7
          ],
          [
           "spices, thyme, dried",
           7
          ],
          [
           "litchis, dried",
           7
          ],
          [
           "spices, allspice, ground",
           7
          ],
          [
           "coffee, dry, powder, with whitener, reduced calorie",
           7
          ],
          [
           "spices, sage, ground",
           7
          ],
          [
           "spices, anise seed",
           7
          ],
          [
           "coffee, dry, powder, with whitener, reduced calorie",
           7
          ],
          [
           "coriander, leaf, dried",
           7
          ],
          [
           "spices, coriander leaf, dried",
           7
          ],
          [
           "spices, coriander seed",
           7
          ],
          [
           "spices, saffron",
           7
          ],
          [
           "oat flour, partially debranned",
           7
          ],
          [
           "spices, chervil, dried",
           7
          ],
          [
           "wocas, dried seeds, oregon, yellow pond lily, nuphar lutea (or) - cy0617b",
           7
          ],
          [
           "cornmeal, blue (navajo)",
           7
          ],
          [
           "spices, nutmeg, ground",
           7
          ],
          [
           "spices, celery seed",
           7
          ],
          [
           "spices, mace, ground",
           7
          ],
          [
           "celery flakes, dried",
           7
          ],
          [
           "wheat flour, whole-grain, soft wheat",
           7
          ],
          [
           "chickpea flour (besan)",
           7
          ],
          [
           "coffee, dry, powder, with whitener, reduced calorie",
           7
          ],
          [
           "coffee and cocoa (mocha) powder, with whitener and low calorie sweetener",
           7
          ],
          [
           "coffee and cocoa (mocha) powder, with whitener and low calorie sweetener, decaffeinated",
           7
          ],
          [
           "spices, pepper, white",
           7
          ],
          [
           "spices, turmeric, ground",
           7
          ],
          [
           "leavening agents, baking powder, low-sodium",
           7
          ],
          [
           "spices, tarragon, dried",
           7
          ],
          [
           "leavening agents, baking powder, double-acting, straight phosphate",
           7
          ],
          [
           "spices, marjoram, dried",
           7
          ],
          [
           "leavening agents, baking powder, double-acting, sodium aluminum sulfate",
           7
          ],
          [
           "spices, bay leaf",
           7
          ],
          [
           "seaweed, konbu, dried (kelp)",
           7
          ],
          [
           "spices, cumin seed",
           7
          ],
          [
           "sunflower seeds, decorticated, dried",
           7
          ],
          [
           "curry powder",
           7
          ],
          [
           "spices, curry powder",
           7
          ],
          [
           "jujube, dried",
           7
          ],
          [
           "fungi, cloud ears, dried",
           7
          ],
          [
           "spices, pepper, red or cayenne",
           7
          ],
          [
           "spices, rosemary, dried",
           7
          ],
          [
           "pepeao, dried",
           7
          ],
          [
           "corn flour, degermed, unenriched, yellow",
           7
          ],
          [
           "dill weed, dried",
           7
          ],
          [
           "spices, dill weed, dried",
           7
          ],
          [
           "cereals, whole wheat hot natural cereal, dry",
           7
          ],
          [
           "rose hip, dried, powder",
           7
          ],
          [
           "spices, savory, ground",
           7
          ],
          [
           "corn flour, whole-grain, blue (harina de maiz morado)",
           7
          ],
          [
           "cocoa, dry powder, hi-fat or breakfast, plain",
           7
          ],
          [
           "cocoa, dry powder, hi-fat or breakfast, processed with alkali",
           7
          ],
          [
           "soy flour, low-fat",
           7
          ],
          [
           "fruit, mixed, (prune and apricot and pear), dried",
           7
          ],
          [
           "cocoa, dry powder, unsweetened, hersheys european style cocoa",
           7
          ],
          [
           "spices, cardamom",
           7
          ],
          [
           "currants, zante, dried",
           7
          ],
          [
           "peppers, pasilla, dried",
           7
          ],
          [
           "seaweed, agar, dried",
           7
          ],
          [
           "agave, dried (southwest)",
           7
          ],
          [
           "corn, dried (navajo)",
           7
          ]
         ],
         "hovertemplate": "cluster=%{customdata[1]}<br>x1=%{x}<br>x2=%{y}<br>label=%{customdata[0]}<extra></extra>",
         "legendgroup": "7",
         "marker": {
          "color": "#B6E880",
          "opacity": 0.5,
          "size": 15,
          "symbol": "circle"
         },
         "mode": "markers+text",
         "name": "7",
         "orientation": "v",
         "showlegend": true,
         "text": [
          "corn starch",
          "baking powder",
          "spices, thyme, dried",
          "litchis, dried",
          "spices, allspice, ground",
          "coffee, dry, powder, with whitener, reduced calorie",
          "spices, sage, ground",
          "spices, anise seed",
          "coffee, dry, powder, with whitener, reduced calorie",
          "coriander, leaf, dried",
          "spices, coriander leaf, dried",
          "spices, coriander seed",
          "spices, saffron",
          "oat flour, partially debranned",
          "spices, chervil, dried",
          "wocas, dried seeds, oregon, yellow pond lily, nuphar lutea (or) - cy0617b",
          "cornmeal, blue (navajo)",
          "spices, nutmeg, ground",
          "spices, celery seed",
          "spices, mace, ground",
          "celery flakes, dried",
          "wheat flour, whole-grain, soft wheat",
          "chickpea flour (besan)",
          "coffee, dry, powder, with whitener, reduced calorie",
          "coffee and cocoa (mocha) powder, with whitener and low calorie sweetener",
          "coffee and cocoa (mocha) powder, with whitener and low calorie sweetener, decaffeinated",
          "spices, pepper, white",
          "spices, turmeric, ground",
          "leavening agents, baking powder, low-sodium",
          "spices, tarragon, dried",
          "leavening agents, baking powder, double-acting, straight phosphate",
          "spices, marjoram, dried",
          "leavening agents, baking powder, double-acting, sodium aluminum sulfate",
          "spices, bay leaf",
          "seaweed, konbu, dried (kelp)",
          "spices, cumin seed",
          "sunflower seeds, decorticated, dried",
          "curry powder",
          "spices, curry powder",
          "jujube, dried",
          "fungi, cloud ears, dried",
          "spices, pepper, red or cayenne",
          "spices, rosemary, dried",
          "pepeao, dried",
          "corn flour, degermed, unenriched, yellow",
          "dill weed, dried",
          "spices, dill weed, dried",
          "cereals, whole wheat hot natural cereal, dry",
          "rose hip, dried, powder",
          "spices, savory, ground",
          "corn flour, whole-grain, blue (harina de maiz morado)",
          "cocoa, dry powder, hi-fat or breakfast, plain",
          "cocoa, dry powder, hi-fat or breakfast, processed with alkali",
          "soy flour, low-fat",
          "fruit, mixed, (prune and apricot and pear), dried",
          "cocoa, dry powder, unsweetened, hersheys european style cocoa",
          "spices, cardamom",
          "currants, zante, dried",
          "peppers, pasilla, dried",
          "seaweed, agar, dried",
          "agave, dried (southwest)",
          "corn, dried (navajo)"
         ],
         "textfont": {
          "size": 7
         },
         "textposition": "top center",
         "type": "scatter",
         "x": [
          -34.42293167114258,
          -38.97783279418945,
          -37.23577117919922,
          -37.51869201660156,
          -36.43553924560547,
          -35.83533477783203,
          -38.244720458984375,
          -39.00215148925781,
          -46.712074279785156,
          -43.80796813964844,
          -43.12919616699219,
          -37.89869689941406,
          -38.86674118041992,
          -32.70543670654297,
          -44.37764358520508,
          -34.062164306640625,
          -26.522319793701172,
          -50.199462890625,
          -30.452096939086914,
          -41.530948638916016,
          -43.764183044433594,
          -39.97559356689453,
          -36.0419807434082,
          -39.276180267333984,
          -37.723976135253906,
          -36.658180236816406,
          -40.94685745239258,
          -44.1085205078125,
          -34.30096435546875,
          -48.84993362426758,
          -27.415618896484375,
          -40.97462463378906,
          -37.255035400390625,
          -26.75060272216797,
          -39.74265670776367,
          -31.23955535888672,
          -31.16779327392578,
          -31.19516372680664,
          -41.580196380615234,
          -32.245113372802734,
          -27.769819259643555,
          -43.026947021484375,
          -45.69462203979492,
          -40.838645935058594,
          -50.75788879394531,
          -33.400733947753906,
          -48.18053436279297,
          -28.93675422668457,
          -43.797508239746094,
          -27.6485652923584,
          -24.436826705932617,
          -33.85663604736328,
          -37.56861114501953,
          -35.1322021484375,
          -31.61469841003418,
          -31.255067825317383,
          -47.0806999206543,
          -23.31812286376953,
          -35.53902053833008,
          -37.45663833618164,
          -35.13447189331055,
          -36.065635681152344
         ],
         "xaxis": "x",
         "y": [
          49.38242721557617,
          48.78546142578125,
          50.75215148925781,
          49.34728240966797,
          52.07944107055664,
          48.187355041503906,
          51.945369720458984,
          50.45051956176758,
          53.90805435180664,
          62.20484924316406,
          37.40388107299805,
          36.766448974609375,
          45.72346496582031,
          37.267982482910156,
          57.87166976928711,
          53.4600715637207,
          44.225162506103516,
          46.391361236572266,
          45.37154769897461,
          49.84519577026367,
          41.80171203613281,
          40.77711486816406,
          45.5546989440918,
          54.30280303955078,
          43.15133285522461,
          54.487144470214844,
          52.33344650268555,
          51.30183792114258,
          56.375755310058594,
          57.89508819580078,
          39.6576042175293,
          47.272918701171875,
          63.9954948425293,
          59.56928253173828,
          60.380271911621094,
          54.42097091674805,
          41.62128448486328,
          58.08346176147461,
          44.446067810058594,
          51.35127258300781,
          48.27639389038086,
          54.38509750366211,
          45.19593811035156,
          56.80523681640625,
          52.029090881347656,
          46.73370361328125,
          41.295127868652344,
          51.60066604614258,
          47.837406158447266,
          55.32083511352539,
          52.68073272705078,
          43.69923782348633,
          57.25566482543945,
          59.93034744262695,
          62.5896110534668,
          48.701148986816406,
          49.37089538574219,
          47.999237060546875,
          40.53367614746094,
          47.79863357543945,
          51.069156646728516,
          49.776302337646484
         ],
         "yaxis": "y"
        }
       ],
       "layout": {
        "legend": {
         "title": {
          "text": "cluster"
         },
         "tracegroupgap": 0
        },
        "margin": {
         "t": 60
        },
        "template": {
         "data": {
          "bar": [
           {
            "error_x": {
             "color": "#2a3f5f"
            },
            "error_y": {
             "color": "#2a3f5f"
            },
            "marker": {
             "line": {
              "color": "#E5ECF6",
              "width": 0.5
             },
             "pattern": {
              "fillmode": "overlay",
              "size": 10,
              "solidity": 0.2
             }
            },
            "type": "bar"
           }
          ],
          "barpolar": [
           {
            "marker": {
             "line": {
              "color": "#E5ECF6",
              "width": 0.5
             },
             "pattern": {
              "fillmode": "overlay",
              "size": 10,
              "solidity": 0.2
             }
            },
            "type": "barpolar"
           }
          ],
          "carpet": [
           {
            "aaxis": {
             "endlinecolor": "#2a3f5f",
             "gridcolor": "white",
             "linecolor": "white",
             "minorgridcolor": "white",
             "startlinecolor": "#2a3f5f"
            },
            "baxis": {
             "endlinecolor": "#2a3f5f",
             "gridcolor": "white",
             "linecolor": "white",
             "minorgridcolor": "white",
             "startlinecolor": "#2a3f5f"
            },
            "type": "carpet"
           }
          ],
          "choropleth": [
           {
            "colorbar": {
             "outlinewidth": 0,
             "ticks": ""
            },
            "type": "choropleth"
           }
          ],
          "contour": [
           {
            "colorbar": {
             "outlinewidth": 0,
             "ticks": ""
            },
            "colorscale": [
             [
              0,
              "#0d0887"
             ],
             [
              0.1111111111111111,
              "#46039f"
             ],
             [
              0.2222222222222222,
              "#7201a8"
             ],
             [
              0.3333333333333333,
              "#9c179e"
             ],
             [
              0.4444444444444444,
              "#bd3786"
             ],
             [
              0.5555555555555556,
              "#d8576b"
             ],
             [
              0.6666666666666666,
              "#ed7953"
             ],
             [
              0.7777777777777778,
              "#fb9f3a"
             ],
             [
              0.8888888888888888,
              "#fdca26"
             ],
             [
              1,
              "#f0f921"
             ]
            ],
            "type": "contour"
           }
          ],
          "contourcarpet": [
           {
            "colorbar": {
             "outlinewidth": 0,
             "ticks": ""
            },
            "type": "contourcarpet"
           }
          ],
          "heatmap": [
           {
            "colorbar": {
             "outlinewidth": 0,
             "ticks": ""
            },
            "colorscale": [
             [
              0,
              "#0d0887"
             ],
             [
              0.1111111111111111,
              "#46039f"
             ],
             [
              0.2222222222222222,
              "#7201a8"
             ],
             [
              0.3333333333333333,
              "#9c179e"
             ],
             [
              0.4444444444444444,
              "#bd3786"
             ],
             [
              0.5555555555555556,
              "#d8576b"
             ],
             [
              0.6666666666666666,
              "#ed7953"
             ],
             [
              0.7777777777777778,
              "#fb9f3a"
             ],
             [
              0.8888888888888888,
              "#fdca26"
             ],
             [
              1,
              "#f0f921"
             ]
            ],
            "type": "heatmap"
           }
          ],
          "heatmapgl": [
           {
            "colorbar": {
             "outlinewidth": 0,
             "ticks": ""
            },
            "colorscale": [
             [
              0,
              "#0d0887"
             ],
             [
              0.1111111111111111,
              "#46039f"
             ],
             [
              0.2222222222222222,
              "#7201a8"
             ],
             [
              0.3333333333333333,
              "#9c179e"
             ],
             [
              0.4444444444444444,
              "#bd3786"
             ],
             [
              0.5555555555555556,
              "#d8576b"
             ],
             [
              0.6666666666666666,
              "#ed7953"
             ],
             [
              0.7777777777777778,
              "#fb9f3a"
             ],
             [
              0.8888888888888888,
              "#fdca26"
             ],
             [
              1,
              "#f0f921"
             ]
            ],
            "type": "heatmapgl"
           }
          ],
          "histogram": [
           {
            "marker": {
             "pattern": {
              "fillmode": "overlay",
              "size": 10,
              "solidity": 0.2
             }
            },
            "type": "histogram"
           }
          ],
          "histogram2d": [
           {
            "colorbar": {
             "outlinewidth": 0,
             "ticks": ""
            },
            "colorscale": [
             [
              0,
              "#0d0887"
             ],
             [
              0.1111111111111111,
              "#46039f"
             ],
             [
              0.2222222222222222,
              "#7201a8"
             ],
             [
              0.3333333333333333,
              "#9c179e"
             ],
             [
              0.4444444444444444,
              "#bd3786"
             ],
             [
              0.5555555555555556,
              "#d8576b"
             ],
             [
              0.6666666666666666,
              "#ed7953"
             ],
             [
              0.7777777777777778,
              "#fb9f3a"
             ],
             [
              0.8888888888888888,
              "#fdca26"
             ],
             [
              1,
              "#f0f921"
             ]
            ],
            "type": "histogram2d"
           }
          ],
          "histogram2dcontour": [
           {
            "colorbar": {
             "outlinewidth": 0,
             "ticks": ""
            },
            "colorscale": [
             [
              0,
              "#0d0887"
             ],
             [
              0.1111111111111111,
              "#46039f"
             ],
             [
              0.2222222222222222,
              "#7201a8"
             ],
             [
              0.3333333333333333,
              "#9c179e"
             ],
             [
              0.4444444444444444,
              "#bd3786"
             ],
             [
              0.5555555555555556,
              "#d8576b"
             ],
             [
              0.6666666666666666,
              "#ed7953"
             ],
             [
              0.7777777777777778,
              "#fb9f3a"
             ],
             [
              0.8888888888888888,
              "#fdca26"
             ],
             [
              1,
              "#f0f921"
             ]
            ],
            "type": "histogram2dcontour"
           }
          ],
          "mesh3d": [
           {
            "colorbar": {
             "outlinewidth": 0,
             "ticks": ""
            },
            "type": "mesh3d"
           }
          ],
          "parcoords": [
           {
            "line": {
             "colorbar": {
              "outlinewidth": 0,
              "ticks": ""
             }
            },
            "type": "parcoords"
           }
          ],
          "pie": [
           {
            "automargin": true,
            "type": "pie"
           }
          ],
          "scatter": [
           {
            "marker": {
             "colorbar": {
              "outlinewidth": 0,
              "ticks": ""
             }
            },
            "type": "scatter"
           }
          ],
          "scatter3d": [
           {
            "line": {
             "colorbar": {
              "outlinewidth": 0,
              "ticks": ""
             }
            },
            "marker": {
             "colorbar": {
              "outlinewidth": 0,
              "ticks": ""
             }
            },
            "type": "scatter3d"
           }
          ],
          "scattercarpet": [
           {
            "marker": {
             "colorbar": {
              "outlinewidth": 0,
              "ticks": ""
             }
            },
            "type": "scattercarpet"
           }
          ],
          "scattergeo": [
           {
            "marker": {
             "colorbar": {
              "outlinewidth": 0,
              "ticks": ""
             }
            },
            "type": "scattergeo"
           }
          ],
          "scattergl": [
           {
            "marker": {
             "colorbar": {
              "outlinewidth": 0,
              "ticks": ""
             }
            },
            "type": "scattergl"
           }
          ],
          "scattermapbox": [
           {
            "marker": {
             "colorbar": {
              "outlinewidth": 0,
              "ticks": ""
             }
            },
            "type": "scattermapbox"
           }
          ],
          "scatterpolar": [
           {
            "marker": {
             "colorbar": {
              "outlinewidth": 0,
              "ticks": ""
             }
            },
            "type": "scatterpolar"
           }
          ],
          "scatterpolargl": [
           {
            "marker": {
             "colorbar": {
              "outlinewidth": 0,
              "ticks": ""
             }
            },
            "type": "scatterpolargl"
           }
          ],
          "scatterternary": [
           {
            "marker": {
             "colorbar": {
              "outlinewidth": 0,
              "ticks": ""
             }
            },
            "type": "scatterternary"
           }
          ],
          "surface": [
           {
            "colorbar": {
             "outlinewidth": 0,
             "ticks": ""
            },
            "colorscale": [
             [
              0,
              "#0d0887"
             ],
             [
              0.1111111111111111,
              "#46039f"
             ],
             [
              0.2222222222222222,
              "#7201a8"
             ],
             [
              0.3333333333333333,
              "#9c179e"
             ],
             [
              0.4444444444444444,
              "#bd3786"
             ],
             [
              0.5555555555555556,
              "#d8576b"
             ],
             [
              0.6666666666666666,
              "#ed7953"
             ],
             [
              0.7777777777777778,
              "#fb9f3a"
             ],
             [
              0.8888888888888888,
              "#fdca26"
             ],
             [
              1,
              "#f0f921"
             ]
            ],
            "type": "surface"
           }
          ],
          "table": [
           {
            "cells": {
             "fill": {
              "color": "#EBF0F8"
             },
             "line": {
              "color": "white"
             }
            },
            "header": {
             "fill": {
              "color": "#C8D4E3"
             },
             "line": {
              "color": "white"
             }
            },
            "type": "table"
           }
          ]
         },
         "layout": {
          "annotationdefaults": {
           "arrowcolor": "#2a3f5f",
           "arrowhead": 0,
           "arrowwidth": 1
          },
          "autotypenumbers": "strict",
          "coloraxis": {
           "colorbar": {
            "outlinewidth": 0,
            "ticks": ""
           }
          },
          "colorscale": {
           "diverging": [
            [
             0,
             "#8e0152"
            ],
            [
             0.1,
             "#c51b7d"
            ],
            [
             0.2,
             "#de77ae"
            ],
            [
             0.3,
             "#f1b6da"
            ],
            [
             0.4,
             "#fde0ef"
            ],
            [
             0.5,
             "#f7f7f7"
            ],
            [
             0.6,
             "#e6f5d0"
            ],
            [
             0.7,
             "#b8e186"
            ],
            [
             0.8,
             "#7fbc41"
            ],
            [
             0.9,
             "#4d9221"
            ],
            [
             1,
             "#276419"
            ]
           ],
           "sequential": [
            [
             0,
             "#0d0887"
            ],
            [
             0.1111111111111111,
             "#46039f"
            ],
            [
             0.2222222222222222,
             "#7201a8"
            ],
            [
             0.3333333333333333,
             "#9c179e"
            ],
            [
             0.4444444444444444,
             "#bd3786"
            ],
            [
             0.5555555555555556,
             "#d8576b"
            ],
            [
             0.6666666666666666,
             "#ed7953"
            ],
            [
             0.7777777777777778,
             "#fb9f3a"
            ],
            [
             0.8888888888888888,
             "#fdca26"
            ],
            [
             1,
             "#f0f921"
            ]
           ],
           "sequentialminus": [
            [
             0,
             "#0d0887"
            ],
            [
             0.1111111111111111,
             "#46039f"
            ],
            [
             0.2222222222222222,
             "#7201a8"
            ],
            [
             0.3333333333333333,
             "#9c179e"
            ],
            [
             0.4444444444444444,
             "#bd3786"
            ],
            [
             0.5555555555555556,
             "#d8576b"
            ],
            [
             0.6666666666666666,
             "#ed7953"
            ],
            [
             0.7777777777777778,
             "#fb9f3a"
            ],
            [
             0.8888888888888888,
             "#fdca26"
            ],
            [
             1,
             "#f0f921"
            ]
           ]
          },
          "colorway": [
           "#636efa",
           "#EF553B",
           "#00cc96",
           "#ab63fa",
           "#FFA15A",
           "#19d3f3",
           "#FF6692",
           "#B6E880",
           "#FF97FF",
           "#FECB52"
          ],
          "font": {
           "color": "#2a3f5f"
          },
          "geo": {
           "bgcolor": "white",
           "lakecolor": "white",
           "landcolor": "#E5ECF6",
           "showlakes": true,
           "showland": true,
           "subunitcolor": "white"
          },
          "hoverlabel": {
           "align": "left"
          },
          "hovermode": "closest",
          "mapbox": {
           "style": "light"
          },
          "paper_bgcolor": "white",
          "plot_bgcolor": "#E5ECF6",
          "polar": {
           "angularaxis": {
            "gridcolor": "white",
            "linecolor": "white",
            "ticks": ""
           },
           "bgcolor": "#E5ECF6",
           "radialaxis": {
            "gridcolor": "white",
            "linecolor": "white",
            "ticks": ""
           }
          },
          "scene": {
           "xaxis": {
            "backgroundcolor": "#E5ECF6",
            "gridcolor": "white",
            "gridwidth": 2,
            "linecolor": "white",
            "showbackground": true,
            "ticks": "",
            "zerolinecolor": "white"
           },
           "yaxis": {
            "backgroundcolor": "#E5ECF6",
            "gridcolor": "white",
            "gridwidth": 2,
            "linecolor": "white",
            "showbackground": true,
            "ticks": "",
            "zerolinecolor": "white"
           },
           "zaxis": {
            "backgroundcolor": "#E5ECF6",
            "gridcolor": "white",
            "gridwidth": 2,
            "linecolor": "white",
            "showbackground": true,
            "ticks": "",
            "zerolinecolor": "white"
           }
          },
          "shapedefaults": {
           "line": {
            "color": "#2a3f5f"
           }
          },
          "ternary": {
           "aaxis": {
            "gridcolor": "white",
            "linecolor": "white",
            "ticks": ""
           },
           "baxis": {
            "gridcolor": "white",
            "linecolor": "white",
            "ticks": ""
           },
           "bgcolor": "#E5ECF6",
           "caxis": {
            "gridcolor": "white",
            "linecolor": "white",
            "ticks": ""
           }
          },
          "title": {
           "x": 0.05
          },
          "xaxis": {
           "automargin": true,
           "gridcolor": "white",
           "linecolor": "white",
           "ticks": "",
           "title": {
            "standoff": 15
           },
           "zerolinecolor": "white",
           "zerolinewidth": 2
          },
          "yaxis": {
           "automargin": true,
           "gridcolor": "white",
           "linecolor": "white",
           "ticks": "",
           "title": {
            "standoff": 15
           },
           "zerolinecolor": "white",
           "zerolinewidth": 2
          }
         }
        },
        "title": {
         "text": "Análisis de ingredientes objetivos FooDB: TSNE con filtro AE."
        },
        "xaxis": {
         "anchor": "y",
         "domain": [
          0,
          1
         ],
         "title": {
          "text": "x1"
         }
        },
        "yaxis": {
         "anchor": "x",
         "domain": [
          0,
          1
         ],
         "title": {
          "text": "x2"
         }
        }
       }
      },
      "text/html": [
       "<div>                            <div id=\"dcbbc2ca-e6f7-442a-9698-dffafc63dcbd\" class=\"plotly-graph-div\" style=\"height:525px; width:100%;\"></div>            <script type=\"text/javascript\">                require([\"plotly\"], function(Plotly) {                    window.PLOTLYENV=window.PLOTLYENV || {};                                    if (document.getElementById(\"dcbbc2ca-e6f7-442a-9698-dffafc63dcbd\")) {                    Plotly.newPlot(                        \"dcbbc2ca-e6f7-442a-9698-dffafc63dcbd\",                        [{\"customdata\":[[\"date, dried\",0],[\"tapioca, pearl, dry\",0],[\"cornstarch\",0],[\"potato flour\",0],[\"spices, dill seed\",0],[\"arrowroot flour\",0],[\"apple, dried\",0],[\"persimmons, japanese, dried\",0]],\"hovertemplate\":\"cluster=%{customdata[1]}<br>x1=%{x}<br>x2=%{y}<br>label=%{customdata[0]}<extra></extra>\",\"legendgroup\":\"0\",\"marker\":{\"color\":\"#636efa\",\"opacity\":0.5,\"size\":15,\"symbol\":\"circle\"},\"mode\":\"markers+text\",\"name\":\"0\",\"orientation\":\"v\",\"showlegend\":true,\"text\":[\"date, dried\",\"tapioca, pearl, dry\",\"cornstarch\",\"potato flour\",\"spices, dill seed\",\"arrowroot flour\",\"apple, dried\",\"persimmons, japanese, dried\"],\"textfont\":{\"size\":7},\"textposition\":\"top center\",\"type\":\"scatter\",\"x\":[10.456348419189453,4.8817219734191895,7.257870674133301,5.852365016937256,11.494754791259766,6.841708183288574,11.603838920593262,10.975410461425781],\"xaxis\":\"x\",\"y\":[54.2921142578125,57.95468521118164,59.091094970703125,57.897403717041016,52.751670837402344,58.14585494995117,56.0249137878418,54.57255554199219],\"yaxis\":\"y\"},{\"customdata\":[[\"cereals, farina, unenriched, dry\",1],[\"corn, dried, yellow (northern plains indians)\",1],[\"cornmeal, yellow (navajo)\",1],[\"cereals, corn grits, white, regular and quick, unenriched, dry\",1],[\"rye flour, dark, whole meal\",1],[\"beans, brown, dried\",1],[\"millet flour\",1],[\"cornmeal, whole-grain, yellow\",1],[\"rye flour, medium\",1],[\"cereals, corn grits, white, regular and quick, unenriched, dry\",1],[\"cornmeal, whole-grain, white\",1],[\"tomatoes, sun-dried\",1],[\"tomato powder\",1],[\"wheat flour, whole-grain\",1],[\"wheat flour\",1],[\"cereals, corn grits, yellow, regular and quick, unenriched, dry\",1],[\"cereals, corn grits, yellow, regular and quick, unenriched, dry\",1],[\"bulgur, dry\",1],[\"barley flour or meal\",1],[\"barley malt flour\",1],[\"corn flour, masa, unenriched, white\",1],[\"cornmeal, white (navajo)\",1],[\"rye flour, light\",1],[\"cereals, oats, regular and quick, not fortified, dry\",1],[\"rye flour, dark\",1],[\"wheat flour, white, all-purpose, unenriched\",1],[\"wheat, flour, wholemeal\",1],[\"triticale flour, whole-grain\",1],[\"tomato, dried\",1],[\"rice, white, with pasta, dry\",1],[\"sorghum flour\",1],[\"mushrooms, shiitake, dried\",1]],\"hovertemplate\":\"cluster=%{customdata[1]}<br>x1=%{x}<br>x2=%{y}<br>label=%{customdata[0]}<extra></extra>\",\"legendgroup\":\"1\",\"marker\":{\"color\":\"#EF553B\",\"opacity\":0.5,\"size\":15,\"symbol\":\"circle\"},\"mode\":\"markers+text\",\"name\":\"1\",\"orientation\":\"v\",\"showlegend\":true,\"text\":[\"cereals, farina, unenriched, dry\",\"corn, dried, yellow (northern plains indians)\",\"cornmeal, yellow (navajo)\",\"cereals, corn grits, white, regular and quick, unenriched, dry\",\"rye flour, dark, whole meal\",\"beans, brown, dried\",\"millet flour\",\"cornmeal, whole-grain, yellow\",\"rye flour, medium\",\"cereals, corn grits, white, regular and quick, unenriched, dry\",\"cornmeal, whole-grain, white\",\"tomatoes, sun-dried\",\"tomato powder\",\"wheat flour, whole-grain\",\"wheat flour\",\"cereals, corn grits, yellow, regular and quick, unenriched, dry\",\"cereals, corn grits, yellow, regular and quick, unenriched, dry\",\"bulgur, dry\",\"barley flour or meal\",\"barley malt flour\",\"corn flour, masa, unenriched, white\",\"cornmeal, white (navajo)\",\"rye flour, light\",\"cereals, oats, regular and quick, not fortified, dry\",\"rye flour, dark\",\"wheat flour, white, all-purpose, unenriched\",\"wheat, flour, wholemeal\",\"triticale flour, whole-grain\",\"tomato, dried\",\"rice, white, with pasta, dry\",\"sorghum flour\",\"mushrooms, shiitake, dried\"],\"textfont\":{\"size\":7},\"textposition\":\"top center\",\"type\":\"scatter\",\"x\":[-5.323807239532471,26.605012893676758,27.713878631591797,30.932458877563477,26.255022048950195,7.454207420349121,26.359590530395508,35.62049865722656,8.909650802612305,29.957706451416016,35.99774932861328,-20.543193817138672,-19.845632553100586,-8.638510704040527,-2.7657318115234375,31.41935920715332,30.45772933959961,-6.942019462585449,8.361286163330078,24.908777236938477,29.41571044921875,27.609830856323242,9.063365936279297,10.426309585571289,-0.8447437286376953,-3.569756031036377,-2.089719295501709,-7.668303489685059,-20.8299560546875,9.204194068908691,34.5048713684082,9.522465705871582],\"xaxis\":\"x\",\"y\":[-84.25130462646484,-72.88152313232422,-77.36209869384766,-80.97879791259766,-78.47696685791016,-70.42225646972656,-72.2674331665039,-80.21688079833984,-73.51383972167969,-81.49108123779297,-79.88037109375,-83.3343276977539,-84.02342987060547,-85.70941925048828,-83.993896484375,-81.95580291748047,-82.45794677734375,-84.56165313720703,-75.40055847167969,-78.81635284423828,-78.94705200195312,-76.09133911132812,-74.1578140258789,-69.03585052490234,-82.10436248779297,-83.83189392089844,-82.97032165527344,-84.43116760253906,-84.17256927490234,-71.20337677001953,-78.13371276855469,-70.37383270263672],\"yaxis\":\"y\"},{\"customdata\":[[\"spices, mustard seed, ground\",2],[\"seeds, safflower seed kernels, dried\",2],[\"seeds, flaxseed\",2],[\"spices, fenugreek seed\",2],[\"seeds, sunflower seed kernels, dried\",2],[\"beans, white, dried\",2],[\"lentils, dried\",2],[\"spices, basil, dried\",2],[\"spices, paprika\",2],[\"nut, hazel (uk), filbert (usa), dried\",2],[\"spices, caraway seed\",2],[\"yeast, dried\",2],[\"seeds, sesame seed kernels, dried (decorticated)\",2],[\"spices, garlic powder\",2],[\"cocoa, powder\",2],[\"pistachio nuts, dried\",2],[\"cocoa, dry powder, unsweetened, processed with alkali\",2],[\"seeds, sesame seeds, whole, dried\",2],[\"walnuts\",2],[\"seeds, sunflower seed kernels, toasted, without salt\",2],[\"cocoa, dry powder, unsweetened\",2],[\"seeds, lotus seeds, dried\",2],[\"nuts, walnuts, black, dried\",2],[\"sesame seeds, whole, dried\",2],[\"spearmint, dried\",2],[\"seeds, sesame meal, partially defatted\",2],[\"spices, parsley, dried\",2],[\"sesame seed, decorticated\",2],[\"seeds, chia seeds, dried\",2],[\"spices, poppy seed\",2],[\"spices, fennel seed\",2]],\"hovertemplate\":\"cluster=%{customdata[1]}<br>x1=%{x}<br>x2=%{y}<br>label=%{customdata[0]}<extra></extra>\",\"legendgroup\":\"2\",\"marker\":{\"color\":\"#00cc96\",\"opacity\":0.5,\"size\":15,\"symbol\":\"circle\"},\"mode\":\"markers+text\",\"name\":\"2\",\"orientation\":\"v\",\"showlegend\":true,\"text\":[\"spices, mustard seed, ground\",\"seeds, safflower seed kernels, dried\",\"seeds, flaxseed\",\"spices, fenugreek seed\",\"seeds, sunflower seed kernels, dried\",\"beans, white, dried\",\"lentils, dried\",\"spices, basil, dried\",\"spices, paprika\",\"nut, hazel (uk), filbert (usa), dried\",\"spices, caraway seed\",\"yeast, dried\",\"seeds, sesame seed kernels, dried (decorticated)\",\"spices, garlic powder\",\"cocoa, powder\",\"pistachio nuts, dried\",\"cocoa, dry powder, unsweetened, processed with alkali\",\"seeds, sesame seeds, whole, dried\",\"walnuts\",\"seeds, sunflower seed kernels, toasted, without salt\",\"cocoa, dry powder, unsweetened\",\"seeds, lotus seeds, dried\",\"nuts, walnuts, black, dried\",\"sesame seeds, whole, dried\",\"spearmint, dried\",\"seeds, sesame meal, partially defatted\",\"spices, parsley, dried\",\"sesame seed, decorticated\",\"seeds, chia seeds, dried\",\"spices, poppy seed\",\"spices, fennel seed\"],\"textfont\":{\"size\":7},\"textposition\":\"top center\",\"type\":\"scatter\",\"x\":[47.67808532714844,28.50649070739746,30.35295867919922,40.662349700927734,54.36930465698242,18.885108947753906,41.15673065185547,22.042720794677734,21.628620147705078,32.579833984375,19.489036560058594,41.758174896240234,55.91184616088867,33.29951858520508,16.263818740844727,29.27638816833496,17.260330200195312,32.23019027709961,58.27604675292969,30.030994415283203,17.88060760498047,21.956544876098633,58.10505676269531,55.4041862487793,17.852941513061523,31.701858520507812,40.59833526611328,55.47349166870117,29.405658721923828,47.21910095214844,15.264290809631348],\"xaxis\":\"x\",\"y\":[-24.548486709594727,-26.71957015991211,-25.78628921508789,-21.719846725463867,-27.643178939819336,-23.993986129760742,-21.806264877319336,-13.74935531616211,-13.904787063598633,-33.86589813232422,-22.696937561035156,-19.47369384765625,-30.58946990966797,-35.131500244140625,-20.716676712036133,-27.962270736694336,-20.851472854614258,-32.66325378417969,-29.203840255737305,-25.18890380859375,-21.489307403564453,-23.46026611328125,-28.591625213623047,-29.828096389770508,-18.976486206054688,-32.49324035644531,-19.803144454956055,-28.89299774169922,-28.807809829711914,-24.358043670654297,-21.786094665527344],\"yaxis\":\"y\"},{\"customdata\":[[\"nuts, ginkgo nuts, dried\",3],[\"carrot, dehydrated\",3],[\"nuts, brazilnuts, dried, unblanched\",3],[\"spices, pepper, black\",3],[\"nuts, pine nuts, pinyon, dried\",3],[\"nuts, pilinuts, dried\",3],[\"buckwheat flour\",3],[\"buckwheat flour, whole-groat\",3],[\"nuts, coconut meat, dried (desiccated), toasted\",3],[\"radishes, oriental, dried\",3],[\"spices, onion powder\",3],[\"wheat flour\",3],[\"nuts, pine nuts, dried\",3],[\"spices, chili powder\",3],[\"nuts, acorn flour, full fat\",3],[\"spices, oregano, dried\",3],[\"peppers, hot chile, sun-dried\",3],[\"nuts, coconut meat, dried (desiccated), creamed\",3],[\"pine nuts, pignolias, dried\",3],[\"peppers, ancho, dried\",3],[\"onions, dehydrated flakes\",3],[\"pecans, dried\",3],[\"nuts, acorns, dried\",3],[\"rice flour\",3],[\"rice flour, brown\",3],[\"spices, ginger, ground\",3],[\"nuts, hickorynuts, dried\",3],[\"garlic, dried, powder\",3],[\"rice flour, white\",3],[\"nuts, chestnuts, chinese, dried\",3],[\"rice, white, long-grain, parboiled, unenriched, dry\",3],[\"seeds, sisymbrium sp. seeds, whole, dried\",3]],\"hovertemplate\":\"cluster=%{customdata[1]}<br>x1=%{x}<br>x2=%{y}<br>label=%{customdata[0]}<extra></extra>\",\"legendgroup\":\"3\",\"marker\":{\"color\":\"#ab63fa\",\"opacity\":0.5,\"size\":15,\"symbol\":\"circle\"},\"mode\":\"markers+text\",\"name\":\"3\",\"orientation\":\"v\",\"showlegend\":true,\"text\":[\"nuts, ginkgo nuts, dried\",\"carrot, dehydrated\",\"nuts, brazilnuts, dried, unblanched\",\"spices, pepper, black\",\"nuts, pine nuts, pinyon, dried\",\"nuts, pilinuts, dried\",\"buckwheat flour\",\"buckwheat flour, whole-groat\",\"nuts, coconut meat, dried (desiccated), toasted\",\"radishes, oriental, dried\",\"spices, onion powder\",\"wheat flour\",\"nuts, pine nuts, dried\",\"spices, chili powder\",\"nuts, acorn flour, full fat\",\"spices, oregano, dried\",\"peppers, hot chile, sun-dried\",\"nuts, coconut meat, dried (desiccated), creamed\",\"pine nuts, pignolias, dried\",\"peppers, ancho, dried\",\"onions, dehydrated flakes\",\"pecans, dried\",\"nuts, acorns, dried\",\"rice flour\",\"rice flour, brown\",\"spices, ginger, ground\",\"nuts, hickorynuts, dried\",\"garlic, dried, powder\",\"rice flour, white\",\"nuts, chestnuts, chinese, dried\",\"rice, white, long-grain, parboiled, unenriched, dry\",\"seeds, sisymbrium sp. seeds, whole, dried\"],\"textfont\":{\"size\":7},\"textposition\":\"top center\",\"type\":\"scatter\",\"x\":[-23.78302764892578,-59.39839553833008,-42.08544921875,-14.314116477966309,-32.22083282470703,-32.306007385253906,-18.548486709594727,-24.955181121826172,-47.84926986694336,-58.083168029785156,-32.07737731933594,-18.548486709594727,-40.60981369018555,-14.925779342651367,-55.411827087402344,-13.41486930847168,-20.73412322998047,-47.81270217895508,-40.47498321533203,-21.1374454498291,-46.20469665527344,-30.346342086791992,-56.17445373535156,-54.485267639160156,-57.80296325683594,-17.830768585205078,-41.80753707885742,-31.737228393554688,-53.369503021240234,-17.36925506591797,-56.744346618652344,-23.310178756713867],\"xaxis\":\"x\",\"y\":[-30.95400047302246,-30.139892578125,-56.701568603515625,-34.060298919677734,-36.84745407104492,-34.66950225830078,-22.280420303344727,-30.63457489013672,-32.57699966430664,-27.55958366394043,-38.0005989074707,-22.280420303344727,-56.470062255859375,-33.569190979003906,-31.53943634033203,-34.78508377075195,-27.5214900970459,-32.1545295715332,-55.620506286621094,-28.009803771972656,-32.51341247558594,-34.543426513671875,-30.91939926147461,-32.29851150512695,-29.13931655883789,-19.99749183654785,-55.70935821533203,-35.169437408447266,-32.81443405151367,-20.39247703552246,-29.813753128051758,-30.070255279541016],\"yaxis\":\"y\"},{\"customdata\":[[\"fig, dried\",4],[\"bananas, dehydrated, or banana powder\",4],[\"carob flour\",4],[\"longans, dried\",4],[\"prune, dried plum\",4],[\"nuts, chestnuts, european, dried, unpeeled\",4],[\"nuts, chestnuts, japanese, dried\",4],[\"spices, cloves, ground\",4],[\"peach, dried\",4],[\"nuts, beechnuts, dried\",4],[\"spices, cinnamon, ground\",4],[\"nuts, chestnuts, european, dried, peeled\",4],[\"apricot, dried\",4]],\"hovertemplate\":\"cluster=%{customdata[1]}<br>x1=%{x}<br>x2=%{y}<br>label=%{customdata[0]}<extra></extra>\",\"legendgroup\":\"4\",\"marker\":{\"color\":\"#FFA15A\",\"opacity\":0.5,\"size\":15,\"symbol\":\"circle\"},\"mode\":\"markers+text\",\"name\":\"4\",\"orientation\":\"v\",\"showlegend\":true,\"text\":[\"fig, dried\",\"bananas, dehydrated, or banana powder\",\"carob flour\",\"longans, dried\",\"prune, dried plum\",\"nuts, chestnuts, european, dried, unpeeled\",\"nuts, chestnuts, japanese, dried\",\"spices, cloves, ground\",\"peach, dried\",\"nuts, beechnuts, dried\",\"spices, cinnamon, ground\",\"nuts, chestnuts, european, dried, peeled\",\"apricot, dried\"],\"textfont\":{\"size\":7},\"textposition\":\"top center\",\"type\":\"scatter\",\"x\":[25.02399253845215,23.062881469726562,23.680252075195312,25.82213020324707,26.111080169677734,16.71399688720703,16.222042083740234,21.749961853027344,25.39983367919922,17.375511169433594,22.223281860351562,18.956092834472656,20.950437545776367],\"xaxis\":\"x\",\"y\":[20.637474060058594,21.125547409057617,22.950424194335938,15.183438301086426,20.546659469604492,16.539897918701172,15.504192352294922,19.73565101623535,14.852231979370117,16.52181053161621,21.472537994384766,17.588834762573242,22.625246047973633],\"yaxis\":\"y\"},{\"customdata\":[[\"seeds, sunflower seed flour, partially defatted\",5],[\"seeds, pumpkin and squash seed kernels, dried\",5],[\"soy flour, defatted\",5],[\"seeds, pumpkin and squash seed kernels, dried\",5],[\"seeds, cottonseed flour, low fat (glandless)\",5],[\"seeds, watermelon seed kernels, dried\",5],[\"seeds, sesame flour, partially defatted\",5],[\"beans, soy, dried\",5],[\"nuts, butternuts, dried\",5],[\"peanut flour, low fat\",5],[\"seeds, sesame flour, low-fat\",5],[\"soya flour, full fat\",5],[\"seeds, cottonseed flour, partially defatted (glandless)\",5],[\"peanut flour, defatted\",5],[\"nut, pea, dried\",5],[\"soy flour, low-fat, crude protein basis (n x 6.25)\",5],[\"seaweed, spirulina, dried\",5],[\"seeds, sesame flour, high-fat\",5],[\"seeds, safflower seed meal, partially defatted\",5],[\"seeds, pumpkin and squash seed kernels, dried\",5],[\"tofu, dried-frozen (koyadofu)\",5],[\"leavening agents, yeast, bakers, active dry\",5],[\"soy flour, defatted, crude protein basis (n x 6.25)\",5]],\"hovertemplate\":\"cluster=%{customdata[1]}<br>x1=%{x}<br>x2=%{y}<br>label=%{customdata[0]}<extra></extra>\",\"legendgroup\":\"5\",\"marker\":{\"color\":\"#19d3f3\",\"opacity\":0.5,\"size\":15,\"symbol\":\"circle\"},\"mode\":\"markers+text\",\"name\":\"5\",\"orientation\":\"v\",\"showlegend\":true,\"text\":[\"seeds, sunflower seed flour, partially defatted\",\"seeds, pumpkin and squash seed kernels, dried\",\"soy flour, defatted\",\"seeds, pumpkin and squash seed kernels, dried\",\"seeds, cottonseed flour, low fat (glandless)\",\"seeds, watermelon seed kernels, dried\",\"seeds, sesame flour, partially defatted\",\"beans, soy, dried\",\"nuts, butternuts, dried\",\"peanut flour, low fat\",\"seeds, sesame flour, low-fat\",\"soya flour, full fat\",\"seeds, cottonseed flour, partially defatted (glandless)\",\"peanut flour, defatted\",\"nut, pea, dried\",\"soy flour, low-fat, crude protein basis (n x 6.25)\",\"seaweed, spirulina, dried\",\"seeds, sesame flour, high-fat\",\"seeds, safflower seed meal, partially defatted\",\"seeds, pumpkin and squash seed kernels, dried\",\"tofu, dried-frozen (koyadofu)\",\"leavening agents, yeast, bakers, active dry\",\"soy flour, defatted, crude protein basis (n x 6.25)\"],\"textfont\":{\"size\":7},\"textposition\":\"top center\",\"type\":\"scatter\",\"x\":[72.13202667236328,89.94755554199219,84.36367797851562,90.88410949707031,70.8993911743164,87.547119140625,74.84235382080078,82.77022552490234,87.85367584228516,85.76827239990234,70.4359359741211,83.6741714477539,74.46172332763672,72.08328247070312,86.20498657226562,84.6583480834961,85.31600189208984,91.78797912597656,85.42887115478516,90.19217681884766,84.04190063476562,82.2472915649414,85.36114501953125],\"xaxis\":\"x\",\"y\":[24.38397216796875,15.16794204711914,-4.645627498626709,14.91594409942627,24.905683517456055,13.63040828704834,21.14766502380371,1.6874510049819946,13.00300121307373,7.888325214385986,25.81389045715332,-0.017655503004789352,21.59054183959961,25.521095275878906,9.134894371032715,-3.663530111312866,-6.33664083480835,12.979424476623535,6.967043399810791,14.229915618896484,-1.0764859914779663,2.2768125534057617,-4.405090808868408],\"yaxis\":\"y\"},{\"customdata\":[[\"cornmeal, degermed, unenriched, white\",6],[\"cornmeal, degermed, unenriched, yellow\",6],[\"corn flour\",6],[\"corn flour, whole-grain, white\",6],[\"corn flour, whole-grain, yellow\",6]],\"hovertemplate\":\"cluster=%{customdata[1]}<br>x1=%{x}<br>x2=%{y}<br>label=%{customdata[0]}<extra></extra>\",\"legendgroup\":\"6\",\"marker\":{\"color\":\"#FF6692\",\"opacity\":0.5,\"size\":15,\"symbol\":\"circle\"},\"mode\":\"markers+text\",\"name\":\"6\",\"orientation\":\"v\",\"showlegend\":true,\"text\":[\"cornmeal, degermed, unenriched, white\",\"cornmeal, degermed, unenriched, yellow\",\"corn flour\",\"corn flour, whole-grain, white\",\"corn flour, whole-grain, yellow\"],\"textfont\":{\"size\":7},\"textposition\":\"top center\",\"type\":\"scatter\",\"x\":[60.929405212402344,61.39321517944336,62.217525482177734,62.33760070800781,62.976295471191406],\"xaxis\":\"x\",\"y\":[-115.8321304321289,-115.60652160644531,-118.32132720947266,-119.5398941040039,-119.2763671875],\"yaxis\":\"y\"},{\"customdata\":[[\"corn starch\",7],[\"baking powder\",7],[\"spices, thyme, dried\",7],[\"litchis, dried\",7],[\"spices, allspice, ground\",7],[\"coffee, dry, powder, with whitener, reduced calorie\",7],[\"spices, sage, ground\",7],[\"spices, anise seed\",7],[\"coffee, dry, powder, with whitener, reduced calorie\",7],[\"coriander, leaf, dried\",7],[\"spices, coriander leaf, dried\",7],[\"spices, coriander seed\",7],[\"spices, saffron\",7],[\"oat flour, partially debranned\",7],[\"spices, chervil, dried\",7],[\"wocas, dried seeds, oregon, yellow pond lily, nuphar lutea (or) - cy0617b\",7],[\"cornmeal, blue (navajo)\",7],[\"spices, nutmeg, ground\",7],[\"spices, celery seed\",7],[\"spices, mace, ground\",7],[\"celery flakes, dried\",7],[\"wheat flour, whole-grain, soft wheat\",7],[\"chickpea flour (besan)\",7],[\"coffee, dry, powder, with whitener, reduced calorie\",7],[\"coffee and cocoa (mocha) powder, with whitener and low calorie sweetener\",7],[\"coffee and cocoa (mocha) powder, with whitener and low calorie sweetener, decaffeinated\",7],[\"spices, pepper, white\",7],[\"spices, turmeric, ground\",7],[\"leavening agents, baking powder, low-sodium\",7],[\"spices, tarragon, dried\",7],[\"leavening agents, baking powder, double-acting, straight phosphate\",7],[\"spices, marjoram, dried\",7],[\"leavening agents, baking powder, double-acting, sodium aluminum sulfate\",7],[\"spices, bay leaf\",7],[\"seaweed, konbu, dried (kelp)\",7],[\"spices, cumin seed\",7],[\"sunflower seeds, decorticated, dried\",7],[\"curry powder\",7],[\"spices, curry powder\",7],[\"jujube, dried\",7],[\"fungi, cloud ears, dried\",7],[\"spices, pepper, red or cayenne\",7],[\"spices, rosemary, dried\",7],[\"pepeao, dried\",7],[\"corn flour, degermed, unenriched, yellow\",7],[\"dill weed, dried\",7],[\"spices, dill weed, dried\",7],[\"cereals, whole wheat hot natural cereal, dry\",7],[\"rose hip, dried, powder\",7],[\"spices, savory, ground\",7],[\"corn flour, whole-grain, blue (harina de maiz morado)\",7],[\"cocoa, dry powder, hi-fat or breakfast, plain\",7],[\"cocoa, dry powder, hi-fat or breakfast, processed with alkali\",7],[\"soy flour, low-fat\",7],[\"fruit, mixed, (prune and apricot and pear), dried\",7],[\"cocoa, dry powder, unsweetened, hersheys european style cocoa\",7],[\"spices, cardamom\",7],[\"currants, zante, dried\",7],[\"peppers, pasilla, dried\",7],[\"seaweed, agar, dried\",7],[\"agave, dried (southwest)\",7],[\"corn, dried (navajo)\",7]],\"hovertemplate\":\"cluster=%{customdata[1]}<br>x1=%{x}<br>x2=%{y}<br>label=%{customdata[0]}<extra></extra>\",\"legendgroup\":\"7\",\"marker\":{\"color\":\"#B6E880\",\"opacity\":0.5,\"size\":15,\"symbol\":\"circle\"},\"mode\":\"markers+text\",\"name\":\"7\",\"orientation\":\"v\",\"showlegend\":true,\"text\":[\"corn starch\",\"baking powder\",\"spices, thyme, dried\",\"litchis, dried\",\"spices, allspice, ground\",\"coffee, dry, powder, with whitener, reduced calorie\",\"spices, sage, ground\",\"spices, anise seed\",\"coffee, dry, powder, with whitener, reduced calorie\",\"coriander, leaf, dried\",\"spices, coriander leaf, dried\",\"spices, coriander seed\",\"spices, saffron\",\"oat flour, partially debranned\",\"spices, chervil, dried\",\"wocas, dried seeds, oregon, yellow pond lily, nuphar lutea (or) - cy0617b\",\"cornmeal, blue (navajo)\",\"spices, nutmeg, ground\",\"spices, celery seed\",\"spices, mace, ground\",\"celery flakes, dried\",\"wheat flour, whole-grain, soft wheat\",\"chickpea flour (besan)\",\"coffee, dry, powder, with whitener, reduced calorie\",\"coffee and cocoa (mocha) powder, with whitener and low calorie sweetener\",\"coffee and cocoa (mocha) powder, with whitener and low calorie sweetener, decaffeinated\",\"spices, pepper, white\",\"spices, turmeric, ground\",\"leavening agents, baking powder, low-sodium\",\"spices, tarragon, dried\",\"leavening agents, baking powder, double-acting, straight phosphate\",\"spices, marjoram, dried\",\"leavening agents, baking powder, double-acting, sodium aluminum sulfate\",\"spices, bay leaf\",\"seaweed, konbu, dried (kelp)\",\"spices, cumin seed\",\"sunflower seeds, decorticated, dried\",\"curry powder\",\"spices, curry powder\",\"jujube, dried\",\"fungi, cloud ears, dried\",\"spices, pepper, red or cayenne\",\"spices, rosemary, dried\",\"pepeao, dried\",\"corn flour, degermed, unenriched, yellow\",\"dill weed, dried\",\"spices, dill weed, dried\",\"cereals, whole wheat hot natural cereal, dry\",\"rose hip, dried, powder\",\"spices, savory, ground\",\"corn flour, whole-grain, blue (harina de maiz morado)\",\"cocoa, dry powder, hi-fat or breakfast, plain\",\"cocoa, dry powder, hi-fat or breakfast, processed with alkali\",\"soy flour, low-fat\",\"fruit, mixed, (prune and apricot and pear), dried\",\"cocoa, dry powder, unsweetened, hersheys european style cocoa\",\"spices, cardamom\",\"currants, zante, dried\",\"peppers, pasilla, dried\",\"seaweed, agar, dried\",\"agave, dried (southwest)\",\"corn, dried (navajo)\"],\"textfont\":{\"size\":7},\"textposition\":\"top center\",\"type\":\"scatter\",\"x\":[-34.42293167114258,-38.97783279418945,-37.23577117919922,-37.51869201660156,-36.43553924560547,-35.83533477783203,-38.244720458984375,-39.00215148925781,-46.712074279785156,-43.80796813964844,-43.12919616699219,-37.89869689941406,-38.86674118041992,-32.70543670654297,-44.37764358520508,-34.062164306640625,-26.522319793701172,-50.199462890625,-30.452096939086914,-41.530948638916016,-43.764183044433594,-39.97559356689453,-36.0419807434082,-39.276180267333984,-37.723976135253906,-36.658180236816406,-40.94685745239258,-44.1085205078125,-34.30096435546875,-48.84993362426758,-27.415618896484375,-40.97462463378906,-37.255035400390625,-26.75060272216797,-39.74265670776367,-31.23955535888672,-31.16779327392578,-31.19516372680664,-41.580196380615234,-32.245113372802734,-27.769819259643555,-43.026947021484375,-45.69462203979492,-40.838645935058594,-50.75788879394531,-33.400733947753906,-48.18053436279297,-28.93675422668457,-43.797508239746094,-27.6485652923584,-24.436826705932617,-33.85663604736328,-37.56861114501953,-35.1322021484375,-31.61469841003418,-31.255067825317383,-47.0806999206543,-23.31812286376953,-35.53902053833008,-37.45663833618164,-35.13447189331055,-36.065635681152344],\"xaxis\":\"x\",\"y\":[49.38242721557617,48.78546142578125,50.75215148925781,49.34728240966797,52.07944107055664,48.187355041503906,51.945369720458984,50.45051956176758,53.90805435180664,62.20484924316406,37.40388107299805,36.766448974609375,45.72346496582031,37.267982482910156,57.87166976928711,53.4600715637207,44.225162506103516,46.391361236572266,45.37154769897461,49.84519577026367,41.80171203613281,40.77711486816406,45.5546989440918,54.30280303955078,43.15133285522461,54.487144470214844,52.33344650268555,51.30183792114258,56.375755310058594,57.89508819580078,39.6576042175293,47.272918701171875,63.9954948425293,59.56928253173828,60.380271911621094,54.42097091674805,41.62128448486328,58.08346176147461,44.446067810058594,51.35127258300781,48.27639389038086,54.38509750366211,45.19593811035156,56.80523681640625,52.029090881347656,46.73370361328125,41.295127868652344,51.60066604614258,47.837406158447266,55.32083511352539,52.68073272705078,43.69923782348633,57.25566482543945,59.93034744262695,62.5896110534668,48.701148986816406,49.37089538574219,47.999237060546875,40.53367614746094,47.79863357543945,51.069156646728516,49.776302337646484],\"yaxis\":\"y\"}],                        {\"legend\":{\"title\":{\"text\":\"cluster\"},\"tracegroupgap\":0},\"margin\":{\"t\":60},\"template\":{\"data\":{\"bar\":[{\"error_x\":{\"color\":\"#2a3f5f\"},\"error_y\":{\"color\":\"#2a3f5f\"},\"marker\":{\"line\":{\"color\":\"#E5ECF6\",\"width\":0.5},\"pattern\":{\"fillmode\":\"overlay\",\"size\":10,\"solidity\":0.2}},\"type\":\"bar\"}],\"barpolar\":[{\"marker\":{\"line\":{\"color\":\"#E5ECF6\",\"width\":0.5},\"pattern\":{\"fillmode\":\"overlay\",\"size\":10,\"solidity\":0.2}},\"type\":\"barpolar\"}],\"carpet\":[{\"aaxis\":{\"endlinecolor\":\"#2a3f5f\",\"gridcolor\":\"white\",\"linecolor\":\"white\",\"minorgridcolor\":\"white\",\"startlinecolor\":\"#2a3f5f\"},\"baxis\":{\"endlinecolor\":\"#2a3f5f\",\"gridcolor\":\"white\",\"linecolor\":\"white\",\"minorgridcolor\":\"white\",\"startlinecolor\":\"#2a3f5f\"},\"type\":\"carpet\"}],\"choropleth\":[{\"colorbar\":{\"outlinewidth\":0,\"ticks\":\"\"},\"type\":\"choropleth\"}],\"contour\":[{\"colorbar\":{\"outlinewidth\":0,\"ticks\":\"\"},\"colorscale\":[[0.0,\"#0d0887\"],[0.1111111111111111,\"#46039f\"],[0.2222222222222222,\"#7201a8\"],[0.3333333333333333,\"#9c179e\"],[0.4444444444444444,\"#bd3786\"],[0.5555555555555556,\"#d8576b\"],[0.6666666666666666,\"#ed7953\"],[0.7777777777777778,\"#fb9f3a\"],[0.8888888888888888,\"#fdca26\"],[1.0,\"#f0f921\"]],\"type\":\"contour\"}],\"contourcarpet\":[{\"colorbar\":{\"outlinewidth\":0,\"ticks\":\"\"},\"type\":\"contourcarpet\"}],\"heatmap\":[{\"colorbar\":{\"outlinewidth\":0,\"ticks\":\"\"},\"colorscale\":[[0.0,\"#0d0887\"],[0.1111111111111111,\"#46039f\"],[0.2222222222222222,\"#7201a8\"],[0.3333333333333333,\"#9c179e\"],[0.4444444444444444,\"#bd3786\"],[0.5555555555555556,\"#d8576b\"],[0.6666666666666666,\"#ed7953\"],[0.7777777777777778,\"#fb9f3a\"],[0.8888888888888888,\"#fdca26\"],[1.0,\"#f0f921\"]],\"type\":\"heatmap\"}],\"heatmapgl\":[{\"colorbar\":{\"outlinewidth\":0,\"ticks\":\"\"},\"colorscale\":[[0.0,\"#0d0887\"],[0.1111111111111111,\"#46039f\"],[0.2222222222222222,\"#7201a8\"],[0.3333333333333333,\"#9c179e\"],[0.4444444444444444,\"#bd3786\"],[0.5555555555555556,\"#d8576b\"],[0.6666666666666666,\"#ed7953\"],[0.7777777777777778,\"#fb9f3a\"],[0.8888888888888888,\"#fdca26\"],[1.0,\"#f0f921\"]],\"type\":\"heatmapgl\"}],\"histogram\":[{\"marker\":{\"pattern\":{\"fillmode\":\"overlay\",\"size\":10,\"solidity\":0.2}},\"type\":\"histogram\"}],\"histogram2d\":[{\"colorbar\":{\"outlinewidth\":0,\"ticks\":\"\"},\"colorscale\":[[0.0,\"#0d0887\"],[0.1111111111111111,\"#46039f\"],[0.2222222222222222,\"#7201a8\"],[0.3333333333333333,\"#9c179e\"],[0.4444444444444444,\"#bd3786\"],[0.5555555555555556,\"#d8576b\"],[0.6666666666666666,\"#ed7953\"],[0.7777777777777778,\"#fb9f3a\"],[0.8888888888888888,\"#fdca26\"],[1.0,\"#f0f921\"]],\"type\":\"histogram2d\"}],\"histogram2dcontour\":[{\"colorbar\":{\"outlinewidth\":0,\"ticks\":\"\"},\"colorscale\":[[0.0,\"#0d0887\"],[0.1111111111111111,\"#46039f\"],[0.2222222222222222,\"#7201a8\"],[0.3333333333333333,\"#9c179e\"],[0.4444444444444444,\"#bd3786\"],[0.5555555555555556,\"#d8576b\"],[0.6666666666666666,\"#ed7953\"],[0.7777777777777778,\"#fb9f3a\"],[0.8888888888888888,\"#fdca26\"],[1.0,\"#f0f921\"]],\"type\":\"histogram2dcontour\"}],\"mesh3d\":[{\"colorbar\":{\"outlinewidth\":0,\"ticks\":\"\"},\"type\":\"mesh3d\"}],\"parcoords\":[{\"line\":{\"colorbar\":{\"outlinewidth\":0,\"ticks\":\"\"}},\"type\":\"parcoords\"}],\"pie\":[{\"automargin\":true,\"type\":\"pie\"}],\"scatter\":[{\"marker\":{\"colorbar\":{\"outlinewidth\":0,\"ticks\":\"\"}},\"type\":\"scatter\"}],\"scatter3d\":[{\"line\":{\"colorbar\":{\"outlinewidth\":0,\"ticks\":\"\"}},\"marker\":{\"colorbar\":{\"outlinewidth\":0,\"ticks\":\"\"}},\"type\":\"scatter3d\"}],\"scattercarpet\":[{\"marker\":{\"colorbar\":{\"outlinewidth\":0,\"ticks\":\"\"}},\"type\":\"scattercarpet\"}],\"scattergeo\":[{\"marker\":{\"colorbar\":{\"outlinewidth\":0,\"ticks\":\"\"}},\"type\":\"scattergeo\"}],\"scattergl\":[{\"marker\":{\"colorbar\":{\"outlinewidth\":0,\"ticks\":\"\"}},\"type\":\"scattergl\"}],\"scattermapbox\":[{\"marker\":{\"colorbar\":{\"outlinewidth\":0,\"ticks\":\"\"}},\"type\":\"scattermapbox\"}],\"scatterpolar\":[{\"marker\":{\"colorbar\":{\"outlinewidth\":0,\"ticks\":\"\"}},\"type\":\"scatterpolar\"}],\"scatterpolargl\":[{\"marker\":{\"colorbar\":{\"outlinewidth\":0,\"ticks\":\"\"}},\"type\":\"scatterpolargl\"}],\"scatterternary\":[{\"marker\":{\"colorbar\":{\"outlinewidth\":0,\"ticks\":\"\"}},\"type\":\"scatterternary\"}],\"surface\":[{\"colorbar\":{\"outlinewidth\":0,\"ticks\":\"\"},\"colorscale\":[[0.0,\"#0d0887\"],[0.1111111111111111,\"#46039f\"],[0.2222222222222222,\"#7201a8\"],[0.3333333333333333,\"#9c179e\"],[0.4444444444444444,\"#bd3786\"],[0.5555555555555556,\"#d8576b\"],[0.6666666666666666,\"#ed7953\"],[0.7777777777777778,\"#fb9f3a\"],[0.8888888888888888,\"#fdca26\"],[1.0,\"#f0f921\"]],\"type\":\"surface\"}],\"table\":[{\"cells\":{\"fill\":{\"color\":\"#EBF0F8\"},\"line\":{\"color\":\"white\"}},\"header\":{\"fill\":{\"color\":\"#C8D4E3\"},\"line\":{\"color\":\"white\"}},\"type\":\"table\"}]},\"layout\":{\"annotationdefaults\":{\"arrowcolor\":\"#2a3f5f\",\"arrowhead\":0,\"arrowwidth\":1},\"autotypenumbers\":\"strict\",\"coloraxis\":{\"colorbar\":{\"outlinewidth\":0,\"ticks\":\"\"}},\"colorscale\":{\"diverging\":[[0,\"#8e0152\"],[0.1,\"#c51b7d\"],[0.2,\"#de77ae\"],[0.3,\"#f1b6da\"],[0.4,\"#fde0ef\"],[0.5,\"#f7f7f7\"],[0.6,\"#e6f5d0\"],[0.7,\"#b8e186\"],[0.8,\"#7fbc41\"],[0.9,\"#4d9221\"],[1,\"#276419\"]],\"sequential\":[[0.0,\"#0d0887\"],[0.1111111111111111,\"#46039f\"],[0.2222222222222222,\"#7201a8\"],[0.3333333333333333,\"#9c179e\"],[0.4444444444444444,\"#bd3786\"],[0.5555555555555556,\"#d8576b\"],[0.6666666666666666,\"#ed7953\"],[0.7777777777777778,\"#fb9f3a\"],[0.8888888888888888,\"#fdca26\"],[1.0,\"#f0f921\"]],\"sequentialminus\":[[0.0,\"#0d0887\"],[0.1111111111111111,\"#46039f\"],[0.2222222222222222,\"#7201a8\"],[0.3333333333333333,\"#9c179e\"],[0.4444444444444444,\"#bd3786\"],[0.5555555555555556,\"#d8576b\"],[0.6666666666666666,\"#ed7953\"],[0.7777777777777778,\"#fb9f3a\"],[0.8888888888888888,\"#fdca26\"],[1.0,\"#f0f921\"]]},\"colorway\":[\"#636efa\",\"#EF553B\",\"#00cc96\",\"#ab63fa\",\"#FFA15A\",\"#19d3f3\",\"#FF6692\",\"#B6E880\",\"#FF97FF\",\"#FECB52\"],\"font\":{\"color\":\"#2a3f5f\"},\"geo\":{\"bgcolor\":\"white\",\"lakecolor\":\"white\",\"landcolor\":\"#E5ECF6\",\"showlakes\":true,\"showland\":true,\"subunitcolor\":\"white\"},\"hoverlabel\":{\"align\":\"left\"},\"hovermode\":\"closest\",\"mapbox\":{\"style\":\"light\"},\"paper_bgcolor\":\"white\",\"plot_bgcolor\":\"#E5ECF6\",\"polar\":{\"angularaxis\":{\"gridcolor\":\"white\",\"linecolor\":\"white\",\"ticks\":\"\"},\"bgcolor\":\"#E5ECF6\",\"radialaxis\":{\"gridcolor\":\"white\",\"linecolor\":\"white\",\"ticks\":\"\"}},\"scene\":{\"xaxis\":{\"backgroundcolor\":\"#E5ECF6\",\"gridcolor\":\"white\",\"gridwidth\":2,\"linecolor\":\"white\",\"showbackground\":true,\"ticks\":\"\",\"zerolinecolor\":\"white\"},\"yaxis\":{\"backgroundcolor\":\"#E5ECF6\",\"gridcolor\":\"white\",\"gridwidth\":2,\"linecolor\":\"white\",\"showbackground\":true,\"ticks\":\"\",\"zerolinecolor\":\"white\"},\"zaxis\":{\"backgroundcolor\":\"#E5ECF6\",\"gridcolor\":\"white\",\"gridwidth\":2,\"linecolor\":\"white\",\"showbackground\":true,\"ticks\":\"\",\"zerolinecolor\":\"white\"}},\"shapedefaults\":{\"line\":{\"color\":\"#2a3f5f\"}},\"ternary\":{\"aaxis\":{\"gridcolor\":\"white\",\"linecolor\":\"white\",\"ticks\":\"\"},\"baxis\":{\"gridcolor\":\"white\",\"linecolor\":\"white\",\"ticks\":\"\"},\"bgcolor\":\"#E5ECF6\",\"caxis\":{\"gridcolor\":\"white\",\"linecolor\":\"white\",\"ticks\":\"\"}},\"title\":{\"x\":0.05},\"xaxis\":{\"automargin\":true,\"gridcolor\":\"white\",\"linecolor\":\"white\",\"ticks\":\"\",\"title\":{\"standoff\":15},\"zerolinecolor\":\"white\",\"zerolinewidth\":2},\"yaxis\":{\"automargin\":true,\"gridcolor\":\"white\",\"linecolor\":\"white\",\"ticks\":\"\",\"title\":{\"standoff\":15},\"zerolinecolor\":\"white\",\"zerolinewidth\":2}}},\"title\":{\"text\":\"An\\u00e1lisis de ingredientes objetivos FooDB: TSNE con filtro AE.\"},\"xaxis\":{\"anchor\":\"y\",\"domain\":[0.0,1.0],\"title\":{\"text\":\"x1\"}},\"yaxis\":{\"anchor\":\"x\",\"domain\":[0.0,1.0],\"title\":{\"text\":\"x2\"}}},                        {\"responsive\": true}                    ).then(function(){\n",
       "                            \n",
       "var gd = document.getElementById('dcbbc2ca-e6f7-442a-9698-dffafc63dcbd');\n",
       "var x = new MutationObserver(function (mutations, observer) {{\n",
       "        var display = window.getComputedStyle(gd).display;\n",
       "        if (!display || display === 'none') {{\n",
       "            console.log([gd, 'removed!']);\n",
       "            Plotly.purge(gd);\n",
       "            observer.disconnect();\n",
       "        }}\n",
       "}});\n",
       "\n",
       "// Listen for the removal of the full notebook cells\n",
       "var notebookContainer = gd.closest('#notebook-container');\n",
       "if (notebookContainer) {{\n",
       "    x.observe(notebookContainer, {childList: true});\n",
       "}}\n",
       "\n",
       "// Listen for the clearing of the current output cell\n",
       "var outputEl = gd.closest('.output');\n",
       "if (outputEl) {{\n",
       "    x.observe(outputEl, {childList: true});\n",
       "}}\n",
       "\n",
       "                        })                };                });            </script>        </div>"
      ]
     },
     "metadata": {},
     "output_type": "display_data"
    },
    {
     "name": "stdout",
     "output_type": "stream",
     "text": [
      "Getting T-SNE from group ANE...\n"
     ]
    },
    {
     "data": {
      "application/vnd.plotly.v1+json": {
       "config": {
        "plotlyServerURL": "https://plot.ly"
       },
       "data": [
        {
         "customdata": [
          [
           "date, dried",
           0
          ],
          [
           "cereals, farina, unenriched, dry",
           0
          ],
          [
           "fig, dried",
           0
          ],
          [
           "carrot, dehydrated",
           0
          ],
          [
           "tapioca, pearl, dry",
           0
          ],
          [
           "bananas, dehydrated, or banana powder",
           0
          ],
          [
           "rye flour, dark, whole meal",
           0
          ],
          [
           "carob flour",
           0
          ],
          [
           "longans, dried",
           0
          ],
          [
           "prune, dried plum",
           0
          ],
          [
           "buckwheat flour",
           0
          ],
          [
           "nuts, coconut meat, dried (desiccated), toasted",
           0
          ],
          [
           "radishes, oriental, dried",
           0
          ],
          [
           "spices, onion powder",
           0
          ],
          [
           "wheat flour",
           0
          ],
          [
           "spices, chili powder",
           0
          ],
          [
           "nuts, acorn flour, full fat",
           0
          ],
          [
           "peppers, hot chile, sun-dried",
           0
          ],
          [
           "nuts, coconut meat, dried (desiccated), creamed",
           0
          ],
          [
           "rye flour, medium",
           0
          ],
          [
           "peppers, ancho, dried",
           0
          ],
          [
           "cornstarch",
           0
          ],
          [
           "tomatoes, sun-dried",
           0
          ],
          [
           "onions, dehydrated flakes",
           0
          ],
          [
           "potato flour",
           0
          ],
          [
           "tomato powder",
           0
          ],
          [
           "pecans, dried",
           0
          ],
          [
           "wheat flour",
           0
          ],
          [
           "nuts, chestnuts, european, dried, unpeeled",
           0
          ],
          [
           "nuts, acorns, dried",
           0
          ],
          [
           "nuts, chestnuts, japanese, dried",
           0
          ],
          [
           "rice flour",
           0
          ],
          [
           "barley malt flour",
           0
          ],
          [
           "spices, cloves, ground",
           0
          ],
          [
           "rice flour, brown",
           0
          ],
          [
           "peach, dried",
           0
          ],
          [
           "spices, ginger, ground",
           0
          ],
          [
           "arrowroot flour",
           0
          ],
          [
           "rye flour, light",
           0
          ],
          [
           "nuts, beechnuts, dried",
           0
          ],
          [
           "apple, dried",
           0
          ],
          [
           "persimmons, japanese, dried",
           0
          ],
          [
           "spices, cinnamon, ground",
           0
          ],
          [
           "rice flour, white",
           0
          ],
          [
           "nuts, chestnuts, chinese, dried",
           0
          ],
          [
           "rice, white, long-grain, parboiled, unenriched, dry",
           0
          ],
          [
           "nuts, chestnuts, european, dried, peeled",
           0
          ],
          [
           "wheat flour, white, all-purpose, unenriched",
           0
          ],
          [
           "tomato, dried",
           0
          ],
          [
           "rice, white, with pasta, dry",
           0
          ],
          [
           "mushrooms, shiitake, dried",
           0
          ],
          [
           "apricot, dried",
           0
          ],
          [
           "spices, thyme, dried",
           0
          ],
          [
           "litchis, dried",
           0
          ]
         ],
         "hovertemplate": "cluster=%{customdata[1]}<br>x1=%{x}<br>x2=%{y}<br>label=%{customdata[0]}<extra></extra>",
         "legendgroup": "0",
         "marker": {
          "color": "#636efa",
          "opacity": 0.5,
          "size": 15,
          "symbol": "circle"
         },
         "mode": "markers+text",
         "name": "0",
         "orientation": "v",
         "showlegend": true,
         "text": [
          "date, dried",
          "cereals, farina, unenriched, dry",
          "fig, dried",
          "carrot, dehydrated",
          "tapioca, pearl, dry",
          "bananas, dehydrated, or banana powder",
          "rye flour, dark, whole meal",
          "carob flour",
          "longans, dried",
          "prune, dried plum",
          "buckwheat flour",
          "nuts, coconut meat, dried (desiccated), toasted",
          "radishes, oriental, dried",
          "spices, onion powder",
          "wheat flour",
          "spices, chili powder",
          "nuts, acorn flour, full fat",
          "peppers, hot chile, sun-dried",
          "nuts, coconut meat, dried (desiccated), creamed",
          "rye flour, medium",
          "peppers, ancho, dried",
          "cornstarch",
          "tomatoes, sun-dried",
          "onions, dehydrated flakes",
          "potato flour",
          "tomato powder",
          "pecans, dried",
          "wheat flour",
          "nuts, chestnuts, european, dried, unpeeled",
          "nuts, acorns, dried",
          "nuts, chestnuts, japanese, dried",
          "rice flour",
          "barley malt flour",
          "spices, cloves, ground",
          "rice flour, brown",
          "peach, dried",
          "spices, ginger, ground",
          "arrowroot flour",
          "rye flour, light",
          "nuts, beechnuts, dried",
          "apple, dried",
          "persimmons, japanese, dried",
          "spices, cinnamon, ground",
          "rice flour, white",
          "nuts, chestnuts, chinese, dried",
          "rice, white, long-grain, parboiled, unenriched, dry",
          "nuts, chestnuts, european, dried, peeled",
          "wheat flour, white, all-purpose, unenriched",
          "tomato, dried",
          "rice, white, with pasta, dry",
          "mushrooms, shiitake, dried",
          "apricot, dried",
          "spices, thyme, dried",
          "litchis, dried"
         ],
         "textfont": {
          "size": 7
         },
         "textposition": "top center",
         "type": "scatter",
         "x": [
          5.453982830047607,
          -32.75748062133789,
          0.3925926387310028,
          -24.095478057861328,
          14.8358736038208,
          -16.95904541015625,
          -34.06085968017578,
          -14.523443222045898,
          -1.7063933610916138,
          5.500565052032471,
          -32.42510986328125,
          -17.028881072998047,
          -24.703449249267578,
          -17.75755500793457,
          -32.26811599731445,
          -33.82927322387695,
          -46.10725784301758,
          -49.276145935058594,
          -16.551130294799805,
          -23.012224197387695,
          -49.28778839111328,
          11.697659492492676,
          -48.22808074951172,
          -19.420717239379883,
          13.902719497680664,
          -21.826488494873047,
          -26.862659454345703,
          -32.85456848144531,
          -23.71660614013672,
          -46.58341979980469,
          -19.28219223022461,
          -30.173099517822266,
          -48.795570373535156,
          -21.758420944213867,
          -29.259967803955078,
          -3.3145267963409424,
          -28.605077743530273,
          12.828367233276367,
          -22.952098846435547,
          -22.802980422973633,
          9.109313011169434,
          4.38380765914917,
          -3.002446413040161,
          -17.94167709350586,
          -25.340410232543945,
          -29.411399841308594,
          -18.264223098754883,
          -31.619081497192383,
          -48.8488883972168,
          -33.1334342956543,
          -34.21099090576172,
          1.188486933708191,
          -12.96051025390625,
          8.355611801147461
         ],
         "xaxis": "x",
         "y": [
          -15.078701972961426,
          34.164974212646484,
          -13.31580638885498,
          -7.190032482147217,
          -21.093097686767578,
          5.322134971618652,
          25.904380798339844,
          8.559895515441895,
          -12.246112823486328,
          -16.30710792541504,
          0.7732549905776978,
          7.477940082550049,
          -7.5312042236328125,
          -4.579949855804443,
          1.346473217010498,
          25.151823043823242,
          16.438650131225586,
          15.769919395446777,
          7.7084808349609375,
          19.875585556030273,
          16.66086196899414,
          -19.490915298461914,
          12.598451614379883,
          -4.322007656097412,
          -20.648344039916992,
          -3.965500831604004,
          -1.0609592199325562,
          33.175376892089844,
          -1.6090656518936157,
          17.02207374572754,
          -1.0808746814727783,
          22.46323013305664,
          18.661590576171875,
          -0.09187062829732895,
          21.315990447998047,
          -12.675357818603516,
          19.71308135986328,
          -20.134197235107422,
          19.18015480041504,
          -1.721893548965454,
          -18.993160247802734,
          -15.490669250488281,
          -10.97140884399414,
          9.055809020996094,
          -1.3737947940826416,
          22.832077026367188,
          -0.7619507908821106,
          34.25849533081055,
          12.766809463500977,
          32.029869079589844,
          28.44451904296875,
          -13.72685432434082,
          9.081948280334473,
          -20.196460723876953
         ],
         "yaxis": "y"
        },
        {
         "customdata": [
          [
           "corn, dried, yellow (northern plains indians)",
           1
          ],
          [
           "cornmeal, yellow (navajo)",
           1
          ],
          [
           "cereals, corn grits, white, regular and quick, unenriched, dry",
           1
          ],
          [
           "spices, pepper, black",
           1
          ],
          [
           "cornmeal, degermed, unenriched, white",
           1
          ],
          [
           "millet flour",
           1
          ],
          [
           "cornmeal, whole-grain, yellow",
           1
          ],
          [
           "cereals, corn grits, white, regular and quick, unenriched, dry",
           1
          ],
          [
           "cornmeal, whole-grain, white",
           1
          ],
          [
           "cornmeal, degermed, unenriched, yellow",
           1
          ],
          [
           "cereals, corn grits, yellow, regular and quick, unenriched, dry",
           1
          ],
          [
           "cereals, corn grits, yellow, regular and quick, unenriched, dry",
           1
          ],
          [
           "corn flour",
           1
          ],
          [
           "corn flour, masa, unenriched, white",
           1
          ],
          [
           "cornmeal, white (navajo)",
           1
          ],
          [
           "corn flour, whole-grain, white",
           1
          ],
          [
           "corn flour, whole-grain, yellow",
           1
          ],
          [
           "sorghum flour",
           1
          ]
         ],
         "hovertemplate": "cluster=%{customdata[1]}<br>x1=%{x}<br>x2=%{y}<br>label=%{customdata[0]}<extra></extra>",
         "legendgroup": "1",
         "marker": {
          "color": "#EF553B",
          "opacity": 0.5,
          "size": 15,
          "symbol": "circle"
         },
         "mode": "markers+text",
         "name": "1",
         "orientation": "v",
         "showlegend": true,
         "text": [
          "corn, dried, yellow (northern plains indians)",
          "cornmeal, yellow (navajo)",
          "cereals, corn grits, white, regular and quick, unenriched, dry",
          "spices, pepper, black",
          "cornmeal, degermed, unenriched, white",
          "millet flour",
          "cornmeal, whole-grain, yellow",
          "cereals, corn grits, white, regular and quick, unenriched, dry",
          "cornmeal, whole-grain, white",
          "cornmeal, degermed, unenriched, yellow",
          "cereals, corn grits, yellow, regular and quick, unenriched, dry",
          "cereals, corn grits, yellow, regular and quick, unenriched, dry",
          "corn flour",
          "corn flour, masa, unenriched, white",
          "cornmeal, white (navajo)",
          "corn flour, whole-grain, white",
          "corn flour, whole-grain, yellow",
          "sorghum flour"
         ],
         "textfont": {
          "size": 7
         },
         "textposition": "top center",
         "type": "scatter",
         "x": [
          58.46332550048828,
          56.27091598510742,
          47.54250717163086,
          42.718833923339844,
          33.6393928527832,
          58.248165130615234,
          40.110267639160156,
          47.66200256347656,
          40.15701675415039,
          33.6787223815918,
          46.38081741333008,
          46.50068664550781,
          28.449350357055664,
          49.850868225097656,
          57.116268157958984,
          27.420690536499023,
          27.517181396484375,
          38.14421463012695
         ],
         "xaxis": "x",
         "y": [
          34.21759033203125,
          34.87105178833008,
          34.7741584777832,
          33.637115478515625,
          34.027008056640625,
          36.18473434448242,
          33.66373825073242,
          33.53268814086914,
          34.29054260253906,
          34.63404846191406,
          34.6422233581543,
          33.42595291137695,
          34.79473114013672,
          34.32740020751953,
          34.9156379699707,
          34.38285446166992,
          35.395938873291016,
          34.09279251098633
         ],
         "yaxis": "y"
        },
        {
         "customdata": [
          [
           "spices, mustard seed, ground",
           2
          ],
          [
           "seeds, safflower seed kernels, dried",
           2
          ],
          [
           "seeds, flaxseed",
           2
          ],
          [
           "spices, fenugreek seed",
           2
          ],
          [
           "seeds, sunflower seed kernels, dried",
           2
          ],
          [
           "beans, white, dried",
           2
          ],
          [
           "lentils, dried",
           2
          ],
          [
           "beans, brown, dried",
           2
          ],
          [
           "spices, basil, dried",
           2
          ],
          [
           "nut, hazel (uk), filbert (usa), dried",
           2
          ],
          [
           "spices, caraway seed",
           2
          ],
          [
           "seeds, sesame seed kernels, dried (decorticated)",
           2
          ],
          [
           "cocoa, powder",
           2
          ],
          [
           "pistachio nuts, dried",
           2
          ],
          [
           "cocoa, dry powder, unsweetened, processed with alkali",
           2
          ],
          [
           "seeds, sesame seeds, whole, dried",
           2
          ],
          [
           "walnuts",
           2
          ],
          [
           "seeds, sunflower seed kernels, toasted, without salt",
           2
          ],
          [
           "cocoa, dry powder, unsweetened",
           2
          ],
          [
           "spices, dill seed",
           2
          ],
          [
           "seeds, lotus seeds, dried",
           2
          ],
          [
           "nuts, walnuts, black, dried",
           2
          ],
          [
           "sesame seeds, whole, dried",
           2
          ],
          [
           "spearmint, dried",
           2
          ],
          [
           "seeds, sesame meal, partially defatted",
           2
          ],
          [
           "sesame seed, decorticated",
           2
          ],
          [
           "seeds, chia seeds, dried",
           2
          ],
          [
           "spices, poppy seed",
           2
          ],
          [
           "spices, fennel seed",
           2
          ],
          [
           "seeds, sisymbrium sp. seeds, whole, dried",
           2
          ]
         ],
         "hovertemplate": "cluster=%{customdata[1]}<br>x1=%{x}<br>x2=%{y}<br>label=%{customdata[0]}<extra></extra>",
         "legendgroup": "2",
         "marker": {
          "color": "#00cc96",
          "opacity": 0.5,
          "size": 15,
          "symbol": "circle"
         },
         "mode": "markers+text",
         "name": "2",
         "orientation": "v",
         "showlegend": true,
         "text": [
          "spices, mustard seed, ground",
          "seeds, safflower seed kernels, dried",
          "seeds, flaxseed",
          "spices, fenugreek seed",
          "seeds, sunflower seed kernels, dried",
          "beans, white, dried",
          "lentils, dried",
          "beans, brown, dried",
          "spices, basil, dried",
          "nut, hazel (uk), filbert (usa), dried",
          "spices, caraway seed",
          "seeds, sesame seed kernels, dried (decorticated)",
          "cocoa, powder",
          "pistachio nuts, dried",
          "cocoa, dry powder, unsweetened, processed with alkali",
          "seeds, sesame seeds, whole, dried",
          "walnuts",
          "seeds, sunflower seed kernels, toasted, without salt",
          "cocoa, dry powder, unsweetened",
          "spices, dill seed",
          "seeds, lotus seeds, dried",
          "nuts, walnuts, black, dried",
          "sesame seeds, whole, dried",
          "spearmint, dried",
          "seeds, sesame meal, partially defatted",
          "sesame seed, decorticated",
          "seeds, chia seeds, dried",
          "spices, poppy seed",
          "spices, fennel seed",
          "seeds, sisymbrium sp. seeds, whole, dried"
         ],
         "textfont": {
          "size": 7
         },
         "textposition": "top center",
         "type": "scatter",
         "x": [
          51.88640594482422,
          13.95853328704834,
          21.167057037353516,
          49.136592864990234,
          40.37361145019531,
          47.98322677612305,
          51.069541931152344,
          44.83280563354492,
          44.90250015258789,
          13.400033950805664,
          18.9728946685791,
          25.826196670532227,
          11.704306602478027,
          46.21549606323242,
          13.41923713684082,
          24.58789825439453,
          38.899723052978516,
          21.595600128173828,
          14.48187255859375,
          11.412132263183594,
          18.01906967163086,
          38.67337417602539,
          35.70132827758789,
          22.8486385345459,
          23.999319076538086,
          35.933326721191406,
          19.358516693115234,
          20.13300895690918,
          10.494592666625977,
          9.349003791809082
         ],
         "xaxis": "x",
         "y": [
          89.79720306396484,
          91.42716979980469,
          96.19538879394531,
          90.18089294433594,
          87.85001373291016,
          90.34342956542969,
          89.94442749023438,
          92.352783203125,
          90.11769104003906,
          91.17170715332031,
          99.05374145507812,
          88.88886260986328,
          100.14788055419922,
          90.63844299316406,
          100.48611450195312,
          89.80037689208984,
          86.92632293701172,
          95.30792236328125,
          100.49143981933594,
          102.1047134399414,
          99.46783447265625,
          87.52606201171875,
          86.66876983642578,
          96.97118377685547,
          90.18343353271484,
          86.03975677490234,
          95.82933807373047,
          99.94520568847656,
          99.12443542480469,
          98.13530731201172
         ],
         "yaxis": "y"
        },
        {
         "customdata": [
          [
           "nuts, ginkgo nuts, dried",
           3
          ],
          [
           "nuts, brazilnuts, dried, unblanched",
           3
          ],
          [
           "nuts, pine nuts, pinyon, dried",
           3
          ],
          [
           "nuts, pilinuts, dried",
           3
          ],
          [
           "spices, paprika",
           3
          ],
          [
           "buckwheat flour, whole-groat",
           3
          ],
          [
           "nuts, pine nuts, dried",
           3
          ],
          [
           "spices, oregano, dried",
           3
          ],
          [
           "pine nuts, pignolias, dried",
           3
          ],
          [
           "spices, garlic powder",
           3
          ],
          [
           "wheat flour, whole-grain",
           3
          ],
          [
           "bulgur, dry",
           3
          ],
          [
           "barley flour or meal",
           3
          ],
          [
           "cereals, oats, regular and quick, not fortified, dry",
           3
          ],
          [
           "nuts, hickorynuts, dried",
           3
          ],
          [
           "garlic, dried, powder",
           3
          ],
          [
           "rye flour, dark",
           3
          ],
          [
           "wheat, flour, wholemeal",
           3
          ],
          [
           "triticale flour, whole-grain",
           3
          ]
         ],
         "hovertemplate": "cluster=%{customdata[1]}<br>x1=%{x}<br>x2=%{y}<br>label=%{customdata[0]}<extra></extra>",
         "legendgroup": "3",
         "marker": {
          "color": "#ab63fa",
          "opacity": 0.5,
          "size": 15,
          "symbol": "circle"
         },
         "mode": "markers+text",
         "name": "3",
         "orientation": "v",
         "showlegend": true,
         "text": [
          "nuts, ginkgo nuts, dried",
          "nuts, brazilnuts, dried, unblanched",
          "nuts, pine nuts, pinyon, dried",
          "nuts, pilinuts, dried",
          "spices, paprika",
          "buckwheat flour, whole-groat",
          "nuts, pine nuts, dried",
          "spices, oregano, dried",
          "pine nuts, pignolias, dried",
          "spices, garlic powder",
          "wheat flour, whole-grain",
          "bulgur, dry",
          "barley flour or meal",
          "cereals, oats, regular and quick, not fortified, dry",
          "nuts, hickorynuts, dried",
          "garlic, dried, powder",
          "rye flour, dark",
          "wheat, flour, wholemeal",
          "triticale flour, whole-grain"
         ],
         "textfont": {
          "size": 7
         },
         "textposition": "top center",
         "type": "scatter",
         "x": [
          -26.109838485717773,
          -22.47246742248535,
          -25.840486526489258,
          -23.815893173217773,
          -21.174753189086914,
          -24.24527931213379,
          -20.28074836730957,
          -26.988876342773438,
          -19.72295379638672,
          -23.473731994628906,
          -30.419219970703125,
          -27.709590911865234,
          -25.704477310180664,
          -20.750566482543945,
          -20.2939395904541,
          -23.355884552001953,
          -27.957666397094727,
          -26.509946823120117,
          -30.43977928161621
         ],
         "xaxis": "x",
         "y": [
          89.99456024169922,
          76.36575317382812,
          73.60556030273438,
          75.18514251708984,
          86.39250183105469,
          90.10474395751953,
          82.88142395019531,
          74.44425964355469,
          83.06978607177734,
          91.06735229492188,
          69.8053207397461,
          70.51151275634766,
          70.53514099121094,
          85.36702728271484,
          81.17662811279297,
          89.43270111083984,
          68.54510498046875,
          71.32855987548828,
          70.57594299316406
         ],
         "yaxis": "y"
        },
        {
         "customdata": [
          [
           "seeds, sunflower seed flour, partially defatted",
           4
          ],
          [
           "seeds, pumpkin and squash seed kernels, dried",
           4
          ],
          [
           "soy flour, defatted",
           4
          ],
          [
           "seeds, pumpkin and squash seed kernels, dried",
           4
          ],
          [
           "seeds, cottonseed flour, low fat (glandless)",
           4
          ],
          [
           "seeds, watermelon seed kernels, dried",
           4
          ],
          [
           "seeds, sesame flour, partially defatted",
           4
          ],
          [
           "yeast, dried",
           4
          ],
          [
           "beans, soy, dried",
           4
          ],
          [
           "nuts, butternuts, dried",
           4
          ],
          [
           "peanut flour, low fat",
           4
          ],
          [
           "seeds, sesame flour, low-fat",
           4
          ],
          [
           "soya flour, full fat",
           4
          ],
          [
           "seeds, cottonseed flour, partially defatted (glandless)",
           4
          ],
          [
           "peanut flour, defatted",
           4
          ],
          [
           "nut, pea, dried",
           4
          ],
          [
           "soy flour, low-fat, crude protein basis (n x 6.25)",
           4
          ],
          [
           "seaweed, spirulina, dried",
           4
          ],
          [
           "seeds, sesame flour, high-fat",
           4
          ],
          [
           "spices, parsley, dried",
           4
          ],
          [
           "seeds, safflower seed meal, partially defatted",
           4
          ],
          [
           "seeds, pumpkin and squash seed kernels, dried",
           4
          ],
          [
           "tofu, dried-frozen (koyadofu)",
           4
          ],
          [
           "leavening agents, yeast, bakers, active dry",
           4
          ],
          [
           "soy flour, defatted, crude protein basis (n x 6.25)",
           4
          ]
         ],
         "hovertemplate": "cluster=%{customdata[1]}<br>x1=%{x}<br>x2=%{y}<br>label=%{customdata[0]}<extra></extra>",
         "legendgroup": "4",
         "marker": {
          "color": "#FFA15A",
          "opacity": 0.5,
          "size": 15,
          "symbol": "circle"
         },
         "mode": "markers+text",
         "name": "4",
         "orientation": "v",
         "showlegend": true,
         "text": [
          "seeds, sunflower seed flour, partially defatted",
          "seeds, pumpkin and squash seed kernels, dried",
          "soy flour, defatted",
          "seeds, pumpkin and squash seed kernels, dried",
          "seeds, cottonseed flour, low fat (glandless)",
          "seeds, watermelon seed kernels, dried",
          "seeds, sesame flour, partially defatted",
          "yeast, dried",
          "beans, soy, dried",
          "nuts, butternuts, dried",
          "peanut flour, low fat",
          "seeds, sesame flour, low-fat",
          "soya flour, full fat",
          "seeds, cottonseed flour, partially defatted (glandless)",
          "peanut flour, defatted",
          "nut, pea, dried",
          "soy flour, low-fat, crude protein basis (n x 6.25)",
          "seaweed, spirulina, dried",
          "seeds, sesame flour, high-fat",
          "spices, parsley, dried",
          "seeds, safflower seed meal, partially defatted",
          "seeds, pumpkin and squash seed kernels, dried",
          "tofu, dried-frozen (koyadofu)",
          "leavening agents, yeast, bakers, active dry",
          "soy flour, defatted, crude protein basis (n x 6.25)"
         ],
         "textfont": {
          "size": 7
         },
         "textposition": "top center",
         "type": "scatter",
         "x": [
          -34.42243957519531,
          -23.535091400146484,
          -47.26023864746094,
          -23.08524513244629,
          -36.37178421020508,
          -23.65579605102539,
          -30.697927474975586,
          -48.20236587524414,
          -38.80862045288086,
          -17.890625,
          -21.224510192871094,
          -33.900699615478516,
          -39.145076751708984,
          -35.41871643066406,
          -35.439388275146484,
          -18.824766159057617,
          -45.92609405517578,
          -47.36237716674805,
          -25.95703125,
          -38.57289123535156,
          -27.70810890197754,
          -24.094043731689453,
          -47.0596809387207,
          -48.201602935791016,
          -46.23286437988281
         ],
         "xaxis": "x",
         "y": [
          -76.03753662109375,
          -70.17018127441406,
          -91.23986053466797,
          -69.23355102539062,
          -74.05628204345703,
          -67.08416748046875,
          -72.23741149902344,
          -62.2053337097168,
          -66.75338745117188,
          -70.82027435302734,
          -70.27239227294922,
          -76.70602416992188,
          -67.87957763671875,
          -72.00962829589844,
          -73.02039337158203,
          -70.7037124633789,
          -90.53822326660156,
          -93.38382720947266,
          -70.60174560546875,
          -65.97097778320312,
          -71.21253204345703,
          -69.29508972167969,
          -89.80738067626953,
          -62.214599609375,
          -91.6829833984375
         ],
         "yaxis": "y"
        },
        {
         "customdata": [
          [
           "corn starch",
           5
          ],
          [
           "baking powder",
           5
          ],
          [
           "spices, allspice, ground",
           5
          ],
          [
           "coffee, dry, powder, with whitener, reduced calorie",
           5
          ],
          [
           "spices, sage, ground",
           5
          ],
          [
           "spices, anise seed",
           5
          ],
          [
           "coffee, dry, powder, with whitener, reduced calorie",
           5
          ],
          [
           "coriander, leaf, dried",
           5
          ],
          [
           "spices, coriander leaf, dried",
           5
          ],
          [
           "spices, coriander seed",
           5
          ],
          [
           "spices, saffron",
           5
          ],
          [
           "oat flour, partially debranned",
           5
          ],
          [
           "spices, chervil, dried",
           5
          ],
          [
           "wocas, dried seeds, oregon, yellow pond lily, nuphar lutea (or) - cy0617b",
           5
          ],
          [
           "cornmeal, blue (navajo)",
           5
          ],
          [
           "spices, nutmeg, ground",
           5
          ],
          [
           "spices, celery seed",
           5
          ],
          [
           "spices, mace, ground",
           5
          ],
          [
           "celery flakes, dried",
           5
          ],
          [
           "wheat flour, whole-grain, soft wheat",
           5
          ],
          [
           "chickpea flour (besan)",
           5
          ],
          [
           "coffee, dry, powder, with whitener, reduced calorie",
           5
          ],
          [
           "coffee and cocoa (mocha) powder, with whitener and low calorie sweetener",
           5
          ],
          [
           "coffee and cocoa (mocha) powder, with whitener and low calorie sweetener, decaffeinated",
           5
          ],
          [
           "spices, pepper, white",
           5
          ],
          [
           "spices, turmeric, ground",
           5
          ],
          [
           "leavening agents, baking powder, low-sodium",
           5
          ],
          [
           "spices, tarragon, dried",
           5
          ],
          [
           "leavening agents, baking powder, double-acting, straight phosphate",
           5
          ],
          [
           "spices, marjoram, dried",
           5
          ],
          [
           "leavening agents, baking powder, double-acting, sodium aluminum sulfate",
           5
          ],
          [
           "spices, bay leaf",
           5
          ],
          [
           "seaweed, konbu, dried (kelp)",
           5
          ],
          [
           "spices, cumin seed",
           5
          ],
          [
           "sunflower seeds, decorticated, dried",
           5
          ],
          [
           "curry powder",
           5
          ],
          [
           "spices, curry powder",
           5
          ],
          [
           "jujube, dried",
           5
          ],
          [
           "fungi, cloud ears, dried",
           5
          ],
          [
           "spices, pepper, red or cayenne",
           5
          ],
          [
           "spices, rosemary, dried",
           5
          ],
          [
           "pepeao, dried",
           5
          ],
          [
           "corn flour, degermed, unenriched, yellow",
           5
          ],
          [
           "dill weed, dried",
           5
          ],
          [
           "spices, dill weed, dried",
           5
          ],
          [
           "cereals, whole wheat hot natural cereal, dry",
           5
          ],
          [
           "rose hip, dried, powder",
           5
          ],
          [
           "spices, savory, ground",
           5
          ],
          [
           "corn flour, whole-grain, blue (harina de maiz morado)",
           5
          ],
          [
           "cocoa, dry powder, hi-fat or breakfast, plain",
           5
          ],
          [
           "cocoa, dry powder, hi-fat or breakfast, processed with alkali",
           5
          ],
          [
           "soy flour, low-fat",
           5
          ],
          [
           "fruit, mixed, (prune and apricot and pear), dried",
           5
          ],
          [
           "cocoa, dry powder, unsweetened, hersheys european style cocoa",
           5
          ],
          [
           "spices, cardamom",
           5
          ],
          [
           "currants, zante, dried",
           5
          ],
          [
           "peppers, pasilla, dried",
           5
          ],
          [
           "seaweed, agar, dried",
           5
          ],
          [
           "agave, dried (southwest)",
           5
          ],
          [
           "corn, dried (navajo)",
           5
          ]
         ],
         "hovertemplate": "cluster=%{customdata[1]}<br>x1=%{x}<br>x2=%{y}<br>label=%{customdata[0]}<extra></extra>",
         "legendgroup": "5",
         "marker": {
          "color": "#19d3f3",
          "opacity": 0.5,
          "size": 15,
          "symbol": "circle"
         },
         "mode": "markers+text",
         "name": "5",
         "orientation": "v",
         "showlegend": true,
         "text": [
          "corn starch",
          "baking powder",
          "spices, allspice, ground",
          "coffee, dry, powder, with whitener, reduced calorie",
          "spices, sage, ground",
          "spices, anise seed",
          "coffee, dry, powder, with whitener, reduced calorie",
          "coriander, leaf, dried",
          "spices, coriander leaf, dried",
          "spices, coriander seed",
          "spices, saffron",
          "oat flour, partially debranned",
          "spices, chervil, dried",
          "wocas, dried seeds, oregon, yellow pond lily, nuphar lutea (or) - cy0617b",
          "cornmeal, blue (navajo)",
          "spices, nutmeg, ground",
          "spices, celery seed",
          "spices, mace, ground",
          "celery flakes, dried",
          "wheat flour, whole-grain, soft wheat",
          "chickpea flour (besan)",
          "coffee, dry, powder, with whitener, reduced calorie",
          "coffee and cocoa (mocha) powder, with whitener and low calorie sweetener",
          "coffee and cocoa (mocha) powder, with whitener and low calorie sweetener, decaffeinated",
          "spices, pepper, white",
          "spices, turmeric, ground",
          "leavening agents, baking powder, low-sodium",
          "spices, tarragon, dried",
          "leavening agents, baking powder, double-acting, straight phosphate",
          "spices, marjoram, dried",
          "leavening agents, baking powder, double-acting, sodium aluminum sulfate",
          "spices, bay leaf",
          "seaweed, konbu, dried (kelp)",
          "spices, cumin seed",
          "sunflower seeds, decorticated, dried",
          "curry powder",
          "spices, curry powder",
          "jujube, dried",
          "fungi, cloud ears, dried",
          "spices, pepper, red or cayenne",
          "spices, rosemary, dried",
          "pepeao, dried",
          "corn flour, degermed, unenriched, yellow",
          "dill weed, dried",
          "spices, dill weed, dried",
          "cereals, whole wheat hot natural cereal, dry",
          "rose hip, dried, powder",
          "spices, savory, ground",
          "corn flour, whole-grain, blue (harina de maiz morado)",
          "cocoa, dry powder, hi-fat or breakfast, plain",
          "cocoa, dry powder, hi-fat or breakfast, processed with alkali",
          "soy flour, low-fat",
          "fruit, mixed, (prune and apricot and pear), dried",
          "cocoa, dry powder, unsweetened, hersheys european style cocoa",
          "spices, cardamom",
          "currants, zante, dried",
          "peppers, pasilla, dried",
          "seaweed, agar, dried",
          "agave, dried (southwest)",
          "corn, dried (navajo)"
         ],
         "textfont": {
          "size": 7
         },
         "textposition": "top center",
         "type": "scatter",
         "x": [
          53.743343353271484,
          52.45402145385742,
          67.38584899902344,
          68.30799865722656,
          68.87952423095703,
          69.77600860595703,
          72.35655212402344,
          70.44644165039062,
          71.68383026123047,
          70.63684844970703,
          64.0445556640625,
          60.22322082519531,
          60.10116195678711,
          69.7445068359375,
          59.73691177368164,
          67.5928955078125,
          77.97482299804688,
          73.4463882446289,
          68.22127532958984,
          82.7153091430664,
          74.85993194580078,
          81.57859802246094,
          78.25928497314453,
          72.35623931884766,
          61.76327896118164,
          66.95451354980469,
          70.87671661376953,
          74.84208679199219,
          72.31987762451172,
          63.8961067199707,
          66.68751525878906,
          71.5647201538086,
          65.19503784179688,
          69.59523010253906,
          66.36896514892578,
          77.97518157958984,
          73.1689453125,
          64.518798828125,
          83.29329681396484,
          77.30628204345703,
          85.21134185791016,
          59.47470474243164,
          66.27691650390625,
          69.21814727783203,
          79.09915161132812,
          64.48562622070312,
          63.57322311401367,
          78.78760528564453,
          75.02483367919922,
          80.87969970703125,
          74.3510971069336,
          76.28882598876953,
          63.208980560302734,
          70.22550964355469,
          75.25064086914062,
          74.76139068603516,
          57.276206970214844,
          69.17609405517578,
          70.76970672607422,
          72.37725830078125
         ],
         "xaxis": "x",
         "y": [
          -44.822021484375,
          -44.489105224609375,
          -48.26527404785156,
          -50.04979705810547,
          -46.835906982421875,
          -51.08852767944336,
          -47.248802185058594,
          -49.535831451416016,
          -50.69693374633789,
          -46.34218215942383,
          -47.5869140625,
          -59.372161865234375,
          -46.70738220214844,
          -59.627769470214844,
          -54.59437561035156,
          -56.14310073852539,
          -43.96259307861328,
          -62.54037094116211,
          -38.89339828491211,
          -41.39461135864258,
          -58.04492950439453,
          -45.97335433959961,
          -39.70048141479492,
          -53.28118896484375,
          -50.59772872924805,
          -52.68972396850586,
          -41.414794921875,
          -45.572120666503906,
          -44.240657806396484,
          -53.971038818359375,
          -42.268741607666016,
          -56.40174865722656,
          -50.42991638183594,
          -53.722900390625,
          -45.437808990478516,
          -47.66072463989258,
          -38.56425094604492,
          -35.623291015625,
          -55.0910530090332,
          -51.184757232666016,
          -48.967140197753906,
          -41.64291000366211,
          -62.506961822509766,
          -44.0018196105957,
          -59.8397216796875,
          -57.97275924682617,
          -39.97603988647461,
          -54.9776496887207,
          -48.40753173828125,
          -50.70855712890625,
          -51.163002014160156,
          -35.28608703613281,
          -44.11968994140625,
          -34.81407928466797,
          -54.340423583984375,
          -42.036521911621094,
          -50.608428955078125,
          -48.52047348022461,
          -48.00553894042969,
          -49.050662994384766
         ],
         "yaxis": "y"
        }
       ],
       "layout": {
        "legend": {
         "title": {
          "text": "cluster"
         },
         "tracegroupgap": 0
        },
        "margin": {
         "t": 60
        },
        "template": {
         "data": {
          "bar": [
           {
            "error_x": {
             "color": "#2a3f5f"
            },
            "error_y": {
             "color": "#2a3f5f"
            },
            "marker": {
             "line": {
              "color": "#E5ECF6",
              "width": 0.5
             },
             "pattern": {
              "fillmode": "overlay",
              "size": 10,
              "solidity": 0.2
             }
            },
            "type": "bar"
           }
          ],
          "barpolar": [
           {
            "marker": {
             "line": {
              "color": "#E5ECF6",
              "width": 0.5
             },
             "pattern": {
              "fillmode": "overlay",
              "size": 10,
              "solidity": 0.2
             }
            },
            "type": "barpolar"
           }
          ],
          "carpet": [
           {
            "aaxis": {
             "endlinecolor": "#2a3f5f",
             "gridcolor": "white",
             "linecolor": "white",
             "minorgridcolor": "white",
             "startlinecolor": "#2a3f5f"
            },
            "baxis": {
             "endlinecolor": "#2a3f5f",
             "gridcolor": "white",
             "linecolor": "white",
             "minorgridcolor": "white",
             "startlinecolor": "#2a3f5f"
            },
            "type": "carpet"
           }
          ],
          "choropleth": [
           {
            "colorbar": {
             "outlinewidth": 0,
             "ticks": ""
            },
            "type": "choropleth"
           }
          ],
          "contour": [
           {
            "colorbar": {
             "outlinewidth": 0,
             "ticks": ""
            },
            "colorscale": [
             [
              0,
              "#0d0887"
             ],
             [
              0.1111111111111111,
              "#46039f"
             ],
             [
              0.2222222222222222,
              "#7201a8"
             ],
             [
              0.3333333333333333,
              "#9c179e"
             ],
             [
              0.4444444444444444,
              "#bd3786"
             ],
             [
              0.5555555555555556,
              "#d8576b"
             ],
             [
              0.6666666666666666,
              "#ed7953"
             ],
             [
              0.7777777777777778,
              "#fb9f3a"
             ],
             [
              0.8888888888888888,
              "#fdca26"
             ],
             [
              1,
              "#f0f921"
             ]
            ],
            "type": "contour"
           }
          ],
          "contourcarpet": [
           {
            "colorbar": {
             "outlinewidth": 0,
             "ticks": ""
            },
            "type": "contourcarpet"
           }
          ],
          "heatmap": [
           {
            "colorbar": {
             "outlinewidth": 0,
             "ticks": ""
            },
            "colorscale": [
             [
              0,
              "#0d0887"
             ],
             [
              0.1111111111111111,
              "#46039f"
             ],
             [
              0.2222222222222222,
              "#7201a8"
             ],
             [
              0.3333333333333333,
              "#9c179e"
             ],
             [
              0.4444444444444444,
              "#bd3786"
             ],
             [
              0.5555555555555556,
              "#d8576b"
             ],
             [
              0.6666666666666666,
              "#ed7953"
             ],
             [
              0.7777777777777778,
              "#fb9f3a"
             ],
             [
              0.8888888888888888,
              "#fdca26"
             ],
             [
              1,
              "#f0f921"
             ]
            ],
            "type": "heatmap"
           }
          ],
          "heatmapgl": [
           {
            "colorbar": {
             "outlinewidth": 0,
             "ticks": ""
            },
            "colorscale": [
             [
              0,
              "#0d0887"
             ],
             [
              0.1111111111111111,
              "#46039f"
             ],
             [
              0.2222222222222222,
              "#7201a8"
             ],
             [
              0.3333333333333333,
              "#9c179e"
             ],
             [
              0.4444444444444444,
              "#bd3786"
             ],
             [
              0.5555555555555556,
              "#d8576b"
             ],
             [
              0.6666666666666666,
              "#ed7953"
             ],
             [
              0.7777777777777778,
              "#fb9f3a"
             ],
             [
              0.8888888888888888,
              "#fdca26"
             ],
             [
              1,
              "#f0f921"
             ]
            ],
            "type": "heatmapgl"
           }
          ],
          "histogram": [
           {
            "marker": {
             "pattern": {
              "fillmode": "overlay",
              "size": 10,
              "solidity": 0.2
             }
            },
            "type": "histogram"
           }
          ],
          "histogram2d": [
           {
            "colorbar": {
             "outlinewidth": 0,
             "ticks": ""
            },
            "colorscale": [
             [
              0,
              "#0d0887"
             ],
             [
              0.1111111111111111,
              "#46039f"
             ],
             [
              0.2222222222222222,
              "#7201a8"
             ],
             [
              0.3333333333333333,
              "#9c179e"
             ],
             [
              0.4444444444444444,
              "#bd3786"
             ],
             [
              0.5555555555555556,
              "#d8576b"
             ],
             [
              0.6666666666666666,
              "#ed7953"
             ],
             [
              0.7777777777777778,
              "#fb9f3a"
             ],
             [
              0.8888888888888888,
              "#fdca26"
             ],
             [
              1,
              "#f0f921"
             ]
            ],
            "type": "histogram2d"
           }
          ],
          "histogram2dcontour": [
           {
            "colorbar": {
             "outlinewidth": 0,
             "ticks": ""
            },
            "colorscale": [
             [
              0,
              "#0d0887"
             ],
             [
              0.1111111111111111,
              "#46039f"
             ],
             [
              0.2222222222222222,
              "#7201a8"
             ],
             [
              0.3333333333333333,
              "#9c179e"
             ],
             [
              0.4444444444444444,
              "#bd3786"
             ],
             [
              0.5555555555555556,
              "#d8576b"
             ],
             [
              0.6666666666666666,
              "#ed7953"
             ],
             [
              0.7777777777777778,
              "#fb9f3a"
             ],
             [
              0.8888888888888888,
              "#fdca26"
             ],
             [
              1,
              "#f0f921"
             ]
            ],
            "type": "histogram2dcontour"
           }
          ],
          "mesh3d": [
           {
            "colorbar": {
             "outlinewidth": 0,
             "ticks": ""
            },
            "type": "mesh3d"
           }
          ],
          "parcoords": [
           {
            "line": {
             "colorbar": {
              "outlinewidth": 0,
              "ticks": ""
             }
            },
            "type": "parcoords"
           }
          ],
          "pie": [
           {
            "automargin": true,
            "type": "pie"
           }
          ],
          "scatter": [
           {
            "marker": {
             "colorbar": {
              "outlinewidth": 0,
              "ticks": ""
             }
            },
            "type": "scatter"
           }
          ],
          "scatter3d": [
           {
            "line": {
             "colorbar": {
              "outlinewidth": 0,
              "ticks": ""
             }
            },
            "marker": {
             "colorbar": {
              "outlinewidth": 0,
              "ticks": ""
             }
            },
            "type": "scatter3d"
           }
          ],
          "scattercarpet": [
           {
            "marker": {
             "colorbar": {
              "outlinewidth": 0,
              "ticks": ""
             }
            },
            "type": "scattercarpet"
           }
          ],
          "scattergeo": [
           {
            "marker": {
             "colorbar": {
              "outlinewidth": 0,
              "ticks": ""
             }
            },
            "type": "scattergeo"
           }
          ],
          "scattergl": [
           {
            "marker": {
             "colorbar": {
              "outlinewidth": 0,
              "ticks": ""
             }
            },
            "type": "scattergl"
           }
          ],
          "scattermapbox": [
           {
            "marker": {
             "colorbar": {
              "outlinewidth": 0,
              "ticks": ""
             }
            },
            "type": "scattermapbox"
           }
          ],
          "scatterpolar": [
           {
            "marker": {
             "colorbar": {
              "outlinewidth": 0,
              "ticks": ""
             }
            },
            "type": "scatterpolar"
           }
          ],
          "scatterpolargl": [
           {
            "marker": {
             "colorbar": {
              "outlinewidth": 0,
              "ticks": ""
             }
            },
            "type": "scatterpolargl"
           }
          ],
          "scatterternary": [
           {
            "marker": {
             "colorbar": {
              "outlinewidth": 0,
              "ticks": ""
             }
            },
            "type": "scatterternary"
           }
          ],
          "surface": [
           {
            "colorbar": {
             "outlinewidth": 0,
             "ticks": ""
            },
            "colorscale": [
             [
              0,
              "#0d0887"
             ],
             [
              0.1111111111111111,
              "#46039f"
             ],
             [
              0.2222222222222222,
              "#7201a8"
             ],
             [
              0.3333333333333333,
              "#9c179e"
             ],
             [
              0.4444444444444444,
              "#bd3786"
             ],
             [
              0.5555555555555556,
              "#d8576b"
             ],
             [
              0.6666666666666666,
              "#ed7953"
             ],
             [
              0.7777777777777778,
              "#fb9f3a"
             ],
             [
              0.8888888888888888,
              "#fdca26"
             ],
             [
              1,
              "#f0f921"
             ]
            ],
            "type": "surface"
           }
          ],
          "table": [
           {
            "cells": {
             "fill": {
              "color": "#EBF0F8"
             },
             "line": {
              "color": "white"
             }
            },
            "header": {
             "fill": {
              "color": "#C8D4E3"
             },
             "line": {
              "color": "white"
             }
            },
            "type": "table"
           }
          ]
         },
         "layout": {
          "annotationdefaults": {
           "arrowcolor": "#2a3f5f",
           "arrowhead": 0,
           "arrowwidth": 1
          },
          "autotypenumbers": "strict",
          "coloraxis": {
           "colorbar": {
            "outlinewidth": 0,
            "ticks": ""
           }
          },
          "colorscale": {
           "diverging": [
            [
             0,
             "#8e0152"
            ],
            [
             0.1,
             "#c51b7d"
            ],
            [
             0.2,
             "#de77ae"
            ],
            [
             0.3,
             "#f1b6da"
            ],
            [
             0.4,
             "#fde0ef"
            ],
            [
             0.5,
             "#f7f7f7"
            ],
            [
             0.6,
             "#e6f5d0"
            ],
            [
             0.7,
             "#b8e186"
            ],
            [
             0.8,
             "#7fbc41"
            ],
            [
             0.9,
             "#4d9221"
            ],
            [
             1,
             "#276419"
            ]
           ],
           "sequential": [
            [
             0,
             "#0d0887"
            ],
            [
             0.1111111111111111,
             "#46039f"
            ],
            [
             0.2222222222222222,
             "#7201a8"
            ],
            [
             0.3333333333333333,
             "#9c179e"
            ],
            [
             0.4444444444444444,
             "#bd3786"
            ],
            [
             0.5555555555555556,
             "#d8576b"
            ],
            [
             0.6666666666666666,
             "#ed7953"
            ],
            [
             0.7777777777777778,
             "#fb9f3a"
            ],
            [
             0.8888888888888888,
             "#fdca26"
            ],
            [
             1,
             "#f0f921"
            ]
           ],
           "sequentialminus": [
            [
             0,
             "#0d0887"
            ],
            [
             0.1111111111111111,
             "#46039f"
            ],
            [
             0.2222222222222222,
             "#7201a8"
            ],
            [
             0.3333333333333333,
             "#9c179e"
            ],
            [
             0.4444444444444444,
             "#bd3786"
            ],
            [
             0.5555555555555556,
             "#d8576b"
            ],
            [
             0.6666666666666666,
             "#ed7953"
            ],
            [
             0.7777777777777778,
             "#fb9f3a"
            ],
            [
             0.8888888888888888,
             "#fdca26"
            ],
            [
             1,
             "#f0f921"
            ]
           ]
          },
          "colorway": [
           "#636efa",
           "#EF553B",
           "#00cc96",
           "#ab63fa",
           "#FFA15A",
           "#19d3f3",
           "#FF6692",
           "#B6E880",
           "#FF97FF",
           "#FECB52"
          ],
          "font": {
           "color": "#2a3f5f"
          },
          "geo": {
           "bgcolor": "white",
           "lakecolor": "white",
           "landcolor": "#E5ECF6",
           "showlakes": true,
           "showland": true,
           "subunitcolor": "white"
          },
          "hoverlabel": {
           "align": "left"
          },
          "hovermode": "closest",
          "mapbox": {
           "style": "light"
          },
          "paper_bgcolor": "white",
          "plot_bgcolor": "#E5ECF6",
          "polar": {
           "angularaxis": {
            "gridcolor": "white",
            "linecolor": "white",
            "ticks": ""
           },
           "bgcolor": "#E5ECF6",
           "radialaxis": {
            "gridcolor": "white",
            "linecolor": "white",
            "ticks": ""
           }
          },
          "scene": {
           "xaxis": {
            "backgroundcolor": "#E5ECF6",
            "gridcolor": "white",
            "gridwidth": 2,
            "linecolor": "white",
            "showbackground": true,
            "ticks": "",
            "zerolinecolor": "white"
           },
           "yaxis": {
            "backgroundcolor": "#E5ECF6",
            "gridcolor": "white",
            "gridwidth": 2,
            "linecolor": "white",
            "showbackground": true,
            "ticks": "",
            "zerolinecolor": "white"
           },
           "zaxis": {
            "backgroundcolor": "#E5ECF6",
            "gridcolor": "white",
            "gridwidth": 2,
            "linecolor": "white",
            "showbackground": true,
            "ticks": "",
            "zerolinecolor": "white"
           }
          },
          "shapedefaults": {
           "line": {
            "color": "#2a3f5f"
           }
          },
          "ternary": {
           "aaxis": {
            "gridcolor": "white",
            "linecolor": "white",
            "ticks": ""
           },
           "baxis": {
            "gridcolor": "white",
            "linecolor": "white",
            "ticks": ""
           },
           "bgcolor": "#E5ECF6",
           "caxis": {
            "gridcolor": "white",
            "linecolor": "white",
            "ticks": ""
           }
          },
          "title": {
           "x": 0.05
          },
          "xaxis": {
           "automargin": true,
           "gridcolor": "white",
           "linecolor": "white",
           "ticks": "",
           "title": {
            "standoff": 15
           },
           "zerolinecolor": "white",
           "zerolinewidth": 2
          },
          "yaxis": {
           "automargin": true,
           "gridcolor": "white",
           "linecolor": "white",
           "ticks": "",
           "title": {
            "standoff": 15
           },
           "zerolinecolor": "white",
           "zerolinewidth": 2
          }
         }
        },
        "title": {
         "text": "Análisis de ingredientes objetivos FooDB: TSNE con filtro ANE."
        },
        "xaxis": {
         "anchor": "y",
         "domain": [
          0,
          1
         ],
         "title": {
          "text": "x1"
         }
        },
        "yaxis": {
         "anchor": "x",
         "domain": [
          0,
          1
         ],
         "title": {
          "text": "x2"
         }
        }
       }
      },
      "text/html": [
       "<div>                            <div id=\"b5bc87a2-a8f8-4198-a7d4-3dc82c197099\" class=\"plotly-graph-div\" style=\"height:525px; width:100%;\"></div>            <script type=\"text/javascript\">                require([\"plotly\"], function(Plotly) {                    window.PLOTLYENV=window.PLOTLYENV || {};                                    if (document.getElementById(\"b5bc87a2-a8f8-4198-a7d4-3dc82c197099\")) {                    Plotly.newPlot(                        \"b5bc87a2-a8f8-4198-a7d4-3dc82c197099\",                        [{\"customdata\":[[\"date, dried\",0],[\"cereals, farina, unenriched, dry\",0],[\"fig, dried\",0],[\"carrot, dehydrated\",0],[\"tapioca, pearl, dry\",0],[\"bananas, dehydrated, or banana powder\",0],[\"rye flour, dark, whole meal\",0],[\"carob flour\",0],[\"longans, dried\",0],[\"prune, dried plum\",0],[\"buckwheat flour\",0],[\"nuts, coconut meat, dried (desiccated), toasted\",0],[\"radishes, oriental, dried\",0],[\"spices, onion powder\",0],[\"wheat flour\",0],[\"spices, chili powder\",0],[\"nuts, acorn flour, full fat\",0],[\"peppers, hot chile, sun-dried\",0],[\"nuts, coconut meat, dried (desiccated), creamed\",0],[\"rye flour, medium\",0],[\"peppers, ancho, dried\",0],[\"cornstarch\",0],[\"tomatoes, sun-dried\",0],[\"onions, dehydrated flakes\",0],[\"potato flour\",0],[\"tomato powder\",0],[\"pecans, dried\",0],[\"wheat flour\",0],[\"nuts, chestnuts, european, dried, unpeeled\",0],[\"nuts, acorns, dried\",0],[\"nuts, chestnuts, japanese, dried\",0],[\"rice flour\",0],[\"barley malt flour\",0],[\"spices, cloves, ground\",0],[\"rice flour, brown\",0],[\"peach, dried\",0],[\"spices, ginger, ground\",0],[\"arrowroot flour\",0],[\"rye flour, light\",0],[\"nuts, beechnuts, dried\",0],[\"apple, dried\",0],[\"persimmons, japanese, dried\",0],[\"spices, cinnamon, ground\",0],[\"rice flour, white\",0],[\"nuts, chestnuts, chinese, dried\",0],[\"rice, white, long-grain, parboiled, unenriched, dry\",0],[\"nuts, chestnuts, european, dried, peeled\",0],[\"wheat flour, white, all-purpose, unenriched\",0],[\"tomato, dried\",0],[\"rice, white, with pasta, dry\",0],[\"mushrooms, shiitake, dried\",0],[\"apricot, dried\",0],[\"spices, thyme, dried\",0],[\"litchis, dried\",0]],\"hovertemplate\":\"cluster=%{customdata[1]}<br>x1=%{x}<br>x2=%{y}<br>label=%{customdata[0]}<extra></extra>\",\"legendgroup\":\"0\",\"marker\":{\"color\":\"#636efa\",\"opacity\":0.5,\"size\":15,\"symbol\":\"circle\"},\"mode\":\"markers+text\",\"name\":\"0\",\"orientation\":\"v\",\"showlegend\":true,\"text\":[\"date, dried\",\"cereals, farina, unenriched, dry\",\"fig, dried\",\"carrot, dehydrated\",\"tapioca, pearl, dry\",\"bananas, dehydrated, or banana powder\",\"rye flour, dark, whole meal\",\"carob flour\",\"longans, dried\",\"prune, dried plum\",\"buckwheat flour\",\"nuts, coconut meat, dried (desiccated), toasted\",\"radishes, oriental, dried\",\"spices, onion powder\",\"wheat flour\",\"spices, chili powder\",\"nuts, acorn flour, full fat\",\"peppers, hot chile, sun-dried\",\"nuts, coconut meat, dried (desiccated), creamed\",\"rye flour, medium\",\"peppers, ancho, dried\",\"cornstarch\",\"tomatoes, sun-dried\",\"onions, dehydrated flakes\",\"potato flour\",\"tomato powder\",\"pecans, dried\",\"wheat flour\",\"nuts, chestnuts, european, dried, unpeeled\",\"nuts, acorns, dried\",\"nuts, chestnuts, japanese, dried\",\"rice flour\",\"barley malt flour\",\"spices, cloves, ground\",\"rice flour, brown\",\"peach, dried\",\"spices, ginger, ground\",\"arrowroot flour\",\"rye flour, light\",\"nuts, beechnuts, dried\",\"apple, dried\",\"persimmons, japanese, dried\",\"spices, cinnamon, ground\",\"rice flour, white\",\"nuts, chestnuts, chinese, dried\",\"rice, white, long-grain, parboiled, unenriched, dry\",\"nuts, chestnuts, european, dried, peeled\",\"wheat flour, white, all-purpose, unenriched\",\"tomato, dried\",\"rice, white, with pasta, dry\",\"mushrooms, shiitake, dried\",\"apricot, dried\",\"spices, thyme, dried\",\"litchis, dried\"],\"textfont\":{\"size\":7},\"textposition\":\"top center\",\"type\":\"scatter\",\"x\":[5.453982830047607,-32.75748062133789,0.3925926387310028,-24.095478057861328,14.8358736038208,-16.95904541015625,-34.06085968017578,-14.523443222045898,-1.7063933610916138,5.500565052032471,-32.42510986328125,-17.028881072998047,-24.703449249267578,-17.75755500793457,-32.26811599731445,-33.82927322387695,-46.10725784301758,-49.276145935058594,-16.551130294799805,-23.012224197387695,-49.28778839111328,11.697659492492676,-48.22808074951172,-19.420717239379883,13.902719497680664,-21.826488494873047,-26.862659454345703,-32.85456848144531,-23.71660614013672,-46.58341979980469,-19.28219223022461,-30.173099517822266,-48.795570373535156,-21.758420944213867,-29.259967803955078,-3.3145267963409424,-28.605077743530273,12.828367233276367,-22.952098846435547,-22.802980422973633,9.109313011169434,4.38380765914917,-3.002446413040161,-17.94167709350586,-25.340410232543945,-29.411399841308594,-18.264223098754883,-31.619081497192383,-48.8488883972168,-33.1334342956543,-34.21099090576172,1.188486933708191,-12.96051025390625,8.355611801147461],\"xaxis\":\"x\",\"y\":[-15.078701972961426,34.164974212646484,-13.31580638885498,-7.190032482147217,-21.093097686767578,5.322134971618652,25.904380798339844,8.559895515441895,-12.246112823486328,-16.30710792541504,0.7732549905776978,7.477940082550049,-7.5312042236328125,-4.579949855804443,1.346473217010498,25.151823043823242,16.438650131225586,15.769919395446777,7.7084808349609375,19.875585556030273,16.66086196899414,-19.490915298461914,12.598451614379883,-4.322007656097412,-20.648344039916992,-3.965500831604004,-1.0609592199325562,33.175376892089844,-1.6090656518936157,17.02207374572754,-1.0808746814727783,22.46323013305664,18.661590576171875,-0.09187062829732895,21.315990447998047,-12.675357818603516,19.71308135986328,-20.134197235107422,19.18015480041504,-1.721893548965454,-18.993160247802734,-15.490669250488281,-10.97140884399414,9.055809020996094,-1.3737947940826416,22.832077026367188,-0.7619507908821106,34.25849533081055,12.766809463500977,32.029869079589844,28.44451904296875,-13.72685432434082,9.081948280334473,-20.196460723876953],\"yaxis\":\"y\"},{\"customdata\":[[\"corn, dried, yellow (northern plains indians)\",1],[\"cornmeal, yellow (navajo)\",1],[\"cereals, corn grits, white, regular and quick, unenriched, dry\",1],[\"spices, pepper, black\",1],[\"cornmeal, degermed, unenriched, white\",1],[\"millet flour\",1],[\"cornmeal, whole-grain, yellow\",1],[\"cereals, corn grits, white, regular and quick, unenriched, dry\",1],[\"cornmeal, whole-grain, white\",1],[\"cornmeal, degermed, unenriched, yellow\",1],[\"cereals, corn grits, yellow, regular and quick, unenriched, dry\",1],[\"cereals, corn grits, yellow, regular and quick, unenriched, dry\",1],[\"corn flour\",1],[\"corn flour, masa, unenriched, white\",1],[\"cornmeal, white (navajo)\",1],[\"corn flour, whole-grain, white\",1],[\"corn flour, whole-grain, yellow\",1],[\"sorghum flour\",1]],\"hovertemplate\":\"cluster=%{customdata[1]}<br>x1=%{x}<br>x2=%{y}<br>label=%{customdata[0]}<extra></extra>\",\"legendgroup\":\"1\",\"marker\":{\"color\":\"#EF553B\",\"opacity\":0.5,\"size\":15,\"symbol\":\"circle\"},\"mode\":\"markers+text\",\"name\":\"1\",\"orientation\":\"v\",\"showlegend\":true,\"text\":[\"corn, dried, yellow (northern plains indians)\",\"cornmeal, yellow (navajo)\",\"cereals, corn grits, white, regular and quick, unenriched, dry\",\"spices, pepper, black\",\"cornmeal, degermed, unenriched, white\",\"millet flour\",\"cornmeal, whole-grain, yellow\",\"cereals, corn grits, white, regular and quick, unenriched, dry\",\"cornmeal, whole-grain, white\",\"cornmeal, degermed, unenriched, yellow\",\"cereals, corn grits, yellow, regular and quick, unenriched, dry\",\"cereals, corn grits, yellow, regular and quick, unenriched, dry\",\"corn flour\",\"corn flour, masa, unenriched, white\",\"cornmeal, white (navajo)\",\"corn flour, whole-grain, white\",\"corn flour, whole-grain, yellow\",\"sorghum flour\"],\"textfont\":{\"size\":7},\"textposition\":\"top center\",\"type\":\"scatter\",\"x\":[58.46332550048828,56.27091598510742,47.54250717163086,42.718833923339844,33.6393928527832,58.248165130615234,40.110267639160156,47.66200256347656,40.15701675415039,33.6787223815918,46.38081741333008,46.50068664550781,28.449350357055664,49.850868225097656,57.116268157958984,27.420690536499023,27.517181396484375,38.14421463012695],\"xaxis\":\"x\",\"y\":[34.21759033203125,34.87105178833008,34.7741584777832,33.637115478515625,34.027008056640625,36.18473434448242,33.66373825073242,33.53268814086914,34.29054260253906,34.63404846191406,34.6422233581543,33.42595291137695,34.79473114013672,34.32740020751953,34.9156379699707,34.38285446166992,35.395938873291016,34.09279251098633],\"yaxis\":\"y\"},{\"customdata\":[[\"spices, mustard seed, ground\",2],[\"seeds, safflower seed kernels, dried\",2],[\"seeds, flaxseed\",2],[\"spices, fenugreek seed\",2],[\"seeds, sunflower seed kernels, dried\",2],[\"beans, white, dried\",2],[\"lentils, dried\",2],[\"beans, brown, dried\",2],[\"spices, basil, dried\",2],[\"nut, hazel (uk), filbert (usa), dried\",2],[\"spices, caraway seed\",2],[\"seeds, sesame seed kernels, dried (decorticated)\",2],[\"cocoa, powder\",2],[\"pistachio nuts, dried\",2],[\"cocoa, dry powder, unsweetened, processed with alkali\",2],[\"seeds, sesame seeds, whole, dried\",2],[\"walnuts\",2],[\"seeds, sunflower seed kernels, toasted, without salt\",2],[\"cocoa, dry powder, unsweetened\",2],[\"spices, dill seed\",2],[\"seeds, lotus seeds, dried\",2],[\"nuts, walnuts, black, dried\",2],[\"sesame seeds, whole, dried\",2],[\"spearmint, dried\",2],[\"seeds, sesame meal, partially defatted\",2],[\"sesame seed, decorticated\",2],[\"seeds, chia seeds, dried\",2],[\"spices, poppy seed\",2],[\"spices, fennel seed\",2],[\"seeds, sisymbrium sp. seeds, whole, dried\",2]],\"hovertemplate\":\"cluster=%{customdata[1]}<br>x1=%{x}<br>x2=%{y}<br>label=%{customdata[0]}<extra></extra>\",\"legendgroup\":\"2\",\"marker\":{\"color\":\"#00cc96\",\"opacity\":0.5,\"size\":15,\"symbol\":\"circle\"},\"mode\":\"markers+text\",\"name\":\"2\",\"orientation\":\"v\",\"showlegend\":true,\"text\":[\"spices, mustard seed, ground\",\"seeds, safflower seed kernels, dried\",\"seeds, flaxseed\",\"spices, fenugreek seed\",\"seeds, sunflower seed kernels, dried\",\"beans, white, dried\",\"lentils, dried\",\"beans, brown, dried\",\"spices, basil, dried\",\"nut, hazel (uk), filbert (usa), dried\",\"spices, caraway seed\",\"seeds, sesame seed kernels, dried (decorticated)\",\"cocoa, powder\",\"pistachio nuts, dried\",\"cocoa, dry powder, unsweetened, processed with alkali\",\"seeds, sesame seeds, whole, dried\",\"walnuts\",\"seeds, sunflower seed kernels, toasted, without salt\",\"cocoa, dry powder, unsweetened\",\"spices, dill seed\",\"seeds, lotus seeds, dried\",\"nuts, walnuts, black, dried\",\"sesame seeds, whole, dried\",\"spearmint, dried\",\"seeds, sesame meal, partially defatted\",\"sesame seed, decorticated\",\"seeds, chia seeds, dried\",\"spices, poppy seed\",\"spices, fennel seed\",\"seeds, sisymbrium sp. seeds, whole, dried\"],\"textfont\":{\"size\":7},\"textposition\":\"top center\",\"type\":\"scatter\",\"x\":[51.88640594482422,13.95853328704834,21.167057037353516,49.136592864990234,40.37361145019531,47.98322677612305,51.069541931152344,44.83280563354492,44.90250015258789,13.400033950805664,18.9728946685791,25.826196670532227,11.704306602478027,46.21549606323242,13.41923713684082,24.58789825439453,38.899723052978516,21.595600128173828,14.48187255859375,11.412132263183594,18.01906967163086,38.67337417602539,35.70132827758789,22.8486385345459,23.999319076538086,35.933326721191406,19.358516693115234,20.13300895690918,10.494592666625977,9.349003791809082],\"xaxis\":\"x\",\"y\":[89.79720306396484,91.42716979980469,96.19538879394531,90.18089294433594,87.85001373291016,90.34342956542969,89.94442749023438,92.352783203125,90.11769104003906,91.17170715332031,99.05374145507812,88.88886260986328,100.14788055419922,90.63844299316406,100.48611450195312,89.80037689208984,86.92632293701172,95.30792236328125,100.49143981933594,102.1047134399414,99.46783447265625,87.52606201171875,86.66876983642578,96.97118377685547,90.18343353271484,86.03975677490234,95.82933807373047,99.94520568847656,99.12443542480469,98.13530731201172],\"yaxis\":\"y\"},{\"customdata\":[[\"nuts, ginkgo nuts, dried\",3],[\"nuts, brazilnuts, dried, unblanched\",3],[\"nuts, pine nuts, pinyon, dried\",3],[\"nuts, pilinuts, dried\",3],[\"spices, paprika\",3],[\"buckwheat flour, whole-groat\",3],[\"nuts, pine nuts, dried\",3],[\"spices, oregano, dried\",3],[\"pine nuts, pignolias, dried\",3],[\"spices, garlic powder\",3],[\"wheat flour, whole-grain\",3],[\"bulgur, dry\",3],[\"barley flour or meal\",3],[\"cereals, oats, regular and quick, not fortified, dry\",3],[\"nuts, hickorynuts, dried\",3],[\"garlic, dried, powder\",3],[\"rye flour, dark\",3],[\"wheat, flour, wholemeal\",3],[\"triticale flour, whole-grain\",3]],\"hovertemplate\":\"cluster=%{customdata[1]}<br>x1=%{x}<br>x2=%{y}<br>label=%{customdata[0]}<extra></extra>\",\"legendgroup\":\"3\",\"marker\":{\"color\":\"#ab63fa\",\"opacity\":0.5,\"size\":15,\"symbol\":\"circle\"},\"mode\":\"markers+text\",\"name\":\"3\",\"orientation\":\"v\",\"showlegend\":true,\"text\":[\"nuts, ginkgo nuts, dried\",\"nuts, brazilnuts, dried, unblanched\",\"nuts, pine nuts, pinyon, dried\",\"nuts, pilinuts, dried\",\"spices, paprika\",\"buckwheat flour, whole-groat\",\"nuts, pine nuts, dried\",\"spices, oregano, dried\",\"pine nuts, pignolias, dried\",\"spices, garlic powder\",\"wheat flour, whole-grain\",\"bulgur, dry\",\"barley flour or meal\",\"cereals, oats, regular and quick, not fortified, dry\",\"nuts, hickorynuts, dried\",\"garlic, dried, powder\",\"rye flour, dark\",\"wheat, flour, wholemeal\",\"triticale flour, whole-grain\"],\"textfont\":{\"size\":7},\"textposition\":\"top center\",\"type\":\"scatter\",\"x\":[-26.109838485717773,-22.47246742248535,-25.840486526489258,-23.815893173217773,-21.174753189086914,-24.24527931213379,-20.28074836730957,-26.988876342773438,-19.72295379638672,-23.473731994628906,-30.419219970703125,-27.709590911865234,-25.704477310180664,-20.750566482543945,-20.2939395904541,-23.355884552001953,-27.957666397094727,-26.509946823120117,-30.43977928161621],\"xaxis\":\"x\",\"y\":[89.99456024169922,76.36575317382812,73.60556030273438,75.18514251708984,86.39250183105469,90.10474395751953,82.88142395019531,74.44425964355469,83.06978607177734,91.06735229492188,69.8053207397461,70.51151275634766,70.53514099121094,85.36702728271484,81.17662811279297,89.43270111083984,68.54510498046875,71.32855987548828,70.57594299316406],\"yaxis\":\"y\"},{\"customdata\":[[\"seeds, sunflower seed flour, partially defatted\",4],[\"seeds, pumpkin and squash seed kernels, dried\",4],[\"soy flour, defatted\",4],[\"seeds, pumpkin and squash seed kernels, dried\",4],[\"seeds, cottonseed flour, low fat (glandless)\",4],[\"seeds, watermelon seed kernels, dried\",4],[\"seeds, sesame flour, partially defatted\",4],[\"yeast, dried\",4],[\"beans, soy, dried\",4],[\"nuts, butternuts, dried\",4],[\"peanut flour, low fat\",4],[\"seeds, sesame flour, low-fat\",4],[\"soya flour, full fat\",4],[\"seeds, cottonseed flour, partially defatted (glandless)\",4],[\"peanut flour, defatted\",4],[\"nut, pea, dried\",4],[\"soy flour, low-fat, crude protein basis (n x 6.25)\",4],[\"seaweed, spirulina, dried\",4],[\"seeds, sesame flour, high-fat\",4],[\"spices, parsley, dried\",4],[\"seeds, safflower seed meal, partially defatted\",4],[\"seeds, pumpkin and squash seed kernels, dried\",4],[\"tofu, dried-frozen (koyadofu)\",4],[\"leavening agents, yeast, bakers, active dry\",4],[\"soy flour, defatted, crude protein basis (n x 6.25)\",4]],\"hovertemplate\":\"cluster=%{customdata[1]}<br>x1=%{x}<br>x2=%{y}<br>label=%{customdata[0]}<extra></extra>\",\"legendgroup\":\"4\",\"marker\":{\"color\":\"#FFA15A\",\"opacity\":0.5,\"size\":15,\"symbol\":\"circle\"},\"mode\":\"markers+text\",\"name\":\"4\",\"orientation\":\"v\",\"showlegend\":true,\"text\":[\"seeds, sunflower seed flour, partially defatted\",\"seeds, pumpkin and squash seed kernels, dried\",\"soy flour, defatted\",\"seeds, pumpkin and squash seed kernels, dried\",\"seeds, cottonseed flour, low fat (glandless)\",\"seeds, watermelon seed kernels, dried\",\"seeds, sesame flour, partially defatted\",\"yeast, dried\",\"beans, soy, dried\",\"nuts, butternuts, dried\",\"peanut flour, low fat\",\"seeds, sesame flour, low-fat\",\"soya flour, full fat\",\"seeds, cottonseed flour, partially defatted (glandless)\",\"peanut flour, defatted\",\"nut, pea, dried\",\"soy flour, low-fat, crude protein basis (n x 6.25)\",\"seaweed, spirulina, dried\",\"seeds, sesame flour, high-fat\",\"spices, parsley, dried\",\"seeds, safflower seed meal, partially defatted\",\"seeds, pumpkin and squash seed kernels, dried\",\"tofu, dried-frozen (koyadofu)\",\"leavening agents, yeast, bakers, active dry\",\"soy flour, defatted, crude protein basis (n x 6.25)\"],\"textfont\":{\"size\":7},\"textposition\":\"top center\",\"type\":\"scatter\",\"x\":[-34.42243957519531,-23.535091400146484,-47.26023864746094,-23.08524513244629,-36.37178421020508,-23.65579605102539,-30.697927474975586,-48.20236587524414,-38.80862045288086,-17.890625,-21.224510192871094,-33.900699615478516,-39.145076751708984,-35.41871643066406,-35.439388275146484,-18.824766159057617,-45.92609405517578,-47.36237716674805,-25.95703125,-38.57289123535156,-27.70810890197754,-24.094043731689453,-47.0596809387207,-48.201602935791016,-46.23286437988281],\"xaxis\":\"x\",\"y\":[-76.03753662109375,-70.17018127441406,-91.23986053466797,-69.23355102539062,-74.05628204345703,-67.08416748046875,-72.23741149902344,-62.2053337097168,-66.75338745117188,-70.82027435302734,-70.27239227294922,-76.70602416992188,-67.87957763671875,-72.00962829589844,-73.02039337158203,-70.7037124633789,-90.53822326660156,-93.38382720947266,-70.60174560546875,-65.97097778320312,-71.21253204345703,-69.29508972167969,-89.80738067626953,-62.214599609375,-91.6829833984375],\"yaxis\":\"y\"},{\"customdata\":[[\"corn starch\",5],[\"baking powder\",5],[\"spices, allspice, ground\",5],[\"coffee, dry, powder, with whitener, reduced calorie\",5],[\"spices, sage, ground\",5],[\"spices, anise seed\",5],[\"coffee, dry, powder, with whitener, reduced calorie\",5],[\"coriander, leaf, dried\",5],[\"spices, coriander leaf, dried\",5],[\"spices, coriander seed\",5],[\"spices, saffron\",5],[\"oat flour, partially debranned\",5],[\"spices, chervil, dried\",5],[\"wocas, dried seeds, oregon, yellow pond lily, nuphar lutea (or) - cy0617b\",5],[\"cornmeal, blue (navajo)\",5],[\"spices, nutmeg, ground\",5],[\"spices, celery seed\",5],[\"spices, mace, ground\",5],[\"celery flakes, dried\",5],[\"wheat flour, whole-grain, soft wheat\",5],[\"chickpea flour (besan)\",5],[\"coffee, dry, powder, with whitener, reduced calorie\",5],[\"coffee and cocoa (mocha) powder, with whitener and low calorie sweetener\",5],[\"coffee and cocoa (mocha) powder, with whitener and low calorie sweetener, decaffeinated\",5],[\"spices, pepper, white\",5],[\"spices, turmeric, ground\",5],[\"leavening agents, baking powder, low-sodium\",5],[\"spices, tarragon, dried\",5],[\"leavening agents, baking powder, double-acting, straight phosphate\",5],[\"spices, marjoram, dried\",5],[\"leavening agents, baking powder, double-acting, sodium aluminum sulfate\",5],[\"spices, bay leaf\",5],[\"seaweed, konbu, dried (kelp)\",5],[\"spices, cumin seed\",5],[\"sunflower seeds, decorticated, dried\",5],[\"curry powder\",5],[\"spices, curry powder\",5],[\"jujube, dried\",5],[\"fungi, cloud ears, dried\",5],[\"spices, pepper, red or cayenne\",5],[\"spices, rosemary, dried\",5],[\"pepeao, dried\",5],[\"corn flour, degermed, unenriched, yellow\",5],[\"dill weed, dried\",5],[\"spices, dill weed, dried\",5],[\"cereals, whole wheat hot natural cereal, dry\",5],[\"rose hip, dried, powder\",5],[\"spices, savory, ground\",5],[\"corn flour, whole-grain, blue (harina de maiz morado)\",5],[\"cocoa, dry powder, hi-fat or breakfast, plain\",5],[\"cocoa, dry powder, hi-fat or breakfast, processed with alkali\",5],[\"soy flour, low-fat\",5],[\"fruit, mixed, (prune and apricot and pear), dried\",5],[\"cocoa, dry powder, unsweetened, hersheys european style cocoa\",5],[\"spices, cardamom\",5],[\"currants, zante, dried\",5],[\"peppers, pasilla, dried\",5],[\"seaweed, agar, dried\",5],[\"agave, dried (southwest)\",5],[\"corn, dried (navajo)\",5]],\"hovertemplate\":\"cluster=%{customdata[1]}<br>x1=%{x}<br>x2=%{y}<br>label=%{customdata[0]}<extra></extra>\",\"legendgroup\":\"5\",\"marker\":{\"color\":\"#19d3f3\",\"opacity\":0.5,\"size\":15,\"symbol\":\"circle\"},\"mode\":\"markers+text\",\"name\":\"5\",\"orientation\":\"v\",\"showlegend\":true,\"text\":[\"corn starch\",\"baking powder\",\"spices, allspice, ground\",\"coffee, dry, powder, with whitener, reduced calorie\",\"spices, sage, ground\",\"spices, anise seed\",\"coffee, dry, powder, with whitener, reduced calorie\",\"coriander, leaf, dried\",\"spices, coriander leaf, dried\",\"spices, coriander seed\",\"spices, saffron\",\"oat flour, partially debranned\",\"spices, chervil, dried\",\"wocas, dried seeds, oregon, yellow pond lily, nuphar lutea (or) - cy0617b\",\"cornmeal, blue (navajo)\",\"spices, nutmeg, ground\",\"spices, celery seed\",\"spices, mace, ground\",\"celery flakes, dried\",\"wheat flour, whole-grain, soft wheat\",\"chickpea flour (besan)\",\"coffee, dry, powder, with whitener, reduced calorie\",\"coffee and cocoa (mocha) powder, with whitener and low calorie sweetener\",\"coffee and cocoa (mocha) powder, with whitener and low calorie sweetener, decaffeinated\",\"spices, pepper, white\",\"spices, turmeric, ground\",\"leavening agents, baking powder, low-sodium\",\"spices, tarragon, dried\",\"leavening agents, baking powder, double-acting, straight phosphate\",\"spices, marjoram, dried\",\"leavening agents, baking powder, double-acting, sodium aluminum sulfate\",\"spices, bay leaf\",\"seaweed, konbu, dried (kelp)\",\"spices, cumin seed\",\"sunflower seeds, decorticated, dried\",\"curry powder\",\"spices, curry powder\",\"jujube, dried\",\"fungi, cloud ears, dried\",\"spices, pepper, red or cayenne\",\"spices, rosemary, dried\",\"pepeao, dried\",\"corn flour, degermed, unenriched, yellow\",\"dill weed, dried\",\"spices, dill weed, dried\",\"cereals, whole wheat hot natural cereal, dry\",\"rose hip, dried, powder\",\"spices, savory, ground\",\"corn flour, whole-grain, blue (harina de maiz morado)\",\"cocoa, dry powder, hi-fat or breakfast, plain\",\"cocoa, dry powder, hi-fat or breakfast, processed with alkali\",\"soy flour, low-fat\",\"fruit, mixed, (prune and apricot and pear), dried\",\"cocoa, dry powder, unsweetened, hersheys european style cocoa\",\"spices, cardamom\",\"currants, zante, dried\",\"peppers, pasilla, dried\",\"seaweed, agar, dried\",\"agave, dried (southwest)\",\"corn, dried (navajo)\"],\"textfont\":{\"size\":7},\"textposition\":\"top center\",\"type\":\"scatter\",\"x\":[53.743343353271484,52.45402145385742,67.38584899902344,68.30799865722656,68.87952423095703,69.77600860595703,72.35655212402344,70.44644165039062,71.68383026123047,70.63684844970703,64.0445556640625,60.22322082519531,60.10116195678711,69.7445068359375,59.73691177368164,67.5928955078125,77.97482299804688,73.4463882446289,68.22127532958984,82.7153091430664,74.85993194580078,81.57859802246094,78.25928497314453,72.35623931884766,61.76327896118164,66.95451354980469,70.87671661376953,74.84208679199219,72.31987762451172,63.8961067199707,66.68751525878906,71.5647201538086,65.19503784179688,69.59523010253906,66.36896514892578,77.97518157958984,73.1689453125,64.518798828125,83.29329681396484,77.30628204345703,85.21134185791016,59.47470474243164,66.27691650390625,69.21814727783203,79.09915161132812,64.48562622070312,63.57322311401367,78.78760528564453,75.02483367919922,80.87969970703125,74.3510971069336,76.28882598876953,63.208980560302734,70.22550964355469,75.25064086914062,74.76139068603516,57.276206970214844,69.17609405517578,70.76970672607422,72.37725830078125],\"xaxis\":\"x\",\"y\":[-44.822021484375,-44.489105224609375,-48.26527404785156,-50.04979705810547,-46.835906982421875,-51.08852767944336,-47.248802185058594,-49.535831451416016,-50.69693374633789,-46.34218215942383,-47.5869140625,-59.372161865234375,-46.70738220214844,-59.627769470214844,-54.59437561035156,-56.14310073852539,-43.96259307861328,-62.54037094116211,-38.89339828491211,-41.39461135864258,-58.04492950439453,-45.97335433959961,-39.70048141479492,-53.28118896484375,-50.59772872924805,-52.68972396850586,-41.414794921875,-45.572120666503906,-44.240657806396484,-53.971038818359375,-42.268741607666016,-56.40174865722656,-50.42991638183594,-53.722900390625,-45.437808990478516,-47.66072463989258,-38.56425094604492,-35.623291015625,-55.0910530090332,-51.184757232666016,-48.967140197753906,-41.64291000366211,-62.506961822509766,-44.0018196105957,-59.8397216796875,-57.97275924682617,-39.97603988647461,-54.9776496887207,-48.40753173828125,-50.70855712890625,-51.163002014160156,-35.28608703613281,-44.11968994140625,-34.81407928466797,-54.340423583984375,-42.036521911621094,-50.608428955078125,-48.52047348022461,-48.00553894042969,-49.050662994384766],\"yaxis\":\"y\"}],                        {\"legend\":{\"title\":{\"text\":\"cluster\"},\"tracegroupgap\":0},\"margin\":{\"t\":60},\"template\":{\"data\":{\"bar\":[{\"error_x\":{\"color\":\"#2a3f5f\"},\"error_y\":{\"color\":\"#2a3f5f\"},\"marker\":{\"line\":{\"color\":\"#E5ECF6\",\"width\":0.5},\"pattern\":{\"fillmode\":\"overlay\",\"size\":10,\"solidity\":0.2}},\"type\":\"bar\"}],\"barpolar\":[{\"marker\":{\"line\":{\"color\":\"#E5ECF6\",\"width\":0.5},\"pattern\":{\"fillmode\":\"overlay\",\"size\":10,\"solidity\":0.2}},\"type\":\"barpolar\"}],\"carpet\":[{\"aaxis\":{\"endlinecolor\":\"#2a3f5f\",\"gridcolor\":\"white\",\"linecolor\":\"white\",\"minorgridcolor\":\"white\",\"startlinecolor\":\"#2a3f5f\"},\"baxis\":{\"endlinecolor\":\"#2a3f5f\",\"gridcolor\":\"white\",\"linecolor\":\"white\",\"minorgridcolor\":\"white\",\"startlinecolor\":\"#2a3f5f\"},\"type\":\"carpet\"}],\"choropleth\":[{\"colorbar\":{\"outlinewidth\":0,\"ticks\":\"\"},\"type\":\"choropleth\"}],\"contour\":[{\"colorbar\":{\"outlinewidth\":0,\"ticks\":\"\"},\"colorscale\":[[0.0,\"#0d0887\"],[0.1111111111111111,\"#46039f\"],[0.2222222222222222,\"#7201a8\"],[0.3333333333333333,\"#9c179e\"],[0.4444444444444444,\"#bd3786\"],[0.5555555555555556,\"#d8576b\"],[0.6666666666666666,\"#ed7953\"],[0.7777777777777778,\"#fb9f3a\"],[0.8888888888888888,\"#fdca26\"],[1.0,\"#f0f921\"]],\"type\":\"contour\"}],\"contourcarpet\":[{\"colorbar\":{\"outlinewidth\":0,\"ticks\":\"\"},\"type\":\"contourcarpet\"}],\"heatmap\":[{\"colorbar\":{\"outlinewidth\":0,\"ticks\":\"\"},\"colorscale\":[[0.0,\"#0d0887\"],[0.1111111111111111,\"#46039f\"],[0.2222222222222222,\"#7201a8\"],[0.3333333333333333,\"#9c179e\"],[0.4444444444444444,\"#bd3786\"],[0.5555555555555556,\"#d8576b\"],[0.6666666666666666,\"#ed7953\"],[0.7777777777777778,\"#fb9f3a\"],[0.8888888888888888,\"#fdca26\"],[1.0,\"#f0f921\"]],\"type\":\"heatmap\"}],\"heatmapgl\":[{\"colorbar\":{\"outlinewidth\":0,\"ticks\":\"\"},\"colorscale\":[[0.0,\"#0d0887\"],[0.1111111111111111,\"#46039f\"],[0.2222222222222222,\"#7201a8\"],[0.3333333333333333,\"#9c179e\"],[0.4444444444444444,\"#bd3786\"],[0.5555555555555556,\"#d8576b\"],[0.6666666666666666,\"#ed7953\"],[0.7777777777777778,\"#fb9f3a\"],[0.8888888888888888,\"#fdca26\"],[1.0,\"#f0f921\"]],\"type\":\"heatmapgl\"}],\"histogram\":[{\"marker\":{\"pattern\":{\"fillmode\":\"overlay\",\"size\":10,\"solidity\":0.2}},\"type\":\"histogram\"}],\"histogram2d\":[{\"colorbar\":{\"outlinewidth\":0,\"ticks\":\"\"},\"colorscale\":[[0.0,\"#0d0887\"],[0.1111111111111111,\"#46039f\"],[0.2222222222222222,\"#7201a8\"],[0.3333333333333333,\"#9c179e\"],[0.4444444444444444,\"#bd3786\"],[0.5555555555555556,\"#d8576b\"],[0.6666666666666666,\"#ed7953\"],[0.7777777777777778,\"#fb9f3a\"],[0.8888888888888888,\"#fdca26\"],[1.0,\"#f0f921\"]],\"type\":\"histogram2d\"}],\"histogram2dcontour\":[{\"colorbar\":{\"outlinewidth\":0,\"ticks\":\"\"},\"colorscale\":[[0.0,\"#0d0887\"],[0.1111111111111111,\"#46039f\"],[0.2222222222222222,\"#7201a8\"],[0.3333333333333333,\"#9c179e\"],[0.4444444444444444,\"#bd3786\"],[0.5555555555555556,\"#d8576b\"],[0.6666666666666666,\"#ed7953\"],[0.7777777777777778,\"#fb9f3a\"],[0.8888888888888888,\"#fdca26\"],[1.0,\"#f0f921\"]],\"type\":\"histogram2dcontour\"}],\"mesh3d\":[{\"colorbar\":{\"outlinewidth\":0,\"ticks\":\"\"},\"type\":\"mesh3d\"}],\"parcoords\":[{\"line\":{\"colorbar\":{\"outlinewidth\":0,\"ticks\":\"\"}},\"type\":\"parcoords\"}],\"pie\":[{\"automargin\":true,\"type\":\"pie\"}],\"scatter\":[{\"marker\":{\"colorbar\":{\"outlinewidth\":0,\"ticks\":\"\"}},\"type\":\"scatter\"}],\"scatter3d\":[{\"line\":{\"colorbar\":{\"outlinewidth\":0,\"ticks\":\"\"}},\"marker\":{\"colorbar\":{\"outlinewidth\":0,\"ticks\":\"\"}},\"type\":\"scatter3d\"}],\"scattercarpet\":[{\"marker\":{\"colorbar\":{\"outlinewidth\":0,\"ticks\":\"\"}},\"type\":\"scattercarpet\"}],\"scattergeo\":[{\"marker\":{\"colorbar\":{\"outlinewidth\":0,\"ticks\":\"\"}},\"type\":\"scattergeo\"}],\"scattergl\":[{\"marker\":{\"colorbar\":{\"outlinewidth\":0,\"ticks\":\"\"}},\"type\":\"scattergl\"}],\"scattermapbox\":[{\"marker\":{\"colorbar\":{\"outlinewidth\":0,\"ticks\":\"\"}},\"type\":\"scattermapbox\"}],\"scatterpolar\":[{\"marker\":{\"colorbar\":{\"outlinewidth\":0,\"ticks\":\"\"}},\"type\":\"scatterpolar\"}],\"scatterpolargl\":[{\"marker\":{\"colorbar\":{\"outlinewidth\":0,\"ticks\":\"\"}},\"type\":\"scatterpolargl\"}],\"scatterternary\":[{\"marker\":{\"colorbar\":{\"outlinewidth\":0,\"ticks\":\"\"}},\"type\":\"scatterternary\"}],\"surface\":[{\"colorbar\":{\"outlinewidth\":0,\"ticks\":\"\"},\"colorscale\":[[0.0,\"#0d0887\"],[0.1111111111111111,\"#46039f\"],[0.2222222222222222,\"#7201a8\"],[0.3333333333333333,\"#9c179e\"],[0.4444444444444444,\"#bd3786\"],[0.5555555555555556,\"#d8576b\"],[0.6666666666666666,\"#ed7953\"],[0.7777777777777778,\"#fb9f3a\"],[0.8888888888888888,\"#fdca26\"],[1.0,\"#f0f921\"]],\"type\":\"surface\"}],\"table\":[{\"cells\":{\"fill\":{\"color\":\"#EBF0F8\"},\"line\":{\"color\":\"white\"}},\"header\":{\"fill\":{\"color\":\"#C8D4E3\"},\"line\":{\"color\":\"white\"}},\"type\":\"table\"}]},\"layout\":{\"annotationdefaults\":{\"arrowcolor\":\"#2a3f5f\",\"arrowhead\":0,\"arrowwidth\":1},\"autotypenumbers\":\"strict\",\"coloraxis\":{\"colorbar\":{\"outlinewidth\":0,\"ticks\":\"\"}},\"colorscale\":{\"diverging\":[[0,\"#8e0152\"],[0.1,\"#c51b7d\"],[0.2,\"#de77ae\"],[0.3,\"#f1b6da\"],[0.4,\"#fde0ef\"],[0.5,\"#f7f7f7\"],[0.6,\"#e6f5d0\"],[0.7,\"#b8e186\"],[0.8,\"#7fbc41\"],[0.9,\"#4d9221\"],[1,\"#276419\"]],\"sequential\":[[0.0,\"#0d0887\"],[0.1111111111111111,\"#46039f\"],[0.2222222222222222,\"#7201a8\"],[0.3333333333333333,\"#9c179e\"],[0.4444444444444444,\"#bd3786\"],[0.5555555555555556,\"#d8576b\"],[0.6666666666666666,\"#ed7953\"],[0.7777777777777778,\"#fb9f3a\"],[0.8888888888888888,\"#fdca26\"],[1.0,\"#f0f921\"]],\"sequentialminus\":[[0.0,\"#0d0887\"],[0.1111111111111111,\"#46039f\"],[0.2222222222222222,\"#7201a8\"],[0.3333333333333333,\"#9c179e\"],[0.4444444444444444,\"#bd3786\"],[0.5555555555555556,\"#d8576b\"],[0.6666666666666666,\"#ed7953\"],[0.7777777777777778,\"#fb9f3a\"],[0.8888888888888888,\"#fdca26\"],[1.0,\"#f0f921\"]]},\"colorway\":[\"#636efa\",\"#EF553B\",\"#00cc96\",\"#ab63fa\",\"#FFA15A\",\"#19d3f3\",\"#FF6692\",\"#B6E880\",\"#FF97FF\",\"#FECB52\"],\"font\":{\"color\":\"#2a3f5f\"},\"geo\":{\"bgcolor\":\"white\",\"lakecolor\":\"white\",\"landcolor\":\"#E5ECF6\",\"showlakes\":true,\"showland\":true,\"subunitcolor\":\"white\"},\"hoverlabel\":{\"align\":\"left\"},\"hovermode\":\"closest\",\"mapbox\":{\"style\":\"light\"},\"paper_bgcolor\":\"white\",\"plot_bgcolor\":\"#E5ECF6\",\"polar\":{\"angularaxis\":{\"gridcolor\":\"white\",\"linecolor\":\"white\",\"ticks\":\"\"},\"bgcolor\":\"#E5ECF6\",\"radialaxis\":{\"gridcolor\":\"white\",\"linecolor\":\"white\",\"ticks\":\"\"}},\"scene\":{\"xaxis\":{\"backgroundcolor\":\"#E5ECF6\",\"gridcolor\":\"white\",\"gridwidth\":2,\"linecolor\":\"white\",\"showbackground\":true,\"ticks\":\"\",\"zerolinecolor\":\"white\"},\"yaxis\":{\"backgroundcolor\":\"#E5ECF6\",\"gridcolor\":\"white\",\"gridwidth\":2,\"linecolor\":\"white\",\"showbackground\":true,\"ticks\":\"\",\"zerolinecolor\":\"white\"},\"zaxis\":{\"backgroundcolor\":\"#E5ECF6\",\"gridcolor\":\"white\",\"gridwidth\":2,\"linecolor\":\"white\",\"showbackground\":true,\"ticks\":\"\",\"zerolinecolor\":\"white\"}},\"shapedefaults\":{\"line\":{\"color\":\"#2a3f5f\"}},\"ternary\":{\"aaxis\":{\"gridcolor\":\"white\",\"linecolor\":\"white\",\"ticks\":\"\"},\"baxis\":{\"gridcolor\":\"white\",\"linecolor\":\"white\",\"ticks\":\"\"},\"bgcolor\":\"#E5ECF6\",\"caxis\":{\"gridcolor\":\"white\",\"linecolor\":\"white\",\"ticks\":\"\"}},\"title\":{\"x\":0.05},\"xaxis\":{\"automargin\":true,\"gridcolor\":\"white\",\"linecolor\":\"white\",\"ticks\":\"\",\"title\":{\"standoff\":15},\"zerolinecolor\":\"white\",\"zerolinewidth\":2},\"yaxis\":{\"automargin\":true,\"gridcolor\":\"white\",\"linecolor\":\"white\",\"ticks\":\"\",\"title\":{\"standoff\":15},\"zerolinecolor\":\"white\",\"zerolinewidth\":2}}},\"title\":{\"text\":\"An\\u00e1lisis de ingredientes objetivos FooDB: TSNE con filtro ANE.\"},\"xaxis\":{\"anchor\":\"y\",\"domain\":[0.0,1.0],\"title\":{\"text\":\"x1\"}},\"yaxis\":{\"anchor\":\"x\",\"domain\":[0.0,1.0],\"title\":{\"text\":\"x2\"}}},                        {\"responsive\": true}                    ).then(function(){\n",
       "                            \n",
       "var gd = document.getElementById('b5bc87a2-a8f8-4198-a7d4-3dc82c197099');\n",
       "var x = new MutationObserver(function (mutations, observer) {{\n",
       "        var display = window.getComputedStyle(gd).display;\n",
       "        if (!display || display === 'none') {{\n",
       "            console.log([gd, 'removed!']);\n",
       "            Plotly.purge(gd);\n",
       "            observer.disconnect();\n",
       "        }}\n",
       "}});\n",
       "\n",
       "// Listen for the removal of the full notebook cells\n",
       "var notebookContainer = gd.closest('#notebook-container');\n",
       "if (notebookContainer) {{\n",
       "    x.observe(notebookContainer, {childList: true});\n",
       "}}\n",
       "\n",
       "// Listen for the clearing of the current output cell\n",
       "var outputEl = gd.closest('.output');\n",
       "if (outputEl) {{\n",
       "    x.observe(outputEl, {childList: true});\n",
       "}}\n",
       "\n",
       "                        })                };                });            </script>        </div>"
      ]
     },
     "metadata": {},
     "output_type": "display_data"
    },
    {
     "name": "stdout",
     "output_type": "stream",
     "text": [
      "Getting T-SNE from group G...\n"
     ]
    },
    {
     "data": {
      "application/vnd.plotly.v1+json": {
       "config": {
        "plotlyServerURL": "https://plot.ly"
       },
       "data": [
        {
         "customdata": [
          [
           "date, dried",
           0
          ],
          [
           "fig, dried",
           0
          ],
          [
           "prune, dried plum",
           0
          ],
          [
           "nut, hazel (uk), filbert (usa), dried",
           0
          ],
          [
           "yeast, dried",
           0
          ],
          [
           "beans, soy, dried",
           0
          ],
          [
           "pine nuts, pignolias, dried",
           0
          ],
          [
           "cocoa, powder",
           0
          ],
          [
           "pistachio nuts, dried",
           0
          ],
          [
           "pecans, dried",
           0
          ],
          [
           "soya flour, full fat",
           0
          ],
          [
           "nut, pea, dried",
           0
          ],
          [
           "sesame seeds, whole, dried",
           0
          ],
          [
           "peach, dried",
           0
          ],
          [
           "apple, dried",
           0
          ],
          [
           "sesame seed, decorticated",
           0
          ],
          [
           "tomato, dried",
           0
          ],
          [
           "apricot, dried",
           0
          ],
          [
           "sunflower seeds, decorticated, dried",
           0
          ],
          [
           "curry powder",
           0
          ],
          [
           "rose hip, dried, powder",
           0
          ]
         ],
         "hovertemplate": "cluster=%{customdata[1]}<br>x1=%{x}<br>x2=%{y}<br>label=%{customdata[0]}<extra></extra>",
         "legendgroup": "0",
         "marker": {
          "color": "#636efa",
          "opacity": 0.5,
          "size": 15,
          "symbol": "circle"
         },
         "mode": "markers+text",
         "name": "0",
         "orientation": "v",
         "showlegend": true,
         "text": [
          "date, dried",
          "fig, dried",
          "prune, dried plum",
          "nut, hazel (uk), filbert (usa), dried",
          "yeast, dried",
          "beans, soy, dried",
          "pine nuts, pignolias, dried",
          "cocoa, powder",
          "pistachio nuts, dried",
          "pecans, dried",
          "soya flour, full fat",
          "nut, pea, dried",
          "sesame seeds, whole, dried",
          "peach, dried",
          "apple, dried",
          "sesame seed, decorticated",
          "tomato, dried",
          "apricot, dried",
          "sunflower seeds, decorticated, dried",
          "curry powder",
          "rose hip, dried, powder"
         ],
         "textfont": {
          "size": 7
         },
         "textposition": "top center",
         "type": "scatter",
         "x": [
          -49.80731201171875,
          -50.524139404296875,
          -51.71249008178711,
          -68.93843078613281,
          -52.673431396484375,
          -62.562252044677734,
          -78.84999084472656,
          -56.640968322753906,
          -70.53533935546875,
          -80.39964294433594,
          -63.27581024169922,
          -67.87357330322266,
          -76.2505111694336,
          -51.95849609375,
          -84.38975524902344,
          -72.9193115234375,
          -52.3399772644043,
          -83.25189208984375,
          -73.1449966430664,
          -54.94546127319336,
          -53.493717193603516
         ],
         "xaxis": "x",
         "y": [
          129.56112670898438,
          127.17803192138672,
          124.8770523071289,
          104.82317352294922,
          111.67207336425781,
          98.7419662475586,
          101.35126495361328,
          111.69374084472656,
          101.6611328125,
          101.80528259277344,
          97.35421752929688,
          102.39080810546875,
          99.19417572021484,
          128.407470703125,
          110.49544525146484,
          100.64144897460938,
          122.67557525634766,
          111.41744232177734,
          98.99395751953125,
          112.28861999511719,
          117.66722106933594
         ],
         "yaxis": "y"
        },
        {
         "customdata": [
          [
           "cereals, farina, unenriched, dry",
           1
          ],
          [
           "nuts, ginkgo nuts, dried",
           1
          ],
          [
           "cornmeal, yellow (navajo)",
           1
          ],
          [
           "cereals, corn grits, white, regular and quick, unenriched, dry",
           1
          ],
          [
           "tapioca, pearl, dry",
           1
          ],
          [
           "longans, dried",
           1
          ],
          [
           "cornmeal, degermed, unenriched, white",
           1
          ],
          [
           "millet flour",
           1
          ],
          [
           "buckwheat flour, whole-groat",
           1
          ],
          [
           "spices, onion powder",
           1
          ],
          [
           "cornmeal, whole-grain, yellow",
           1
          ],
          [
           "rye flour, medium",
           1
          ],
          [
           "cereals, corn grits, white, regular and quick, unenriched, dry",
           1
          ],
          [
           "spices, garlic powder",
           1
          ],
          [
           "cornmeal, whole-grain, white",
           1
          ],
          [
           "cornstarch",
           1
          ],
          [
           "cornmeal, degermed, unenriched, yellow",
           1
          ],
          [
           "wheat flour, whole-grain",
           1
          ],
          [
           "cereals, corn grits, yellow, regular and quick, unenriched, dry",
           1
          ],
          [
           "nuts, chestnuts, european, dried, unpeeled",
           1
          ],
          [
           "cereals, corn grits, yellow, regular and quick, unenriched, dry",
           1
          ],
          [
           "nuts, chestnuts, japanese, dried",
           1
          ],
          [
           "bulgur, dry",
           1
          ],
          [
           "barley flour or meal",
           1
          ],
          [
           "barley malt flour",
           1
          ],
          [
           "seeds, lotus seeds, dried",
           1
          ],
          [
           "rice flour, brown",
           1
          ],
          [
           "corn flour, masa, unenriched, white",
           1
          ],
          [
           "cornmeal, white (navajo)",
           1
          ],
          [
           "spices, ginger, ground",
           1
          ],
          [
           "arrowroot flour",
           1
          ],
          [
           "rye flour, light",
           1
          ],
          [
           "cereals, oats, regular and quick, not fortified, dry",
           1
          ],
          [
           "persimmons, japanese, dried",
           1
          ],
          [
           "rice flour, white",
           1
          ],
          [
           "corn flour, whole-grain, white",
           1
          ],
          [
           "corn flour, whole-grain, yellow",
           1
          ],
          [
           "nuts, chestnuts, chinese, dried",
           1
          ],
          [
           "rice, white, long-grain, parboiled, unenriched, dry",
           1
          ],
          [
           "nuts, chestnuts, european, dried, peeled",
           1
          ],
          [
           "wheat flour, white, all-purpose, unenriched",
           1
          ],
          [
           "triticale flour, whole-grain",
           1
          ],
          [
           "rice, white, with pasta, dry",
           1
          ],
          [
           "sorghum flour",
           1
          ],
          [
           "mushrooms, shiitake, dried",
           1
          ],
          [
           "seeds, sisymbrium sp. seeds, whole, dried",
           1
          ],
          [
           "spices, saffron",
           1
          ],
          [
           "oat flour, partially debranned",
           1
          ],
          [
           "wocas, dried seeds, oregon, yellow pond lily, nuphar lutea (or) - cy0617b",
           1
          ],
          [
           "cornmeal, blue (navajo)",
           1
          ],
          [
           "wheat flour, whole-grain, soft wheat",
           1
          ],
          [
           "leavening agents, baking powder, low-sodium",
           1
          ],
          [
           "leavening agents, baking powder, double-acting, straight phosphate",
           1
          ],
          [
           "leavening agents, baking powder, double-acting, sodium aluminum sulfate",
           1
          ],
          [
           "jujube, dried",
           1
          ],
          [
           "pepeao, dried",
           1
          ],
          [
           "corn flour, degermed, unenriched, yellow",
           1
          ],
          [
           "cereals, whole wheat hot natural cereal, dry",
           1
          ],
          [
           "corn flour, whole-grain, blue (harina de maiz morado)",
           1
          ],
          [
           "fruit, mixed, (prune and apricot and pear), dried",
           1
          ],
          [
           "seaweed, agar, dried",
           1
          ],
          [
           "corn, dried (navajo)",
           1
          ]
         ],
         "hovertemplate": "cluster=%{customdata[1]}<br>x1=%{x}<br>x2=%{y}<br>label=%{customdata[0]}<extra></extra>",
         "legendgroup": "1",
         "marker": {
          "color": "#EF553B",
          "opacity": 0.5,
          "size": 15,
          "symbol": "circle"
         },
         "mode": "markers+text",
         "name": "1",
         "orientation": "v",
         "showlegend": true,
         "text": [
          "cereals, farina, unenriched, dry",
          "nuts, ginkgo nuts, dried",
          "cornmeal, yellow (navajo)",
          "cereals, corn grits, white, regular and quick, unenriched, dry",
          "tapioca, pearl, dry",
          "longans, dried",
          "cornmeal, degermed, unenriched, white",
          "millet flour",
          "buckwheat flour, whole-groat",
          "spices, onion powder",
          "cornmeal, whole-grain, yellow",
          "rye flour, medium",
          "cereals, corn grits, white, regular and quick, unenriched, dry",
          "spices, garlic powder",
          "cornmeal, whole-grain, white",
          "cornstarch",
          "cornmeal, degermed, unenriched, yellow",
          "wheat flour, whole-grain",
          "cereals, corn grits, yellow, regular and quick, unenriched, dry",
          "nuts, chestnuts, european, dried, unpeeled",
          "cereals, corn grits, yellow, regular and quick, unenriched, dry",
          "nuts, chestnuts, japanese, dried",
          "bulgur, dry",
          "barley flour or meal",
          "barley malt flour",
          "seeds, lotus seeds, dried",
          "rice flour, brown",
          "corn flour, masa, unenriched, white",
          "cornmeal, white (navajo)",
          "spices, ginger, ground",
          "arrowroot flour",
          "rye flour, light",
          "cereals, oats, regular and quick, not fortified, dry",
          "persimmons, japanese, dried",
          "rice flour, white",
          "corn flour, whole-grain, white",
          "corn flour, whole-grain, yellow",
          "nuts, chestnuts, chinese, dried",
          "rice, white, long-grain, parboiled, unenriched, dry",
          "nuts, chestnuts, european, dried, peeled",
          "wheat flour, white, all-purpose, unenriched",
          "triticale flour, whole-grain",
          "rice, white, with pasta, dry",
          "sorghum flour",
          "mushrooms, shiitake, dried",
          "seeds, sisymbrium sp. seeds, whole, dried",
          "spices, saffron",
          "oat flour, partially debranned",
          "wocas, dried seeds, oregon, yellow pond lily, nuphar lutea (or) - cy0617b",
          "cornmeal, blue (navajo)",
          "wheat flour, whole-grain, soft wheat",
          "leavening agents, baking powder, low-sodium",
          "leavening agents, baking powder, double-acting, straight phosphate",
          "leavening agents, baking powder, double-acting, sodium aluminum sulfate",
          "jujube, dried",
          "pepeao, dried",
          "corn flour, degermed, unenriched, yellow",
          "cereals, whole wheat hot natural cereal, dry",
          "corn flour, whole-grain, blue (harina de maiz morado)",
          "fruit, mixed, (prune and apricot and pear), dried",
          "seaweed, agar, dried",
          "corn, dried (navajo)"
         ],
         "textfont": {
          "size": 7
         },
         "textposition": "top center",
         "type": "scatter",
         "x": [
          59.15396499633789,
          65.96705627441406,
          71.38666534423828,
          59.3681526184082,
          89.65276336669922,
          72.21957397460938,
          80.87523651123047,
          65.36988830566406,
          35.996883392333984,
          50.50043487548828,
          65.66848754882812,
          48.093753814697266,
          61.91987991333008,
          39.54102325439453,
          66.57736206054688,
          91.61812591552734,
          79.42293548583984,
          37.23118209838867,
          59.72704315185547,
          58.8021240234375,
          61.565521240234375,
          75.48387145996094,
          38.55276107788086,
          49.429931640625,
          58.880435943603516,
          29.861785888671875,
          70.87391662597656,
          65.72020721435547,
          74.45117950439453,
          45.26278305053711,
          91.2633056640625,
          57.64084243774414,
          33.95231246948242,
          55.36591339111328,
          80.90092468261719,
          62.5818977355957,
          61.827030181884766,
          73.2390365600586,
          82.94883728027344,
          70.781494140625,
          59.69263458251953,
          39.34049606323242,
          66.31049346923828,
          68.5031967163086,
          48.93986892700195,
          26.03343963623047,
          29.29509925842285,
          31.24995994567871,
          37.93973922729492,
          73.71256256103516,
          46.20022964477539,
          15.011319160461426,
          12.278738021850586,
          13.184357643127441,
          73.37396240234375,
          76.5118179321289,
          80.6816177368164,
          50.579566955566406,
          69.35009765625,
          52.75552749633789,
          80.9272232055664,
          64.99378967285156
         ],
         "xaxis": "x",
         "y": [
          11.833205223083496,
          -6.070009231567383,
          -30.8717098236084,
          18.96089744567871,
          52.307674407958984,
          0.6877795457839966,
          24.9818058013916,
          -14.754413604736328,
          -45.49983596801758,
          -59.44139862060547,
          -23.40754508972168,
          -53.73789978027344,
          20.79009437561035,
          -44.98361587524414,
          -24.732810974121094,
          52.96345901489258,
          24.639602661132812,
          -46.81757354736328,
          21.143171310424805,
          -27.45586395263672,
          18.60976791381836,
          40.142452239990234,
          -55.258522033691406,
          -51.6495246887207,
          -45.1211051940918,
          -36.838993072509766,
          -20.574886322021484,
          -18.508800506591797,
          -35.13365173339844,
          -58.28829574584961,
          50.9828987121582,
          -46.095821380615234,
          -43.89118957519531,
          -29.196325302124023,
          32.61775588989258,
          -26.472217559814453,
          -24.936899185180664,
          39.788002014160156,
          33.90058898925781,
          39.265342712402344,
          10.366191864013672,
          -52.40137481689453,
          -4.517429828643799,
          -21.898710250854492,
          -57.24844741821289,
          -38.0347900390625,
          -38.77191162109375,
          -41.2468147277832,
          -57.5158576965332,
          -33.79495620727539,
          -54.756221771240234,
          -31.79669761657715,
          -29.422277450561523,
          -30.820526123046875,
          1.620495319366455,
          41.39924240112305,
          36.106224060058594,
          -50.342742919921875,
          -28.325580596923828,
          -29.885061264038086,
          21.69228744506836,
          -12.315644264221191
         ],
         "yaxis": "y"
        },
        {
         "customdata": [
          [
           "corn, dried, yellow (northern plains indians)",
           2
          ],
          [
           "spices, fenugreek seed",
           2
          ],
          [
           "nuts, brazilnuts, dried, unblanched",
           2
          ],
          [
           "spices, basil, dried",
           2
          ],
          [
           "nuts, pine nuts, pinyon, dried",
           2
          ],
          [
           "nuts, pilinuts, dried",
           2
          ],
          [
           "spices, paprika",
           2
          ],
          [
           "nuts, coconut meat, dried (desiccated), toasted",
           2
          ],
          [
           "nuts, pine nuts, dried",
           2
          ],
          [
           "spices, chili powder",
           2
          ],
          [
           "spices, caraway seed",
           2
          ],
          [
           "nuts, acorn flour, full fat",
           2
          ],
          [
           "seeds, sesame seed kernels, dried (decorticated)",
           2
          ],
          [
           "nuts, coconut meat, dried (desiccated), creamed",
           2
          ],
          [
           "peppers, ancho, dried",
           2
          ],
          [
           "cocoa, dry powder, unsweetened, processed with alkali",
           2
          ],
          [
           "nuts, butternuts, dried",
           2
          ],
          [
           "walnuts",
           2
          ],
          [
           "seeds, sunflower seed kernels, toasted, without salt",
           2
          ],
          [
           "cocoa, dry powder, unsweetened",
           2
          ],
          [
           "nuts, acorns, dried",
           2
          ],
          [
           "spices, dill seed",
           2
          ],
          [
           "peanut flour, low fat",
           2
          ],
          [
           "nuts, walnuts, black, dried",
           2
          ],
          [
           "spearmint, dried",
           2
          ],
          [
           "nuts, hickorynuts, dried",
           2
          ],
          [
           "spices, parsley, dried",
           2
          ],
          [
           "spices, fennel seed",
           2
          ],
          [
           "spices, anise seed",
           2
          ],
          [
           "spices, coriander leaf, dried",
           2
          ],
          [
           "spices, coriander seed",
           2
          ],
          [
           "spices, chervil, dried",
           2
          ],
          [
           "spices, nutmeg, ground",
           2
          ],
          [
           "spices, celery seed",
           2
          ],
          [
           "spices, mace, ground",
           2
          ],
          [
           "chickpea flour (besan)",
           2
          ],
          [
           "spices, tarragon, dried",
           2
          ],
          [
           "spices, cumin seed",
           2
          ],
          [
           "spices, curry powder",
           2
          ],
          [
           "spices, pepper, red or cayenne",
           2
          ],
          [
           "spices, dill weed, dried",
           2
          ],
          [
           "cocoa, dry powder, hi-fat or breakfast, plain",
           2
          ],
          [
           "cocoa, dry powder, hi-fat or breakfast, processed with alkali",
           2
          ],
          [
           "cocoa, dry powder, unsweetened, hersheys european style cocoa",
           2
          ],
          [
           "peppers, pasilla, dried",
           2
          ]
         ],
         "hovertemplate": "cluster=%{customdata[1]}<br>x1=%{x}<br>x2=%{y}<br>label=%{customdata[0]}<extra></extra>",
         "legendgroup": "2",
         "marker": {
          "color": "#00cc96",
          "opacity": 0.5,
          "size": 15,
          "symbol": "circle"
         },
         "mode": "markers+text",
         "name": "2",
         "orientation": "v",
         "showlegend": true,
         "text": [
          "corn, dried, yellow (northern plains indians)",
          "spices, fenugreek seed",
          "nuts, brazilnuts, dried, unblanched",
          "spices, basil, dried",
          "nuts, pine nuts, pinyon, dried",
          "nuts, pilinuts, dried",
          "spices, paprika",
          "nuts, coconut meat, dried (desiccated), toasted",
          "nuts, pine nuts, dried",
          "spices, chili powder",
          "spices, caraway seed",
          "nuts, acorn flour, full fat",
          "seeds, sesame seed kernels, dried (decorticated)",
          "nuts, coconut meat, dried (desiccated), creamed",
          "peppers, ancho, dried",
          "cocoa, dry powder, unsweetened, processed with alkali",
          "nuts, butternuts, dried",
          "walnuts",
          "seeds, sunflower seed kernels, toasted, without salt",
          "cocoa, dry powder, unsweetened",
          "nuts, acorns, dried",
          "spices, dill seed",
          "peanut flour, low fat",
          "nuts, walnuts, black, dried",
          "spearmint, dried",
          "nuts, hickorynuts, dried",
          "spices, parsley, dried",
          "spices, fennel seed",
          "spices, anise seed",
          "spices, coriander leaf, dried",
          "spices, coriander seed",
          "spices, chervil, dried",
          "spices, nutmeg, ground",
          "spices, celery seed",
          "spices, mace, ground",
          "chickpea flour (besan)",
          "spices, tarragon, dried",
          "spices, cumin seed",
          "spices, curry powder",
          "spices, pepper, red or cayenne",
          "spices, dill weed, dried",
          "cocoa, dry powder, hi-fat or breakfast, plain",
          "cocoa, dry powder, hi-fat or breakfast, processed with alkali",
          "cocoa, dry powder, unsweetened, hersheys european style cocoa",
          "peppers, pasilla, dried"
         ],
         "textfont": {
          "size": 7
         },
         "textposition": "top center",
         "type": "scatter",
         "x": [
          -24.62395477294922,
          -56.426761627197266,
          -74.45731353759766,
          -48.6975212097168,
          -75.53328704833984,
          -72.49504852294922,
          -30.550477981567383,
          -62.3995475769043,
          -82.64745330810547,
          -32.157188415527344,
          -40.91936111450195,
          -71.51438903808594,
          -76.55892181396484,
          -63.06217956542969,
          -62.374515533447266,
          -50.24006652832031,
          -85.23684692382812,
          -84.80709075927734,
          -88.12569427490234,
          -49.3702507019043,
          -73.03337097167969,
          -68.0537109375,
          -76.48683166503906,
          -84.80709075927734,
          -50.7578125,
          -73.33042907714844,
          -51.844818115234375,
          -41.48164749145508,
          -69.51788330078125,
          -12.141019821166992,
          -42.16184997558594,
          -10.044854164123535,
          -58.61676788330078,
          -74.289794921875,
          -57.94548797607422,
          -15.11503791809082,
          -8.185700416564941,
          -72.50228118896484,
          -48.2048225402832,
          -28.135147094726562,
          -9.969372749328613,
          -56.02379608154297,
          -54.92611312866211,
          -57.40529251098633,
          -61.72241973876953
         ],
         "xaxis": "x",
         "y": [
          -35.00873947143555,
          -12.961080551147461,
          -79.27250671386719,
          -7.742079257965088,
          -82.04102325439453,
          -77.24176025390625,
          -34.55988693237305,
          -59.193809509277344,
          -96.35863494873047,
          -34.27587890625,
          -28.860532760620117,
          -42.078155517578125,
          -80.30094909667969,
          -60.67037582397461,
          -25.043821334838867,
          -34.18518829345703,
          -101.53184509277344,
          -98.91732788085938,
          -99.75749969482422,
          -35.462772369384766,
          -42.18830490112305,
          -29.911096572875977,
          -33.54372024536133,
          -98.91732788085938,
          -7.54426908493042,
          -82.09490966796875,
          -6.2539567947387695,
          -27.19498062133789,
          -30.87099266052246,
          -33.39860916137695,
          -25.395963668823242,
          -32.45150375366211,
          -50.90058517456055,
          -33.31583023071289,
          -48.39445877075195,
          -33.710365295410156,
          -32.35905456542969,
          -32.93143081665039,
          -32.78470230102539,
          -34.84474563598633,
          -34.9000358581543,
          -46.418121337890625,
          -45.29650115966797,
          -14.114116668701172,
          -26.481426239013672
         ],
         "yaxis": "y"
        },
        {
         "customdata": [
          [
           "spices, mustard seed, ground",
           3
          ],
          [
           "seeds, safflower seed kernels, dried",
           3
          ],
          [
           "seeds, flaxseed",
           3
          ],
          [
           "seeds, sunflower seed kernels, dried",
           3
          ],
          [
           "seeds, pumpkin and squash seed kernels, dried",
           3
          ],
          [
           "seeds, pumpkin and squash seed kernels, dried",
           3
          ],
          [
           "seeds, watermelon seed kernels, dried",
           3
          ],
          [
           "seeds, sesame seeds, whole, dried",
           3
          ],
          [
           "seeds, sesame flour, high-fat",
           3
          ],
          [
           "nuts, beechnuts, dried",
           3
          ],
          [
           "seeds, sesame meal, partially defatted",
           3
          ],
          [
           "seeds, pumpkin and squash seed kernels, dried",
           3
          ],
          [
           "tofu, dried-frozen (koyadofu)",
           3
          ],
          [
           "seeds, chia seeds, dried",
           3
          ],
          [
           "spices, poppy seed",
           3
          ]
         ],
         "hovertemplate": "cluster=%{customdata[1]}<br>x1=%{x}<br>x2=%{y}<br>label=%{customdata[0]}<extra></extra>",
         "legendgroup": "3",
         "marker": {
          "color": "#ab63fa",
          "opacity": 0.5,
          "size": 15,
          "symbol": "circle"
         },
         "mode": "markers+text",
         "name": "3",
         "orientation": "v",
         "showlegend": true,
         "text": [
          "spices, mustard seed, ground",
          "seeds, safflower seed kernels, dried",
          "seeds, flaxseed",
          "seeds, sunflower seed kernels, dried",
          "seeds, pumpkin and squash seed kernels, dried",
          "seeds, pumpkin and squash seed kernels, dried",
          "seeds, watermelon seed kernels, dried",
          "seeds, sesame seeds, whole, dried",
          "seeds, sesame flour, high-fat",
          "nuts, beechnuts, dried",
          "seeds, sesame meal, partially defatted",
          "seeds, pumpkin and squash seed kernels, dried",
          "tofu, dried-frozen (koyadofu)",
          "seeds, chia seeds, dried",
          "spices, poppy seed"
         ],
         "textfont": {
          "size": 7
         },
         "textposition": "top center",
         "type": "scatter",
         "x": [
          -102.76324462890625,
          -104.20685577392578,
          -106.4380111694336,
          -107.69498443603516,
          -118.58220672607422,
          -119.76905059814453,
          -121.62373352050781,
          -107.38941955566406,
          -104.4876480102539,
          -102.47531127929688,
          -104.66188049316406,
          -117.78260040283203,
          -106.66123962402344,
          -106.97603607177734,
          -106.02233123779297
         ],
         "xaxis": "x",
         "y": [
          -59.98456573486328,
          -74.16717529296875,
          -81.10832977294922,
          -68.40253448486328,
          -57.040340423583984,
          -58.79843521118164,
          -56.27031326293945,
          -69.89888763427734,
          -59.48046112060547,
          -69.427001953125,
          -70.20514678955078,
          -58.86164093017578,
          -57.645023345947266,
          -83.4194107055664,
          -79.54081726074219
         ],
         "yaxis": "y"
        },
        {
         "customdata": [
          [
           "seeds, sunflower seed flour, partially defatted",
           4
          ],
          [
           "seeds, cottonseed flour, low fat (glandless)",
           4
          ],
          [
           "seeds, sesame flour, partially defatted",
           4
          ],
          [
           "seeds, sesame flour, low-fat",
           4
          ],
          [
           "seeds, cottonseed flour, partially defatted (glandless)",
           4
          ],
          [
           "seaweed, spirulina, dried",
           4
          ],
          [
           "seeds, safflower seed meal, partially defatted",
           4
          ]
         ],
         "hovertemplate": "cluster=%{customdata[1]}<br>x1=%{x}<br>x2=%{y}<br>label=%{customdata[0]}<extra></extra>",
         "legendgroup": "4",
         "marker": {
          "color": "#FFA15A",
          "opacity": 0.5,
          "size": 15,
          "symbol": "circle"
         },
         "mode": "markers+text",
         "name": "4",
         "orientation": "v",
         "showlegend": true,
         "text": [
          "seeds, sunflower seed flour, partially defatted",
          "seeds, cottonseed flour, low fat (glandless)",
          "seeds, sesame flour, partially defatted",
          "seeds, sesame flour, low-fat",
          "seeds, cottonseed flour, partially defatted (glandless)",
          "seaweed, spirulina, dried",
          "seeds, safflower seed meal, partially defatted"
         ],
         "textfont": {
          "size": 7
         },
         "textposition": "top center",
         "type": "scatter",
         "x": [
          -213.9999542236328,
          -215.94390869140625,
          -210.0860137939453,
          -216.17843627929688,
          -209.22084045410156,
          -218.84022521972656,
          -207.02879333496094
         ],
         "xaxis": "x",
         "y": [
          -5.052707672119141,
          -6.164425849914551,
          -8.448736190795898,
          -4.336284637451172,
          -6.965763092041016,
          -3.3593502044677734,
          -5.754537582397461
         ],
         "yaxis": "y"
        },
        {
         "customdata": [
          [
           "carrot, dehydrated",
           5
          ],
          [
           "bananas, dehydrated, or banana powder",
           5
          ],
          [
           "carob flour",
           5
          ],
          [
           "radishes, oriental, dried",
           5
          ],
          [
           "peppers, hot chile, sun-dried",
           5
          ],
          [
           "tomatoes, sun-dried",
           5
          ],
          [
           "onions, dehydrated flakes",
           5
          ],
          [
           "tomato powder",
           5
          ],
          [
           "litchis, dried",
           5
          ],
          [
           "coffee, dry, powder, with whitener, reduced calorie",
           5
          ],
          [
           "coffee, dry, powder, with whitener, reduced calorie",
           5
          ],
          [
           "celery flakes, dried",
           5
          ],
          [
           "coffee, dry, powder, with whitener, reduced calorie",
           5
          ],
          [
           "coffee and cocoa (mocha) powder, with whitener and low calorie sweetener",
           5
          ],
          [
           "coffee and cocoa (mocha) powder, with whitener and low calorie sweetener, decaffeinated",
           5
          ],
          [
           "currants, zante, dried",
           5
          ],
          [
           "agave, dried (southwest)",
           5
          ]
         ],
         "hovertemplate": "cluster=%{customdata[1]}<br>x1=%{x}<br>x2=%{y}<br>label=%{customdata[0]}<extra></extra>",
         "legendgroup": "5",
         "marker": {
          "color": "#19d3f3",
          "opacity": 0.5,
          "size": 15,
          "symbol": "circle"
         },
         "mode": "markers+text",
         "name": "5",
         "orientation": "v",
         "showlegend": true,
         "text": [
          "carrot, dehydrated",
          "bananas, dehydrated, or banana powder",
          "carob flour",
          "radishes, oriental, dried",
          "peppers, hot chile, sun-dried",
          "tomatoes, sun-dried",
          "onions, dehydrated flakes",
          "tomato powder",
          "litchis, dried",
          "coffee, dry, powder, with whitener, reduced calorie",
          "coffee, dry, powder, with whitener, reduced calorie",
          "celery flakes, dried",
          "coffee, dry, powder, with whitener, reduced calorie",
          "coffee and cocoa (mocha) powder, with whitener and low calorie sweetener",
          "coffee and cocoa (mocha) powder, with whitener and low calorie sweetener, decaffeinated",
          "currants, zante, dried",
          "agave, dried (southwest)"
         ],
         "textfont": {
          "size": 7
         },
         "textposition": "top center",
         "type": "scatter",
         "x": [
          146.7982635498047,
          152.8447265625,
          147.93637084960938,
          139.94871520996094,
          142.47012329101562,
          137.2051239013672,
          150.77664184570312,
          147.24668884277344,
          160.80718994140625,
          150.5477752685547,
          150.0933074951172,
          139.8694610595703,
          148.58880615234375,
          146.8384246826172,
          145.44708251953125,
          160.1623992919922,
          153.99295043945312
         ],
         "xaxis": "x",
         "y": [
          -40.521305084228516,
          -36.46625518798828,
          -43.40464782714844,
          -41.11956024169922,
          -41.71220016479492,
          -40.440956115722656,
          -35.69142532348633,
          -38.78453063964844,
          -36.386260986328125,
          -9.987332344055176,
          -7.9893622398376465,
          -42.83695983886719,
          -9.38204288482666,
          -25.499582290649414,
          -25.99283790588379,
          -37.79829025268555,
          -37.8270263671875
         ],
         "yaxis": "y"
        },
        {
         "customdata": [
          [
           "soy flour, defatted",
           6
          ],
          [
           "peanut flour, defatted",
           6
          ],
          [
           "soy flour, low-fat, crude protein basis (n x 6.25)",
           6
          ],
          [
           "leavening agents, yeast, bakers, active dry",
           6
          ],
          [
           "soy flour, defatted, crude protein basis (n x 6.25)",
           6
          ],
          [
           "soy flour, low-fat",
           6
          ]
         ],
         "hovertemplate": "cluster=%{customdata[1]}<br>x1=%{x}<br>x2=%{y}<br>label=%{customdata[0]}<extra></extra>",
         "legendgroup": "6",
         "marker": {
          "color": "#FF6692",
          "opacity": 0.5,
          "size": 15,
          "symbol": "circle"
         },
         "mode": "markers+text",
         "name": "6",
         "orientation": "v",
         "showlegend": true,
         "text": [
          "soy flour, defatted",
          "peanut flour, defatted",
          "soy flour, low-fat, crude protein basis (n x 6.25)",
          "leavening agents, yeast, bakers, active dry",
          "soy flour, defatted, crude protein basis (n x 6.25)",
          "soy flour, low-fat"
         ],
         "textfont": {
          "size": 7
         },
         "textposition": "top center",
         "type": "scatter",
         "x": [
          -47.89814758300781,
          -50.67198181152344,
          -46.134212493896484,
          -48.8687744140625,
          -47.240787506103516,
          -48.051517486572266
         ],
         "xaxis": "x",
         "y": [
          24.07000160217285,
          20.678142547607422,
          22.63734245300293,
          15.314577102661133,
          19.538623809814453,
          18.590492248535156
         ],
         "yaxis": "y"
        },
        {
         "customdata": [
          [
           "spices, pepper, black",
           7
          ],
          [
           "rye flour, dark",
           7
          ],
          [
           "spices, allspice, ground",
           7
          ],
          [
           "spices, pepper, white",
           7
          ],
          [
           "spices, turmeric, ground",
           7
          ],
          [
           "spices, bay leaf",
           7
          ],
          [
           "spices, cardamom",
           7
          ]
         ],
         "hovertemplate": "cluster=%{customdata[1]}<br>x1=%{x}<br>x2=%{y}<br>label=%{customdata[0]}<extra></extra>",
         "legendgroup": "7",
         "marker": {
          "color": "#B6E880",
          "opacity": 0.5,
          "size": 15,
          "symbol": "circle"
         },
         "mode": "markers+text",
         "name": "7",
         "orientation": "v",
         "showlegend": true,
         "text": [
          "spices, pepper, black",
          "rye flour, dark",
          "spices, allspice, ground",
          "spices, pepper, white",
          "spices, turmeric, ground",
          "spices, bay leaf",
          "spices, cardamom"
         ],
         "textfont": {
          "size": 7
         },
         "textposition": "top center",
         "type": "scatter",
         "x": [
          -9.323348045349121,
          -12.429702758789062,
          -2.2864065170288086,
          -10.233957290649414,
          -4.403681755065918,
          -1.661686897277832,
          -7.700806140899658
         ],
         "xaxis": "x",
         "y": [
          -91.358154296875,
          -93.3718032836914,
          -90.20213317871094,
          -93.09130096435547,
          -88.43473052978516,
          -91.76089477539062,
          -92.99241638183594
         ],
         "yaxis": "y"
        },
        {
         "customdata": [
          [
           "beans, white, dried",
           8
          ],
          [
           "lentils, dried",
           8
          ],
          [
           "rye flour, dark, whole meal",
           8
          ],
          [
           "beans, brown, dried",
           8
          ],
          [
           "buckwheat flour",
           8
          ],
          [
           "wheat flour",
           8
          ],
          [
           "potato flour",
           8
          ],
          [
           "wheat flour",
           8
          ],
          [
           "rice flour",
           8
          ],
          [
           "corn flour",
           8
          ],
          [
           "garlic, dried, powder",
           8
          ],
          [
           "wheat, flour, wholemeal",
           8
          ],
          [
           "corn starch",
           8
          ],
          [
           "baking powder",
           8
          ],
          [
           "coriander, leaf, dried",
           8
          ],
          [
           "seaweed, konbu, dried (kelp)",
           8
          ],
          [
           "dill weed, dried",
           8
          ]
         ],
         "hovertemplate": "cluster=%{customdata[1]}<br>x1=%{x}<br>x2=%{y}<br>label=%{customdata[0]}<extra></extra>",
         "legendgroup": "8",
         "marker": {
          "color": "#FF97FF",
          "opacity": 0.5,
          "size": 15,
          "symbol": "circle"
         },
         "mode": "markers+text",
         "name": "8",
         "orientation": "v",
         "showlegend": true,
         "text": [
          "beans, white, dried",
          "lentils, dried",
          "rye flour, dark, whole meal",
          "beans, brown, dried",
          "buckwheat flour",
          "wheat flour",
          "potato flour",
          "wheat flour",
          "rice flour",
          "corn flour",
          "garlic, dried, powder",
          "wheat, flour, wholemeal",
          "corn starch",
          "baking powder",
          "coriander, leaf, dried",
          "seaweed, konbu, dried (kelp)",
          "dill weed, dried"
         ],
         "textfont": {
          "size": 7
         },
         "textposition": "top center",
         "type": "scatter",
         "x": [
          -26.211904525756836,
          -19.67157745361328,
          -7.2704620361328125,
          -27.460865020751953,
          0.03866378217935562,
          2.577113628387451,
          12.455509185791016,
          2.4781785011291504,
          9.089166641235352,
          7.286661148071289,
          -3.4405157566070557,
          -5.871815204620361,
          13.14222240447998,
          -22.177505493164062,
          -23.061281204223633,
          -22.165016174316406,
          -21.544816970825195
         ],
         "xaxis": "x",
         "y": [
          101.67599487304688,
          98.07648468017578,
          105.97819519042969,
          100.8154067993164,
          104.38304138183594,
          103.71884155273438,
          104.88052368164062,
          105.4513168334961,
          105.16732025146484,
          105.02703094482422,
          104.1251220703125,
          104.99715423583984,
          106.50387573242188,
          90.30587005615234,
          96.07632446289062,
          92.42607879638672,
          96.04667663574219
         ],
         "yaxis": "y"
        },
        {
         "customdata": [
          [
           "spices, oregano, dried",
           9
          ],
          [
           "spices, cloves, ground",
           9
          ],
          [
           "spices, cinnamon, ground",
           9
          ],
          [
           "spices, thyme, dried",
           9
          ],
          [
           "spices, sage, ground",
           9
          ],
          [
           "spices, marjoram, dried",
           9
          ],
          [
           "fungi, cloud ears, dried",
           9
          ],
          [
           "spices, rosemary, dried",
           9
          ],
          [
           "spices, savory, ground",
           9
          ]
         ],
         "hovertemplate": "cluster=%{customdata[1]}<br>x1=%{x}<br>x2=%{y}<br>label=%{customdata[0]}<extra></extra>",
         "legendgroup": "9",
         "marker": {
          "color": "#FECB52",
          "opacity": 0.5,
          "size": 15,
          "symbol": "circle"
         },
         "mode": "markers+text",
         "name": "9",
         "orientation": "v",
         "showlegend": true,
         "text": [
          "spices, oregano, dried",
          "spices, cloves, ground",
          "spices, cinnamon, ground",
          "spices, thyme, dried",
          "spices, sage, ground",
          "spices, marjoram, dried",
          "fungi, cloud ears, dried",
          "spices, rosemary, dried",
          "spices, savory, ground"
         ],
         "textfont": {
          "size": 7
         },
         "textposition": "top center",
         "type": "scatter",
         "x": [
          -106.49239349365234,
          -103.29849243164062,
          -110.06798553466797,
          -103.12303924560547,
          -100.10050201416016,
          -102.02178192138672,
          -111.82868957519531,
          -100.54054260253906,
          -108.12057495117188
         ],
         "xaxis": "x",
         "y": [
          20.70667266845703,
          12.574728012084961,
          23.03631591796875,
          17.81427001953125,
          14.467569351196289,
          19.043106079101562,
          24.39537811279297,
          12.878226280212402,
          20.772090911865234
         ],
         "yaxis": "y"
        }
       ],
       "layout": {
        "legend": {
         "title": {
          "text": "cluster"
         },
         "tracegroupgap": 0
        },
        "margin": {
         "t": 60
        },
        "template": {
         "data": {
          "bar": [
           {
            "error_x": {
             "color": "#2a3f5f"
            },
            "error_y": {
             "color": "#2a3f5f"
            },
            "marker": {
             "line": {
              "color": "#E5ECF6",
              "width": 0.5
             },
             "pattern": {
              "fillmode": "overlay",
              "size": 10,
              "solidity": 0.2
             }
            },
            "type": "bar"
           }
          ],
          "barpolar": [
           {
            "marker": {
             "line": {
              "color": "#E5ECF6",
              "width": 0.5
             },
             "pattern": {
              "fillmode": "overlay",
              "size": 10,
              "solidity": 0.2
             }
            },
            "type": "barpolar"
           }
          ],
          "carpet": [
           {
            "aaxis": {
             "endlinecolor": "#2a3f5f",
             "gridcolor": "white",
             "linecolor": "white",
             "minorgridcolor": "white",
             "startlinecolor": "#2a3f5f"
            },
            "baxis": {
             "endlinecolor": "#2a3f5f",
             "gridcolor": "white",
             "linecolor": "white",
             "minorgridcolor": "white",
             "startlinecolor": "#2a3f5f"
            },
            "type": "carpet"
           }
          ],
          "choropleth": [
           {
            "colorbar": {
             "outlinewidth": 0,
             "ticks": ""
            },
            "type": "choropleth"
           }
          ],
          "contour": [
           {
            "colorbar": {
             "outlinewidth": 0,
             "ticks": ""
            },
            "colorscale": [
             [
              0,
              "#0d0887"
             ],
             [
              0.1111111111111111,
              "#46039f"
             ],
             [
              0.2222222222222222,
              "#7201a8"
             ],
             [
              0.3333333333333333,
              "#9c179e"
             ],
             [
              0.4444444444444444,
              "#bd3786"
             ],
             [
              0.5555555555555556,
              "#d8576b"
             ],
             [
              0.6666666666666666,
              "#ed7953"
             ],
             [
              0.7777777777777778,
              "#fb9f3a"
             ],
             [
              0.8888888888888888,
              "#fdca26"
             ],
             [
              1,
              "#f0f921"
             ]
            ],
            "type": "contour"
           }
          ],
          "contourcarpet": [
           {
            "colorbar": {
             "outlinewidth": 0,
             "ticks": ""
            },
            "type": "contourcarpet"
           }
          ],
          "heatmap": [
           {
            "colorbar": {
             "outlinewidth": 0,
             "ticks": ""
            },
            "colorscale": [
             [
              0,
              "#0d0887"
             ],
             [
              0.1111111111111111,
              "#46039f"
             ],
             [
              0.2222222222222222,
              "#7201a8"
             ],
             [
              0.3333333333333333,
              "#9c179e"
             ],
             [
              0.4444444444444444,
              "#bd3786"
             ],
             [
              0.5555555555555556,
              "#d8576b"
             ],
             [
              0.6666666666666666,
              "#ed7953"
             ],
             [
              0.7777777777777778,
              "#fb9f3a"
             ],
             [
              0.8888888888888888,
              "#fdca26"
             ],
             [
              1,
              "#f0f921"
             ]
            ],
            "type": "heatmap"
           }
          ],
          "heatmapgl": [
           {
            "colorbar": {
             "outlinewidth": 0,
             "ticks": ""
            },
            "colorscale": [
             [
              0,
              "#0d0887"
             ],
             [
              0.1111111111111111,
              "#46039f"
             ],
             [
              0.2222222222222222,
              "#7201a8"
             ],
             [
              0.3333333333333333,
              "#9c179e"
             ],
             [
              0.4444444444444444,
              "#bd3786"
             ],
             [
              0.5555555555555556,
              "#d8576b"
             ],
             [
              0.6666666666666666,
              "#ed7953"
             ],
             [
              0.7777777777777778,
              "#fb9f3a"
             ],
             [
              0.8888888888888888,
              "#fdca26"
             ],
             [
              1,
              "#f0f921"
             ]
            ],
            "type": "heatmapgl"
           }
          ],
          "histogram": [
           {
            "marker": {
             "pattern": {
              "fillmode": "overlay",
              "size": 10,
              "solidity": 0.2
             }
            },
            "type": "histogram"
           }
          ],
          "histogram2d": [
           {
            "colorbar": {
             "outlinewidth": 0,
             "ticks": ""
            },
            "colorscale": [
             [
              0,
              "#0d0887"
             ],
             [
              0.1111111111111111,
              "#46039f"
             ],
             [
              0.2222222222222222,
              "#7201a8"
             ],
             [
              0.3333333333333333,
              "#9c179e"
             ],
             [
              0.4444444444444444,
              "#bd3786"
             ],
             [
              0.5555555555555556,
              "#d8576b"
             ],
             [
              0.6666666666666666,
              "#ed7953"
             ],
             [
              0.7777777777777778,
              "#fb9f3a"
             ],
             [
              0.8888888888888888,
              "#fdca26"
             ],
             [
              1,
              "#f0f921"
             ]
            ],
            "type": "histogram2d"
           }
          ],
          "histogram2dcontour": [
           {
            "colorbar": {
             "outlinewidth": 0,
             "ticks": ""
            },
            "colorscale": [
             [
              0,
              "#0d0887"
             ],
             [
              0.1111111111111111,
              "#46039f"
             ],
             [
              0.2222222222222222,
              "#7201a8"
             ],
             [
              0.3333333333333333,
              "#9c179e"
             ],
             [
              0.4444444444444444,
              "#bd3786"
             ],
             [
              0.5555555555555556,
              "#d8576b"
             ],
             [
              0.6666666666666666,
              "#ed7953"
             ],
             [
              0.7777777777777778,
              "#fb9f3a"
             ],
             [
              0.8888888888888888,
              "#fdca26"
             ],
             [
              1,
              "#f0f921"
             ]
            ],
            "type": "histogram2dcontour"
           }
          ],
          "mesh3d": [
           {
            "colorbar": {
             "outlinewidth": 0,
             "ticks": ""
            },
            "type": "mesh3d"
           }
          ],
          "parcoords": [
           {
            "line": {
             "colorbar": {
              "outlinewidth": 0,
              "ticks": ""
             }
            },
            "type": "parcoords"
           }
          ],
          "pie": [
           {
            "automargin": true,
            "type": "pie"
           }
          ],
          "scatter": [
           {
            "marker": {
             "colorbar": {
              "outlinewidth": 0,
              "ticks": ""
             }
            },
            "type": "scatter"
           }
          ],
          "scatter3d": [
           {
            "line": {
             "colorbar": {
              "outlinewidth": 0,
              "ticks": ""
             }
            },
            "marker": {
             "colorbar": {
              "outlinewidth": 0,
              "ticks": ""
             }
            },
            "type": "scatter3d"
           }
          ],
          "scattercarpet": [
           {
            "marker": {
             "colorbar": {
              "outlinewidth": 0,
              "ticks": ""
             }
            },
            "type": "scattercarpet"
           }
          ],
          "scattergeo": [
           {
            "marker": {
             "colorbar": {
              "outlinewidth": 0,
              "ticks": ""
             }
            },
            "type": "scattergeo"
           }
          ],
          "scattergl": [
           {
            "marker": {
             "colorbar": {
              "outlinewidth": 0,
              "ticks": ""
             }
            },
            "type": "scattergl"
           }
          ],
          "scattermapbox": [
           {
            "marker": {
             "colorbar": {
              "outlinewidth": 0,
              "ticks": ""
             }
            },
            "type": "scattermapbox"
           }
          ],
          "scatterpolar": [
           {
            "marker": {
             "colorbar": {
              "outlinewidth": 0,
              "ticks": ""
             }
            },
            "type": "scatterpolar"
           }
          ],
          "scatterpolargl": [
           {
            "marker": {
             "colorbar": {
              "outlinewidth": 0,
              "ticks": ""
             }
            },
            "type": "scatterpolargl"
           }
          ],
          "scatterternary": [
           {
            "marker": {
             "colorbar": {
              "outlinewidth": 0,
              "ticks": ""
             }
            },
            "type": "scatterternary"
           }
          ],
          "surface": [
           {
            "colorbar": {
             "outlinewidth": 0,
             "ticks": ""
            },
            "colorscale": [
             [
              0,
              "#0d0887"
             ],
             [
              0.1111111111111111,
              "#46039f"
             ],
             [
              0.2222222222222222,
              "#7201a8"
             ],
             [
              0.3333333333333333,
              "#9c179e"
             ],
             [
              0.4444444444444444,
              "#bd3786"
             ],
             [
              0.5555555555555556,
              "#d8576b"
             ],
             [
              0.6666666666666666,
              "#ed7953"
             ],
             [
              0.7777777777777778,
              "#fb9f3a"
             ],
             [
              0.8888888888888888,
              "#fdca26"
             ],
             [
              1,
              "#f0f921"
             ]
            ],
            "type": "surface"
           }
          ],
          "table": [
           {
            "cells": {
             "fill": {
              "color": "#EBF0F8"
             },
             "line": {
              "color": "white"
             }
            },
            "header": {
             "fill": {
              "color": "#C8D4E3"
             },
             "line": {
              "color": "white"
             }
            },
            "type": "table"
           }
          ]
         },
         "layout": {
          "annotationdefaults": {
           "arrowcolor": "#2a3f5f",
           "arrowhead": 0,
           "arrowwidth": 1
          },
          "autotypenumbers": "strict",
          "coloraxis": {
           "colorbar": {
            "outlinewidth": 0,
            "ticks": ""
           }
          },
          "colorscale": {
           "diverging": [
            [
             0,
             "#8e0152"
            ],
            [
             0.1,
             "#c51b7d"
            ],
            [
             0.2,
             "#de77ae"
            ],
            [
             0.3,
             "#f1b6da"
            ],
            [
             0.4,
             "#fde0ef"
            ],
            [
             0.5,
             "#f7f7f7"
            ],
            [
             0.6,
             "#e6f5d0"
            ],
            [
             0.7,
             "#b8e186"
            ],
            [
             0.8,
             "#7fbc41"
            ],
            [
             0.9,
             "#4d9221"
            ],
            [
             1,
             "#276419"
            ]
           ],
           "sequential": [
            [
             0,
             "#0d0887"
            ],
            [
             0.1111111111111111,
             "#46039f"
            ],
            [
             0.2222222222222222,
             "#7201a8"
            ],
            [
             0.3333333333333333,
             "#9c179e"
            ],
            [
             0.4444444444444444,
             "#bd3786"
            ],
            [
             0.5555555555555556,
             "#d8576b"
            ],
            [
             0.6666666666666666,
             "#ed7953"
            ],
            [
             0.7777777777777778,
             "#fb9f3a"
            ],
            [
             0.8888888888888888,
             "#fdca26"
            ],
            [
             1,
             "#f0f921"
            ]
           ],
           "sequentialminus": [
            [
             0,
             "#0d0887"
            ],
            [
             0.1111111111111111,
             "#46039f"
            ],
            [
             0.2222222222222222,
             "#7201a8"
            ],
            [
             0.3333333333333333,
             "#9c179e"
            ],
            [
             0.4444444444444444,
             "#bd3786"
            ],
            [
             0.5555555555555556,
             "#d8576b"
            ],
            [
             0.6666666666666666,
             "#ed7953"
            ],
            [
             0.7777777777777778,
             "#fb9f3a"
            ],
            [
             0.8888888888888888,
             "#fdca26"
            ],
            [
             1,
             "#f0f921"
            ]
           ]
          },
          "colorway": [
           "#636efa",
           "#EF553B",
           "#00cc96",
           "#ab63fa",
           "#FFA15A",
           "#19d3f3",
           "#FF6692",
           "#B6E880",
           "#FF97FF",
           "#FECB52"
          ],
          "font": {
           "color": "#2a3f5f"
          },
          "geo": {
           "bgcolor": "white",
           "lakecolor": "white",
           "landcolor": "#E5ECF6",
           "showlakes": true,
           "showland": true,
           "subunitcolor": "white"
          },
          "hoverlabel": {
           "align": "left"
          },
          "hovermode": "closest",
          "mapbox": {
           "style": "light"
          },
          "paper_bgcolor": "white",
          "plot_bgcolor": "#E5ECF6",
          "polar": {
           "angularaxis": {
            "gridcolor": "white",
            "linecolor": "white",
            "ticks": ""
           },
           "bgcolor": "#E5ECF6",
           "radialaxis": {
            "gridcolor": "white",
            "linecolor": "white",
            "ticks": ""
           }
          },
          "scene": {
           "xaxis": {
            "backgroundcolor": "#E5ECF6",
            "gridcolor": "white",
            "gridwidth": 2,
            "linecolor": "white",
            "showbackground": true,
            "ticks": "",
            "zerolinecolor": "white"
           },
           "yaxis": {
            "backgroundcolor": "#E5ECF6",
            "gridcolor": "white",
            "gridwidth": 2,
            "linecolor": "white",
            "showbackground": true,
            "ticks": "",
            "zerolinecolor": "white"
           },
           "zaxis": {
            "backgroundcolor": "#E5ECF6",
            "gridcolor": "white",
            "gridwidth": 2,
            "linecolor": "white",
            "showbackground": true,
            "ticks": "",
            "zerolinecolor": "white"
           }
          },
          "shapedefaults": {
           "line": {
            "color": "#2a3f5f"
           }
          },
          "ternary": {
           "aaxis": {
            "gridcolor": "white",
            "linecolor": "white",
            "ticks": ""
           },
           "baxis": {
            "gridcolor": "white",
            "linecolor": "white",
            "ticks": ""
           },
           "bgcolor": "#E5ECF6",
           "caxis": {
            "gridcolor": "white",
            "linecolor": "white",
            "ticks": ""
           }
          },
          "title": {
           "x": 0.05
          },
          "xaxis": {
           "automargin": true,
           "gridcolor": "white",
           "linecolor": "white",
           "ticks": "",
           "title": {
            "standoff": 15
           },
           "zerolinecolor": "white",
           "zerolinewidth": 2
          },
          "yaxis": {
           "automargin": true,
           "gridcolor": "white",
           "linecolor": "white",
           "ticks": "",
           "title": {
            "standoff": 15
           },
           "zerolinecolor": "white",
           "zerolinewidth": 2
          }
         }
        },
        "title": {
         "text": "Análisis de ingredientes objetivos FooDB: TSNE con filtro G."
        },
        "xaxis": {
         "anchor": "y",
         "domain": [
          0,
          1
         ],
         "title": {
          "text": "x1"
         }
        },
        "yaxis": {
         "anchor": "x",
         "domain": [
          0,
          1
         ],
         "title": {
          "text": "x2"
         }
        }
       }
      },
      "text/html": [
       "<div>                            <div id=\"8b603dda-8e09-4d24-8d07-764e2e5e2557\" class=\"plotly-graph-div\" style=\"height:525px; width:100%;\"></div>            <script type=\"text/javascript\">                require([\"plotly\"], function(Plotly) {                    window.PLOTLYENV=window.PLOTLYENV || {};                                    if (document.getElementById(\"8b603dda-8e09-4d24-8d07-764e2e5e2557\")) {                    Plotly.newPlot(                        \"8b603dda-8e09-4d24-8d07-764e2e5e2557\",                        [{\"customdata\":[[\"date, dried\",0],[\"fig, dried\",0],[\"prune, dried plum\",0],[\"nut, hazel (uk), filbert (usa), dried\",0],[\"yeast, dried\",0],[\"beans, soy, dried\",0],[\"pine nuts, pignolias, dried\",0],[\"cocoa, powder\",0],[\"pistachio nuts, dried\",0],[\"pecans, dried\",0],[\"soya flour, full fat\",0],[\"nut, pea, dried\",0],[\"sesame seeds, whole, dried\",0],[\"peach, dried\",0],[\"apple, dried\",0],[\"sesame seed, decorticated\",0],[\"tomato, dried\",0],[\"apricot, dried\",0],[\"sunflower seeds, decorticated, dried\",0],[\"curry powder\",0],[\"rose hip, dried, powder\",0]],\"hovertemplate\":\"cluster=%{customdata[1]}<br>x1=%{x}<br>x2=%{y}<br>label=%{customdata[0]}<extra></extra>\",\"legendgroup\":\"0\",\"marker\":{\"color\":\"#636efa\",\"opacity\":0.5,\"size\":15,\"symbol\":\"circle\"},\"mode\":\"markers+text\",\"name\":\"0\",\"orientation\":\"v\",\"showlegend\":true,\"text\":[\"date, dried\",\"fig, dried\",\"prune, dried plum\",\"nut, hazel (uk), filbert (usa), dried\",\"yeast, dried\",\"beans, soy, dried\",\"pine nuts, pignolias, dried\",\"cocoa, powder\",\"pistachio nuts, dried\",\"pecans, dried\",\"soya flour, full fat\",\"nut, pea, dried\",\"sesame seeds, whole, dried\",\"peach, dried\",\"apple, dried\",\"sesame seed, decorticated\",\"tomato, dried\",\"apricot, dried\",\"sunflower seeds, decorticated, dried\",\"curry powder\",\"rose hip, dried, powder\"],\"textfont\":{\"size\":7},\"textposition\":\"top center\",\"type\":\"scatter\",\"x\":[-49.80731201171875,-50.524139404296875,-51.71249008178711,-68.93843078613281,-52.673431396484375,-62.562252044677734,-78.84999084472656,-56.640968322753906,-70.53533935546875,-80.39964294433594,-63.27581024169922,-67.87357330322266,-76.2505111694336,-51.95849609375,-84.38975524902344,-72.9193115234375,-52.3399772644043,-83.25189208984375,-73.1449966430664,-54.94546127319336,-53.493717193603516],\"xaxis\":\"x\",\"y\":[129.56112670898438,127.17803192138672,124.8770523071289,104.82317352294922,111.67207336425781,98.7419662475586,101.35126495361328,111.69374084472656,101.6611328125,101.80528259277344,97.35421752929688,102.39080810546875,99.19417572021484,128.407470703125,110.49544525146484,100.64144897460938,122.67557525634766,111.41744232177734,98.99395751953125,112.28861999511719,117.66722106933594],\"yaxis\":\"y\"},{\"customdata\":[[\"cereals, farina, unenriched, dry\",1],[\"nuts, ginkgo nuts, dried\",1],[\"cornmeal, yellow (navajo)\",1],[\"cereals, corn grits, white, regular and quick, unenriched, dry\",1],[\"tapioca, pearl, dry\",1],[\"longans, dried\",1],[\"cornmeal, degermed, unenriched, white\",1],[\"millet flour\",1],[\"buckwheat flour, whole-groat\",1],[\"spices, onion powder\",1],[\"cornmeal, whole-grain, yellow\",1],[\"rye flour, medium\",1],[\"cereals, corn grits, white, regular and quick, unenriched, dry\",1],[\"spices, garlic powder\",1],[\"cornmeal, whole-grain, white\",1],[\"cornstarch\",1],[\"cornmeal, degermed, unenriched, yellow\",1],[\"wheat flour, whole-grain\",1],[\"cereals, corn grits, yellow, regular and quick, unenriched, dry\",1],[\"nuts, chestnuts, european, dried, unpeeled\",1],[\"cereals, corn grits, yellow, regular and quick, unenriched, dry\",1],[\"nuts, chestnuts, japanese, dried\",1],[\"bulgur, dry\",1],[\"barley flour or meal\",1],[\"barley malt flour\",1],[\"seeds, lotus seeds, dried\",1],[\"rice flour, brown\",1],[\"corn flour, masa, unenriched, white\",1],[\"cornmeal, white (navajo)\",1],[\"spices, ginger, ground\",1],[\"arrowroot flour\",1],[\"rye flour, light\",1],[\"cereals, oats, regular and quick, not fortified, dry\",1],[\"persimmons, japanese, dried\",1],[\"rice flour, white\",1],[\"corn flour, whole-grain, white\",1],[\"corn flour, whole-grain, yellow\",1],[\"nuts, chestnuts, chinese, dried\",1],[\"rice, white, long-grain, parboiled, unenriched, dry\",1],[\"nuts, chestnuts, european, dried, peeled\",1],[\"wheat flour, white, all-purpose, unenriched\",1],[\"triticale flour, whole-grain\",1],[\"rice, white, with pasta, dry\",1],[\"sorghum flour\",1],[\"mushrooms, shiitake, dried\",1],[\"seeds, sisymbrium sp. seeds, whole, dried\",1],[\"spices, saffron\",1],[\"oat flour, partially debranned\",1],[\"wocas, dried seeds, oregon, yellow pond lily, nuphar lutea (or) - cy0617b\",1],[\"cornmeal, blue (navajo)\",1],[\"wheat flour, whole-grain, soft wheat\",1],[\"leavening agents, baking powder, low-sodium\",1],[\"leavening agents, baking powder, double-acting, straight phosphate\",1],[\"leavening agents, baking powder, double-acting, sodium aluminum sulfate\",1],[\"jujube, dried\",1],[\"pepeao, dried\",1],[\"corn flour, degermed, unenriched, yellow\",1],[\"cereals, whole wheat hot natural cereal, dry\",1],[\"corn flour, whole-grain, blue (harina de maiz morado)\",1],[\"fruit, mixed, (prune and apricot and pear), dried\",1],[\"seaweed, agar, dried\",1],[\"corn, dried (navajo)\",1]],\"hovertemplate\":\"cluster=%{customdata[1]}<br>x1=%{x}<br>x2=%{y}<br>label=%{customdata[0]}<extra></extra>\",\"legendgroup\":\"1\",\"marker\":{\"color\":\"#EF553B\",\"opacity\":0.5,\"size\":15,\"symbol\":\"circle\"},\"mode\":\"markers+text\",\"name\":\"1\",\"orientation\":\"v\",\"showlegend\":true,\"text\":[\"cereals, farina, unenriched, dry\",\"nuts, ginkgo nuts, dried\",\"cornmeal, yellow (navajo)\",\"cereals, corn grits, white, regular and quick, unenriched, dry\",\"tapioca, pearl, dry\",\"longans, dried\",\"cornmeal, degermed, unenriched, white\",\"millet flour\",\"buckwheat flour, whole-groat\",\"spices, onion powder\",\"cornmeal, whole-grain, yellow\",\"rye flour, medium\",\"cereals, corn grits, white, regular and quick, unenriched, dry\",\"spices, garlic powder\",\"cornmeal, whole-grain, white\",\"cornstarch\",\"cornmeal, degermed, unenriched, yellow\",\"wheat flour, whole-grain\",\"cereals, corn grits, yellow, regular and quick, unenriched, dry\",\"nuts, chestnuts, european, dried, unpeeled\",\"cereals, corn grits, yellow, regular and quick, unenriched, dry\",\"nuts, chestnuts, japanese, dried\",\"bulgur, dry\",\"barley flour or meal\",\"barley malt flour\",\"seeds, lotus seeds, dried\",\"rice flour, brown\",\"corn flour, masa, unenriched, white\",\"cornmeal, white (navajo)\",\"spices, ginger, ground\",\"arrowroot flour\",\"rye flour, light\",\"cereals, oats, regular and quick, not fortified, dry\",\"persimmons, japanese, dried\",\"rice flour, white\",\"corn flour, whole-grain, white\",\"corn flour, whole-grain, yellow\",\"nuts, chestnuts, chinese, dried\",\"rice, white, long-grain, parboiled, unenriched, dry\",\"nuts, chestnuts, european, dried, peeled\",\"wheat flour, white, all-purpose, unenriched\",\"triticale flour, whole-grain\",\"rice, white, with pasta, dry\",\"sorghum flour\",\"mushrooms, shiitake, dried\",\"seeds, sisymbrium sp. seeds, whole, dried\",\"spices, saffron\",\"oat flour, partially debranned\",\"wocas, dried seeds, oregon, yellow pond lily, nuphar lutea (or) - cy0617b\",\"cornmeal, blue (navajo)\",\"wheat flour, whole-grain, soft wheat\",\"leavening agents, baking powder, low-sodium\",\"leavening agents, baking powder, double-acting, straight phosphate\",\"leavening agents, baking powder, double-acting, sodium aluminum sulfate\",\"jujube, dried\",\"pepeao, dried\",\"corn flour, degermed, unenriched, yellow\",\"cereals, whole wheat hot natural cereal, dry\",\"corn flour, whole-grain, blue (harina de maiz morado)\",\"fruit, mixed, (prune and apricot and pear), dried\",\"seaweed, agar, dried\",\"corn, dried (navajo)\"],\"textfont\":{\"size\":7},\"textposition\":\"top center\",\"type\":\"scatter\",\"x\":[59.15396499633789,65.96705627441406,71.38666534423828,59.3681526184082,89.65276336669922,72.21957397460938,80.87523651123047,65.36988830566406,35.996883392333984,50.50043487548828,65.66848754882812,48.093753814697266,61.91987991333008,39.54102325439453,66.57736206054688,91.61812591552734,79.42293548583984,37.23118209838867,59.72704315185547,58.8021240234375,61.565521240234375,75.48387145996094,38.55276107788086,49.429931640625,58.880435943603516,29.861785888671875,70.87391662597656,65.72020721435547,74.45117950439453,45.26278305053711,91.2633056640625,57.64084243774414,33.95231246948242,55.36591339111328,80.90092468261719,62.5818977355957,61.827030181884766,73.2390365600586,82.94883728027344,70.781494140625,59.69263458251953,39.34049606323242,66.31049346923828,68.5031967163086,48.93986892700195,26.03343963623047,29.29509925842285,31.24995994567871,37.93973922729492,73.71256256103516,46.20022964477539,15.011319160461426,12.278738021850586,13.184357643127441,73.37396240234375,76.5118179321289,80.6816177368164,50.579566955566406,69.35009765625,52.75552749633789,80.9272232055664,64.99378967285156],\"xaxis\":\"x\",\"y\":[11.833205223083496,-6.070009231567383,-30.8717098236084,18.96089744567871,52.307674407958984,0.6877795457839966,24.9818058013916,-14.754413604736328,-45.49983596801758,-59.44139862060547,-23.40754508972168,-53.73789978027344,20.79009437561035,-44.98361587524414,-24.732810974121094,52.96345901489258,24.639602661132812,-46.81757354736328,21.143171310424805,-27.45586395263672,18.60976791381836,40.142452239990234,-55.258522033691406,-51.6495246887207,-45.1211051940918,-36.838993072509766,-20.574886322021484,-18.508800506591797,-35.13365173339844,-58.28829574584961,50.9828987121582,-46.095821380615234,-43.89118957519531,-29.196325302124023,32.61775588989258,-26.472217559814453,-24.936899185180664,39.788002014160156,33.90058898925781,39.265342712402344,10.366191864013672,-52.40137481689453,-4.517429828643799,-21.898710250854492,-57.24844741821289,-38.0347900390625,-38.77191162109375,-41.2468147277832,-57.5158576965332,-33.79495620727539,-54.756221771240234,-31.79669761657715,-29.422277450561523,-30.820526123046875,1.620495319366455,41.39924240112305,36.106224060058594,-50.342742919921875,-28.325580596923828,-29.885061264038086,21.69228744506836,-12.315644264221191],\"yaxis\":\"y\"},{\"customdata\":[[\"corn, dried, yellow (northern plains indians)\",2],[\"spices, fenugreek seed\",2],[\"nuts, brazilnuts, dried, unblanched\",2],[\"spices, basil, dried\",2],[\"nuts, pine nuts, pinyon, dried\",2],[\"nuts, pilinuts, dried\",2],[\"spices, paprika\",2],[\"nuts, coconut meat, dried (desiccated), toasted\",2],[\"nuts, pine nuts, dried\",2],[\"spices, chili powder\",2],[\"spices, caraway seed\",2],[\"nuts, acorn flour, full fat\",2],[\"seeds, sesame seed kernels, dried (decorticated)\",2],[\"nuts, coconut meat, dried (desiccated), creamed\",2],[\"peppers, ancho, dried\",2],[\"cocoa, dry powder, unsweetened, processed with alkali\",2],[\"nuts, butternuts, dried\",2],[\"walnuts\",2],[\"seeds, sunflower seed kernels, toasted, without salt\",2],[\"cocoa, dry powder, unsweetened\",2],[\"nuts, acorns, dried\",2],[\"spices, dill seed\",2],[\"peanut flour, low fat\",2],[\"nuts, walnuts, black, dried\",2],[\"spearmint, dried\",2],[\"nuts, hickorynuts, dried\",2],[\"spices, parsley, dried\",2],[\"spices, fennel seed\",2],[\"spices, anise seed\",2],[\"spices, coriander leaf, dried\",2],[\"spices, coriander seed\",2],[\"spices, chervil, dried\",2],[\"spices, nutmeg, ground\",2],[\"spices, celery seed\",2],[\"spices, mace, ground\",2],[\"chickpea flour (besan)\",2],[\"spices, tarragon, dried\",2],[\"spices, cumin seed\",2],[\"spices, curry powder\",2],[\"spices, pepper, red or cayenne\",2],[\"spices, dill weed, dried\",2],[\"cocoa, dry powder, hi-fat or breakfast, plain\",2],[\"cocoa, dry powder, hi-fat or breakfast, processed with alkali\",2],[\"cocoa, dry powder, unsweetened, hersheys european style cocoa\",2],[\"peppers, pasilla, dried\",2]],\"hovertemplate\":\"cluster=%{customdata[1]}<br>x1=%{x}<br>x2=%{y}<br>label=%{customdata[0]}<extra></extra>\",\"legendgroup\":\"2\",\"marker\":{\"color\":\"#00cc96\",\"opacity\":0.5,\"size\":15,\"symbol\":\"circle\"},\"mode\":\"markers+text\",\"name\":\"2\",\"orientation\":\"v\",\"showlegend\":true,\"text\":[\"corn, dried, yellow (northern plains indians)\",\"spices, fenugreek seed\",\"nuts, brazilnuts, dried, unblanched\",\"spices, basil, dried\",\"nuts, pine nuts, pinyon, dried\",\"nuts, pilinuts, dried\",\"spices, paprika\",\"nuts, coconut meat, dried (desiccated), toasted\",\"nuts, pine nuts, dried\",\"spices, chili powder\",\"spices, caraway seed\",\"nuts, acorn flour, full fat\",\"seeds, sesame seed kernels, dried (decorticated)\",\"nuts, coconut meat, dried (desiccated), creamed\",\"peppers, ancho, dried\",\"cocoa, dry powder, unsweetened, processed with alkali\",\"nuts, butternuts, dried\",\"walnuts\",\"seeds, sunflower seed kernels, toasted, without salt\",\"cocoa, dry powder, unsweetened\",\"nuts, acorns, dried\",\"spices, dill seed\",\"peanut flour, low fat\",\"nuts, walnuts, black, dried\",\"spearmint, dried\",\"nuts, hickorynuts, dried\",\"spices, parsley, dried\",\"spices, fennel seed\",\"spices, anise seed\",\"spices, coriander leaf, dried\",\"spices, coriander seed\",\"spices, chervil, dried\",\"spices, nutmeg, ground\",\"spices, celery seed\",\"spices, mace, ground\",\"chickpea flour (besan)\",\"spices, tarragon, dried\",\"spices, cumin seed\",\"spices, curry powder\",\"spices, pepper, red or cayenne\",\"spices, dill weed, dried\",\"cocoa, dry powder, hi-fat or breakfast, plain\",\"cocoa, dry powder, hi-fat or breakfast, processed with alkali\",\"cocoa, dry powder, unsweetened, hersheys european style cocoa\",\"peppers, pasilla, dried\"],\"textfont\":{\"size\":7},\"textposition\":\"top center\",\"type\":\"scatter\",\"x\":[-24.62395477294922,-56.426761627197266,-74.45731353759766,-48.6975212097168,-75.53328704833984,-72.49504852294922,-30.550477981567383,-62.3995475769043,-82.64745330810547,-32.157188415527344,-40.91936111450195,-71.51438903808594,-76.55892181396484,-63.06217956542969,-62.374515533447266,-50.24006652832031,-85.23684692382812,-84.80709075927734,-88.12569427490234,-49.3702507019043,-73.03337097167969,-68.0537109375,-76.48683166503906,-84.80709075927734,-50.7578125,-73.33042907714844,-51.844818115234375,-41.48164749145508,-69.51788330078125,-12.141019821166992,-42.16184997558594,-10.044854164123535,-58.61676788330078,-74.289794921875,-57.94548797607422,-15.11503791809082,-8.185700416564941,-72.50228118896484,-48.2048225402832,-28.135147094726562,-9.969372749328613,-56.02379608154297,-54.92611312866211,-57.40529251098633,-61.72241973876953],\"xaxis\":\"x\",\"y\":[-35.00873947143555,-12.961080551147461,-79.27250671386719,-7.742079257965088,-82.04102325439453,-77.24176025390625,-34.55988693237305,-59.193809509277344,-96.35863494873047,-34.27587890625,-28.860532760620117,-42.078155517578125,-80.30094909667969,-60.67037582397461,-25.043821334838867,-34.18518829345703,-101.53184509277344,-98.91732788085938,-99.75749969482422,-35.462772369384766,-42.18830490112305,-29.911096572875977,-33.54372024536133,-98.91732788085938,-7.54426908493042,-82.09490966796875,-6.2539567947387695,-27.19498062133789,-30.87099266052246,-33.39860916137695,-25.395963668823242,-32.45150375366211,-50.90058517456055,-33.31583023071289,-48.39445877075195,-33.710365295410156,-32.35905456542969,-32.93143081665039,-32.78470230102539,-34.84474563598633,-34.9000358581543,-46.418121337890625,-45.29650115966797,-14.114116668701172,-26.481426239013672],\"yaxis\":\"y\"},{\"customdata\":[[\"spices, mustard seed, ground\",3],[\"seeds, safflower seed kernels, dried\",3],[\"seeds, flaxseed\",3],[\"seeds, sunflower seed kernels, dried\",3],[\"seeds, pumpkin and squash seed kernels, dried\",3],[\"seeds, pumpkin and squash seed kernels, dried\",3],[\"seeds, watermelon seed kernels, dried\",3],[\"seeds, sesame seeds, whole, dried\",3],[\"seeds, sesame flour, high-fat\",3],[\"nuts, beechnuts, dried\",3],[\"seeds, sesame meal, partially defatted\",3],[\"seeds, pumpkin and squash seed kernels, dried\",3],[\"tofu, dried-frozen (koyadofu)\",3],[\"seeds, chia seeds, dried\",3],[\"spices, poppy seed\",3]],\"hovertemplate\":\"cluster=%{customdata[1]}<br>x1=%{x}<br>x2=%{y}<br>label=%{customdata[0]}<extra></extra>\",\"legendgroup\":\"3\",\"marker\":{\"color\":\"#ab63fa\",\"opacity\":0.5,\"size\":15,\"symbol\":\"circle\"},\"mode\":\"markers+text\",\"name\":\"3\",\"orientation\":\"v\",\"showlegend\":true,\"text\":[\"spices, mustard seed, ground\",\"seeds, safflower seed kernels, dried\",\"seeds, flaxseed\",\"seeds, sunflower seed kernels, dried\",\"seeds, pumpkin and squash seed kernels, dried\",\"seeds, pumpkin and squash seed kernels, dried\",\"seeds, watermelon seed kernels, dried\",\"seeds, sesame seeds, whole, dried\",\"seeds, sesame flour, high-fat\",\"nuts, beechnuts, dried\",\"seeds, sesame meal, partially defatted\",\"seeds, pumpkin and squash seed kernels, dried\",\"tofu, dried-frozen (koyadofu)\",\"seeds, chia seeds, dried\",\"spices, poppy seed\"],\"textfont\":{\"size\":7},\"textposition\":\"top center\",\"type\":\"scatter\",\"x\":[-102.76324462890625,-104.20685577392578,-106.4380111694336,-107.69498443603516,-118.58220672607422,-119.76905059814453,-121.62373352050781,-107.38941955566406,-104.4876480102539,-102.47531127929688,-104.66188049316406,-117.78260040283203,-106.66123962402344,-106.97603607177734,-106.02233123779297],\"xaxis\":\"x\",\"y\":[-59.98456573486328,-74.16717529296875,-81.10832977294922,-68.40253448486328,-57.040340423583984,-58.79843521118164,-56.27031326293945,-69.89888763427734,-59.48046112060547,-69.427001953125,-70.20514678955078,-58.86164093017578,-57.645023345947266,-83.4194107055664,-79.54081726074219],\"yaxis\":\"y\"},{\"customdata\":[[\"seeds, sunflower seed flour, partially defatted\",4],[\"seeds, cottonseed flour, low fat (glandless)\",4],[\"seeds, sesame flour, partially defatted\",4],[\"seeds, sesame flour, low-fat\",4],[\"seeds, cottonseed flour, partially defatted (glandless)\",4],[\"seaweed, spirulina, dried\",4],[\"seeds, safflower seed meal, partially defatted\",4]],\"hovertemplate\":\"cluster=%{customdata[1]}<br>x1=%{x}<br>x2=%{y}<br>label=%{customdata[0]}<extra></extra>\",\"legendgroup\":\"4\",\"marker\":{\"color\":\"#FFA15A\",\"opacity\":0.5,\"size\":15,\"symbol\":\"circle\"},\"mode\":\"markers+text\",\"name\":\"4\",\"orientation\":\"v\",\"showlegend\":true,\"text\":[\"seeds, sunflower seed flour, partially defatted\",\"seeds, cottonseed flour, low fat (glandless)\",\"seeds, sesame flour, partially defatted\",\"seeds, sesame flour, low-fat\",\"seeds, cottonseed flour, partially defatted (glandless)\",\"seaweed, spirulina, dried\",\"seeds, safflower seed meal, partially defatted\"],\"textfont\":{\"size\":7},\"textposition\":\"top center\",\"type\":\"scatter\",\"x\":[-213.9999542236328,-215.94390869140625,-210.0860137939453,-216.17843627929688,-209.22084045410156,-218.84022521972656,-207.02879333496094],\"xaxis\":\"x\",\"y\":[-5.052707672119141,-6.164425849914551,-8.448736190795898,-4.336284637451172,-6.965763092041016,-3.3593502044677734,-5.754537582397461],\"yaxis\":\"y\"},{\"customdata\":[[\"carrot, dehydrated\",5],[\"bananas, dehydrated, or banana powder\",5],[\"carob flour\",5],[\"radishes, oriental, dried\",5],[\"peppers, hot chile, sun-dried\",5],[\"tomatoes, sun-dried\",5],[\"onions, dehydrated flakes\",5],[\"tomato powder\",5],[\"litchis, dried\",5],[\"coffee, dry, powder, with whitener, reduced calorie\",5],[\"coffee, dry, powder, with whitener, reduced calorie\",5],[\"celery flakes, dried\",5],[\"coffee, dry, powder, with whitener, reduced calorie\",5],[\"coffee and cocoa (mocha) powder, with whitener and low calorie sweetener\",5],[\"coffee and cocoa (mocha) powder, with whitener and low calorie sweetener, decaffeinated\",5],[\"currants, zante, dried\",5],[\"agave, dried (southwest)\",5]],\"hovertemplate\":\"cluster=%{customdata[1]}<br>x1=%{x}<br>x2=%{y}<br>label=%{customdata[0]}<extra></extra>\",\"legendgroup\":\"5\",\"marker\":{\"color\":\"#19d3f3\",\"opacity\":0.5,\"size\":15,\"symbol\":\"circle\"},\"mode\":\"markers+text\",\"name\":\"5\",\"orientation\":\"v\",\"showlegend\":true,\"text\":[\"carrot, dehydrated\",\"bananas, dehydrated, or banana powder\",\"carob flour\",\"radishes, oriental, dried\",\"peppers, hot chile, sun-dried\",\"tomatoes, sun-dried\",\"onions, dehydrated flakes\",\"tomato powder\",\"litchis, dried\",\"coffee, dry, powder, with whitener, reduced calorie\",\"coffee, dry, powder, with whitener, reduced calorie\",\"celery flakes, dried\",\"coffee, dry, powder, with whitener, reduced calorie\",\"coffee and cocoa (mocha) powder, with whitener and low calorie sweetener\",\"coffee and cocoa (mocha) powder, with whitener and low calorie sweetener, decaffeinated\",\"currants, zante, dried\",\"agave, dried (southwest)\"],\"textfont\":{\"size\":7},\"textposition\":\"top center\",\"type\":\"scatter\",\"x\":[146.7982635498047,152.8447265625,147.93637084960938,139.94871520996094,142.47012329101562,137.2051239013672,150.77664184570312,147.24668884277344,160.80718994140625,150.5477752685547,150.0933074951172,139.8694610595703,148.58880615234375,146.8384246826172,145.44708251953125,160.1623992919922,153.99295043945312],\"xaxis\":\"x\",\"y\":[-40.521305084228516,-36.46625518798828,-43.40464782714844,-41.11956024169922,-41.71220016479492,-40.440956115722656,-35.69142532348633,-38.78453063964844,-36.386260986328125,-9.987332344055176,-7.9893622398376465,-42.83695983886719,-9.38204288482666,-25.499582290649414,-25.99283790588379,-37.79829025268555,-37.8270263671875],\"yaxis\":\"y\"},{\"customdata\":[[\"soy flour, defatted\",6],[\"peanut flour, defatted\",6],[\"soy flour, low-fat, crude protein basis (n x 6.25)\",6],[\"leavening agents, yeast, bakers, active dry\",6],[\"soy flour, defatted, crude protein basis (n x 6.25)\",6],[\"soy flour, low-fat\",6]],\"hovertemplate\":\"cluster=%{customdata[1]}<br>x1=%{x}<br>x2=%{y}<br>label=%{customdata[0]}<extra></extra>\",\"legendgroup\":\"6\",\"marker\":{\"color\":\"#FF6692\",\"opacity\":0.5,\"size\":15,\"symbol\":\"circle\"},\"mode\":\"markers+text\",\"name\":\"6\",\"orientation\":\"v\",\"showlegend\":true,\"text\":[\"soy flour, defatted\",\"peanut flour, defatted\",\"soy flour, low-fat, crude protein basis (n x 6.25)\",\"leavening agents, yeast, bakers, active dry\",\"soy flour, defatted, crude protein basis (n x 6.25)\",\"soy flour, low-fat\"],\"textfont\":{\"size\":7},\"textposition\":\"top center\",\"type\":\"scatter\",\"x\":[-47.89814758300781,-50.67198181152344,-46.134212493896484,-48.8687744140625,-47.240787506103516,-48.051517486572266],\"xaxis\":\"x\",\"y\":[24.07000160217285,20.678142547607422,22.63734245300293,15.314577102661133,19.538623809814453,18.590492248535156],\"yaxis\":\"y\"},{\"customdata\":[[\"spices, pepper, black\",7],[\"rye flour, dark\",7],[\"spices, allspice, ground\",7],[\"spices, pepper, white\",7],[\"spices, turmeric, ground\",7],[\"spices, bay leaf\",7],[\"spices, cardamom\",7]],\"hovertemplate\":\"cluster=%{customdata[1]}<br>x1=%{x}<br>x2=%{y}<br>label=%{customdata[0]}<extra></extra>\",\"legendgroup\":\"7\",\"marker\":{\"color\":\"#B6E880\",\"opacity\":0.5,\"size\":15,\"symbol\":\"circle\"},\"mode\":\"markers+text\",\"name\":\"7\",\"orientation\":\"v\",\"showlegend\":true,\"text\":[\"spices, pepper, black\",\"rye flour, dark\",\"spices, allspice, ground\",\"spices, pepper, white\",\"spices, turmeric, ground\",\"spices, bay leaf\",\"spices, cardamom\"],\"textfont\":{\"size\":7},\"textposition\":\"top center\",\"type\":\"scatter\",\"x\":[-9.323348045349121,-12.429702758789062,-2.2864065170288086,-10.233957290649414,-4.403681755065918,-1.661686897277832,-7.700806140899658],\"xaxis\":\"x\",\"y\":[-91.358154296875,-93.3718032836914,-90.20213317871094,-93.09130096435547,-88.43473052978516,-91.76089477539062,-92.99241638183594],\"yaxis\":\"y\"},{\"customdata\":[[\"beans, white, dried\",8],[\"lentils, dried\",8],[\"rye flour, dark, whole meal\",8],[\"beans, brown, dried\",8],[\"buckwheat flour\",8],[\"wheat flour\",8],[\"potato flour\",8],[\"wheat flour\",8],[\"rice flour\",8],[\"corn flour\",8],[\"garlic, dried, powder\",8],[\"wheat, flour, wholemeal\",8],[\"corn starch\",8],[\"baking powder\",8],[\"coriander, leaf, dried\",8],[\"seaweed, konbu, dried (kelp)\",8],[\"dill weed, dried\",8]],\"hovertemplate\":\"cluster=%{customdata[1]}<br>x1=%{x}<br>x2=%{y}<br>label=%{customdata[0]}<extra></extra>\",\"legendgroup\":\"8\",\"marker\":{\"color\":\"#FF97FF\",\"opacity\":0.5,\"size\":15,\"symbol\":\"circle\"},\"mode\":\"markers+text\",\"name\":\"8\",\"orientation\":\"v\",\"showlegend\":true,\"text\":[\"beans, white, dried\",\"lentils, dried\",\"rye flour, dark, whole meal\",\"beans, brown, dried\",\"buckwheat flour\",\"wheat flour\",\"potato flour\",\"wheat flour\",\"rice flour\",\"corn flour\",\"garlic, dried, powder\",\"wheat, flour, wholemeal\",\"corn starch\",\"baking powder\",\"coriander, leaf, dried\",\"seaweed, konbu, dried (kelp)\",\"dill weed, dried\"],\"textfont\":{\"size\":7},\"textposition\":\"top center\",\"type\":\"scatter\",\"x\":[-26.211904525756836,-19.67157745361328,-7.2704620361328125,-27.460865020751953,0.03866378217935562,2.577113628387451,12.455509185791016,2.4781785011291504,9.089166641235352,7.286661148071289,-3.4405157566070557,-5.871815204620361,13.14222240447998,-22.177505493164062,-23.061281204223633,-22.165016174316406,-21.544816970825195],\"xaxis\":\"x\",\"y\":[101.67599487304688,98.07648468017578,105.97819519042969,100.8154067993164,104.38304138183594,103.71884155273438,104.88052368164062,105.4513168334961,105.16732025146484,105.02703094482422,104.1251220703125,104.99715423583984,106.50387573242188,90.30587005615234,96.07632446289062,92.42607879638672,96.04667663574219],\"yaxis\":\"y\"},{\"customdata\":[[\"spices, oregano, dried\",9],[\"spices, cloves, ground\",9],[\"spices, cinnamon, ground\",9],[\"spices, thyme, dried\",9],[\"spices, sage, ground\",9],[\"spices, marjoram, dried\",9],[\"fungi, cloud ears, dried\",9],[\"spices, rosemary, dried\",9],[\"spices, savory, ground\",9]],\"hovertemplate\":\"cluster=%{customdata[1]}<br>x1=%{x}<br>x2=%{y}<br>label=%{customdata[0]}<extra></extra>\",\"legendgroup\":\"9\",\"marker\":{\"color\":\"#FECB52\",\"opacity\":0.5,\"size\":15,\"symbol\":\"circle\"},\"mode\":\"markers+text\",\"name\":\"9\",\"orientation\":\"v\",\"showlegend\":true,\"text\":[\"spices, oregano, dried\",\"spices, cloves, ground\",\"spices, cinnamon, ground\",\"spices, thyme, dried\",\"spices, sage, ground\",\"spices, marjoram, dried\",\"fungi, cloud ears, dried\",\"spices, rosemary, dried\",\"spices, savory, ground\"],\"textfont\":{\"size\":7},\"textposition\":\"top center\",\"type\":\"scatter\",\"x\":[-106.49239349365234,-103.29849243164062,-110.06798553466797,-103.12303924560547,-100.10050201416016,-102.02178192138672,-111.82868957519531,-100.54054260253906,-108.12057495117188],\"xaxis\":\"x\",\"y\":[20.70667266845703,12.574728012084961,23.03631591796875,17.81427001953125,14.467569351196289,19.043106079101562,24.39537811279297,12.878226280212402,20.772090911865234],\"yaxis\":\"y\"}],                        {\"legend\":{\"title\":{\"text\":\"cluster\"},\"tracegroupgap\":0},\"margin\":{\"t\":60},\"template\":{\"data\":{\"bar\":[{\"error_x\":{\"color\":\"#2a3f5f\"},\"error_y\":{\"color\":\"#2a3f5f\"},\"marker\":{\"line\":{\"color\":\"#E5ECF6\",\"width\":0.5},\"pattern\":{\"fillmode\":\"overlay\",\"size\":10,\"solidity\":0.2}},\"type\":\"bar\"}],\"barpolar\":[{\"marker\":{\"line\":{\"color\":\"#E5ECF6\",\"width\":0.5},\"pattern\":{\"fillmode\":\"overlay\",\"size\":10,\"solidity\":0.2}},\"type\":\"barpolar\"}],\"carpet\":[{\"aaxis\":{\"endlinecolor\":\"#2a3f5f\",\"gridcolor\":\"white\",\"linecolor\":\"white\",\"minorgridcolor\":\"white\",\"startlinecolor\":\"#2a3f5f\"},\"baxis\":{\"endlinecolor\":\"#2a3f5f\",\"gridcolor\":\"white\",\"linecolor\":\"white\",\"minorgridcolor\":\"white\",\"startlinecolor\":\"#2a3f5f\"},\"type\":\"carpet\"}],\"choropleth\":[{\"colorbar\":{\"outlinewidth\":0,\"ticks\":\"\"},\"type\":\"choropleth\"}],\"contour\":[{\"colorbar\":{\"outlinewidth\":0,\"ticks\":\"\"},\"colorscale\":[[0.0,\"#0d0887\"],[0.1111111111111111,\"#46039f\"],[0.2222222222222222,\"#7201a8\"],[0.3333333333333333,\"#9c179e\"],[0.4444444444444444,\"#bd3786\"],[0.5555555555555556,\"#d8576b\"],[0.6666666666666666,\"#ed7953\"],[0.7777777777777778,\"#fb9f3a\"],[0.8888888888888888,\"#fdca26\"],[1.0,\"#f0f921\"]],\"type\":\"contour\"}],\"contourcarpet\":[{\"colorbar\":{\"outlinewidth\":0,\"ticks\":\"\"},\"type\":\"contourcarpet\"}],\"heatmap\":[{\"colorbar\":{\"outlinewidth\":0,\"ticks\":\"\"},\"colorscale\":[[0.0,\"#0d0887\"],[0.1111111111111111,\"#46039f\"],[0.2222222222222222,\"#7201a8\"],[0.3333333333333333,\"#9c179e\"],[0.4444444444444444,\"#bd3786\"],[0.5555555555555556,\"#d8576b\"],[0.6666666666666666,\"#ed7953\"],[0.7777777777777778,\"#fb9f3a\"],[0.8888888888888888,\"#fdca26\"],[1.0,\"#f0f921\"]],\"type\":\"heatmap\"}],\"heatmapgl\":[{\"colorbar\":{\"outlinewidth\":0,\"ticks\":\"\"},\"colorscale\":[[0.0,\"#0d0887\"],[0.1111111111111111,\"#46039f\"],[0.2222222222222222,\"#7201a8\"],[0.3333333333333333,\"#9c179e\"],[0.4444444444444444,\"#bd3786\"],[0.5555555555555556,\"#d8576b\"],[0.6666666666666666,\"#ed7953\"],[0.7777777777777778,\"#fb9f3a\"],[0.8888888888888888,\"#fdca26\"],[1.0,\"#f0f921\"]],\"type\":\"heatmapgl\"}],\"histogram\":[{\"marker\":{\"pattern\":{\"fillmode\":\"overlay\",\"size\":10,\"solidity\":0.2}},\"type\":\"histogram\"}],\"histogram2d\":[{\"colorbar\":{\"outlinewidth\":0,\"ticks\":\"\"},\"colorscale\":[[0.0,\"#0d0887\"],[0.1111111111111111,\"#46039f\"],[0.2222222222222222,\"#7201a8\"],[0.3333333333333333,\"#9c179e\"],[0.4444444444444444,\"#bd3786\"],[0.5555555555555556,\"#d8576b\"],[0.6666666666666666,\"#ed7953\"],[0.7777777777777778,\"#fb9f3a\"],[0.8888888888888888,\"#fdca26\"],[1.0,\"#f0f921\"]],\"type\":\"histogram2d\"}],\"histogram2dcontour\":[{\"colorbar\":{\"outlinewidth\":0,\"ticks\":\"\"},\"colorscale\":[[0.0,\"#0d0887\"],[0.1111111111111111,\"#46039f\"],[0.2222222222222222,\"#7201a8\"],[0.3333333333333333,\"#9c179e\"],[0.4444444444444444,\"#bd3786\"],[0.5555555555555556,\"#d8576b\"],[0.6666666666666666,\"#ed7953\"],[0.7777777777777778,\"#fb9f3a\"],[0.8888888888888888,\"#fdca26\"],[1.0,\"#f0f921\"]],\"type\":\"histogram2dcontour\"}],\"mesh3d\":[{\"colorbar\":{\"outlinewidth\":0,\"ticks\":\"\"},\"type\":\"mesh3d\"}],\"parcoords\":[{\"line\":{\"colorbar\":{\"outlinewidth\":0,\"ticks\":\"\"}},\"type\":\"parcoords\"}],\"pie\":[{\"automargin\":true,\"type\":\"pie\"}],\"scatter\":[{\"marker\":{\"colorbar\":{\"outlinewidth\":0,\"ticks\":\"\"}},\"type\":\"scatter\"}],\"scatter3d\":[{\"line\":{\"colorbar\":{\"outlinewidth\":0,\"ticks\":\"\"}},\"marker\":{\"colorbar\":{\"outlinewidth\":0,\"ticks\":\"\"}},\"type\":\"scatter3d\"}],\"scattercarpet\":[{\"marker\":{\"colorbar\":{\"outlinewidth\":0,\"ticks\":\"\"}},\"type\":\"scattercarpet\"}],\"scattergeo\":[{\"marker\":{\"colorbar\":{\"outlinewidth\":0,\"ticks\":\"\"}},\"type\":\"scattergeo\"}],\"scattergl\":[{\"marker\":{\"colorbar\":{\"outlinewidth\":0,\"ticks\":\"\"}},\"type\":\"scattergl\"}],\"scattermapbox\":[{\"marker\":{\"colorbar\":{\"outlinewidth\":0,\"ticks\":\"\"}},\"type\":\"scattermapbox\"}],\"scatterpolar\":[{\"marker\":{\"colorbar\":{\"outlinewidth\":0,\"ticks\":\"\"}},\"type\":\"scatterpolar\"}],\"scatterpolargl\":[{\"marker\":{\"colorbar\":{\"outlinewidth\":0,\"ticks\":\"\"}},\"type\":\"scatterpolargl\"}],\"scatterternary\":[{\"marker\":{\"colorbar\":{\"outlinewidth\":0,\"ticks\":\"\"}},\"type\":\"scatterternary\"}],\"surface\":[{\"colorbar\":{\"outlinewidth\":0,\"ticks\":\"\"},\"colorscale\":[[0.0,\"#0d0887\"],[0.1111111111111111,\"#46039f\"],[0.2222222222222222,\"#7201a8\"],[0.3333333333333333,\"#9c179e\"],[0.4444444444444444,\"#bd3786\"],[0.5555555555555556,\"#d8576b\"],[0.6666666666666666,\"#ed7953\"],[0.7777777777777778,\"#fb9f3a\"],[0.8888888888888888,\"#fdca26\"],[1.0,\"#f0f921\"]],\"type\":\"surface\"}],\"table\":[{\"cells\":{\"fill\":{\"color\":\"#EBF0F8\"},\"line\":{\"color\":\"white\"}},\"header\":{\"fill\":{\"color\":\"#C8D4E3\"},\"line\":{\"color\":\"white\"}},\"type\":\"table\"}]},\"layout\":{\"annotationdefaults\":{\"arrowcolor\":\"#2a3f5f\",\"arrowhead\":0,\"arrowwidth\":1},\"autotypenumbers\":\"strict\",\"coloraxis\":{\"colorbar\":{\"outlinewidth\":0,\"ticks\":\"\"}},\"colorscale\":{\"diverging\":[[0,\"#8e0152\"],[0.1,\"#c51b7d\"],[0.2,\"#de77ae\"],[0.3,\"#f1b6da\"],[0.4,\"#fde0ef\"],[0.5,\"#f7f7f7\"],[0.6,\"#e6f5d0\"],[0.7,\"#b8e186\"],[0.8,\"#7fbc41\"],[0.9,\"#4d9221\"],[1,\"#276419\"]],\"sequential\":[[0.0,\"#0d0887\"],[0.1111111111111111,\"#46039f\"],[0.2222222222222222,\"#7201a8\"],[0.3333333333333333,\"#9c179e\"],[0.4444444444444444,\"#bd3786\"],[0.5555555555555556,\"#d8576b\"],[0.6666666666666666,\"#ed7953\"],[0.7777777777777778,\"#fb9f3a\"],[0.8888888888888888,\"#fdca26\"],[1.0,\"#f0f921\"]],\"sequentialminus\":[[0.0,\"#0d0887\"],[0.1111111111111111,\"#46039f\"],[0.2222222222222222,\"#7201a8\"],[0.3333333333333333,\"#9c179e\"],[0.4444444444444444,\"#bd3786\"],[0.5555555555555556,\"#d8576b\"],[0.6666666666666666,\"#ed7953\"],[0.7777777777777778,\"#fb9f3a\"],[0.8888888888888888,\"#fdca26\"],[1.0,\"#f0f921\"]]},\"colorway\":[\"#636efa\",\"#EF553B\",\"#00cc96\",\"#ab63fa\",\"#FFA15A\",\"#19d3f3\",\"#FF6692\",\"#B6E880\",\"#FF97FF\",\"#FECB52\"],\"font\":{\"color\":\"#2a3f5f\"},\"geo\":{\"bgcolor\":\"white\",\"lakecolor\":\"white\",\"landcolor\":\"#E5ECF6\",\"showlakes\":true,\"showland\":true,\"subunitcolor\":\"white\"},\"hoverlabel\":{\"align\":\"left\"},\"hovermode\":\"closest\",\"mapbox\":{\"style\":\"light\"},\"paper_bgcolor\":\"white\",\"plot_bgcolor\":\"#E5ECF6\",\"polar\":{\"angularaxis\":{\"gridcolor\":\"white\",\"linecolor\":\"white\",\"ticks\":\"\"},\"bgcolor\":\"#E5ECF6\",\"radialaxis\":{\"gridcolor\":\"white\",\"linecolor\":\"white\",\"ticks\":\"\"}},\"scene\":{\"xaxis\":{\"backgroundcolor\":\"#E5ECF6\",\"gridcolor\":\"white\",\"gridwidth\":2,\"linecolor\":\"white\",\"showbackground\":true,\"ticks\":\"\",\"zerolinecolor\":\"white\"},\"yaxis\":{\"backgroundcolor\":\"#E5ECF6\",\"gridcolor\":\"white\",\"gridwidth\":2,\"linecolor\":\"white\",\"showbackground\":true,\"ticks\":\"\",\"zerolinecolor\":\"white\"},\"zaxis\":{\"backgroundcolor\":\"#E5ECF6\",\"gridcolor\":\"white\",\"gridwidth\":2,\"linecolor\":\"white\",\"showbackground\":true,\"ticks\":\"\",\"zerolinecolor\":\"white\"}},\"shapedefaults\":{\"line\":{\"color\":\"#2a3f5f\"}},\"ternary\":{\"aaxis\":{\"gridcolor\":\"white\",\"linecolor\":\"white\",\"ticks\":\"\"},\"baxis\":{\"gridcolor\":\"white\",\"linecolor\":\"white\",\"ticks\":\"\"},\"bgcolor\":\"#E5ECF6\",\"caxis\":{\"gridcolor\":\"white\",\"linecolor\":\"white\",\"ticks\":\"\"}},\"title\":{\"x\":0.05},\"xaxis\":{\"automargin\":true,\"gridcolor\":\"white\",\"linecolor\":\"white\",\"ticks\":\"\",\"title\":{\"standoff\":15},\"zerolinecolor\":\"white\",\"zerolinewidth\":2},\"yaxis\":{\"automargin\":true,\"gridcolor\":\"white\",\"linecolor\":\"white\",\"ticks\":\"\",\"title\":{\"standoff\":15},\"zerolinecolor\":\"white\",\"zerolinewidth\":2}}},\"title\":{\"text\":\"An\\u00e1lisis de ingredientes objetivos FooDB: TSNE con filtro G.\"},\"xaxis\":{\"anchor\":\"y\",\"domain\":[0.0,1.0],\"title\":{\"text\":\"x1\"}},\"yaxis\":{\"anchor\":\"x\",\"domain\":[0.0,1.0],\"title\":{\"text\":\"x2\"}}},                        {\"responsive\": true}                    ).then(function(){\n",
       "                            \n",
       "var gd = document.getElementById('8b603dda-8e09-4d24-8d07-764e2e5e2557');\n",
       "var x = new MutationObserver(function (mutations, observer) {{\n",
       "        var display = window.getComputedStyle(gd).display;\n",
       "        if (!display || display === 'none') {{\n",
       "            console.log([gd, 'removed!']);\n",
       "            Plotly.purge(gd);\n",
       "            observer.disconnect();\n",
       "        }}\n",
       "}});\n",
       "\n",
       "// Listen for the removal of the full notebook cells\n",
       "var notebookContainer = gd.closest('#notebook-container');\n",
       "if (notebookContainer) {{\n",
       "    x.observe(notebookContainer, {childList: true});\n",
       "}}\n",
       "\n",
       "// Listen for the clearing of the current output cell\n",
       "var outputEl = gd.closest('.output');\n",
       "if (outputEl) {{\n",
       "    x.observe(outputEl, {childList: true});\n",
       "}}\n",
       "\n",
       "                        })                };                });            </script>        </div>"
      ]
     },
     "metadata": {},
     "output_type": "display_data"
    },
    {
     "name": "stdout",
     "output_type": "stream",
     "text": [
      "Getting T-SNE from group M...\n"
     ]
    },
    {
     "data": {
      "application/vnd.plotly.v1+json": {
       "config": {
        "plotlyServerURL": "https://plot.ly"
       },
       "data": [
        {
         "customdata": [
          [
           "date, dried",
           0
          ],
          [
           "nuts, ginkgo nuts, dried",
           0
          ],
          [
           "fig, dried",
           0
          ],
          [
           "carob flour",
           0
          ],
          [
           "nuts, pine nuts, pinyon, dried",
           0
          ],
          [
           "longans, dried",
           0
          ],
          [
           "prune, dried plum",
           0
          ],
          [
           "nuts, coconut meat, dried (desiccated), toasted",
           0
          ],
          [
           "nuts, acorn flour, full fat",
           0
          ],
          [
           "nuts, coconut meat, dried (desiccated), creamed",
           0
          ],
          [
           "nuts, chestnuts, european, dried, unpeeled",
           0
          ],
          [
           "nuts, acorns, dried",
           0
          ],
          [
           "nuts, chestnuts, japanese, dried",
           0
          ],
          [
           "peach, dried",
           0
          ],
          [
           "nuts, beechnuts, dried",
           0
          ],
          [
           "apple, dried",
           0
          ],
          [
           "persimmons, japanese, dried",
           0
          ],
          [
           "nuts, chestnuts, chinese, dried",
           0
          ],
          [
           "nuts, chestnuts, european, dried, peeled",
           0
          ],
          [
           "apricot, dried",
           0
          ],
          [
           "litchis, dried",
           0
          ],
          [
           "wocas, dried seeds, oregon, yellow pond lily, nuphar lutea (or) - cy0617b",
           0
          ],
          [
           "jujube, dried",
           0
          ],
          [
           "fungi, cloud ears, dried",
           0
          ],
          [
           "pepeao, dried",
           0
          ],
          [
           "fruit, mixed, (prune and apricot and pear), dried",
           0
          ],
          [
           "currants, zante, dried",
           0
          ]
         ],
         "hovertemplate": "cluster=%{customdata[1]}<br>x1=%{x}<br>x2=%{y}<br>label=%{customdata[0]}<extra></extra>",
         "legendgroup": "0",
         "marker": {
          "color": "#636efa",
          "opacity": 0.5,
          "size": 15,
          "symbol": "circle"
         },
         "mode": "markers+text",
         "name": "0",
         "orientation": "v",
         "showlegend": true,
         "text": [
          "date, dried",
          "nuts, ginkgo nuts, dried",
          "fig, dried",
          "carob flour",
          "nuts, pine nuts, pinyon, dried",
          "longans, dried",
          "prune, dried plum",
          "nuts, coconut meat, dried (desiccated), toasted",
          "nuts, acorn flour, full fat",
          "nuts, coconut meat, dried (desiccated), creamed",
          "nuts, chestnuts, european, dried, unpeeled",
          "nuts, acorns, dried",
          "nuts, chestnuts, japanese, dried",
          "peach, dried",
          "nuts, beechnuts, dried",
          "apple, dried",
          "persimmons, japanese, dried",
          "nuts, chestnuts, chinese, dried",
          "nuts, chestnuts, european, dried, peeled",
          "apricot, dried",
          "litchis, dried",
          "wocas, dried seeds, oregon, yellow pond lily, nuphar lutea (or) - cy0617b",
          "jujube, dried",
          "fungi, cloud ears, dried",
          "pepeao, dried",
          "fruit, mixed, (prune and apricot and pear), dried",
          "currants, zante, dried"
         ],
         "textfont": {
          "size": 7
         },
         "textposition": "top center",
         "type": "scatter",
         "x": [
          -4.350619792938232,
          -37.9665412902832,
          -29.33293914794922,
          -17.68239402770996,
          -10.121298789978027,
          18.305389404296875,
          2.732942819595337,
          19.840517044067383,
          -8.24056339263916,
          19.529565811157227,
          -35.277099609375,
          -6.908014297485352,
          -12.451122283935547,
          -34.6915168762207,
          -30.830276489257812,
          4.1739397048950195,
          -11.066009521484375,
          -10.49355411529541,
          -33.662479400634766,
          -31.459575653076172,
          -36.40603256225586,
          21.23961639404297,
          0.678856611251831,
          -15.057724952697754,
          -11.919609069824219,
          -10.149649620056152,
          -32.26881408691406
         ],
         "xaxis": "x",
         "y": [
          77.58000946044922,
          65.04460906982422,
          65.6733169555664,
          77.05035400390625,
          82.75933074951172,
          79.11054992675781,
          77.77484893798828,
          77.4015121459961,
          77.97590637207031,
          75.73384857177734,
          65.10411834716797,
          77.44055938720703,
          78.107666015625,
          67.5300521850586,
          61.5930061340332,
          77.8987045288086,
          67.83784484863281,
          77.41995239257812,
          65.59266662597656,
          63.40391159057617,
          62.4603157043457,
          76.2308578491211,
          77.69672393798828,
          77.80502319335938,
          80.7371826171875,
          68.7165756225586,
          68.7425537109375
         ],
         "yaxis": "y"
        },
        {
         "customdata": [
          [
           "cereals, farina, unenriched, dry",
           1
          ],
          [
           "spices, mustard seed, ground",
           1
          ],
          [
           "seeds, safflower seed kernels, dried",
           1
          ],
          [
           "cornmeal, yellow (navajo)",
           1
          ],
          [
           "seeds, flaxseed",
           1
          ],
          [
           "cereals, corn grits, white, regular and quick, unenriched, dry",
           1
          ],
          [
           "nuts, brazilnuts, dried, unblanched",
           1
          ],
          [
           "seeds, sunflower seed kernels, dried",
           1
          ],
          [
           "seeds, pumpkin and squash seed kernels, dried",
           1
          ],
          [
           "seeds, pumpkin and squash seed kernels, dried",
           1
          ],
          [
           "rye flour, dark, whole meal",
           1
          ],
          [
           "nuts, pilinuts, dried",
           1
          ],
          [
           "seeds, watermelon seed kernels, dried",
           1
          ],
          [
           "buckwheat flour",
           1
          ],
          [
           "cornmeal, degermed, unenriched, white",
           1
          ],
          [
           "millet flour",
           1
          ],
          [
           "buckwheat flour, whole-groat",
           1
          ],
          [
           "wheat flour",
           1
          ],
          [
           "nuts, pine nuts, dried",
           1
          ],
          [
           "cornmeal, whole-grain, yellow",
           1
          ],
          [
           "pine nuts, pignolias, dried",
           1
          ],
          [
           "rye flour, medium",
           1
          ],
          [
           "cereals, corn grits, white, regular and quick, unenriched, dry",
           1
          ],
          [
           "cornmeal, whole-grain, white",
           1
          ],
          [
           "cornmeal, degermed, unenriched, yellow",
           1
          ],
          [
           "nuts, butternuts, dried",
           1
          ],
          [
           "pecans, dried",
           1
          ],
          [
           "wheat flour, whole-grain",
           1
          ],
          [
           "wheat flour",
           1
          ],
          [
           "cereals, corn grits, yellow, regular and quick, unenriched, dry",
           1
          ],
          [
           "walnuts",
           1
          ],
          [
           "cereals, corn grits, yellow, regular and quick, unenriched, dry",
           1
          ],
          [
           "bulgur, dry",
           1
          ],
          [
           "rice flour",
           1
          ],
          [
           "barley flour or meal",
           1
          ],
          [
           "barley malt flour",
           1
          ],
          [
           "nuts, walnuts, black, dried",
           1
          ],
          [
           "rice flour, brown",
           1
          ],
          [
           "corn flour",
           1
          ],
          [
           "corn flour, masa, unenriched, white",
           1
          ],
          [
           "cornmeal, white (navajo)",
           1
          ],
          [
           "rye flour, light",
           1
          ],
          [
           "cereals, oats, regular and quick, not fortified, dry",
           1
          ],
          [
           "nuts, hickorynuts, dried",
           1
          ],
          [
           "rice flour, white",
           1
          ],
          [
           "corn flour, whole-grain, white",
           1
          ],
          [
           "corn flour, whole-grain, yellow",
           1
          ],
          [
           "rice, white, long-grain, parboiled, unenriched, dry",
           1
          ],
          [
           "wheat flour, white, all-purpose, unenriched",
           1
          ],
          [
           "seeds, pumpkin and squash seed kernels, dried",
           1
          ],
          [
           "wheat, flour, wholemeal",
           1
          ],
          [
           "triticale flour, whole-grain",
           1
          ],
          [
           "tofu, dried-frozen (koyadofu)",
           1
          ],
          [
           "sorghum flour",
           1
          ],
          [
           "corn starch",
           1
          ],
          [
           "oat flour, partially debranned",
           1
          ],
          [
           "cornmeal, blue (navajo)",
           1
          ],
          [
           "spices, nutmeg, ground",
           1
          ],
          [
           "spices, mace, ground",
           1
          ],
          [
           "wheat flour, whole-grain, soft wheat",
           1
          ],
          [
           "spices, pepper, white",
           1
          ],
          [
           "sunflower seeds, decorticated, dried",
           1
          ],
          [
           "corn flour, degermed, unenriched, yellow",
           1
          ],
          [
           "cereals, whole wheat hot natural cereal, dry",
           1
          ],
          [
           "corn flour, whole-grain, blue (harina de maiz morado)",
           1
          ],
          [
           "corn, dried (navajo)",
           1
          ]
         ],
         "hovertemplate": "cluster=%{customdata[1]}<br>x1=%{x}<br>x2=%{y}<br>label=%{customdata[0]}<extra></extra>",
         "legendgroup": "1",
         "marker": {
          "color": "#EF553B",
          "opacity": 0.5,
          "size": 15,
          "symbol": "circle"
         },
         "mode": "markers+text",
         "name": "1",
         "orientation": "v",
         "showlegend": true,
         "text": [
          "cereals, farina, unenriched, dry",
          "spices, mustard seed, ground",
          "seeds, safflower seed kernels, dried",
          "cornmeal, yellow (navajo)",
          "seeds, flaxseed",
          "cereals, corn grits, white, regular and quick, unenriched, dry",
          "nuts, brazilnuts, dried, unblanched",
          "seeds, sunflower seed kernels, dried",
          "seeds, pumpkin and squash seed kernels, dried",
          "seeds, pumpkin and squash seed kernels, dried",
          "rye flour, dark, whole meal",
          "nuts, pilinuts, dried",
          "seeds, watermelon seed kernels, dried",
          "buckwheat flour",
          "cornmeal, degermed, unenriched, white",
          "millet flour",
          "buckwheat flour, whole-groat",
          "wheat flour",
          "nuts, pine nuts, dried",
          "cornmeal, whole-grain, yellow",
          "pine nuts, pignolias, dried",
          "rye flour, medium",
          "cereals, corn grits, white, regular and quick, unenriched, dry",
          "cornmeal, whole-grain, white",
          "cornmeal, degermed, unenriched, yellow",
          "nuts, butternuts, dried",
          "pecans, dried",
          "wheat flour, whole-grain",
          "wheat flour",
          "cereals, corn grits, yellow, regular and quick, unenriched, dry",
          "walnuts",
          "cereals, corn grits, yellow, regular and quick, unenriched, dry",
          "bulgur, dry",
          "rice flour",
          "barley flour or meal",
          "barley malt flour",
          "nuts, walnuts, black, dried",
          "rice flour, brown",
          "corn flour",
          "corn flour, masa, unenriched, white",
          "cornmeal, white (navajo)",
          "rye flour, light",
          "cereals, oats, regular and quick, not fortified, dry",
          "nuts, hickorynuts, dried",
          "rice flour, white",
          "corn flour, whole-grain, white",
          "corn flour, whole-grain, yellow",
          "rice, white, long-grain, parboiled, unenriched, dry",
          "wheat flour, white, all-purpose, unenriched",
          "seeds, pumpkin and squash seed kernels, dried",
          "wheat, flour, wholemeal",
          "triticale flour, whole-grain",
          "tofu, dried-frozen (koyadofu)",
          "sorghum flour",
          "corn starch",
          "oat flour, partially debranned",
          "cornmeal, blue (navajo)",
          "spices, nutmeg, ground",
          "spices, mace, ground",
          "wheat flour, whole-grain, soft wheat",
          "spices, pepper, white",
          "sunflower seeds, decorticated, dried",
          "corn flour, degermed, unenriched, yellow",
          "cereals, whole wheat hot natural cereal, dry",
          "corn flour, whole-grain, blue (harina de maiz morado)",
          "corn, dried (navajo)"
         ],
         "textfont": {
          "size": 7
         },
         "textposition": "top center",
         "type": "scatter",
         "x": [
          72.95306396484375,
          92.2231674194336,
          88.49987030029297,
          68.58544921875,
          92.92235565185547,
          94.07313537597656,
          89.7194595336914,
          87.26881408691406,
          106.61183166503906,
          105.94144439697266,
          54.086700439453125,
          80.08513641357422,
          88.01592254638672,
          87.35729217529297,
          80.78246307373047,
          74.44020080566406,
          42.826324462890625,
          86.05609893798828,
          79.82292938232422,
          64.91765594482422,
          80.98795318603516,
          63.37865447998047,
          92.17072296142578,
          65.4920654296875,
          79.58293151855469,
          70.0890121459961,
          55.69337463378906,
          65.8207015991211,
          80.58958435058594,
          92.07501220703125,
          77.53067016601562,
          93.9776382446289,
          49.38713836669922,
          76.21476745605469,
          73.63641357421875,
          75.68110656738281,
          77.70361328125,
          76.2567138671875,
          76.94507598876953,
          73.27240753173828,
          52.78278732299805,
          86.74594116210938,
          67.95806884765625,
          47.53386688232422,
          73.7132339477539,
          71.5913314819336,
          71.15019989013672,
          80.42498016357422,
          74.55813598632812,
          104.8860855102539,
          61.13325881958008,
          46.42181396484375,
          76.4457015991211,
          73.89532470703125,
          73.79956817626953,
          68.86839294433594,
          64.37650299072266,
          72.2955322265625,
          70.66219329833984,
          60.45664978027344,
          77.68165588378906,
          74.73640441894531,
          70.8305435180664,
          66.36717987060547,
          62.30286407470703,
          45.228965759277344
         ],
         "xaxis": "x",
         "y": [
          -53.92888641357422,
          62.961063385009766,
          60.13134765625,
          5.226105213165283,
          61.032066345214844,
          -54.19572067260742,
          62.13627624511719,
          60.604957580566406,
          75.03934478759766,
          73.43323516845703,
          25.521068572998047,
          47.49850845336914,
          64.27392578125,
          -33.40263748168945,
          -41.57518005371094,
          -6.312214374542236,
          25.516571044921875,
          -33.41569900512695,
          53.37540054321289,
          1.8708934783935547,
          52.841880798339844,
          17.51763153076172,
          -54.29540252685547,
          0.729871392250061,
          -41.406044006347656,
          37.3253059387207,
          23.683473587036133,
          30.113994598388672,
          -38.43820571899414,
          -52.39227294921875,
          47.96113967895508,
          -52.29173278808594,
          22.031021118164062,
          -49.9519157409668,
          1.9548214673995972,
          -6.303236484527588,
          49.20270919799805,
          1.4733012914657593,
          -48.824832916259766,
          -23.84792137145996,
          26.131925582885742,
          -35.65389633178711,
          33.934715270996094,
          23.00018310546875,
          -56.16274642944336,
          4.87216329574585,
          3.591498374938965,
          -35.46784210205078,
          -52.42021179199219,
          74.81766510009766,
          22.346065521240234,
          24.232816696166992,
          -30.16339111328125,
          3.7904481887817383,
          -58.63427734375,
          35.3929557800293,
          28.817214965820312,
          -22.80419921875,
          -21.216873168945312,
          23.584646224975586,
          -31.826068878173828,
          48.073673248291016,
          -53.824554443359375,
          31.541244506835938,
          19.78175163269043,
          26.064876556396484
         ],
         "yaxis": "y"
        },
        {
         "customdata": [
          [
           "corn, dried, yellow (northern plains indians)",
           2
          ],
          [
           "spices, fenugreek seed",
           2
          ],
          [
           "lentils, dried",
           2
          ],
          [
           "nut, hazel (uk), filbert (usa), dried",
           2
          ],
          [
           "nut, pea, dried",
           2
          ],
          [
           "rye flour, dark",
           2
          ],
          [
           "chickpea flour (besan)",
           2
          ]
         ],
         "hovertemplate": "cluster=%{customdata[1]}<br>x1=%{x}<br>x2=%{y}<br>label=%{customdata[0]}<extra></extra>",
         "legendgroup": "2",
         "marker": {
          "color": "#00cc96",
          "opacity": 0.5,
          "size": 15,
          "symbol": "circle"
         },
         "mode": "markers+text",
         "name": "2",
         "orientation": "v",
         "showlegend": true,
         "text": [
          "corn, dried, yellow (northern plains indians)",
          "spices, fenugreek seed",
          "lentils, dried",
          "nut, hazel (uk), filbert (usa), dried",
          "nut, pea, dried",
          "rye flour, dark",
          "chickpea flour (besan)"
         ],
         "textfont": {
          "size": 7
         },
         "textposition": "top center",
         "type": "scatter",
         "x": [
          3.5230021476745605,
          -1.1413222551345825,
          5.691657066345215,
          0.2887174189090729,
          3.2895452976226807,
          2.9342269897460938,
          3.309929847717285
         ],
         "xaxis": "x",
         "y": [
          36.45452117919922,
          35.741127014160156,
          33.128047943115234,
          34.85282897949219,
          32.84698486328125,
          31.356042861938477,
          38.012054443359375
         ],
         "yaxis": "y"
        },
        {
         "customdata": [
          [
           "seeds, sunflower seed flour, partially defatted",
           3
          ],
          [
           "seeds, sesame flour, partially defatted",
           3
          ],
          [
           "seeds, sesame seed kernels, dried (decorticated)",
           3
          ],
          [
           "seeds, sunflower seed kernels, toasted, without salt",
           3
          ],
          [
           "seeds, sesame flour, low-fat",
           3
          ],
          [
           "seeds, sesame flour, high-fat",
           3
          ],
          [
           "seeds, sesame meal, partially defatted",
           3
          ],
          [
           "seeds, safflower seed meal, partially defatted",
           3
          ],
          [
           "sesame seed, decorticated",
           3
          ]
         ],
         "hovertemplate": "cluster=%{customdata[1]}<br>x1=%{x}<br>x2=%{y}<br>label=%{customdata[0]}<extra></extra>",
         "legendgroup": "3",
         "marker": {
          "color": "#ab63fa",
          "opacity": 0.5,
          "size": 15,
          "symbol": "circle"
         },
         "mode": "markers+text",
         "name": "3",
         "orientation": "v",
         "showlegend": true,
         "text": [
          "seeds, sunflower seed flour, partially defatted",
          "seeds, sesame flour, partially defatted",
          "seeds, sesame seed kernels, dried (decorticated)",
          "seeds, sunflower seed kernels, toasted, without salt",
          "seeds, sesame flour, low-fat",
          "seeds, sesame flour, high-fat",
          "seeds, sesame meal, partially defatted",
          "seeds, safflower seed meal, partially defatted",
          "sesame seed, decorticated"
         ],
         "textfont": {
          "size": 7
         },
         "textposition": "top center",
         "type": "scatter",
         "x": [
          110.51858520507812,
          122.59574127197266,
          117.33551788330078,
          123.61061096191406,
          119.6236343383789,
          121.012451171875,
          121.20178985595703,
          110.54730987548828,
          119.92239379882812
         ],
         "xaxis": "x",
         "y": [
          104.53653717041016,
          109.50395202636719,
          104.7815170288086,
          111.99057006835938,
          107.29500579833984,
          110.01207733154297,
          107.66014862060547,
          103.3031997680664,
          104.74595642089844
         ],
         "yaxis": "y"
        },
        {
         "customdata": [
          [
           "carrot, dehydrated",
           4
          ],
          [
           "soy flour, defatted",
           4
          ],
          [
           "bananas, dehydrated, or banana powder",
           4
          ],
          [
           "beans, white, dried",
           4
          ],
          [
           "beans, brown, dried",
           4
          ],
          [
           "seeds, cottonseed flour, low fat (glandless)",
           4
          ],
          [
           "spices, paprika",
           4
          ],
          [
           "yeast, dried",
           4
          ],
          [
           "beans, soy, dried",
           4
          ],
          [
           "peppers, hot chile, sun-dried",
           4
          ],
          [
           "spices, garlic powder",
           4
          ],
          [
           "pistachio nuts, dried",
           4
          ],
          [
           "peppers, ancho, dried",
           4
          ],
          [
           "onions, dehydrated flakes",
           4
          ],
          [
           "cocoa, dry powder, unsweetened, processed with alkali",
           4
          ],
          [
           "tomato powder",
           4
          ],
          [
           "cocoa, dry powder, unsweetened",
           4
          ],
          [
           "peanut flour, low fat",
           4
          ],
          [
           "seeds, lotus seeds, dried",
           4
          ],
          [
           "soya flour, full fat",
           4
          ],
          [
           "seeds, cottonseed flour, partially defatted (glandless)",
           4
          ],
          [
           "peanut flour, defatted",
           4
          ],
          [
           "soy flour, low-fat, crude protein basis (n x 6.25)",
           4
          ],
          [
           "spices, ginger, ground",
           4
          ],
          [
           "garlic, dried, powder",
           4
          ],
          [
           "leavening agents, yeast, bakers, active dry",
           4
          ],
          [
           "soy flour, defatted, crude protein basis (n x 6.25)",
           4
          ],
          [
           "mushrooms, shiitake, dried",
           4
          ],
          [
           "spices, saffron",
           4
          ],
          [
           "coffee and cocoa (mocha) powder, with whitener and low calorie sweetener",
           4
          ],
          [
           "coffee and cocoa (mocha) powder, with whitener and low calorie sweetener, decaffeinated",
           4
          ],
          [
           "spices, turmeric, ground",
           4
          ],
          [
           "spices, pepper, red or cayenne",
           4
          ],
          [
           "cocoa, dry powder, hi-fat or breakfast, plain",
           4
          ],
          [
           "cocoa, dry powder, hi-fat or breakfast, processed with alkali",
           4
          ],
          [
           "soy flour, low-fat",
           4
          ],
          [
           "peppers, pasilla, dried",
           4
          ]
         ],
         "hovertemplate": "cluster=%{customdata[1]}<br>x1=%{x}<br>x2=%{y}<br>label=%{customdata[0]}<extra></extra>",
         "legendgroup": "4",
         "marker": {
          "color": "#FFA15A",
          "opacity": 0.5,
          "size": 15,
          "symbol": "circle"
         },
         "mode": "markers+text",
         "name": "4",
         "orientation": "v",
         "showlegend": true,
         "text": [
          "carrot, dehydrated",
          "soy flour, defatted",
          "bananas, dehydrated, or banana powder",
          "beans, white, dried",
          "beans, brown, dried",
          "seeds, cottonseed flour, low fat (glandless)",
          "spices, paprika",
          "yeast, dried",
          "beans, soy, dried",
          "peppers, hot chile, sun-dried",
          "spices, garlic powder",
          "pistachio nuts, dried",
          "peppers, ancho, dried",
          "onions, dehydrated flakes",
          "cocoa, dry powder, unsweetened, processed with alkali",
          "tomato powder",
          "cocoa, dry powder, unsweetened",
          "peanut flour, low fat",
          "seeds, lotus seeds, dried",
          "soya flour, full fat",
          "seeds, cottonseed flour, partially defatted (glandless)",
          "peanut flour, defatted",
          "soy flour, low-fat, crude protein basis (n x 6.25)",
          "spices, ginger, ground",
          "garlic, dried, powder",
          "leavening agents, yeast, bakers, active dry",
          "soy flour, defatted, crude protein basis (n x 6.25)",
          "mushrooms, shiitake, dried",
          "spices, saffron",
          "coffee and cocoa (mocha) powder, with whitener and low calorie sweetener",
          "coffee and cocoa (mocha) powder, with whitener and low calorie sweetener, decaffeinated",
          "spices, turmeric, ground",
          "spices, pepper, red or cayenne",
          "cocoa, dry powder, hi-fat or breakfast, plain",
          "cocoa, dry powder, hi-fat or breakfast, processed with alkali",
          "soy flour, low-fat",
          "peppers, pasilla, dried"
         ],
         "textfont": {
          "size": 7
         },
         "textposition": "top center",
         "type": "scatter",
         "x": [
          -85.90129089355469,
          -79.73316955566406,
          -38.591773986816406,
          -43.78310775756836,
          -32.09708023071289,
          -57.30088424682617,
          -80.69239044189453,
          -64.78998565673828,
          -44.43128967285156,
          -72.67315673828125,
          -27.808639526367188,
          -24.82048225402832,
          -83.54532623291016,
          -45.188743591308594,
          -81.35992431640625,
          -72.41480255126953,
          -39.96133804321289,
          -32.963558197021484,
          -34.68275833129883,
          -68.00526428222656,
          -57.91352844238281,
          -37.281166076660156,
          -80.69237518310547,
          -37.020626068115234,
          -26.433658599853516,
          -23.080921173095703,
          -67.43995666503906,
          -40.895416259765625,
          -70.14862060546875,
          -63.41173553466797,
          -63.361778259277344,
          -84.59861755371094,
          -73.88529968261719,
          -41.15623092651367,
          -82.60221862792969,
          -66.34720611572266,
          -80.88973999023438
         ],
         "xaxis": "x",
         "y": [
          -14.31797981262207,
          3.049938917160034,
          -19.336761474609375,
          -17.184917449951172,
          8.368732452392578,
          6.796667098999023,
          -16.79259490966797,
          4.374016761779785,
          -16.427640914916992,
          -23.79331398010254,
          11.266934394836426,
          13.091094970703125,
          -17.232431411743164,
          -19.394805908203125,
          5.611616611480713,
          -21.686878204345703,
          4.553424835205078,
          9.399690628051758,
          7.327401161193848,
          0.5724369287490845,
          7.873501777648926,
          5.887744426727295,
          2.076960802078247,
          -19.82632827758789,
          12.122349739074707,
          14.125338554382324,
          2.8231678009033203,
          -18.499109268188477,
          -21.975994110107422,
          -21.10639190673828,
          -22.332265853881836,
          -15.876699447631836,
          -21.254133224487305,
          4.053831100463867,
          4.938918113708496,
          2.0398900508880615,
          -18.213199615478516
         ],
         "yaxis": "y"
        },
        {
         "customdata": [
          [
           "tapioca, pearl, dry",
           5
          ],
          [
           "cornstarch",
           5
          ],
          [
           "potato flour",
           5
          ],
          [
           "arrowroot flour",
           5
          ],
          [
           "cocoa, dry powder, unsweetened, hersheys european style cocoa",
           5
          ]
         ],
         "hovertemplate": "cluster=%{customdata[1]}<br>x1=%{x}<br>x2=%{y}<br>label=%{customdata[0]}<extra></extra>",
         "legendgroup": "5",
         "marker": {
          "color": "#19d3f3",
          "opacity": 0.5,
          "size": 15,
          "symbol": "circle"
         },
         "mode": "markers+text",
         "name": "5",
         "orientation": "v",
         "showlegend": true,
         "text": [
          "tapioca, pearl, dry",
          "cornstarch",
          "potato flour",
          "arrowroot flour",
          "cocoa, dry powder, unsweetened, hersheys european style cocoa"
         ],
         "textfont": {
          "size": 7
         },
         "textposition": "top center",
         "type": "scatter",
         "x": [
          66.9767837524414,
          68.18457794189453,
          66.1358642578125,
          65.1888656616211,
          70.26830291748047
         ],
         "xaxis": "x",
         "y": [
          -82.46992492675781,
          -81.23889923095703,
          -84.38493347167969,
          -82.60584259033203,
          -81.89112091064453
         ],
         "yaxis": "y"
        },
        {
         "customdata": [
          [
           "spices, pepper, black",
           6
          ],
          [
           "spices, onion powder",
           6
          ],
          [
           "spices, caraway seed",
           6
          ],
          [
           "spices, oregano, dried",
           6
          ],
          [
           "seeds, sesame seeds, whole, dried",
           6
          ],
          [
           "spices, dill seed",
           6
          ],
          [
           "spices, cloves, ground",
           6
          ],
          [
           "sesame seeds, whole, dried",
           6
          ],
          [
           "spearmint, dried",
           6
          ],
          [
           "spices, cinnamon, ground",
           6
          ],
          [
           "seeds, chia seeds, dried",
           6
          ],
          [
           "spices, poppy seed",
           6
          ],
          [
           "spices, fennel seed",
           6
          ],
          [
           "seeds, sisymbrium sp. seeds, whole, dried",
           6
          ],
          [
           "spices, thyme, dried",
           6
          ],
          [
           "spices, allspice, ground",
           6
          ],
          [
           "spices, sage, ground",
           6
          ],
          [
           "spices, anise seed",
           6
          ],
          [
           "spices, coriander seed",
           6
          ],
          [
           "spices, celery seed",
           6
          ],
          [
           "spices, marjoram, dried",
           6
          ],
          [
           "spices, bay leaf",
           6
          ],
          [
           "spices, cumin seed",
           6
          ],
          [
           "curry powder",
           6
          ],
          [
           "spices, curry powder",
           6
          ],
          [
           "spices, rosemary, dried",
           6
          ],
          [
           "rose hip, dried, powder",
           6
          ],
          [
           "spices, savory, ground",
           6
          ],
          [
           "spices, cardamom",
           6
          ],
          [
           "seaweed, agar, dried",
           6
          ],
          [
           "agave, dried (southwest)",
           6
          ]
         ],
         "hovertemplate": "cluster=%{customdata[1]}<br>x1=%{x}<br>x2=%{y}<br>label=%{customdata[0]}<extra></extra>",
         "legendgroup": "6",
         "marker": {
          "color": "#FF6692",
          "opacity": 0.5,
          "size": 15,
          "symbol": "circle"
         },
         "mode": "markers+text",
         "name": "6",
         "orientation": "v",
         "showlegend": true,
         "text": [
          "spices, pepper, black",
          "spices, onion powder",
          "spices, caraway seed",
          "spices, oregano, dried",
          "seeds, sesame seeds, whole, dried",
          "spices, dill seed",
          "spices, cloves, ground",
          "sesame seeds, whole, dried",
          "spearmint, dried",
          "spices, cinnamon, ground",
          "seeds, chia seeds, dried",
          "spices, poppy seed",
          "spices, fennel seed",
          "seeds, sisymbrium sp. seeds, whole, dried",
          "spices, thyme, dried",
          "spices, allspice, ground",
          "spices, sage, ground",
          "spices, anise seed",
          "spices, coriander seed",
          "spices, celery seed",
          "spices, marjoram, dried",
          "spices, bay leaf",
          "spices, cumin seed",
          "curry powder",
          "spices, curry powder",
          "spices, rosemary, dried",
          "rose hip, dried, powder",
          "spices, savory, ground",
          "spices, cardamom",
          "seaweed, agar, dried",
          "agave, dried (southwest)"
         ],
         "textfont": {
          "size": 7
         },
         "textposition": "top center",
         "type": "scatter",
         "x": [
          -35.45022964477539,
          -32.509925842285156,
          -43.0327033996582,
          -62.67495346069336,
          -5.318976879119873,
          -64.0916748046875,
          -26.67511558532715,
          -6.596510410308838,
          -55.476139068603516,
          -17.382099151611328,
          -5.202507972717285,
          -4.675053596496582,
          -53.522621154785156,
          -56.311973571777344,
          -58.654239654541016,
          -25.325416564941406,
          -61.991424560546875,
          -43.50214767456055,
          -41.497589111328125,
          -60.270545959472656,
          -59.051849365234375,
          -18.854366302490234,
          -52.777626037597656,
          -43.32919692993164,
          -44.54295349121094,
          -65.97752380371094,
          -44.65488052368164,
          -57.54261016845703,
          -33.925594329833984,
          -29.149526596069336,
          -20.73986053466797
         ],
         "xaxis": "x",
         "y": [
          -74.82363891601562,
          -73.09453582763672,
          -85.34986114501953,
          -115.88504028320312,
          -83.42446899414062,
          -116.28701782226562,
          -79.82699584960938,
          -83.1347427368164,
          -96.8914794921875,
          -80.81431579589844,
          -85.50902557373047,
          -80.96072387695312,
          -94.13650512695312,
          -98.1520004272461,
          -119.35734558105469,
          -79.48135375976562,
          -117.61524963378906,
          -83.79759979248047,
          -85.93864440917969,
          -111.0899429321289,
          -111.70481872558594,
          -80.54759216308594,
          -93.07149505615234,
          -79.298095703125,
          -79.62487030029297,
          -117.42823028564453,
          -76.9430160522461,
          -118.37683868408203,
          -74.12493896484375,
          -80.77191925048828,
          -80.2345962524414
         ],
         "yaxis": "y"
        },
        {
         "customdata": [
          [
           "spices, basil, dried",
           7
          ],
          [
           "radishes, oriental, dried",
           7
          ],
          [
           "spices, chili powder",
           7
          ],
          [
           "cocoa, powder",
           7
          ],
          [
           "tomatoes, sun-dried",
           7
          ],
          [
           "seaweed, spirulina, dried",
           7
          ],
          [
           "spices, parsley, dried",
           7
          ],
          [
           "tomato, dried",
           7
          ],
          [
           "rice, white, with pasta, dry",
           7
          ],
          [
           "coffee, dry, powder, with whitener, reduced calorie",
           7
          ],
          [
           "coffee, dry, powder, with whitener, reduced calorie",
           7
          ],
          [
           "coriander, leaf, dried",
           7
          ],
          [
           "spices, coriander leaf, dried",
           7
          ],
          [
           "spices, chervil, dried",
           7
          ],
          [
           "celery flakes, dried",
           7
          ],
          [
           "coffee, dry, powder, with whitener, reduced calorie",
           7
          ],
          [
           "leavening agents, baking powder, low-sodium",
           7
          ],
          [
           "spices, tarragon, dried",
           7
          ],
          [
           "seaweed, konbu, dried (kelp)",
           7
          ],
          [
           "dill weed, dried",
           7
          ],
          [
           "spices, dill weed, dried",
           7
          ]
         ],
         "hovertemplate": "cluster=%{customdata[1]}<br>x1=%{x}<br>x2=%{y}<br>label=%{customdata[0]}<extra></extra>",
         "legendgroup": "7",
         "marker": {
          "color": "#B6E880",
          "opacity": 0.5,
          "size": 15,
          "symbol": "circle"
         },
         "mode": "markers+text",
         "name": "7",
         "orientation": "v",
         "showlegend": true,
         "text": [
          "spices, basil, dried",
          "radishes, oriental, dried",
          "spices, chili powder",
          "cocoa, powder",
          "tomatoes, sun-dried",
          "seaweed, spirulina, dried",
          "spices, parsley, dried",
          "tomato, dried",
          "rice, white, with pasta, dry",
          "coffee, dry, powder, with whitener, reduced calorie",
          "coffee, dry, powder, with whitener, reduced calorie",
          "coriander, leaf, dried",
          "spices, coriander leaf, dried",
          "spices, chervil, dried",
          "celery flakes, dried",
          "coffee, dry, powder, with whitener, reduced calorie",
          "leavening agents, baking powder, low-sodium",
          "spices, tarragon, dried",
          "seaweed, konbu, dried (kelp)",
          "dill weed, dried",
          "spices, dill weed, dried"
         ],
         "textfont": {
          "size": 7
         },
         "textposition": "top center",
         "type": "scatter",
         "x": [
          -120.83624267578125,
          -107.83529663085938,
          -97.16222381591797,
          -104.7760009765625,
          -106.21534729003906,
          -96.1328353881836,
          -113.19808197021484,
          -110.81076049804688,
          -94.68224334716797,
          -94.2288818359375,
          -95.54838562011719,
          -119.17390441894531,
          -120.58463287353516,
          -119.94847869873047,
          -112.20731353759766,
          -93.86054229736328,
          -117.23917388916016,
          -113.99820709228516,
          -114.84286499023438,
          -118.44752502441406,
          -118.66012573242188
         ],
         "xaxis": "x",
         "y": [
          -1.6338694095611572,
          4.0351409912109375,
          35.59989547729492,
          4.9559502601623535,
          4.585960865020752,
          37.77411651611328,
          -1.7500710487365723,
          21.77414321899414,
          44.26366424560547,
          39.962921142578125,
          41.09357833862305,
          15.781644821166992,
          15.749553680419922,
          17.643888473510742,
          21.54666519165039,
          41.532840728759766,
          21.70098304748535,
          -0.726759135723114,
          21.578258514404297,
          -1.8379024267196655,
          -0.5571803450584412
         ],
         "yaxis": "y"
        },
        {
         "customdata": [
          [
           "baking powder",
           -1
          ],
          [
           "leavening agents, baking powder, double-acting, straight phosphate",
           -1
          ],
          [
           "leavening agents, baking powder, double-acting, sodium aluminum sulfate",
           -1
          ]
         ],
         "hovertemplate": "cluster=%{customdata[1]}<br>x1=%{x}<br>x2=%{y}<br>label=%{customdata[0]}<extra></extra>",
         "legendgroup": "-1",
         "marker": {
          "color": "#FF97FF",
          "opacity": 0.5,
          "size": 15,
          "symbol": "circle"
         },
         "mode": "markers+text",
         "name": "-1",
         "orientation": "v",
         "showlegend": true,
         "text": [
          "baking powder",
          "leavening agents, baking powder, double-acting, straight phosphate",
          "leavening agents, baking powder, double-acting, sodium aluminum sulfate"
         ],
         "textfont": {
          "size": 7
         },
         "textposition": "top center",
         "type": "scatter",
         "x": [
          -6.019844055175781,
          -7.354306697845459,
          -5.916781425476074
         ],
         "xaxis": "x",
         "y": [
          -42.06045913696289,
          -41.57175064086914,
          -40.13620376586914
         ],
         "yaxis": "y"
        }
       ],
       "layout": {
        "legend": {
         "title": {
          "text": "cluster"
         },
         "tracegroupgap": 0
        },
        "margin": {
         "t": 60
        },
        "template": {
         "data": {
          "bar": [
           {
            "error_x": {
             "color": "#2a3f5f"
            },
            "error_y": {
             "color": "#2a3f5f"
            },
            "marker": {
             "line": {
              "color": "#E5ECF6",
              "width": 0.5
             },
             "pattern": {
              "fillmode": "overlay",
              "size": 10,
              "solidity": 0.2
             }
            },
            "type": "bar"
           }
          ],
          "barpolar": [
           {
            "marker": {
             "line": {
              "color": "#E5ECF6",
              "width": 0.5
             },
             "pattern": {
              "fillmode": "overlay",
              "size": 10,
              "solidity": 0.2
             }
            },
            "type": "barpolar"
           }
          ],
          "carpet": [
           {
            "aaxis": {
             "endlinecolor": "#2a3f5f",
             "gridcolor": "white",
             "linecolor": "white",
             "minorgridcolor": "white",
             "startlinecolor": "#2a3f5f"
            },
            "baxis": {
             "endlinecolor": "#2a3f5f",
             "gridcolor": "white",
             "linecolor": "white",
             "minorgridcolor": "white",
             "startlinecolor": "#2a3f5f"
            },
            "type": "carpet"
           }
          ],
          "choropleth": [
           {
            "colorbar": {
             "outlinewidth": 0,
             "ticks": ""
            },
            "type": "choropleth"
           }
          ],
          "contour": [
           {
            "colorbar": {
             "outlinewidth": 0,
             "ticks": ""
            },
            "colorscale": [
             [
              0,
              "#0d0887"
             ],
             [
              0.1111111111111111,
              "#46039f"
             ],
             [
              0.2222222222222222,
              "#7201a8"
             ],
             [
              0.3333333333333333,
              "#9c179e"
             ],
             [
              0.4444444444444444,
              "#bd3786"
             ],
             [
              0.5555555555555556,
              "#d8576b"
             ],
             [
              0.6666666666666666,
              "#ed7953"
             ],
             [
              0.7777777777777778,
              "#fb9f3a"
             ],
             [
              0.8888888888888888,
              "#fdca26"
             ],
             [
              1,
              "#f0f921"
             ]
            ],
            "type": "contour"
           }
          ],
          "contourcarpet": [
           {
            "colorbar": {
             "outlinewidth": 0,
             "ticks": ""
            },
            "type": "contourcarpet"
           }
          ],
          "heatmap": [
           {
            "colorbar": {
             "outlinewidth": 0,
             "ticks": ""
            },
            "colorscale": [
             [
              0,
              "#0d0887"
             ],
             [
              0.1111111111111111,
              "#46039f"
             ],
             [
              0.2222222222222222,
              "#7201a8"
             ],
             [
              0.3333333333333333,
              "#9c179e"
             ],
             [
              0.4444444444444444,
              "#bd3786"
             ],
             [
              0.5555555555555556,
              "#d8576b"
             ],
             [
              0.6666666666666666,
              "#ed7953"
             ],
             [
              0.7777777777777778,
              "#fb9f3a"
             ],
             [
              0.8888888888888888,
              "#fdca26"
             ],
             [
              1,
              "#f0f921"
             ]
            ],
            "type": "heatmap"
           }
          ],
          "heatmapgl": [
           {
            "colorbar": {
             "outlinewidth": 0,
             "ticks": ""
            },
            "colorscale": [
             [
              0,
              "#0d0887"
             ],
             [
              0.1111111111111111,
              "#46039f"
             ],
             [
              0.2222222222222222,
              "#7201a8"
             ],
             [
              0.3333333333333333,
              "#9c179e"
             ],
             [
              0.4444444444444444,
              "#bd3786"
             ],
             [
              0.5555555555555556,
              "#d8576b"
             ],
             [
              0.6666666666666666,
              "#ed7953"
             ],
             [
              0.7777777777777778,
              "#fb9f3a"
             ],
             [
              0.8888888888888888,
              "#fdca26"
             ],
             [
              1,
              "#f0f921"
             ]
            ],
            "type": "heatmapgl"
           }
          ],
          "histogram": [
           {
            "marker": {
             "pattern": {
              "fillmode": "overlay",
              "size": 10,
              "solidity": 0.2
             }
            },
            "type": "histogram"
           }
          ],
          "histogram2d": [
           {
            "colorbar": {
             "outlinewidth": 0,
             "ticks": ""
            },
            "colorscale": [
             [
              0,
              "#0d0887"
             ],
             [
              0.1111111111111111,
              "#46039f"
             ],
             [
              0.2222222222222222,
              "#7201a8"
             ],
             [
              0.3333333333333333,
              "#9c179e"
             ],
             [
              0.4444444444444444,
              "#bd3786"
             ],
             [
              0.5555555555555556,
              "#d8576b"
             ],
             [
              0.6666666666666666,
              "#ed7953"
             ],
             [
              0.7777777777777778,
              "#fb9f3a"
             ],
             [
              0.8888888888888888,
              "#fdca26"
             ],
             [
              1,
              "#f0f921"
             ]
            ],
            "type": "histogram2d"
           }
          ],
          "histogram2dcontour": [
           {
            "colorbar": {
             "outlinewidth": 0,
             "ticks": ""
            },
            "colorscale": [
             [
              0,
              "#0d0887"
             ],
             [
              0.1111111111111111,
              "#46039f"
             ],
             [
              0.2222222222222222,
              "#7201a8"
             ],
             [
              0.3333333333333333,
              "#9c179e"
             ],
             [
              0.4444444444444444,
              "#bd3786"
             ],
             [
              0.5555555555555556,
              "#d8576b"
             ],
             [
              0.6666666666666666,
              "#ed7953"
             ],
             [
              0.7777777777777778,
              "#fb9f3a"
             ],
             [
              0.8888888888888888,
              "#fdca26"
             ],
             [
              1,
              "#f0f921"
             ]
            ],
            "type": "histogram2dcontour"
           }
          ],
          "mesh3d": [
           {
            "colorbar": {
             "outlinewidth": 0,
             "ticks": ""
            },
            "type": "mesh3d"
           }
          ],
          "parcoords": [
           {
            "line": {
             "colorbar": {
              "outlinewidth": 0,
              "ticks": ""
             }
            },
            "type": "parcoords"
           }
          ],
          "pie": [
           {
            "automargin": true,
            "type": "pie"
           }
          ],
          "scatter": [
           {
            "marker": {
             "colorbar": {
              "outlinewidth": 0,
              "ticks": ""
             }
            },
            "type": "scatter"
           }
          ],
          "scatter3d": [
           {
            "line": {
             "colorbar": {
              "outlinewidth": 0,
              "ticks": ""
             }
            },
            "marker": {
             "colorbar": {
              "outlinewidth": 0,
              "ticks": ""
             }
            },
            "type": "scatter3d"
           }
          ],
          "scattercarpet": [
           {
            "marker": {
             "colorbar": {
              "outlinewidth": 0,
              "ticks": ""
             }
            },
            "type": "scattercarpet"
           }
          ],
          "scattergeo": [
           {
            "marker": {
             "colorbar": {
              "outlinewidth": 0,
              "ticks": ""
             }
            },
            "type": "scattergeo"
           }
          ],
          "scattergl": [
           {
            "marker": {
             "colorbar": {
              "outlinewidth": 0,
              "ticks": ""
             }
            },
            "type": "scattergl"
           }
          ],
          "scattermapbox": [
           {
            "marker": {
             "colorbar": {
              "outlinewidth": 0,
              "ticks": ""
             }
            },
            "type": "scattermapbox"
           }
          ],
          "scatterpolar": [
           {
            "marker": {
             "colorbar": {
              "outlinewidth": 0,
              "ticks": ""
             }
            },
            "type": "scatterpolar"
           }
          ],
          "scatterpolargl": [
           {
            "marker": {
             "colorbar": {
              "outlinewidth": 0,
              "ticks": ""
             }
            },
            "type": "scatterpolargl"
           }
          ],
          "scatterternary": [
           {
            "marker": {
             "colorbar": {
              "outlinewidth": 0,
              "ticks": ""
             }
            },
            "type": "scatterternary"
           }
          ],
          "surface": [
           {
            "colorbar": {
             "outlinewidth": 0,
             "ticks": ""
            },
            "colorscale": [
             [
              0,
              "#0d0887"
             ],
             [
              0.1111111111111111,
              "#46039f"
             ],
             [
              0.2222222222222222,
              "#7201a8"
             ],
             [
              0.3333333333333333,
              "#9c179e"
             ],
             [
              0.4444444444444444,
              "#bd3786"
             ],
             [
              0.5555555555555556,
              "#d8576b"
             ],
             [
              0.6666666666666666,
              "#ed7953"
             ],
             [
              0.7777777777777778,
              "#fb9f3a"
             ],
             [
              0.8888888888888888,
              "#fdca26"
             ],
             [
              1,
              "#f0f921"
             ]
            ],
            "type": "surface"
           }
          ],
          "table": [
           {
            "cells": {
             "fill": {
              "color": "#EBF0F8"
             },
             "line": {
              "color": "white"
             }
            },
            "header": {
             "fill": {
              "color": "#C8D4E3"
             },
             "line": {
              "color": "white"
             }
            },
            "type": "table"
           }
          ]
         },
         "layout": {
          "annotationdefaults": {
           "arrowcolor": "#2a3f5f",
           "arrowhead": 0,
           "arrowwidth": 1
          },
          "autotypenumbers": "strict",
          "coloraxis": {
           "colorbar": {
            "outlinewidth": 0,
            "ticks": ""
           }
          },
          "colorscale": {
           "diverging": [
            [
             0,
             "#8e0152"
            ],
            [
             0.1,
             "#c51b7d"
            ],
            [
             0.2,
             "#de77ae"
            ],
            [
             0.3,
             "#f1b6da"
            ],
            [
             0.4,
             "#fde0ef"
            ],
            [
             0.5,
             "#f7f7f7"
            ],
            [
             0.6,
             "#e6f5d0"
            ],
            [
             0.7,
             "#b8e186"
            ],
            [
             0.8,
             "#7fbc41"
            ],
            [
             0.9,
             "#4d9221"
            ],
            [
             1,
             "#276419"
            ]
           ],
           "sequential": [
            [
             0,
             "#0d0887"
            ],
            [
             0.1111111111111111,
             "#46039f"
            ],
            [
             0.2222222222222222,
             "#7201a8"
            ],
            [
             0.3333333333333333,
             "#9c179e"
            ],
            [
             0.4444444444444444,
             "#bd3786"
            ],
            [
             0.5555555555555556,
             "#d8576b"
            ],
            [
             0.6666666666666666,
             "#ed7953"
            ],
            [
             0.7777777777777778,
             "#fb9f3a"
            ],
            [
             0.8888888888888888,
             "#fdca26"
            ],
            [
             1,
             "#f0f921"
            ]
           ],
           "sequentialminus": [
            [
             0,
             "#0d0887"
            ],
            [
             0.1111111111111111,
             "#46039f"
            ],
            [
             0.2222222222222222,
             "#7201a8"
            ],
            [
             0.3333333333333333,
             "#9c179e"
            ],
            [
             0.4444444444444444,
             "#bd3786"
            ],
            [
             0.5555555555555556,
             "#d8576b"
            ],
            [
             0.6666666666666666,
             "#ed7953"
            ],
            [
             0.7777777777777778,
             "#fb9f3a"
            ],
            [
             0.8888888888888888,
             "#fdca26"
            ],
            [
             1,
             "#f0f921"
            ]
           ]
          },
          "colorway": [
           "#636efa",
           "#EF553B",
           "#00cc96",
           "#ab63fa",
           "#FFA15A",
           "#19d3f3",
           "#FF6692",
           "#B6E880",
           "#FF97FF",
           "#FECB52"
          ],
          "font": {
           "color": "#2a3f5f"
          },
          "geo": {
           "bgcolor": "white",
           "lakecolor": "white",
           "landcolor": "#E5ECF6",
           "showlakes": true,
           "showland": true,
           "subunitcolor": "white"
          },
          "hoverlabel": {
           "align": "left"
          },
          "hovermode": "closest",
          "mapbox": {
           "style": "light"
          },
          "paper_bgcolor": "white",
          "plot_bgcolor": "#E5ECF6",
          "polar": {
           "angularaxis": {
            "gridcolor": "white",
            "linecolor": "white",
            "ticks": ""
           },
           "bgcolor": "#E5ECF6",
           "radialaxis": {
            "gridcolor": "white",
            "linecolor": "white",
            "ticks": ""
           }
          },
          "scene": {
           "xaxis": {
            "backgroundcolor": "#E5ECF6",
            "gridcolor": "white",
            "gridwidth": 2,
            "linecolor": "white",
            "showbackground": true,
            "ticks": "",
            "zerolinecolor": "white"
           },
           "yaxis": {
            "backgroundcolor": "#E5ECF6",
            "gridcolor": "white",
            "gridwidth": 2,
            "linecolor": "white",
            "showbackground": true,
            "ticks": "",
            "zerolinecolor": "white"
           },
           "zaxis": {
            "backgroundcolor": "#E5ECF6",
            "gridcolor": "white",
            "gridwidth": 2,
            "linecolor": "white",
            "showbackground": true,
            "ticks": "",
            "zerolinecolor": "white"
           }
          },
          "shapedefaults": {
           "line": {
            "color": "#2a3f5f"
           }
          },
          "ternary": {
           "aaxis": {
            "gridcolor": "white",
            "linecolor": "white",
            "ticks": ""
           },
           "baxis": {
            "gridcolor": "white",
            "linecolor": "white",
            "ticks": ""
           },
           "bgcolor": "#E5ECF6",
           "caxis": {
            "gridcolor": "white",
            "linecolor": "white",
            "ticks": ""
           }
          },
          "title": {
           "x": 0.05
          },
          "xaxis": {
           "automargin": true,
           "gridcolor": "white",
           "linecolor": "white",
           "ticks": "",
           "title": {
            "standoff": 15
           },
           "zerolinecolor": "white",
           "zerolinewidth": 2
          },
          "yaxis": {
           "automargin": true,
           "gridcolor": "white",
           "linecolor": "white",
           "ticks": "",
           "title": {
            "standoff": 15
           },
           "zerolinecolor": "white",
           "zerolinewidth": 2
          }
         }
        },
        "title": {
         "text": "Análisis de ingredientes objetivos FooDB: TSNE con filtro M."
        },
        "xaxis": {
         "anchor": "y",
         "domain": [
          0,
          1
         ],
         "title": {
          "text": "x1"
         }
        },
        "yaxis": {
         "anchor": "x",
         "domain": [
          0,
          1
         ],
         "title": {
          "text": "x2"
         }
        }
       }
      },
      "text/html": [
       "<div>                            <div id=\"b3667e2a-3d4b-4a48-984d-5dec1c45776c\" class=\"plotly-graph-div\" style=\"height:525px; width:100%;\"></div>            <script type=\"text/javascript\">                require([\"plotly\"], function(Plotly) {                    window.PLOTLYENV=window.PLOTLYENV || {};                                    if (document.getElementById(\"b3667e2a-3d4b-4a48-984d-5dec1c45776c\")) {                    Plotly.newPlot(                        \"b3667e2a-3d4b-4a48-984d-5dec1c45776c\",                        [{\"customdata\":[[\"date, dried\",0],[\"nuts, ginkgo nuts, dried\",0],[\"fig, dried\",0],[\"carob flour\",0],[\"nuts, pine nuts, pinyon, dried\",0],[\"longans, dried\",0],[\"prune, dried plum\",0],[\"nuts, coconut meat, dried (desiccated), toasted\",0],[\"nuts, acorn flour, full fat\",0],[\"nuts, coconut meat, dried (desiccated), creamed\",0],[\"nuts, chestnuts, european, dried, unpeeled\",0],[\"nuts, acorns, dried\",0],[\"nuts, chestnuts, japanese, dried\",0],[\"peach, dried\",0],[\"nuts, beechnuts, dried\",0],[\"apple, dried\",0],[\"persimmons, japanese, dried\",0],[\"nuts, chestnuts, chinese, dried\",0],[\"nuts, chestnuts, european, dried, peeled\",0],[\"apricot, dried\",0],[\"litchis, dried\",0],[\"wocas, dried seeds, oregon, yellow pond lily, nuphar lutea (or) - cy0617b\",0],[\"jujube, dried\",0],[\"fungi, cloud ears, dried\",0],[\"pepeao, dried\",0],[\"fruit, mixed, (prune and apricot and pear), dried\",0],[\"currants, zante, dried\",0]],\"hovertemplate\":\"cluster=%{customdata[1]}<br>x1=%{x}<br>x2=%{y}<br>label=%{customdata[0]}<extra></extra>\",\"legendgroup\":\"0\",\"marker\":{\"color\":\"#636efa\",\"opacity\":0.5,\"size\":15,\"symbol\":\"circle\"},\"mode\":\"markers+text\",\"name\":\"0\",\"orientation\":\"v\",\"showlegend\":true,\"text\":[\"date, dried\",\"nuts, ginkgo nuts, dried\",\"fig, dried\",\"carob flour\",\"nuts, pine nuts, pinyon, dried\",\"longans, dried\",\"prune, dried plum\",\"nuts, coconut meat, dried (desiccated), toasted\",\"nuts, acorn flour, full fat\",\"nuts, coconut meat, dried (desiccated), creamed\",\"nuts, chestnuts, european, dried, unpeeled\",\"nuts, acorns, dried\",\"nuts, chestnuts, japanese, dried\",\"peach, dried\",\"nuts, beechnuts, dried\",\"apple, dried\",\"persimmons, japanese, dried\",\"nuts, chestnuts, chinese, dried\",\"nuts, chestnuts, european, dried, peeled\",\"apricot, dried\",\"litchis, dried\",\"wocas, dried seeds, oregon, yellow pond lily, nuphar lutea (or) - cy0617b\",\"jujube, dried\",\"fungi, cloud ears, dried\",\"pepeao, dried\",\"fruit, mixed, (prune and apricot and pear), dried\",\"currants, zante, dried\"],\"textfont\":{\"size\":7},\"textposition\":\"top center\",\"type\":\"scatter\",\"x\":[-4.350619792938232,-37.9665412902832,-29.33293914794922,-17.68239402770996,-10.121298789978027,18.305389404296875,2.732942819595337,19.840517044067383,-8.24056339263916,19.529565811157227,-35.277099609375,-6.908014297485352,-12.451122283935547,-34.6915168762207,-30.830276489257812,4.1739397048950195,-11.066009521484375,-10.49355411529541,-33.662479400634766,-31.459575653076172,-36.40603256225586,21.23961639404297,0.678856611251831,-15.057724952697754,-11.919609069824219,-10.149649620056152,-32.26881408691406],\"xaxis\":\"x\",\"y\":[77.58000946044922,65.04460906982422,65.6733169555664,77.05035400390625,82.75933074951172,79.11054992675781,77.77484893798828,77.4015121459961,77.97590637207031,75.73384857177734,65.10411834716797,77.44055938720703,78.107666015625,67.5300521850586,61.5930061340332,77.8987045288086,67.83784484863281,77.41995239257812,65.59266662597656,63.40391159057617,62.4603157043457,76.2308578491211,77.69672393798828,77.80502319335938,80.7371826171875,68.7165756225586,68.7425537109375],\"yaxis\":\"y\"},{\"customdata\":[[\"cereals, farina, unenriched, dry\",1],[\"spices, mustard seed, ground\",1],[\"seeds, safflower seed kernels, dried\",1],[\"cornmeal, yellow (navajo)\",1],[\"seeds, flaxseed\",1],[\"cereals, corn grits, white, regular and quick, unenriched, dry\",1],[\"nuts, brazilnuts, dried, unblanched\",1],[\"seeds, sunflower seed kernels, dried\",1],[\"seeds, pumpkin and squash seed kernels, dried\",1],[\"seeds, pumpkin and squash seed kernels, dried\",1],[\"rye flour, dark, whole meal\",1],[\"nuts, pilinuts, dried\",1],[\"seeds, watermelon seed kernels, dried\",1],[\"buckwheat flour\",1],[\"cornmeal, degermed, unenriched, white\",1],[\"millet flour\",1],[\"buckwheat flour, whole-groat\",1],[\"wheat flour\",1],[\"nuts, pine nuts, dried\",1],[\"cornmeal, whole-grain, yellow\",1],[\"pine nuts, pignolias, dried\",1],[\"rye flour, medium\",1],[\"cereals, corn grits, white, regular and quick, unenriched, dry\",1],[\"cornmeal, whole-grain, white\",1],[\"cornmeal, degermed, unenriched, yellow\",1],[\"nuts, butternuts, dried\",1],[\"pecans, dried\",1],[\"wheat flour, whole-grain\",1],[\"wheat flour\",1],[\"cereals, corn grits, yellow, regular and quick, unenriched, dry\",1],[\"walnuts\",1],[\"cereals, corn grits, yellow, regular and quick, unenriched, dry\",1],[\"bulgur, dry\",1],[\"rice flour\",1],[\"barley flour or meal\",1],[\"barley malt flour\",1],[\"nuts, walnuts, black, dried\",1],[\"rice flour, brown\",1],[\"corn flour\",1],[\"corn flour, masa, unenriched, white\",1],[\"cornmeal, white (navajo)\",1],[\"rye flour, light\",1],[\"cereals, oats, regular and quick, not fortified, dry\",1],[\"nuts, hickorynuts, dried\",1],[\"rice flour, white\",1],[\"corn flour, whole-grain, white\",1],[\"corn flour, whole-grain, yellow\",1],[\"rice, white, long-grain, parboiled, unenriched, dry\",1],[\"wheat flour, white, all-purpose, unenriched\",1],[\"seeds, pumpkin and squash seed kernels, dried\",1],[\"wheat, flour, wholemeal\",1],[\"triticale flour, whole-grain\",1],[\"tofu, dried-frozen (koyadofu)\",1],[\"sorghum flour\",1],[\"corn starch\",1],[\"oat flour, partially debranned\",1],[\"cornmeal, blue (navajo)\",1],[\"spices, nutmeg, ground\",1],[\"spices, mace, ground\",1],[\"wheat flour, whole-grain, soft wheat\",1],[\"spices, pepper, white\",1],[\"sunflower seeds, decorticated, dried\",1],[\"corn flour, degermed, unenriched, yellow\",1],[\"cereals, whole wheat hot natural cereal, dry\",1],[\"corn flour, whole-grain, blue (harina de maiz morado)\",1],[\"corn, dried (navajo)\",1]],\"hovertemplate\":\"cluster=%{customdata[1]}<br>x1=%{x}<br>x2=%{y}<br>label=%{customdata[0]}<extra></extra>\",\"legendgroup\":\"1\",\"marker\":{\"color\":\"#EF553B\",\"opacity\":0.5,\"size\":15,\"symbol\":\"circle\"},\"mode\":\"markers+text\",\"name\":\"1\",\"orientation\":\"v\",\"showlegend\":true,\"text\":[\"cereals, farina, unenriched, dry\",\"spices, mustard seed, ground\",\"seeds, safflower seed kernels, dried\",\"cornmeal, yellow (navajo)\",\"seeds, flaxseed\",\"cereals, corn grits, white, regular and quick, unenriched, dry\",\"nuts, brazilnuts, dried, unblanched\",\"seeds, sunflower seed kernels, dried\",\"seeds, pumpkin and squash seed kernels, dried\",\"seeds, pumpkin and squash seed kernels, dried\",\"rye flour, dark, whole meal\",\"nuts, pilinuts, dried\",\"seeds, watermelon seed kernels, dried\",\"buckwheat flour\",\"cornmeal, degermed, unenriched, white\",\"millet flour\",\"buckwheat flour, whole-groat\",\"wheat flour\",\"nuts, pine nuts, dried\",\"cornmeal, whole-grain, yellow\",\"pine nuts, pignolias, dried\",\"rye flour, medium\",\"cereals, corn grits, white, regular and quick, unenriched, dry\",\"cornmeal, whole-grain, white\",\"cornmeal, degermed, unenriched, yellow\",\"nuts, butternuts, dried\",\"pecans, dried\",\"wheat flour, whole-grain\",\"wheat flour\",\"cereals, corn grits, yellow, regular and quick, unenriched, dry\",\"walnuts\",\"cereals, corn grits, yellow, regular and quick, unenriched, dry\",\"bulgur, dry\",\"rice flour\",\"barley flour or meal\",\"barley malt flour\",\"nuts, walnuts, black, dried\",\"rice flour, brown\",\"corn flour\",\"corn flour, masa, unenriched, white\",\"cornmeal, white (navajo)\",\"rye flour, light\",\"cereals, oats, regular and quick, not fortified, dry\",\"nuts, hickorynuts, dried\",\"rice flour, white\",\"corn flour, whole-grain, white\",\"corn flour, whole-grain, yellow\",\"rice, white, long-grain, parboiled, unenriched, dry\",\"wheat flour, white, all-purpose, unenriched\",\"seeds, pumpkin and squash seed kernels, dried\",\"wheat, flour, wholemeal\",\"triticale flour, whole-grain\",\"tofu, dried-frozen (koyadofu)\",\"sorghum flour\",\"corn starch\",\"oat flour, partially debranned\",\"cornmeal, blue (navajo)\",\"spices, nutmeg, ground\",\"spices, mace, ground\",\"wheat flour, whole-grain, soft wheat\",\"spices, pepper, white\",\"sunflower seeds, decorticated, dried\",\"corn flour, degermed, unenriched, yellow\",\"cereals, whole wheat hot natural cereal, dry\",\"corn flour, whole-grain, blue (harina de maiz morado)\",\"corn, dried (navajo)\"],\"textfont\":{\"size\":7},\"textposition\":\"top center\",\"type\":\"scatter\",\"x\":[72.95306396484375,92.2231674194336,88.49987030029297,68.58544921875,92.92235565185547,94.07313537597656,89.7194595336914,87.26881408691406,106.61183166503906,105.94144439697266,54.086700439453125,80.08513641357422,88.01592254638672,87.35729217529297,80.78246307373047,74.44020080566406,42.826324462890625,86.05609893798828,79.82292938232422,64.91765594482422,80.98795318603516,63.37865447998047,92.17072296142578,65.4920654296875,79.58293151855469,70.0890121459961,55.69337463378906,65.8207015991211,80.58958435058594,92.07501220703125,77.53067016601562,93.9776382446289,49.38713836669922,76.21476745605469,73.63641357421875,75.68110656738281,77.70361328125,76.2567138671875,76.94507598876953,73.27240753173828,52.78278732299805,86.74594116210938,67.95806884765625,47.53386688232422,73.7132339477539,71.5913314819336,71.15019989013672,80.42498016357422,74.55813598632812,104.8860855102539,61.13325881958008,46.42181396484375,76.4457015991211,73.89532470703125,73.79956817626953,68.86839294433594,64.37650299072266,72.2955322265625,70.66219329833984,60.45664978027344,77.68165588378906,74.73640441894531,70.8305435180664,66.36717987060547,62.30286407470703,45.228965759277344],\"xaxis\":\"x\",\"y\":[-53.92888641357422,62.961063385009766,60.13134765625,5.226105213165283,61.032066345214844,-54.19572067260742,62.13627624511719,60.604957580566406,75.03934478759766,73.43323516845703,25.521068572998047,47.49850845336914,64.27392578125,-33.40263748168945,-41.57518005371094,-6.312214374542236,25.516571044921875,-33.41569900512695,53.37540054321289,1.8708934783935547,52.841880798339844,17.51763153076172,-54.29540252685547,0.729871392250061,-41.406044006347656,37.3253059387207,23.683473587036133,30.113994598388672,-38.43820571899414,-52.39227294921875,47.96113967895508,-52.29173278808594,22.031021118164062,-49.9519157409668,1.9548214673995972,-6.303236484527588,49.20270919799805,1.4733012914657593,-48.824832916259766,-23.84792137145996,26.131925582885742,-35.65389633178711,33.934715270996094,23.00018310546875,-56.16274642944336,4.87216329574585,3.591498374938965,-35.46784210205078,-52.42021179199219,74.81766510009766,22.346065521240234,24.232816696166992,-30.16339111328125,3.7904481887817383,-58.63427734375,35.3929557800293,28.817214965820312,-22.80419921875,-21.216873168945312,23.584646224975586,-31.826068878173828,48.073673248291016,-53.824554443359375,31.541244506835938,19.78175163269043,26.064876556396484],\"yaxis\":\"y\"},{\"customdata\":[[\"corn, dried, yellow (northern plains indians)\",2],[\"spices, fenugreek seed\",2],[\"lentils, dried\",2],[\"nut, hazel (uk), filbert (usa), dried\",2],[\"nut, pea, dried\",2],[\"rye flour, dark\",2],[\"chickpea flour (besan)\",2]],\"hovertemplate\":\"cluster=%{customdata[1]}<br>x1=%{x}<br>x2=%{y}<br>label=%{customdata[0]}<extra></extra>\",\"legendgroup\":\"2\",\"marker\":{\"color\":\"#00cc96\",\"opacity\":0.5,\"size\":15,\"symbol\":\"circle\"},\"mode\":\"markers+text\",\"name\":\"2\",\"orientation\":\"v\",\"showlegend\":true,\"text\":[\"corn, dried, yellow (northern plains indians)\",\"spices, fenugreek seed\",\"lentils, dried\",\"nut, hazel (uk), filbert (usa), dried\",\"nut, pea, dried\",\"rye flour, dark\",\"chickpea flour (besan)\"],\"textfont\":{\"size\":7},\"textposition\":\"top center\",\"type\":\"scatter\",\"x\":[3.5230021476745605,-1.1413222551345825,5.691657066345215,0.2887174189090729,3.2895452976226807,2.9342269897460938,3.309929847717285],\"xaxis\":\"x\",\"y\":[36.45452117919922,35.741127014160156,33.128047943115234,34.85282897949219,32.84698486328125,31.356042861938477,38.012054443359375],\"yaxis\":\"y\"},{\"customdata\":[[\"seeds, sunflower seed flour, partially defatted\",3],[\"seeds, sesame flour, partially defatted\",3],[\"seeds, sesame seed kernels, dried (decorticated)\",3],[\"seeds, sunflower seed kernels, toasted, without salt\",3],[\"seeds, sesame flour, low-fat\",3],[\"seeds, sesame flour, high-fat\",3],[\"seeds, sesame meal, partially defatted\",3],[\"seeds, safflower seed meal, partially defatted\",3],[\"sesame seed, decorticated\",3]],\"hovertemplate\":\"cluster=%{customdata[1]}<br>x1=%{x}<br>x2=%{y}<br>label=%{customdata[0]}<extra></extra>\",\"legendgroup\":\"3\",\"marker\":{\"color\":\"#ab63fa\",\"opacity\":0.5,\"size\":15,\"symbol\":\"circle\"},\"mode\":\"markers+text\",\"name\":\"3\",\"orientation\":\"v\",\"showlegend\":true,\"text\":[\"seeds, sunflower seed flour, partially defatted\",\"seeds, sesame flour, partially defatted\",\"seeds, sesame seed kernels, dried (decorticated)\",\"seeds, sunflower seed kernels, toasted, without salt\",\"seeds, sesame flour, low-fat\",\"seeds, sesame flour, high-fat\",\"seeds, sesame meal, partially defatted\",\"seeds, safflower seed meal, partially defatted\",\"sesame seed, decorticated\"],\"textfont\":{\"size\":7},\"textposition\":\"top center\",\"type\":\"scatter\",\"x\":[110.51858520507812,122.59574127197266,117.33551788330078,123.61061096191406,119.6236343383789,121.012451171875,121.20178985595703,110.54730987548828,119.92239379882812],\"xaxis\":\"x\",\"y\":[104.53653717041016,109.50395202636719,104.7815170288086,111.99057006835938,107.29500579833984,110.01207733154297,107.66014862060547,103.3031997680664,104.74595642089844],\"yaxis\":\"y\"},{\"customdata\":[[\"carrot, dehydrated\",4],[\"soy flour, defatted\",4],[\"bananas, dehydrated, or banana powder\",4],[\"beans, white, dried\",4],[\"beans, brown, dried\",4],[\"seeds, cottonseed flour, low fat (glandless)\",4],[\"spices, paprika\",4],[\"yeast, dried\",4],[\"beans, soy, dried\",4],[\"peppers, hot chile, sun-dried\",4],[\"spices, garlic powder\",4],[\"pistachio nuts, dried\",4],[\"peppers, ancho, dried\",4],[\"onions, dehydrated flakes\",4],[\"cocoa, dry powder, unsweetened, processed with alkali\",4],[\"tomato powder\",4],[\"cocoa, dry powder, unsweetened\",4],[\"peanut flour, low fat\",4],[\"seeds, lotus seeds, dried\",4],[\"soya flour, full fat\",4],[\"seeds, cottonseed flour, partially defatted (glandless)\",4],[\"peanut flour, defatted\",4],[\"soy flour, low-fat, crude protein basis (n x 6.25)\",4],[\"spices, ginger, ground\",4],[\"garlic, dried, powder\",4],[\"leavening agents, yeast, bakers, active dry\",4],[\"soy flour, defatted, crude protein basis (n x 6.25)\",4],[\"mushrooms, shiitake, dried\",4],[\"spices, saffron\",4],[\"coffee and cocoa (mocha) powder, with whitener and low calorie sweetener\",4],[\"coffee and cocoa (mocha) powder, with whitener and low calorie sweetener, decaffeinated\",4],[\"spices, turmeric, ground\",4],[\"spices, pepper, red or cayenne\",4],[\"cocoa, dry powder, hi-fat or breakfast, plain\",4],[\"cocoa, dry powder, hi-fat or breakfast, processed with alkali\",4],[\"soy flour, low-fat\",4],[\"peppers, pasilla, dried\",4]],\"hovertemplate\":\"cluster=%{customdata[1]}<br>x1=%{x}<br>x2=%{y}<br>label=%{customdata[0]}<extra></extra>\",\"legendgroup\":\"4\",\"marker\":{\"color\":\"#FFA15A\",\"opacity\":0.5,\"size\":15,\"symbol\":\"circle\"},\"mode\":\"markers+text\",\"name\":\"4\",\"orientation\":\"v\",\"showlegend\":true,\"text\":[\"carrot, dehydrated\",\"soy flour, defatted\",\"bananas, dehydrated, or banana powder\",\"beans, white, dried\",\"beans, brown, dried\",\"seeds, cottonseed flour, low fat (glandless)\",\"spices, paprika\",\"yeast, dried\",\"beans, soy, dried\",\"peppers, hot chile, sun-dried\",\"spices, garlic powder\",\"pistachio nuts, dried\",\"peppers, ancho, dried\",\"onions, dehydrated flakes\",\"cocoa, dry powder, unsweetened, processed with alkali\",\"tomato powder\",\"cocoa, dry powder, unsweetened\",\"peanut flour, low fat\",\"seeds, lotus seeds, dried\",\"soya flour, full fat\",\"seeds, cottonseed flour, partially defatted (glandless)\",\"peanut flour, defatted\",\"soy flour, low-fat, crude protein basis (n x 6.25)\",\"spices, ginger, ground\",\"garlic, dried, powder\",\"leavening agents, yeast, bakers, active dry\",\"soy flour, defatted, crude protein basis (n x 6.25)\",\"mushrooms, shiitake, dried\",\"spices, saffron\",\"coffee and cocoa (mocha) powder, with whitener and low calorie sweetener\",\"coffee and cocoa (mocha) powder, with whitener and low calorie sweetener, decaffeinated\",\"spices, turmeric, ground\",\"spices, pepper, red or cayenne\",\"cocoa, dry powder, hi-fat or breakfast, plain\",\"cocoa, dry powder, hi-fat or breakfast, processed with alkali\",\"soy flour, low-fat\",\"peppers, pasilla, dried\"],\"textfont\":{\"size\":7},\"textposition\":\"top center\",\"type\":\"scatter\",\"x\":[-85.90129089355469,-79.73316955566406,-38.591773986816406,-43.78310775756836,-32.09708023071289,-57.30088424682617,-80.69239044189453,-64.78998565673828,-44.43128967285156,-72.67315673828125,-27.808639526367188,-24.82048225402832,-83.54532623291016,-45.188743591308594,-81.35992431640625,-72.41480255126953,-39.96133804321289,-32.963558197021484,-34.68275833129883,-68.00526428222656,-57.91352844238281,-37.281166076660156,-80.69237518310547,-37.020626068115234,-26.433658599853516,-23.080921173095703,-67.43995666503906,-40.895416259765625,-70.14862060546875,-63.41173553466797,-63.361778259277344,-84.59861755371094,-73.88529968261719,-41.15623092651367,-82.60221862792969,-66.34720611572266,-80.88973999023438],\"xaxis\":\"x\",\"y\":[-14.31797981262207,3.049938917160034,-19.336761474609375,-17.184917449951172,8.368732452392578,6.796667098999023,-16.79259490966797,4.374016761779785,-16.427640914916992,-23.79331398010254,11.266934394836426,13.091094970703125,-17.232431411743164,-19.394805908203125,5.611616611480713,-21.686878204345703,4.553424835205078,9.399690628051758,7.327401161193848,0.5724369287490845,7.873501777648926,5.887744426727295,2.076960802078247,-19.82632827758789,12.122349739074707,14.125338554382324,2.8231678009033203,-18.499109268188477,-21.975994110107422,-21.10639190673828,-22.332265853881836,-15.876699447631836,-21.254133224487305,4.053831100463867,4.938918113708496,2.0398900508880615,-18.213199615478516],\"yaxis\":\"y\"},{\"customdata\":[[\"tapioca, pearl, dry\",5],[\"cornstarch\",5],[\"potato flour\",5],[\"arrowroot flour\",5],[\"cocoa, dry powder, unsweetened, hersheys european style cocoa\",5]],\"hovertemplate\":\"cluster=%{customdata[1]}<br>x1=%{x}<br>x2=%{y}<br>label=%{customdata[0]}<extra></extra>\",\"legendgroup\":\"5\",\"marker\":{\"color\":\"#19d3f3\",\"opacity\":0.5,\"size\":15,\"symbol\":\"circle\"},\"mode\":\"markers+text\",\"name\":\"5\",\"orientation\":\"v\",\"showlegend\":true,\"text\":[\"tapioca, pearl, dry\",\"cornstarch\",\"potato flour\",\"arrowroot flour\",\"cocoa, dry powder, unsweetened, hersheys european style cocoa\"],\"textfont\":{\"size\":7},\"textposition\":\"top center\",\"type\":\"scatter\",\"x\":[66.9767837524414,68.18457794189453,66.1358642578125,65.1888656616211,70.26830291748047],\"xaxis\":\"x\",\"y\":[-82.46992492675781,-81.23889923095703,-84.38493347167969,-82.60584259033203,-81.89112091064453],\"yaxis\":\"y\"},{\"customdata\":[[\"spices, pepper, black\",6],[\"spices, onion powder\",6],[\"spices, caraway seed\",6],[\"spices, oregano, dried\",6],[\"seeds, sesame seeds, whole, dried\",6],[\"spices, dill seed\",6],[\"spices, cloves, ground\",6],[\"sesame seeds, whole, dried\",6],[\"spearmint, dried\",6],[\"spices, cinnamon, ground\",6],[\"seeds, chia seeds, dried\",6],[\"spices, poppy seed\",6],[\"spices, fennel seed\",6],[\"seeds, sisymbrium sp. seeds, whole, dried\",6],[\"spices, thyme, dried\",6],[\"spices, allspice, ground\",6],[\"spices, sage, ground\",6],[\"spices, anise seed\",6],[\"spices, coriander seed\",6],[\"spices, celery seed\",6],[\"spices, marjoram, dried\",6],[\"spices, bay leaf\",6],[\"spices, cumin seed\",6],[\"curry powder\",6],[\"spices, curry powder\",6],[\"spices, rosemary, dried\",6],[\"rose hip, dried, powder\",6],[\"spices, savory, ground\",6],[\"spices, cardamom\",6],[\"seaweed, agar, dried\",6],[\"agave, dried (southwest)\",6]],\"hovertemplate\":\"cluster=%{customdata[1]}<br>x1=%{x}<br>x2=%{y}<br>label=%{customdata[0]}<extra></extra>\",\"legendgroup\":\"6\",\"marker\":{\"color\":\"#FF6692\",\"opacity\":0.5,\"size\":15,\"symbol\":\"circle\"},\"mode\":\"markers+text\",\"name\":\"6\",\"orientation\":\"v\",\"showlegend\":true,\"text\":[\"spices, pepper, black\",\"spices, onion powder\",\"spices, caraway seed\",\"spices, oregano, dried\",\"seeds, sesame seeds, whole, dried\",\"spices, dill seed\",\"spices, cloves, ground\",\"sesame seeds, whole, dried\",\"spearmint, dried\",\"spices, cinnamon, ground\",\"seeds, chia seeds, dried\",\"spices, poppy seed\",\"spices, fennel seed\",\"seeds, sisymbrium sp. seeds, whole, dried\",\"spices, thyme, dried\",\"spices, allspice, ground\",\"spices, sage, ground\",\"spices, anise seed\",\"spices, coriander seed\",\"spices, celery seed\",\"spices, marjoram, dried\",\"spices, bay leaf\",\"spices, cumin seed\",\"curry powder\",\"spices, curry powder\",\"spices, rosemary, dried\",\"rose hip, dried, powder\",\"spices, savory, ground\",\"spices, cardamom\",\"seaweed, agar, dried\",\"agave, dried (southwest)\"],\"textfont\":{\"size\":7},\"textposition\":\"top center\",\"type\":\"scatter\",\"x\":[-35.45022964477539,-32.509925842285156,-43.0327033996582,-62.67495346069336,-5.318976879119873,-64.0916748046875,-26.67511558532715,-6.596510410308838,-55.476139068603516,-17.382099151611328,-5.202507972717285,-4.675053596496582,-53.522621154785156,-56.311973571777344,-58.654239654541016,-25.325416564941406,-61.991424560546875,-43.50214767456055,-41.497589111328125,-60.270545959472656,-59.051849365234375,-18.854366302490234,-52.777626037597656,-43.32919692993164,-44.54295349121094,-65.97752380371094,-44.65488052368164,-57.54261016845703,-33.925594329833984,-29.149526596069336,-20.73986053466797],\"xaxis\":\"x\",\"y\":[-74.82363891601562,-73.09453582763672,-85.34986114501953,-115.88504028320312,-83.42446899414062,-116.28701782226562,-79.82699584960938,-83.1347427368164,-96.8914794921875,-80.81431579589844,-85.50902557373047,-80.96072387695312,-94.13650512695312,-98.1520004272461,-119.35734558105469,-79.48135375976562,-117.61524963378906,-83.79759979248047,-85.93864440917969,-111.0899429321289,-111.70481872558594,-80.54759216308594,-93.07149505615234,-79.298095703125,-79.62487030029297,-117.42823028564453,-76.9430160522461,-118.37683868408203,-74.12493896484375,-80.77191925048828,-80.2345962524414],\"yaxis\":\"y\"},{\"customdata\":[[\"spices, basil, dried\",7],[\"radishes, oriental, dried\",7],[\"spices, chili powder\",7],[\"cocoa, powder\",7],[\"tomatoes, sun-dried\",7],[\"seaweed, spirulina, dried\",7],[\"spices, parsley, dried\",7],[\"tomato, dried\",7],[\"rice, white, with pasta, dry\",7],[\"coffee, dry, powder, with whitener, reduced calorie\",7],[\"coffee, dry, powder, with whitener, reduced calorie\",7],[\"coriander, leaf, dried\",7],[\"spices, coriander leaf, dried\",7],[\"spices, chervil, dried\",7],[\"celery flakes, dried\",7],[\"coffee, dry, powder, with whitener, reduced calorie\",7],[\"leavening agents, baking powder, low-sodium\",7],[\"spices, tarragon, dried\",7],[\"seaweed, konbu, dried (kelp)\",7],[\"dill weed, dried\",7],[\"spices, dill weed, dried\",7]],\"hovertemplate\":\"cluster=%{customdata[1]}<br>x1=%{x}<br>x2=%{y}<br>label=%{customdata[0]}<extra></extra>\",\"legendgroup\":\"7\",\"marker\":{\"color\":\"#B6E880\",\"opacity\":0.5,\"size\":15,\"symbol\":\"circle\"},\"mode\":\"markers+text\",\"name\":\"7\",\"orientation\":\"v\",\"showlegend\":true,\"text\":[\"spices, basil, dried\",\"radishes, oriental, dried\",\"spices, chili powder\",\"cocoa, powder\",\"tomatoes, sun-dried\",\"seaweed, spirulina, dried\",\"spices, parsley, dried\",\"tomato, dried\",\"rice, white, with pasta, dry\",\"coffee, dry, powder, with whitener, reduced calorie\",\"coffee, dry, powder, with whitener, reduced calorie\",\"coriander, leaf, dried\",\"spices, coriander leaf, dried\",\"spices, chervil, dried\",\"celery flakes, dried\",\"coffee, dry, powder, with whitener, reduced calorie\",\"leavening agents, baking powder, low-sodium\",\"spices, tarragon, dried\",\"seaweed, konbu, dried (kelp)\",\"dill weed, dried\",\"spices, dill weed, dried\"],\"textfont\":{\"size\":7},\"textposition\":\"top center\",\"type\":\"scatter\",\"x\":[-120.83624267578125,-107.83529663085938,-97.16222381591797,-104.7760009765625,-106.21534729003906,-96.1328353881836,-113.19808197021484,-110.81076049804688,-94.68224334716797,-94.2288818359375,-95.54838562011719,-119.17390441894531,-120.58463287353516,-119.94847869873047,-112.20731353759766,-93.86054229736328,-117.23917388916016,-113.99820709228516,-114.84286499023438,-118.44752502441406,-118.66012573242188],\"xaxis\":\"x\",\"y\":[-1.6338694095611572,4.0351409912109375,35.59989547729492,4.9559502601623535,4.585960865020752,37.77411651611328,-1.7500710487365723,21.77414321899414,44.26366424560547,39.962921142578125,41.09357833862305,15.781644821166992,15.749553680419922,17.643888473510742,21.54666519165039,41.532840728759766,21.70098304748535,-0.726759135723114,21.578258514404297,-1.8379024267196655,-0.5571803450584412],\"yaxis\":\"y\"},{\"customdata\":[[\"baking powder\",-1],[\"leavening agents, baking powder, double-acting, straight phosphate\",-1],[\"leavening agents, baking powder, double-acting, sodium aluminum sulfate\",-1]],\"hovertemplate\":\"cluster=%{customdata[1]}<br>x1=%{x}<br>x2=%{y}<br>label=%{customdata[0]}<extra></extra>\",\"legendgroup\":\"-1\",\"marker\":{\"color\":\"#FF97FF\",\"opacity\":0.5,\"size\":15,\"symbol\":\"circle\"},\"mode\":\"markers+text\",\"name\":\"-1\",\"orientation\":\"v\",\"showlegend\":true,\"text\":[\"baking powder\",\"leavening agents, baking powder, double-acting, straight phosphate\",\"leavening agents, baking powder, double-acting, sodium aluminum sulfate\"],\"textfont\":{\"size\":7},\"textposition\":\"top center\",\"type\":\"scatter\",\"x\":[-6.019844055175781,-7.354306697845459,-5.916781425476074],\"xaxis\":\"x\",\"y\":[-42.06045913696289,-41.57175064086914,-40.13620376586914],\"yaxis\":\"y\"}],                        {\"legend\":{\"title\":{\"text\":\"cluster\"},\"tracegroupgap\":0},\"margin\":{\"t\":60},\"template\":{\"data\":{\"bar\":[{\"error_x\":{\"color\":\"#2a3f5f\"},\"error_y\":{\"color\":\"#2a3f5f\"},\"marker\":{\"line\":{\"color\":\"#E5ECF6\",\"width\":0.5},\"pattern\":{\"fillmode\":\"overlay\",\"size\":10,\"solidity\":0.2}},\"type\":\"bar\"}],\"barpolar\":[{\"marker\":{\"line\":{\"color\":\"#E5ECF6\",\"width\":0.5},\"pattern\":{\"fillmode\":\"overlay\",\"size\":10,\"solidity\":0.2}},\"type\":\"barpolar\"}],\"carpet\":[{\"aaxis\":{\"endlinecolor\":\"#2a3f5f\",\"gridcolor\":\"white\",\"linecolor\":\"white\",\"minorgridcolor\":\"white\",\"startlinecolor\":\"#2a3f5f\"},\"baxis\":{\"endlinecolor\":\"#2a3f5f\",\"gridcolor\":\"white\",\"linecolor\":\"white\",\"minorgridcolor\":\"white\",\"startlinecolor\":\"#2a3f5f\"},\"type\":\"carpet\"}],\"choropleth\":[{\"colorbar\":{\"outlinewidth\":0,\"ticks\":\"\"},\"type\":\"choropleth\"}],\"contour\":[{\"colorbar\":{\"outlinewidth\":0,\"ticks\":\"\"},\"colorscale\":[[0.0,\"#0d0887\"],[0.1111111111111111,\"#46039f\"],[0.2222222222222222,\"#7201a8\"],[0.3333333333333333,\"#9c179e\"],[0.4444444444444444,\"#bd3786\"],[0.5555555555555556,\"#d8576b\"],[0.6666666666666666,\"#ed7953\"],[0.7777777777777778,\"#fb9f3a\"],[0.8888888888888888,\"#fdca26\"],[1.0,\"#f0f921\"]],\"type\":\"contour\"}],\"contourcarpet\":[{\"colorbar\":{\"outlinewidth\":0,\"ticks\":\"\"},\"type\":\"contourcarpet\"}],\"heatmap\":[{\"colorbar\":{\"outlinewidth\":0,\"ticks\":\"\"},\"colorscale\":[[0.0,\"#0d0887\"],[0.1111111111111111,\"#46039f\"],[0.2222222222222222,\"#7201a8\"],[0.3333333333333333,\"#9c179e\"],[0.4444444444444444,\"#bd3786\"],[0.5555555555555556,\"#d8576b\"],[0.6666666666666666,\"#ed7953\"],[0.7777777777777778,\"#fb9f3a\"],[0.8888888888888888,\"#fdca26\"],[1.0,\"#f0f921\"]],\"type\":\"heatmap\"}],\"heatmapgl\":[{\"colorbar\":{\"outlinewidth\":0,\"ticks\":\"\"},\"colorscale\":[[0.0,\"#0d0887\"],[0.1111111111111111,\"#46039f\"],[0.2222222222222222,\"#7201a8\"],[0.3333333333333333,\"#9c179e\"],[0.4444444444444444,\"#bd3786\"],[0.5555555555555556,\"#d8576b\"],[0.6666666666666666,\"#ed7953\"],[0.7777777777777778,\"#fb9f3a\"],[0.8888888888888888,\"#fdca26\"],[1.0,\"#f0f921\"]],\"type\":\"heatmapgl\"}],\"histogram\":[{\"marker\":{\"pattern\":{\"fillmode\":\"overlay\",\"size\":10,\"solidity\":0.2}},\"type\":\"histogram\"}],\"histogram2d\":[{\"colorbar\":{\"outlinewidth\":0,\"ticks\":\"\"},\"colorscale\":[[0.0,\"#0d0887\"],[0.1111111111111111,\"#46039f\"],[0.2222222222222222,\"#7201a8\"],[0.3333333333333333,\"#9c179e\"],[0.4444444444444444,\"#bd3786\"],[0.5555555555555556,\"#d8576b\"],[0.6666666666666666,\"#ed7953\"],[0.7777777777777778,\"#fb9f3a\"],[0.8888888888888888,\"#fdca26\"],[1.0,\"#f0f921\"]],\"type\":\"histogram2d\"}],\"histogram2dcontour\":[{\"colorbar\":{\"outlinewidth\":0,\"ticks\":\"\"},\"colorscale\":[[0.0,\"#0d0887\"],[0.1111111111111111,\"#46039f\"],[0.2222222222222222,\"#7201a8\"],[0.3333333333333333,\"#9c179e\"],[0.4444444444444444,\"#bd3786\"],[0.5555555555555556,\"#d8576b\"],[0.6666666666666666,\"#ed7953\"],[0.7777777777777778,\"#fb9f3a\"],[0.8888888888888888,\"#fdca26\"],[1.0,\"#f0f921\"]],\"type\":\"histogram2dcontour\"}],\"mesh3d\":[{\"colorbar\":{\"outlinewidth\":0,\"ticks\":\"\"},\"type\":\"mesh3d\"}],\"parcoords\":[{\"line\":{\"colorbar\":{\"outlinewidth\":0,\"ticks\":\"\"}},\"type\":\"parcoords\"}],\"pie\":[{\"automargin\":true,\"type\":\"pie\"}],\"scatter\":[{\"marker\":{\"colorbar\":{\"outlinewidth\":0,\"ticks\":\"\"}},\"type\":\"scatter\"}],\"scatter3d\":[{\"line\":{\"colorbar\":{\"outlinewidth\":0,\"ticks\":\"\"}},\"marker\":{\"colorbar\":{\"outlinewidth\":0,\"ticks\":\"\"}},\"type\":\"scatter3d\"}],\"scattercarpet\":[{\"marker\":{\"colorbar\":{\"outlinewidth\":0,\"ticks\":\"\"}},\"type\":\"scattercarpet\"}],\"scattergeo\":[{\"marker\":{\"colorbar\":{\"outlinewidth\":0,\"ticks\":\"\"}},\"type\":\"scattergeo\"}],\"scattergl\":[{\"marker\":{\"colorbar\":{\"outlinewidth\":0,\"ticks\":\"\"}},\"type\":\"scattergl\"}],\"scattermapbox\":[{\"marker\":{\"colorbar\":{\"outlinewidth\":0,\"ticks\":\"\"}},\"type\":\"scattermapbox\"}],\"scatterpolar\":[{\"marker\":{\"colorbar\":{\"outlinewidth\":0,\"ticks\":\"\"}},\"type\":\"scatterpolar\"}],\"scatterpolargl\":[{\"marker\":{\"colorbar\":{\"outlinewidth\":0,\"ticks\":\"\"}},\"type\":\"scatterpolargl\"}],\"scatterternary\":[{\"marker\":{\"colorbar\":{\"outlinewidth\":0,\"ticks\":\"\"}},\"type\":\"scatterternary\"}],\"surface\":[{\"colorbar\":{\"outlinewidth\":0,\"ticks\":\"\"},\"colorscale\":[[0.0,\"#0d0887\"],[0.1111111111111111,\"#46039f\"],[0.2222222222222222,\"#7201a8\"],[0.3333333333333333,\"#9c179e\"],[0.4444444444444444,\"#bd3786\"],[0.5555555555555556,\"#d8576b\"],[0.6666666666666666,\"#ed7953\"],[0.7777777777777778,\"#fb9f3a\"],[0.8888888888888888,\"#fdca26\"],[1.0,\"#f0f921\"]],\"type\":\"surface\"}],\"table\":[{\"cells\":{\"fill\":{\"color\":\"#EBF0F8\"},\"line\":{\"color\":\"white\"}},\"header\":{\"fill\":{\"color\":\"#C8D4E3\"},\"line\":{\"color\":\"white\"}},\"type\":\"table\"}]},\"layout\":{\"annotationdefaults\":{\"arrowcolor\":\"#2a3f5f\",\"arrowhead\":0,\"arrowwidth\":1},\"autotypenumbers\":\"strict\",\"coloraxis\":{\"colorbar\":{\"outlinewidth\":0,\"ticks\":\"\"}},\"colorscale\":{\"diverging\":[[0,\"#8e0152\"],[0.1,\"#c51b7d\"],[0.2,\"#de77ae\"],[0.3,\"#f1b6da\"],[0.4,\"#fde0ef\"],[0.5,\"#f7f7f7\"],[0.6,\"#e6f5d0\"],[0.7,\"#b8e186\"],[0.8,\"#7fbc41\"],[0.9,\"#4d9221\"],[1,\"#276419\"]],\"sequential\":[[0.0,\"#0d0887\"],[0.1111111111111111,\"#46039f\"],[0.2222222222222222,\"#7201a8\"],[0.3333333333333333,\"#9c179e\"],[0.4444444444444444,\"#bd3786\"],[0.5555555555555556,\"#d8576b\"],[0.6666666666666666,\"#ed7953\"],[0.7777777777777778,\"#fb9f3a\"],[0.8888888888888888,\"#fdca26\"],[1.0,\"#f0f921\"]],\"sequentialminus\":[[0.0,\"#0d0887\"],[0.1111111111111111,\"#46039f\"],[0.2222222222222222,\"#7201a8\"],[0.3333333333333333,\"#9c179e\"],[0.4444444444444444,\"#bd3786\"],[0.5555555555555556,\"#d8576b\"],[0.6666666666666666,\"#ed7953\"],[0.7777777777777778,\"#fb9f3a\"],[0.8888888888888888,\"#fdca26\"],[1.0,\"#f0f921\"]]},\"colorway\":[\"#636efa\",\"#EF553B\",\"#00cc96\",\"#ab63fa\",\"#FFA15A\",\"#19d3f3\",\"#FF6692\",\"#B6E880\",\"#FF97FF\",\"#FECB52\"],\"font\":{\"color\":\"#2a3f5f\"},\"geo\":{\"bgcolor\":\"white\",\"lakecolor\":\"white\",\"landcolor\":\"#E5ECF6\",\"showlakes\":true,\"showland\":true,\"subunitcolor\":\"white\"},\"hoverlabel\":{\"align\":\"left\"},\"hovermode\":\"closest\",\"mapbox\":{\"style\":\"light\"},\"paper_bgcolor\":\"white\",\"plot_bgcolor\":\"#E5ECF6\",\"polar\":{\"angularaxis\":{\"gridcolor\":\"white\",\"linecolor\":\"white\",\"ticks\":\"\"},\"bgcolor\":\"#E5ECF6\",\"radialaxis\":{\"gridcolor\":\"white\",\"linecolor\":\"white\",\"ticks\":\"\"}},\"scene\":{\"xaxis\":{\"backgroundcolor\":\"#E5ECF6\",\"gridcolor\":\"white\",\"gridwidth\":2,\"linecolor\":\"white\",\"showbackground\":true,\"ticks\":\"\",\"zerolinecolor\":\"white\"},\"yaxis\":{\"backgroundcolor\":\"#E5ECF6\",\"gridcolor\":\"white\",\"gridwidth\":2,\"linecolor\":\"white\",\"showbackground\":true,\"ticks\":\"\",\"zerolinecolor\":\"white\"},\"zaxis\":{\"backgroundcolor\":\"#E5ECF6\",\"gridcolor\":\"white\",\"gridwidth\":2,\"linecolor\":\"white\",\"showbackground\":true,\"ticks\":\"\",\"zerolinecolor\":\"white\"}},\"shapedefaults\":{\"line\":{\"color\":\"#2a3f5f\"}},\"ternary\":{\"aaxis\":{\"gridcolor\":\"white\",\"linecolor\":\"white\",\"ticks\":\"\"},\"baxis\":{\"gridcolor\":\"white\",\"linecolor\":\"white\",\"ticks\":\"\"},\"bgcolor\":\"#E5ECF6\",\"caxis\":{\"gridcolor\":\"white\",\"linecolor\":\"white\",\"ticks\":\"\"}},\"title\":{\"x\":0.05},\"xaxis\":{\"automargin\":true,\"gridcolor\":\"white\",\"linecolor\":\"white\",\"ticks\":\"\",\"title\":{\"standoff\":15},\"zerolinecolor\":\"white\",\"zerolinewidth\":2},\"yaxis\":{\"automargin\":true,\"gridcolor\":\"white\",\"linecolor\":\"white\",\"ticks\":\"\",\"title\":{\"standoff\":15},\"zerolinecolor\":\"white\",\"zerolinewidth\":2}}},\"title\":{\"text\":\"An\\u00e1lisis de ingredientes objetivos FooDB: TSNE con filtro M.\"},\"xaxis\":{\"anchor\":\"y\",\"domain\":[0.0,1.0],\"title\":{\"text\":\"x1\"}},\"yaxis\":{\"anchor\":\"x\",\"domain\":[0.0,1.0],\"title\":{\"text\":\"x2\"}}},                        {\"responsive\": true}                    ).then(function(){\n",
       "                            \n",
       "var gd = document.getElementById('b3667e2a-3d4b-4a48-984d-5dec1c45776c');\n",
       "var x = new MutationObserver(function (mutations, observer) {{\n",
       "        var display = window.getComputedStyle(gd).display;\n",
       "        if (!display || display === 'none') {{\n",
       "            console.log([gd, 'removed!']);\n",
       "            Plotly.purge(gd);\n",
       "            observer.disconnect();\n",
       "        }}\n",
       "}});\n",
       "\n",
       "// Listen for the removal of the full notebook cells\n",
       "var notebookContainer = gd.closest('#notebook-container');\n",
       "if (notebookContainer) {{\n",
       "    x.observe(notebookContainer, {childList: true});\n",
       "}}\n",
       "\n",
       "// Listen for the clearing of the current output cell\n",
       "var outputEl = gd.closest('.output');\n",
       "if (outputEl) {{\n",
       "    x.observe(outputEl, {childList: true});\n",
       "}}\n",
       "\n",
       "                        })                };                });            </script>        </div>"
      ]
     },
     "metadata": {},
     "output_type": "display_data"
    },
    {
     "name": "stdout",
     "output_type": "stream",
     "text": [
      "Getting T-SNE from group OT...\n"
     ]
    },
    {
     "data": {
      "application/vnd.plotly.v1+json": {
       "config": {
        "plotlyServerURL": "https://plot.ly"
       },
       "data": [
        {
         "customdata": [
          [
           "date, dried",
           0
          ],
          [
           "cereals, farina, unenriched, dry",
           0
          ],
          [
           "corn, dried, yellow (northern plains indians)",
           0
          ],
          [
           "nuts, ginkgo nuts, dried",
           0
          ],
          [
           "seeds, safflower seed kernels, dried",
           0
          ],
          [
           "cornmeal, yellow (navajo)",
           0
          ],
          [
           "fig, dried",
           0
          ],
          [
           "spices, fenugreek seed",
           0
          ],
          [
           "seeds, sunflower seed flour, partially defatted",
           0
          ],
          [
           "cereals, corn grits, white, regular and quick, unenriched, dry",
           0
          ],
          [
           "tapioca, pearl, dry",
           0
          ],
          [
           "beans, white, dried",
           0
          ],
          [
           "lentils, dried",
           0
          ],
          [
           "rye flour, dark, whole meal",
           0
          ],
          [
           "beans, brown, dried",
           0
          ],
          [
           "nuts, pine nuts, pinyon, dried",
           0
          ],
          [
           "nuts, pilinuts, dried",
           0
          ],
          [
           "longans, dried",
           0
          ],
          [
           "prune, dried plum",
           0
          ],
          [
           "seeds, cottonseed flour, low fat (glandless)",
           0
          ],
          [
           "seeds, watermelon seed kernels, dried",
           0
          ],
          [
           "seeds, sesame flour, partially defatted",
           0
          ],
          [
           "buckwheat flour",
           0
          ],
          [
           "millet flour",
           0
          ],
          [
           "nut, hazel (uk), filbert (usa), dried",
           0
          ],
          [
           "nuts, coconut meat, dried (desiccated), toasted",
           0
          ],
          [
           "wheat flour",
           0
          ],
          [
           "yeast, dried",
           0
          ],
          [
           "beans, soy, dried",
           0
          ],
          [
           "nuts, acorn flour, full fat",
           0
          ],
          [
           "nuts, coconut meat, dried (desiccated), creamed",
           0
          ],
          [
           "pine nuts, pignolias, dried",
           0
          ],
          [
           "cereals, corn grits, white, regular and quick, unenriched, dry",
           0
          ],
          [
           "cocoa, powder",
           0
          ],
          [
           "pistachio nuts, dried",
           0
          ],
          [
           "peppers, ancho, dried",
           0
          ],
          [
           "cornstarch",
           0
          ],
          [
           "potato flour",
           0
          ],
          [
           "tomato powder",
           0
          ],
          [
           "nuts, butternuts, dried",
           0
          ],
          [
           "pecans, dried",
           0
          ],
          [
           "wheat flour",
           0
          ],
          [
           "cereals, corn grits, yellow, regular and quick, unenriched, dry",
           0
          ],
          [
           "nuts, chestnuts, european, dried, unpeeled",
           0
          ],
          [
           "seeds, sunflower seed kernels, toasted, without salt",
           0
          ],
          [
           "cereals, corn grits, yellow, regular and quick, unenriched, dry",
           0
          ],
          [
           "nuts, acorns, dried",
           0
          ],
          [
           "nuts, chestnuts, japanese, dried",
           0
          ],
          [
           "rice flour",
           0
          ],
          [
           "spices, dill seed",
           0
          ],
          [
           "barley malt flour",
           0
          ],
          [
           "peanut flour, low fat",
           0
          ],
          [
           "seeds, lotus seeds, dried",
           0
          ],
          [
           "seeds, sesame flour, low-fat",
           0
          ],
          [
           "soya flour, full fat",
           0
          ],
          [
           "rice flour, brown",
           0
          ],
          [
           "seeds, cottonseed flour, partially defatted (glandless)",
           0
          ],
          [
           "corn flour",
           0
          ],
          [
           "nut, pea, dried",
           0
          ],
          [
           "sesame seeds, whole, dried",
           0
          ],
          [
           "cornmeal, white (navajo)",
           0
          ],
          [
           "soy flour, low-fat, crude protein basis (n x 6.25)",
           0
          ],
          [
           "peach, dried",
           0
          ],
          [
           "arrowroot flour",
           0
          ],
          [
           "seeds, sesame flour, high-fat",
           0
          ],
          [
           "spearmint, dried",
           0
          ],
          [
           "nuts, beechnuts, dried",
           0
          ],
          [
           "nuts, hickorynuts, dried",
           0
          ],
          [
           "garlic, dried, powder",
           0
          ],
          [
           "apple, dried",
           0
          ],
          [
           "persimmons, japanese, dried",
           0
          ],
          [
           "seeds, sesame meal, partially defatted",
           0
          ],
          [
           "seeds, safflower seed meal, partially defatted",
           0
          ],
          [
           "sesame seed, decorticated",
           0
          ],
          [
           "nuts, chestnuts, chinese, dried",
           0
          ],
          [
           "rice, white, long-grain, parboiled, unenriched, dry",
           0
          ],
          [
           "nuts, chestnuts, european, dried, peeled",
           0
          ],
          [
           "wheat, flour, wholemeal",
           0
          ],
          [
           "triticale flour, whole-grain",
           0
          ],
          [
           "tofu, dried-frozen (koyadofu)",
           0
          ],
          [
           "seeds, chia seeds, dried",
           0
          ],
          [
           "tomato, dried",
           0
          ],
          [
           "rice, white, with pasta, dry",
           0
          ],
          [
           "sorghum flour",
           0
          ],
          [
           "spices, fennel seed",
           0
          ],
          [
           "apricot, dried",
           0
          ],
          [
           "seeds, sisymbrium sp. seeds, whole, dried",
           0
          ],
          [
           "corn starch",
           0
          ],
          [
           "baking powder",
           0
          ],
          [
           "spices, allspice, ground",
           0
          ],
          [
           "spices, anise seed",
           0
          ],
          [
           "coriander, leaf, dried",
           0
          ],
          [
           "spices, coriander seed",
           0
          ],
          [
           "spices, saffron",
           0
          ],
          [
           "spices, chervil, dried",
           0
          ],
          [
           "wocas, dried seeds, oregon, yellow pond lily, nuphar lutea (or) - cy0617b",
           0
          ],
          [
           "cornmeal, blue (navajo)",
           0
          ],
          [
           "spices, mace, ground",
           0
          ],
          [
           "chickpea flour (besan)",
           0
          ],
          [
           "spices, pepper, white",
           0
          ],
          [
           "leavening agents, baking powder, low-sodium",
           0
          ],
          [
           "spices, tarragon, dried",
           0
          ],
          [
           "leavening agents, baking powder, double-acting, straight phosphate",
           0
          ],
          [
           "leavening agents, baking powder, double-acting, sodium aluminum sulfate",
           0
          ],
          [
           "spices, bay leaf",
           0
          ],
          [
           "seaweed, konbu, dried (kelp)",
           0
          ],
          [
           "sunflower seeds, decorticated, dried",
           0
          ],
          [
           "curry powder",
           0
          ],
          [
           "jujube, dried",
           0
          ],
          [
           "fungi, cloud ears, dried",
           0
          ],
          [
           "spices, rosemary, dried",
           0
          ],
          [
           "pepeao, dried",
           0
          ],
          [
           "corn flour, degermed, unenriched, yellow",
           0
          ],
          [
           "dill weed, dried",
           0
          ],
          [
           "spices, dill weed, dried",
           0
          ],
          [
           "rose hip, dried, powder",
           0
          ],
          [
           "spices, savory, ground",
           0
          ],
          [
           "corn flour, whole-grain, blue (harina de maiz morado)",
           0
          ],
          [
           "fruit, mixed, (prune and apricot and pear), dried",
           0
          ],
          [
           "cocoa, dry powder, unsweetened, hersheys european style cocoa",
           0
          ],
          [
           "spices, cardamom",
           0
          ],
          [
           "peppers, pasilla, dried",
           0
          ],
          [
           "agave, dried (southwest)",
           0
          ],
          [
           "corn, dried (navajo)",
           0
          ]
         ],
         "hovertemplate": "cluster=%{customdata[1]}<br>x1=%{x}<br>x2=%{y}<br>label=%{customdata[0]}<extra></extra>",
         "legendgroup": "0",
         "marker": {
          "color": "#636efa",
          "opacity": 0.5,
          "size": 15,
          "symbol": "circle"
         },
         "mode": "markers+text",
         "name": "0",
         "orientation": "v",
         "showlegend": true,
         "text": [
          "date, dried",
          "cereals, farina, unenriched, dry",
          "corn, dried, yellow (northern plains indians)",
          "nuts, ginkgo nuts, dried",
          "seeds, safflower seed kernels, dried",
          "cornmeal, yellow (navajo)",
          "fig, dried",
          "spices, fenugreek seed",
          "seeds, sunflower seed flour, partially defatted",
          "cereals, corn grits, white, regular and quick, unenriched, dry",
          "tapioca, pearl, dry",
          "beans, white, dried",
          "lentils, dried",
          "rye flour, dark, whole meal",
          "beans, brown, dried",
          "nuts, pine nuts, pinyon, dried",
          "nuts, pilinuts, dried",
          "longans, dried",
          "prune, dried plum",
          "seeds, cottonseed flour, low fat (glandless)",
          "seeds, watermelon seed kernels, dried",
          "seeds, sesame flour, partially defatted",
          "buckwheat flour",
          "millet flour",
          "nut, hazel (uk), filbert (usa), dried",
          "nuts, coconut meat, dried (desiccated), toasted",
          "wheat flour",
          "yeast, dried",
          "beans, soy, dried",
          "nuts, acorn flour, full fat",
          "nuts, coconut meat, dried (desiccated), creamed",
          "pine nuts, pignolias, dried",
          "cereals, corn grits, white, regular and quick, unenriched, dry",
          "cocoa, powder",
          "pistachio nuts, dried",
          "peppers, ancho, dried",
          "cornstarch",
          "potato flour",
          "tomato powder",
          "nuts, butternuts, dried",
          "pecans, dried",
          "wheat flour",
          "cereals, corn grits, yellow, regular and quick, unenriched, dry",
          "nuts, chestnuts, european, dried, unpeeled",
          "seeds, sunflower seed kernels, toasted, without salt",
          "cereals, corn grits, yellow, regular and quick, unenriched, dry",
          "nuts, acorns, dried",
          "nuts, chestnuts, japanese, dried",
          "rice flour",
          "spices, dill seed",
          "barley malt flour",
          "peanut flour, low fat",
          "seeds, lotus seeds, dried",
          "seeds, sesame flour, low-fat",
          "soya flour, full fat",
          "rice flour, brown",
          "seeds, cottonseed flour, partially defatted (glandless)",
          "corn flour",
          "nut, pea, dried",
          "sesame seeds, whole, dried",
          "cornmeal, white (navajo)",
          "soy flour, low-fat, crude protein basis (n x 6.25)",
          "peach, dried",
          "arrowroot flour",
          "seeds, sesame flour, high-fat",
          "spearmint, dried",
          "nuts, beechnuts, dried",
          "nuts, hickorynuts, dried",
          "garlic, dried, powder",
          "apple, dried",
          "persimmons, japanese, dried",
          "seeds, sesame meal, partially defatted",
          "seeds, safflower seed meal, partially defatted",
          "sesame seed, decorticated",
          "nuts, chestnuts, chinese, dried",
          "rice, white, long-grain, parboiled, unenriched, dry",
          "nuts, chestnuts, european, dried, peeled",
          "wheat, flour, wholemeal",
          "triticale flour, whole-grain",
          "tofu, dried-frozen (koyadofu)",
          "seeds, chia seeds, dried",
          "tomato, dried",
          "rice, white, with pasta, dry",
          "sorghum flour",
          "spices, fennel seed",
          "apricot, dried",
          "seeds, sisymbrium sp. seeds, whole, dried",
          "corn starch",
          "baking powder",
          "spices, allspice, ground",
          "spices, anise seed",
          "coriander, leaf, dried",
          "spices, coriander seed",
          "spices, saffron",
          "spices, chervil, dried",
          "wocas, dried seeds, oregon, yellow pond lily, nuphar lutea (or) - cy0617b",
          "cornmeal, blue (navajo)",
          "spices, mace, ground",
          "chickpea flour (besan)",
          "spices, pepper, white",
          "leavening agents, baking powder, low-sodium",
          "spices, tarragon, dried",
          "leavening agents, baking powder, double-acting, straight phosphate",
          "leavening agents, baking powder, double-acting, sodium aluminum sulfate",
          "spices, bay leaf",
          "seaweed, konbu, dried (kelp)",
          "sunflower seeds, decorticated, dried",
          "curry powder",
          "jujube, dried",
          "fungi, cloud ears, dried",
          "spices, rosemary, dried",
          "pepeao, dried",
          "corn flour, degermed, unenriched, yellow",
          "dill weed, dried",
          "spices, dill weed, dried",
          "rose hip, dried, powder",
          "spices, savory, ground",
          "corn flour, whole-grain, blue (harina de maiz morado)",
          "fruit, mixed, (prune and apricot and pear), dried",
          "cocoa, dry powder, unsweetened, hersheys european style cocoa",
          "spices, cardamom",
          "peppers, pasilla, dried",
          "agave, dried (southwest)",
          "corn, dried (navajo)"
         ],
         "textfont": {
          "size": 7
         },
         "textposition": "top center",
         "type": "scatter",
         "x": [
          5.425152778625488,
          5.312218189239502,
          3.362053871154785,
          6.476919174194336,
          4.546672344207764,
          4.364547252655029,
          4.845409870147705,
          0.4527934193611145,
          16.56029510498047,
          15.322253227233887,
          8.289045333862305,
          4.982117652893066,
          2.911187171936035,
          -5.4561076164245605,
          10.030405044555664,
          2.477738618850708,
          13.169878005981445,
          -0.1275780200958252,
          19.78763198852539,
          -5.679810523986816,
          19.0095272064209,
          5.174921989440918,
          -0.04386790096759796,
          -10.566938400268555,
          -9.925667762756348,
          -5.956371784210205,
          9.321211814880371,
          7.262518405914307,
          1.8227040767669678,
          13.49824333190918,
          -0.23380687832832336,
          -3.115318775177002,
          -1.8201954364776611,
          -7.069591045379639,
          11.91829776763916,
          20.699798583984375,
          8.21437931060791,
          4.253236770629883,
          17.45758628845215,
          17.075082778930664,
          22.242294311523438,
          10.848185539245605,
          7.218898296356201,
          2.7982418537139893,
          6.817414283752441,
          18.751407623291016,
          2.3063974380493164,
          10.464765548706055,
          2.7744925022125244,
          5.572568416595459,
          4.095288276672363,
          5.9766459465026855,
          13.257284164428711,
          7.771550178527832,
          9.050857543945312,
          11.943880081176758,
          7.521839618682861,
          -8.925134658813477,
          6.14450740814209,
          3.4887335300445557,
          4.131898403167725,
          13.94835376739502,
          -12.074169158935547,
          -6.135639667510986,
          -0.7890318036079407,
          -7.652586936950684,
          8.093305587768555,
          -4.213685035705566,
          13.84373950958252,
          -11.877490997314453,
          5.235753536224365,
          10.404556274414062,
          12.883517265319824,
          -4.543888092041016,
          7.757958889007568,
          2.4939019680023193,
          -4.196539878845215,
          1.3259828090667725,
          -2.329005718231201,
          6.609760761260986,
          8.62997817993164,
          -8.250489234924316,
          -3.2575762271881104,
          -1.367596983909607,
          2.6324846744537354,
          13.756957054138184,
          17.45194435119629,
          -7.6362104415893555,
          0.0632837787270546,
          3.057854175567627,
          14.824878692626953,
          -0.1295151710510254,
          10.128825187683105,
          10.198904037475586,
          21.96017837524414,
          4.819406986236572,
          8.547955513000488,
          2.477449655532837,
          0.40776318311691284,
          12.237149238586426,
          8.08677864074707,
          9.921191215515137,
          6.322153568267822,
          10.608562469482422,
          -0.0537659153342247,
          -2.528038740158081,
          5.42798376083374,
          4.33862829208374,
          -2.618952512741089,
          6.089295864105225,
          4.801353931427002,
          -3.553476095199585,
          -3.235264539718628,
          0.4952099025249481,
          3.216526508331299,
          16.420549392700195,
          7.859145641326904,
          15.533628463745117,
          1.0046679973602295,
          -0.8241335153579712,
          11.070284843444824,
          12.377028465270996,
          9.551427841186523,
          5.656641960144043
         ],
         "xaxis": "x",
         "y": [
          14.249074935913086,
          15.973203659057617,
          13.637107849121094,
          14.200392723083496,
          13.057896614074707,
          14.111173629760742,
          15.012116432189941,
          20.1429500579834,
          13.371658325195312,
          16.209672927856445,
          -3.093174457550049,
          22.202280044555664,
          4.928653717041016,
          16.11130714416504,
          30.698137283325195,
          12.005424499511719,
          24.271106719970703,
          3.3099138736724854,
          22.546039581298828,
          21.994678497314453,
          15.687761306762695,
          25.124570846557617,
          22.91303253173828,
          7.2657880783081055,
          22.44207000732422,
          7.420248031616211,
          20.044950485229492,
          21.38883399963379,
          15.700627326965332,
          13.705141067504883,
          15.855900764465332,
          24.46792984008789,
          11.194602966308594,
          26.027803421020508,
          11.59209156036377,
          7.144132614135742,
          -2.3521313667297363,
          11.187677383422852,
          3.4899981021881104,
          25.855241775512695,
          12.963950157165527,
          13.999212265014648,
          27.802650451660156,
          19.072219848632812,
          19.14952850341797,
          10.789669036865234,
          9.908987045288086,
          3.7536487579345703,
          1.2255247831344604,
          3.4460628032684326,
          -3.1272404193878174,
          0.18923892080783844,
          1.4259785413742065,
          5.192113876342773,
          0.9837716221809387,
          -2.229811668395996,
          12.687193870544434,
          15.106921195983887,
          15.267078399658203,
          14.863249778747559,
          15.775418281555176,
          18.71288299560547,
          12.412477493286133,
          13.116636276245117,
          13.687137603759766,
          18.853599548339844,
          10.65921401977539,
          1.2671939134597778,
          28.56719207763672,
          17.917831420898438,
          31.51772117614746,
          26.211423873901367,
          8.734843254089355,
          10.497682571411133,
          24.11407470703125,
          7.501391887664795,
          18.841018676757812,
          13.850772857666016,
          21.128753662109375,
          17.246126174926758,
          17.821041107177734,
          10.524848937988281,
          13.518096923828125,
          18.32467269897461,
          21.418533325195312,
          5.499594688415527,
          19.010236740112305,
          3.739389181137085,
          9.229446411132812,
          17.126914978027344,
          10.85539436340332,
          26.38190269470215,
          22.680736541748047,
          9.682311058044434,
          18.469648361206055,
          17.76677131652832,
          14.208885192871094,
          24.23204231262207,
          30.842193603515625,
          20.904315948486328,
          7.9720635414123535,
          16.0274658203125,
          9.48474407196045,
          6.903040885925293,
          6.428011894226074,
          8.231121063232422,
          6.857487678527832,
          9.072263717651367,
          16.076953887939453,
          11.50918197631836,
          19.801326751708984,
          28.719131469726562,
          5.0184550285339355,
          11.715872764587402,
          27.845869064331055,
          7.789809703826904,
          15.864274978637695,
          21.869197845458984,
          17.741561889648438,
          -0.9613577723503113,
          18.265527725219727,
          16.105411529541016,
          12.233384132385254,
          13.239768028259277
         ],
         "yaxis": "y"
        },
        {
         "customdata": [
          [
           "spices, mustard seed, ground",
           1
          ],
          [
           "seeds, flaxseed",
           1
          ],
          [
           "carrot, dehydrated",
           1
          ],
          [
           "seeds, pumpkin and squash seed kernels, dried",
           1
          ],
          [
           "seeds, pumpkin and squash seed kernels, dried",
           1
          ],
          [
           "radishes, oriental, dried",
           1
          ],
          [
           "spices, chili powder",
           1
          ],
          [
           "peppers, hot chile, sun-dried",
           1
          ],
          [
           "spices, garlic powder",
           1
          ],
          [
           "tomatoes, sun-dried",
           1
          ],
          [
           "peanut flour, defatted",
           1
          ],
          [
           "seaweed, spirulina, dried",
           1
          ],
          [
           "spices, parsley, dried",
           1
          ],
          [
           "seeds, pumpkin and squash seed kernels, dried",
           1
          ],
          [
           "soy flour, defatted, crude protein basis (n x 6.25)",
           1
          ],
          [
           "mushrooms, shiitake, dried",
           1
          ],
          [
           "spices, coriander leaf, dried",
           1
          ],
          [
           "celery flakes, dried",
           1
          ],
          [
           "soy flour, low-fat",
           1
          ],
          [
           "seaweed, agar, dried",
           1
          ]
         ],
         "hovertemplate": "cluster=%{customdata[1]}<br>x1=%{x}<br>x2=%{y}<br>label=%{customdata[0]}<extra></extra>",
         "legendgroup": "1",
         "marker": {
          "color": "#EF553B",
          "opacity": 0.5,
          "size": 15,
          "symbol": "circle"
         },
         "mode": "markers+text",
         "name": "1",
         "orientation": "v",
         "showlegend": true,
         "text": [
          "spices, mustard seed, ground",
          "seeds, flaxseed",
          "carrot, dehydrated",
          "seeds, pumpkin and squash seed kernels, dried",
          "seeds, pumpkin and squash seed kernels, dried",
          "radishes, oriental, dried",
          "spices, chili powder",
          "peppers, hot chile, sun-dried",
          "spices, garlic powder",
          "tomatoes, sun-dried",
          "peanut flour, defatted",
          "seaweed, spirulina, dried",
          "spices, parsley, dried",
          "seeds, pumpkin and squash seed kernels, dried",
          "soy flour, defatted, crude protein basis (n x 6.25)",
          "mushrooms, shiitake, dried",
          "spices, coriander leaf, dried",
          "celery flakes, dried",
          "soy flour, low-fat",
          "seaweed, agar, dried"
         ],
         "textfont": {
          "size": 7
         },
         "textposition": "top center",
         "type": "scatter",
         "x": [
          -45.78849411010742,
          -36.20309066772461,
          -34.54391098022461,
          -32.39756774902344,
          -31.70601463317871,
          -43.90563201904297,
          -32.9450798034668,
          -36.48883056640625,
          -32.24085235595703,
          -43.18283462524414,
          -43.683677673339844,
          -33.313541412353516,
          -41.55933380126953,
          -31.70601463317871,
          -51.50078582763672,
          -51.82480239868164,
          -41.57378387451172,
          -45.77558135986328,
          -51.389739990234375,
          -32.278011322021484
         ],
         "xaxis": "x",
         "y": [
          72.77765655517578,
          65.50950622558594,
          64.16407775878906,
          59.54246520996094,
          59.74062728881836,
          71.40898895263672,
          63.58316421508789,
          65.73039245605469,
          64.07144927978516,
          70.880859375,
          71.24535369873047,
          63.00392150878906,
          69.69005584716797,
          59.74062728881836,
          76.52070617675781,
          76.81513214111328,
          69.69966888427734,
          72.76868438720703,
          76.87953186035156,
          60.44226837158203
         ],
         "yaxis": "y"
        },
        {
         "customdata": [
          [
           "nuts, brazilnuts, dried, unblanched",
           2
          ],
          [
           "seeds, sunflower seed kernels, dried",
           2
          ],
          [
           "soy flour, defatted",
           2
          ],
          [
           "bananas, dehydrated, or banana powder",
           2
          ],
          [
           "spices, basil, dried",
           2
          ],
          [
           "carob flour",
           2
          ],
          [
           "spices, paprika",
           2
          ],
          [
           "buckwheat flour, whole-groat",
           2
          ],
          [
           "nuts, pine nuts, dried",
           2
          ],
          [
           "spices, caraway seed",
           2
          ],
          [
           "cornmeal, whole-grain, yellow",
           2
          ],
          [
           "spices, oregano, dried",
           2
          ],
          [
           "seeds, sesame seed kernels, dried (decorticated)",
           2
          ],
          [
           "rye flour, medium",
           2
          ],
          [
           "cornmeal, whole-grain, white",
           2
          ],
          [
           "onions, dehydrated flakes",
           2
          ],
          [
           "seeds, sesame seeds, whole, dried",
           2
          ],
          [
           "wheat flour, whole-grain",
           2
          ],
          [
           "walnuts",
           2
          ],
          [
           "bulgur, dry",
           2
          ],
          [
           "barley flour or meal",
           2
          ],
          [
           "nuts, walnuts, black, dried",
           2
          ],
          [
           "rye flour, light",
           2
          ],
          [
           "rye flour, dark",
           2
          ],
          [
           "corn flour, whole-grain, white",
           2
          ],
          [
           "corn flour, whole-grain, yellow",
           2
          ],
          [
           "wheat flour, white, all-purpose, unenriched",
           2
          ],
          [
           "leavening agents, yeast, bakers, active dry",
           2
          ],
          [
           "litchis, dried",
           2
          ],
          [
           "coffee, dry, powder, with whitener, reduced calorie",
           2
          ],
          [
           "coffee, dry, powder, with whitener, reduced calorie",
           2
          ],
          [
           "oat flour, partially debranned",
           2
          ],
          [
           "spices, celery seed",
           2
          ],
          [
           "wheat flour, whole-grain, soft wheat",
           2
          ],
          [
           "coffee, dry, powder, with whitener, reduced calorie",
           2
          ],
          [
           "coffee and cocoa (mocha) powder, with whitener and low calorie sweetener",
           2
          ],
          [
           "coffee and cocoa (mocha) powder, with whitener and low calorie sweetener, decaffeinated",
           2
          ],
          [
           "spices, turmeric, ground",
           2
          ],
          [
           "spices, cumin seed",
           2
          ],
          [
           "spices, curry powder",
           2
          ],
          [
           "spices, pepper, red or cayenne",
           2
          ],
          [
           "cereals, whole wheat hot natural cereal, dry",
           2
          ],
          [
           "currants, zante, dried",
           2
          ]
         ],
         "hovertemplate": "cluster=%{customdata[1]}<br>x1=%{x}<br>x2=%{y}<br>label=%{customdata[0]}<extra></extra>",
         "legendgroup": "2",
         "marker": {
          "color": "#00cc96",
          "opacity": 0.5,
          "size": 15,
          "symbol": "circle"
         },
         "mode": "markers+text",
         "name": "2",
         "orientation": "v",
         "showlegend": true,
         "text": [
          "nuts, brazilnuts, dried, unblanched",
          "seeds, sunflower seed kernels, dried",
          "soy flour, defatted",
          "bananas, dehydrated, or banana powder",
          "spices, basil, dried",
          "carob flour",
          "spices, paprika",
          "buckwheat flour, whole-groat",
          "nuts, pine nuts, dried",
          "spices, caraway seed",
          "cornmeal, whole-grain, yellow",
          "spices, oregano, dried",
          "seeds, sesame seed kernels, dried (decorticated)",
          "rye flour, medium",
          "cornmeal, whole-grain, white",
          "onions, dehydrated flakes",
          "seeds, sesame seeds, whole, dried",
          "wheat flour, whole-grain",
          "walnuts",
          "bulgur, dry",
          "barley flour or meal",
          "nuts, walnuts, black, dried",
          "rye flour, light",
          "rye flour, dark",
          "corn flour, whole-grain, white",
          "corn flour, whole-grain, yellow",
          "wheat flour, white, all-purpose, unenriched",
          "leavening agents, yeast, bakers, active dry",
          "litchis, dried",
          "coffee, dry, powder, with whitener, reduced calorie",
          "coffee, dry, powder, with whitener, reduced calorie",
          "oat flour, partially debranned",
          "spices, celery seed",
          "wheat flour, whole-grain, soft wheat",
          "coffee, dry, powder, with whitener, reduced calorie",
          "coffee and cocoa (mocha) powder, with whitener and low calorie sweetener",
          "coffee and cocoa (mocha) powder, with whitener and low calorie sweetener, decaffeinated",
          "spices, turmeric, ground",
          "spices, cumin seed",
          "spices, curry powder",
          "spices, pepper, red or cayenne",
          "cereals, whole wheat hot natural cereal, dry",
          "currants, zante, dried"
         ],
         "textfont": {
          "size": 7
         },
         "textposition": "top center",
         "type": "scatter",
         "x": [
          20.524599075317383,
          -0.2843499779701233,
          32.830543518066406,
          20.560691833496094,
          -2.9473965167999268,
          32.00886154174805,
          -4.238069534301758,
          -9.835489273071289,
          -10.419282913208008,
          30.682926177978516,
          11.975223541259766,
          14.60383129119873,
          29.18583106994629,
          20.648923873901367,
          11.975712776184082,
          -9.673681259155273,
          29.233327865600586,
          4.544145584106445,
          16.676921844482422,
          20.743324279785156,
          4.527286529541016,
          16.676921844482422,
          33.75395584106445,
          18.221208572387695,
          20.814237594604492,
          20.814237594604492,
          34.559513092041016,
          15.396842956542969,
          31.48663330078125,
          19.42378044128418,
          19.02790069580078,
          11.584010124206543,
          30.995574951171875,
          17.65239143371582,
          19.207115173339844,
          22.44929313659668,
          22.10146141052246,
          -4.074001312255859,
          30.995574951171875,
          -0.40037378668785095,
          -8.938660621643066,
          20.983016967773438,
          34.14946746826172
         ],
         "xaxis": "x",
         "y": [
          -43.52606964111328,
          -49.33648681640625,
          -79.91867065429688,
          -65.76363372802734,
          -49.25429916381836,
          -79.35670471191406,
          -49.22213363647461,
          -49.51331329345703,
          -49.25541305541992,
          -47.18837356567383,
          -51.268192291259766,
          -46.70600128173828,
          -45.66716766357422,
          -65.14318084716797,
          -51.27240753173828,
          -49.099952697753906,
          -45.695457458496094,
          -49.59764862060547,
          -45.041255950927734,
          -43.46870803833008,
          -49.59653854370117,
          -45.041255950927734,
          -80.53082275390625,
          -44.29293441772461,
          -64.1041259765625,
          -64.1041259765625,
          -81.01268005371094,
          -46.009742736816406,
          -79.0108413696289,
          -74.96051025390625,
          -74.97211456298828,
          -49.83039855957031,
          -46.82006072998047,
          -44.53750991821289,
          -74.62335205078125,
          -71.74335479736328,
          -71.89132690429688,
          -49.22553634643555,
          -46.82006072998047,
          -49.3306884765625,
          -49.334373474121094,
          -62.98677062988281,
          -80.8952865600586
         ],
         "yaxis": "y"
        },
        {
         "customdata": [
          [
           "spices, pepper, black",
           3
          ],
          [
           "cornmeal, degermed, unenriched, white",
           3
          ],
          [
           "cornmeal, degermed, unenriched, yellow",
           3
          ],
          [
           "corn flour, masa, unenriched, white",
           3
          ],
          [
           "spices, cinnamon, ground",
           3
          ],
          [
           "rice flour, white",
           3
          ],
          [
           "spices, poppy seed",
           3
          ],
          [
           "spices, nutmeg, ground",
           3
          ]
         ],
         "hovertemplate": "cluster=%{customdata[1]}<br>x1=%{x}<br>x2=%{y}<br>label=%{customdata[0]}<extra></extra>",
         "legendgroup": "3",
         "marker": {
          "color": "#ab63fa",
          "opacity": 0.5,
          "size": 15,
          "symbol": "circle"
         },
         "mode": "markers+text",
         "name": "3",
         "orientation": "v",
         "showlegend": true,
         "text": [
          "spices, pepper, black",
          "cornmeal, degermed, unenriched, white",
          "cornmeal, degermed, unenriched, yellow",
          "corn flour, masa, unenriched, white",
          "spices, cinnamon, ground",
          "rice flour, white",
          "spices, poppy seed",
          "spices, nutmeg, ground"
         ],
         "textfont": {
          "size": 7
         },
         "textposition": "top center",
         "type": "scatter",
         "x": [
          62.25168991088867,
          65.26758575439453,
          65.26758575439453,
          67.47000122070312,
          63.180782318115234,
          68.32157135009766,
          64.72068786621094,
          67.27113342285156
         ],
         "xaxis": "x",
         "y": [
          -94.01290130615234,
          -93.59321594238281,
          -93.59321594238281,
          -93.56436920166016,
          -93.92184448242188,
          -92.71174621582031,
          -93.76165771484375,
          -93.8475570678711
         ],
         "yaxis": "y"
        },
        {
         "customdata": [
          [
           "spices, onion powder",
           4
          ],
          [
           "spices, cloves, ground",
           4
          ],
          [
           "spices, ginger, ground",
           4
          ],
          [
           "cereals, oats, regular and quick, not fortified, dry",
           4
          ],
          [
           "spices, thyme, dried",
           4
          ],
          [
           "spices, sage, ground",
           4
          ],
          [
           "spices, marjoram, dried",
           4
          ]
         ],
         "hovertemplate": "cluster=%{customdata[1]}<br>x1=%{x}<br>x2=%{y}<br>label=%{customdata[0]}<extra></extra>",
         "legendgroup": "4",
         "marker": {
          "color": "#FFA15A",
          "opacity": 0.5,
          "size": 15,
          "symbol": "circle"
         },
         "mode": "markers+text",
         "name": "4",
         "orientation": "v",
         "showlegend": true,
         "text": [
          "spices, onion powder",
          "spices, cloves, ground",
          "spices, ginger, ground",
          "cereals, oats, regular and quick, not fortified, dry",
          "spices, thyme, dried",
          "spices, sage, ground",
          "spices, marjoram, dried"
         ],
         "textfont": {
          "size": 7
         },
         "textposition": "top center",
         "type": "scatter",
         "x": [
          -64.4498519897461,
          -65.08720397949219,
          -63.33789825439453,
          -63.91870880126953,
          -60.54524230957031,
          -60.104103088378906,
          -60.383487701416016
         ],
         "xaxis": "x",
         "y": [
          14.218169212341309,
          14.01700496673584,
          15.125446319580078,
          14.372623443603516,
          13.391969680786133,
          13.482877731323242,
          13.843463897705078
         ],
         "yaxis": "y"
        },
        {
         "customdata": [
          [
           "cocoa, dry powder, unsweetened, processed with alkali",
           -1
          ],
          [
           "cocoa, dry powder, unsweetened",
           -1
          ],
          [
           "cocoa, dry powder, hi-fat or breakfast, plain",
           -1
          ],
          [
           "cocoa, dry powder, hi-fat or breakfast, processed with alkali",
           -1
          ]
         ],
         "hovertemplate": "cluster=%{customdata[1]}<br>x1=%{x}<br>x2=%{y}<br>label=%{customdata[0]}<extra></extra>",
         "legendgroup": "-1",
         "marker": {
          "color": "#19d3f3",
          "opacity": 0.5,
          "size": 15,
          "symbol": "circle"
         },
         "mode": "markers+text",
         "name": "-1",
         "orientation": "v",
         "showlegend": true,
         "text": [
          "cocoa, dry powder, unsweetened, processed with alkali",
          "cocoa, dry powder, unsweetened",
          "cocoa, dry powder, hi-fat or breakfast, plain",
          "cocoa, dry powder, hi-fat or breakfast, processed with alkali"
         ],
         "textfont": {
          "size": 7
         },
         "textposition": "top center",
         "type": "scatter",
         "x": [
          -61.005767822265625,
          -60.04511260986328,
          -59.69057083129883,
          -60.62650680541992
         ],
         "xaxis": "x",
         "y": [
          -36.24009323120117,
          -36.40419387817383,
          -36.47941207885742,
          -35.95328140258789
         ],
         "yaxis": "y"
        }
       ],
       "layout": {
        "legend": {
         "title": {
          "text": "cluster"
         },
         "tracegroupgap": 0
        },
        "margin": {
         "t": 60
        },
        "template": {
         "data": {
          "bar": [
           {
            "error_x": {
             "color": "#2a3f5f"
            },
            "error_y": {
             "color": "#2a3f5f"
            },
            "marker": {
             "line": {
              "color": "#E5ECF6",
              "width": 0.5
             },
             "pattern": {
              "fillmode": "overlay",
              "size": 10,
              "solidity": 0.2
             }
            },
            "type": "bar"
           }
          ],
          "barpolar": [
           {
            "marker": {
             "line": {
              "color": "#E5ECF6",
              "width": 0.5
             },
             "pattern": {
              "fillmode": "overlay",
              "size": 10,
              "solidity": 0.2
             }
            },
            "type": "barpolar"
           }
          ],
          "carpet": [
           {
            "aaxis": {
             "endlinecolor": "#2a3f5f",
             "gridcolor": "white",
             "linecolor": "white",
             "minorgridcolor": "white",
             "startlinecolor": "#2a3f5f"
            },
            "baxis": {
             "endlinecolor": "#2a3f5f",
             "gridcolor": "white",
             "linecolor": "white",
             "minorgridcolor": "white",
             "startlinecolor": "#2a3f5f"
            },
            "type": "carpet"
           }
          ],
          "choropleth": [
           {
            "colorbar": {
             "outlinewidth": 0,
             "ticks": ""
            },
            "type": "choropleth"
           }
          ],
          "contour": [
           {
            "colorbar": {
             "outlinewidth": 0,
             "ticks": ""
            },
            "colorscale": [
             [
              0,
              "#0d0887"
             ],
             [
              0.1111111111111111,
              "#46039f"
             ],
             [
              0.2222222222222222,
              "#7201a8"
             ],
             [
              0.3333333333333333,
              "#9c179e"
             ],
             [
              0.4444444444444444,
              "#bd3786"
             ],
             [
              0.5555555555555556,
              "#d8576b"
             ],
             [
              0.6666666666666666,
              "#ed7953"
             ],
             [
              0.7777777777777778,
              "#fb9f3a"
             ],
             [
              0.8888888888888888,
              "#fdca26"
             ],
             [
              1,
              "#f0f921"
             ]
            ],
            "type": "contour"
           }
          ],
          "contourcarpet": [
           {
            "colorbar": {
             "outlinewidth": 0,
             "ticks": ""
            },
            "type": "contourcarpet"
           }
          ],
          "heatmap": [
           {
            "colorbar": {
             "outlinewidth": 0,
             "ticks": ""
            },
            "colorscale": [
             [
              0,
              "#0d0887"
             ],
             [
              0.1111111111111111,
              "#46039f"
             ],
             [
              0.2222222222222222,
              "#7201a8"
             ],
             [
              0.3333333333333333,
              "#9c179e"
             ],
             [
              0.4444444444444444,
              "#bd3786"
             ],
             [
              0.5555555555555556,
              "#d8576b"
             ],
             [
              0.6666666666666666,
              "#ed7953"
             ],
             [
              0.7777777777777778,
              "#fb9f3a"
             ],
             [
              0.8888888888888888,
              "#fdca26"
             ],
             [
              1,
              "#f0f921"
             ]
            ],
            "type": "heatmap"
           }
          ],
          "heatmapgl": [
           {
            "colorbar": {
             "outlinewidth": 0,
             "ticks": ""
            },
            "colorscale": [
             [
              0,
              "#0d0887"
             ],
             [
              0.1111111111111111,
              "#46039f"
             ],
             [
              0.2222222222222222,
              "#7201a8"
             ],
             [
              0.3333333333333333,
              "#9c179e"
             ],
             [
              0.4444444444444444,
              "#bd3786"
             ],
             [
              0.5555555555555556,
              "#d8576b"
             ],
             [
              0.6666666666666666,
              "#ed7953"
             ],
             [
              0.7777777777777778,
              "#fb9f3a"
             ],
             [
              0.8888888888888888,
              "#fdca26"
             ],
             [
              1,
              "#f0f921"
             ]
            ],
            "type": "heatmapgl"
           }
          ],
          "histogram": [
           {
            "marker": {
             "pattern": {
              "fillmode": "overlay",
              "size": 10,
              "solidity": 0.2
             }
            },
            "type": "histogram"
           }
          ],
          "histogram2d": [
           {
            "colorbar": {
             "outlinewidth": 0,
             "ticks": ""
            },
            "colorscale": [
             [
              0,
              "#0d0887"
             ],
             [
              0.1111111111111111,
              "#46039f"
             ],
             [
              0.2222222222222222,
              "#7201a8"
             ],
             [
              0.3333333333333333,
              "#9c179e"
             ],
             [
              0.4444444444444444,
              "#bd3786"
             ],
             [
              0.5555555555555556,
              "#d8576b"
             ],
             [
              0.6666666666666666,
              "#ed7953"
             ],
             [
              0.7777777777777778,
              "#fb9f3a"
             ],
             [
              0.8888888888888888,
              "#fdca26"
             ],
             [
              1,
              "#f0f921"
             ]
            ],
            "type": "histogram2d"
           }
          ],
          "histogram2dcontour": [
           {
            "colorbar": {
             "outlinewidth": 0,
             "ticks": ""
            },
            "colorscale": [
             [
              0,
              "#0d0887"
             ],
             [
              0.1111111111111111,
              "#46039f"
             ],
             [
              0.2222222222222222,
              "#7201a8"
             ],
             [
              0.3333333333333333,
              "#9c179e"
             ],
             [
              0.4444444444444444,
              "#bd3786"
             ],
             [
              0.5555555555555556,
              "#d8576b"
             ],
             [
              0.6666666666666666,
              "#ed7953"
             ],
             [
              0.7777777777777778,
              "#fb9f3a"
             ],
             [
              0.8888888888888888,
              "#fdca26"
             ],
             [
              1,
              "#f0f921"
             ]
            ],
            "type": "histogram2dcontour"
           }
          ],
          "mesh3d": [
           {
            "colorbar": {
             "outlinewidth": 0,
             "ticks": ""
            },
            "type": "mesh3d"
           }
          ],
          "parcoords": [
           {
            "line": {
             "colorbar": {
              "outlinewidth": 0,
              "ticks": ""
             }
            },
            "type": "parcoords"
           }
          ],
          "pie": [
           {
            "automargin": true,
            "type": "pie"
           }
          ],
          "scatter": [
           {
            "marker": {
             "colorbar": {
              "outlinewidth": 0,
              "ticks": ""
             }
            },
            "type": "scatter"
           }
          ],
          "scatter3d": [
           {
            "line": {
             "colorbar": {
              "outlinewidth": 0,
              "ticks": ""
             }
            },
            "marker": {
             "colorbar": {
              "outlinewidth": 0,
              "ticks": ""
             }
            },
            "type": "scatter3d"
           }
          ],
          "scattercarpet": [
           {
            "marker": {
             "colorbar": {
              "outlinewidth": 0,
              "ticks": ""
             }
            },
            "type": "scattercarpet"
           }
          ],
          "scattergeo": [
           {
            "marker": {
             "colorbar": {
              "outlinewidth": 0,
              "ticks": ""
             }
            },
            "type": "scattergeo"
           }
          ],
          "scattergl": [
           {
            "marker": {
             "colorbar": {
              "outlinewidth": 0,
              "ticks": ""
             }
            },
            "type": "scattergl"
           }
          ],
          "scattermapbox": [
           {
            "marker": {
             "colorbar": {
              "outlinewidth": 0,
              "ticks": ""
             }
            },
            "type": "scattermapbox"
           }
          ],
          "scatterpolar": [
           {
            "marker": {
             "colorbar": {
              "outlinewidth": 0,
              "ticks": ""
             }
            },
            "type": "scatterpolar"
           }
          ],
          "scatterpolargl": [
           {
            "marker": {
             "colorbar": {
              "outlinewidth": 0,
              "ticks": ""
             }
            },
            "type": "scatterpolargl"
           }
          ],
          "scatterternary": [
           {
            "marker": {
             "colorbar": {
              "outlinewidth": 0,
              "ticks": ""
             }
            },
            "type": "scatterternary"
           }
          ],
          "surface": [
           {
            "colorbar": {
             "outlinewidth": 0,
             "ticks": ""
            },
            "colorscale": [
             [
              0,
              "#0d0887"
             ],
             [
              0.1111111111111111,
              "#46039f"
             ],
             [
              0.2222222222222222,
              "#7201a8"
             ],
             [
              0.3333333333333333,
              "#9c179e"
             ],
             [
              0.4444444444444444,
              "#bd3786"
             ],
             [
              0.5555555555555556,
              "#d8576b"
             ],
             [
              0.6666666666666666,
              "#ed7953"
             ],
             [
              0.7777777777777778,
              "#fb9f3a"
             ],
             [
              0.8888888888888888,
              "#fdca26"
             ],
             [
              1,
              "#f0f921"
             ]
            ],
            "type": "surface"
           }
          ],
          "table": [
           {
            "cells": {
             "fill": {
              "color": "#EBF0F8"
             },
             "line": {
              "color": "white"
             }
            },
            "header": {
             "fill": {
              "color": "#C8D4E3"
             },
             "line": {
              "color": "white"
             }
            },
            "type": "table"
           }
          ]
         },
         "layout": {
          "annotationdefaults": {
           "arrowcolor": "#2a3f5f",
           "arrowhead": 0,
           "arrowwidth": 1
          },
          "autotypenumbers": "strict",
          "coloraxis": {
           "colorbar": {
            "outlinewidth": 0,
            "ticks": ""
           }
          },
          "colorscale": {
           "diverging": [
            [
             0,
             "#8e0152"
            ],
            [
             0.1,
             "#c51b7d"
            ],
            [
             0.2,
             "#de77ae"
            ],
            [
             0.3,
             "#f1b6da"
            ],
            [
             0.4,
             "#fde0ef"
            ],
            [
             0.5,
             "#f7f7f7"
            ],
            [
             0.6,
             "#e6f5d0"
            ],
            [
             0.7,
             "#b8e186"
            ],
            [
             0.8,
             "#7fbc41"
            ],
            [
             0.9,
             "#4d9221"
            ],
            [
             1,
             "#276419"
            ]
           ],
           "sequential": [
            [
             0,
             "#0d0887"
            ],
            [
             0.1111111111111111,
             "#46039f"
            ],
            [
             0.2222222222222222,
             "#7201a8"
            ],
            [
             0.3333333333333333,
             "#9c179e"
            ],
            [
             0.4444444444444444,
             "#bd3786"
            ],
            [
             0.5555555555555556,
             "#d8576b"
            ],
            [
             0.6666666666666666,
             "#ed7953"
            ],
            [
             0.7777777777777778,
             "#fb9f3a"
            ],
            [
             0.8888888888888888,
             "#fdca26"
            ],
            [
             1,
             "#f0f921"
            ]
           ],
           "sequentialminus": [
            [
             0,
             "#0d0887"
            ],
            [
             0.1111111111111111,
             "#46039f"
            ],
            [
             0.2222222222222222,
             "#7201a8"
            ],
            [
             0.3333333333333333,
             "#9c179e"
            ],
            [
             0.4444444444444444,
             "#bd3786"
            ],
            [
             0.5555555555555556,
             "#d8576b"
            ],
            [
             0.6666666666666666,
             "#ed7953"
            ],
            [
             0.7777777777777778,
             "#fb9f3a"
            ],
            [
             0.8888888888888888,
             "#fdca26"
            ],
            [
             1,
             "#f0f921"
            ]
           ]
          },
          "colorway": [
           "#636efa",
           "#EF553B",
           "#00cc96",
           "#ab63fa",
           "#FFA15A",
           "#19d3f3",
           "#FF6692",
           "#B6E880",
           "#FF97FF",
           "#FECB52"
          ],
          "font": {
           "color": "#2a3f5f"
          },
          "geo": {
           "bgcolor": "white",
           "lakecolor": "white",
           "landcolor": "#E5ECF6",
           "showlakes": true,
           "showland": true,
           "subunitcolor": "white"
          },
          "hoverlabel": {
           "align": "left"
          },
          "hovermode": "closest",
          "mapbox": {
           "style": "light"
          },
          "paper_bgcolor": "white",
          "plot_bgcolor": "#E5ECF6",
          "polar": {
           "angularaxis": {
            "gridcolor": "white",
            "linecolor": "white",
            "ticks": ""
           },
           "bgcolor": "#E5ECF6",
           "radialaxis": {
            "gridcolor": "white",
            "linecolor": "white",
            "ticks": ""
           }
          },
          "scene": {
           "xaxis": {
            "backgroundcolor": "#E5ECF6",
            "gridcolor": "white",
            "gridwidth": 2,
            "linecolor": "white",
            "showbackground": true,
            "ticks": "",
            "zerolinecolor": "white"
           },
           "yaxis": {
            "backgroundcolor": "#E5ECF6",
            "gridcolor": "white",
            "gridwidth": 2,
            "linecolor": "white",
            "showbackground": true,
            "ticks": "",
            "zerolinecolor": "white"
           },
           "zaxis": {
            "backgroundcolor": "#E5ECF6",
            "gridcolor": "white",
            "gridwidth": 2,
            "linecolor": "white",
            "showbackground": true,
            "ticks": "",
            "zerolinecolor": "white"
           }
          },
          "shapedefaults": {
           "line": {
            "color": "#2a3f5f"
           }
          },
          "ternary": {
           "aaxis": {
            "gridcolor": "white",
            "linecolor": "white",
            "ticks": ""
           },
           "baxis": {
            "gridcolor": "white",
            "linecolor": "white",
            "ticks": ""
           },
           "bgcolor": "#E5ECF6",
           "caxis": {
            "gridcolor": "white",
            "linecolor": "white",
            "ticks": ""
           }
          },
          "title": {
           "x": 0.05
          },
          "xaxis": {
           "automargin": true,
           "gridcolor": "white",
           "linecolor": "white",
           "ticks": "",
           "title": {
            "standoff": 15
           },
           "zerolinecolor": "white",
           "zerolinewidth": 2
          },
          "yaxis": {
           "automargin": true,
           "gridcolor": "white",
           "linecolor": "white",
           "ticks": "",
           "title": {
            "standoff": 15
           },
           "zerolinecolor": "white",
           "zerolinewidth": 2
          }
         }
        },
        "title": {
         "text": "Análisis de ingredientes objetivos FooDB: TSNE con filtro OT."
        },
        "xaxis": {
         "anchor": "y",
         "domain": [
          0,
          1
         ],
         "title": {
          "text": "x1"
         }
        },
        "yaxis": {
         "anchor": "x",
         "domain": [
          0,
          1
         ],
         "title": {
          "text": "x2"
         }
        }
       }
      },
      "text/html": [
       "<div>                            <div id=\"02b88f05-1774-4040-9a18-e23e863ad114\" class=\"plotly-graph-div\" style=\"height:525px; width:100%;\"></div>            <script type=\"text/javascript\">                require([\"plotly\"], function(Plotly) {                    window.PLOTLYENV=window.PLOTLYENV || {};                                    if (document.getElementById(\"02b88f05-1774-4040-9a18-e23e863ad114\")) {                    Plotly.newPlot(                        \"02b88f05-1774-4040-9a18-e23e863ad114\",                        [{\"customdata\":[[\"date, dried\",0],[\"cereals, farina, unenriched, dry\",0],[\"corn, dried, yellow (northern plains indians)\",0],[\"nuts, ginkgo nuts, dried\",0],[\"seeds, safflower seed kernels, dried\",0],[\"cornmeal, yellow (navajo)\",0],[\"fig, dried\",0],[\"spices, fenugreek seed\",0],[\"seeds, sunflower seed flour, partially defatted\",0],[\"cereals, corn grits, white, regular and quick, unenriched, dry\",0],[\"tapioca, pearl, dry\",0],[\"beans, white, dried\",0],[\"lentils, dried\",0],[\"rye flour, dark, whole meal\",0],[\"beans, brown, dried\",0],[\"nuts, pine nuts, pinyon, dried\",0],[\"nuts, pilinuts, dried\",0],[\"longans, dried\",0],[\"prune, dried plum\",0],[\"seeds, cottonseed flour, low fat (glandless)\",0],[\"seeds, watermelon seed kernels, dried\",0],[\"seeds, sesame flour, partially defatted\",0],[\"buckwheat flour\",0],[\"millet flour\",0],[\"nut, hazel (uk), filbert (usa), dried\",0],[\"nuts, coconut meat, dried (desiccated), toasted\",0],[\"wheat flour\",0],[\"yeast, dried\",0],[\"beans, soy, dried\",0],[\"nuts, acorn flour, full fat\",0],[\"nuts, coconut meat, dried (desiccated), creamed\",0],[\"pine nuts, pignolias, dried\",0],[\"cereals, corn grits, white, regular and quick, unenriched, dry\",0],[\"cocoa, powder\",0],[\"pistachio nuts, dried\",0],[\"peppers, ancho, dried\",0],[\"cornstarch\",0],[\"potato flour\",0],[\"tomato powder\",0],[\"nuts, butternuts, dried\",0],[\"pecans, dried\",0],[\"wheat flour\",0],[\"cereals, corn grits, yellow, regular and quick, unenriched, dry\",0],[\"nuts, chestnuts, european, dried, unpeeled\",0],[\"seeds, sunflower seed kernels, toasted, without salt\",0],[\"cereals, corn grits, yellow, regular and quick, unenriched, dry\",0],[\"nuts, acorns, dried\",0],[\"nuts, chestnuts, japanese, dried\",0],[\"rice flour\",0],[\"spices, dill seed\",0],[\"barley malt flour\",0],[\"peanut flour, low fat\",0],[\"seeds, lotus seeds, dried\",0],[\"seeds, sesame flour, low-fat\",0],[\"soya flour, full fat\",0],[\"rice flour, brown\",0],[\"seeds, cottonseed flour, partially defatted (glandless)\",0],[\"corn flour\",0],[\"nut, pea, dried\",0],[\"sesame seeds, whole, dried\",0],[\"cornmeal, white (navajo)\",0],[\"soy flour, low-fat, crude protein basis (n x 6.25)\",0],[\"peach, dried\",0],[\"arrowroot flour\",0],[\"seeds, sesame flour, high-fat\",0],[\"spearmint, dried\",0],[\"nuts, beechnuts, dried\",0],[\"nuts, hickorynuts, dried\",0],[\"garlic, dried, powder\",0],[\"apple, dried\",0],[\"persimmons, japanese, dried\",0],[\"seeds, sesame meal, partially defatted\",0],[\"seeds, safflower seed meal, partially defatted\",0],[\"sesame seed, decorticated\",0],[\"nuts, chestnuts, chinese, dried\",0],[\"rice, white, long-grain, parboiled, unenriched, dry\",0],[\"nuts, chestnuts, european, dried, peeled\",0],[\"wheat, flour, wholemeal\",0],[\"triticale flour, whole-grain\",0],[\"tofu, dried-frozen (koyadofu)\",0],[\"seeds, chia seeds, dried\",0],[\"tomato, dried\",0],[\"rice, white, with pasta, dry\",0],[\"sorghum flour\",0],[\"spices, fennel seed\",0],[\"apricot, dried\",0],[\"seeds, sisymbrium sp. seeds, whole, dried\",0],[\"corn starch\",0],[\"baking powder\",0],[\"spices, allspice, ground\",0],[\"spices, anise seed\",0],[\"coriander, leaf, dried\",0],[\"spices, coriander seed\",0],[\"spices, saffron\",0],[\"spices, chervil, dried\",0],[\"wocas, dried seeds, oregon, yellow pond lily, nuphar lutea (or) - cy0617b\",0],[\"cornmeal, blue (navajo)\",0],[\"spices, mace, ground\",0],[\"chickpea flour (besan)\",0],[\"spices, pepper, white\",0],[\"leavening agents, baking powder, low-sodium\",0],[\"spices, tarragon, dried\",0],[\"leavening agents, baking powder, double-acting, straight phosphate\",0],[\"leavening agents, baking powder, double-acting, sodium aluminum sulfate\",0],[\"spices, bay leaf\",0],[\"seaweed, konbu, dried (kelp)\",0],[\"sunflower seeds, decorticated, dried\",0],[\"curry powder\",0],[\"jujube, dried\",0],[\"fungi, cloud ears, dried\",0],[\"spices, rosemary, dried\",0],[\"pepeao, dried\",0],[\"corn flour, degermed, unenriched, yellow\",0],[\"dill weed, dried\",0],[\"spices, dill weed, dried\",0],[\"rose hip, dried, powder\",0],[\"spices, savory, ground\",0],[\"corn flour, whole-grain, blue (harina de maiz morado)\",0],[\"fruit, mixed, (prune and apricot and pear), dried\",0],[\"cocoa, dry powder, unsweetened, hersheys european style cocoa\",0],[\"spices, cardamom\",0],[\"peppers, pasilla, dried\",0],[\"agave, dried (southwest)\",0],[\"corn, dried (navajo)\",0]],\"hovertemplate\":\"cluster=%{customdata[1]}<br>x1=%{x}<br>x2=%{y}<br>label=%{customdata[0]}<extra></extra>\",\"legendgroup\":\"0\",\"marker\":{\"color\":\"#636efa\",\"opacity\":0.5,\"size\":15,\"symbol\":\"circle\"},\"mode\":\"markers+text\",\"name\":\"0\",\"orientation\":\"v\",\"showlegend\":true,\"text\":[\"date, dried\",\"cereals, farina, unenriched, dry\",\"corn, dried, yellow (northern plains indians)\",\"nuts, ginkgo nuts, dried\",\"seeds, safflower seed kernels, dried\",\"cornmeal, yellow (navajo)\",\"fig, dried\",\"spices, fenugreek seed\",\"seeds, sunflower seed flour, partially defatted\",\"cereals, corn grits, white, regular and quick, unenriched, dry\",\"tapioca, pearl, dry\",\"beans, white, dried\",\"lentils, dried\",\"rye flour, dark, whole meal\",\"beans, brown, dried\",\"nuts, pine nuts, pinyon, dried\",\"nuts, pilinuts, dried\",\"longans, dried\",\"prune, dried plum\",\"seeds, cottonseed flour, low fat (glandless)\",\"seeds, watermelon seed kernels, dried\",\"seeds, sesame flour, partially defatted\",\"buckwheat flour\",\"millet flour\",\"nut, hazel (uk), filbert (usa), dried\",\"nuts, coconut meat, dried (desiccated), toasted\",\"wheat flour\",\"yeast, dried\",\"beans, soy, dried\",\"nuts, acorn flour, full fat\",\"nuts, coconut meat, dried (desiccated), creamed\",\"pine nuts, pignolias, dried\",\"cereals, corn grits, white, regular and quick, unenriched, dry\",\"cocoa, powder\",\"pistachio nuts, dried\",\"peppers, ancho, dried\",\"cornstarch\",\"potato flour\",\"tomato powder\",\"nuts, butternuts, dried\",\"pecans, dried\",\"wheat flour\",\"cereals, corn grits, yellow, regular and quick, unenriched, dry\",\"nuts, chestnuts, european, dried, unpeeled\",\"seeds, sunflower seed kernels, toasted, without salt\",\"cereals, corn grits, yellow, regular and quick, unenriched, dry\",\"nuts, acorns, dried\",\"nuts, chestnuts, japanese, dried\",\"rice flour\",\"spices, dill seed\",\"barley malt flour\",\"peanut flour, low fat\",\"seeds, lotus seeds, dried\",\"seeds, sesame flour, low-fat\",\"soya flour, full fat\",\"rice flour, brown\",\"seeds, cottonseed flour, partially defatted (glandless)\",\"corn flour\",\"nut, pea, dried\",\"sesame seeds, whole, dried\",\"cornmeal, white (navajo)\",\"soy flour, low-fat, crude protein basis (n x 6.25)\",\"peach, dried\",\"arrowroot flour\",\"seeds, sesame flour, high-fat\",\"spearmint, dried\",\"nuts, beechnuts, dried\",\"nuts, hickorynuts, dried\",\"garlic, dried, powder\",\"apple, dried\",\"persimmons, japanese, dried\",\"seeds, sesame meal, partially defatted\",\"seeds, safflower seed meal, partially defatted\",\"sesame seed, decorticated\",\"nuts, chestnuts, chinese, dried\",\"rice, white, long-grain, parboiled, unenriched, dry\",\"nuts, chestnuts, european, dried, peeled\",\"wheat, flour, wholemeal\",\"triticale flour, whole-grain\",\"tofu, dried-frozen (koyadofu)\",\"seeds, chia seeds, dried\",\"tomato, dried\",\"rice, white, with pasta, dry\",\"sorghum flour\",\"spices, fennel seed\",\"apricot, dried\",\"seeds, sisymbrium sp. seeds, whole, dried\",\"corn starch\",\"baking powder\",\"spices, allspice, ground\",\"spices, anise seed\",\"coriander, leaf, dried\",\"spices, coriander seed\",\"spices, saffron\",\"spices, chervil, dried\",\"wocas, dried seeds, oregon, yellow pond lily, nuphar lutea (or) - cy0617b\",\"cornmeal, blue (navajo)\",\"spices, mace, ground\",\"chickpea flour (besan)\",\"spices, pepper, white\",\"leavening agents, baking powder, low-sodium\",\"spices, tarragon, dried\",\"leavening agents, baking powder, double-acting, straight phosphate\",\"leavening agents, baking powder, double-acting, sodium aluminum sulfate\",\"spices, bay leaf\",\"seaweed, konbu, dried (kelp)\",\"sunflower seeds, decorticated, dried\",\"curry powder\",\"jujube, dried\",\"fungi, cloud ears, dried\",\"spices, rosemary, dried\",\"pepeao, dried\",\"corn flour, degermed, unenriched, yellow\",\"dill weed, dried\",\"spices, dill weed, dried\",\"rose hip, dried, powder\",\"spices, savory, ground\",\"corn flour, whole-grain, blue (harina de maiz morado)\",\"fruit, mixed, (prune and apricot and pear), dried\",\"cocoa, dry powder, unsweetened, hersheys european style cocoa\",\"spices, cardamom\",\"peppers, pasilla, dried\",\"agave, dried (southwest)\",\"corn, dried (navajo)\"],\"textfont\":{\"size\":7},\"textposition\":\"top center\",\"type\":\"scatter\",\"x\":[5.425152778625488,5.312218189239502,3.362053871154785,6.476919174194336,4.546672344207764,4.364547252655029,4.845409870147705,0.4527934193611145,16.56029510498047,15.322253227233887,8.289045333862305,4.982117652893066,2.911187171936035,-5.4561076164245605,10.030405044555664,2.477738618850708,13.169878005981445,-0.1275780200958252,19.78763198852539,-5.679810523986816,19.0095272064209,5.174921989440918,-0.04386790096759796,-10.566938400268555,-9.925667762756348,-5.956371784210205,9.321211814880371,7.262518405914307,1.8227040767669678,13.49824333190918,-0.23380687832832336,-3.115318775177002,-1.8201954364776611,-7.069591045379639,11.91829776763916,20.699798583984375,8.21437931060791,4.253236770629883,17.45758628845215,17.075082778930664,22.242294311523438,10.848185539245605,7.218898296356201,2.7982418537139893,6.817414283752441,18.751407623291016,2.3063974380493164,10.464765548706055,2.7744925022125244,5.572568416595459,4.095288276672363,5.9766459465026855,13.257284164428711,7.771550178527832,9.050857543945312,11.943880081176758,7.521839618682861,-8.925134658813477,6.14450740814209,3.4887335300445557,4.131898403167725,13.94835376739502,-12.074169158935547,-6.135639667510986,-0.7890318036079407,-7.652586936950684,8.093305587768555,-4.213685035705566,13.84373950958252,-11.877490997314453,5.235753536224365,10.404556274414062,12.883517265319824,-4.543888092041016,7.757958889007568,2.4939019680023193,-4.196539878845215,1.3259828090667725,-2.329005718231201,6.609760761260986,8.62997817993164,-8.250489234924316,-3.2575762271881104,-1.367596983909607,2.6324846744537354,13.756957054138184,17.45194435119629,-7.6362104415893555,0.0632837787270546,3.057854175567627,14.824878692626953,-0.1295151710510254,10.128825187683105,10.198904037475586,21.96017837524414,4.819406986236572,8.547955513000488,2.477449655532837,0.40776318311691284,12.237149238586426,8.08677864074707,9.921191215515137,6.322153568267822,10.608562469482422,-0.0537659153342247,-2.528038740158081,5.42798376083374,4.33862829208374,-2.618952512741089,6.089295864105225,4.801353931427002,-3.553476095199585,-3.235264539718628,0.4952099025249481,3.216526508331299,16.420549392700195,7.859145641326904,15.533628463745117,1.0046679973602295,-0.8241335153579712,11.070284843444824,12.377028465270996,9.551427841186523,5.656641960144043],\"xaxis\":\"x\",\"y\":[14.249074935913086,15.973203659057617,13.637107849121094,14.200392723083496,13.057896614074707,14.111173629760742,15.012116432189941,20.1429500579834,13.371658325195312,16.209672927856445,-3.093174457550049,22.202280044555664,4.928653717041016,16.11130714416504,30.698137283325195,12.005424499511719,24.271106719970703,3.3099138736724854,22.546039581298828,21.994678497314453,15.687761306762695,25.124570846557617,22.91303253173828,7.2657880783081055,22.44207000732422,7.420248031616211,20.044950485229492,21.38883399963379,15.700627326965332,13.705141067504883,15.855900764465332,24.46792984008789,11.194602966308594,26.027803421020508,11.59209156036377,7.144132614135742,-2.3521313667297363,11.187677383422852,3.4899981021881104,25.855241775512695,12.963950157165527,13.999212265014648,27.802650451660156,19.072219848632812,19.14952850341797,10.789669036865234,9.908987045288086,3.7536487579345703,1.2255247831344604,3.4460628032684326,-3.1272404193878174,0.18923892080783844,1.4259785413742065,5.192113876342773,0.9837716221809387,-2.229811668395996,12.687193870544434,15.106921195983887,15.267078399658203,14.863249778747559,15.775418281555176,18.71288299560547,12.412477493286133,13.116636276245117,13.687137603759766,18.853599548339844,10.65921401977539,1.2671939134597778,28.56719207763672,17.917831420898438,31.51772117614746,26.211423873901367,8.734843254089355,10.497682571411133,24.11407470703125,7.501391887664795,18.841018676757812,13.850772857666016,21.128753662109375,17.246126174926758,17.821041107177734,10.524848937988281,13.518096923828125,18.32467269897461,21.418533325195312,5.499594688415527,19.010236740112305,3.739389181137085,9.229446411132812,17.126914978027344,10.85539436340332,26.38190269470215,22.680736541748047,9.682311058044434,18.469648361206055,17.76677131652832,14.208885192871094,24.23204231262207,30.842193603515625,20.904315948486328,7.9720635414123535,16.0274658203125,9.48474407196045,6.903040885925293,6.428011894226074,8.231121063232422,6.857487678527832,9.072263717651367,16.076953887939453,11.50918197631836,19.801326751708984,28.719131469726562,5.0184550285339355,11.715872764587402,27.845869064331055,7.789809703826904,15.864274978637695,21.869197845458984,17.741561889648438,-0.9613577723503113,18.265527725219727,16.105411529541016,12.233384132385254,13.239768028259277],\"yaxis\":\"y\"},{\"customdata\":[[\"spices, mustard seed, ground\",1],[\"seeds, flaxseed\",1],[\"carrot, dehydrated\",1],[\"seeds, pumpkin and squash seed kernels, dried\",1],[\"seeds, pumpkin and squash seed kernels, dried\",1],[\"radishes, oriental, dried\",1],[\"spices, chili powder\",1],[\"peppers, hot chile, sun-dried\",1],[\"spices, garlic powder\",1],[\"tomatoes, sun-dried\",1],[\"peanut flour, defatted\",1],[\"seaweed, spirulina, dried\",1],[\"spices, parsley, dried\",1],[\"seeds, pumpkin and squash seed kernels, dried\",1],[\"soy flour, defatted, crude protein basis (n x 6.25)\",1],[\"mushrooms, shiitake, dried\",1],[\"spices, coriander leaf, dried\",1],[\"celery flakes, dried\",1],[\"soy flour, low-fat\",1],[\"seaweed, agar, dried\",1]],\"hovertemplate\":\"cluster=%{customdata[1]}<br>x1=%{x}<br>x2=%{y}<br>label=%{customdata[0]}<extra></extra>\",\"legendgroup\":\"1\",\"marker\":{\"color\":\"#EF553B\",\"opacity\":0.5,\"size\":15,\"symbol\":\"circle\"},\"mode\":\"markers+text\",\"name\":\"1\",\"orientation\":\"v\",\"showlegend\":true,\"text\":[\"spices, mustard seed, ground\",\"seeds, flaxseed\",\"carrot, dehydrated\",\"seeds, pumpkin and squash seed kernels, dried\",\"seeds, pumpkin and squash seed kernels, dried\",\"radishes, oriental, dried\",\"spices, chili powder\",\"peppers, hot chile, sun-dried\",\"spices, garlic powder\",\"tomatoes, sun-dried\",\"peanut flour, defatted\",\"seaweed, spirulina, dried\",\"spices, parsley, dried\",\"seeds, pumpkin and squash seed kernels, dried\",\"soy flour, defatted, crude protein basis (n x 6.25)\",\"mushrooms, shiitake, dried\",\"spices, coriander leaf, dried\",\"celery flakes, dried\",\"soy flour, low-fat\",\"seaweed, agar, dried\"],\"textfont\":{\"size\":7},\"textposition\":\"top center\",\"type\":\"scatter\",\"x\":[-45.78849411010742,-36.20309066772461,-34.54391098022461,-32.39756774902344,-31.70601463317871,-43.90563201904297,-32.9450798034668,-36.48883056640625,-32.24085235595703,-43.18283462524414,-43.683677673339844,-33.313541412353516,-41.55933380126953,-31.70601463317871,-51.50078582763672,-51.82480239868164,-41.57378387451172,-45.77558135986328,-51.389739990234375,-32.278011322021484],\"xaxis\":\"x\",\"y\":[72.77765655517578,65.50950622558594,64.16407775878906,59.54246520996094,59.74062728881836,71.40898895263672,63.58316421508789,65.73039245605469,64.07144927978516,70.880859375,71.24535369873047,63.00392150878906,69.69005584716797,59.74062728881836,76.52070617675781,76.81513214111328,69.69966888427734,72.76868438720703,76.87953186035156,60.44226837158203],\"yaxis\":\"y\"},{\"customdata\":[[\"nuts, brazilnuts, dried, unblanched\",2],[\"seeds, sunflower seed kernels, dried\",2],[\"soy flour, defatted\",2],[\"bananas, dehydrated, or banana powder\",2],[\"spices, basil, dried\",2],[\"carob flour\",2],[\"spices, paprika\",2],[\"buckwheat flour, whole-groat\",2],[\"nuts, pine nuts, dried\",2],[\"spices, caraway seed\",2],[\"cornmeal, whole-grain, yellow\",2],[\"spices, oregano, dried\",2],[\"seeds, sesame seed kernels, dried (decorticated)\",2],[\"rye flour, medium\",2],[\"cornmeal, whole-grain, white\",2],[\"onions, dehydrated flakes\",2],[\"seeds, sesame seeds, whole, dried\",2],[\"wheat flour, whole-grain\",2],[\"walnuts\",2],[\"bulgur, dry\",2],[\"barley flour or meal\",2],[\"nuts, walnuts, black, dried\",2],[\"rye flour, light\",2],[\"rye flour, dark\",2],[\"corn flour, whole-grain, white\",2],[\"corn flour, whole-grain, yellow\",2],[\"wheat flour, white, all-purpose, unenriched\",2],[\"leavening agents, yeast, bakers, active dry\",2],[\"litchis, dried\",2],[\"coffee, dry, powder, with whitener, reduced calorie\",2],[\"coffee, dry, powder, with whitener, reduced calorie\",2],[\"oat flour, partially debranned\",2],[\"spices, celery seed\",2],[\"wheat flour, whole-grain, soft wheat\",2],[\"coffee, dry, powder, with whitener, reduced calorie\",2],[\"coffee and cocoa (mocha) powder, with whitener and low calorie sweetener\",2],[\"coffee and cocoa (mocha) powder, with whitener and low calorie sweetener, decaffeinated\",2],[\"spices, turmeric, ground\",2],[\"spices, cumin seed\",2],[\"spices, curry powder\",2],[\"spices, pepper, red or cayenne\",2],[\"cereals, whole wheat hot natural cereal, dry\",2],[\"currants, zante, dried\",2]],\"hovertemplate\":\"cluster=%{customdata[1]}<br>x1=%{x}<br>x2=%{y}<br>label=%{customdata[0]}<extra></extra>\",\"legendgroup\":\"2\",\"marker\":{\"color\":\"#00cc96\",\"opacity\":0.5,\"size\":15,\"symbol\":\"circle\"},\"mode\":\"markers+text\",\"name\":\"2\",\"orientation\":\"v\",\"showlegend\":true,\"text\":[\"nuts, brazilnuts, dried, unblanched\",\"seeds, sunflower seed kernels, dried\",\"soy flour, defatted\",\"bananas, dehydrated, or banana powder\",\"spices, basil, dried\",\"carob flour\",\"spices, paprika\",\"buckwheat flour, whole-groat\",\"nuts, pine nuts, dried\",\"spices, caraway seed\",\"cornmeal, whole-grain, yellow\",\"spices, oregano, dried\",\"seeds, sesame seed kernels, dried (decorticated)\",\"rye flour, medium\",\"cornmeal, whole-grain, white\",\"onions, dehydrated flakes\",\"seeds, sesame seeds, whole, dried\",\"wheat flour, whole-grain\",\"walnuts\",\"bulgur, dry\",\"barley flour or meal\",\"nuts, walnuts, black, dried\",\"rye flour, light\",\"rye flour, dark\",\"corn flour, whole-grain, white\",\"corn flour, whole-grain, yellow\",\"wheat flour, white, all-purpose, unenriched\",\"leavening agents, yeast, bakers, active dry\",\"litchis, dried\",\"coffee, dry, powder, with whitener, reduced calorie\",\"coffee, dry, powder, with whitener, reduced calorie\",\"oat flour, partially debranned\",\"spices, celery seed\",\"wheat flour, whole-grain, soft wheat\",\"coffee, dry, powder, with whitener, reduced calorie\",\"coffee and cocoa (mocha) powder, with whitener and low calorie sweetener\",\"coffee and cocoa (mocha) powder, with whitener and low calorie sweetener, decaffeinated\",\"spices, turmeric, ground\",\"spices, cumin seed\",\"spices, curry powder\",\"spices, pepper, red or cayenne\",\"cereals, whole wheat hot natural cereal, dry\",\"currants, zante, dried\"],\"textfont\":{\"size\":7},\"textposition\":\"top center\",\"type\":\"scatter\",\"x\":[20.524599075317383,-0.2843499779701233,32.830543518066406,20.560691833496094,-2.9473965167999268,32.00886154174805,-4.238069534301758,-9.835489273071289,-10.419282913208008,30.682926177978516,11.975223541259766,14.60383129119873,29.18583106994629,20.648923873901367,11.975712776184082,-9.673681259155273,29.233327865600586,4.544145584106445,16.676921844482422,20.743324279785156,4.527286529541016,16.676921844482422,33.75395584106445,18.221208572387695,20.814237594604492,20.814237594604492,34.559513092041016,15.396842956542969,31.48663330078125,19.42378044128418,19.02790069580078,11.584010124206543,30.995574951171875,17.65239143371582,19.207115173339844,22.44929313659668,22.10146141052246,-4.074001312255859,30.995574951171875,-0.40037378668785095,-8.938660621643066,20.983016967773438,34.14946746826172],\"xaxis\":\"x\",\"y\":[-43.52606964111328,-49.33648681640625,-79.91867065429688,-65.76363372802734,-49.25429916381836,-79.35670471191406,-49.22213363647461,-49.51331329345703,-49.25541305541992,-47.18837356567383,-51.268192291259766,-46.70600128173828,-45.66716766357422,-65.14318084716797,-51.27240753173828,-49.099952697753906,-45.695457458496094,-49.59764862060547,-45.041255950927734,-43.46870803833008,-49.59653854370117,-45.041255950927734,-80.53082275390625,-44.29293441772461,-64.1041259765625,-64.1041259765625,-81.01268005371094,-46.009742736816406,-79.0108413696289,-74.96051025390625,-74.97211456298828,-49.83039855957031,-46.82006072998047,-44.53750991821289,-74.62335205078125,-71.74335479736328,-71.89132690429688,-49.22553634643555,-46.82006072998047,-49.3306884765625,-49.334373474121094,-62.98677062988281,-80.8952865600586],\"yaxis\":\"y\"},{\"customdata\":[[\"spices, pepper, black\",3],[\"cornmeal, degermed, unenriched, white\",3],[\"cornmeal, degermed, unenriched, yellow\",3],[\"corn flour, masa, unenriched, white\",3],[\"spices, cinnamon, ground\",3],[\"rice flour, white\",3],[\"spices, poppy seed\",3],[\"spices, nutmeg, ground\",3]],\"hovertemplate\":\"cluster=%{customdata[1]}<br>x1=%{x}<br>x2=%{y}<br>label=%{customdata[0]}<extra></extra>\",\"legendgroup\":\"3\",\"marker\":{\"color\":\"#ab63fa\",\"opacity\":0.5,\"size\":15,\"symbol\":\"circle\"},\"mode\":\"markers+text\",\"name\":\"3\",\"orientation\":\"v\",\"showlegend\":true,\"text\":[\"spices, pepper, black\",\"cornmeal, degermed, unenriched, white\",\"cornmeal, degermed, unenriched, yellow\",\"corn flour, masa, unenriched, white\",\"spices, cinnamon, ground\",\"rice flour, white\",\"spices, poppy seed\",\"spices, nutmeg, ground\"],\"textfont\":{\"size\":7},\"textposition\":\"top center\",\"type\":\"scatter\",\"x\":[62.25168991088867,65.26758575439453,65.26758575439453,67.47000122070312,63.180782318115234,68.32157135009766,64.72068786621094,67.27113342285156],\"xaxis\":\"x\",\"y\":[-94.01290130615234,-93.59321594238281,-93.59321594238281,-93.56436920166016,-93.92184448242188,-92.71174621582031,-93.76165771484375,-93.8475570678711],\"yaxis\":\"y\"},{\"customdata\":[[\"spices, onion powder\",4],[\"spices, cloves, ground\",4],[\"spices, ginger, ground\",4],[\"cereals, oats, regular and quick, not fortified, dry\",4],[\"spices, thyme, dried\",4],[\"spices, sage, ground\",4],[\"spices, marjoram, dried\",4]],\"hovertemplate\":\"cluster=%{customdata[1]}<br>x1=%{x}<br>x2=%{y}<br>label=%{customdata[0]}<extra></extra>\",\"legendgroup\":\"4\",\"marker\":{\"color\":\"#FFA15A\",\"opacity\":0.5,\"size\":15,\"symbol\":\"circle\"},\"mode\":\"markers+text\",\"name\":\"4\",\"orientation\":\"v\",\"showlegend\":true,\"text\":[\"spices, onion powder\",\"spices, cloves, ground\",\"spices, ginger, ground\",\"cereals, oats, regular and quick, not fortified, dry\",\"spices, thyme, dried\",\"spices, sage, ground\",\"spices, marjoram, dried\"],\"textfont\":{\"size\":7},\"textposition\":\"top center\",\"type\":\"scatter\",\"x\":[-64.4498519897461,-65.08720397949219,-63.33789825439453,-63.91870880126953,-60.54524230957031,-60.104103088378906,-60.383487701416016],\"xaxis\":\"x\",\"y\":[14.218169212341309,14.01700496673584,15.125446319580078,14.372623443603516,13.391969680786133,13.482877731323242,13.843463897705078],\"yaxis\":\"y\"},{\"customdata\":[[\"cocoa, dry powder, unsweetened, processed with alkali\",-1],[\"cocoa, dry powder, unsweetened\",-1],[\"cocoa, dry powder, hi-fat or breakfast, plain\",-1],[\"cocoa, dry powder, hi-fat or breakfast, processed with alkali\",-1]],\"hovertemplate\":\"cluster=%{customdata[1]}<br>x1=%{x}<br>x2=%{y}<br>label=%{customdata[0]}<extra></extra>\",\"legendgroup\":\"-1\",\"marker\":{\"color\":\"#19d3f3\",\"opacity\":0.5,\"size\":15,\"symbol\":\"circle\"},\"mode\":\"markers+text\",\"name\":\"-1\",\"orientation\":\"v\",\"showlegend\":true,\"text\":[\"cocoa, dry powder, unsweetened, processed with alkali\",\"cocoa, dry powder, unsweetened\",\"cocoa, dry powder, hi-fat or breakfast, plain\",\"cocoa, dry powder, hi-fat or breakfast, processed with alkali\"],\"textfont\":{\"size\":7},\"textposition\":\"top center\",\"type\":\"scatter\",\"x\":[-61.005767822265625,-60.04511260986328,-59.69057083129883,-60.62650680541992],\"xaxis\":\"x\",\"y\":[-36.24009323120117,-36.40419387817383,-36.47941207885742,-35.95328140258789],\"yaxis\":\"y\"}],                        {\"legend\":{\"title\":{\"text\":\"cluster\"},\"tracegroupgap\":0},\"margin\":{\"t\":60},\"template\":{\"data\":{\"bar\":[{\"error_x\":{\"color\":\"#2a3f5f\"},\"error_y\":{\"color\":\"#2a3f5f\"},\"marker\":{\"line\":{\"color\":\"#E5ECF6\",\"width\":0.5},\"pattern\":{\"fillmode\":\"overlay\",\"size\":10,\"solidity\":0.2}},\"type\":\"bar\"}],\"barpolar\":[{\"marker\":{\"line\":{\"color\":\"#E5ECF6\",\"width\":0.5},\"pattern\":{\"fillmode\":\"overlay\",\"size\":10,\"solidity\":0.2}},\"type\":\"barpolar\"}],\"carpet\":[{\"aaxis\":{\"endlinecolor\":\"#2a3f5f\",\"gridcolor\":\"white\",\"linecolor\":\"white\",\"minorgridcolor\":\"white\",\"startlinecolor\":\"#2a3f5f\"},\"baxis\":{\"endlinecolor\":\"#2a3f5f\",\"gridcolor\":\"white\",\"linecolor\":\"white\",\"minorgridcolor\":\"white\",\"startlinecolor\":\"#2a3f5f\"},\"type\":\"carpet\"}],\"choropleth\":[{\"colorbar\":{\"outlinewidth\":0,\"ticks\":\"\"},\"type\":\"choropleth\"}],\"contour\":[{\"colorbar\":{\"outlinewidth\":0,\"ticks\":\"\"},\"colorscale\":[[0.0,\"#0d0887\"],[0.1111111111111111,\"#46039f\"],[0.2222222222222222,\"#7201a8\"],[0.3333333333333333,\"#9c179e\"],[0.4444444444444444,\"#bd3786\"],[0.5555555555555556,\"#d8576b\"],[0.6666666666666666,\"#ed7953\"],[0.7777777777777778,\"#fb9f3a\"],[0.8888888888888888,\"#fdca26\"],[1.0,\"#f0f921\"]],\"type\":\"contour\"}],\"contourcarpet\":[{\"colorbar\":{\"outlinewidth\":0,\"ticks\":\"\"},\"type\":\"contourcarpet\"}],\"heatmap\":[{\"colorbar\":{\"outlinewidth\":0,\"ticks\":\"\"},\"colorscale\":[[0.0,\"#0d0887\"],[0.1111111111111111,\"#46039f\"],[0.2222222222222222,\"#7201a8\"],[0.3333333333333333,\"#9c179e\"],[0.4444444444444444,\"#bd3786\"],[0.5555555555555556,\"#d8576b\"],[0.6666666666666666,\"#ed7953\"],[0.7777777777777778,\"#fb9f3a\"],[0.8888888888888888,\"#fdca26\"],[1.0,\"#f0f921\"]],\"type\":\"heatmap\"}],\"heatmapgl\":[{\"colorbar\":{\"outlinewidth\":0,\"ticks\":\"\"},\"colorscale\":[[0.0,\"#0d0887\"],[0.1111111111111111,\"#46039f\"],[0.2222222222222222,\"#7201a8\"],[0.3333333333333333,\"#9c179e\"],[0.4444444444444444,\"#bd3786\"],[0.5555555555555556,\"#d8576b\"],[0.6666666666666666,\"#ed7953\"],[0.7777777777777778,\"#fb9f3a\"],[0.8888888888888888,\"#fdca26\"],[1.0,\"#f0f921\"]],\"type\":\"heatmapgl\"}],\"histogram\":[{\"marker\":{\"pattern\":{\"fillmode\":\"overlay\",\"size\":10,\"solidity\":0.2}},\"type\":\"histogram\"}],\"histogram2d\":[{\"colorbar\":{\"outlinewidth\":0,\"ticks\":\"\"},\"colorscale\":[[0.0,\"#0d0887\"],[0.1111111111111111,\"#46039f\"],[0.2222222222222222,\"#7201a8\"],[0.3333333333333333,\"#9c179e\"],[0.4444444444444444,\"#bd3786\"],[0.5555555555555556,\"#d8576b\"],[0.6666666666666666,\"#ed7953\"],[0.7777777777777778,\"#fb9f3a\"],[0.8888888888888888,\"#fdca26\"],[1.0,\"#f0f921\"]],\"type\":\"histogram2d\"}],\"histogram2dcontour\":[{\"colorbar\":{\"outlinewidth\":0,\"ticks\":\"\"},\"colorscale\":[[0.0,\"#0d0887\"],[0.1111111111111111,\"#46039f\"],[0.2222222222222222,\"#7201a8\"],[0.3333333333333333,\"#9c179e\"],[0.4444444444444444,\"#bd3786\"],[0.5555555555555556,\"#d8576b\"],[0.6666666666666666,\"#ed7953\"],[0.7777777777777778,\"#fb9f3a\"],[0.8888888888888888,\"#fdca26\"],[1.0,\"#f0f921\"]],\"type\":\"histogram2dcontour\"}],\"mesh3d\":[{\"colorbar\":{\"outlinewidth\":0,\"ticks\":\"\"},\"type\":\"mesh3d\"}],\"parcoords\":[{\"line\":{\"colorbar\":{\"outlinewidth\":0,\"ticks\":\"\"}},\"type\":\"parcoords\"}],\"pie\":[{\"automargin\":true,\"type\":\"pie\"}],\"scatter\":[{\"marker\":{\"colorbar\":{\"outlinewidth\":0,\"ticks\":\"\"}},\"type\":\"scatter\"}],\"scatter3d\":[{\"line\":{\"colorbar\":{\"outlinewidth\":0,\"ticks\":\"\"}},\"marker\":{\"colorbar\":{\"outlinewidth\":0,\"ticks\":\"\"}},\"type\":\"scatter3d\"}],\"scattercarpet\":[{\"marker\":{\"colorbar\":{\"outlinewidth\":0,\"ticks\":\"\"}},\"type\":\"scattercarpet\"}],\"scattergeo\":[{\"marker\":{\"colorbar\":{\"outlinewidth\":0,\"ticks\":\"\"}},\"type\":\"scattergeo\"}],\"scattergl\":[{\"marker\":{\"colorbar\":{\"outlinewidth\":0,\"ticks\":\"\"}},\"type\":\"scattergl\"}],\"scattermapbox\":[{\"marker\":{\"colorbar\":{\"outlinewidth\":0,\"ticks\":\"\"}},\"type\":\"scattermapbox\"}],\"scatterpolar\":[{\"marker\":{\"colorbar\":{\"outlinewidth\":0,\"ticks\":\"\"}},\"type\":\"scatterpolar\"}],\"scatterpolargl\":[{\"marker\":{\"colorbar\":{\"outlinewidth\":0,\"ticks\":\"\"}},\"type\":\"scatterpolargl\"}],\"scatterternary\":[{\"marker\":{\"colorbar\":{\"outlinewidth\":0,\"ticks\":\"\"}},\"type\":\"scatterternary\"}],\"surface\":[{\"colorbar\":{\"outlinewidth\":0,\"ticks\":\"\"},\"colorscale\":[[0.0,\"#0d0887\"],[0.1111111111111111,\"#46039f\"],[0.2222222222222222,\"#7201a8\"],[0.3333333333333333,\"#9c179e\"],[0.4444444444444444,\"#bd3786\"],[0.5555555555555556,\"#d8576b\"],[0.6666666666666666,\"#ed7953\"],[0.7777777777777778,\"#fb9f3a\"],[0.8888888888888888,\"#fdca26\"],[1.0,\"#f0f921\"]],\"type\":\"surface\"}],\"table\":[{\"cells\":{\"fill\":{\"color\":\"#EBF0F8\"},\"line\":{\"color\":\"white\"}},\"header\":{\"fill\":{\"color\":\"#C8D4E3\"},\"line\":{\"color\":\"white\"}},\"type\":\"table\"}]},\"layout\":{\"annotationdefaults\":{\"arrowcolor\":\"#2a3f5f\",\"arrowhead\":0,\"arrowwidth\":1},\"autotypenumbers\":\"strict\",\"coloraxis\":{\"colorbar\":{\"outlinewidth\":0,\"ticks\":\"\"}},\"colorscale\":{\"diverging\":[[0,\"#8e0152\"],[0.1,\"#c51b7d\"],[0.2,\"#de77ae\"],[0.3,\"#f1b6da\"],[0.4,\"#fde0ef\"],[0.5,\"#f7f7f7\"],[0.6,\"#e6f5d0\"],[0.7,\"#b8e186\"],[0.8,\"#7fbc41\"],[0.9,\"#4d9221\"],[1,\"#276419\"]],\"sequential\":[[0.0,\"#0d0887\"],[0.1111111111111111,\"#46039f\"],[0.2222222222222222,\"#7201a8\"],[0.3333333333333333,\"#9c179e\"],[0.4444444444444444,\"#bd3786\"],[0.5555555555555556,\"#d8576b\"],[0.6666666666666666,\"#ed7953\"],[0.7777777777777778,\"#fb9f3a\"],[0.8888888888888888,\"#fdca26\"],[1.0,\"#f0f921\"]],\"sequentialminus\":[[0.0,\"#0d0887\"],[0.1111111111111111,\"#46039f\"],[0.2222222222222222,\"#7201a8\"],[0.3333333333333333,\"#9c179e\"],[0.4444444444444444,\"#bd3786\"],[0.5555555555555556,\"#d8576b\"],[0.6666666666666666,\"#ed7953\"],[0.7777777777777778,\"#fb9f3a\"],[0.8888888888888888,\"#fdca26\"],[1.0,\"#f0f921\"]]},\"colorway\":[\"#636efa\",\"#EF553B\",\"#00cc96\",\"#ab63fa\",\"#FFA15A\",\"#19d3f3\",\"#FF6692\",\"#B6E880\",\"#FF97FF\",\"#FECB52\"],\"font\":{\"color\":\"#2a3f5f\"},\"geo\":{\"bgcolor\":\"white\",\"lakecolor\":\"white\",\"landcolor\":\"#E5ECF6\",\"showlakes\":true,\"showland\":true,\"subunitcolor\":\"white\"},\"hoverlabel\":{\"align\":\"left\"},\"hovermode\":\"closest\",\"mapbox\":{\"style\":\"light\"},\"paper_bgcolor\":\"white\",\"plot_bgcolor\":\"#E5ECF6\",\"polar\":{\"angularaxis\":{\"gridcolor\":\"white\",\"linecolor\":\"white\",\"ticks\":\"\"},\"bgcolor\":\"#E5ECF6\",\"radialaxis\":{\"gridcolor\":\"white\",\"linecolor\":\"white\",\"ticks\":\"\"}},\"scene\":{\"xaxis\":{\"backgroundcolor\":\"#E5ECF6\",\"gridcolor\":\"white\",\"gridwidth\":2,\"linecolor\":\"white\",\"showbackground\":true,\"ticks\":\"\",\"zerolinecolor\":\"white\"},\"yaxis\":{\"backgroundcolor\":\"#E5ECF6\",\"gridcolor\":\"white\",\"gridwidth\":2,\"linecolor\":\"white\",\"showbackground\":true,\"ticks\":\"\",\"zerolinecolor\":\"white\"},\"zaxis\":{\"backgroundcolor\":\"#E5ECF6\",\"gridcolor\":\"white\",\"gridwidth\":2,\"linecolor\":\"white\",\"showbackground\":true,\"ticks\":\"\",\"zerolinecolor\":\"white\"}},\"shapedefaults\":{\"line\":{\"color\":\"#2a3f5f\"}},\"ternary\":{\"aaxis\":{\"gridcolor\":\"white\",\"linecolor\":\"white\",\"ticks\":\"\"},\"baxis\":{\"gridcolor\":\"white\",\"linecolor\":\"white\",\"ticks\":\"\"},\"bgcolor\":\"#E5ECF6\",\"caxis\":{\"gridcolor\":\"white\",\"linecolor\":\"white\",\"ticks\":\"\"}},\"title\":{\"x\":0.05},\"xaxis\":{\"automargin\":true,\"gridcolor\":\"white\",\"linecolor\":\"white\",\"ticks\":\"\",\"title\":{\"standoff\":15},\"zerolinecolor\":\"white\",\"zerolinewidth\":2},\"yaxis\":{\"automargin\":true,\"gridcolor\":\"white\",\"linecolor\":\"white\",\"ticks\":\"\",\"title\":{\"standoff\":15},\"zerolinecolor\":\"white\",\"zerolinewidth\":2}}},\"title\":{\"text\":\"An\\u00e1lisis de ingredientes objetivos FooDB: TSNE con filtro OT.\"},\"xaxis\":{\"anchor\":\"y\",\"domain\":[0.0,1.0],\"title\":{\"text\":\"x1\"}},\"yaxis\":{\"anchor\":\"x\",\"domain\":[0.0,1.0],\"title\":{\"text\":\"x2\"}}},                        {\"responsive\": true}                    ).then(function(){\n",
       "                            \n",
       "var gd = document.getElementById('02b88f05-1774-4040-9a18-e23e863ad114');\n",
       "var x = new MutationObserver(function (mutations, observer) {{\n",
       "        var display = window.getComputedStyle(gd).display;\n",
       "        if (!display || display === 'none') {{\n",
       "            console.log([gd, 'removed!']);\n",
       "            Plotly.purge(gd);\n",
       "            observer.disconnect();\n",
       "        }}\n",
       "}});\n",
       "\n",
       "// Listen for the removal of the full notebook cells\n",
       "var notebookContainer = gd.closest('#notebook-container');\n",
       "if (notebookContainer) {{\n",
       "    x.observe(notebookContainer, {childList: true});\n",
       "}}\n",
       "\n",
       "// Listen for the clearing of the current output cell\n",
       "var outputEl = gd.closest('.output');\n",
       "if (outputEl) {{\n",
       "    x.observe(outputEl, {childList: true});\n",
       "}}\n",
       "\n",
       "                        })                };                });            </script>        </div>"
      ]
     },
     "metadata": {},
     "output_type": "display_data"
    },
    {
     "name": "stdout",
     "output_type": "stream",
     "text": [
      "Getting T-SNE from group V...\n"
     ]
    },
    {
     "data": {
      "application/vnd.plotly.v1+json": {
       "config": {
        "plotlyServerURL": "https://plot.ly"
       },
       "data": [
        {
         "customdata": [
          [
           "date, dried",
           0
          ],
          [
           "spices, mustard seed, ground",
           0
          ],
          [
           "spices, fenugreek seed",
           0
          ],
          [
           "carrot, dehydrated",
           0
          ],
          [
           "bananas, dehydrated, or banana powder",
           0
          ],
          [
           "prune, dried plum",
           0
          ],
          [
           "nut, hazel (uk), filbert (usa), dried",
           0
          ],
          [
           "pistachio nuts, dried",
           0
          ],
          [
           "nuts, butternuts, dried",
           0
          ],
          [
           "nuts, chestnuts, european, dried, unpeeled",
           0
          ],
          [
           "peach, dried",
           0
          ],
          [
           "seaweed, spirulina, dried",
           0
          ],
          [
           "nuts, beechnuts, dried",
           0
          ],
          [
           "garlic, dried, powder",
           0
          ],
          [
           "apple, dried",
           0
          ],
          [
           "spices, cinnamon, ground",
           0
          ],
          [
           "nuts, chestnuts, european, dried, peeled",
           0
          ],
          [
           "spices, nutmeg, ground",
           0
          ],
          [
           "spices, celery seed",
           0
          ],
          [
           "spices, cumin seed",
           0
          ],
          [
           "curry powder",
           0
          ],
          [
           "spices, curry powder",
           0
          ],
          [
           "jujube, dried",
           0
          ],
          [
           "fruit, mixed, (prune and apricot and pear), dried",
           0
          ],
          [
           "currants, zante, dried",
           0
          ],
          [
           "peppers, pasilla, dried",
           0
          ]
         ],
         "hovertemplate": "cluster=%{customdata[1]}<br>x1=%{x}<br>x2=%{y}<br>label=%{customdata[0]}<extra></extra>",
         "legendgroup": "0",
         "marker": {
          "color": "#636efa",
          "opacity": 0.5,
          "size": 15,
          "symbol": "circle"
         },
         "mode": "markers+text",
         "name": "0",
         "orientation": "v",
         "showlegend": true,
         "text": [
          "date, dried",
          "spices, mustard seed, ground",
          "spices, fenugreek seed",
          "carrot, dehydrated",
          "bananas, dehydrated, or banana powder",
          "prune, dried plum",
          "nut, hazel (uk), filbert (usa), dried",
          "pistachio nuts, dried",
          "nuts, butternuts, dried",
          "nuts, chestnuts, european, dried, unpeeled",
          "peach, dried",
          "seaweed, spirulina, dried",
          "nuts, beechnuts, dried",
          "garlic, dried, powder",
          "apple, dried",
          "spices, cinnamon, ground",
          "nuts, chestnuts, european, dried, peeled",
          "spices, nutmeg, ground",
          "spices, celery seed",
          "spices, cumin seed",
          "curry powder",
          "spices, curry powder",
          "jujube, dried",
          "fruit, mixed, (prune and apricot and pear), dried",
          "currants, zante, dried",
          "peppers, pasilla, dried"
         ],
         "textfont": {
          "size": 7
         },
         "textposition": "top center",
         "type": "scatter",
         "x": [
          -10.399383544921875,
          22.72652244567871,
          -6.8586344718933105,
          45.66542053222656,
          21.45875358581543,
          0.6122615337371826,
          21.859411239624023,
          3.743023157119751,
          -9.360217094421387,
          47.222633361816406,
          3.0967211723327637,
          28.198549270629883,
          48.746063232421875,
          -3.8697004318237305,
          2.12204909324646,
          -0.2279592752456665,
          47.541351318359375,
          -5.7092437744140625,
          50.82929229736328,
          22.672061920166016,
          32.01387405395508,
          32.113460540771484,
          33.79042053222656,
          -0.8490328788757324,
          3.2572262287139893,
          4.101727485656738
         ],
         "xaxis": "x",
         "y": [
          67.0788345336914,
          51.0804328918457,
          65.70508575439453,
          48.5235595703125,
          52.10968017578125,
          60.80912780761719,
          49.2110481262207,
          53.36982345581055,
          66.69840240478516,
          49.42716979980469,
          56.63270568847656,
          50.36275863647461,
          48.91434860229492,
          63.98854446411133,
          63.09928512573242,
          62.283775329589844,
          47.87480545043945,
          65.05522918701172,
          48.82760238647461,
          52.71338653564453,
          49.480857849121094,
          50.58063507080078,
          49.85967254638672,
          61.103981018066406,
          55.54378128051758,
          51.10032653808594
         ],
         "yaxis": "y"
        },
        {
         "customdata": [
          [
           "cereals, farina, unenriched, dry",
           1
          ],
          [
           "cereals, corn grits, white, regular and quick, unenriched, dry",
           1
          ],
          [
           "carob flour",
           1
          ],
          [
           "seeds, watermelon seed kernels, dried",
           1
          ],
          [
           "cornmeal, degermed, unenriched, white",
           1
          ],
          [
           "cereals, corn grits, white, regular and quick, unenriched, dry",
           1
          ],
          [
           "cocoa, powder",
           1
          ],
          [
           "cocoa, dry powder, unsweetened, processed with alkali",
           1
          ],
          [
           "cornmeal, degermed, unenriched, yellow",
           1
          ],
          [
           "cereals, corn grits, yellow, regular and quick, unenriched, dry",
           1
          ],
          [
           "cocoa, dry powder, unsweetened",
           1
          ],
          [
           "cereals, corn grits, yellow, regular and quick, unenriched, dry",
           1
          ],
          [
           "wheat flour, white, all-purpose, unenriched",
           1
          ],
          [
           "coffee and cocoa (mocha) powder, with whitener and low calorie sweetener",
           1
          ],
          [
           "coffee and cocoa (mocha) powder, with whitener and low calorie sweetener, decaffeinated",
           1
          ],
          [
           "seaweed, konbu, dried (kelp)",
           1
          ],
          [
           "fungi, cloud ears, dried",
           1
          ],
          [
           "corn flour, degermed, unenriched, yellow",
           1
          ],
          [
           "cocoa, dry powder, hi-fat or breakfast, plain",
           1
          ],
          [
           "cocoa, dry powder, hi-fat or breakfast, processed with alkali",
           1
          ],
          [
           "agave, dried (southwest)",
           1
          ]
         ],
         "hovertemplate": "cluster=%{customdata[1]}<br>x1=%{x}<br>x2=%{y}<br>label=%{customdata[0]}<extra></extra>",
         "legendgroup": "1",
         "marker": {
          "color": "#EF553B",
          "opacity": 0.5,
          "size": 15,
          "symbol": "circle"
         },
         "mode": "markers+text",
         "name": "1",
         "orientation": "v",
         "showlegend": true,
         "text": [
          "cereals, farina, unenriched, dry",
          "cereals, corn grits, white, regular and quick, unenriched, dry",
          "carob flour",
          "seeds, watermelon seed kernels, dried",
          "cornmeal, degermed, unenriched, white",
          "cereals, corn grits, white, regular and quick, unenriched, dry",
          "cocoa, powder",
          "cocoa, dry powder, unsweetened, processed with alkali",
          "cornmeal, degermed, unenriched, yellow",
          "cereals, corn grits, yellow, regular and quick, unenriched, dry",
          "cocoa, dry powder, unsweetened",
          "cereals, corn grits, yellow, regular and quick, unenriched, dry",
          "wheat flour, white, all-purpose, unenriched",
          "coffee and cocoa (mocha) powder, with whitener and low calorie sweetener",
          "coffee and cocoa (mocha) powder, with whitener and low calorie sweetener, decaffeinated",
          "seaweed, konbu, dried (kelp)",
          "fungi, cloud ears, dried",
          "corn flour, degermed, unenriched, yellow",
          "cocoa, dry powder, hi-fat or breakfast, plain",
          "cocoa, dry powder, hi-fat or breakfast, processed with alkali",
          "agave, dried (southwest)"
         ],
         "textfont": {
          "size": 7
         },
         "textposition": "top center",
         "type": "scatter",
         "x": [
          50.01883316040039,
          55.148231506347656,
          37.1402473449707,
          48.36821365356445,
          51.36668014526367,
          56.04410934448242,
          27.865177154541016,
          43.835323333740234,
          50.49938201904297,
          56.491546630859375,
          46.34716796875,
          57.38475799560547,
          50.758201599121094,
          24.385343551635742,
          24.246196746826172,
          30.667524337768555,
          41.67733383178711,
          26.524465560913086,
          34.00849533081055,
          34.393653869628906,
          38.46114730834961
         ],
         "xaxis": "x",
         "y": [
          114.46427154541016,
          108.82198333740234,
          120.22418212890625,
          116.2434310913086,
          121.07431030273438,
          110.16472625732422,
          124.24403381347656,
          118.19471740722656,
          121.5056381225586,
          107.93663024902344,
          117.52582550048828,
          109.28067016601562,
          113.6869888305664,
          124.58483123779297,
          125.51654052734375,
          122.97736358642578,
          118.64508056640625,
          125.52613830566406,
          121.10350799560547,
          121.98193359375,
          119.71971893310547
         ],
         "yaxis": "y"
        },
        {
         "customdata": [
          [
           "corn, dried, yellow (northern plains indians)",
           2
          ],
          [
           "seeds, safflower seed kernels, dried",
           2
          ],
          [
           "cornmeal, yellow (navajo)",
           2
          ],
          [
           "seeds, flaxseed",
           2
          ],
          [
           "seeds, sunflower seed flour, partially defatted",
           2
          ],
          [
           "nuts, brazilnuts, dried, unblanched",
           2
          ],
          [
           "seeds, sunflower seed kernels, dried",
           2
          ],
          [
           "soy flour, defatted",
           2
          ],
          [
           "spices, pepper, black",
           2
          ],
          [
           "lentils, dried",
           2
          ],
          [
           "spices, basil, dried",
           2
          ],
          [
           "nuts, pine nuts, pinyon, dried",
           2
          ],
          [
           "nuts, pilinuts, dried",
           2
          ],
          [
           "seeds, cottonseed flour, low fat (glandless)",
           2
          ],
          [
           "seeds, sesame flour, partially defatted",
           2
          ],
          [
           "buckwheat flour",
           2
          ],
          [
           "spices, paprika",
           2
          ],
          [
           "millet flour",
           2
          ],
          [
           "buckwheat flour, whole-groat",
           2
          ],
          [
           "radishes, oriental, dried",
           2
          ],
          [
           "wheat flour",
           2
          ],
          [
           "nuts, pine nuts, dried",
           2
          ],
          [
           "spices, chili powder",
           2
          ],
          [
           "nuts, acorn flour, full fat",
           2
          ],
          [
           "cornmeal, whole-grain, yellow",
           2
          ],
          [
           "seeds, sesame seed kernels, dried (decorticated)",
           2
          ],
          [
           "pine nuts, pignolias, dried",
           2
          ],
          [
           "rye flour, medium",
           2
          ],
          [
           "spices, garlic powder",
           2
          ],
          [
           "cornmeal, whole-grain, white",
           2
          ],
          [
           "peppers, ancho, dried",
           2
          ],
          [
           "pecans, dried",
           2
          ],
          [
           "seeds, sesame seeds, whole, dried",
           2
          ],
          [
           "wheat flour, whole-grain",
           2
          ],
          [
           "seeds, sunflower seed kernels, toasted, without salt",
           2
          ],
          [
           "nuts, acorns, dried",
           2
          ],
          [
           "bulgur, dry",
           2
          ],
          [
           "barley flour or meal",
           2
          ],
          [
           "barley malt flour",
           2
          ],
          [
           "peanut flour, low fat",
           2
          ],
          [
           "seeds, lotus seeds, dried",
           2
          ],
          [
           "seeds, sesame flour, low-fat",
           2
          ],
          [
           "soya flour, full fat",
           2
          ],
          [
           "spices, cloves, ground",
           2
          ],
          [
           "rice flour, brown",
           2
          ],
          [
           "seeds, cottonseed flour, partially defatted (glandless)",
           2
          ],
          [
           "peanut flour, defatted",
           2
          ],
          [
           "corn flour",
           2
          ],
          [
           "corn flour, masa, unenriched, white",
           2
          ],
          [
           "sesame seeds, whole, dried",
           2
          ],
          [
           "cornmeal, white (navajo)",
           2
          ],
          [
           "soy flour, low-fat, crude protein basis (n x 6.25)",
           2
          ],
          [
           "spices, ginger, ground",
           2
          ],
          [
           "seeds, sesame flour, high-fat",
           2
          ],
          [
           "rye flour, light",
           2
          ],
          [
           "spearmint, dried",
           2
          ],
          [
           "cereals, oats, regular and quick, not fortified, dry",
           2
          ],
          [
           "rye flour, dark",
           2
          ],
          [
           "rice flour, white",
           2
          ],
          [
           "seeds, sesame meal, partially defatted",
           2
          ],
          [
           "corn flour, whole-grain, white",
           2
          ],
          [
           "seeds, safflower seed meal, partially defatted",
           2
          ],
          [
           "sesame seed, decorticated",
           2
          ],
          [
           "corn flour, whole-grain, yellow",
           2
          ],
          [
           "rice, white, long-grain, parboiled, unenriched, dry",
           2
          ],
          [
           "triticale flour, whole-grain",
           2
          ],
          [
           "tofu, dried-frozen (koyadofu)",
           2
          ],
          [
           "seeds, chia seeds, dried",
           2
          ],
          [
           "leavening agents, yeast, bakers, active dry",
           2
          ],
          [
           "spices, poppy seed",
           2
          ],
          [
           "soy flour, defatted, crude protein basis (n x 6.25)",
           2
          ],
          [
           "rice, white, with pasta, dry",
           2
          ],
          [
           "sorghum flour",
           2
          ],
          [
           "mushrooms, shiitake, dried",
           2
          ],
          [
           "oat flour, partially debranned",
           2
          ],
          [
           "wocas, dried seeds, oregon, yellow pond lily, nuphar lutea (or) - cy0617b",
           2
          ],
          [
           "cornmeal, blue (navajo)",
           2
          ],
          [
           "wheat flour, whole-grain, soft wheat",
           2
          ],
          [
           "chickpea flour (besan)",
           2
          ],
          [
           "sunflower seeds, decorticated, dried",
           2
          ],
          [
           "pepeao, dried",
           2
          ],
          [
           "dill weed, dried",
           2
          ],
          [
           "cereals, whole wheat hot natural cereal, dry",
           2
          ],
          [
           "corn flour, whole-grain, blue (harina de maiz morado)",
           2
          ],
          [
           "soy flour, low-fat",
           2
          ],
          [
           "seaweed, agar, dried",
           2
          ],
          [
           "corn, dried (navajo)",
           2
          ]
         ],
         "hovertemplate": "cluster=%{customdata[1]}<br>x1=%{x}<br>x2=%{y}<br>label=%{customdata[0]}<extra></extra>",
         "legendgroup": "2",
         "marker": {
          "color": "#00cc96",
          "opacity": 0.5,
          "size": 15,
          "symbol": "circle"
         },
         "mode": "markers+text",
         "name": "2",
         "orientation": "v",
         "showlegend": true,
         "text": [
          "corn, dried, yellow (northern plains indians)",
          "seeds, safflower seed kernels, dried",
          "cornmeal, yellow (navajo)",
          "seeds, flaxseed",
          "seeds, sunflower seed flour, partially defatted",
          "nuts, brazilnuts, dried, unblanched",
          "seeds, sunflower seed kernels, dried",
          "soy flour, defatted",
          "spices, pepper, black",
          "lentils, dried",
          "spices, basil, dried",
          "nuts, pine nuts, pinyon, dried",
          "nuts, pilinuts, dried",
          "seeds, cottonseed flour, low fat (glandless)",
          "seeds, sesame flour, partially defatted",
          "buckwheat flour",
          "spices, paprika",
          "millet flour",
          "buckwheat flour, whole-groat",
          "radishes, oriental, dried",
          "wheat flour",
          "nuts, pine nuts, dried",
          "spices, chili powder",
          "nuts, acorn flour, full fat",
          "cornmeal, whole-grain, yellow",
          "seeds, sesame seed kernels, dried (decorticated)",
          "pine nuts, pignolias, dried",
          "rye flour, medium",
          "spices, garlic powder",
          "cornmeal, whole-grain, white",
          "peppers, ancho, dried",
          "pecans, dried",
          "seeds, sesame seeds, whole, dried",
          "wheat flour, whole-grain",
          "seeds, sunflower seed kernels, toasted, without salt",
          "nuts, acorns, dried",
          "bulgur, dry",
          "barley flour or meal",
          "barley malt flour",
          "peanut flour, low fat",
          "seeds, lotus seeds, dried",
          "seeds, sesame flour, low-fat",
          "soya flour, full fat",
          "spices, cloves, ground",
          "rice flour, brown",
          "seeds, cottonseed flour, partially defatted (glandless)",
          "peanut flour, defatted",
          "corn flour",
          "corn flour, masa, unenriched, white",
          "sesame seeds, whole, dried",
          "cornmeal, white (navajo)",
          "soy flour, low-fat, crude protein basis (n x 6.25)",
          "spices, ginger, ground",
          "seeds, sesame flour, high-fat",
          "rye flour, light",
          "spearmint, dried",
          "cereals, oats, regular and quick, not fortified, dry",
          "rye flour, dark",
          "rice flour, white",
          "seeds, sesame meal, partially defatted",
          "corn flour, whole-grain, white",
          "seeds, safflower seed meal, partially defatted",
          "sesame seed, decorticated",
          "corn flour, whole-grain, yellow",
          "rice, white, long-grain, parboiled, unenriched, dry",
          "triticale flour, whole-grain",
          "tofu, dried-frozen (koyadofu)",
          "seeds, chia seeds, dried",
          "leavening agents, yeast, bakers, active dry",
          "spices, poppy seed",
          "soy flour, defatted, crude protein basis (n x 6.25)",
          "rice, white, with pasta, dry",
          "sorghum flour",
          "mushrooms, shiitake, dried",
          "oat flour, partially debranned",
          "wocas, dried seeds, oregon, yellow pond lily, nuphar lutea (or) - cy0617b",
          "cornmeal, blue (navajo)",
          "wheat flour, whole-grain, soft wheat",
          "chickpea flour (besan)",
          "sunflower seeds, decorticated, dried",
          "pepeao, dried",
          "dill weed, dried",
          "cereals, whole wheat hot natural cereal, dry",
          "corn flour, whole-grain, blue (harina de maiz morado)",
          "soy flour, low-fat",
          "seaweed, agar, dried",
          "corn, dried (navajo)"
         ],
         "textfont": {
          "size": 7
         },
         "textposition": "top center",
         "type": "scatter",
         "x": [
          35.08972930908203,
          80.29194641113281,
          8.006401062011719,
          -20.843774795532227,
          85.62874603271484,
          -19.941251754760742,
          -14.954360008239746,
          63.002201080322266,
          43.41292190551758,
          40.02454376220703,
          -11.096746444702148,
          -11.733804702758789,
          -20.46175765991211,
          -7.511382579803467,
          98.7785415649414,
          -11.807520866394043,
          -14.019350051879883,
          39.7664680480957,
          0.14677231013774872,
          60.954830169677734,
          -11.756731033325195,
          -20.934354782104492,
          -13.618494987487793,
          26.57206916809082,
          4.999105930328369,
          -9.210171699523926,
          -21.687063217163086,
          2.9222183227539062,
          -14.321056365966797,
          4.850337028503418,
          -13.575361251831055,
          -16.395414352416992,
          -22.462495803833008,
          7.546712398529053,
          84.43509674072266,
          27.537893295288086,
          20.302364349365234,
          -8.13440990447998,
          -23.3674373626709,
          42.72490692138672,
          11.147416114807129,
          100.25125885009766,
          61.4229736328125,
          4.506251335144043,
          38.21384048461914,
          -8.0155668258667,
          69.95039367675781,
          -10.313196182250977,
          -6.211281776428223,
          -21.506193161010742,
          68.27405548095703,
          61.99567794799805,
          -24.0567626953125,
          97.9736557006836,
          10.95468807220459,
          -13.971847534179688,
          22.79374885559082,
          41.82391357421875,
          12.073959350585938,
          99.50804138183594,
          10.385788917541504,
          79.96631622314453,
          -22.859331130981445,
          9.307561874389648,
          9.516637802124023,
          66.99969482421875,
          -22.727224349975586,
          -12.900850296020508,
          87.60462951660156,
          -17.58247184753418,
          53.058719635009766,
          -21.6835994720459,
          19.309337615966797,
          90.1405258178711,
          -9.608989715576172,
          33.71589660644531,
          -1.0457332134246826,
          21.146343231201172,
          7.785342216491699,
          -21.122419357299805,
          90.44086456298828,
          -24.995405197143555,
          18.614721298217773,
          6.337555885314941,
          52.247013092041016,
          70.65104675292969,
          0.8979685306549072
         ],
         "xaxis": "x",
         "y": [
          -59.5417594909668,
          -57.132415771484375,
          -55.36087417602539,
          -2.6087777614593506,
          -57.7877082824707,
          4.621746063232422,
          19.648801803588867,
          -59.02003860473633,
          -58.062782287597656,
          -56.257015228271484,
          23.03177833557129,
          5.461184978485107,
          0.00892044510692358,
          8.75342082977295,
          -47.75567626953125,
          -47.97978973388672,
          27.267250061035156,
          -54.73080825805664,
          -49.8123664855957,
          -56.8809928894043,
          -46.56639099121094,
          6.7865095138549805,
          23.62352752685547,
          -60.171573638916016,
          -41.8795166015625,
          -36.062110900878906,
          5.925587177276611,
          -42.232505798339844,
          22.201391220092773,
          -42.9089469909668,
          29.1870059967041,
          1.0684044361114502,
          -21.692827224731445,
          -44.12068557739258,
          -57.778472900390625,
          -60.151641845703125,
          -49.67604446411133,
          -47.357181549072266,
          13.940805435180664,
          -55.077980041503906,
          -44.14085388183594,
          -48.341346740722656,
          -60.76902770996094,
          -60.12263107299805,
          -57.942840576171875,
          9.642167091369629,
          -58.97477722167969,
          -47.32584762573242,
          -47.544063568115234,
          -22.734357833862305,
          -58.325862884521484,
          -58.28761291503906,
          14.696212768554688,
          -49.22239685058594,
          -61.443050384521484,
          25.524616241455078,
          -47.44474411010742,
          -56.42926788330078,
          -56.04069900512695,
          -49.75840759277344,
          -59.100746154785156,
          -58.05248260498047,
          -23.142330169677734,
          -59.37337875366211,
          -57.33537292480469,
          -58.387916564941406,
          7.367196083068848,
          4.767773151397705,
          -57.96189880371094,
          2.545379638671875,
          -64.15802764892578,
          0.4114185571670532,
          -50.3548698425293,
          -62.94068908691406,
          -36.97572708129883,
          -59.96446228027344,
          -49.519325256347656,
          -48.14170837402344,
          -46.209510803222656,
          -4.694661617279053,
          -62.010616302490234,
          -21.777942657470703,
          -47.19890213012695,
          -59.477813720703125,
          -64.66921997070312,
          -56.949371337890625,
          -42.48521041870117
         ],
         "yaxis": "y"
        },
        {
         "customdata": [
          [
           "nuts, ginkgo nuts, dried",
           3
          ],
          [
           "longans, dried",
           3
          ],
          [
           "spices, onion powder",
           3
          ],
          [
           "spices, caraway seed",
           3
          ],
          [
           "peppers, hot chile, sun-dried",
           3
          ],
          [
           "spices, dill seed",
           3
          ],
          [
           "spices, fennel seed",
           3
          ],
          [
           "seeds, sisymbrium sp. seeds, whole, dried",
           3
          ],
          [
           "spices, sage, ground",
           3
          ],
          [
           "spices, anise seed",
           3
          ],
          [
           "spices, coriander seed",
           3
          ],
          [
           "spices, mace, ground",
           3
          ],
          [
           "spices, pepper, white",
           3
          ],
          [
           "spices, turmeric, ground",
           3
          ],
          [
           "spices, cardamom",
           3
          ]
         ],
         "hovertemplate": "cluster=%{customdata[1]}<br>x1=%{x}<br>x2=%{y}<br>label=%{customdata[0]}<extra></extra>",
         "legendgroup": "3",
         "marker": {
          "color": "#ab63fa",
          "opacity": 0.5,
          "size": 15,
          "symbol": "circle"
         },
         "mode": "markers+text",
         "name": "3",
         "orientation": "v",
         "showlegend": true,
         "text": [
          "nuts, ginkgo nuts, dried",
          "longans, dried",
          "spices, onion powder",
          "spices, caraway seed",
          "peppers, hot chile, sun-dried",
          "spices, dill seed",
          "spices, fennel seed",
          "seeds, sisymbrium sp. seeds, whole, dried",
          "spices, sage, ground",
          "spices, anise seed",
          "spices, coriander seed",
          "spices, mace, ground",
          "spices, pepper, white",
          "spices, turmeric, ground",
          "spices, cardamom"
         ],
         "textfont": {
          "size": 7
         },
         "textposition": "top center",
         "type": "scatter",
         "x": [
          21.925756454467773,
          20.319091796875,
          13.974960327148438,
          8.966507911682129,
          24.027698516845703,
          7.556633472442627,
          10.096302032470703,
          23.45110321044922,
          25.933931350708008,
          12.156048774719238,
          4.441682815551758,
          6.672863960266113,
          2.052478075027466,
          18.225793838500977,
          3.1094741821289062
         ],
         "xaxis": "x",
         "y": [
          -154.33023071289062,
          -155.12046813964844,
          -158.19412231445312,
          -160.89584350585938,
          -152.69105529785156,
          -160.9617156982422,
          -160.11412048339844,
          -153.8491668701172,
          -153.00643920898438,
          -159.09402465820312,
          -163.25909423828125,
          -162.77337646484375,
          -162.2318878173828,
          -156.1387176513672,
          -161.482666015625
         ],
         "yaxis": "y"
        },
        {
         "customdata": [
          [
           "fig, dried",
           4
          ],
          [
           "beans, white, dried",
           4
          ],
          [
           "rye flour, dark, whole meal",
           4
          ],
          [
           "beans, brown, dried",
           4
          ],
          [
           "yeast, dried",
           4
          ],
          [
           "beans, soy, dried",
           4
          ],
          [
           "wheat flour",
           4
          ],
          [
           "rice flour",
           4
          ],
          [
           "nut, pea, dried",
           4
          ],
          [
           "wheat, flour, wholemeal",
           4
          ],
          [
           "apricot, dried",
           4
          ]
         ],
         "hovertemplate": "cluster=%{customdata[1]}<br>x1=%{x}<br>x2=%{y}<br>label=%{customdata[0]}<extra></extra>",
         "legendgroup": "4",
         "marker": {
          "color": "#FFA15A",
          "opacity": 0.5,
          "size": 15,
          "symbol": "circle"
         },
         "mode": "markers+text",
         "name": "4",
         "orientation": "v",
         "showlegend": true,
         "text": [
          "fig, dried",
          "beans, white, dried",
          "rye flour, dark, whole meal",
          "beans, brown, dried",
          "yeast, dried",
          "beans, soy, dried",
          "wheat flour",
          "rice flour",
          "nut, pea, dried",
          "wheat, flour, wholemeal",
          "apricot, dried"
         ],
         "textfont": {
          "size": 7
         },
         "textposition": "top center",
         "type": "scatter",
         "x": [
          12.345019340515137,
          17.55208396911621,
          21.846982955932617,
          17.517425537109375,
          26.634347915649414,
          25.53821563720703,
          17.64824867248535,
          17.555177688598633,
          24.868906021118164,
          22.46221923828125,
          12.924113273620605
         ],
         "xaxis": "x",
         "y": [
          -11.11452579498291,
          -22.48460578918457,
          -12.528340339660645,
          -21.426620483398438,
          -6.161802768707275,
          -7.74233865737915,
          -17.32548713684082,
          -19.177772521972656,
          -8.708609580993652,
          -11.767027854919434,
          -11.875279426574707
         ],
         "yaxis": "y"
        },
        {
         "customdata": [
          [
           "tapioca, pearl, dry",
           5
          ],
          [
           "cornstarch",
           5
          ],
          [
           "potato flour",
           5
          ],
          [
           "arrowroot flour",
           5
          ],
          [
           "persimmons, japanese, dried",
           5
          ],
          [
           "corn starch",
           5
          ],
          [
           "baking powder",
           5
          ],
          [
           "coffee, dry, powder, with whitener, reduced calorie",
           5
          ],
          [
           "coffee, dry, powder, with whitener, reduced calorie",
           5
          ],
          [
           "coffee, dry, powder, with whitener, reduced calorie",
           5
          ],
          [
           "leavening agents, baking powder, low-sodium",
           5
          ],
          [
           "leavening agents, baking powder, double-acting, straight phosphate",
           5
          ],
          [
           "leavening agents, baking powder, double-acting, sodium aluminum sulfate",
           5
          ],
          [
           "cocoa, dry powder, unsweetened, hersheys european style cocoa",
           5
          ]
         ],
         "hovertemplate": "cluster=%{customdata[1]}<br>x1=%{x}<br>x2=%{y}<br>label=%{customdata[0]}<extra></extra>",
         "legendgroup": "5",
         "marker": {
          "color": "#19d3f3",
          "opacity": 0.5,
          "size": 15,
          "symbol": "circle"
         },
         "mode": "markers+text",
         "name": "5",
         "orientation": "v",
         "showlegend": true,
         "text": [
          "tapioca, pearl, dry",
          "cornstarch",
          "potato flour",
          "arrowroot flour",
          "persimmons, japanese, dried",
          "corn starch",
          "baking powder",
          "coffee, dry, powder, with whitener, reduced calorie",
          "coffee, dry, powder, with whitener, reduced calorie",
          "coffee, dry, powder, with whitener, reduced calorie",
          "leavening agents, baking powder, low-sodium",
          "leavening agents, baking powder, double-acting, straight phosphate",
          "leavening agents, baking powder, double-acting, sodium aluminum sulfate",
          "cocoa, dry powder, unsweetened, hersheys european style cocoa"
         ],
         "textfont": {
          "size": 7
         },
         "textposition": "top center",
         "type": "scatter",
         "x": [
          -14.031119346618652,
          -2.8725039958953857,
          -2.728755235671997,
          -13.505966186523438,
          3.4344403743743896,
          1.746904969215393,
          -1.9255753755569458,
          -6.008266448974609,
          -4.587222099304199,
          -5.473309516906738,
          -4.6660943031311035,
          -1.0401395559310913,
          -2.757714033126831,
          -4.132940769195557
         ],
         "xaxis": "x",
         "y": [
          131.99447631835938,
          137.923583984375,
          127.049072265625,
          132.77239990234375,
          135.3697052001953,
          136.02012634277344,
          136.27099609375,
          124.60177612304688,
          124.73802185058594,
          125.92278289794922,
          138.6290740966797,
          138.47254943847656,
          139.87547302246094,
          136.42433166503906
         ],
         "yaxis": "y"
        },
        {
         "customdata": [
          [
           "seeds, pumpkin and squash seed kernels, dried",
           6
          ],
          [
           "seeds, pumpkin and squash seed kernels, dried",
           6
          ],
          [
           "nuts, coconut meat, dried (desiccated), toasted",
           6
          ],
          [
           "spices, oregano, dried",
           6
          ],
          [
           "nuts, coconut meat, dried (desiccated), creamed",
           6
          ],
          [
           "walnuts",
           6
          ],
          [
           "nuts, walnuts, black, dried",
           6
          ],
          [
           "nuts, hickorynuts, dried",
           6
          ],
          [
           "seeds, pumpkin and squash seed kernels, dried",
           6
          ]
         ],
         "hovertemplate": "cluster=%{customdata[1]}<br>x1=%{x}<br>x2=%{y}<br>label=%{customdata[0]}<extra></extra>",
         "legendgroup": "6",
         "marker": {
          "color": "#FF6692",
          "opacity": 0.5,
          "size": 15,
          "symbol": "circle"
         },
         "mode": "markers+text",
         "name": "6",
         "orientation": "v",
         "showlegend": true,
         "text": [
          "seeds, pumpkin and squash seed kernels, dried",
          "seeds, pumpkin and squash seed kernels, dried",
          "nuts, coconut meat, dried (desiccated), toasted",
          "spices, oregano, dried",
          "nuts, coconut meat, dried (desiccated), creamed",
          "walnuts",
          "nuts, walnuts, black, dried",
          "nuts, hickorynuts, dried",
          "seeds, pumpkin and squash seed kernels, dried"
         ],
         "textfont": {
          "size": 7
         },
         "textposition": "top center",
         "type": "scatter",
         "x": [
          -50.91542434692383,
          -51.381591796875,
          -51.75899887084961,
          -48.72957229614258,
          -52.74979782104492,
          -59.0154914855957,
          -59.25794982910156,
          -61.19927978515625,
          -49.91917419433594
         ],
         "xaxis": "x",
         "y": [
          9.83151912689209,
          8.510701179504395,
          4.92415714263916,
          11.12725830078125,
          5.359736919403076,
          2.2823781967163086,
          3.226909637451172,
          2.243072986602783,
          8.65246295928955
         ],
         "yaxis": "y"
        },
        {
         "customdata": [
          [
           "tomatoes, sun-dried",
           -1
          ],
          [
           "tomato, dried",
           -1
          ],
          [
           "spices, allspice, ground",
           -1
          ],
          [
           "rose hip, dried, powder",
           -1
          ]
         ],
         "hovertemplate": "cluster=%{customdata[1]}<br>x1=%{x}<br>x2=%{y}<br>label=%{customdata[0]}<extra></extra>",
         "legendgroup": "-1",
         "marker": {
          "color": "#B6E880",
          "opacity": 0.5,
          "size": 15,
          "symbol": "circle"
         },
         "mode": "markers+text",
         "name": "-1",
         "orientation": "v",
         "showlegend": true,
         "text": [
          "tomatoes, sun-dried",
          "tomato, dried",
          "spices, allspice, ground",
          "rose hip, dried, powder"
         ],
         "textfont": {
          "size": 7
         },
         "textposition": "top center",
         "type": "scatter",
         "x": [
          -101.32012176513672,
          -101.61042022705078,
          -103.27305603027344,
          -103.21563720703125
         ],
         "xaxis": "x",
         "y": [
          -82.40452575683594,
          -83.75953674316406,
          -83.15643310546875,
          -81.68952941894531
         ],
         "yaxis": "y"
        },
        {
         "customdata": [
          [
           "onions, dehydrated flakes",
           7
          ],
          [
           "tomato powder",
           7
          ],
          [
           "nuts, chestnuts, japanese, dried",
           7
          ],
          [
           "spices, parsley, dried",
           7
          ],
          [
           "nuts, chestnuts, chinese, dried",
           7
          ],
          [
           "spices, thyme, dried",
           7
          ],
          [
           "litchis, dried",
           7
          ],
          [
           "coriander, leaf, dried",
           7
          ],
          [
           "spices, coriander leaf, dried",
           7
          ],
          [
           "spices, saffron",
           7
          ],
          [
           "spices, chervil, dried",
           7
          ],
          [
           "celery flakes, dried",
           7
          ],
          [
           "spices, tarragon, dried",
           7
          ],
          [
           "spices, marjoram, dried",
           7
          ],
          [
           "spices, bay leaf",
           7
          ],
          [
           "spices, pepper, red or cayenne",
           7
          ],
          [
           "spices, rosemary, dried",
           7
          ],
          [
           "spices, dill weed, dried",
           7
          ],
          [
           "spices, savory, ground",
           7
          ]
         ],
         "hovertemplate": "cluster=%{customdata[1]}<br>x1=%{x}<br>x2=%{y}<br>label=%{customdata[0]}<extra></extra>",
         "legendgroup": "7",
         "marker": {
          "color": "#FF97FF",
          "opacity": 0.5,
          "size": 15,
          "symbol": "circle"
         },
         "mode": "markers+text",
         "name": "7",
         "orientation": "v",
         "showlegend": true,
         "text": [
          "onions, dehydrated flakes",
          "tomato powder",
          "nuts, chestnuts, japanese, dried",
          "spices, parsley, dried",
          "nuts, chestnuts, chinese, dried",
          "spices, thyme, dried",
          "litchis, dried",
          "coriander, leaf, dried",
          "spices, coriander leaf, dried",
          "spices, saffron",
          "spices, chervil, dried",
          "celery flakes, dried",
          "spices, tarragon, dried",
          "spices, marjoram, dried",
          "spices, bay leaf",
          "spices, pepper, red or cayenne",
          "spices, rosemary, dried",
          "spices, dill weed, dried",
          "spices, savory, ground"
         ],
         "textfont": {
          "size": 7
         },
         "textposition": "top center",
         "type": "scatter",
         "x": [
          -110.53855895996094,
          -113.36894989013672,
          -117.21846771240234,
          -114.40547943115234,
          -118.09732818603516,
          -117.79642486572266,
          -115.73370361328125,
          -121.98804473876953,
          -121.92428588867188,
          -110.83906555175781,
          -119.84188842773438,
          -111.91204833984375,
          -120.358154296875,
          -120.37630462646484,
          -124.08356475830078,
          -111.77406311035156,
          -118.54337310791016,
          -120.938720703125,
          -121.96609497070312
         ],
         "xaxis": "x",
         "y": [
          7.341463088989258,
          0.01928481087088585,
          25.370588302612305,
          0.06504406780004501,
          26.5898494720459,
          39.56237030029297,
          -1.4622812271118164,
          -0.042199548333883286,
          0.9149220585823059,
          5.5135393142700195,
          40.83543395996094,
          4.358682632446289,
          44.03253936767578,
          38.833457946777344,
          42.85947036743164,
          6.889732837677002,
          25.1080379486084,
          42.106788635253906,
          41.6348762512207
         ],
         "yaxis": "y"
        }
       ],
       "layout": {
        "legend": {
         "title": {
          "text": "cluster"
         },
         "tracegroupgap": 0
        },
        "margin": {
         "t": 60
        },
        "template": {
         "data": {
          "bar": [
           {
            "error_x": {
             "color": "#2a3f5f"
            },
            "error_y": {
             "color": "#2a3f5f"
            },
            "marker": {
             "line": {
              "color": "#E5ECF6",
              "width": 0.5
             },
             "pattern": {
              "fillmode": "overlay",
              "size": 10,
              "solidity": 0.2
             }
            },
            "type": "bar"
           }
          ],
          "barpolar": [
           {
            "marker": {
             "line": {
              "color": "#E5ECF6",
              "width": 0.5
             },
             "pattern": {
              "fillmode": "overlay",
              "size": 10,
              "solidity": 0.2
             }
            },
            "type": "barpolar"
           }
          ],
          "carpet": [
           {
            "aaxis": {
             "endlinecolor": "#2a3f5f",
             "gridcolor": "white",
             "linecolor": "white",
             "minorgridcolor": "white",
             "startlinecolor": "#2a3f5f"
            },
            "baxis": {
             "endlinecolor": "#2a3f5f",
             "gridcolor": "white",
             "linecolor": "white",
             "minorgridcolor": "white",
             "startlinecolor": "#2a3f5f"
            },
            "type": "carpet"
           }
          ],
          "choropleth": [
           {
            "colorbar": {
             "outlinewidth": 0,
             "ticks": ""
            },
            "type": "choropleth"
           }
          ],
          "contour": [
           {
            "colorbar": {
             "outlinewidth": 0,
             "ticks": ""
            },
            "colorscale": [
             [
              0,
              "#0d0887"
             ],
             [
              0.1111111111111111,
              "#46039f"
             ],
             [
              0.2222222222222222,
              "#7201a8"
             ],
             [
              0.3333333333333333,
              "#9c179e"
             ],
             [
              0.4444444444444444,
              "#bd3786"
             ],
             [
              0.5555555555555556,
              "#d8576b"
             ],
             [
              0.6666666666666666,
              "#ed7953"
             ],
             [
              0.7777777777777778,
              "#fb9f3a"
             ],
             [
              0.8888888888888888,
              "#fdca26"
             ],
             [
              1,
              "#f0f921"
             ]
            ],
            "type": "contour"
           }
          ],
          "contourcarpet": [
           {
            "colorbar": {
             "outlinewidth": 0,
             "ticks": ""
            },
            "type": "contourcarpet"
           }
          ],
          "heatmap": [
           {
            "colorbar": {
             "outlinewidth": 0,
             "ticks": ""
            },
            "colorscale": [
             [
              0,
              "#0d0887"
             ],
             [
              0.1111111111111111,
              "#46039f"
             ],
             [
              0.2222222222222222,
              "#7201a8"
             ],
             [
              0.3333333333333333,
              "#9c179e"
             ],
             [
              0.4444444444444444,
              "#bd3786"
             ],
             [
              0.5555555555555556,
              "#d8576b"
             ],
             [
              0.6666666666666666,
              "#ed7953"
             ],
             [
              0.7777777777777778,
              "#fb9f3a"
             ],
             [
              0.8888888888888888,
              "#fdca26"
             ],
             [
              1,
              "#f0f921"
             ]
            ],
            "type": "heatmap"
           }
          ],
          "heatmapgl": [
           {
            "colorbar": {
             "outlinewidth": 0,
             "ticks": ""
            },
            "colorscale": [
             [
              0,
              "#0d0887"
             ],
             [
              0.1111111111111111,
              "#46039f"
             ],
             [
              0.2222222222222222,
              "#7201a8"
             ],
             [
              0.3333333333333333,
              "#9c179e"
             ],
             [
              0.4444444444444444,
              "#bd3786"
             ],
             [
              0.5555555555555556,
              "#d8576b"
             ],
             [
              0.6666666666666666,
              "#ed7953"
             ],
             [
              0.7777777777777778,
              "#fb9f3a"
             ],
             [
              0.8888888888888888,
              "#fdca26"
             ],
             [
              1,
              "#f0f921"
             ]
            ],
            "type": "heatmapgl"
           }
          ],
          "histogram": [
           {
            "marker": {
             "pattern": {
              "fillmode": "overlay",
              "size": 10,
              "solidity": 0.2
             }
            },
            "type": "histogram"
           }
          ],
          "histogram2d": [
           {
            "colorbar": {
             "outlinewidth": 0,
             "ticks": ""
            },
            "colorscale": [
             [
              0,
              "#0d0887"
             ],
             [
              0.1111111111111111,
              "#46039f"
             ],
             [
              0.2222222222222222,
              "#7201a8"
             ],
             [
              0.3333333333333333,
              "#9c179e"
             ],
             [
              0.4444444444444444,
              "#bd3786"
             ],
             [
              0.5555555555555556,
              "#d8576b"
             ],
             [
              0.6666666666666666,
              "#ed7953"
             ],
             [
              0.7777777777777778,
              "#fb9f3a"
             ],
             [
              0.8888888888888888,
              "#fdca26"
             ],
             [
              1,
              "#f0f921"
             ]
            ],
            "type": "histogram2d"
           }
          ],
          "histogram2dcontour": [
           {
            "colorbar": {
             "outlinewidth": 0,
             "ticks": ""
            },
            "colorscale": [
             [
              0,
              "#0d0887"
             ],
             [
              0.1111111111111111,
              "#46039f"
             ],
             [
              0.2222222222222222,
              "#7201a8"
             ],
             [
              0.3333333333333333,
              "#9c179e"
             ],
             [
              0.4444444444444444,
              "#bd3786"
             ],
             [
              0.5555555555555556,
              "#d8576b"
             ],
             [
              0.6666666666666666,
              "#ed7953"
             ],
             [
              0.7777777777777778,
              "#fb9f3a"
             ],
             [
              0.8888888888888888,
              "#fdca26"
             ],
             [
              1,
              "#f0f921"
             ]
            ],
            "type": "histogram2dcontour"
           }
          ],
          "mesh3d": [
           {
            "colorbar": {
             "outlinewidth": 0,
             "ticks": ""
            },
            "type": "mesh3d"
           }
          ],
          "parcoords": [
           {
            "line": {
             "colorbar": {
              "outlinewidth": 0,
              "ticks": ""
             }
            },
            "type": "parcoords"
           }
          ],
          "pie": [
           {
            "automargin": true,
            "type": "pie"
           }
          ],
          "scatter": [
           {
            "marker": {
             "colorbar": {
              "outlinewidth": 0,
              "ticks": ""
             }
            },
            "type": "scatter"
           }
          ],
          "scatter3d": [
           {
            "line": {
             "colorbar": {
              "outlinewidth": 0,
              "ticks": ""
             }
            },
            "marker": {
             "colorbar": {
              "outlinewidth": 0,
              "ticks": ""
             }
            },
            "type": "scatter3d"
           }
          ],
          "scattercarpet": [
           {
            "marker": {
             "colorbar": {
              "outlinewidth": 0,
              "ticks": ""
             }
            },
            "type": "scattercarpet"
           }
          ],
          "scattergeo": [
           {
            "marker": {
             "colorbar": {
              "outlinewidth": 0,
              "ticks": ""
             }
            },
            "type": "scattergeo"
           }
          ],
          "scattergl": [
           {
            "marker": {
             "colorbar": {
              "outlinewidth": 0,
              "ticks": ""
             }
            },
            "type": "scattergl"
           }
          ],
          "scattermapbox": [
           {
            "marker": {
             "colorbar": {
              "outlinewidth": 0,
              "ticks": ""
             }
            },
            "type": "scattermapbox"
           }
          ],
          "scatterpolar": [
           {
            "marker": {
             "colorbar": {
              "outlinewidth": 0,
              "ticks": ""
             }
            },
            "type": "scatterpolar"
           }
          ],
          "scatterpolargl": [
           {
            "marker": {
             "colorbar": {
              "outlinewidth": 0,
              "ticks": ""
             }
            },
            "type": "scatterpolargl"
           }
          ],
          "scatterternary": [
           {
            "marker": {
             "colorbar": {
              "outlinewidth": 0,
              "ticks": ""
             }
            },
            "type": "scatterternary"
           }
          ],
          "surface": [
           {
            "colorbar": {
             "outlinewidth": 0,
             "ticks": ""
            },
            "colorscale": [
             [
              0,
              "#0d0887"
             ],
             [
              0.1111111111111111,
              "#46039f"
             ],
             [
              0.2222222222222222,
              "#7201a8"
             ],
             [
              0.3333333333333333,
              "#9c179e"
             ],
             [
              0.4444444444444444,
              "#bd3786"
             ],
             [
              0.5555555555555556,
              "#d8576b"
             ],
             [
              0.6666666666666666,
              "#ed7953"
             ],
             [
              0.7777777777777778,
              "#fb9f3a"
             ],
             [
              0.8888888888888888,
              "#fdca26"
             ],
             [
              1,
              "#f0f921"
             ]
            ],
            "type": "surface"
           }
          ],
          "table": [
           {
            "cells": {
             "fill": {
              "color": "#EBF0F8"
             },
             "line": {
              "color": "white"
             }
            },
            "header": {
             "fill": {
              "color": "#C8D4E3"
             },
             "line": {
              "color": "white"
             }
            },
            "type": "table"
           }
          ]
         },
         "layout": {
          "annotationdefaults": {
           "arrowcolor": "#2a3f5f",
           "arrowhead": 0,
           "arrowwidth": 1
          },
          "autotypenumbers": "strict",
          "coloraxis": {
           "colorbar": {
            "outlinewidth": 0,
            "ticks": ""
           }
          },
          "colorscale": {
           "diverging": [
            [
             0,
             "#8e0152"
            ],
            [
             0.1,
             "#c51b7d"
            ],
            [
             0.2,
             "#de77ae"
            ],
            [
             0.3,
             "#f1b6da"
            ],
            [
             0.4,
             "#fde0ef"
            ],
            [
             0.5,
             "#f7f7f7"
            ],
            [
             0.6,
             "#e6f5d0"
            ],
            [
             0.7,
             "#b8e186"
            ],
            [
             0.8,
             "#7fbc41"
            ],
            [
             0.9,
             "#4d9221"
            ],
            [
             1,
             "#276419"
            ]
           ],
           "sequential": [
            [
             0,
             "#0d0887"
            ],
            [
             0.1111111111111111,
             "#46039f"
            ],
            [
             0.2222222222222222,
             "#7201a8"
            ],
            [
             0.3333333333333333,
             "#9c179e"
            ],
            [
             0.4444444444444444,
             "#bd3786"
            ],
            [
             0.5555555555555556,
             "#d8576b"
            ],
            [
             0.6666666666666666,
             "#ed7953"
            ],
            [
             0.7777777777777778,
             "#fb9f3a"
            ],
            [
             0.8888888888888888,
             "#fdca26"
            ],
            [
             1,
             "#f0f921"
            ]
           ],
           "sequentialminus": [
            [
             0,
             "#0d0887"
            ],
            [
             0.1111111111111111,
             "#46039f"
            ],
            [
             0.2222222222222222,
             "#7201a8"
            ],
            [
             0.3333333333333333,
             "#9c179e"
            ],
            [
             0.4444444444444444,
             "#bd3786"
            ],
            [
             0.5555555555555556,
             "#d8576b"
            ],
            [
             0.6666666666666666,
             "#ed7953"
            ],
            [
             0.7777777777777778,
             "#fb9f3a"
            ],
            [
             0.8888888888888888,
             "#fdca26"
            ],
            [
             1,
             "#f0f921"
            ]
           ]
          },
          "colorway": [
           "#636efa",
           "#EF553B",
           "#00cc96",
           "#ab63fa",
           "#FFA15A",
           "#19d3f3",
           "#FF6692",
           "#B6E880",
           "#FF97FF",
           "#FECB52"
          ],
          "font": {
           "color": "#2a3f5f"
          },
          "geo": {
           "bgcolor": "white",
           "lakecolor": "white",
           "landcolor": "#E5ECF6",
           "showlakes": true,
           "showland": true,
           "subunitcolor": "white"
          },
          "hoverlabel": {
           "align": "left"
          },
          "hovermode": "closest",
          "mapbox": {
           "style": "light"
          },
          "paper_bgcolor": "white",
          "plot_bgcolor": "#E5ECF6",
          "polar": {
           "angularaxis": {
            "gridcolor": "white",
            "linecolor": "white",
            "ticks": ""
           },
           "bgcolor": "#E5ECF6",
           "radialaxis": {
            "gridcolor": "white",
            "linecolor": "white",
            "ticks": ""
           }
          },
          "scene": {
           "xaxis": {
            "backgroundcolor": "#E5ECF6",
            "gridcolor": "white",
            "gridwidth": 2,
            "linecolor": "white",
            "showbackground": true,
            "ticks": "",
            "zerolinecolor": "white"
           },
           "yaxis": {
            "backgroundcolor": "#E5ECF6",
            "gridcolor": "white",
            "gridwidth": 2,
            "linecolor": "white",
            "showbackground": true,
            "ticks": "",
            "zerolinecolor": "white"
           },
           "zaxis": {
            "backgroundcolor": "#E5ECF6",
            "gridcolor": "white",
            "gridwidth": 2,
            "linecolor": "white",
            "showbackground": true,
            "ticks": "",
            "zerolinecolor": "white"
           }
          },
          "shapedefaults": {
           "line": {
            "color": "#2a3f5f"
           }
          },
          "ternary": {
           "aaxis": {
            "gridcolor": "white",
            "linecolor": "white",
            "ticks": ""
           },
           "baxis": {
            "gridcolor": "white",
            "linecolor": "white",
            "ticks": ""
           },
           "bgcolor": "#E5ECF6",
           "caxis": {
            "gridcolor": "white",
            "linecolor": "white",
            "ticks": ""
           }
          },
          "title": {
           "x": 0.05
          },
          "xaxis": {
           "automargin": true,
           "gridcolor": "white",
           "linecolor": "white",
           "ticks": "",
           "title": {
            "standoff": 15
           },
           "zerolinecolor": "white",
           "zerolinewidth": 2
          },
          "yaxis": {
           "automargin": true,
           "gridcolor": "white",
           "linecolor": "white",
           "ticks": "",
           "title": {
            "standoff": 15
           },
           "zerolinecolor": "white",
           "zerolinewidth": 2
          }
         }
        },
        "title": {
         "text": "Análisis de ingredientes objetivos FooDB: TSNE con filtro V."
        },
        "xaxis": {
         "anchor": "y",
         "domain": [
          0,
          1
         ],
         "title": {
          "text": "x1"
         }
        },
        "yaxis": {
         "anchor": "x",
         "domain": [
          0,
          1
         ],
         "title": {
          "text": "x2"
         }
        }
       }
      },
      "text/html": [
       "<div>                            <div id=\"4cb4056c-e51b-41c0-a2a2-5dca8183fa27\" class=\"plotly-graph-div\" style=\"height:525px; width:100%;\"></div>            <script type=\"text/javascript\">                require([\"plotly\"], function(Plotly) {                    window.PLOTLYENV=window.PLOTLYENV || {};                                    if (document.getElementById(\"4cb4056c-e51b-41c0-a2a2-5dca8183fa27\")) {                    Plotly.newPlot(                        \"4cb4056c-e51b-41c0-a2a2-5dca8183fa27\",                        [{\"customdata\":[[\"date, dried\",0],[\"spices, mustard seed, ground\",0],[\"spices, fenugreek seed\",0],[\"carrot, dehydrated\",0],[\"bananas, dehydrated, or banana powder\",0],[\"prune, dried plum\",0],[\"nut, hazel (uk), filbert (usa), dried\",0],[\"pistachio nuts, dried\",0],[\"nuts, butternuts, dried\",0],[\"nuts, chestnuts, european, dried, unpeeled\",0],[\"peach, dried\",0],[\"seaweed, spirulina, dried\",0],[\"nuts, beechnuts, dried\",0],[\"garlic, dried, powder\",0],[\"apple, dried\",0],[\"spices, cinnamon, ground\",0],[\"nuts, chestnuts, european, dried, peeled\",0],[\"spices, nutmeg, ground\",0],[\"spices, celery seed\",0],[\"spices, cumin seed\",0],[\"curry powder\",0],[\"spices, curry powder\",0],[\"jujube, dried\",0],[\"fruit, mixed, (prune and apricot and pear), dried\",0],[\"currants, zante, dried\",0],[\"peppers, pasilla, dried\",0]],\"hovertemplate\":\"cluster=%{customdata[1]}<br>x1=%{x}<br>x2=%{y}<br>label=%{customdata[0]}<extra></extra>\",\"legendgroup\":\"0\",\"marker\":{\"color\":\"#636efa\",\"opacity\":0.5,\"size\":15,\"symbol\":\"circle\"},\"mode\":\"markers+text\",\"name\":\"0\",\"orientation\":\"v\",\"showlegend\":true,\"text\":[\"date, dried\",\"spices, mustard seed, ground\",\"spices, fenugreek seed\",\"carrot, dehydrated\",\"bananas, dehydrated, or banana powder\",\"prune, dried plum\",\"nut, hazel (uk), filbert (usa), dried\",\"pistachio nuts, dried\",\"nuts, butternuts, dried\",\"nuts, chestnuts, european, dried, unpeeled\",\"peach, dried\",\"seaweed, spirulina, dried\",\"nuts, beechnuts, dried\",\"garlic, dried, powder\",\"apple, dried\",\"spices, cinnamon, ground\",\"nuts, chestnuts, european, dried, peeled\",\"spices, nutmeg, ground\",\"spices, celery seed\",\"spices, cumin seed\",\"curry powder\",\"spices, curry powder\",\"jujube, dried\",\"fruit, mixed, (prune and apricot and pear), dried\",\"currants, zante, dried\",\"peppers, pasilla, dried\"],\"textfont\":{\"size\":7},\"textposition\":\"top center\",\"type\":\"scatter\",\"x\":[-10.399383544921875,22.72652244567871,-6.8586344718933105,45.66542053222656,21.45875358581543,0.6122615337371826,21.859411239624023,3.743023157119751,-9.360217094421387,47.222633361816406,3.0967211723327637,28.198549270629883,48.746063232421875,-3.8697004318237305,2.12204909324646,-0.2279592752456665,47.541351318359375,-5.7092437744140625,50.82929229736328,22.672061920166016,32.01387405395508,32.113460540771484,33.79042053222656,-0.8490328788757324,3.2572262287139893,4.101727485656738],\"xaxis\":\"x\",\"y\":[67.0788345336914,51.0804328918457,65.70508575439453,48.5235595703125,52.10968017578125,60.80912780761719,49.2110481262207,53.36982345581055,66.69840240478516,49.42716979980469,56.63270568847656,50.36275863647461,48.91434860229492,63.98854446411133,63.09928512573242,62.283775329589844,47.87480545043945,65.05522918701172,48.82760238647461,52.71338653564453,49.480857849121094,50.58063507080078,49.85967254638672,61.103981018066406,55.54378128051758,51.10032653808594],\"yaxis\":\"y\"},{\"customdata\":[[\"cereals, farina, unenriched, dry\",1],[\"cereals, corn grits, white, regular and quick, unenriched, dry\",1],[\"carob flour\",1],[\"seeds, watermelon seed kernels, dried\",1],[\"cornmeal, degermed, unenriched, white\",1],[\"cereals, corn grits, white, regular and quick, unenriched, dry\",1],[\"cocoa, powder\",1],[\"cocoa, dry powder, unsweetened, processed with alkali\",1],[\"cornmeal, degermed, unenriched, yellow\",1],[\"cereals, corn grits, yellow, regular and quick, unenriched, dry\",1],[\"cocoa, dry powder, unsweetened\",1],[\"cereals, corn grits, yellow, regular and quick, unenriched, dry\",1],[\"wheat flour, white, all-purpose, unenriched\",1],[\"coffee and cocoa (mocha) powder, with whitener and low calorie sweetener\",1],[\"coffee and cocoa (mocha) powder, with whitener and low calorie sweetener, decaffeinated\",1],[\"seaweed, konbu, dried (kelp)\",1],[\"fungi, cloud ears, dried\",1],[\"corn flour, degermed, unenriched, yellow\",1],[\"cocoa, dry powder, hi-fat or breakfast, plain\",1],[\"cocoa, dry powder, hi-fat or breakfast, processed with alkali\",1],[\"agave, dried (southwest)\",1]],\"hovertemplate\":\"cluster=%{customdata[1]}<br>x1=%{x}<br>x2=%{y}<br>label=%{customdata[0]}<extra></extra>\",\"legendgroup\":\"1\",\"marker\":{\"color\":\"#EF553B\",\"opacity\":0.5,\"size\":15,\"symbol\":\"circle\"},\"mode\":\"markers+text\",\"name\":\"1\",\"orientation\":\"v\",\"showlegend\":true,\"text\":[\"cereals, farina, unenriched, dry\",\"cereals, corn grits, white, regular and quick, unenriched, dry\",\"carob flour\",\"seeds, watermelon seed kernels, dried\",\"cornmeal, degermed, unenriched, white\",\"cereals, corn grits, white, regular and quick, unenriched, dry\",\"cocoa, powder\",\"cocoa, dry powder, unsweetened, processed with alkali\",\"cornmeal, degermed, unenriched, yellow\",\"cereals, corn grits, yellow, regular and quick, unenriched, dry\",\"cocoa, dry powder, unsweetened\",\"cereals, corn grits, yellow, regular and quick, unenriched, dry\",\"wheat flour, white, all-purpose, unenriched\",\"coffee and cocoa (mocha) powder, with whitener and low calorie sweetener\",\"coffee and cocoa (mocha) powder, with whitener and low calorie sweetener, decaffeinated\",\"seaweed, konbu, dried (kelp)\",\"fungi, cloud ears, dried\",\"corn flour, degermed, unenriched, yellow\",\"cocoa, dry powder, hi-fat or breakfast, plain\",\"cocoa, dry powder, hi-fat or breakfast, processed with alkali\",\"agave, dried (southwest)\"],\"textfont\":{\"size\":7},\"textposition\":\"top center\",\"type\":\"scatter\",\"x\":[50.01883316040039,55.148231506347656,37.1402473449707,48.36821365356445,51.36668014526367,56.04410934448242,27.865177154541016,43.835323333740234,50.49938201904297,56.491546630859375,46.34716796875,57.38475799560547,50.758201599121094,24.385343551635742,24.246196746826172,30.667524337768555,41.67733383178711,26.524465560913086,34.00849533081055,34.393653869628906,38.46114730834961],\"xaxis\":\"x\",\"y\":[114.46427154541016,108.82198333740234,120.22418212890625,116.2434310913086,121.07431030273438,110.16472625732422,124.24403381347656,118.19471740722656,121.5056381225586,107.93663024902344,117.52582550048828,109.28067016601562,113.6869888305664,124.58483123779297,125.51654052734375,122.97736358642578,118.64508056640625,125.52613830566406,121.10350799560547,121.98193359375,119.71971893310547],\"yaxis\":\"y\"},{\"customdata\":[[\"corn, dried, yellow (northern plains indians)\",2],[\"seeds, safflower seed kernels, dried\",2],[\"cornmeal, yellow (navajo)\",2],[\"seeds, flaxseed\",2],[\"seeds, sunflower seed flour, partially defatted\",2],[\"nuts, brazilnuts, dried, unblanched\",2],[\"seeds, sunflower seed kernels, dried\",2],[\"soy flour, defatted\",2],[\"spices, pepper, black\",2],[\"lentils, dried\",2],[\"spices, basil, dried\",2],[\"nuts, pine nuts, pinyon, dried\",2],[\"nuts, pilinuts, dried\",2],[\"seeds, cottonseed flour, low fat (glandless)\",2],[\"seeds, sesame flour, partially defatted\",2],[\"buckwheat flour\",2],[\"spices, paprika\",2],[\"millet flour\",2],[\"buckwheat flour, whole-groat\",2],[\"radishes, oriental, dried\",2],[\"wheat flour\",2],[\"nuts, pine nuts, dried\",2],[\"spices, chili powder\",2],[\"nuts, acorn flour, full fat\",2],[\"cornmeal, whole-grain, yellow\",2],[\"seeds, sesame seed kernels, dried (decorticated)\",2],[\"pine nuts, pignolias, dried\",2],[\"rye flour, medium\",2],[\"spices, garlic powder\",2],[\"cornmeal, whole-grain, white\",2],[\"peppers, ancho, dried\",2],[\"pecans, dried\",2],[\"seeds, sesame seeds, whole, dried\",2],[\"wheat flour, whole-grain\",2],[\"seeds, sunflower seed kernels, toasted, without salt\",2],[\"nuts, acorns, dried\",2],[\"bulgur, dry\",2],[\"barley flour or meal\",2],[\"barley malt flour\",2],[\"peanut flour, low fat\",2],[\"seeds, lotus seeds, dried\",2],[\"seeds, sesame flour, low-fat\",2],[\"soya flour, full fat\",2],[\"spices, cloves, ground\",2],[\"rice flour, brown\",2],[\"seeds, cottonseed flour, partially defatted (glandless)\",2],[\"peanut flour, defatted\",2],[\"corn flour\",2],[\"corn flour, masa, unenriched, white\",2],[\"sesame seeds, whole, dried\",2],[\"cornmeal, white (navajo)\",2],[\"soy flour, low-fat, crude protein basis (n x 6.25)\",2],[\"spices, ginger, ground\",2],[\"seeds, sesame flour, high-fat\",2],[\"rye flour, light\",2],[\"spearmint, dried\",2],[\"cereals, oats, regular and quick, not fortified, dry\",2],[\"rye flour, dark\",2],[\"rice flour, white\",2],[\"seeds, sesame meal, partially defatted\",2],[\"corn flour, whole-grain, white\",2],[\"seeds, safflower seed meal, partially defatted\",2],[\"sesame seed, decorticated\",2],[\"corn flour, whole-grain, yellow\",2],[\"rice, white, long-grain, parboiled, unenriched, dry\",2],[\"triticale flour, whole-grain\",2],[\"tofu, dried-frozen (koyadofu)\",2],[\"seeds, chia seeds, dried\",2],[\"leavening agents, yeast, bakers, active dry\",2],[\"spices, poppy seed\",2],[\"soy flour, defatted, crude protein basis (n x 6.25)\",2],[\"rice, white, with pasta, dry\",2],[\"sorghum flour\",2],[\"mushrooms, shiitake, dried\",2],[\"oat flour, partially debranned\",2],[\"wocas, dried seeds, oregon, yellow pond lily, nuphar lutea (or) - cy0617b\",2],[\"cornmeal, blue (navajo)\",2],[\"wheat flour, whole-grain, soft wheat\",2],[\"chickpea flour (besan)\",2],[\"sunflower seeds, decorticated, dried\",2],[\"pepeao, dried\",2],[\"dill weed, dried\",2],[\"cereals, whole wheat hot natural cereal, dry\",2],[\"corn flour, whole-grain, blue (harina de maiz morado)\",2],[\"soy flour, low-fat\",2],[\"seaweed, agar, dried\",2],[\"corn, dried (navajo)\",2]],\"hovertemplate\":\"cluster=%{customdata[1]}<br>x1=%{x}<br>x2=%{y}<br>label=%{customdata[0]}<extra></extra>\",\"legendgroup\":\"2\",\"marker\":{\"color\":\"#00cc96\",\"opacity\":0.5,\"size\":15,\"symbol\":\"circle\"},\"mode\":\"markers+text\",\"name\":\"2\",\"orientation\":\"v\",\"showlegend\":true,\"text\":[\"corn, dried, yellow (northern plains indians)\",\"seeds, safflower seed kernels, dried\",\"cornmeal, yellow (navajo)\",\"seeds, flaxseed\",\"seeds, sunflower seed flour, partially defatted\",\"nuts, brazilnuts, dried, unblanched\",\"seeds, sunflower seed kernels, dried\",\"soy flour, defatted\",\"spices, pepper, black\",\"lentils, dried\",\"spices, basil, dried\",\"nuts, pine nuts, pinyon, dried\",\"nuts, pilinuts, dried\",\"seeds, cottonseed flour, low fat (glandless)\",\"seeds, sesame flour, partially defatted\",\"buckwheat flour\",\"spices, paprika\",\"millet flour\",\"buckwheat flour, whole-groat\",\"radishes, oriental, dried\",\"wheat flour\",\"nuts, pine nuts, dried\",\"spices, chili powder\",\"nuts, acorn flour, full fat\",\"cornmeal, whole-grain, yellow\",\"seeds, sesame seed kernels, dried (decorticated)\",\"pine nuts, pignolias, dried\",\"rye flour, medium\",\"spices, garlic powder\",\"cornmeal, whole-grain, white\",\"peppers, ancho, dried\",\"pecans, dried\",\"seeds, sesame seeds, whole, dried\",\"wheat flour, whole-grain\",\"seeds, sunflower seed kernels, toasted, without salt\",\"nuts, acorns, dried\",\"bulgur, dry\",\"barley flour or meal\",\"barley malt flour\",\"peanut flour, low fat\",\"seeds, lotus seeds, dried\",\"seeds, sesame flour, low-fat\",\"soya flour, full fat\",\"spices, cloves, ground\",\"rice flour, brown\",\"seeds, cottonseed flour, partially defatted (glandless)\",\"peanut flour, defatted\",\"corn flour\",\"corn flour, masa, unenriched, white\",\"sesame seeds, whole, dried\",\"cornmeal, white (navajo)\",\"soy flour, low-fat, crude protein basis (n x 6.25)\",\"spices, ginger, ground\",\"seeds, sesame flour, high-fat\",\"rye flour, light\",\"spearmint, dried\",\"cereals, oats, regular and quick, not fortified, dry\",\"rye flour, dark\",\"rice flour, white\",\"seeds, sesame meal, partially defatted\",\"corn flour, whole-grain, white\",\"seeds, safflower seed meal, partially defatted\",\"sesame seed, decorticated\",\"corn flour, whole-grain, yellow\",\"rice, white, long-grain, parboiled, unenriched, dry\",\"triticale flour, whole-grain\",\"tofu, dried-frozen (koyadofu)\",\"seeds, chia seeds, dried\",\"leavening agents, yeast, bakers, active dry\",\"spices, poppy seed\",\"soy flour, defatted, crude protein basis (n x 6.25)\",\"rice, white, with pasta, dry\",\"sorghum flour\",\"mushrooms, shiitake, dried\",\"oat flour, partially debranned\",\"wocas, dried seeds, oregon, yellow pond lily, nuphar lutea (or) - cy0617b\",\"cornmeal, blue (navajo)\",\"wheat flour, whole-grain, soft wheat\",\"chickpea flour (besan)\",\"sunflower seeds, decorticated, dried\",\"pepeao, dried\",\"dill weed, dried\",\"cereals, whole wheat hot natural cereal, dry\",\"corn flour, whole-grain, blue (harina de maiz morado)\",\"soy flour, low-fat\",\"seaweed, agar, dried\",\"corn, dried (navajo)\"],\"textfont\":{\"size\":7},\"textposition\":\"top center\",\"type\":\"scatter\",\"x\":[35.08972930908203,80.29194641113281,8.006401062011719,-20.843774795532227,85.62874603271484,-19.941251754760742,-14.954360008239746,63.002201080322266,43.41292190551758,40.02454376220703,-11.096746444702148,-11.733804702758789,-20.46175765991211,-7.511382579803467,98.7785415649414,-11.807520866394043,-14.019350051879883,39.7664680480957,0.14677231013774872,60.954830169677734,-11.756731033325195,-20.934354782104492,-13.618494987487793,26.57206916809082,4.999105930328369,-9.210171699523926,-21.687063217163086,2.9222183227539062,-14.321056365966797,4.850337028503418,-13.575361251831055,-16.395414352416992,-22.462495803833008,7.546712398529053,84.43509674072266,27.537893295288086,20.302364349365234,-8.13440990447998,-23.3674373626709,42.72490692138672,11.147416114807129,100.25125885009766,61.4229736328125,4.506251335144043,38.21384048461914,-8.0155668258667,69.95039367675781,-10.313196182250977,-6.211281776428223,-21.506193161010742,68.27405548095703,61.99567794799805,-24.0567626953125,97.9736557006836,10.95468807220459,-13.971847534179688,22.79374885559082,41.82391357421875,12.073959350585938,99.50804138183594,10.385788917541504,79.96631622314453,-22.859331130981445,9.307561874389648,9.516637802124023,66.99969482421875,-22.727224349975586,-12.900850296020508,87.60462951660156,-17.58247184753418,53.058719635009766,-21.6835994720459,19.309337615966797,90.1405258178711,-9.608989715576172,33.71589660644531,-1.0457332134246826,21.146343231201172,7.785342216491699,-21.122419357299805,90.44086456298828,-24.995405197143555,18.614721298217773,6.337555885314941,52.247013092041016,70.65104675292969,0.8979685306549072],\"xaxis\":\"x\",\"y\":[-59.5417594909668,-57.132415771484375,-55.36087417602539,-2.6087777614593506,-57.7877082824707,4.621746063232422,19.648801803588867,-59.02003860473633,-58.062782287597656,-56.257015228271484,23.03177833557129,5.461184978485107,0.00892044510692358,8.75342082977295,-47.75567626953125,-47.97978973388672,27.267250061035156,-54.73080825805664,-49.8123664855957,-56.8809928894043,-46.56639099121094,6.7865095138549805,23.62352752685547,-60.171573638916016,-41.8795166015625,-36.062110900878906,5.925587177276611,-42.232505798339844,22.201391220092773,-42.9089469909668,29.1870059967041,1.0684044361114502,-21.692827224731445,-44.12068557739258,-57.778472900390625,-60.151641845703125,-49.67604446411133,-47.357181549072266,13.940805435180664,-55.077980041503906,-44.14085388183594,-48.341346740722656,-60.76902770996094,-60.12263107299805,-57.942840576171875,9.642167091369629,-58.97477722167969,-47.32584762573242,-47.544063568115234,-22.734357833862305,-58.325862884521484,-58.28761291503906,14.696212768554688,-49.22239685058594,-61.443050384521484,25.524616241455078,-47.44474411010742,-56.42926788330078,-56.04069900512695,-49.75840759277344,-59.100746154785156,-58.05248260498047,-23.142330169677734,-59.37337875366211,-57.33537292480469,-58.387916564941406,7.367196083068848,4.767773151397705,-57.96189880371094,2.545379638671875,-64.15802764892578,0.4114185571670532,-50.3548698425293,-62.94068908691406,-36.97572708129883,-59.96446228027344,-49.519325256347656,-48.14170837402344,-46.209510803222656,-4.694661617279053,-62.010616302490234,-21.777942657470703,-47.19890213012695,-59.477813720703125,-64.66921997070312,-56.949371337890625,-42.48521041870117],\"yaxis\":\"y\"},{\"customdata\":[[\"nuts, ginkgo nuts, dried\",3],[\"longans, dried\",3],[\"spices, onion powder\",3],[\"spices, caraway seed\",3],[\"peppers, hot chile, sun-dried\",3],[\"spices, dill seed\",3],[\"spices, fennel seed\",3],[\"seeds, sisymbrium sp. seeds, whole, dried\",3],[\"spices, sage, ground\",3],[\"spices, anise seed\",3],[\"spices, coriander seed\",3],[\"spices, mace, ground\",3],[\"spices, pepper, white\",3],[\"spices, turmeric, ground\",3],[\"spices, cardamom\",3]],\"hovertemplate\":\"cluster=%{customdata[1]}<br>x1=%{x}<br>x2=%{y}<br>label=%{customdata[0]}<extra></extra>\",\"legendgroup\":\"3\",\"marker\":{\"color\":\"#ab63fa\",\"opacity\":0.5,\"size\":15,\"symbol\":\"circle\"},\"mode\":\"markers+text\",\"name\":\"3\",\"orientation\":\"v\",\"showlegend\":true,\"text\":[\"nuts, ginkgo nuts, dried\",\"longans, dried\",\"spices, onion powder\",\"spices, caraway seed\",\"peppers, hot chile, sun-dried\",\"spices, dill seed\",\"spices, fennel seed\",\"seeds, sisymbrium sp. seeds, whole, dried\",\"spices, sage, ground\",\"spices, anise seed\",\"spices, coriander seed\",\"spices, mace, ground\",\"spices, pepper, white\",\"spices, turmeric, ground\",\"spices, cardamom\"],\"textfont\":{\"size\":7},\"textposition\":\"top center\",\"type\":\"scatter\",\"x\":[21.925756454467773,20.319091796875,13.974960327148438,8.966507911682129,24.027698516845703,7.556633472442627,10.096302032470703,23.45110321044922,25.933931350708008,12.156048774719238,4.441682815551758,6.672863960266113,2.052478075027466,18.225793838500977,3.1094741821289062],\"xaxis\":\"x\",\"y\":[-154.33023071289062,-155.12046813964844,-158.19412231445312,-160.89584350585938,-152.69105529785156,-160.9617156982422,-160.11412048339844,-153.8491668701172,-153.00643920898438,-159.09402465820312,-163.25909423828125,-162.77337646484375,-162.2318878173828,-156.1387176513672,-161.482666015625],\"yaxis\":\"y\"},{\"customdata\":[[\"fig, dried\",4],[\"beans, white, dried\",4],[\"rye flour, dark, whole meal\",4],[\"beans, brown, dried\",4],[\"yeast, dried\",4],[\"beans, soy, dried\",4],[\"wheat flour\",4],[\"rice flour\",4],[\"nut, pea, dried\",4],[\"wheat, flour, wholemeal\",4],[\"apricot, dried\",4]],\"hovertemplate\":\"cluster=%{customdata[1]}<br>x1=%{x}<br>x2=%{y}<br>label=%{customdata[0]}<extra></extra>\",\"legendgroup\":\"4\",\"marker\":{\"color\":\"#FFA15A\",\"opacity\":0.5,\"size\":15,\"symbol\":\"circle\"},\"mode\":\"markers+text\",\"name\":\"4\",\"orientation\":\"v\",\"showlegend\":true,\"text\":[\"fig, dried\",\"beans, white, dried\",\"rye flour, dark, whole meal\",\"beans, brown, dried\",\"yeast, dried\",\"beans, soy, dried\",\"wheat flour\",\"rice flour\",\"nut, pea, dried\",\"wheat, flour, wholemeal\",\"apricot, dried\"],\"textfont\":{\"size\":7},\"textposition\":\"top center\",\"type\":\"scatter\",\"x\":[12.345019340515137,17.55208396911621,21.846982955932617,17.517425537109375,26.634347915649414,25.53821563720703,17.64824867248535,17.555177688598633,24.868906021118164,22.46221923828125,12.924113273620605],\"xaxis\":\"x\",\"y\":[-11.11452579498291,-22.48460578918457,-12.528340339660645,-21.426620483398438,-6.161802768707275,-7.74233865737915,-17.32548713684082,-19.177772521972656,-8.708609580993652,-11.767027854919434,-11.875279426574707],\"yaxis\":\"y\"},{\"customdata\":[[\"tapioca, pearl, dry\",5],[\"cornstarch\",5],[\"potato flour\",5],[\"arrowroot flour\",5],[\"persimmons, japanese, dried\",5],[\"corn starch\",5],[\"baking powder\",5],[\"coffee, dry, powder, with whitener, reduced calorie\",5],[\"coffee, dry, powder, with whitener, reduced calorie\",5],[\"coffee, dry, powder, with whitener, reduced calorie\",5],[\"leavening agents, baking powder, low-sodium\",5],[\"leavening agents, baking powder, double-acting, straight phosphate\",5],[\"leavening agents, baking powder, double-acting, sodium aluminum sulfate\",5],[\"cocoa, dry powder, unsweetened, hersheys european style cocoa\",5]],\"hovertemplate\":\"cluster=%{customdata[1]}<br>x1=%{x}<br>x2=%{y}<br>label=%{customdata[0]}<extra></extra>\",\"legendgroup\":\"5\",\"marker\":{\"color\":\"#19d3f3\",\"opacity\":0.5,\"size\":15,\"symbol\":\"circle\"},\"mode\":\"markers+text\",\"name\":\"5\",\"orientation\":\"v\",\"showlegend\":true,\"text\":[\"tapioca, pearl, dry\",\"cornstarch\",\"potato flour\",\"arrowroot flour\",\"persimmons, japanese, dried\",\"corn starch\",\"baking powder\",\"coffee, dry, powder, with whitener, reduced calorie\",\"coffee, dry, powder, with whitener, reduced calorie\",\"coffee, dry, powder, with whitener, reduced calorie\",\"leavening agents, baking powder, low-sodium\",\"leavening agents, baking powder, double-acting, straight phosphate\",\"leavening agents, baking powder, double-acting, sodium aluminum sulfate\",\"cocoa, dry powder, unsweetened, hersheys european style cocoa\"],\"textfont\":{\"size\":7},\"textposition\":\"top center\",\"type\":\"scatter\",\"x\":[-14.031119346618652,-2.8725039958953857,-2.728755235671997,-13.505966186523438,3.4344403743743896,1.746904969215393,-1.9255753755569458,-6.008266448974609,-4.587222099304199,-5.473309516906738,-4.6660943031311035,-1.0401395559310913,-2.757714033126831,-4.132940769195557],\"xaxis\":\"x\",\"y\":[131.99447631835938,137.923583984375,127.049072265625,132.77239990234375,135.3697052001953,136.02012634277344,136.27099609375,124.60177612304688,124.73802185058594,125.92278289794922,138.6290740966797,138.47254943847656,139.87547302246094,136.42433166503906],\"yaxis\":\"y\"},{\"customdata\":[[\"seeds, pumpkin and squash seed kernels, dried\",6],[\"seeds, pumpkin and squash seed kernels, dried\",6],[\"nuts, coconut meat, dried (desiccated), toasted\",6],[\"spices, oregano, dried\",6],[\"nuts, coconut meat, dried (desiccated), creamed\",6],[\"walnuts\",6],[\"nuts, walnuts, black, dried\",6],[\"nuts, hickorynuts, dried\",6],[\"seeds, pumpkin and squash seed kernels, dried\",6]],\"hovertemplate\":\"cluster=%{customdata[1]}<br>x1=%{x}<br>x2=%{y}<br>label=%{customdata[0]}<extra></extra>\",\"legendgroup\":\"6\",\"marker\":{\"color\":\"#FF6692\",\"opacity\":0.5,\"size\":15,\"symbol\":\"circle\"},\"mode\":\"markers+text\",\"name\":\"6\",\"orientation\":\"v\",\"showlegend\":true,\"text\":[\"seeds, pumpkin and squash seed kernels, dried\",\"seeds, pumpkin and squash seed kernels, dried\",\"nuts, coconut meat, dried (desiccated), toasted\",\"spices, oregano, dried\",\"nuts, coconut meat, dried (desiccated), creamed\",\"walnuts\",\"nuts, walnuts, black, dried\",\"nuts, hickorynuts, dried\",\"seeds, pumpkin and squash seed kernels, dried\"],\"textfont\":{\"size\":7},\"textposition\":\"top center\",\"type\":\"scatter\",\"x\":[-50.91542434692383,-51.381591796875,-51.75899887084961,-48.72957229614258,-52.74979782104492,-59.0154914855957,-59.25794982910156,-61.19927978515625,-49.91917419433594],\"xaxis\":\"x\",\"y\":[9.83151912689209,8.510701179504395,4.92415714263916,11.12725830078125,5.359736919403076,2.2823781967163086,3.226909637451172,2.243072986602783,8.65246295928955],\"yaxis\":\"y\"},{\"customdata\":[[\"tomatoes, sun-dried\",-1],[\"tomato, dried\",-1],[\"spices, allspice, ground\",-1],[\"rose hip, dried, powder\",-1]],\"hovertemplate\":\"cluster=%{customdata[1]}<br>x1=%{x}<br>x2=%{y}<br>label=%{customdata[0]}<extra></extra>\",\"legendgroup\":\"-1\",\"marker\":{\"color\":\"#B6E880\",\"opacity\":0.5,\"size\":15,\"symbol\":\"circle\"},\"mode\":\"markers+text\",\"name\":\"-1\",\"orientation\":\"v\",\"showlegend\":true,\"text\":[\"tomatoes, sun-dried\",\"tomato, dried\",\"spices, allspice, ground\",\"rose hip, dried, powder\"],\"textfont\":{\"size\":7},\"textposition\":\"top center\",\"type\":\"scatter\",\"x\":[-101.32012176513672,-101.61042022705078,-103.27305603027344,-103.21563720703125],\"xaxis\":\"x\",\"y\":[-82.40452575683594,-83.75953674316406,-83.15643310546875,-81.68952941894531],\"yaxis\":\"y\"},{\"customdata\":[[\"onions, dehydrated flakes\",7],[\"tomato powder\",7],[\"nuts, chestnuts, japanese, dried\",7],[\"spices, parsley, dried\",7],[\"nuts, chestnuts, chinese, dried\",7],[\"spices, thyme, dried\",7],[\"litchis, dried\",7],[\"coriander, leaf, dried\",7],[\"spices, coriander leaf, dried\",7],[\"spices, saffron\",7],[\"spices, chervil, dried\",7],[\"celery flakes, dried\",7],[\"spices, tarragon, dried\",7],[\"spices, marjoram, dried\",7],[\"spices, bay leaf\",7],[\"spices, pepper, red or cayenne\",7],[\"spices, rosemary, dried\",7],[\"spices, dill weed, dried\",7],[\"spices, savory, ground\",7]],\"hovertemplate\":\"cluster=%{customdata[1]}<br>x1=%{x}<br>x2=%{y}<br>label=%{customdata[0]}<extra></extra>\",\"legendgroup\":\"7\",\"marker\":{\"color\":\"#FF97FF\",\"opacity\":0.5,\"size\":15,\"symbol\":\"circle\"},\"mode\":\"markers+text\",\"name\":\"7\",\"orientation\":\"v\",\"showlegend\":true,\"text\":[\"onions, dehydrated flakes\",\"tomato powder\",\"nuts, chestnuts, japanese, dried\",\"spices, parsley, dried\",\"nuts, chestnuts, chinese, dried\",\"spices, thyme, dried\",\"litchis, dried\",\"coriander, leaf, dried\",\"spices, coriander leaf, dried\",\"spices, saffron\",\"spices, chervil, dried\",\"celery flakes, dried\",\"spices, tarragon, dried\",\"spices, marjoram, dried\",\"spices, bay leaf\",\"spices, pepper, red or cayenne\",\"spices, rosemary, dried\",\"spices, dill weed, dried\",\"spices, savory, ground\"],\"textfont\":{\"size\":7},\"textposition\":\"top center\",\"type\":\"scatter\",\"x\":[-110.53855895996094,-113.36894989013672,-117.21846771240234,-114.40547943115234,-118.09732818603516,-117.79642486572266,-115.73370361328125,-121.98804473876953,-121.92428588867188,-110.83906555175781,-119.84188842773438,-111.91204833984375,-120.358154296875,-120.37630462646484,-124.08356475830078,-111.77406311035156,-118.54337310791016,-120.938720703125,-121.96609497070312],\"xaxis\":\"x\",\"y\":[7.341463088989258,0.01928481087088585,25.370588302612305,0.06504406780004501,26.5898494720459,39.56237030029297,-1.4622812271118164,-0.042199548333883286,0.9149220585823059,5.5135393142700195,40.83543395996094,4.358682632446289,44.03253936767578,38.833457946777344,42.85947036743164,6.889732837677002,25.1080379486084,42.106788635253906,41.6348762512207],\"yaxis\":\"y\"}],                        {\"legend\":{\"title\":{\"text\":\"cluster\"},\"tracegroupgap\":0},\"margin\":{\"t\":60},\"template\":{\"data\":{\"bar\":[{\"error_x\":{\"color\":\"#2a3f5f\"},\"error_y\":{\"color\":\"#2a3f5f\"},\"marker\":{\"line\":{\"color\":\"#E5ECF6\",\"width\":0.5},\"pattern\":{\"fillmode\":\"overlay\",\"size\":10,\"solidity\":0.2}},\"type\":\"bar\"}],\"barpolar\":[{\"marker\":{\"line\":{\"color\":\"#E5ECF6\",\"width\":0.5},\"pattern\":{\"fillmode\":\"overlay\",\"size\":10,\"solidity\":0.2}},\"type\":\"barpolar\"}],\"carpet\":[{\"aaxis\":{\"endlinecolor\":\"#2a3f5f\",\"gridcolor\":\"white\",\"linecolor\":\"white\",\"minorgridcolor\":\"white\",\"startlinecolor\":\"#2a3f5f\"},\"baxis\":{\"endlinecolor\":\"#2a3f5f\",\"gridcolor\":\"white\",\"linecolor\":\"white\",\"minorgridcolor\":\"white\",\"startlinecolor\":\"#2a3f5f\"},\"type\":\"carpet\"}],\"choropleth\":[{\"colorbar\":{\"outlinewidth\":0,\"ticks\":\"\"},\"type\":\"choropleth\"}],\"contour\":[{\"colorbar\":{\"outlinewidth\":0,\"ticks\":\"\"},\"colorscale\":[[0.0,\"#0d0887\"],[0.1111111111111111,\"#46039f\"],[0.2222222222222222,\"#7201a8\"],[0.3333333333333333,\"#9c179e\"],[0.4444444444444444,\"#bd3786\"],[0.5555555555555556,\"#d8576b\"],[0.6666666666666666,\"#ed7953\"],[0.7777777777777778,\"#fb9f3a\"],[0.8888888888888888,\"#fdca26\"],[1.0,\"#f0f921\"]],\"type\":\"contour\"}],\"contourcarpet\":[{\"colorbar\":{\"outlinewidth\":0,\"ticks\":\"\"},\"type\":\"contourcarpet\"}],\"heatmap\":[{\"colorbar\":{\"outlinewidth\":0,\"ticks\":\"\"},\"colorscale\":[[0.0,\"#0d0887\"],[0.1111111111111111,\"#46039f\"],[0.2222222222222222,\"#7201a8\"],[0.3333333333333333,\"#9c179e\"],[0.4444444444444444,\"#bd3786\"],[0.5555555555555556,\"#d8576b\"],[0.6666666666666666,\"#ed7953\"],[0.7777777777777778,\"#fb9f3a\"],[0.8888888888888888,\"#fdca26\"],[1.0,\"#f0f921\"]],\"type\":\"heatmap\"}],\"heatmapgl\":[{\"colorbar\":{\"outlinewidth\":0,\"ticks\":\"\"},\"colorscale\":[[0.0,\"#0d0887\"],[0.1111111111111111,\"#46039f\"],[0.2222222222222222,\"#7201a8\"],[0.3333333333333333,\"#9c179e\"],[0.4444444444444444,\"#bd3786\"],[0.5555555555555556,\"#d8576b\"],[0.6666666666666666,\"#ed7953\"],[0.7777777777777778,\"#fb9f3a\"],[0.8888888888888888,\"#fdca26\"],[1.0,\"#f0f921\"]],\"type\":\"heatmapgl\"}],\"histogram\":[{\"marker\":{\"pattern\":{\"fillmode\":\"overlay\",\"size\":10,\"solidity\":0.2}},\"type\":\"histogram\"}],\"histogram2d\":[{\"colorbar\":{\"outlinewidth\":0,\"ticks\":\"\"},\"colorscale\":[[0.0,\"#0d0887\"],[0.1111111111111111,\"#46039f\"],[0.2222222222222222,\"#7201a8\"],[0.3333333333333333,\"#9c179e\"],[0.4444444444444444,\"#bd3786\"],[0.5555555555555556,\"#d8576b\"],[0.6666666666666666,\"#ed7953\"],[0.7777777777777778,\"#fb9f3a\"],[0.8888888888888888,\"#fdca26\"],[1.0,\"#f0f921\"]],\"type\":\"histogram2d\"}],\"histogram2dcontour\":[{\"colorbar\":{\"outlinewidth\":0,\"ticks\":\"\"},\"colorscale\":[[0.0,\"#0d0887\"],[0.1111111111111111,\"#46039f\"],[0.2222222222222222,\"#7201a8\"],[0.3333333333333333,\"#9c179e\"],[0.4444444444444444,\"#bd3786\"],[0.5555555555555556,\"#d8576b\"],[0.6666666666666666,\"#ed7953\"],[0.7777777777777778,\"#fb9f3a\"],[0.8888888888888888,\"#fdca26\"],[1.0,\"#f0f921\"]],\"type\":\"histogram2dcontour\"}],\"mesh3d\":[{\"colorbar\":{\"outlinewidth\":0,\"ticks\":\"\"},\"type\":\"mesh3d\"}],\"parcoords\":[{\"line\":{\"colorbar\":{\"outlinewidth\":0,\"ticks\":\"\"}},\"type\":\"parcoords\"}],\"pie\":[{\"automargin\":true,\"type\":\"pie\"}],\"scatter\":[{\"marker\":{\"colorbar\":{\"outlinewidth\":0,\"ticks\":\"\"}},\"type\":\"scatter\"}],\"scatter3d\":[{\"line\":{\"colorbar\":{\"outlinewidth\":0,\"ticks\":\"\"}},\"marker\":{\"colorbar\":{\"outlinewidth\":0,\"ticks\":\"\"}},\"type\":\"scatter3d\"}],\"scattercarpet\":[{\"marker\":{\"colorbar\":{\"outlinewidth\":0,\"ticks\":\"\"}},\"type\":\"scattercarpet\"}],\"scattergeo\":[{\"marker\":{\"colorbar\":{\"outlinewidth\":0,\"ticks\":\"\"}},\"type\":\"scattergeo\"}],\"scattergl\":[{\"marker\":{\"colorbar\":{\"outlinewidth\":0,\"ticks\":\"\"}},\"type\":\"scattergl\"}],\"scattermapbox\":[{\"marker\":{\"colorbar\":{\"outlinewidth\":0,\"ticks\":\"\"}},\"type\":\"scattermapbox\"}],\"scatterpolar\":[{\"marker\":{\"colorbar\":{\"outlinewidth\":0,\"ticks\":\"\"}},\"type\":\"scatterpolar\"}],\"scatterpolargl\":[{\"marker\":{\"colorbar\":{\"outlinewidth\":0,\"ticks\":\"\"}},\"type\":\"scatterpolargl\"}],\"scatterternary\":[{\"marker\":{\"colorbar\":{\"outlinewidth\":0,\"ticks\":\"\"}},\"type\":\"scatterternary\"}],\"surface\":[{\"colorbar\":{\"outlinewidth\":0,\"ticks\":\"\"},\"colorscale\":[[0.0,\"#0d0887\"],[0.1111111111111111,\"#46039f\"],[0.2222222222222222,\"#7201a8\"],[0.3333333333333333,\"#9c179e\"],[0.4444444444444444,\"#bd3786\"],[0.5555555555555556,\"#d8576b\"],[0.6666666666666666,\"#ed7953\"],[0.7777777777777778,\"#fb9f3a\"],[0.8888888888888888,\"#fdca26\"],[1.0,\"#f0f921\"]],\"type\":\"surface\"}],\"table\":[{\"cells\":{\"fill\":{\"color\":\"#EBF0F8\"},\"line\":{\"color\":\"white\"}},\"header\":{\"fill\":{\"color\":\"#C8D4E3\"},\"line\":{\"color\":\"white\"}},\"type\":\"table\"}]},\"layout\":{\"annotationdefaults\":{\"arrowcolor\":\"#2a3f5f\",\"arrowhead\":0,\"arrowwidth\":1},\"autotypenumbers\":\"strict\",\"coloraxis\":{\"colorbar\":{\"outlinewidth\":0,\"ticks\":\"\"}},\"colorscale\":{\"diverging\":[[0,\"#8e0152\"],[0.1,\"#c51b7d\"],[0.2,\"#de77ae\"],[0.3,\"#f1b6da\"],[0.4,\"#fde0ef\"],[0.5,\"#f7f7f7\"],[0.6,\"#e6f5d0\"],[0.7,\"#b8e186\"],[0.8,\"#7fbc41\"],[0.9,\"#4d9221\"],[1,\"#276419\"]],\"sequential\":[[0.0,\"#0d0887\"],[0.1111111111111111,\"#46039f\"],[0.2222222222222222,\"#7201a8\"],[0.3333333333333333,\"#9c179e\"],[0.4444444444444444,\"#bd3786\"],[0.5555555555555556,\"#d8576b\"],[0.6666666666666666,\"#ed7953\"],[0.7777777777777778,\"#fb9f3a\"],[0.8888888888888888,\"#fdca26\"],[1.0,\"#f0f921\"]],\"sequentialminus\":[[0.0,\"#0d0887\"],[0.1111111111111111,\"#46039f\"],[0.2222222222222222,\"#7201a8\"],[0.3333333333333333,\"#9c179e\"],[0.4444444444444444,\"#bd3786\"],[0.5555555555555556,\"#d8576b\"],[0.6666666666666666,\"#ed7953\"],[0.7777777777777778,\"#fb9f3a\"],[0.8888888888888888,\"#fdca26\"],[1.0,\"#f0f921\"]]},\"colorway\":[\"#636efa\",\"#EF553B\",\"#00cc96\",\"#ab63fa\",\"#FFA15A\",\"#19d3f3\",\"#FF6692\",\"#B6E880\",\"#FF97FF\",\"#FECB52\"],\"font\":{\"color\":\"#2a3f5f\"},\"geo\":{\"bgcolor\":\"white\",\"lakecolor\":\"white\",\"landcolor\":\"#E5ECF6\",\"showlakes\":true,\"showland\":true,\"subunitcolor\":\"white\"},\"hoverlabel\":{\"align\":\"left\"},\"hovermode\":\"closest\",\"mapbox\":{\"style\":\"light\"},\"paper_bgcolor\":\"white\",\"plot_bgcolor\":\"#E5ECF6\",\"polar\":{\"angularaxis\":{\"gridcolor\":\"white\",\"linecolor\":\"white\",\"ticks\":\"\"},\"bgcolor\":\"#E5ECF6\",\"radialaxis\":{\"gridcolor\":\"white\",\"linecolor\":\"white\",\"ticks\":\"\"}},\"scene\":{\"xaxis\":{\"backgroundcolor\":\"#E5ECF6\",\"gridcolor\":\"white\",\"gridwidth\":2,\"linecolor\":\"white\",\"showbackground\":true,\"ticks\":\"\",\"zerolinecolor\":\"white\"},\"yaxis\":{\"backgroundcolor\":\"#E5ECF6\",\"gridcolor\":\"white\",\"gridwidth\":2,\"linecolor\":\"white\",\"showbackground\":true,\"ticks\":\"\",\"zerolinecolor\":\"white\"},\"zaxis\":{\"backgroundcolor\":\"#E5ECF6\",\"gridcolor\":\"white\",\"gridwidth\":2,\"linecolor\":\"white\",\"showbackground\":true,\"ticks\":\"\",\"zerolinecolor\":\"white\"}},\"shapedefaults\":{\"line\":{\"color\":\"#2a3f5f\"}},\"ternary\":{\"aaxis\":{\"gridcolor\":\"white\",\"linecolor\":\"white\",\"ticks\":\"\"},\"baxis\":{\"gridcolor\":\"white\",\"linecolor\":\"white\",\"ticks\":\"\"},\"bgcolor\":\"#E5ECF6\",\"caxis\":{\"gridcolor\":\"white\",\"linecolor\":\"white\",\"ticks\":\"\"}},\"title\":{\"x\":0.05},\"xaxis\":{\"automargin\":true,\"gridcolor\":\"white\",\"linecolor\":\"white\",\"ticks\":\"\",\"title\":{\"standoff\":15},\"zerolinecolor\":\"white\",\"zerolinewidth\":2},\"yaxis\":{\"automargin\":true,\"gridcolor\":\"white\",\"linecolor\":\"white\",\"ticks\":\"\",\"title\":{\"standoff\":15},\"zerolinecolor\":\"white\",\"zerolinewidth\":2}}},\"title\":{\"text\":\"An\\u00e1lisis de ingredientes objetivos FooDB: TSNE con filtro V.\"},\"xaxis\":{\"anchor\":\"y\",\"domain\":[0.0,1.0],\"title\":{\"text\":\"x1\"}},\"yaxis\":{\"anchor\":\"x\",\"domain\":[0.0,1.0],\"title\":{\"text\":\"x2\"}}},                        {\"responsive\": true}                    ).then(function(){\n",
       "                            \n",
       "var gd = document.getElementById('4cb4056c-e51b-41c0-a2a2-5dca8183fa27');\n",
       "var x = new MutationObserver(function (mutations, observer) {{\n",
       "        var display = window.getComputedStyle(gd).display;\n",
       "        if (!display || display === 'none') {{\n",
       "            console.log([gd, 'removed!']);\n",
       "            Plotly.purge(gd);\n",
       "            observer.disconnect();\n",
       "        }}\n",
       "}});\n",
       "\n",
       "// Listen for the removal of the full notebook cells\n",
       "var notebookContainer = gd.closest('#notebook-container');\n",
       "if (notebookContainer) {{\n",
       "    x.observe(notebookContainer, {childList: true});\n",
       "}}\n",
       "\n",
       "// Listen for the clearing of the current output cell\n",
       "var outputEl = gd.closest('.output');\n",
       "if (outputEl) {{\n",
       "    x.observe(outputEl, {childList: true});\n",
       "}}\n",
       "\n",
       "                        })                };                });            </script>        </div>"
      ]
     },
     "metadata": {},
     "output_type": "display_data"
    },
    {
     "name": "stdout",
     "output_type": "stream",
     "text": [
      "Getting T-SNE from group all...\n"
     ]
    },
    {
     "data": {
      "application/vnd.plotly.v1+json": {
       "config": {
        "plotlyServerURL": "https://plot.ly"
       },
       "data": [
        {
         "customdata": [
          [
           "date, dried",
           0
          ],
          [
           "fig, dried",
           0
          ],
          [
           "prune, dried plum",
           0
          ],
          [
           "nut, hazel (uk), filbert (usa), dried",
           0
          ],
          [
           "yeast, dried",
           0
          ],
          [
           "beans, soy, dried",
           0
          ],
          [
           "pine nuts, pignolias, dried",
           0
          ],
          [
           "cocoa, powder",
           0
          ],
          [
           "pistachio nuts, dried",
           0
          ],
          [
           "pecans, dried",
           0
          ],
          [
           "soya flour, full fat",
           0
          ],
          [
           "nut, pea, dried",
           0
          ],
          [
           "sesame seeds, whole, dried",
           0
          ],
          [
           "peach, dried",
           0
          ],
          [
           "apple, dried",
           0
          ],
          [
           "sesame seed, decorticated",
           0
          ],
          [
           "tomato, dried",
           0
          ],
          [
           "apricot, dried",
           0
          ],
          [
           "sunflower seeds, decorticated, dried",
           0
          ],
          [
           "curry powder",
           0
          ],
          [
           "rose hip, dried, powder",
           0
          ]
         ],
         "hovertemplate": "cluster=%{customdata[1]}<br>x1=%{x}<br>x2=%{y}<br>label=%{customdata[0]}<extra></extra>",
         "legendgroup": "0",
         "marker": {
          "color": "#636efa",
          "opacity": 0.5,
          "size": 15,
          "symbol": "circle"
         },
         "mode": "markers+text",
         "name": "0",
         "orientation": "v",
         "showlegend": true,
         "text": [
          "date, dried",
          "fig, dried",
          "prune, dried plum",
          "nut, hazel (uk), filbert (usa), dried",
          "yeast, dried",
          "beans, soy, dried",
          "pine nuts, pignolias, dried",
          "cocoa, powder",
          "pistachio nuts, dried",
          "pecans, dried",
          "soya flour, full fat",
          "nut, pea, dried",
          "sesame seeds, whole, dried",
          "peach, dried",
          "apple, dried",
          "sesame seed, decorticated",
          "tomato, dried",
          "apricot, dried",
          "sunflower seeds, decorticated, dried",
          "curry powder",
          "rose hip, dried, powder"
         ],
         "textfont": {
          "size": 7
         },
         "textposition": "top center",
         "type": "scatter",
         "x": [
          94.02165985107422,
          93.5594482421875,
          92.60497283935547,
          88.99787902832031,
          88.15772247314453,
          97.25193786621094,
          83.12559509277344,
          91.90158081054688,
          89.62081146240234,
          81.66634368896484,
          97.7619857788086,
          91.39460754394531,
          85.95159149169922,
          92.11559295654297,
          73.39497375488281,
          88.79449462890625,
          92.23530578613281,
          73.56693267822266,
          89.84869384765625,
          90.59138488769531,
          91.08350372314453
         ],
         "xaxis": "x",
         "y": [
          93.16795349121094,
          95.46495819091797,
          97.65798950195312,
          123.3004150390625,
          111.17618560791016,
          123.67635345458984,
          128.5821075439453,
          111.56539154052734,
          126.56352996826172,
          128.96212768554688,
          125.04621887207031,
          124.46234130859375,
          129.56036376953125,
          94.4389419555664,
          126.66707611083984,
          128.52655029296875,
          99.78900146484375,
          125.32479858398438,
          130.0601043701172,
          110.63666534423828,
          106.24470520019531
         ],
         "yaxis": "y"
        },
        {
         "customdata": [
          [
           "cereals, farina, unenriched, dry",
           1
          ],
          [
           "nuts, ginkgo nuts, dried",
           1
          ],
          [
           "cornmeal, yellow (navajo)",
           1
          ],
          [
           "cereals, corn grits, white, regular and quick, unenriched, dry",
           1
          ],
          [
           "tapioca, pearl, dry",
           1
          ],
          [
           "longans, dried",
           1
          ],
          [
           "cornmeal, degermed, unenriched, white",
           1
          ],
          [
           "millet flour",
           1
          ],
          [
           "buckwheat flour, whole-groat",
           1
          ],
          [
           "spices, onion powder",
           1
          ],
          [
           "cornmeal, whole-grain, yellow",
           1
          ],
          [
           "rye flour, medium",
           1
          ],
          [
           "cereals, corn grits, white, regular and quick, unenriched, dry",
           1
          ],
          [
           "spices, garlic powder",
           1
          ],
          [
           "cornmeal, whole-grain, white",
           1
          ],
          [
           "cornstarch",
           1
          ],
          [
           "cornmeal, degermed, unenriched, yellow",
           1
          ],
          [
           "wheat flour, whole-grain",
           1
          ],
          [
           "cereals, corn grits, yellow, regular and quick, unenriched, dry",
           1
          ],
          [
           "nuts, chestnuts, european, dried, unpeeled",
           1
          ],
          [
           "cereals, corn grits, yellow, regular and quick, unenriched, dry",
           1
          ],
          [
           "nuts, chestnuts, japanese, dried",
           1
          ],
          [
           "bulgur, dry",
           1
          ],
          [
           "barley flour or meal",
           1
          ],
          [
           "barley malt flour",
           1
          ],
          [
           "seeds, lotus seeds, dried",
           1
          ],
          [
           "rice flour, brown",
           1
          ],
          [
           "corn flour, masa, unenriched, white",
           1
          ],
          [
           "cornmeal, white (navajo)",
           1
          ],
          [
           "spices, ginger, ground",
           1
          ],
          [
           "arrowroot flour",
           1
          ],
          [
           "rye flour, light",
           1
          ],
          [
           "cereals, oats, regular and quick, not fortified, dry",
           1
          ],
          [
           "persimmons, japanese, dried",
           1
          ],
          [
           "rice flour, white",
           1
          ],
          [
           "corn flour, whole-grain, white",
           1
          ],
          [
           "corn flour, whole-grain, yellow",
           1
          ],
          [
           "nuts, chestnuts, chinese, dried",
           1
          ],
          [
           "rice, white, long-grain, parboiled, unenriched, dry",
           1
          ],
          [
           "nuts, chestnuts, european, dried, peeled",
           1
          ],
          [
           "wheat flour, white, all-purpose, unenriched",
           1
          ],
          [
           "triticale flour, whole-grain",
           1
          ],
          [
           "rice, white, with pasta, dry",
           1
          ],
          [
           "sorghum flour",
           1
          ],
          [
           "mushrooms, shiitake, dried",
           1
          ],
          [
           "seeds, sisymbrium sp. seeds, whole, dried",
           1
          ],
          [
           "spices, coriander leaf, dried",
           1
          ],
          [
           "spices, saffron",
           1
          ],
          [
           "oat flour, partially debranned",
           1
          ],
          [
           "spices, chervil, dried",
           1
          ],
          [
           "wocas, dried seeds, oregon, yellow pond lily, nuphar lutea (or) - cy0617b",
           1
          ],
          [
           "cornmeal, blue (navajo)",
           1
          ],
          [
           "wheat flour, whole-grain, soft wheat",
           1
          ],
          [
           "chickpea flour (besan)",
           1
          ],
          [
           "leavening agents, baking powder, low-sodium",
           1
          ],
          [
           "spices, tarragon, dried",
           1
          ],
          [
           "leavening agents, baking powder, double-acting, straight phosphate",
           1
          ],
          [
           "leavening agents, baking powder, double-acting, sodium aluminum sulfate",
           1
          ],
          [
           "jujube, dried",
           1
          ],
          [
           "pepeao, dried",
           1
          ],
          [
           "corn flour, degermed, unenriched, yellow",
           1
          ],
          [
           "spices, dill weed, dried",
           1
          ],
          [
           "cereals, whole wheat hot natural cereal, dry",
           1
          ],
          [
           "corn flour, whole-grain, blue (harina de maiz morado)",
           1
          ],
          [
           "fruit, mixed, (prune and apricot and pear), dried",
           1
          ],
          [
           "seaweed, agar, dried",
           1
          ],
          [
           "corn, dried (navajo)",
           1
          ]
         ],
         "hovertemplate": "cluster=%{customdata[1]}<br>x1=%{x}<br>x2=%{y}<br>label=%{customdata[0]}<extra></extra>",
         "legendgroup": "1",
         "marker": {
          "color": "#EF553B",
          "opacity": 0.5,
          "size": 15,
          "symbol": "circle"
         },
         "mode": "markers+text",
         "name": "1",
         "orientation": "v",
         "showlegend": true,
         "text": [
          "cereals, farina, unenriched, dry",
          "nuts, ginkgo nuts, dried",
          "cornmeal, yellow (navajo)",
          "cereals, corn grits, white, regular and quick, unenriched, dry",
          "tapioca, pearl, dry",
          "longans, dried",
          "cornmeal, degermed, unenriched, white",
          "millet flour",
          "buckwheat flour, whole-groat",
          "spices, onion powder",
          "cornmeal, whole-grain, yellow",
          "rye flour, medium",
          "cereals, corn grits, white, regular and quick, unenriched, dry",
          "spices, garlic powder",
          "cornmeal, whole-grain, white",
          "cornstarch",
          "cornmeal, degermed, unenriched, yellow",
          "wheat flour, whole-grain",
          "cereals, corn grits, yellow, regular and quick, unenriched, dry",
          "nuts, chestnuts, european, dried, unpeeled",
          "cereals, corn grits, yellow, regular and quick, unenriched, dry",
          "nuts, chestnuts, japanese, dried",
          "bulgur, dry",
          "barley flour or meal",
          "barley malt flour",
          "seeds, lotus seeds, dried",
          "rice flour, brown",
          "corn flour, masa, unenriched, white",
          "cornmeal, white (navajo)",
          "spices, ginger, ground",
          "arrowroot flour",
          "rye flour, light",
          "cereals, oats, regular and quick, not fortified, dry",
          "persimmons, japanese, dried",
          "rice flour, white",
          "corn flour, whole-grain, white",
          "corn flour, whole-grain, yellow",
          "nuts, chestnuts, chinese, dried",
          "rice, white, long-grain, parboiled, unenriched, dry",
          "nuts, chestnuts, european, dried, peeled",
          "wheat flour, white, all-purpose, unenriched",
          "triticale flour, whole-grain",
          "rice, white, with pasta, dry",
          "sorghum flour",
          "mushrooms, shiitake, dried",
          "seeds, sisymbrium sp. seeds, whole, dried",
          "spices, coriander leaf, dried",
          "spices, saffron",
          "oat flour, partially debranned",
          "spices, chervil, dried",
          "wocas, dried seeds, oregon, yellow pond lily, nuphar lutea (or) - cy0617b",
          "cornmeal, blue (navajo)",
          "wheat flour, whole-grain, soft wheat",
          "chickpea flour (besan)",
          "leavening agents, baking powder, low-sodium",
          "spices, tarragon, dried",
          "leavening agents, baking powder, double-acting, straight phosphate",
          "leavening agents, baking powder, double-acting, sodium aluminum sulfate",
          "jujube, dried",
          "pepeao, dried",
          "corn flour, degermed, unenriched, yellow",
          "spices, dill weed, dried",
          "cereals, whole wheat hot natural cereal, dry",
          "corn flour, whole-grain, blue (harina de maiz morado)",
          "fruit, mixed, (prune and apricot and pear), dried",
          "seaweed, agar, dried",
          "corn, dried (navajo)"
         ],
         "textfont": {
          "size": 7
         },
         "textposition": "top center",
         "type": "scatter",
         "x": [
          -0.485664039850235,
          -14.65625,
          -13.86297607421875,
          2.4335877895355225,
          2.175342559814453,
          -17.308792114257812,
          -7.709942817687988,
          -19.683395385742188,
          -17.145322799682617,
          -32.65895080566406,
          -27.579126358032227,
          -32.54890060424805,
          1.9012387990951538,
          -18.026294708251953,
          -26.20319938659668,
          4.07261323928833,
          -7.751740455627441,
          -19.271398544311523,
          -0.11979161202907562,
          -33.63148498535156,
          0.41433602571487427,
          7.788495063781738,
          -24.48046875,
          -33.67097473144531,
          -26.85910415649414,
          -8.76388168334961,
          -27.175151824951172,
          -22.559154510498047,
          -14.214463233947754,
          -27.979019165039062,
          2.81774640083313,
          -27.506776809692383,
          -14.092065811157227,
          -36.58149719238281,
          0.35509058833122253,
          -30.25798988342285,
          -31.133514404296875,
          9.43327522277832,
          0.6155868172645569,
          11.487724304199219,
          -1.4367074966430664,
          -22.089115142822266,
          -13.920842170715332,
          -26.686819076538086,
          -32.0769157409668,
          -5.701067924499512,
          27.271312713623047,
          -9.140597343444824,
          -10.904271125793457,
          25.76949119567871,
          -27.069473266601562,
          -14.45203685760498,
          -30.153676986694336,
          29.77090072631836,
          2.6009929180145264,
          24.066007614135742,
          5.670093059539795,
          4.3981757164001465,
          -17.96149444580078,
          6.4169182777404785,
          1.558313012123108,
          24.908071517944336,
          -33.732486724853516,
          -34.812835693359375,
          -38.846473693847656,
          -10.779682159423828,
          -17.526268005371094
         ],
         "xaxis": "x",
         "y": [
          -102.21711730957031,
          -89.523193359375,
          -65.8958511352539,
          -111.02052307128906,
          -145.9261474609375,
          -100.14385986328125,
          -119.61044311523438,
          -83.2427978515625,
          -46.1690788269043,
          -49.833587646484375,
          -80.18038177490234,
          -55.12080001831055,
          -109.01235961914062,
          -49.26686477661133,
          -79.65814971923828,
          -145.49237060546875,
          -120.9910659790039,
          -46.432403564453125,
          -109.54206085205078,
          -76.48281860351562,
          -111.54779052734375,
          -127.35665130615234,
          -45.36029815673828,
          -56.15361022949219,
          -67.99597930908203,
          -39.7863883972168,
          -85.40498352050781,
          -81.44615936279297,
          -68.32383728027344,
          -53.47704315185547,
          -144.0791778564453,
          -66.68570709228516,
          -44.94955062866211,
          -73.9327163696289,
          -123.1954116821289,
          -77.72362518310547,
          -79.06266021728516,
          -126.33951568603516,
          -121.71757507324219,
          -125.23368835449219,
          -101.13997650146484,
          -45.82143783569336,
          -90.83549499511719,
          -82.89422607421875,
          -52.346370697021484,
          -41.80443572998047,
          -28.383785247802734,
          -42.30464172363281,
          -43.525936126708984,
          -29.898136138916016,
          -44.999629974365234,
          -69.79125213623047,
          -56.546966552734375,
          -27.190412521362305,
          -37.56464767456055,
          -30.391633987426758,
          -35.6964111328125,
          -36.54664611816406,
          -101.35485076904297,
          -128.33998107910156,
          -125.69943237304688,
          -27.710735321044922,
          -58.86391067504883,
          -61.354061126708984,
          -72.75668334960938,
          -120.21501159667969,
          -84.22982788085938
         ],
         "yaxis": "y"
        },
        {
         "customdata": [
          [
           "corn, dried, yellow (northern plains indians)",
           2
          ],
          [
           "spices, fenugreek seed",
           2
          ],
          [
           "soy flour, defatted",
           2
          ],
          [
           "spices, basil, dried",
           2
          ],
          [
           "spices, paprika",
           2
          ],
          [
           "spices, chili powder",
           2
          ],
          [
           "spices, caraway seed",
           2
          ],
          [
           "nuts, acorn flour, full fat",
           2
          ],
          [
           "spices, oregano, dried",
           2
          ],
          [
           "peppers, ancho, dried",
           2
          ],
          [
           "cocoa, dry powder, unsweetened, processed with alkali",
           2
          ],
          [
           "cocoa, dry powder, unsweetened",
           2
          ],
          [
           "nuts, acorns, dried",
           2
          ],
          [
           "spices, dill seed",
           2
          ],
          [
           "spices, cloves, ground",
           2
          ],
          [
           "peanut flour, defatted",
           2
          ],
          [
           "soy flour, low-fat, crude protein basis (n x 6.25)",
           2
          ],
          [
           "spearmint, dried",
           2
          ],
          [
           "spices, cinnamon, ground",
           2
          ],
          [
           "spices, parsley, dried",
           2
          ],
          [
           "leavening agents, yeast, bakers, active dry",
           2
          ],
          [
           "soy flour, defatted, crude protein basis (n x 6.25)",
           2
          ],
          [
           "spices, fennel seed",
           2
          ],
          [
           "spices, thyme, dried",
           2
          ],
          [
           "spices, sage, ground",
           2
          ],
          [
           "spices, anise seed",
           2
          ],
          [
           "spices, coriander seed",
           2
          ],
          [
           "spices, nutmeg, ground",
           2
          ],
          [
           "spices, celery seed",
           2
          ],
          [
           "spices, mace, ground",
           2
          ],
          [
           "spices, marjoram, dried",
           2
          ],
          [
           "spices, cumin seed",
           2
          ],
          [
           "spices, curry powder",
           2
          ],
          [
           "fungi, cloud ears, dried",
           2
          ],
          [
           "spices, pepper, red or cayenne",
           2
          ],
          [
           "spices, rosemary, dried",
           2
          ],
          [
           "spices, savory, ground",
           2
          ],
          [
           "cocoa, dry powder, hi-fat or breakfast, plain",
           2
          ],
          [
           "cocoa, dry powder, hi-fat or breakfast, processed with alkali",
           2
          ],
          [
           "soy flour, low-fat",
           2
          ],
          [
           "cocoa, dry powder, unsweetened, hersheys european style cocoa",
           2
          ],
          [
           "peppers, pasilla, dried",
           2
          ]
         ],
         "hovertemplate": "cluster=%{customdata[1]}<br>x1=%{x}<br>x2=%{y}<br>label=%{customdata[0]}<extra></extra>",
         "legendgroup": "2",
         "marker": {
          "color": "#00cc96",
          "opacity": 0.5,
          "size": 15,
          "symbol": "circle"
         },
         "mode": "markers+text",
         "name": "2",
         "orientation": "v",
         "showlegend": true,
         "text": [
          "corn, dried, yellow (northern plains indians)",
          "spices, fenugreek seed",
          "soy flour, defatted",
          "spices, basil, dried",
          "spices, paprika",
          "spices, chili powder",
          "spices, caraway seed",
          "nuts, acorn flour, full fat",
          "spices, oregano, dried",
          "peppers, ancho, dried",
          "cocoa, dry powder, unsweetened, processed with alkali",
          "cocoa, dry powder, unsweetened",
          "nuts, acorns, dried",
          "spices, dill seed",
          "spices, cloves, ground",
          "peanut flour, defatted",
          "soy flour, low-fat, crude protein basis (n x 6.25)",
          "spearmint, dried",
          "spices, cinnamon, ground",
          "spices, parsley, dried",
          "leavening agents, yeast, bakers, active dry",
          "soy flour, defatted, crude protein basis (n x 6.25)",
          "spices, fennel seed",
          "spices, thyme, dried",
          "spices, sage, ground",
          "spices, anise seed",
          "spices, coriander seed",
          "spices, nutmeg, ground",
          "spices, celery seed",
          "spices, mace, ground",
          "spices, marjoram, dried",
          "spices, cumin seed",
          "spices, curry powder",
          "fungi, cloud ears, dried",
          "spices, pepper, red or cayenne",
          "spices, rosemary, dried",
          "spices, savory, ground",
          "cocoa, dry powder, hi-fat or breakfast, plain",
          "cocoa, dry powder, hi-fat or breakfast, processed with alkali",
          "soy flour, low-fat",
          "cocoa, dry powder, unsweetened, hersheys european style cocoa",
          "peppers, pasilla, dried"
         ],
         "textfont": {
          "size": 7
         },
         "textposition": "top center",
         "type": "scatter",
         "x": [
          56.407325744628906,
          44.57331085205078,
          57.19746780395508,
          52.69931411743164,
          59.932865142822266,
          60.67592239379883,
          61.837188720703125,
          25.966100692749023,
          84.1532974243164,
          41.01484298706055,
          53.246612548828125,
          54.15010070800781,
          27.21037483215332,
          35.28550720214844,
          77.69711303710938,
          54.763885498046875,
          58.149505615234375,
          51.686073303222656,
          88.20069885253906,
          52.08348846435547,
          53.16642761230469,
          56.57095718383789,
          63.419952392578125,
          79.9038314819336,
          73.80748748779297,
          33.93460464477539,
          65.38629150390625,
          39.54685592651367,
          30.326725006103516,
          41.27996063232422,
          79.48877716064453,
          31.56970977783203,
          71.60707092285156,
          90.2817611694336,
          58.48017120361328,
          75.31104278564453,
          85.47401428222656,
          43.85831832885742,
          45.304771423339844,
          55.90311813354492,
          43.26089096069336,
          41.18311309814453
         ],
         "xaxis": "x",
         "y": [
          -14.586665153503418,
          31.087242126464844,
          50.619449615478516,
          31.94057273864746,
          -10.278993606567383,
          -8.998917579650879,
          2.833672046661377,
          6.692281723022461,
          -7.0152812004089355,
          19.784292221069336,
          6.472201347351074,
          5.399043083190918,
          6.019948959350586,
          15.581963539123535,
          -2.054910659790039,
          50.0527229309082,
          48.62981414794922,
          33.48298645019531,
          -6.989654541015625,
          35.21412658691406,
          38.602012634277344,
          47.886871337890625,
          2.8615269660949707,
          -6.0907769203186035,
          -3.573983669281006,
          14.614426612854004,
          2.8599679470062256,
          -0.3056495487689972,
          11.776625633239746,
          1.3348963260650635,
          -7.562820911407471,
          12.678688049316406,
          -3.7022953033447266,
          -6.923257350921631,
          -12.264066696166992,
          -2.886678695678711,
          -6.257217884063721,
          1.6992729902267456,
          1.8943735361099243,
          45.2703742980957,
          30.472951889038086,
          18.301876068115234
         ],
         "yaxis": "y"
        },
        {
         "customdata": [
          [
           "spices, mustard seed, ground",
           3
          ],
          [
           "seeds, safflower seed kernels, dried",
           3
          ],
          [
           "seeds, flaxseed",
           3
          ],
          [
           "seeds, sunflower seed flour, partially defatted",
           3
          ],
          [
           "seeds, sunflower seed kernels, dried",
           3
          ],
          [
           "seeds, pumpkin and squash seed kernels, dried",
           3
          ],
          [
           "seeds, pumpkin and squash seed kernels, dried",
           3
          ],
          [
           "seeds, cottonseed flour, low fat (glandless)",
           3
          ],
          [
           "seeds, watermelon seed kernels, dried",
           3
          ],
          [
           "seeds, sesame flour, partially defatted",
           3
          ],
          [
           "seeds, sesame seeds, whole, dried",
           3
          ],
          [
           "peanut flour, low fat",
           3
          ],
          [
           "seeds, sesame flour, low-fat",
           3
          ],
          [
           "seeds, cottonseed flour, partially defatted (glandless)",
           3
          ],
          [
           "seaweed, spirulina, dried",
           3
          ],
          [
           "seeds, sesame flour, high-fat",
           3
          ],
          [
           "nuts, beechnuts, dried",
           3
          ],
          [
           "seeds, sesame meal, partially defatted",
           3
          ],
          [
           "seeds, safflower seed meal, partially defatted",
           3
          ],
          [
           "seeds, pumpkin and squash seed kernels, dried",
           3
          ],
          [
           "tofu, dried-frozen (koyadofu)",
           3
          ],
          [
           "seeds, chia seeds, dried",
           3
          ],
          [
           "spices, poppy seed",
           3
          ]
         ],
         "hovertemplate": "cluster=%{customdata[1]}<br>x1=%{x}<br>x2=%{y}<br>label=%{customdata[0]}<extra></extra>",
         "legendgroup": "3",
         "marker": {
          "color": "#ab63fa",
          "opacity": 0.5,
          "size": 15,
          "symbol": "circle"
         },
         "mode": "markers+text",
         "name": "3",
         "orientation": "v",
         "showlegend": true,
         "text": [
          "spices, mustard seed, ground",
          "seeds, safflower seed kernels, dried",
          "seeds, flaxseed",
          "seeds, sunflower seed flour, partially defatted",
          "seeds, sunflower seed kernels, dried",
          "seeds, pumpkin and squash seed kernels, dried",
          "seeds, pumpkin and squash seed kernels, dried",
          "seeds, cottonseed flour, low fat (glandless)",
          "seeds, watermelon seed kernels, dried",
          "seeds, sesame flour, partially defatted",
          "seeds, sesame seeds, whole, dried",
          "peanut flour, low fat",
          "seeds, sesame flour, low-fat",
          "seeds, cottonseed flour, partially defatted (glandless)",
          "seaweed, spirulina, dried",
          "seeds, sesame flour, high-fat",
          "nuts, beechnuts, dried",
          "seeds, sesame meal, partially defatted",
          "seeds, safflower seed meal, partially defatted",
          "seeds, pumpkin and squash seed kernels, dried",
          "tofu, dried-frozen (koyadofu)",
          "seeds, chia seeds, dried",
          "spices, poppy seed"
         ],
         "textfont": {
          "size": 7
         },
         "textposition": "top center",
         "type": "scatter",
         "x": [
          -65.224365234375,
          -66.1496810913086,
          -63.844730377197266,
          -56.909427642822266,
          -71.80695343017578,
          -82.24545288085938,
          -84.10662841796875,
          -55.097694396972656,
          -85.76110076904297,
          -58.66456985473633,
          -70.8264389038086,
          -61.18500900268555,
          -56.5007209777832,
          -57.175010681152344,
          -56.826377868652344,
          -66.79065704345703,
          -66.87390899658203,
          -68.1843490600586,
          -54.8536491394043,
          -82.92797088623047,
          -69.41922760009766,
          -62.72377395629883,
          -64.51356506347656
         ],
         "xaxis": "x",
         "y": [
          52.58702087402344,
          35.95275115966797,
          29.613136291503906,
          67.13267517089844,
          39.33477783203125,
          46.95647048950195,
          47.08757781982422,
          68.19200134277344,
          49.536128997802734,
          61.0910758972168,
          38.286216735839844,
          58.26955032348633,
          69.24050903320312,
          61.94135284423828,
          71.88186645507812,
          51.92476272583008,
          40.565067291259766,
          39.25093078613281,
          61.444149017333984,
          48.69593048095703,
          52.07265090942383,
          27.665313720703125,
          30.970800399780273
         ],
         "yaxis": "y"
        },
        {
         "customdata": [
          [
           "carrot, dehydrated",
           4
          ],
          [
           "bananas, dehydrated, or banana powder",
           4
          ],
          [
           "carob flour",
           4
          ],
          [
           "radishes, oriental, dried",
           4
          ],
          [
           "peppers, hot chile, sun-dried",
           4
          ],
          [
           "tomatoes, sun-dried",
           4
          ],
          [
           "onions, dehydrated flakes",
           4
          ],
          [
           "tomato powder",
           4
          ],
          [
           "litchis, dried",
           4
          ],
          [
           "celery flakes, dried",
           4
          ],
          [
           "currants, zante, dried",
           4
          ],
          [
           "agave, dried (southwest)",
           4
          ]
         ],
         "hovertemplate": "cluster=%{customdata[1]}<br>x1=%{x}<br>x2=%{y}<br>label=%{customdata[0]}<extra></extra>",
         "legendgroup": "4",
         "marker": {
          "color": "#FFA15A",
          "opacity": 0.5,
          "size": 15,
          "symbol": "circle"
         },
         "mode": "markers+text",
         "name": "4",
         "orientation": "v",
         "showlegend": true,
         "text": [
          "carrot, dehydrated",
          "bananas, dehydrated, or banana powder",
          "carob flour",
          "radishes, oriental, dried",
          "peppers, hot chile, sun-dried",
          "tomatoes, sun-dried",
          "onions, dehydrated flakes",
          "tomato powder",
          "litchis, dried",
          "celery flakes, dried",
          "currants, zante, dried",
          "agave, dried (southwest)"
         ],
         "textfont": {
          "size": 7
         },
         "textposition": "top center",
         "type": "scatter",
         "x": [
          163.78758239746094,
          160.0906982421875,
          161.3083953857422,
          168.66717529296875,
          166.40457153320312,
          171.30247497558594,
          162.09414672851562,
          164.23609924316406,
          153.3001708984375,
          167.97178649902344,
          153.38084411621094,
          158.50245666503906
         ],
         "xaxis": "x",
         "y": [
          -3.6168007850646973,
          -9.79853630065918,
          -1.9764797687530518,
          -0.06683998554944992,
          -0.9923529028892517,
          0.47690996527671814,
          -9.359044075012207,
          -5.290170192718506,
          -13.01773738861084,
          1.399276614189148,
          -11.580436706542969,
          -9.364154815673828
         ],
         "yaxis": "y"
        },
        {
         "customdata": [
          [
           "nuts, brazilnuts, dried, unblanched",
           5
          ],
          [
           "nuts, pine nuts, pinyon, dried",
           5
          ],
          [
           "nuts, pilinuts, dried",
           5
          ],
          [
           "nuts, coconut meat, dried (desiccated), toasted",
           5
          ],
          [
           "nuts, pine nuts, dried",
           5
          ],
          [
           "seeds, sesame seed kernels, dried (decorticated)",
           5
          ],
          [
           "nuts, coconut meat, dried (desiccated), creamed",
           5
          ],
          [
           "nuts, butternuts, dried",
           5
          ],
          [
           "walnuts",
           5
          ],
          [
           "seeds, sunflower seed kernels, toasted, without salt",
           5
          ],
          [
           "nuts, walnuts, black, dried",
           5
          ],
          [
           "nuts, hickorynuts, dried",
           5
          ]
         ],
         "hovertemplate": "cluster=%{customdata[1]}<br>x1=%{x}<br>x2=%{y}<br>label=%{customdata[0]}<extra></extra>",
         "legendgroup": "5",
         "marker": {
          "color": "#19d3f3",
          "opacity": 0.5,
          "size": 15,
          "symbol": "circle"
         },
         "mode": "markers+text",
         "name": "5",
         "orientation": "v",
         "showlegend": true,
         "text": [
          "nuts, brazilnuts, dried, unblanched",
          "nuts, pine nuts, pinyon, dried",
          "nuts, pilinuts, dried",
          "nuts, coconut meat, dried (desiccated), toasted",
          "nuts, pine nuts, dried",
          "seeds, sesame seed kernels, dried (decorticated)",
          "nuts, coconut meat, dried (desiccated), creamed",
          "nuts, butternuts, dried",
          "walnuts",
          "seeds, sunflower seed kernels, toasted, without salt",
          "nuts, walnuts, black, dried",
          "nuts, hickorynuts, dried"
         ],
         "textfont": {
          "size": 7
         },
         "textposition": "top center",
         "type": "scatter",
         "x": [
          -84.27735900878906,
          -85.44169616699219,
          -82.1230239868164,
          -71.90788269042969,
          -97.24413299560547,
          -86.3301010131836,
          -73.25907897949219,
          -102.06331634521484,
          -100.02213287353516,
          -100.05540466308594,
          -99.32882690429688,
          -83.53366088867188
         ],
         "xaxis": "x",
         "y": [
          5.8644843101501465,
          8.375737190246582,
          4.215518951416016,
          -0.74517422914505,
          14.836160659790039,
          6.449976444244385,
          -0.12907923758029938,
          17.451791763305664,
          16.255077362060547,
          20.17679214477539,
          17.47711944580078,
          8.610637664794922
         ],
         "yaxis": "y"
        },
        {
         "customdata": [
          [
           "spices, pepper, black",
           6
          ],
          [
           "rye flour, dark",
           6
          ],
          [
           "spices, allspice, ground",
           6
          ],
          [
           "spices, pepper, white",
           6
          ],
          [
           "spices, turmeric, ground",
           6
          ],
          [
           "spices, bay leaf",
           6
          ],
          [
           "spices, cardamom",
           6
          ]
         ],
         "hovertemplate": "cluster=%{customdata[1]}<br>x1=%{x}<br>x2=%{y}<br>label=%{customdata[0]}<extra></extra>",
         "legendgroup": "6",
         "marker": {
          "color": "#FF6692",
          "opacity": 0.5,
          "size": 15,
          "symbol": "circle"
         },
         "mode": "markers+text",
         "name": "6",
         "orientation": "v",
         "showlegend": true,
         "text": [
          "spices, pepper, black",
          "rye flour, dark",
          "spices, allspice, ground",
          "spices, pepper, white",
          "spices, turmeric, ground",
          "spices, bay leaf",
          "spices, cardamom"
         ],
         "textfont": {
          "size": 7
         },
         "textposition": "top center",
         "type": "scatter",
         "x": [
          19.35955047607422,
          22.363229751586914,
          12.818632125854492,
          20.19005584716797,
          12.963150024414062,
          13.484790802001953,
          18.276262283325195
         ],
         "xaxis": "x",
         "y": [
          43.618751525878906,
          44.16260528564453,
          46.56663131713867,
          45.32722091674805,
          44.0772590637207,
          48.00832748413086,
          45.81629943847656
         ],
         "yaxis": "y"
        },
        {
         "customdata": [
          [
           "beans, white, dried",
           7
          ],
          [
           "lentils, dried",
           7
          ],
          [
           "rye flour, dark, whole meal",
           7
          ],
          [
           "beans, brown, dried",
           7
          ],
          [
           "buckwheat flour",
           7
          ],
          [
           "wheat flour",
           7
          ],
          [
           "potato flour",
           7
          ],
          [
           "wheat flour",
           7
          ],
          [
           "rice flour",
           7
          ],
          [
           "corn flour",
           7
          ],
          [
           "garlic, dried, powder",
           7
          ],
          [
           "wheat, flour, wholemeal",
           7
          ],
          [
           "corn starch",
           7
          ],
          [
           "baking powder",
           7
          ],
          [
           "coriander, leaf, dried",
           7
          ],
          [
           "seaweed, konbu, dried (kelp)",
           7
          ],
          [
           "dill weed, dried",
           7
          ]
         ],
         "hovertemplate": "cluster=%{customdata[1]}<br>x1=%{x}<br>x2=%{y}<br>label=%{customdata[0]}<extra></extra>",
         "legendgroup": "7",
         "marker": {
          "color": "#B6E880",
          "opacity": 0.5,
          "size": 15,
          "symbol": "circle"
         },
         "mode": "markers+text",
         "name": "7",
         "orientation": "v",
         "showlegend": true,
         "text": [
          "beans, white, dried",
          "lentils, dried",
          "rye flour, dark, whole meal",
          "beans, brown, dried",
          "buckwheat flour",
          "wheat flour",
          "potato flour",
          "wheat flour",
          "rice flour",
          "corn flour",
          "garlic, dried, powder",
          "wheat, flour, wholemeal",
          "corn starch",
          "baking powder",
          "coriander, leaf, dried",
          "seaweed, konbu, dried (kelp)",
          "dill weed, dried"
         ],
         "textfont": {
          "size": 7
         },
         "textposition": "top center",
         "type": "scatter",
         "x": [
          37.31194305419922,
          36.60976028442383,
          28.805315017700195,
          38.56850051879883,
          31.249561309814453,
          31.15700912475586,
          27.764665603637695,
          29.519136428833008,
          28.301471710205078,
          28.831144332885742,
          32.5986442565918,
          30.322593688964844,
          26.14940643310547,
          46.015438079833984,
          40.95512008666992,
          43.605953216552734,
          40.437767028808594
         ],
         "xaxis": "x",
         "y": [
          170.36231994628906,
          179.11483764648438,
          180.17318725585938,
          169.7562255859375,
          186.08526611328125,
          188.36862182617188,
          197.46495056152344,
          188.2001190185547,
          194.26942443847656,
          192.67710876464844,
          182.03094482421875,
          180.71087646484375,
          197.7446746826172,
          176.9119873046875,
          175.3433380126953,
          176.73117065429688,
          176.64593505859375
         ],
         "yaxis": "y"
        },
        {
         "customdata": [
          [
           "coffee, dry, powder, with whitener, reduced calorie",
           8
          ],
          [
           "coffee, dry, powder, with whitener, reduced calorie",
           8
          ],
          [
           "coffee, dry, powder, with whitener, reduced calorie",
           8
          ],
          [
           "coffee and cocoa (mocha) powder, with whitener and low calorie sweetener",
           8
          ],
          [
           "coffee and cocoa (mocha) powder, with whitener and low calorie sweetener, decaffeinated",
           8
          ]
         ],
         "hovertemplate": "cluster=%{customdata[1]}<br>x1=%{x}<br>x2=%{y}<br>label=%{customdata[0]}<extra></extra>",
         "legendgroup": "8",
         "marker": {
          "color": "#FF97FF",
          "opacity": 0.5,
          "size": 15,
          "symbol": "circle"
         },
         "mode": "markers+text",
         "name": "8",
         "orientation": "v",
         "showlegend": true,
         "text": [
          "coffee, dry, powder, with whitener, reduced calorie",
          "coffee, dry, powder, with whitener, reduced calorie",
          "coffee, dry, powder, with whitener, reduced calorie",
          "coffee and cocoa (mocha) powder, with whitener and low calorie sweetener",
          "coffee and cocoa (mocha) powder, with whitener and low calorie sweetener, decaffeinated"
         ],
         "textfont": {
          "size": 7
         },
         "textposition": "top center",
         "type": "scatter",
         "x": [
          -3.2463252544403076,
          -5.1660332679748535,
          -4.167364597320557,
          -16.05681800842285,
          -15.643047332763672
         ],
         "xaxis": "x",
         "y": [
          92.1005859375,
          92.14342498779297,
          93.78600311279297,
          97.20928192138672,
          98.17973327636719
         ],
         "yaxis": "y"
        }
       ],
       "layout": {
        "legend": {
         "title": {
          "text": "cluster"
         },
         "tracegroupgap": 0
        },
        "margin": {
         "t": 60
        },
        "template": {
         "data": {
          "bar": [
           {
            "error_x": {
             "color": "#2a3f5f"
            },
            "error_y": {
             "color": "#2a3f5f"
            },
            "marker": {
             "line": {
              "color": "#E5ECF6",
              "width": 0.5
             },
             "pattern": {
              "fillmode": "overlay",
              "size": 10,
              "solidity": 0.2
             }
            },
            "type": "bar"
           }
          ],
          "barpolar": [
           {
            "marker": {
             "line": {
              "color": "#E5ECF6",
              "width": 0.5
             },
             "pattern": {
              "fillmode": "overlay",
              "size": 10,
              "solidity": 0.2
             }
            },
            "type": "barpolar"
           }
          ],
          "carpet": [
           {
            "aaxis": {
             "endlinecolor": "#2a3f5f",
             "gridcolor": "white",
             "linecolor": "white",
             "minorgridcolor": "white",
             "startlinecolor": "#2a3f5f"
            },
            "baxis": {
             "endlinecolor": "#2a3f5f",
             "gridcolor": "white",
             "linecolor": "white",
             "minorgridcolor": "white",
             "startlinecolor": "#2a3f5f"
            },
            "type": "carpet"
           }
          ],
          "choropleth": [
           {
            "colorbar": {
             "outlinewidth": 0,
             "ticks": ""
            },
            "type": "choropleth"
           }
          ],
          "contour": [
           {
            "colorbar": {
             "outlinewidth": 0,
             "ticks": ""
            },
            "colorscale": [
             [
              0,
              "#0d0887"
             ],
             [
              0.1111111111111111,
              "#46039f"
             ],
             [
              0.2222222222222222,
              "#7201a8"
             ],
             [
              0.3333333333333333,
              "#9c179e"
             ],
             [
              0.4444444444444444,
              "#bd3786"
             ],
             [
              0.5555555555555556,
              "#d8576b"
             ],
             [
              0.6666666666666666,
              "#ed7953"
             ],
             [
              0.7777777777777778,
              "#fb9f3a"
             ],
             [
              0.8888888888888888,
              "#fdca26"
             ],
             [
              1,
              "#f0f921"
             ]
            ],
            "type": "contour"
           }
          ],
          "contourcarpet": [
           {
            "colorbar": {
             "outlinewidth": 0,
             "ticks": ""
            },
            "type": "contourcarpet"
           }
          ],
          "heatmap": [
           {
            "colorbar": {
             "outlinewidth": 0,
             "ticks": ""
            },
            "colorscale": [
             [
              0,
              "#0d0887"
             ],
             [
              0.1111111111111111,
              "#46039f"
             ],
             [
              0.2222222222222222,
              "#7201a8"
             ],
             [
              0.3333333333333333,
              "#9c179e"
             ],
             [
              0.4444444444444444,
              "#bd3786"
             ],
             [
              0.5555555555555556,
              "#d8576b"
             ],
             [
              0.6666666666666666,
              "#ed7953"
             ],
             [
              0.7777777777777778,
              "#fb9f3a"
             ],
             [
              0.8888888888888888,
              "#fdca26"
             ],
             [
              1,
              "#f0f921"
             ]
            ],
            "type": "heatmap"
           }
          ],
          "heatmapgl": [
           {
            "colorbar": {
             "outlinewidth": 0,
             "ticks": ""
            },
            "colorscale": [
             [
              0,
              "#0d0887"
             ],
             [
              0.1111111111111111,
              "#46039f"
             ],
             [
              0.2222222222222222,
              "#7201a8"
             ],
             [
              0.3333333333333333,
              "#9c179e"
             ],
             [
              0.4444444444444444,
              "#bd3786"
             ],
             [
              0.5555555555555556,
              "#d8576b"
             ],
             [
              0.6666666666666666,
              "#ed7953"
             ],
             [
              0.7777777777777778,
              "#fb9f3a"
             ],
             [
              0.8888888888888888,
              "#fdca26"
             ],
             [
              1,
              "#f0f921"
             ]
            ],
            "type": "heatmapgl"
           }
          ],
          "histogram": [
           {
            "marker": {
             "pattern": {
              "fillmode": "overlay",
              "size": 10,
              "solidity": 0.2
             }
            },
            "type": "histogram"
           }
          ],
          "histogram2d": [
           {
            "colorbar": {
             "outlinewidth": 0,
             "ticks": ""
            },
            "colorscale": [
             [
              0,
              "#0d0887"
             ],
             [
              0.1111111111111111,
              "#46039f"
             ],
             [
              0.2222222222222222,
              "#7201a8"
             ],
             [
              0.3333333333333333,
              "#9c179e"
             ],
             [
              0.4444444444444444,
              "#bd3786"
             ],
             [
              0.5555555555555556,
              "#d8576b"
             ],
             [
              0.6666666666666666,
              "#ed7953"
             ],
             [
              0.7777777777777778,
              "#fb9f3a"
             ],
             [
              0.8888888888888888,
              "#fdca26"
             ],
             [
              1,
              "#f0f921"
             ]
            ],
            "type": "histogram2d"
           }
          ],
          "histogram2dcontour": [
           {
            "colorbar": {
             "outlinewidth": 0,
             "ticks": ""
            },
            "colorscale": [
             [
              0,
              "#0d0887"
             ],
             [
              0.1111111111111111,
              "#46039f"
             ],
             [
              0.2222222222222222,
              "#7201a8"
             ],
             [
              0.3333333333333333,
              "#9c179e"
             ],
             [
              0.4444444444444444,
              "#bd3786"
             ],
             [
              0.5555555555555556,
              "#d8576b"
             ],
             [
              0.6666666666666666,
              "#ed7953"
             ],
             [
              0.7777777777777778,
              "#fb9f3a"
             ],
             [
              0.8888888888888888,
              "#fdca26"
             ],
             [
              1,
              "#f0f921"
             ]
            ],
            "type": "histogram2dcontour"
           }
          ],
          "mesh3d": [
           {
            "colorbar": {
             "outlinewidth": 0,
             "ticks": ""
            },
            "type": "mesh3d"
           }
          ],
          "parcoords": [
           {
            "line": {
             "colorbar": {
              "outlinewidth": 0,
              "ticks": ""
             }
            },
            "type": "parcoords"
           }
          ],
          "pie": [
           {
            "automargin": true,
            "type": "pie"
           }
          ],
          "scatter": [
           {
            "marker": {
             "colorbar": {
              "outlinewidth": 0,
              "ticks": ""
             }
            },
            "type": "scatter"
           }
          ],
          "scatter3d": [
           {
            "line": {
             "colorbar": {
              "outlinewidth": 0,
              "ticks": ""
             }
            },
            "marker": {
             "colorbar": {
              "outlinewidth": 0,
              "ticks": ""
             }
            },
            "type": "scatter3d"
           }
          ],
          "scattercarpet": [
           {
            "marker": {
             "colorbar": {
              "outlinewidth": 0,
              "ticks": ""
             }
            },
            "type": "scattercarpet"
           }
          ],
          "scattergeo": [
           {
            "marker": {
             "colorbar": {
              "outlinewidth": 0,
              "ticks": ""
             }
            },
            "type": "scattergeo"
           }
          ],
          "scattergl": [
           {
            "marker": {
             "colorbar": {
              "outlinewidth": 0,
              "ticks": ""
             }
            },
            "type": "scattergl"
           }
          ],
          "scattermapbox": [
           {
            "marker": {
             "colorbar": {
              "outlinewidth": 0,
              "ticks": ""
             }
            },
            "type": "scattermapbox"
           }
          ],
          "scatterpolar": [
           {
            "marker": {
             "colorbar": {
              "outlinewidth": 0,
              "ticks": ""
             }
            },
            "type": "scatterpolar"
           }
          ],
          "scatterpolargl": [
           {
            "marker": {
             "colorbar": {
              "outlinewidth": 0,
              "ticks": ""
             }
            },
            "type": "scatterpolargl"
           }
          ],
          "scatterternary": [
           {
            "marker": {
             "colorbar": {
              "outlinewidth": 0,
              "ticks": ""
             }
            },
            "type": "scatterternary"
           }
          ],
          "surface": [
           {
            "colorbar": {
             "outlinewidth": 0,
             "ticks": ""
            },
            "colorscale": [
             [
              0,
              "#0d0887"
             ],
             [
              0.1111111111111111,
              "#46039f"
             ],
             [
              0.2222222222222222,
              "#7201a8"
             ],
             [
              0.3333333333333333,
              "#9c179e"
             ],
             [
              0.4444444444444444,
              "#bd3786"
             ],
             [
              0.5555555555555556,
              "#d8576b"
             ],
             [
              0.6666666666666666,
              "#ed7953"
             ],
             [
              0.7777777777777778,
              "#fb9f3a"
             ],
             [
              0.8888888888888888,
              "#fdca26"
             ],
             [
              1,
              "#f0f921"
             ]
            ],
            "type": "surface"
           }
          ],
          "table": [
           {
            "cells": {
             "fill": {
              "color": "#EBF0F8"
             },
             "line": {
              "color": "white"
             }
            },
            "header": {
             "fill": {
              "color": "#C8D4E3"
             },
             "line": {
              "color": "white"
             }
            },
            "type": "table"
           }
          ]
         },
         "layout": {
          "annotationdefaults": {
           "arrowcolor": "#2a3f5f",
           "arrowhead": 0,
           "arrowwidth": 1
          },
          "autotypenumbers": "strict",
          "coloraxis": {
           "colorbar": {
            "outlinewidth": 0,
            "ticks": ""
           }
          },
          "colorscale": {
           "diverging": [
            [
             0,
             "#8e0152"
            ],
            [
             0.1,
             "#c51b7d"
            ],
            [
             0.2,
             "#de77ae"
            ],
            [
             0.3,
             "#f1b6da"
            ],
            [
             0.4,
             "#fde0ef"
            ],
            [
             0.5,
             "#f7f7f7"
            ],
            [
             0.6,
             "#e6f5d0"
            ],
            [
             0.7,
             "#b8e186"
            ],
            [
             0.8,
             "#7fbc41"
            ],
            [
             0.9,
             "#4d9221"
            ],
            [
             1,
             "#276419"
            ]
           ],
           "sequential": [
            [
             0,
             "#0d0887"
            ],
            [
             0.1111111111111111,
             "#46039f"
            ],
            [
             0.2222222222222222,
             "#7201a8"
            ],
            [
             0.3333333333333333,
             "#9c179e"
            ],
            [
             0.4444444444444444,
             "#bd3786"
            ],
            [
             0.5555555555555556,
             "#d8576b"
            ],
            [
             0.6666666666666666,
             "#ed7953"
            ],
            [
             0.7777777777777778,
             "#fb9f3a"
            ],
            [
             0.8888888888888888,
             "#fdca26"
            ],
            [
             1,
             "#f0f921"
            ]
           ],
           "sequentialminus": [
            [
             0,
             "#0d0887"
            ],
            [
             0.1111111111111111,
             "#46039f"
            ],
            [
             0.2222222222222222,
             "#7201a8"
            ],
            [
             0.3333333333333333,
             "#9c179e"
            ],
            [
             0.4444444444444444,
             "#bd3786"
            ],
            [
             0.5555555555555556,
             "#d8576b"
            ],
            [
             0.6666666666666666,
             "#ed7953"
            ],
            [
             0.7777777777777778,
             "#fb9f3a"
            ],
            [
             0.8888888888888888,
             "#fdca26"
            ],
            [
             1,
             "#f0f921"
            ]
           ]
          },
          "colorway": [
           "#636efa",
           "#EF553B",
           "#00cc96",
           "#ab63fa",
           "#FFA15A",
           "#19d3f3",
           "#FF6692",
           "#B6E880",
           "#FF97FF",
           "#FECB52"
          ],
          "font": {
           "color": "#2a3f5f"
          },
          "geo": {
           "bgcolor": "white",
           "lakecolor": "white",
           "landcolor": "#E5ECF6",
           "showlakes": true,
           "showland": true,
           "subunitcolor": "white"
          },
          "hoverlabel": {
           "align": "left"
          },
          "hovermode": "closest",
          "mapbox": {
           "style": "light"
          },
          "paper_bgcolor": "white",
          "plot_bgcolor": "#E5ECF6",
          "polar": {
           "angularaxis": {
            "gridcolor": "white",
            "linecolor": "white",
            "ticks": ""
           },
           "bgcolor": "#E5ECF6",
           "radialaxis": {
            "gridcolor": "white",
            "linecolor": "white",
            "ticks": ""
           }
          },
          "scene": {
           "xaxis": {
            "backgroundcolor": "#E5ECF6",
            "gridcolor": "white",
            "gridwidth": 2,
            "linecolor": "white",
            "showbackground": true,
            "ticks": "",
            "zerolinecolor": "white"
           },
           "yaxis": {
            "backgroundcolor": "#E5ECF6",
            "gridcolor": "white",
            "gridwidth": 2,
            "linecolor": "white",
            "showbackground": true,
            "ticks": "",
            "zerolinecolor": "white"
           },
           "zaxis": {
            "backgroundcolor": "#E5ECF6",
            "gridcolor": "white",
            "gridwidth": 2,
            "linecolor": "white",
            "showbackground": true,
            "ticks": "",
            "zerolinecolor": "white"
           }
          },
          "shapedefaults": {
           "line": {
            "color": "#2a3f5f"
           }
          },
          "ternary": {
           "aaxis": {
            "gridcolor": "white",
            "linecolor": "white",
            "ticks": ""
           },
           "baxis": {
            "gridcolor": "white",
            "linecolor": "white",
            "ticks": ""
           },
           "bgcolor": "#E5ECF6",
           "caxis": {
            "gridcolor": "white",
            "linecolor": "white",
            "ticks": ""
           }
          },
          "title": {
           "x": 0.05
          },
          "xaxis": {
           "automargin": true,
           "gridcolor": "white",
           "linecolor": "white",
           "ticks": "",
           "title": {
            "standoff": 15
           },
           "zerolinecolor": "white",
           "zerolinewidth": 2
          },
          "yaxis": {
           "automargin": true,
           "gridcolor": "white",
           "linecolor": "white",
           "ticks": "",
           "title": {
            "standoff": 15
           },
           "zerolinecolor": "white",
           "zerolinewidth": 2
          }
         }
        },
        "title": {
         "text": "Análisis de ingredientes objetivos FooDB: TSNE con filtro all."
        },
        "xaxis": {
         "anchor": "y",
         "domain": [
          0,
          1
         ],
         "title": {
          "text": "x1"
         }
        },
        "yaxis": {
         "anchor": "x",
         "domain": [
          0,
          1
         ],
         "title": {
          "text": "x2"
         }
        }
       }
      },
      "text/html": [
       "<div>                            <div id=\"65ad0d0a-20be-4240-b2aa-94195060a5ec\" class=\"plotly-graph-div\" style=\"height:525px; width:100%;\"></div>            <script type=\"text/javascript\">                require([\"plotly\"], function(Plotly) {                    window.PLOTLYENV=window.PLOTLYENV || {};                                    if (document.getElementById(\"65ad0d0a-20be-4240-b2aa-94195060a5ec\")) {                    Plotly.newPlot(                        \"65ad0d0a-20be-4240-b2aa-94195060a5ec\",                        [{\"customdata\":[[\"date, dried\",0],[\"fig, dried\",0],[\"prune, dried plum\",0],[\"nut, hazel (uk), filbert (usa), dried\",0],[\"yeast, dried\",0],[\"beans, soy, dried\",0],[\"pine nuts, pignolias, dried\",0],[\"cocoa, powder\",0],[\"pistachio nuts, dried\",0],[\"pecans, dried\",0],[\"soya flour, full fat\",0],[\"nut, pea, dried\",0],[\"sesame seeds, whole, dried\",0],[\"peach, dried\",0],[\"apple, dried\",0],[\"sesame seed, decorticated\",0],[\"tomato, dried\",0],[\"apricot, dried\",0],[\"sunflower seeds, decorticated, dried\",0],[\"curry powder\",0],[\"rose hip, dried, powder\",0]],\"hovertemplate\":\"cluster=%{customdata[1]}<br>x1=%{x}<br>x2=%{y}<br>label=%{customdata[0]}<extra></extra>\",\"legendgroup\":\"0\",\"marker\":{\"color\":\"#636efa\",\"opacity\":0.5,\"size\":15,\"symbol\":\"circle\"},\"mode\":\"markers+text\",\"name\":\"0\",\"orientation\":\"v\",\"showlegend\":true,\"text\":[\"date, dried\",\"fig, dried\",\"prune, dried plum\",\"nut, hazel (uk), filbert (usa), dried\",\"yeast, dried\",\"beans, soy, dried\",\"pine nuts, pignolias, dried\",\"cocoa, powder\",\"pistachio nuts, dried\",\"pecans, dried\",\"soya flour, full fat\",\"nut, pea, dried\",\"sesame seeds, whole, dried\",\"peach, dried\",\"apple, dried\",\"sesame seed, decorticated\",\"tomato, dried\",\"apricot, dried\",\"sunflower seeds, decorticated, dried\",\"curry powder\",\"rose hip, dried, powder\"],\"textfont\":{\"size\":7},\"textposition\":\"top center\",\"type\":\"scatter\",\"x\":[94.02165985107422,93.5594482421875,92.60497283935547,88.99787902832031,88.15772247314453,97.25193786621094,83.12559509277344,91.90158081054688,89.62081146240234,81.66634368896484,97.7619857788086,91.39460754394531,85.95159149169922,92.11559295654297,73.39497375488281,88.79449462890625,92.23530578613281,73.56693267822266,89.84869384765625,90.59138488769531,91.08350372314453],\"xaxis\":\"x\",\"y\":[93.16795349121094,95.46495819091797,97.65798950195312,123.3004150390625,111.17618560791016,123.67635345458984,128.5821075439453,111.56539154052734,126.56352996826172,128.96212768554688,125.04621887207031,124.46234130859375,129.56036376953125,94.4389419555664,126.66707611083984,128.52655029296875,99.78900146484375,125.32479858398438,130.0601043701172,110.63666534423828,106.24470520019531],\"yaxis\":\"y\"},{\"customdata\":[[\"cereals, farina, unenriched, dry\",1],[\"nuts, ginkgo nuts, dried\",1],[\"cornmeal, yellow (navajo)\",1],[\"cereals, corn grits, white, regular and quick, unenriched, dry\",1],[\"tapioca, pearl, dry\",1],[\"longans, dried\",1],[\"cornmeal, degermed, unenriched, white\",1],[\"millet flour\",1],[\"buckwheat flour, whole-groat\",1],[\"spices, onion powder\",1],[\"cornmeal, whole-grain, yellow\",1],[\"rye flour, medium\",1],[\"cereals, corn grits, white, regular and quick, unenriched, dry\",1],[\"spices, garlic powder\",1],[\"cornmeal, whole-grain, white\",1],[\"cornstarch\",1],[\"cornmeal, degermed, unenriched, yellow\",1],[\"wheat flour, whole-grain\",1],[\"cereals, corn grits, yellow, regular and quick, unenriched, dry\",1],[\"nuts, chestnuts, european, dried, unpeeled\",1],[\"cereals, corn grits, yellow, regular and quick, unenriched, dry\",1],[\"nuts, chestnuts, japanese, dried\",1],[\"bulgur, dry\",1],[\"barley flour or meal\",1],[\"barley malt flour\",1],[\"seeds, lotus seeds, dried\",1],[\"rice flour, brown\",1],[\"corn flour, masa, unenriched, white\",1],[\"cornmeal, white (navajo)\",1],[\"spices, ginger, ground\",1],[\"arrowroot flour\",1],[\"rye flour, light\",1],[\"cereals, oats, regular and quick, not fortified, dry\",1],[\"persimmons, japanese, dried\",1],[\"rice flour, white\",1],[\"corn flour, whole-grain, white\",1],[\"corn flour, whole-grain, yellow\",1],[\"nuts, chestnuts, chinese, dried\",1],[\"rice, white, long-grain, parboiled, unenriched, dry\",1],[\"nuts, chestnuts, european, dried, peeled\",1],[\"wheat flour, white, all-purpose, unenriched\",1],[\"triticale flour, whole-grain\",1],[\"rice, white, with pasta, dry\",1],[\"sorghum flour\",1],[\"mushrooms, shiitake, dried\",1],[\"seeds, sisymbrium sp. seeds, whole, dried\",1],[\"spices, coriander leaf, dried\",1],[\"spices, saffron\",1],[\"oat flour, partially debranned\",1],[\"spices, chervil, dried\",1],[\"wocas, dried seeds, oregon, yellow pond lily, nuphar lutea (or) - cy0617b\",1],[\"cornmeal, blue (navajo)\",1],[\"wheat flour, whole-grain, soft wheat\",1],[\"chickpea flour (besan)\",1],[\"leavening agents, baking powder, low-sodium\",1],[\"spices, tarragon, dried\",1],[\"leavening agents, baking powder, double-acting, straight phosphate\",1],[\"leavening agents, baking powder, double-acting, sodium aluminum sulfate\",1],[\"jujube, dried\",1],[\"pepeao, dried\",1],[\"corn flour, degermed, unenriched, yellow\",1],[\"spices, dill weed, dried\",1],[\"cereals, whole wheat hot natural cereal, dry\",1],[\"corn flour, whole-grain, blue (harina de maiz morado)\",1],[\"fruit, mixed, (prune and apricot and pear), dried\",1],[\"seaweed, agar, dried\",1],[\"corn, dried (navajo)\",1]],\"hovertemplate\":\"cluster=%{customdata[1]}<br>x1=%{x}<br>x2=%{y}<br>label=%{customdata[0]}<extra></extra>\",\"legendgroup\":\"1\",\"marker\":{\"color\":\"#EF553B\",\"opacity\":0.5,\"size\":15,\"symbol\":\"circle\"},\"mode\":\"markers+text\",\"name\":\"1\",\"orientation\":\"v\",\"showlegend\":true,\"text\":[\"cereals, farina, unenriched, dry\",\"nuts, ginkgo nuts, dried\",\"cornmeal, yellow (navajo)\",\"cereals, corn grits, white, regular and quick, unenriched, dry\",\"tapioca, pearl, dry\",\"longans, dried\",\"cornmeal, degermed, unenriched, white\",\"millet flour\",\"buckwheat flour, whole-groat\",\"spices, onion powder\",\"cornmeal, whole-grain, yellow\",\"rye flour, medium\",\"cereals, corn grits, white, regular and quick, unenriched, dry\",\"spices, garlic powder\",\"cornmeal, whole-grain, white\",\"cornstarch\",\"cornmeal, degermed, unenriched, yellow\",\"wheat flour, whole-grain\",\"cereals, corn grits, yellow, regular and quick, unenriched, dry\",\"nuts, chestnuts, european, dried, unpeeled\",\"cereals, corn grits, yellow, regular and quick, unenriched, dry\",\"nuts, chestnuts, japanese, dried\",\"bulgur, dry\",\"barley flour or meal\",\"barley malt flour\",\"seeds, lotus seeds, dried\",\"rice flour, brown\",\"corn flour, masa, unenriched, white\",\"cornmeal, white (navajo)\",\"spices, ginger, ground\",\"arrowroot flour\",\"rye flour, light\",\"cereals, oats, regular and quick, not fortified, dry\",\"persimmons, japanese, dried\",\"rice flour, white\",\"corn flour, whole-grain, white\",\"corn flour, whole-grain, yellow\",\"nuts, chestnuts, chinese, dried\",\"rice, white, long-grain, parboiled, unenriched, dry\",\"nuts, chestnuts, european, dried, peeled\",\"wheat flour, white, all-purpose, unenriched\",\"triticale flour, whole-grain\",\"rice, white, with pasta, dry\",\"sorghum flour\",\"mushrooms, shiitake, dried\",\"seeds, sisymbrium sp. seeds, whole, dried\",\"spices, coriander leaf, dried\",\"spices, saffron\",\"oat flour, partially debranned\",\"spices, chervil, dried\",\"wocas, dried seeds, oregon, yellow pond lily, nuphar lutea (or) - cy0617b\",\"cornmeal, blue (navajo)\",\"wheat flour, whole-grain, soft wheat\",\"chickpea flour (besan)\",\"leavening agents, baking powder, low-sodium\",\"spices, tarragon, dried\",\"leavening agents, baking powder, double-acting, straight phosphate\",\"leavening agents, baking powder, double-acting, sodium aluminum sulfate\",\"jujube, dried\",\"pepeao, dried\",\"corn flour, degermed, unenriched, yellow\",\"spices, dill weed, dried\",\"cereals, whole wheat hot natural cereal, dry\",\"corn flour, whole-grain, blue (harina de maiz morado)\",\"fruit, mixed, (prune and apricot and pear), dried\",\"seaweed, agar, dried\",\"corn, dried (navajo)\"],\"textfont\":{\"size\":7},\"textposition\":\"top center\",\"type\":\"scatter\",\"x\":[-0.485664039850235,-14.65625,-13.86297607421875,2.4335877895355225,2.175342559814453,-17.308792114257812,-7.709942817687988,-19.683395385742188,-17.145322799682617,-32.65895080566406,-27.579126358032227,-32.54890060424805,1.9012387990951538,-18.026294708251953,-26.20319938659668,4.07261323928833,-7.751740455627441,-19.271398544311523,-0.11979161202907562,-33.63148498535156,0.41433602571487427,7.788495063781738,-24.48046875,-33.67097473144531,-26.85910415649414,-8.76388168334961,-27.175151824951172,-22.559154510498047,-14.214463233947754,-27.979019165039062,2.81774640083313,-27.506776809692383,-14.092065811157227,-36.58149719238281,0.35509058833122253,-30.25798988342285,-31.133514404296875,9.43327522277832,0.6155868172645569,11.487724304199219,-1.4367074966430664,-22.089115142822266,-13.920842170715332,-26.686819076538086,-32.0769157409668,-5.701067924499512,27.271312713623047,-9.140597343444824,-10.904271125793457,25.76949119567871,-27.069473266601562,-14.45203685760498,-30.153676986694336,29.77090072631836,2.6009929180145264,24.066007614135742,5.670093059539795,4.3981757164001465,-17.96149444580078,6.4169182777404785,1.558313012123108,24.908071517944336,-33.732486724853516,-34.812835693359375,-38.846473693847656,-10.779682159423828,-17.526268005371094],\"xaxis\":\"x\",\"y\":[-102.21711730957031,-89.523193359375,-65.8958511352539,-111.02052307128906,-145.9261474609375,-100.14385986328125,-119.61044311523438,-83.2427978515625,-46.1690788269043,-49.833587646484375,-80.18038177490234,-55.12080001831055,-109.01235961914062,-49.26686477661133,-79.65814971923828,-145.49237060546875,-120.9910659790039,-46.432403564453125,-109.54206085205078,-76.48281860351562,-111.54779052734375,-127.35665130615234,-45.36029815673828,-56.15361022949219,-67.99597930908203,-39.7863883972168,-85.40498352050781,-81.44615936279297,-68.32383728027344,-53.47704315185547,-144.0791778564453,-66.68570709228516,-44.94955062866211,-73.9327163696289,-123.1954116821289,-77.72362518310547,-79.06266021728516,-126.33951568603516,-121.71757507324219,-125.23368835449219,-101.13997650146484,-45.82143783569336,-90.83549499511719,-82.89422607421875,-52.346370697021484,-41.80443572998047,-28.383785247802734,-42.30464172363281,-43.525936126708984,-29.898136138916016,-44.999629974365234,-69.79125213623047,-56.546966552734375,-27.190412521362305,-37.56464767456055,-30.391633987426758,-35.6964111328125,-36.54664611816406,-101.35485076904297,-128.33998107910156,-125.69943237304688,-27.710735321044922,-58.86391067504883,-61.354061126708984,-72.75668334960938,-120.21501159667969,-84.22982788085938],\"yaxis\":\"y\"},{\"customdata\":[[\"corn, dried, yellow (northern plains indians)\",2],[\"spices, fenugreek seed\",2],[\"soy flour, defatted\",2],[\"spices, basil, dried\",2],[\"spices, paprika\",2],[\"spices, chili powder\",2],[\"spices, caraway seed\",2],[\"nuts, acorn flour, full fat\",2],[\"spices, oregano, dried\",2],[\"peppers, ancho, dried\",2],[\"cocoa, dry powder, unsweetened, processed with alkali\",2],[\"cocoa, dry powder, unsweetened\",2],[\"nuts, acorns, dried\",2],[\"spices, dill seed\",2],[\"spices, cloves, ground\",2],[\"peanut flour, defatted\",2],[\"soy flour, low-fat, crude protein basis (n x 6.25)\",2],[\"spearmint, dried\",2],[\"spices, cinnamon, ground\",2],[\"spices, parsley, dried\",2],[\"leavening agents, yeast, bakers, active dry\",2],[\"soy flour, defatted, crude protein basis (n x 6.25)\",2],[\"spices, fennel seed\",2],[\"spices, thyme, dried\",2],[\"spices, sage, ground\",2],[\"spices, anise seed\",2],[\"spices, coriander seed\",2],[\"spices, nutmeg, ground\",2],[\"spices, celery seed\",2],[\"spices, mace, ground\",2],[\"spices, marjoram, dried\",2],[\"spices, cumin seed\",2],[\"spices, curry powder\",2],[\"fungi, cloud ears, dried\",2],[\"spices, pepper, red or cayenne\",2],[\"spices, rosemary, dried\",2],[\"spices, savory, ground\",2],[\"cocoa, dry powder, hi-fat or breakfast, plain\",2],[\"cocoa, dry powder, hi-fat or breakfast, processed with alkali\",2],[\"soy flour, low-fat\",2],[\"cocoa, dry powder, unsweetened, hersheys european style cocoa\",2],[\"peppers, pasilla, dried\",2]],\"hovertemplate\":\"cluster=%{customdata[1]}<br>x1=%{x}<br>x2=%{y}<br>label=%{customdata[0]}<extra></extra>\",\"legendgroup\":\"2\",\"marker\":{\"color\":\"#00cc96\",\"opacity\":0.5,\"size\":15,\"symbol\":\"circle\"},\"mode\":\"markers+text\",\"name\":\"2\",\"orientation\":\"v\",\"showlegend\":true,\"text\":[\"corn, dried, yellow (northern plains indians)\",\"spices, fenugreek seed\",\"soy flour, defatted\",\"spices, basil, dried\",\"spices, paprika\",\"spices, chili powder\",\"spices, caraway seed\",\"nuts, acorn flour, full fat\",\"spices, oregano, dried\",\"peppers, ancho, dried\",\"cocoa, dry powder, unsweetened, processed with alkali\",\"cocoa, dry powder, unsweetened\",\"nuts, acorns, dried\",\"spices, dill seed\",\"spices, cloves, ground\",\"peanut flour, defatted\",\"soy flour, low-fat, crude protein basis (n x 6.25)\",\"spearmint, dried\",\"spices, cinnamon, ground\",\"spices, parsley, dried\",\"leavening agents, yeast, bakers, active dry\",\"soy flour, defatted, crude protein basis (n x 6.25)\",\"spices, fennel seed\",\"spices, thyme, dried\",\"spices, sage, ground\",\"spices, anise seed\",\"spices, coriander seed\",\"spices, nutmeg, ground\",\"spices, celery seed\",\"spices, mace, ground\",\"spices, marjoram, dried\",\"spices, cumin seed\",\"spices, curry powder\",\"fungi, cloud ears, dried\",\"spices, pepper, red or cayenne\",\"spices, rosemary, dried\",\"spices, savory, ground\",\"cocoa, dry powder, hi-fat or breakfast, plain\",\"cocoa, dry powder, hi-fat or breakfast, processed with alkali\",\"soy flour, low-fat\",\"cocoa, dry powder, unsweetened, hersheys european style cocoa\",\"peppers, pasilla, dried\"],\"textfont\":{\"size\":7},\"textposition\":\"top center\",\"type\":\"scatter\",\"x\":[56.407325744628906,44.57331085205078,57.19746780395508,52.69931411743164,59.932865142822266,60.67592239379883,61.837188720703125,25.966100692749023,84.1532974243164,41.01484298706055,53.246612548828125,54.15010070800781,27.21037483215332,35.28550720214844,77.69711303710938,54.763885498046875,58.149505615234375,51.686073303222656,88.20069885253906,52.08348846435547,53.16642761230469,56.57095718383789,63.419952392578125,79.9038314819336,73.80748748779297,33.93460464477539,65.38629150390625,39.54685592651367,30.326725006103516,41.27996063232422,79.48877716064453,31.56970977783203,71.60707092285156,90.2817611694336,58.48017120361328,75.31104278564453,85.47401428222656,43.85831832885742,45.304771423339844,55.90311813354492,43.26089096069336,41.18311309814453],\"xaxis\":\"x\",\"y\":[-14.586665153503418,31.087242126464844,50.619449615478516,31.94057273864746,-10.278993606567383,-8.998917579650879,2.833672046661377,6.692281723022461,-7.0152812004089355,19.784292221069336,6.472201347351074,5.399043083190918,6.019948959350586,15.581963539123535,-2.054910659790039,50.0527229309082,48.62981414794922,33.48298645019531,-6.989654541015625,35.21412658691406,38.602012634277344,47.886871337890625,2.8615269660949707,-6.0907769203186035,-3.573983669281006,14.614426612854004,2.8599679470062256,-0.3056495487689972,11.776625633239746,1.3348963260650635,-7.562820911407471,12.678688049316406,-3.7022953033447266,-6.923257350921631,-12.264066696166992,-2.886678695678711,-6.257217884063721,1.6992729902267456,1.8943735361099243,45.2703742980957,30.472951889038086,18.301876068115234],\"yaxis\":\"y\"},{\"customdata\":[[\"spices, mustard seed, ground\",3],[\"seeds, safflower seed kernels, dried\",3],[\"seeds, flaxseed\",3],[\"seeds, sunflower seed flour, partially defatted\",3],[\"seeds, sunflower seed kernels, dried\",3],[\"seeds, pumpkin and squash seed kernels, dried\",3],[\"seeds, pumpkin and squash seed kernels, dried\",3],[\"seeds, cottonseed flour, low fat (glandless)\",3],[\"seeds, watermelon seed kernels, dried\",3],[\"seeds, sesame flour, partially defatted\",3],[\"seeds, sesame seeds, whole, dried\",3],[\"peanut flour, low fat\",3],[\"seeds, sesame flour, low-fat\",3],[\"seeds, cottonseed flour, partially defatted (glandless)\",3],[\"seaweed, spirulina, dried\",3],[\"seeds, sesame flour, high-fat\",3],[\"nuts, beechnuts, dried\",3],[\"seeds, sesame meal, partially defatted\",3],[\"seeds, safflower seed meal, partially defatted\",3],[\"seeds, pumpkin and squash seed kernels, dried\",3],[\"tofu, dried-frozen (koyadofu)\",3],[\"seeds, chia seeds, dried\",3],[\"spices, poppy seed\",3]],\"hovertemplate\":\"cluster=%{customdata[1]}<br>x1=%{x}<br>x2=%{y}<br>label=%{customdata[0]}<extra></extra>\",\"legendgroup\":\"3\",\"marker\":{\"color\":\"#ab63fa\",\"opacity\":0.5,\"size\":15,\"symbol\":\"circle\"},\"mode\":\"markers+text\",\"name\":\"3\",\"orientation\":\"v\",\"showlegend\":true,\"text\":[\"spices, mustard seed, ground\",\"seeds, safflower seed kernels, dried\",\"seeds, flaxseed\",\"seeds, sunflower seed flour, partially defatted\",\"seeds, sunflower seed kernels, dried\",\"seeds, pumpkin and squash seed kernels, dried\",\"seeds, pumpkin and squash seed kernels, dried\",\"seeds, cottonseed flour, low fat (glandless)\",\"seeds, watermelon seed kernels, dried\",\"seeds, sesame flour, partially defatted\",\"seeds, sesame seeds, whole, dried\",\"peanut flour, low fat\",\"seeds, sesame flour, low-fat\",\"seeds, cottonseed flour, partially defatted (glandless)\",\"seaweed, spirulina, dried\",\"seeds, sesame flour, high-fat\",\"nuts, beechnuts, dried\",\"seeds, sesame meal, partially defatted\",\"seeds, safflower seed meal, partially defatted\",\"seeds, pumpkin and squash seed kernels, dried\",\"tofu, dried-frozen (koyadofu)\",\"seeds, chia seeds, dried\",\"spices, poppy seed\"],\"textfont\":{\"size\":7},\"textposition\":\"top center\",\"type\":\"scatter\",\"x\":[-65.224365234375,-66.1496810913086,-63.844730377197266,-56.909427642822266,-71.80695343017578,-82.24545288085938,-84.10662841796875,-55.097694396972656,-85.76110076904297,-58.66456985473633,-70.8264389038086,-61.18500900268555,-56.5007209777832,-57.175010681152344,-56.826377868652344,-66.79065704345703,-66.87390899658203,-68.1843490600586,-54.8536491394043,-82.92797088623047,-69.41922760009766,-62.72377395629883,-64.51356506347656],\"xaxis\":\"x\",\"y\":[52.58702087402344,35.95275115966797,29.613136291503906,67.13267517089844,39.33477783203125,46.95647048950195,47.08757781982422,68.19200134277344,49.536128997802734,61.0910758972168,38.286216735839844,58.26955032348633,69.24050903320312,61.94135284423828,71.88186645507812,51.92476272583008,40.565067291259766,39.25093078613281,61.444149017333984,48.69593048095703,52.07265090942383,27.665313720703125,30.970800399780273],\"yaxis\":\"y\"},{\"customdata\":[[\"carrot, dehydrated\",4],[\"bananas, dehydrated, or banana powder\",4],[\"carob flour\",4],[\"radishes, oriental, dried\",4],[\"peppers, hot chile, sun-dried\",4],[\"tomatoes, sun-dried\",4],[\"onions, dehydrated flakes\",4],[\"tomato powder\",4],[\"litchis, dried\",4],[\"celery flakes, dried\",4],[\"currants, zante, dried\",4],[\"agave, dried (southwest)\",4]],\"hovertemplate\":\"cluster=%{customdata[1]}<br>x1=%{x}<br>x2=%{y}<br>label=%{customdata[0]}<extra></extra>\",\"legendgroup\":\"4\",\"marker\":{\"color\":\"#FFA15A\",\"opacity\":0.5,\"size\":15,\"symbol\":\"circle\"},\"mode\":\"markers+text\",\"name\":\"4\",\"orientation\":\"v\",\"showlegend\":true,\"text\":[\"carrot, dehydrated\",\"bananas, dehydrated, or banana powder\",\"carob flour\",\"radishes, oriental, dried\",\"peppers, hot chile, sun-dried\",\"tomatoes, sun-dried\",\"onions, dehydrated flakes\",\"tomato powder\",\"litchis, dried\",\"celery flakes, dried\",\"currants, zante, dried\",\"agave, dried (southwest)\"],\"textfont\":{\"size\":7},\"textposition\":\"top center\",\"type\":\"scatter\",\"x\":[163.78758239746094,160.0906982421875,161.3083953857422,168.66717529296875,166.40457153320312,171.30247497558594,162.09414672851562,164.23609924316406,153.3001708984375,167.97178649902344,153.38084411621094,158.50245666503906],\"xaxis\":\"x\",\"y\":[-3.6168007850646973,-9.79853630065918,-1.9764797687530518,-0.06683998554944992,-0.9923529028892517,0.47690996527671814,-9.359044075012207,-5.290170192718506,-13.01773738861084,1.399276614189148,-11.580436706542969,-9.364154815673828],\"yaxis\":\"y\"},{\"customdata\":[[\"nuts, brazilnuts, dried, unblanched\",5],[\"nuts, pine nuts, pinyon, dried\",5],[\"nuts, pilinuts, dried\",5],[\"nuts, coconut meat, dried (desiccated), toasted\",5],[\"nuts, pine nuts, dried\",5],[\"seeds, sesame seed kernels, dried (decorticated)\",5],[\"nuts, coconut meat, dried (desiccated), creamed\",5],[\"nuts, butternuts, dried\",5],[\"walnuts\",5],[\"seeds, sunflower seed kernels, toasted, without salt\",5],[\"nuts, walnuts, black, dried\",5],[\"nuts, hickorynuts, dried\",5]],\"hovertemplate\":\"cluster=%{customdata[1]}<br>x1=%{x}<br>x2=%{y}<br>label=%{customdata[0]}<extra></extra>\",\"legendgroup\":\"5\",\"marker\":{\"color\":\"#19d3f3\",\"opacity\":0.5,\"size\":15,\"symbol\":\"circle\"},\"mode\":\"markers+text\",\"name\":\"5\",\"orientation\":\"v\",\"showlegend\":true,\"text\":[\"nuts, brazilnuts, dried, unblanched\",\"nuts, pine nuts, pinyon, dried\",\"nuts, pilinuts, dried\",\"nuts, coconut meat, dried (desiccated), toasted\",\"nuts, pine nuts, dried\",\"seeds, sesame seed kernels, dried (decorticated)\",\"nuts, coconut meat, dried (desiccated), creamed\",\"nuts, butternuts, dried\",\"walnuts\",\"seeds, sunflower seed kernels, toasted, without salt\",\"nuts, walnuts, black, dried\",\"nuts, hickorynuts, dried\"],\"textfont\":{\"size\":7},\"textposition\":\"top center\",\"type\":\"scatter\",\"x\":[-84.27735900878906,-85.44169616699219,-82.1230239868164,-71.90788269042969,-97.24413299560547,-86.3301010131836,-73.25907897949219,-102.06331634521484,-100.02213287353516,-100.05540466308594,-99.32882690429688,-83.53366088867188],\"xaxis\":\"x\",\"y\":[5.8644843101501465,8.375737190246582,4.215518951416016,-0.74517422914505,14.836160659790039,6.449976444244385,-0.12907923758029938,17.451791763305664,16.255077362060547,20.17679214477539,17.47711944580078,8.610637664794922],\"yaxis\":\"y\"},{\"customdata\":[[\"spices, pepper, black\",6],[\"rye flour, dark\",6],[\"spices, allspice, ground\",6],[\"spices, pepper, white\",6],[\"spices, turmeric, ground\",6],[\"spices, bay leaf\",6],[\"spices, cardamom\",6]],\"hovertemplate\":\"cluster=%{customdata[1]}<br>x1=%{x}<br>x2=%{y}<br>label=%{customdata[0]}<extra></extra>\",\"legendgroup\":\"6\",\"marker\":{\"color\":\"#FF6692\",\"opacity\":0.5,\"size\":15,\"symbol\":\"circle\"},\"mode\":\"markers+text\",\"name\":\"6\",\"orientation\":\"v\",\"showlegend\":true,\"text\":[\"spices, pepper, black\",\"rye flour, dark\",\"spices, allspice, ground\",\"spices, pepper, white\",\"spices, turmeric, ground\",\"spices, bay leaf\",\"spices, cardamom\"],\"textfont\":{\"size\":7},\"textposition\":\"top center\",\"type\":\"scatter\",\"x\":[19.35955047607422,22.363229751586914,12.818632125854492,20.19005584716797,12.963150024414062,13.484790802001953,18.276262283325195],\"xaxis\":\"x\",\"y\":[43.618751525878906,44.16260528564453,46.56663131713867,45.32722091674805,44.0772590637207,48.00832748413086,45.81629943847656],\"yaxis\":\"y\"},{\"customdata\":[[\"beans, white, dried\",7],[\"lentils, dried\",7],[\"rye flour, dark, whole meal\",7],[\"beans, brown, dried\",7],[\"buckwheat flour\",7],[\"wheat flour\",7],[\"potato flour\",7],[\"wheat flour\",7],[\"rice flour\",7],[\"corn flour\",7],[\"garlic, dried, powder\",7],[\"wheat, flour, wholemeal\",7],[\"corn starch\",7],[\"baking powder\",7],[\"coriander, leaf, dried\",7],[\"seaweed, konbu, dried (kelp)\",7],[\"dill weed, dried\",7]],\"hovertemplate\":\"cluster=%{customdata[1]}<br>x1=%{x}<br>x2=%{y}<br>label=%{customdata[0]}<extra></extra>\",\"legendgroup\":\"7\",\"marker\":{\"color\":\"#B6E880\",\"opacity\":0.5,\"size\":15,\"symbol\":\"circle\"},\"mode\":\"markers+text\",\"name\":\"7\",\"orientation\":\"v\",\"showlegend\":true,\"text\":[\"beans, white, dried\",\"lentils, dried\",\"rye flour, dark, whole meal\",\"beans, brown, dried\",\"buckwheat flour\",\"wheat flour\",\"potato flour\",\"wheat flour\",\"rice flour\",\"corn flour\",\"garlic, dried, powder\",\"wheat, flour, wholemeal\",\"corn starch\",\"baking powder\",\"coriander, leaf, dried\",\"seaweed, konbu, dried (kelp)\",\"dill weed, dried\"],\"textfont\":{\"size\":7},\"textposition\":\"top center\",\"type\":\"scatter\",\"x\":[37.31194305419922,36.60976028442383,28.805315017700195,38.56850051879883,31.249561309814453,31.15700912475586,27.764665603637695,29.519136428833008,28.301471710205078,28.831144332885742,32.5986442565918,30.322593688964844,26.14940643310547,46.015438079833984,40.95512008666992,43.605953216552734,40.437767028808594],\"xaxis\":\"x\",\"y\":[170.36231994628906,179.11483764648438,180.17318725585938,169.7562255859375,186.08526611328125,188.36862182617188,197.46495056152344,188.2001190185547,194.26942443847656,192.67710876464844,182.03094482421875,180.71087646484375,197.7446746826172,176.9119873046875,175.3433380126953,176.73117065429688,176.64593505859375],\"yaxis\":\"y\"},{\"customdata\":[[\"coffee, dry, powder, with whitener, reduced calorie\",8],[\"coffee, dry, powder, with whitener, reduced calorie\",8],[\"coffee, dry, powder, with whitener, reduced calorie\",8],[\"coffee and cocoa (mocha) powder, with whitener and low calorie sweetener\",8],[\"coffee and cocoa (mocha) powder, with whitener and low calorie sweetener, decaffeinated\",8]],\"hovertemplate\":\"cluster=%{customdata[1]}<br>x1=%{x}<br>x2=%{y}<br>label=%{customdata[0]}<extra></extra>\",\"legendgroup\":\"8\",\"marker\":{\"color\":\"#FF97FF\",\"opacity\":0.5,\"size\":15,\"symbol\":\"circle\"},\"mode\":\"markers+text\",\"name\":\"8\",\"orientation\":\"v\",\"showlegend\":true,\"text\":[\"coffee, dry, powder, with whitener, reduced calorie\",\"coffee, dry, powder, with whitener, reduced calorie\",\"coffee, dry, powder, with whitener, reduced calorie\",\"coffee and cocoa (mocha) powder, with whitener and low calorie sweetener\",\"coffee and cocoa (mocha) powder, with whitener and low calorie sweetener, decaffeinated\"],\"textfont\":{\"size\":7},\"textposition\":\"top center\",\"type\":\"scatter\",\"x\":[-3.2463252544403076,-5.1660332679748535,-4.167364597320557,-16.05681800842285,-15.643047332763672],\"xaxis\":\"x\",\"y\":[92.1005859375,92.14342498779297,93.78600311279297,97.20928192138672,98.17973327636719],\"yaxis\":\"y\"}],                        {\"legend\":{\"title\":{\"text\":\"cluster\"},\"tracegroupgap\":0},\"margin\":{\"t\":60},\"template\":{\"data\":{\"bar\":[{\"error_x\":{\"color\":\"#2a3f5f\"},\"error_y\":{\"color\":\"#2a3f5f\"},\"marker\":{\"line\":{\"color\":\"#E5ECF6\",\"width\":0.5},\"pattern\":{\"fillmode\":\"overlay\",\"size\":10,\"solidity\":0.2}},\"type\":\"bar\"}],\"barpolar\":[{\"marker\":{\"line\":{\"color\":\"#E5ECF6\",\"width\":0.5},\"pattern\":{\"fillmode\":\"overlay\",\"size\":10,\"solidity\":0.2}},\"type\":\"barpolar\"}],\"carpet\":[{\"aaxis\":{\"endlinecolor\":\"#2a3f5f\",\"gridcolor\":\"white\",\"linecolor\":\"white\",\"minorgridcolor\":\"white\",\"startlinecolor\":\"#2a3f5f\"},\"baxis\":{\"endlinecolor\":\"#2a3f5f\",\"gridcolor\":\"white\",\"linecolor\":\"white\",\"minorgridcolor\":\"white\",\"startlinecolor\":\"#2a3f5f\"},\"type\":\"carpet\"}],\"choropleth\":[{\"colorbar\":{\"outlinewidth\":0,\"ticks\":\"\"},\"type\":\"choropleth\"}],\"contour\":[{\"colorbar\":{\"outlinewidth\":0,\"ticks\":\"\"},\"colorscale\":[[0.0,\"#0d0887\"],[0.1111111111111111,\"#46039f\"],[0.2222222222222222,\"#7201a8\"],[0.3333333333333333,\"#9c179e\"],[0.4444444444444444,\"#bd3786\"],[0.5555555555555556,\"#d8576b\"],[0.6666666666666666,\"#ed7953\"],[0.7777777777777778,\"#fb9f3a\"],[0.8888888888888888,\"#fdca26\"],[1.0,\"#f0f921\"]],\"type\":\"contour\"}],\"contourcarpet\":[{\"colorbar\":{\"outlinewidth\":0,\"ticks\":\"\"},\"type\":\"contourcarpet\"}],\"heatmap\":[{\"colorbar\":{\"outlinewidth\":0,\"ticks\":\"\"},\"colorscale\":[[0.0,\"#0d0887\"],[0.1111111111111111,\"#46039f\"],[0.2222222222222222,\"#7201a8\"],[0.3333333333333333,\"#9c179e\"],[0.4444444444444444,\"#bd3786\"],[0.5555555555555556,\"#d8576b\"],[0.6666666666666666,\"#ed7953\"],[0.7777777777777778,\"#fb9f3a\"],[0.8888888888888888,\"#fdca26\"],[1.0,\"#f0f921\"]],\"type\":\"heatmap\"}],\"heatmapgl\":[{\"colorbar\":{\"outlinewidth\":0,\"ticks\":\"\"},\"colorscale\":[[0.0,\"#0d0887\"],[0.1111111111111111,\"#46039f\"],[0.2222222222222222,\"#7201a8\"],[0.3333333333333333,\"#9c179e\"],[0.4444444444444444,\"#bd3786\"],[0.5555555555555556,\"#d8576b\"],[0.6666666666666666,\"#ed7953\"],[0.7777777777777778,\"#fb9f3a\"],[0.8888888888888888,\"#fdca26\"],[1.0,\"#f0f921\"]],\"type\":\"heatmapgl\"}],\"histogram\":[{\"marker\":{\"pattern\":{\"fillmode\":\"overlay\",\"size\":10,\"solidity\":0.2}},\"type\":\"histogram\"}],\"histogram2d\":[{\"colorbar\":{\"outlinewidth\":0,\"ticks\":\"\"},\"colorscale\":[[0.0,\"#0d0887\"],[0.1111111111111111,\"#46039f\"],[0.2222222222222222,\"#7201a8\"],[0.3333333333333333,\"#9c179e\"],[0.4444444444444444,\"#bd3786\"],[0.5555555555555556,\"#d8576b\"],[0.6666666666666666,\"#ed7953\"],[0.7777777777777778,\"#fb9f3a\"],[0.8888888888888888,\"#fdca26\"],[1.0,\"#f0f921\"]],\"type\":\"histogram2d\"}],\"histogram2dcontour\":[{\"colorbar\":{\"outlinewidth\":0,\"ticks\":\"\"},\"colorscale\":[[0.0,\"#0d0887\"],[0.1111111111111111,\"#46039f\"],[0.2222222222222222,\"#7201a8\"],[0.3333333333333333,\"#9c179e\"],[0.4444444444444444,\"#bd3786\"],[0.5555555555555556,\"#d8576b\"],[0.6666666666666666,\"#ed7953\"],[0.7777777777777778,\"#fb9f3a\"],[0.8888888888888888,\"#fdca26\"],[1.0,\"#f0f921\"]],\"type\":\"histogram2dcontour\"}],\"mesh3d\":[{\"colorbar\":{\"outlinewidth\":0,\"ticks\":\"\"},\"type\":\"mesh3d\"}],\"parcoords\":[{\"line\":{\"colorbar\":{\"outlinewidth\":0,\"ticks\":\"\"}},\"type\":\"parcoords\"}],\"pie\":[{\"automargin\":true,\"type\":\"pie\"}],\"scatter\":[{\"marker\":{\"colorbar\":{\"outlinewidth\":0,\"ticks\":\"\"}},\"type\":\"scatter\"}],\"scatter3d\":[{\"line\":{\"colorbar\":{\"outlinewidth\":0,\"ticks\":\"\"}},\"marker\":{\"colorbar\":{\"outlinewidth\":0,\"ticks\":\"\"}},\"type\":\"scatter3d\"}],\"scattercarpet\":[{\"marker\":{\"colorbar\":{\"outlinewidth\":0,\"ticks\":\"\"}},\"type\":\"scattercarpet\"}],\"scattergeo\":[{\"marker\":{\"colorbar\":{\"outlinewidth\":0,\"ticks\":\"\"}},\"type\":\"scattergeo\"}],\"scattergl\":[{\"marker\":{\"colorbar\":{\"outlinewidth\":0,\"ticks\":\"\"}},\"type\":\"scattergl\"}],\"scattermapbox\":[{\"marker\":{\"colorbar\":{\"outlinewidth\":0,\"ticks\":\"\"}},\"type\":\"scattermapbox\"}],\"scatterpolar\":[{\"marker\":{\"colorbar\":{\"outlinewidth\":0,\"ticks\":\"\"}},\"type\":\"scatterpolar\"}],\"scatterpolargl\":[{\"marker\":{\"colorbar\":{\"outlinewidth\":0,\"ticks\":\"\"}},\"type\":\"scatterpolargl\"}],\"scatterternary\":[{\"marker\":{\"colorbar\":{\"outlinewidth\":0,\"ticks\":\"\"}},\"type\":\"scatterternary\"}],\"surface\":[{\"colorbar\":{\"outlinewidth\":0,\"ticks\":\"\"},\"colorscale\":[[0.0,\"#0d0887\"],[0.1111111111111111,\"#46039f\"],[0.2222222222222222,\"#7201a8\"],[0.3333333333333333,\"#9c179e\"],[0.4444444444444444,\"#bd3786\"],[0.5555555555555556,\"#d8576b\"],[0.6666666666666666,\"#ed7953\"],[0.7777777777777778,\"#fb9f3a\"],[0.8888888888888888,\"#fdca26\"],[1.0,\"#f0f921\"]],\"type\":\"surface\"}],\"table\":[{\"cells\":{\"fill\":{\"color\":\"#EBF0F8\"},\"line\":{\"color\":\"white\"}},\"header\":{\"fill\":{\"color\":\"#C8D4E3\"},\"line\":{\"color\":\"white\"}},\"type\":\"table\"}]},\"layout\":{\"annotationdefaults\":{\"arrowcolor\":\"#2a3f5f\",\"arrowhead\":0,\"arrowwidth\":1},\"autotypenumbers\":\"strict\",\"coloraxis\":{\"colorbar\":{\"outlinewidth\":0,\"ticks\":\"\"}},\"colorscale\":{\"diverging\":[[0,\"#8e0152\"],[0.1,\"#c51b7d\"],[0.2,\"#de77ae\"],[0.3,\"#f1b6da\"],[0.4,\"#fde0ef\"],[0.5,\"#f7f7f7\"],[0.6,\"#e6f5d0\"],[0.7,\"#b8e186\"],[0.8,\"#7fbc41\"],[0.9,\"#4d9221\"],[1,\"#276419\"]],\"sequential\":[[0.0,\"#0d0887\"],[0.1111111111111111,\"#46039f\"],[0.2222222222222222,\"#7201a8\"],[0.3333333333333333,\"#9c179e\"],[0.4444444444444444,\"#bd3786\"],[0.5555555555555556,\"#d8576b\"],[0.6666666666666666,\"#ed7953\"],[0.7777777777777778,\"#fb9f3a\"],[0.8888888888888888,\"#fdca26\"],[1.0,\"#f0f921\"]],\"sequentialminus\":[[0.0,\"#0d0887\"],[0.1111111111111111,\"#46039f\"],[0.2222222222222222,\"#7201a8\"],[0.3333333333333333,\"#9c179e\"],[0.4444444444444444,\"#bd3786\"],[0.5555555555555556,\"#d8576b\"],[0.6666666666666666,\"#ed7953\"],[0.7777777777777778,\"#fb9f3a\"],[0.8888888888888888,\"#fdca26\"],[1.0,\"#f0f921\"]]},\"colorway\":[\"#636efa\",\"#EF553B\",\"#00cc96\",\"#ab63fa\",\"#FFA15A\",\"#19d3f3\",\"#FF6692\",\"#B6E880\",\"#FF97FF\",\"#FECB52\"],\"font\":{\"color\":\"#2a3f5f\"},\"geo\":{\"bgcolor\":\"white\",\"lakecolor\":\"white\",\"landcolor\":\"#E5ECF6\",\"showlakes\":true,\"showland\":true,\"subunitcolor\":\"white\"},\"hoverlabel\":{\"align\":\"left\"},\"hovermode\":\"closest\",\"mapbox\":{\"style\":\"light\"},\"paper_bgcolor\":\"white\",\"plot_bgcolor\":\"#E5ECF6\",\"polar\":{\"angularaxis\":{\"gridcolor\":\"white\",\"linecolor\":\"white\",\"ticks\":\"\"},\"bgcolor\":\"#E5ECF6\",\"radialaxis\":{\"gridcolor\":\"white\",\"linecolor\":\"white\",\"ticks\":\"\"}},\"scene\":{\"xaxis\":{\"backgroundcolor\":\"#E5ECF6\",\"gridcolor\":\"white\",\"gridwidth\":2,\"linecolor\":\"white\",\"showbackground\":true,\"ticks\":\"\",\"zerolinecolor\":\"white\"},\"yaxis\":{\"backgroundcolor\":\"#E5ECF6\",\"gridcolor\":\"white\",\"gridwidth\":2,\"linecolor\":\"white\",\"showbackground\":true,\"ticks\":\"\",\"zerolinecolor\":\"white\"},\"zaxis\":{\"backgroundcolor\":\"#E5ECF6\",\"gridcolor\":\"white\",\"gridwidth\":2,\"linecolor\":\"white\",\"showbackground\":true,\"ticks\":\"\",\"zerolinecolor\":\"white\"}},\"shapedefaults\":{\"line\":{\"color\":\"#2a3f5f\"}},\"ternary\":{\"aaxis\":{\"gridcolor\":\"white\",\"linecolor\":\"white\",\"ticks\":\"\"},\"baxis\":{\"gridcolor\":\"white\",\"linecolor\":\"white\",\"ticks\":\"\"},\"bgcolor\":\"#E5ECF6\",\"caxis\":{\"gridcolor\":\"white\",\"linecolor\":\"white\",\"ticks\":\"\"}},\"title\":{\"x\":0.05},\"xaxis\":{\"automargin\":true,\"gridcolor\":\"white\",\"linecolor\":\"white\",\"ticks\":\"\",\"title\":{\"standoff\":15},\"zerolinecolor\":\"white\",\"zerolinewidth\":2},\"yaxis\":{\"automargin\":true,\"gridcolor\":\"white\",\"linecolor\":\"white\",\"ticks\":\"\",\"title\":{\"standoff\":15},\"zerolinecolor\":\"white\",\"zerolinewidth\":2}}},\"title\":{\"text\":\"An\\u00e1lisis de ingredientes objetivos FooDB: TSNE con filtro all.\"},\"xaxis\":{\"anchor\":\"y\",\"domain\":[0.0,1.0],\"title\":{\"text\":\"x1\"}},\"yaxis\":{\"anchor\":\"x\",\"domain\":[0.0,1.0],\"title\":{\"text\":\"x2\"}}},                        {\"responsive\": true}                    ).then(function(){\n",
       "                            \n",
       "var gd = document.getElementById('65ad0d0a-20be-4240-b2aa-94195060a5ec');\n",
       "var x = new MutationObserver(function (mutations, observer) {{\n",
       "        var display = window.getComputedStyle(gd).display;\n",
       "        if (!display || display === 'none') {{\n",
       "            console.log([gd, 'removed!']);\n",
       "            Plotly.purge(gd);\n",
       "            observer.disconnect();\n",
       "        }}\n",
       "}});\n",
       "\n",
       "// Listen for the removal of the full notebook cells\n",
       "var notebookContainer = gd.closest('#notebook-container');\n",
       "if (notebookContainer) {{\n",
       "    x.observe(notebookContainer, {childList: true});\n",
       "}}\n",
       "\n",
       "// Listen for the clearing of the current output cell\n",
       "var outputEl = gd.closest('.output');\n",
       "if (outputEl) {{\n",
       "    x.observe(outputEl, {childList: true});\n",
       "}}\n",
       "\n",
       "                        })                };                });            </script>        </div>"
      ]
     },
     "metadata": {},
     "output_type": "display_data"
    }
   ],
   "source": [
    "# Definición de las listas que registran los resultados para cada caso\n",
    "T_foods_list = list()\n",
    "labels_list = list()\n",
    "\n",
    "# Para cada grupo definido previamente\n",
    "for group in group_labels:\n",
    "    print(f'Getting T-SNE from group {group}...')\n",
    "    # Rutina\n",
    "    T_foods, labels = get_TSNE_projection(df, filter_type=group, start_idx=6, \n",
    "                                          plot_tsne=False, save_plot=False,\n",
    "                                          save_data=True)\n",
    "    \n",
    "    # Aplicando un algoritmo de clustering DBSCAN\n",
    "    clusters = get_clusters(T_foods, labels, name=group, plot_clusters=True, save_plot=True)\n",
    "    \n",
    "    # Se almacena\n",
    "    T_foods_list.append(T_foods)\n",
    "    labels_list.append(labels)"
   ]
  },
  {
   "cell_type": "markdown",
   "id": "768f3b01",
   "metadata": {},
   "source": [
    "# Estudio de las correlaciones"
   ]
  },
  {
   "cell_type": "code",
   "execution_count": 127,
   "id": "bc8af126",
   "metadata": {
    "ExecuteTime": {
     "end_time": "2021-10-12T15:13:24.337631Z",
     "start_time": "2021-10-12T15:13:23.224136Z"
    },
    "scrolled": false
   },
   "outputs": [
    {
     "data": {
      "image/png": "[encoded data removed]",
      "text/plain": [
       "<Figure size 1080x576 with 2 Axes>"
      ]
     },
     "metadata": {
      "needs_background": "light"
     },
     "output_type": "display_data"
    }
   ],
   "source": [
    "%matplotlib inline\n",
    "corr = df.corr()\n",
    "# corr.style.background_gradient(cmap='inferno')\n",
    "\n",
    "plt.figure(figsize=(15,8))\n",
    "ax = sns.heatmap(corr, vmin=-1, vmax=1, center=0,\n",
    "                 cmap=sns.diverging_palette(20, 220, n=200), \n",
    "                 square=False)\n",
    "ax.set_xticklabels(ax.get_xticklabels(), rotation=45,\n",
    "                   horizontalalignment='right');"
   ]
  },
  {
   "cell_type": "code",
   "execution_count": null,
   "id": "085990ef",
   "metadata": {},
   "outputs": [],
   "source": []
  }
 ],
 "metadata": {
  "kernelspec": {
   "display_name": "Python 3 (ipykernel)",
   "language": "python",
   "name": "python3"
  },
  "language_info": {
   "codemirror_mode": {
    "name": "ipython",
    "version": 3
   },
   "file_extension": ".py",
   "mimetype": "text/x-python",
   "name": "python",
   "nbconvert_exporter": "python",
   "pygments_lexer": "ipython3",
   "version": "3.8.7"
  },
  "varInspector": {
   "cols": {
    "lenName": 16,
    "lenType": 16,
    "lenVar": 40
   },
   "kernels_config": {
    "python": {
     "delete_cmd_postfix": "",
     "delete_cmd_prefix": "del ",
     "library": "var_list.py",
     "varRefreshCmd": "print(var_dic_list())"
    },
    "r": {
     "delete_cmd_postfix": ") ",
     "delete_cmd_prefix": "rm(",
     "library": "var_list.r",
     "varRefreshCmd": "cat(var_dic_list()) "
    }
   },
   "types_to_exclude": [
    "module",
    "function",
    "builtin_function_or_method",
    "instance",
    "_Feature"
   ],
   "window_display": false
  }
 },
 "nbformat": 4,
 "nbformat_minor": 5
}
