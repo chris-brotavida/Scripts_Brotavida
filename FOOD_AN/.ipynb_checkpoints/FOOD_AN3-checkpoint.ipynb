{
 "cells": [
  {
   "cell_type": "markdown",
   "id": "1a68ed41",
   "metadata": {},
   "source": [
    "# Análisis de variables más importantes por cluster"
   ]
  },
  {
   "cell_type": "code",
   "execution_count": 1,
   "id": "6e666611",
   "metadata": {
    "ExecuteTime": {
     "end_time": "2021-10-13T13:56:54.771815Z",
     "start_time": "2021-10-13T13:56:48.837458Z"
    }
   },
   "outputs": [],
   "source": [
    "import os, pickle\n",
    "# import seaborn as sns\n",
    "# import pandas as pd\n",
    "import numpy as np\n",
    "import tensorflow as tf\n",
    "# import matplotlib.pyplot as plt\n",
    "# from sklearn.manifold import TSNE\n",
    "# from sklearn.decomposition import PCA\n",
    "# from sklearn.cluster import DBSCAN\n",
    "import plotly.graph_objects as go\n",
    "import plotly.express as px\n",
    "from collections import defaultdict"
   ]
  },
  {
   "cell_type": "markdown",
   "id": "7c4a9b8b",
   "metadata": {},
   "source": [
    "# Obtención de los datos"
   ]
  },
  {
   "cell_type": "code",
   "execution_count": 406,
   "id": "71c5b40e",
   "metadata": {
    "ExecuteTime": {
     "end_time": "2021-10-13T16:01:19.824854Z",
     "start_time": "2021-10-13T16:01:19.809927Z"
    }
   },
   "outputs": [
    {
     "data": {
      "text/plain": [
       "206"
      ]
     },
     "execution_count": 406,
     "metadata": {},
     "output_type": "execute_result"
    }
   ],
   "source": [
    "with open('Results/TSNE_foodSpace_OT.pkl', 'rb') as file:\n",
    "    data = pickle.load(file)\n",
    "\n",
    "T_foods, labels, food_vectors, clusters = data\n",
    "len(clusters)"
   ]
  },
  {
   "cell_type": "code",
   "execution_count": 407,
   "id": "9bb8e7ba",
   "metadata": {
    "ExecuteTime": {
     "end_time": "2021-10-13T16:01:20.339655Z",
     "start_time": "2021-10-13T16:01:20.322700Z"
    }
   },
   "outputs": [
    {
     "data": {
      "text/plain": [
       "defaultdict(int, {0: 124, 1: 20, 2: 43, 3: 8, 4: 7, -1: 4})"
      ]
     },
     "execution_count": 407,
     "metadata": {},
     "output_type": "execute_result"
    }
   ],
   "source": [
    "count_dict = defaultdict(int)\n",
    "for i in clusters:\n",
    "    count_dict[i] += 1\n",
    "count_dict"
   ]
  },
  {
   "cell_type": "code",
   "execution_count": 408,
   "id": "5b5f7aa6",
   "metadata": {
    "ExecuteTime": {
     "end_time": "2021-10-13T16:01:20.762860Z",
     "start_time": "2021-10-13T16:01:20.743912Z"
    }
   },
   "outputs": [
    {
     "data": {
      "text/html": [
       "<div>\n",
       "<style scoped>\n",
       "    .dataframe tbody tr th:only-of-type {\n",
       "        vertical-align: middle;\n",
       "    }\n",
       "\n",
       "    .dataframe tbody tr th {\n",
       "        vertical-align: top;\n",
       "    }\n",
       "\n",
       "    .dataframe thead th {\n",
       "        text-align: right;\n",
       "    }\n",
       "</style>\n",
       "<table border=\"1\" class=\"dataframe\">\n",
       "  <thead>\n",
       "    <tr style=\"text-align: right;\">\n",
       "      <th></th>\n",
       "      <th>OT_betaine</th>\n",
       "      <th>OT_caffeine</th>\n",
       "      <th>OT_choline</th>\n",
       "      <th>OT_theobromine</th>\n",
       "    </tr>\n",
       "  </thead>\n",
       "  <tbody>\n",
       "    <tr>\n",
       "      <th>0</th>\n",
       "      <td>0.0</td>\n",
       "      <td>0.0</td>\n",
       "      <td>0.0</td>\n",
       "      <td>0.0</td>\n",
       "    </tr>\n",
       "    <tr>\n",
       "      <th>1</th>\n",
       "      <td>0.0</td>\n",
       "      <td>0.0</td>\n",
       "      <td>0.0</td>\n",
       "      <td>0.0</td>\n",
       "    </tr>\n",
       "    <tr>\n",
       "      <th>2</th>\n",
       "      <td>0.0</td>\n",
       "      <td>0.0</td>\n",
       "      <td>0.0</td>\n",
       "      <td>0.0</td>\n",
       "    </tr>\n",
       "    <tr>\n",
       "      <th>3</th>\n",
       "      <td>1.9</td>\n",
       "      <td>0.0</td>\n",
       "      <td>122.7</td>\n",
       "      <td>0.0</td>\n",
       "    </tr>\n",
       "    <tr>\n",
       "      <th>4</th>\n",
       "      <td>0.0</td>\n",
       "      <td>0.0</td>\n",
       "      <td>0.0</td>\n",
       "      <td>0.0</td>\n",
       "    </tr>\n",
       "    <tr>\n",
       "      <th>...</th>\n",
       "      <td>...</td>\n",
       "      <td>...</td>\n",
       "      <td>...</td>\n",
       "      <td>...</td>\n",
       "    </tr>\n",
       "    <tr>\n",
       "      <th>201</th>\n",
       "      <td>0.0</td>\n",
       "      <td>0.0</td>\n",
       "      <td>10.6</td>\n",
       "      <td>0.0</td>\n",
       "    </tr>\n",
       "    <tr>\n",
       "      <th>202</th>\n",
       "      <td>0.0</td>\n",
       "      <td>0.0</td>\n",
       "      <td>0.0</td>\n",
       "      <td>0.0</td>\n",
       "    </tr>\n",
       "    <tr>\n",
       "      <th>203</th>\n",
       "      <td>0.0</td>\n",
       "      <td>0.0</td>\n",
       "      <td>63.3</td>\n",
       "      <td>0.0</td>\n",
       "    </tr>\n",
       "    <tr>\n",
       "      <th>204</th>\n",
       "      <td>0.0</td>\n",
       "      <td>0.0</td>\n",
       "      <td>0.0</td>\n",
       "      <td>0.0</td>\n",
       "    </tr>\n",
       "    <tr>\n",
       "      <th>205</th>\n",
       "      <td>0.0</td>\n",
       "      <td>0.0</td>\n",
       "      <td>0.0</td>\n",
       "      <td>0.0</td>\n",
       "    </tr>\n",
       "  </tbody>\n",
       "</table>\n",
       "<p>206 rows × 4 columns</p>\n",
       "</div>"
      ],
      "text/plain": [
       "     OT_betaine  OT_caffeine  OT_choline  OT_theobromine\n",
       "0           0.0          0.0         0.0             0.0\n",
       "1           0.0          0.0         0.0             0.0\n",
       "2           0.0          0.0         0.0             0.0\n",
       "3           1.9          0.0       122.7             0.0\n",
       "4           0.0          0.0         0.0             0.0\n",
       "..          ...          ...         ...             ...\n",
       "201         0.0          0.0        10.6             0.0\n",
       "202         0.0          0.0         0.0             0.0\n",
       "203         0.0          0.0        63.3             0.0\n",
       "204         0.0          0.0         0.0             0.0\n",
       "205         0.0          0.0         0.0             0.0\n",
       "\n",
       "[206 rows x 4 columns]"
      ]
     },
     "execution_count": 408,
     "metadata": {},
     "output_type": "execute_result"
    }
   ],
   "source": [
    "interest_vectors = food_vectors.iloc[:, 6:]\n",
    "interest_vectors"
   ]
  },
  {
   "cell_type": "markdown",
   "id": "ddbfff85",
   "metadata": {},
   "source": [
    "# Función conjunta"
   ]
  },
  {
   "cell_type": "code",
   "execution_count": 455,
   "id": "267ca4d4",
   "metadata": {
    "ExecuteTime": {
     "end_time": "2021-10-13T16:15:59.156825Z",
     "start_time": "2021-10-13T16:15:59.140837Z"
    }
   },
   "outputs": [],
   "source": [
    "def get_important_features(data_matrix, comp_dict, cluster_to_rev, model_num='1'):\n",
    "    # Obteniendo el modelo\n",
    "    if model_num == '1':\n",
    "        model = model_1(data_matrix.shape, comp_dict)\n",
    "    elif model_num == '2':\n",
    "        model = model_2(data_matrix.shape, comp_dict)\n",
    "    elif model_num == '1_1':\n",
    "        model = model_1_1(data_matrix.shape, comp_dict)\n",
    "    \n",
    "    # Definición del Early Stopping\n",
    "    early_stop = tf.keras.callbacks.EarlyStopping(monitor='accuracy', patience=20)\n",
    "    \n",
    "    # Definición del x e y\n",
    "    X = data_matrix.to_numpy()\n",
    "    if model_num in ['1', '1_1']:\n",
    "        Y = np.array(clusters == cluster_to_rev, dtype=int)\n",
    "    elif model_num == '2':\n",
    "        Y = np.array([clusters]).T\n",
    "    \n",
    "    # Ajustar el modelo\n",
    "    model.fit(X, Y, batch_size=1, epochs=1000, verbose=1, callbacks=[early_stop])\n",
    "    \n",
    "    # Obtener los pesos\n",
    "    weights = model.layers[1].weights[0].numpy()\n",
    "    \n",
    "    if model_num == '1':\n",
    "        # Eliminar la dimensión extra\n",
    "        weights = np.squeeze(weights)\n",
    "\n",
    "        # Ordenando los pesos\n",
    "        weights_data = [(interest_vectors.columns[i], data_i) for i, data_i in enumerate(weights)]\n",
    "        weights_data = sorted(weights_data, key=lambda x: x[1], reverse=True)\n",
    "    \n",
    "        return weights_data\n",
    "    \n",
    "    elif model_num in ['2']:\n",
    "        return weights\n",
    "    \n",
    "    elif model_num in ['1_1']:\n",
    "        return weights"
   ]
  },
  {
   "cell_type": "markdown",
   "id": "ac781a4c",
   "metadata": {},
   "source": [
    "# Diseño del sistema"
   ]
  },
  {
   "cell_type": "markdown",
   "id": "06c1af20",
   "metadata": {},
   "source": [
    "### Idea 1"
   ]
  },
  {
   "cell_type": "code",
   "execution_count": 439,
   "id": "40007484",
   "metadata": {
    "ExecuteTime": {
     "end_time": "2021-10-13T16:14:08.827372Z",
     "start_time": "2021-10-13T16:14:08.809421Z"
    }
   },
   "outputs": [],
   "source": [
    "def model_1(input_shape, compile_dict):\n",
    "    # Definición de la capa de entrada\n",
    "    x_in = tf.keras.Input(shape=(input_shape[1]))\n",
    "    # Definición de la capa de salida (para los pesos)\n",
    "    x_out = tf.keras.layers.Dense(units=1, activation='sigmoid',\n",
    "                                  kernel_initializer='he_normal',\n",
    "                                  kernel_regularizer=tf.keras.regularizers.L1L2(l1=0, l2=1))(x_in)\n",
    "    \n",
    "    # Definición del modelo\n",
    "    model = tf.keras.Model(inputs=x_in, outputs=x_out)\n",
    "    \n",
    "    # Compilando el modelo\n",
    "    model.compile(optimizer=compile_dict['optimizer'], loss=compile_dict['loss'],\n",
    "                  metrics=compile_dict['metrics'])\n",
    "    \n",
    "    return model"
   ]
  },
  {
   "cell_type": "code",
   "execution_count": 440,
   "id": "62cb1454",
   "metadata": {
    "ExecuteTime": {
     "end_time": "2021-10-13T16:14:09.298233Z",
     "start_time": "2021-10-13T16:14:08.999425Z"
    }
   },
   "outputs": [
    {
     "name": "stdout",
     "output_type": "stream",
     "text": [
      "Model: \"functional_87\"\n",
      "_________________________________________________________________\n",
      "Layer (type)                 Output Shape              Param #   \n",
      "=================================================================\n",
      "input_45 (InputLayer)        [(None, 4)]               0         \n",
      "_________________________________________________________________\n",
      "dense_44 (Dense)             (None, 1)                 5         \n",
      "=================================================================\n",
      "Total params: 5\n",
      "Trainable params: 5\n",
      "Non-trainable params: 0\n",
      "_________________________________________________________________\n"
     ]
    }
   ],
   "source": [
    "# Definición de parámetros\n",
    "comp_dict = {'optimizer': tf.keras.optimizers.Adam(learning_rate=0.001),\n",
    "             'loss': 'binary_crossentropy',\n",
    "             'metrics': ['mse', 'accuracy'],\n",
    "             'num_clusters': len(np.unique(clusters))}\n",
    "\n",
    "model = model_1(interest_vectors.shape, comp_dict)\n",
    "early_stop = tf.keras.callbacks.EarlyStopping(monitor='loss', patience=20)\n",
    "model.summary()"
   ]
  },
  {
   "cell_type": "code",
   "execution_count": 441,
   "id": "4368c0f7",
   "metadata": {
    "ExecuteTime": {
     "end_time": "2021-10-13T16:14:09.456312Z",
     "start_time": "2021-10-13T16:14:09.441353Z"
    }
   },
   "outputs": [],
   "source": [
    "# Definición del x e y\n",
    "X = interest_vectors.to_numpy()\n",
    "Y = np.array(clusters == 0, dtype=int)"
   ]
  },
  {
   "cell_type": "code",
   "execution_count": 442,
   "id": "36f2852a",
   "metadata": {
    "ExecuteTime": {
     "end_time": "2021-10-13T16:14:30.314724Z",
     "start_time": "2021-10-13T16:14:09.600398Z"
    },
    "scrolled": true
   },
   "outputs": [
    {
     "name": "stdout",
     "output_type": "stream",
     "text": [
      "Epoch 1/200\n",
      "206/206 [==============================] - 0s 918us/step - loss: 13.1926 - mse: 0.5118 - accuracy: 0.0437\n",
      "Epoch 2/200\n",
      "206/206 [==============================] - 0s 943us/step - loss: 10.2580 - mse: 0.5089 - accuracy: 0.0485\n",
      "Epoch 3/200\n",
      "206/206 [==============================] - 0s 913us/step - loss: 7.6769 - mse: 0.4913 - accuracy: 0.0631\n",
      "Epoch 4/200\n",
      "206/206 [==============================] - 0s 862us/step - loss: 5.6040 - mse: 0.4754 - accuracy: 0.0728\n",
      "Epoch 5/200\n",
      "206/206 [==============================] - 0s 919us/step - loss: 3.6810 - mse: 0.4454 - accuracy: 0.0922\n",
      "Epoch 6/200\n",
      "206/206 [==============================] - 0s 877us/step - loss: 2.2365 - mse: 0.4010 - accuracy: 0.1068\n",
      "Epoch 7/200\n",
      "206/206 [==============================] - 0s 900us/step - loss: 1.1715 - mse: 0.2692 - accuracy: 0.2087\n",
      "Epoch 8/200\n",
      "206/206 [==============================] - 0s 885us/step - loss: 0.8484 - mse: 0.1770 - accuracy: 0.9903\n",
      "Epoch 9/200\n",
      "206/206 [==============================] - 0s 848us/step - loss: 0.7458 - mse: 0.1565 - accuracy: 1.0000\n",
      "Epoch 10/200\n",
      "206/206 [==============================] - 0s 849us/step - loss: 0.6677 - mse: 0.1422 - accuracy: 1.0000\n",
      "Epoch 11/200\n",
      "206/206 [==============================] - 0s 927us/step - loss: 0.6026 - mse: 0.1297 - accuracy: 1.0000\n",
      "Epoch 12/200\n",
      "206/206 [==============================] - 0s 780us/step - loss: 0.5471 - mse: 0.1184 - accuracy: 1.0000\n",
      "Epoch 13/200\n",
      "206/206 [==============================] - 0s 799us/step - loss: 0.4986 - mse: 0.1082 - accuracy: 0.9951\n",
      "Epoch 14/200\n",
      "206/206 [==============================] - 0s 828us/step - loss: 0.4553 - mse: 0.0987 - accuracy: 0.9951\n",
      "Epoch 15/200\n",
      "206/206 [==============================] - 0s 967us/step - loss: 0.4166 - mse: 0.0898 - accuracy: 0.9951\n",
      "Epoch 16/200\n",
      "206/206 [==============================] - 0s 950us/step - loss: 0.3818 - mse: 0.0819 - accuracy: 0.9951\n",
      "Epoch 17/200\n",
      "206/206 [==============================] - 0s 1ms/step - loss: 0.3509 - mse: 0.0747 - accuracy: 0.9951\n",
      "Epoch 18/200\n",
      "206/206 [==============================] - 0s 826us/step - loss: 0.3235 - mse: 0.0681 - accuracy: 0.9951\n",
      "Epoch 19/200\n",
      "206/206 [==============================] - 0s 801us/step - loss: 0.2999 - mse: 0.0624 - accuracy: 0.9951\n",
      "Epoch 20/200\n",
      "206/206 [==============================] - 0s 808us/step - loss: 0.2799 - mse: 0.0573 - accuracy: 0.9951\n",
      "Epoch 21/200\n",
      "206/206 [==============================] - 0s 896us/step - loss: 0.2635 - mse: 0.0529 - accuracy: 0.9951\n",
      "Epoch 22/200\n",
      "206/206 [==============================] - 0s 842us/step - loss: 0.2504 - mse: 0.0493 - accuracy: 0.9951\n",
      "Epoch 23/200\n",
      "206/206 [==============================] - 0s 989us/step - loss: 0.2398 - mse: 0.0462 - accuracy: 0.9951\n",
      "Epoch 24/200\n",
      "206/206 [==============================] - 0s 805us/step - loss: 0.2316 - mse: 0.0440 - accuracy: 0.9854\n",
      "Epoch 25/200\n",
      "206/206 [==============================] - 0s 790us/step - loss: 0.2249 - mse: 0.0415 - accuracy: 0.9951\n",
      "Epoch 26/200\n",
      "206/206 [==============================] - 0s 790us/step - loss: 0.2192 - mse: 0.0396 - accuracy: 0.9903\n",
      "Epoch 27/200\n",
      "206/206 [==============================] - 0s 813us/step - loss: 0.2143 - mse: 0.0378 - accuracy: 0.9854\n",
      "Epoch 28/200\n",
      "206/206 [==============================] - 0s 871us/step - loss: 0.2101 - mse: 0.0368 - accuracy: 0.9709\n",
      "Epoch 29/200\n",
      "206/206 [==============================] - 0s 809us/step - loss: 0.2067 - mse: 0.0358 - accuracy: 0.9612\n",
      "Epoch 30/200\n",
      "206/206 [==============================] - 0s 828us/step - loss: 0.2034 - mse: 0.0340 - accuracy: 0.9709\n",
      "Epoch 31/200\n",
      "206/206 [==============================] - 0s 871us/step - loss: 0.2012 - mse: 0.0339 - accuracy: 0.9563\n",
      "Epoch 32/200\n",
      "206/206 [==============================] - 0s 797us/step - loss: 0.1980 - mse: 0.0318 - accuracy: 0.9709\n",
      "Epoch 33/200\n",
      "206/206 [==============================] - 0s 790us/step - loss: 0.1962 - mse: 0.0324 - accuracy: 0.9563\n",
      "Epoch 34/200\n",
      "206/206 [==============================] - 0s 807us/step - loss: 0.1944 - mse: 0.0318 - accuracy: 0.9563\n",
      "Epoch 35/200\n",
      "206/206 [==============================] - 0s 871us/step - loss: 0.1928 - mse: 0.0301 - accuracy: 0.9563\n",
      "Epoch 36/200\n",
      "206/206 [==============================] - 0s 959us/step - loss: 0.1914 - mse: 0.0304 - accuracy: 0.9563\n",
      "Epoch 37/200\n",
      "206/206 [==============================] - 0s 841us/step - loss: 0.1905 - mse: 0.0308 - accuracy: 0.9563\n",
      "Epoch 38/200\n",
      "206/206 [==============================] - 0s 831us/step - loss: 0.1897 - mse: 0.0294 - accuracy: 0.9612\n",
      "Epoch 39/200\n",
      "206/206 [==============================] - 0s 867us/step - loss: 0.1884 - mse: 0.0298 - accuracy: 0.9563\n",
      "Epoch 40/200\n",
      "206/206 [==============================] - 0s 833us/step - loss: 0.1879 - mse: 0.0303 - accuracy: 0.9563\n",
      "Epoch 41/200\n",
      "206/206 [==============================] - 0s 842us/step - loss: 0.1873 - mse: 0.0290 - accuracy: 0.9563\n",
      "Epoch 42/200\n",
      "206/206 [==============================] - 0s 834us/step - loss: 0.1866 - mse: 0.0298 - accuracy: 0.9563\n",
      "Epoch 43/200\n",
      "206/206 [==============================] - 0s 787us/step - loss: 0.1862 - mse: 0.0298 - accuracy: 0.9563\n",
      "Epoch 44/200\n",
      "206/206 [==============================] - 0s 790us/step - loss: 0.1861 - mse: 0.0298 - accuracy: 0.9563\n",
      "Epoch 45/200\n",
      "206/206 [==============================] - 0s 831us/step - loss: 0.1858 - mse: 0.0299 - accuracy: 0.9563\n",
      "Epoch 46/200\n",
      "206/206 [==============================] - 0s 881us/step - loss: 0.1851 - mse: 0.0280 - accuracy: 0.9563\n",
      "Epoch 47/200\n",
      "206/206 [==============================] - 0s 818us/step - loss: 0.1847 - mse: 0.0281 - accuracy: 0.9563\n",
      "Epoch 48/200\n",
      "206/206 [==============================] - 0s 886us/step - loss: 0.1848 - mse: 0.0295 - accuracy: 0.9563\n",
      "Epoch 49/200\n",
      "206/206 [==============================] - 0s 813us/step - loss: 0.1847 - mse: 0.0303 - accuracy: 0.9515\n",
      "Epoch 50/200\n",
      "206/206 [==============================] - 0s 881us/step - loss: 0.1846 - mse: 0.0305 - accuracy: 0.9515\n",
      "Epoch 51/200\n",
      "206/206 [==============================] - 0s 816us/step - loss: 0.1845 - mse: 0.0302 - accuracy: 0.9515\n",
      "Epoch 52/200\n",
      "206/206 [==============================] - 0s 800us/step - loss: 0.1841 - mse: 0.0284 - accuracy: 0.9563\n",
      "Epoch 53/200\n",
      "206/206 [==============================] - 0s 794us/step - loss: 0.1841 - mse: 0.0303 - accuracy: 0.9417\n",
      "Epoch 54/200\n",
      "206/206 [==============================] - 0s 799us/step - loss: 0.1841 - mse: 0.0284 - accuracy: 0.9563\n",
      "Epoch 55/200\n",
      "206/206 [==============================] - 0s 794us/step - loss: 0.1839 - mse: 0.0296 - accuracy: 0.9563\n",
      "Epoch 56/200\n",
      "206/206 [==============================] - 0s 805us/step - loss: 0.1836 - mse: 0.0284 - accuracy: 0.9563\n",
      "Epoch 57/200\n",
      "206/206 [==============================] - 0s 788us/step - loss: 0.1838 - mse: 0.0299 - accuracy: 0.9466\n",
      "Epoch 58/200\n",
      "206/206 [==============================] - 0s 780us/step - loss: 0.1840 - mse: 0.0306 - accuracy: 0.9466\n",
      "Epoch 59/200\n",
      "206/206 [==============================] - 0s 785us/step - loss: 0.1835 - mse: 0.0292 - accuracy: 0.9515\n",
      "Epoch 60/200\n",
      "206/206 [==============================] - 0s 780us/step - loss: 0.1839 - mse: 0.0290 - accuracy: 0.9563\n",
      "Epoch 61/200\n",
      "206/206 [==============================] - 0s 790us/step - loss: 0.1835 - mse: 0.0304 - accuracy: 0.9466\n",
      "Epoch 62/200\n",
      "206/206 [==============================] - 0s 795us/step - loss: 0.1837 - mse: 0.0304 - accuracy: 0.9515\n",
      "Epoch 63/200\n",
      "206/206 [==============================] - 0s 799us/step - loss: 0.1838 - mse: 0.0291 - accuracy: 0.9563\n",
      "Epoch 64/200\n",
      "206/206 [==============================] - 0s 785us/step - loss: 0.1840 - mse: 0.0301 - accuracy: 0.9417\n",
      "Epoch 65/200\n",
      "206/206 [==============================] - 0s 794us/step - loss: 0.1837 - mse: 0.0297 - accuracy: 0.9515\n",
      "Epoch 66/200\n",
      "206/206 [==============================] - 0s 795us/step - loss: 0.1836 - mse: 0.0301 - accuracy: 0.9515\n",
      "Epoch 67/200\n",
      "206/206 [==============================] - 0s 794us/step - loss: 0.1835 - mse: 0.0288 - accuracy: 0.9515\n",
      "Epoch 68/200\n",
      "206/206 [==============================] - 0s 795us/step - loss: 0.1835 - mse: 0.0292 - accuracy: 0.9515\n",
      "Epoch 69/200\n",
      "206/206 [==============================] - 0s 804us/step - loss: 0.1836 - mse: 0.0292 - accuracy: 0.9563\n",
      "Epoch 70/200\n"
     ]
    },
    {
     "name": "stdout",
     "output_type": "stream",
     "text": [
      "206/206 [==============================] - 0s 794us/step - loss: 0.1834 - mse: 0.0309 - accuracy: 0.9417\n",
      "Epoch 71/200\n",
      "206/206 [==============================] - 0s 790us/step - loss: 0.1834 - mse: 0.0304 - accuracy: 0.9466\n",
      "Epoch 72/200\n",
      "206/206 [==============================] - 0s 774us/step - loss: 0.1836 - mse: 0.0286 - accuracy: 0.9515\n",
      "Epoch 73/200\n",
      "206/206 [==============================] - 0s 779us/step - loss: 0.1837 - mse: 0.0303 - accuracy: 0.9466\n",
      "Epoch 74/200\n",
      "206/206 [==============================] - 0s 775us/step - loss: 0.1837 - mse: 0.0288 - accuracy: 0.9563\n",
      "Epoch 75/200\n",
      "206/206 [==============================] - 0s 796us/step - loss: 0.1834 - mse: 0.0292 - accuracy: 0.9563\n",
      "Epoch 76/200\n",
      "206/206 [==============================] - 0s 790us/step - loss: 0.1840 - mse: 0.0303 - accuracy: 0.9466\n",
      "Epoch 77/200\n",
      "206/206 [==============================] - 0s 775us/step - loss: 0.1839 - mse: 0.0301 - accuracy: 0.9466\n",
      "Epoch 78/200\n",
      "206/206 [==============================] - 0s 785us/step - loss: 0.1838 - mse: 0.0288 - accuracy: 0.9466\n",
      "Epoch 79/200\n",
      "206/206 [==============================] - 0s 774us/step - loss: 0.1835 - mse: 0.0304 - accuracy: 0.9417\n",
      "Epoch 80/200\n",
      "206/206 [==============================] - 0s 780us/step - loss: 0.1839 - mse: 0.0305 - accuracy: 0.9369\n",
      "Epoch 81/200\n",
      "206/206 [==============================] - 0s 791us/step - loss: 0.1840 - mse: 0.0290 - accuracy: 0.9466\n",
      "Epoch 82/200\n",
      "206/206 [==============================] - 0s 779us/step - loss: 0.1840 - mse: 0.0307 - accuracy: 0.9417\n",
      "Epoch 83/200\n",
      "206/206 [==============================] - 0s 782us/step - loss: 0.1839 - mse: 0.0303 - accuracy: 0.9466\n",
      "Epoch 84/200\n",
      "206/206 [==============================] - 0s 780us/step - loss: 0.1837 - mse: 0.0302 - accuracy: 0.9466\n",
      "Epoch 85/200\n",
      "206/206 [==============================] - 0s 775us/step - loss: 0.1834 - mse: 0.0296 - accuracy: 0.9417\n",
      "Epoch 86/200\n",
      "206/206 [==============================] - 0s 770us/step - loss: 0.1836 - mse: 0.0285 - accuracy: 0.9563\n",
      "Epoch 87/200\n",
      "206/206 [==============================] - 0s 790us/step - loss: 0.1833 - mse: 0.0298 - accuracy: 0.9417\n",
      "Epoch 88/200\n",
      "206/206 [==============================] - 0s 782us/step - loss: 0.1838 - mse: 0.0303 - accuracy: 0.9417\n",
      "Epoch 89/200\n",
      "206/206 [==============================] - 0s 780us/step - loss: 0.1837 - mse: 0.0293 - accuracy: 0.9515\n",
      "Epoch 90/200\n",
      "206/206 [==============================] - 0s 774us/step - loss: 0.1835 - mse: 0.0309 - accuracy: 0.9417\n",
      "Epoch 91/200\n",
      "206/206 [==============================] - 0s 774us/step - loss: 0.1834 - mse: 0.0303 - accuracy: 0.9515\n",
      "Epoch 92/200\n",
      "206/206 [==============================] - 0s 776us/step - loss: 0.1836 - mse: 0.0289 - accuracy: 0.9466\n",
      "Epoch 93/200\n",
      "206/206 [==============================] - 0s 790us/step - loss: 0.1839 - mse: 0.0319 - accuracy: 0.9320\n",
      "Epoch 94/200\n",
      "206/206 [==============================] - 0s 781us/step - loss: 0.1836 - mse: 0.0284 - accuracy: 0.9515\n",
      "Epoch 95/200\n",
      "206/206 [==============================] - 0s 775us/step - loss: 0.1835 - mse: 0.0298 - accuracy: 0.9515\n",
      "Epoch 96/200\n",
      "206/206 [==============================] - 0s 784us/step - loss: 0.1838 - mse: 0.0298 - accuracy: 0.9417\n",
      "Epoch 97/200\n",
      "206/206 [==============================] - 0s 779us/step - loss: 0.1832 - mse: 0.0292 - accuracy: 0.9466\n",
      "Epoch 98/200\n",
      "206/206 [==============================] - 0s 785us/step - loss: 0.1836 - mse: 0.0301 - accuracy: 0.9466\n",
      "Epoch 99/200\n",
      "206/206 [==============================] - 0s 788us/step - loss: 0.1832 - mse: 0.0289 - accuracy: 0.9466\n",
      "Epoch 100/200\n",
      "206/206 [==============================] - 0s 789us/step - loss: 0.1836 - mse: 0.0291 - accuracy: 0.9515\n",
      "Epoch 101/200\n",
      "206/206 [==============================] - 0s 774us/step - loss: 0.1839 - mse: 0.0305 - accuracy: 0.9466\n",
      "Epoch 102/200\n",
      "206/206 [==============================] - 0s 795us/step - loss: 0.1837 - mse: 0.0299 - accuracy: 0.9466\n",
      "Epoch 103/200\n",
      "206/206 [==============================] - 0s 775us/step - loss: 0.1840 - mse: 0.0305 - accuracy: 0.9466\n",
      "Epoch 104/200\n",
      "206/206 [==============================] - 0s 770us/step - loss: 0.1839 - mse: 0.0307 - accuracy: 0.9417\n",
      "Epoch 105/200\n",
      "206/206 [==============================] - 0s 789us/step - loss: 0.1836 - mse: 0.0292 - accuracy: 0.9563\n",
      "Epoch 106/200\n",
      "206/206 [==============================] - 0s 805us/step - loss: 0.1837 - mse: 0.0302 - accuracy: 0.9466\n",
      "Epoch 107/200\n",
      "206/206 [==============================] - 0s 779us/step - loss: 0.1836 - mse: 0.0299 - accuracy: 0.9417\n",
      "Epoch 108/200\n",
      "206/206 [==============================] - 0s 804us/step - loss: 0.1836 - mse: 0.0295 - accuracy: 0.9515\n",
      "Epoch 109/200\n",
      "206/206 [==============================] - 0s 779us/step - loss: 0.1836 - mse: 0.0296 - accuracy: 0.9466\n",
      "Epoch 110/200\n",
      "206/206 [==============================] - 0s 775us/step - loss: 0.1835 - mse: 0.0298 - accuracy: 0.9466\n",
      "Epoch 111/200\n",
      "206/206 [==============================] - 0s 777us/step - loss: 0.1838 - mse: 0.0317 - accuracy: 0.9369\n",
      "Epoch 112/200\n",
      "206/206 [==============================] - 0s 799us/step - loss: 0.1836 - mse: 0.0300 - accuracy: 0.9466\n",
      "Epoch 113/200\n",
      "206/206 [==============================] - 0s 780us/step - loss: 0.1837 - mse: 0.0293 - accuracy: 0.9466\n",
      "Epoch 114/200\n",
      "206/206 [==============================] - 0s 779us/step - loss: 0.1837 - mse: 0.0302 - accuracy: 0.9466\n",
      "Epoch 115/200\n",
      "206/206 [==============================] - 0s 780us/step - loss: 0.1838 - mse: 0.0289 - accuracy: 0.9515\n",
      "Epoch 116/200\n",
      "206/206 [==============================] - 0s 779us/step - loss: 0.1833 - mse: 0.0312 - accuracy: 0.9417\n",
      "Epoch 117/200\n",
      "206/206 [==============================] - 0s 780us/step - loss: 0.1836 - mse: 0.0293 - accuracy: 0.9417\n",
      "Epoch 118/200\n",
      "206/206 [==============================] - 0s 789us/step - loss: 0.1833 - mse: 0.0310 - accuracy: 0.9417\n",
      "Epoch 119/200\n",
      "206/206 [==============================] - 0s 778us/step - loss: 0.1839 - mse: 0.0291 - accuracy: 0.9466\n"
     ]
    },
    {
     "data": {
      "text/plain": [
       "<tensorflow.python.keras.callbacks.History at 0x1e1762f5250>"
      ]
     },
     "execution_count": 442,
     "metadata": {},
     "output_type": "execute_result"
    }
   ],
   "source": [
    "model.fit(X, Y, batch_size=1, epochs=200, verbose=1, callbacks=[early_stop])"
   ]
  },
  {
   "cell_type": "markdown",
   "id": "2b65169a",
   "metadata": {},
   "source": [
    "# Obteniendo los pesos"
   ]
  },
  {
   "cell_type": "code",
   "execution_count": 443,
   "id": "23c8e975",
   "metadata": {
    "ExecuteTime": {
     "end_time": "2021-10-13T16:14:30.456457Z",
     "start_time": "2021-10-13T16:14:30.441412Z"
    }
   },
   "outputs": [],
   "source": [
    "weights = model.get_weights()[0]\n",
    "weights = np.squeeze(weights)"
   ]
  },
  {
   "cell_type": "code",
   "execution_count": 444,
   "id": "ccae5512",
   "metadata": {
    "ExecuteTime": {
     "end_time": "2021-10-13T16:14:30.612188Z",
     "start_time": "2021-10-13T16:14:30.597230Z"
    },
    "scrolled": true
   },
   "outputs": [
    {
     "data": {
      "text/plain": [
       "[('OT_theobromine', -0.007650562),\n",
       " ('OT_betaine', -0.023614766),\n",
       " ('OT_caffeine', -0.091201365),\n",
       " ('OT_choline', -0.22879389)]"
      ]
     },
     "execution_count": 444,
     "metadata": {},
     "output_type": "execute_result"
    }
   ],
   "source": [
    "# Ordenando los pesos\n",
    "weights_data = [(interest_vectors.columns[i], data_i) for i, data_i in enumerate(weights)]\n",
    "weights_data = sorted(weights_data, key=lambda x: x[1], reverse=True)\n",
    "weights_data"
   ]
  },
  {
   "cell_type": "code",
   "execution_count": 445,
   "id": "9da58838",
   "metadata": {
    "ExecuteTime": {
     "end_time": "2021-10-13T16:14:30.737055Z",
     "start_time": "2021-10-13T16:14:30.722091Z"
    }
   },
   "outputs": [
    {
     "data": {
      "text/plain": [
       "[array([[-0.02361477],\n",
       "        [-0.09120136],\n",
       "        [-0.22879389],\n",
       "        [-0.00765056]], dtype=float32),\n",
       " array([2.4168947], dtype=float32)]"
      ]
     },
     "execution_count": 445,
     "metadata": {},
     "output_type": "execute_result"
    }
   ],
   "source": [
    "model.get_weights()"
   ]
  },
  {
   "cell_type": "code",
   "execution_count": 446,
   "id": "6def2753",
   "metadata": {
    "ExecuteTime": {
     "end_time": "2021-10-13T16:14:35.024639Z",
     "start_time": "2021-10-13T16:14:30.848323Z"
    },
    "scrolled": true
   },
   "outputs": [
    {
     "name": "stdout",
     "output_type": "stream",
     "text": [
      "Revisando cluster #0\n",
      "[1 1 1 0 1 1 1 1 0 1 1 0 1 1 0 0 0 0 0 0 1 0 1 1 1 0 0 1 1 1 1 1 1 1 1 0 0\n",
      " 1 0 1 1 0 0 1 0 0 0 1 1 1 0 0 0 0 1 1 0 1 0 1 1 0 1 1 0 0 0 1 1 0 1 1 0 0\n",
      " 1 1 1 0 1 0 1 1 1 0 1 1 0 1 1 1 0 1 1 0 1 1 0 1 1 0 1 1 1 1 0 0 1 1 0 1 1\n",
      " 0 1 1 1 1 0 0 0 1 0 0 1 1 0 1 1 1 0 0 1 1 1 1 1 0 0 0 1 1 1 0 1 1 1 1 0 0\n",
      " 1 0 0 1 0 1 0 1 1 0 1 1 1 0 0 1 0 0 1 0 0 0 1 0 1 1 1 0 1 1 1 0 1 1 0 1 1\n",
      " 0 1 1 1 1 1 0 1 1 1 0 0 0 1 1 1 0 1 0 1 1]\n",
      "Epoch 1/1000\n",
      "  1/206 [..............................] - ETA: 0s - loss: 2.7516 - accuracy: 1.0000WARNING:tensorflow:Callbacks method `on_train_batch_end` is slow compared to the batch time (batch time: 0.0000s vs `on_train_batch_end` time: 0.0010s). Check your callbacks.\n",
      "206/206 [==============================] - 0s 731us/step - loss: 2.6494 - accuracy: 0.9854\n",
      "Epoch 2/1000\n",
      "206/206 [==============================] - 0s 710us/step - loss: 1.8061 - accuracy: 0.9903\n",
      "Epoch 3/1000\n",
      "206/206 [==============================] - 0s 714us/step - loss: 1.2310 - accuracy: 0.9951\n",
      "Epoch 4/1000\n",
      "206/206 [==============================] - 0s 714us/step - loss: 0.8502 - accuracy: 0.9951\n",
      "Epoch 5/1000\n",
      "206/206 [==============================] - 0s 743us/step - loss: 0.6016 - accuracy: 0.9951\n",
      "Epoch 6/1000\n",
      "206/206 [==============================] - 0s 733us/step - loss: 0.4411 - accuracy: 1.0000\n",
      "Epoch 7/1000\n",
      "206/206 [==============================] - 0s 722us/step - loss: 0.3405 - accuracy: 1.0000\n",
      "Epoch 8/1000\n",
      "206/206 [==============================] - 0s 689us/step - loss: 0.2830 - accuracy: 1.0000\n",
      "Epoch 9/1000\n",
      "206/206 [==============================] - 0s 694us/step - loss: 0.2539 - accuracy: 1.0000\n",
      "Epoch 10/1000\n",
      "206/206 [==============================] - 0s 704us/step - loss: 0.2395 - accuracy: 0.9951\n",
      "Epoch 11/1000\n",
      "206/206 [==============================] - 0s 686us/step - loss: 0.2308 - accuracy: 0.9951\n",
      "Epoch 12/1000\n",
      "206/206 [==============================] - 0s 689us/step - loss: 0.2243 - accuracy: 0.9903\n",
      "Epoch 13/1000\n",
      "206/206 [==============================] - 0s 703us/step - loss: 0.2184 - accuracy: 0.9806\n",
      "Epoch 14/1000\n",
      "206/206 [==============================] - 0s 717us/step - loss: 0.2128 - accuracy: 0.9951\n",
      "Epoch 15/1000\n",
      "206/206 [==============================] - 0s 703us/step - loss: 0.2092 - accuracy: 0.9806\n",
      "Epoch 16/1000\n",
      "206/206 [==============================] - 0s 694us/step - loss: 0.2058 - accuracy: 0.9612\n",
      "Epoch 17/1000\n",
      "206/206 [==============================] - 0s 689us/step - loss: 0.2018 - accuracy: 0.9709\n",
      "Epoch 18/1000\n",
      "206/206 [==============================] - 0s 689us/step - loss: 0.1994 - accuracy: 0.9757\n",
      "Epoch 19/1000\n",
      "206/206 [==============================] - 0s 715us/step - loss: 0.1974 - accuracy: 0.9660\n",
      "Epoch 20/1000\n",
      "206/206 [==============================] - 0s 717us/step - loss: 0.1954 - accuracy: 0.9563\n",
      "Epoch 21/1000\n",
      "206/206 [==============================] - 0s 731us/step - loss: 0.1941 - accuracy: 0.9612\n",
      "Epoch 22/1000\n",
      "206/206 [==============================] - 0s 768us/step - loss: 0.1922 - accuracy: 0.9563\n",
      "Epoch 23/1000\n",
      "206/206 [==============================] - 0s 769us/step - loss: 0.1907 - accuracy: 0.9563\n",
      "Epoch 24/1000\n",
      "206/206 [==============================] - 0s 696us/step - loss: 0.1900 - accuracy: 0.9563\n",
      "Epoch 25/1000\n",
      "206/206 [==============================] - 0s 736us/step - loss: 0.1887 - accuracy: 0.9612\n",
      "Epoch 26/1000\n",
      "206/206 [==============================] - 0s 920us/step - loss: 0.1881 - accuracy: 0.9563\n"
     ]
    },
    {
     "data": {
      "text/plain": [
       "[('OT_theobromine', -0.010898626),\n",
       " ('OT_betaine', -0.020615062),\n",
       " ('OT_caffeine', -0.07968655),\n",
       " ('OT_choline', -0.20979962)]"
      ]
     },
     "metadata": {},
     "output_type": "display_data"
    }
   ],
   "source": [
    "weights_list = list()\n",
    "\n",
    "# Definición de parámetros\n",
    "comp_dict = {'optimizer': 'adam',\n",
    "             'loss': 'binary_crossentropy',\n",
    "             'metrics': ['accuracy'],\n",
    "             'model_num': '1'}\n",
    "\n",
    "for cluster in range(len(np.unique(clusters))):\n",
    "    print(f'Revisando cluster #{cluster}')\n",
    "    weights_data = get_important_features(interest_vectors, comp_dict, cluster_to_rev=cluster,\n",
    "                                          model_num=comp_dict['model_num'])\n",
    "    weights_list.append(weights_data)\n",
    "    display(weights_data)\n",
    "    break"
   ]
  },
  {
   "cell_type": "markdown",
   "id": "772fb2e4",
   "metadata": {},
   "source": [
    "### Idea 2"
   ]
  },
  {
   "cell_type": "code",
   "execution_count": 453,
   "id": "aa30361d",
   "metadata": {
    "ExecuteTime": {
     "end_time": "2021-10-13T16:15:40.634109Z",
     "start_time": "2021-10-13T16:15:40.629407Z"
    }
   },
   "outputs": [],
   "source": [
    "def model_2(input_shape, compile_dict):\n",
    "    # Definición de la capa de entrada\n",
    "    x_in = tf.keras.Input(shape=(input_shape[1]))\n",
    "    # Definición de la capa de salida (para los pesos)\n",
    "    x_out = tf.keras.layers.Dense(units=compile_dict['num_clusters'], \n",
    "                                  activation='softmax')(x_in)\n",
    "    \n",
    "    # Definición del modelo\n",
    "    model = tf.keras.Model(inputs=x_in, outputs=x_out)\n",
    "    \n",
    "    # Compilando el modelo\n",
    "    model.compile(optimizer=compile_dict['optimizer'], loss=compile_dict['loss'],\n",
    "                  metrics=compile_dict['metrics'])\n",
    "    \n",
    "    return model"
   ]
  },
  {
   "cell_type": "code",
   "execution_count": 457,
   "id": "f21ffcfe",
   "metadata": {
    "ExecuteTime": {
     "end_time": "2021-10-13T16:16:52.388982Z",
     "start_time": "2021-10-13T16:16:48.366414Z"
    },
    "scrolled": true
   },
   "outputs": [
    {
     "name": "stdout",
     "output_type": "stream",
     "text": [
      "Revisando cluster #0\n",
      "Epoch 1/1000\n",
      "  1/206 [..............................] - ETA: 0s - loss: 2.4838 - accuracy: 1.0000WARNING:tensorflow:Callbacks method `on_train_batch_end` is slow compared to the batch time (batch time: 0.0000s vs `on_train_batch_end` time: 0.0105s). Check your callbacks.\n",
      "206/206 [==============================] - 0s 802us/step - loss: nan - accuracy: 0.3981\n",
      "Epoch 2/1000\n",
      "206/206 [==============================] - 0s 731us/step - loss: nan - accuracy: 0.3981\n",
      "Epoch 3/1000\n",
      "206/206 [==============================] - 0s 752us/step - loss: nan - accuracy: 0.3981\n",
      "Epoch 4/1000\n",
      "206/206 [==============================] - 0s 760us/step - loss: nan - accuracy: 0.3981\n",
      "Epoch 5/1000\n",
      "206/206 [==============================] - 0s 719us/step - loss: nan - accuracy: 0.3981\n",
      "Epoch 6/1000\n",
      "206/206 [==============================] - 0s 719us/step - loss: nan - accuracy: 0.3981\n",
      "Epoch 7/1000\n",
      "206/206 [==============================] - 0s 726us/step - loss: nan - accuracy: 0.3981\n",
      "Epoch 8/1000\n",
      "206/206 [==============================] - 0s 745us/step - loss: nan - accuracy: 0.3981\n",
      "Epoch 9/1000\n",
      "206/206 [==============================] - 0s 804us/step - loss: nan - accuracy: 0.3981\n",
      "Epoch 10/1000\n",
      "206/206 [==============================] - 0s 915us/step - loss: nan - accuracy: 0.3981\n",
      "Epoch 11/1000\n",
      "206/206 [==============================] - 0s 784us/step - loss: nan - accuracy: 0.3981\n",
      "Epoch 12/1000\n",
      "206/206 [==============================] - 0s 809us/step - loss: nan - accuracy: 0.3981\n",
      "Epoch 13/1000\n",
      "206/206 [==============================] - 0s 731us/step - loss: nan - accuracy: 0.3981\n",
      "Epoch 14/1000\n",
      "206/206 [==============================] - 0s 794us/step - loss: nan - accuracy: 0.3981\n",
      "Epoch 15/1000\n",
      "206/206 [==============================] - 0s 750us/step - loss: nan - accuracy: 0.3981\n",
      "Epoch 16/1000\n",
      "206/206 [==============================] - 0s 761us/step - loss: nan - accuracy: 0.3981\n",
      "Epoch 17/1000\n",
      "206/206 [==============================] - 0s 731us/step - loss: nan - accuracy: 0.3981\n",
      "Epoch 18/1000\n",
      "206/206 [==============================] - 0s 717us/step - loss: nan - accuracy: 0.3981\n",
      "Epoch 19/1000\n",
      "206/206 [==============================] - 0s 779us/step - loss: nan - accuracy: 0.3981\n",
      "Epoch 20/1000\n",
      "206/206 [==============================] - 0s 731us/step - loss: nan - accuracy: 0.3981\n",
      "Epoch 21/1000\n",
      "206/206 [==============================] - 0s 701us/step - loss: nan - accuracy: 0.3981\n"
     ]
    },
    {
     "data": {
      "text/plain": [
       "[('OT_betaine', nan),\n",
       " ('OT_caffeine', nan),\n",
       " ('OT_choline', nan),\n",
       " ('OT_theobromine', nan)]"
      ]
     },
     "metadata": {},
     "output_type": "display_data"
    }
   ],
   "source": [
    "weights_list = list()\n",
    "\n",
    "# Definición de parámetros\n",
    "comp_dict = {'optimizer': 'adam',\n",
    "             'loss': 'sparse_categorical_crossentropy',\n",
    "             'metrics': ['accuracy'],\n",
    "             'num_clusters': len(np.unique(clusters)),\n",
    "             'model_num': '2'}\n",
    "\n",
    "\n",
    "for cluster in range(len(np.unique(clusters))):\n",
    "    print(f'Revisando cluster #{cluster}')\n",
    "    weights_data = get_important_features(interest_vectors, comp_dict, cluster_to_rev=cluster,\n",
    "                                          model_num=comp_dict['model_num'])\n",
    "    weights_list.append(weights_data)\n",
    "    display(weights_data)\n",
    "    break"
   ]
  },
  {
   "cell_type": "code",
   "execution_count": 449,
   "id": "2ae80a7e",
   "metadata": {
    "ExecuteTime": {
     "end_time": "2021-10-13T16:14:38.757081Z",
     "start_time": "2021-10-13T16:14:38.742121Z"
    }
   },
   "outputs": [
    {
     "ename": "AttributeError",
     "evalue": "'numpy.ndarray' object has no attribute 'layers'",
     "output_type": "error",
     "traceback": [
      "\u001b[1;31m---------------------------------------------------------------------------\u001b[0m",
      "\u001b[1;31mAttributeError\u001b[0m                            Traceback (most recent call last)",
      "\u001b[1;32mC:\\Users\\CHRIS-~1\\AppData\\Local\\Temp/ipykernel_8948/3719804121.py\u001b[0m in \u001b[0;36m<module>\u001b[1;34m\u001b[0m\n\u001b[1;32m----> 1\u001b[1;33m \u001b[0mweights_data\u001b[0m\u001b[1;33m.\u001b[0m\u001b[0mlayers\u001b[0m\u001b[1;33m[\u001b[0m\u001b[1;36m1\u001b[0m\u001b[1;33m]\u001b[0m\u001b[1;33m.\u001b[0m\u001b[0mweights\u001b[0m\u001b[1;33m[\u001b[0m\u001b[1;36m0\u001b[0m\u001b[1;33m]\u001b[0m\u001b[1;33m.\u001b[0m\u001b[0mnumpy\u001b[0m\u001b[1;33m(\u001b[0m\u001b[1;33m)\u001b[0m\u001b[1;33m.\u001b[0m\u001b[0mshape\u001b[0m\u001b[1;33m\u001b[0m\u001b[1;33m\u001b[0m\u001b[0m\n\u001b[0m",
      "\u001b[1;31mAttributeError\u001b[0m: 'numpy.ndarray' object has no attribute 'layers'"
     ]
    }
   ],
   "source": [
    "weights_data.layers[1].weights[0].numpy().shape"
   ]
  },
  {
   "cell_type": "markdown",
   "id": "8089c173",
   "metadata": {},
   "source": [
    "### Idea 3"
   ]
  },
  {
   "cell_type": "code",
   "execution_count": 385,
   "id": "f7472ec4",
   "metadata": {
    "ExecuteTime": {
     "end_time": "2021-10-13T15:52:22.829255Z",
     "start_time": "2021-10-13T15:52:22.823271Z"
    }
   },
   "outputs": [],
   "source": [
    "def model_1_1(input_shape, compile_dict):\n",
    "    # Definición de la capa de entrada\n",
    "    x_in = tf.keras.Input(shape=(input_shape[1]))\n",
    "    # Definición de la capa de salida (para los pesos)\n",
    "    x_out = tf.keras.layers.Dense(units=2, activation='softmax', \n",
    "                                  kernel_initializer='he_normal',\n",
    "                                  kernel_regularizer=tf.keras.regularizers.L1L2(l1=0, l2=1))(x_in)\n",
    "    \n",
    "    # Definición del modelo\n",
    "    model = tf.keras.Model(inputs=x_in, outputs=x_out)\n",
    "    \n",
    "    # Compilando el modelo\n",
    "    model.compile(optimizer=compile_dict['optimizer'], loss=compile_dict['loss'],\n",
    "                  metrics=compile_dict['metrics'])\n",
    "    \n",
    "    return model"
   ]
  },
  {
   "cell_type": "code",
   "execution_count": 386,
   "id": "e91f3123",
   "metadata": {
    "ExecuteTime": {
     "end_time": "2021-10-13T15:52:27.264497Z",
     "start_time": "2021-10-13T15:52:22.996414Z"
    },
    "scrolled": true
   },
   "outputs": [
    {
     "name": "stdout",
     "output_type": "stream",
     "text": [
      "Revisando cluster #0\n",
      "Epoch 1/1000\n",
      "206/206 [==============================] - 0s 778us/step - loss: 7.3346 - accuracy: 0.7767\n",
      "Epoch 2/1000\n",
      "206/206 [==============================] - 0s 726us/step - loss: 4.6271 - accuracy: 0.7573\n",
      "Epoch 3/1000\n",
      "206/206 [==============================] - 0s 704us/step - loss: 2.6969 - accuracy: 0.7136\n",
      "Epoch 4/1000\n",
      "206/206 [==============================] - 0s 723us/step - loss: 1.5769 - accuracy: 0.8495\n",
      "Epoch 5/1000\n",
      "206/206 [==============================] - 0s 693us/step - loss: 1.2929 - accuracy: 0.8738\n",
      "Epoch 6/1000\n",
      "206/206 [==============================] - 0s 701us/step - loss: 1.1853 - accuracy: 0.8738\n",
      "Epoch 7/1000\n",
      "206/206 [==============================] - 0s 704us/step - loss: 1.1249 - accuracy: 0.8738\n",
      "Epoch 8/1000\n",
      "206/206 [==============================] - 0s 721us/step - loss: 1.0870 - accuracy: 0.8738\n",
      "Epoch 9/1000\n",
      "206/206 [==============================] - 0s 721us/step - loss: 1.0578 - accuracy: 0.8738\n",
      "Epoch 10/1000\n",
      "206/206 [==============================] - 0s 741us/step - loss: 1.0319 - accuracy: 0.8738\n",
      "Epoch 11/1000\n",
      "206/206 [==============================] - 0s 708us/step - loss: 1.0070 - accuracy: 0.8738\n",
      "Epoch 12/1000\n",
      "206/206 [==============================] - 0s 828us/step - loss: 0.9808 - accuracy: 0.8738\n",
      "Epoch 13/1000\n",
      "206/206 [==============================] - 0s 755us/step - loss: 0.9537 - accuracy: 0.8738\n",
      "Epoch 14/1000\n",
      "206/206 [==============================] - 0s 695us/step - loss: 0.9256 - accuracy: 0.8738\n",
      "Epoch 15/1000\n",
      "206/206 [==============================] - 0s 697us/step - loss: 0.8957 - accuracy: 0.8738\n",
      "Epoch 16/1000\n",
      "206/206 [==============================] - 0s 707us/step - loss: 0.8656 - accuracy: 0.8738\n",
      "Epoch 17/1000\n",
      "206/206 [==============================] - 0s 732us/step - loss: 0.8343 - accuracy: 0.8738\n",
      "Epoch 18/1000\n",
      "206/206 [==============================] - 0s 676us/step - loss: 0.8020 - accuracy: 0.8738\n",
      "Epoch 19/1000\n",
      "206/206 [==============================] - 0s 686us/step - loss: 0.7695 - accuracy: 0.8738\n",
      "Epoch 20/1000\n",
      "206/206 [==============================] - 0s 675us/step - loss: 0.7369 - accuracy: 0.8738\n",
      "Epoch 21/1000\n",
      "206/206 [==============================] - 0s 770us/step - loss: 0.7032 - accuracy: 0.8738\n",
      "Epoch 22/1000\n",
      "206/206 [==============================] - 0s 736us/step - loss: 0.6710 - accuracy: 0.8738\n",
      "Epoch 23/1000\n",
      "206/206 [==============================] - 0s 716us/step - loss: 0.6406 - accuracy: 0.8738\n",
      "Epoch 24/1000\n",
      "206/206 [==============================] - 0s 765us/step - loss: 0.6097 - accuracy: 0.8738\n",
      "Epoch 25/1000\n",
      "206/206 [==============================] - 0s 688us/step - loss: 0.5855 - accuracy: 0.8738\n"
     ]
    },
    {
     "data": {
      "text/plain": [
       "array([[ 3.9777798e-03, -3.9714319e-03],\n",
       "       [ 7.2078684e-08, -1.4199226e-08],\n",
       "       [-8.8992761e-03,  8.9303618e-03],\n",
       "       [ 1.8144624e-02, -1.8141564e-02],\n",
       "       [-6.6987635e-03,  6.7009642e-03],\n",
       "       [ 2.1231249e-03, -1.9584233e-03],\n",
       "       [ 3.3590609e-01,  2.8413904e-01],\n",
       "       [ 9.2697311e-03, -9.3598757e-03],\n",
       "       [ 1.2146984e-03, -2.9937651e-03]], dtype=float32)"
      ]
     },
     "metadata": {},
     "output_type": "display_data"
    }
   ],
   "source": [
    "weights_list = list()\n",
    "\n",
    "# Definición de parámetros\n",
    "comp_dict = {'optimizer': 'adam',\n",
    "             'loss': 'sparse_categorical_crossentropy',\n",
    "             'metrics': ['accuracy'],\n",
    "             'num_clusters': len(np.unique(clusters)),\n",
    "             'model_num': '1_1'}\n",
    "\n",
    "\n",
    "for cluster in range(len(np.unique(clusters))):\n",
    "    print(f'Revisando cluster #{cluster}')\n",
    "    weights_data = get_important_features(interest_vectors, comp_dict, cluster_to_rev=cluster,\n",
    "                                          model_num=comp_dict['model_num'])\n",
    "    weights_list.append(weights_data)\n",
    "    display(weights_data)\n",
    "    break"
   ]
  },
  {
   "cell_type": "code",
   "execution_count": 387,
   "id": "5ec8a9a7",
   "metadata": {
    "ExecuteTime": {
     "end_time": "2021-10-13T15:52:27.406398Z",
     "start_time": "2021-10-13T15:52:27.391398Z"
    }
   },
   "outputs": [
    {
     "data": {
      "text/plain": [
       "[('V_vit c', 0.3359061),\n",
       " ('V_vit b5', 0.018144624),\n",
       " ('V_vit h', 0.009269731),\n",
       " ('V_vit b1', 0.0039777798),\n",
       " ('V_vit b9', 0.002123125),\n",
       " ('V_vit k', 0.0012146984),\n",
       " ('V_vit b12', 7.2078684e-08),\n",
       " ('V_vit b6', -0.0066987635),\n",
       " ('V_vit b2', -0.008899276)]"
      ]
     },
     "execution_count": 387,
     "metadata": {},
     "output_type": "execute_result"
    }
   ],
   "source": [
    "a = [(interest_vectors.columns[i], data_i[0]) for i, data_i in enumerate(weights_data)]\n",
    "a.sort(key=lambda x: x[1], reverse=True)\n",
    "a"
   ]
  },
  {
   "cell_type": "code",
   "execution_count": 352,
   "id": "1d656e41",
   "metadata": {
    "ExecuteTime": {
     "end_time": "2021-10-13T15:47:09.185882Z",
     "start_time": "2021-10-13T15:47:09.168928Z"
    }
   },
   "outputs": [
    {
     "data": {
      "text/plain": [
       "Index(['V_vit b1', 'V_vit b12', 'V_vit b2', 'V_vit b5', 'V_vit b6', 'V_vit b9',\n",
       "       'V_vit c', 'V_vit h', 'V_vit k'],\n",
       "      dtype='object')"
      ]
     },
     "execution_count": 352,
     "metadata": {},
     "output_type": "execute_result"
    }
   ],
   "source": [
    "interest_vectors.columns"
   ]
  },
  {
   "cell_type": "markdown",
   "id": "700a02ae",
   "metadata": {},
   "source": [
    "# Con sklearn"
   ]
  },
  {
   "cell_type": "code",
   "execution_count": 205,
   "id": "b100a3e4",
   "metadata": {
    "ExecuteTime": {
     "end_time": "2021-10-13T15:20:42.857068Z",
     "start_time": "2021-10-13T15:20:42.844135Z"
    }
   },
   "outputs": [],
   "source": [
    "from sklearn.linear_model import LogisticRegression "
   ]
  },
  {
   "cell_type": "code",
   "execution_count": 421,
   "id": "16d6d051",
   "metadata": {
    "ExecuteTime": {
     "end_time": "2021-10-13T16:02:55.437694Z",
     "start_time": "2021-10-13T16:02:55.429718Z"
    }
   },
   "outputs": [],
   "source": [
    "# Definición del x e y\n",
    "X = interest_vectors.to_numpy()\n",
    "Y = np.array(clusters == 0, dtype=int)"
   ]
  },
  {
   "cell_type": "code",
   "execution_count": 422,
   "id": "f8e9d86b",
   "metadata": {
    "ExecuteTime": {
     "end_time": "2021-10-13T16:02:55.578169Z",
     "start_time": "2021-10-13T16:02:55.563211Z"
    },
    "scrolled": false
   },
   "outputs": [
    {
     "name": "stdout",
     "output_type": "stream",
     "text": [
      "[LibLinear]"
     ]
    },
    {
     "data": {
      "text/plain": [
       "array([[-0.05489158, -0.37704036, -0.95228148, -0.00402614]])"
      ]
     },
     "metadata": {},
     "output_type": "display_data"
    },
    {
     "data": {
      "text/plain": [
       "array([ True,  True,  True,  True,  True,  True,  True,  True,  True,\n",
       "        True,  True,  True,  True,  True,  True,  True,  True,  True,\n",
       "        True,  True,  True,  True,  True,  True,  True,  True,  True,\n",
       "        True,  True,  True,  True,  True,  True,  True,  True,  True,\n",
       "        True,  True,  True,  True,  True,  True,  True,  True,  True,\n",
       "        True,  True,  True,  True,  True,  True,  True,  True,  True,\n",
       "        True,  True,  True,  True,  True,  True,  True,  True,  True,\n",
       "        True,  True,  True,  True,  True,  True,  True,  True,  True,\n",
       "        True,  True,  True,  True,  True,  True,  True,  True,  True,\n",
       "        True,  True,  True,  True,  True,  True,  True,  True,  True,\n",
       "        True,  True,  True,  True,  True,  True,  True,  True,  True,\n",
       "        True,  True,  True,  True,  True,  True,  True,  True,  True,\n",
       "        True,  True,  True,  True,  True,  True,  True,  True,  True,\n",
       "        True,  True,  True,  True,  True,  True,  True,  True,  True,\n",
       "        True,  True,  True,  True,  True,  True,  True,  True,  True,\n",
       "        True,  True,  True,  True,  True,  True,  True,  True,  True,\n",
       "        True,  True,  True,  True,  True,  True,  True,  True,  True,\n",
       "        True,  True,  True,  True,  True,  True,  True,  True,  True,\n",
       "        True,  True,  True,  True,  True,  True,  True,  True,  True,\n",
       "        True,  True,  True,  True,  True,  True,  True,  True,  True,\n",
       "        True,  True,  True,  True,  True,  True,  True,  True,  True,\n",
       "        True,  True,  True,  True,  True,  True,  True,  True,  True,\n",
       "        True,  True,  True,  True,  True,  True,  True,  True])"
      ]
     },
     "metadata": {},
     "output_type": "display_data"
    },
    {
     "data": {
      "text/plain": [
       "1.0"
      ]
     },
     "metadata": {},
     "output_type": "display_data"
    }
   ],
   "source": [
    "clf = LogisticRegression(random_state=3, max_iter=2000, verbose=1, solver='liblinear').fit(X, Y)\n",
    "display(clf.coef_)\n",
    "display(clf.predict(X) == Y)\n",
    "display(np.sum(clf.predict(X) == Y) / len(Y))"
   ]
  },
  {
   "cell_type": "code",
   "execution_count": 423,
   "id": "199d79e1",
   "metadata": {
    "ExecuteTime": {
     "end_time": "2021-10-13T16:02:56.519806Z",
     "start_time": "2021-10-13T16:02:56.513824Z"
    }
   },
   "outputs": [
    {
     "data": {
      "text/plain": [
       "[('OT_theobromine', -0.0040261378884168374),\n",
       " ('OT_betaine', -0.05489158375462725),\n",
       " ('OT_caffeine', -0.3770403575726564),\n",
       " ('OT_choline', -0.9522814806524978)]"
      ]
     },
     "execution_count": 423,
     "metadata": {},
     "output_type": "execute_result"
    }
   ],
   "source": [
    "a = [(interest_vectors.columns[i], data_i) for i, data_i in enumerate(clf.coef_[0])]\n",
    "a.sort(key=lambda x: x[1], reverse=True)\n",
    "a"
   ]
  },
  {
   "cell_type": "code",
   "execution_count": 209,
   "id": "c4d61262",
   "metadata": {
    "ExecuteTime": {
     "end_time": "2021-10-13T15:20:46.647402Z",
     "start_time": "2021-10-13T15:20:46.631779Z"
    }
   },
   "outputs": [
    {
     "data": {
      "text/plain": [
       "array([[-0.05489158, -0.37704036, -0.95228148, -0.00402614]])"
      ]
     },
     "execution_count": 209,
     "metadata": {},
     "output_type": "execute_result"
    }
   ],
   "source": [
    "clf.coef_"
   ]
  },
  {
   "cell_type": "code",
   "execution_count": null,
   "id": "fbad0cac",
   "metadata": {},
   "outputs": [],
   "source": []
  }
 ],
 "metadata": {
  "kernelspec": {
   "display_name": "Python 3 (ipykernel)",
   "language": "python",
   "name": "python3"
  },
  "language_info": {
   "codemirror_mode": {
    "name": "ipython",
    "version": 3
   },
   "file_extension": ".py",
   "mimetype": "text/x-python",
   "name": "python",
   "nbconvert_exporter": "python",
   "pygments_lexer": "ipython3",
   "version": "3.8.7"
  },
  "varInspector": {
   "cols": {
    "lenName": 16,
    "lenType": 16,
    "lenVar": 40
   },
   "kernels_config": {
    "python": {
     "delete_cmd_postfix": "",
     "delete_cmd_prefix": "del ",
     "library": "var_list.py",
     "varRefreshCmd": "print(var_dic_list())"
    },
    "r": {
     "delete_cmd_postfix": ") ",
     "delete_cmd_prefix": "rm(",
     "library": "var_list.r",
     "varRefreshCmd": "cat(var_dic_list()) "
    }
   },
   "types_to_exclude": [
    "module",
    "function",
    "builtin_function_or_method",
    "instance",
    "_Feature"
   ],
   "window_display": false
  }
 },
 "nbformat": 4,
 "nbformat_minor": 5
}
