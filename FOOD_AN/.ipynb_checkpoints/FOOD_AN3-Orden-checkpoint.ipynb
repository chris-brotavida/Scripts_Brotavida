{
 "cells": [
  {
   "cell_type": "markdown",
   "id": "1a68ed41",
   "metadata": {},
   "source": [
    "# Análisis de variables más importantes por cluster"
   ]
  },
  {
   "cell_type": "code",
   "execution_count": 1,
   "id": "6e666611",
   "metadata": {
    "ExecuteTime": {
     "end_time": "2021-10-13T16:20:25.791478Z",
     "start_time": "2021-10-13T16:20:23.697785Z"
    }
   },
   "outputs": [],
   "source": [
    "import os, pickle\n",
    "import pandas as pd\n",
    "import numpy as np\n",
    "import tensorflow as tf\n",
    "import plotly.graph_objects as go\n",
    "import plotly.express as px\n",
    "from collections import defaultdict\n",
    "from sklearn.linear_model import LogisticRegression "
   ]
  },
  {
   "cell_type": "markdown",
   "id": "7c4a9b8b",
   "metadata": {},
   "source": [
    "# Obtención de los datos"
   ]
  },
  {
   "cell_type": "code",
   "execution_count": 9,
   "id": "71c5b40e",
   "metadata": {
    "ExecuteTime": {
     "end_time": "2021-10-13T16:22:45.712641Z",
     "start_time": "2021-10-13T16:22:45.700677Z"
    }
   },
   "outputs": [
    {
     "data": {
      "text/plain": [
       "206"
      ]
     },
     "execution_count": 9,
     "metadata": {},
     "output_type": "execute_result"
    }
   ],
   "source": [
    "with open('Results/TSNE_foodSpace_OT.pkl', 'rb') as file:\n",
    "    data = pickle.load(file)\n",
    "\n",
    "T_foods, labels, food_vectors, clusters = data\n",
    "len(clusters)"
   ]
  },
  {
   "cell_type": "code",
   "execution_count": 10,
   "id": "9bb8e7ba",
   "metadata": {
    "ExecuteTime": {
     "end_time": "2021-10-13T16:22:46.116545Z",
     "start_time": "2021-10-13T16:22:46.105574Z"
    }
   },
   "outputs": [
    {
     "data": {
      "text/plain": [
       "defaultdict(int, {0: 124, 1: 20, 2: 43, 3: 8, 4: 7, -1: 4})"
      ]
     },
     "execution_count": 10,
     "metadata": {},
     "output_type": "execute_result"
    }
   ],
   "source": [
    "count_dict = defaultdict(int)\n",
    "for i in clusters:\n",
    "    count_dict[i] += 1\n",
    "count_dict"
   ]
  },
  {
   "cell_type": "code",
   "execution_count": 11,
   "id": "5b5f7aa6",
   "metadata": {
    "ExecuteTime": {
     "end_time": "2021-10-13T16:22:46.442614Z",
     "start_time": "2021-10-13T16:22:46.413691Z"
    }
   },
   "outputs": [
    {
     "data": {
      "text/html": [
       "<div>\n",
       "<style scoped>\n",
       "    .dataframe tbody tr th:only-of-type {\n",
       "        vertical-align: middle;\n",
       "    }\n",
       "\n",
       "    .dataframe tbody tr th {\n",
       "        vertical-align: top;\n",
       "    }\n",
       "\n",
       "    .dataframe thead th {\n",
       "        text-align: right;\n",
       "    }\n",
       "</style>\n",
       "<table border=\"1\" class=\"dataframe\">\n",
       "  <thead>\n",
       "    <tr style=\"text-align: right;\">\n",
       "      <th></th>\n",
       "      <th>OT_betaine</th>\n",
       "      <th>OT_caffeine</th>\n",
       "      <th>OT_choline</th>\n",
       "      <th>OT_theobromine</th>\n",
       "    </tr>\n",
       "  </thead>\n",
       "  <tbody>\n",
       "    <tr>\n",
       "      <th>0</th>\n",
       "      <td>0.0</td>\n",
       "      <td>0.0</td>\n",
       "      <td>0.0</td>\n",
       "      <td>0.0</td>\n",
       "    </tr>\n",
       "    <tr>\n",
       "      <th>1</th>\n",
       "      <td>0.0</td>\n",
       "      <td>0.0</td>\n",
       "      <td>0.0</td>\n",
       "      <td>0.0</td>\n",
       "    </tr>\n",
       "    <tr>\n",
       "      <th>2</th>\n",
       "      <td>0.0</td>\n",
       "      <td>0.0</td>\n",
       "      <td>0.0</td>\n",
       "      <td>0.0</td>\n",
       "    </tr>\n",
       "    <tr>\n",
       "      <th>3</th>\n",
       "      <td>1.9</td>\n",
       "      <td>0.0</td>\n",
       "      <td>122.7</td>\n",
       "      <td>0.0</td>\n",
       "    </tr>\n",
       "    <tr>\n",
       "      <th>4</th>\n",
       "      <td>0.0</td>\n",
       "      <td>0.0</td>\n",
       "      <td>0.0</td>\n",
       "      <td>0.0</td>\n",
       "    </tr>\n",
       "    <tr>\n",
       "      <th>...</th>\n",
       "      <td>...</td>\n",
       "      <td>...</td>\n",
       "      <td>...</td>\n",
       "      <td>...</td>\n",
       "    </tr>\n",
       "    <tr>\n",
       "      <th>201</th>\n",
       "      <td>0.0</td>\n",
       "      <td>0.0</td>\n",
       "      <td>10.6</td>\n",
       "      <td>0.0</td>\n",
       "    </tr>\n",
       "    <tr>\n",
       "      <th>202</th>\n",
       "      <td>0.0</td>\n",
       "      <td>0.0</td>\n",
       "      <td>0.0</td>\n",
       "      <td>0.0</td>\n",
       "    </tr>\n",
       "    <tr>\n",
       "      <th>203</th>\n",
       "      <td>0.0</td>\n",
       "      <td>0.0</td>\n",
       "      <td>63.3</td>\n",
       "      <td>0.0</td>\n",
       "    </tr>\n",
       "    <tr>\n",
       "      <th>204</th>\n",
       "      <td>0.0</td>\n",
       "      <td>0.0</td>\n",
       "      <td>0.0</td>\n",
       "      <td>0.0</td>\n",
       "    </tr>\n",
       "    <tr>\n",
       "      <th>205</th>\n",
       "      <td>0.0</td>\n",
       "      <td>0.0</td>\n",
       "      <td>0.0</td>\n",
       "      <td>0.0</td>\n",
       "    </tr>\n",
       "  </tbody>\n",
       "</table>\n",
       "<p>206 rows × 4 columns</p>\n",
       "</div>"
      ],
      "text/plain": [
       "     OT_betaine  OT_caffeine  OT_choline  OT_theobromine\n",
       "0           0.0          0.0         0.0             0.0\n",
       "1           0.0          0.0         0.0             0.0\n",
       "2           0.0          0.0         0.0             0.0\n",
       "3           1.9          0.0       122.7             0.0\n",
       "4           0.0          0.0         0.0             0.0\n",
       "..          ...          ...         ...             ...\n",
       "201         0.0          0.0        10.6             0.0\n",
       "202         0.0          0.0         0.0             0.0\n",
       "203         0.0          0.0        63.3             0.0\n",
       "204         0.0          0.0         0.0             0.0\n",
       "205         0.0          0.0         0.0             0.0\n",
       "\n",
       "[206 rows x 4 columns]"
      ]
     },
     "execution_count": 11,
     "metadata": {},
     "output_type": "execute_result"
    }
   ],
   "source": [
    "interest_vectors = food_vectors.iloc[:, 6:]\n",
    "interest_vectors"
   ]
  },
  {
   "cell_type": "markdown",
   "id": "f1dbd7eb",
   "metadata": {},
   "source": [
    "# Modelos"
   ]
  },
  {
   "cell_type": "code",
   "execution_count": 20,
   "id": "9e792060",
   "metadata": {
    "ExecuteTime": {
     "end_time": "2021-10-13T16:29:48.593473Z",
     "start_time": "2021-10-13T16:29:48.576519Z"
    },
    "code_folding": [
     0,
     18,
     37
    ]
   },
   "outputs": [],
   "source": [
    "def model_1(input_shape, compile_dict):\n",
    "    # Definición de la capa de entrada\n",
    "    x_in = tf.keras.Input(shape=(input_shape[1]))\n",
    "    # Definición de la capa de salida (para los pesos)\n",
    "    x_out = tf.keras.layers.Dense(units=1, activation='sigmoid',\n",
    "                                  kernel_initializer='he_normal',\n",
    "                                  kernel_regularizer=tf.keras.regularizers.L1L2(l1=0, l2=1))(x_in)\n",
    "    \n",
    "    # Definición del modelo\n",
    "    model = tf.keras.Model(inputs=x_in, outputs=x_out)\n",
    "    \n",
    "    # Compilando el modelo\n",
    "    model.compile(optimizer=compile_dict['optimizer'], loss=compile_dict['loss'],\n",
    "                  metrics=compile_dict['metrics'])\n",
    "    \n",
    "    return model\n",
    "\n",
    "\n",
    "def model_2(input_shape, compile_dict):\n",
    "    # Definición de la capa de entrada\n",
    "    x_in = tf.keras.Input(shape=(input_shape[1]))\n",
    "    # Definición de la capa de salida (para los pesos)\n",
    "    x_out = tf.keras.layers.Dense(units=compile_dict['num_clusters'], \n",
    "                                  activation='softmax',\n",
    "                                  kernel_initializer='he_normal',\n",
    "                                  kernel_regularizer=tf.keras.regularizers.L1L2(l1=0, l2=1))(x_in)\n",
    "    \n",
    "    # Definición del modelo\n",
    "    model = tf.keras.Model(inputs=x_in, outputs=x_out)\n",
    "    \n",
    "    # Compilando el modelo\n",
    "    model.compile(optimizer=compile_dict['optimizer'], loss=compile_dict['loss'],\n",
    "                  metrics=compile_dict['metrics'])\n",
    "    \n",
    "    return model\n",
    "\n",
    "\n",
    "def model_1_1(input_shape, compile_dict):\n",
    "    # Definición de la capa de entrada\n",
    "    x_in = tf.keras.Input(shape=(input_shape[1]))\n",
    "    # Definición de la capa de salida (para los pesos)\n",
    "    x_out = tf.keras.layers.Dense(units=2, activation='softmax', \n",
    "                                  kernel_initializer='he_normal',\n",
    "                                  kernel_regularizer=tf.keras.regularizers.L1L2(l1=0, l2=1))(x_in)\n",
    "    \n",
    "    # Definición del modelo\n",
    "    model = tf.keras.Model(inputs=x_in, outputs=x_out)\n",
    "    \n",
    "    # Compilando el modelo\n",
    "    model.compile(optimizer=compile_dict['optimizer'], loss=compile_dict['loss'],\n",
    "                  metrics=compile_dict['metrics'])\n",
    "    \n",
    "    return model"
   ]
  },
  {
   "cell_type": "markdown",
   "id": "ddbfff85",
   "metadata": {},
   "source": [
    "# Función conjunta"
   ]
  },
  {
   "cell_type": "code",
   "execution_count": 21,
   "id": "267ca4d4",
   "metadata": {
    "ExecuteTime": {
     "end_time": "2021-10-13T16:29:49.138833Z",
     "start_time": "2021-10-13T16:29:49.125902Z"
    }
   },
   "outputs": [],
   "source": [
    "def get_important_features(data_matrix, comp_dict, cluster_to_rev, model_num='1'):\n",
    "    # Obteniendo el modelo\n",
    "    if model_num == '1':\n",
    "        model = model_1(data_matrix.shape, comp_dict)\n",
    "    elif model_num == '2':\n",
    "        model = model_2(data_matrix.shape, comp_dict)\n",
    "    elif model_num == '1_1':\n",
    "        model = model_1_1(data_matrix.shape, comp_dict)\n",
    "    \n",
    "    # Definición del Early Stopping\n",
    "    early_stop = tf.keras.callbacks.EarlyStopping(monitor='loss', patience=20)\n",
    "    \n",
    "    # Definición del x e y\n",
    "    X = data_matrix.to_numpy()\n",
    "    if model_num in ['1', '1_1']:\n",
    "        Y = np.array(clusters == cluster_to_rev, dtype=int)\n",
    "    elif model_num == '2':\n",
    "        Y = np.array([clusters]).T\n",
    "    \n",
    "    # Ajustar el modelo\n",
    "    model.fit(X, Y, batch_size=1, epochs=1000, verbose=1, callbacks=[early_stop])\n",
    "    \n",
    "    # Obtener los pesos\n",
    "    weights = model.layers[1].weights[0].numpy()\n",
    "    \n",
    "    if model_num == '1':\n",
    "        # Eliminar la dimensión extra\n",
    "        weights = np.squeeze(weights)\n",
    "\n",
    "        # Ordenando los pesos\n",
    "        weights_data = [(interest_vectors.columns[i], data_i) for i, data_i in enumerate(weights)]\n",
    "        weights_data = sorted(weights_data, key=lambda x: x[1], reverse=True)\n",
    "    \n",
    "        return weights_data\n",
    "    \n",
    "    elif model_num in ['2']:\n",
    "        return weights\n",
    "    \n",
    "    elif model_num in ['1_1']:\n",
    "        return weights"
   ]
  },
  {
   "cell_type": "markdown",
   "id": "ac781a4c",
   "metadata": {},
   "source": [
    "# Diseño del sistema"
   ]
  },
  {
   "cell_type": "markdown",
   "id": "06c1af20",
   "metadata": {},
   "source": [
    "### Idea 1"
   ]
  },
  {
   "cell_type": "code",
   "execution_count": 14,
   "id": "6def2753",
   "metadata": {
    "ExecuteTime": {
     "end_time": "2021-10-13T16:22:55.733806Z",
     "start_time": "2021-10-13T16:22:48.722460Z"
    },
    "scrolled": true
   },
   "outputs": [
    {
     "name": "stdout",
     "output_type": "stream",
     "text": [
      "Revisando cluster #0\n",
      "Epoch 1/1000\n",
      "  1/206 [..............................] - ETA: 0s - loss: 2.1872 - accuracy: 1.0000WARNING:tensorflow:Callbacks method `on_train_batch_end` is slow compared to the batch time (batch time: 0.0000s vs `on_train_batch_end` time: 0.0087s). Check your callbacks.\n",
      "206/206 [==============================] - 0s 783us/step - loss: 3.6986 - accuracy: 0.9029\n",
      "Epoch 2/1000\n",
      "206/206 [==============================] - 0s 717us/step - loss: 3.2525 - accuracy: 0.9320\n",
      "Epoch 3/1000\n",
      "206/206 [==============================] - 0s 723us/step - loss: 2.8654 - accuracy: 0.9369\n",
      "Epoch 4/1000\n",
      "206/206 [==============================] - 0s 728us/step - loss: 2.5084 - accuracy: 0.9369\n",
      "Epoch 5/1000\n",
      "206/206 [==============================] - 0s 757us/step - loss: 2.2393 - accuracy: 0.9466\n",
      "Epoch 6/1000\n",
      "206/206 [==============================] - 0s 713us/step - loss: 2.0109 - accuracy: 0.9515\n",
      "Epoch 7/1000\n",
      "206/206 [==============================] - 0s 714us/step - loss: 1.8048 - accuracy: 0.9563\n",
      "Epoch 8/1000\n",
      "206/206 [==============================] - 0s 736us/step - loss: 1.6184 - accuracy: 0.9612\n",
      "Epoch 9/1000\n",
      "206/206 [==============================] - 0s 732us/step - loss: 1.4495 - accuracy: 0.9612\n",
      "Epoch 10/1000\n",
      "206/206 [==============================] - 0s 754us/step - loss: 1.3005 - accuracy: 0.9660\n",
      "Epoch 11/1000\n",
      "206/206 [==============================] - 0s 896us/step - loss: 1.1658 - accuracy: 0.9660\n",
      "Epoch 12/1000\n",
      "206/206 [==============================] - 0s 857us/step - loss: 1.0437 - accuracy: 0.9660\n",
      "Epoch 13/1000\n",
      "206/206 [==============================] - 0s 833us/step - loss: 0.9315 - accuracy: 0.9660\n",
      "Epoch 14/1000\n",
      "206/206 [==============================] - 0s 692us/step - loss: 0.8277 - accuracy: 0.9660\n",
      "Epoch 15/1000\n",
      "206/206 [==============================] - 0s 703us/step - loss: 0.7329 - accuracy: 0.9709\n",
      "Epoch 16/1000\n",
      "206/206 [==============================] - 0s 791us/step - loss: 0.6474 - accuracy: 0.9757\n",
      "Epoch 17/1000\n",
      "206/206 [==============================] - 0s 767us/step - loss: 0.5706 - accuracy: 0.9757\n",
      "Epoch 18/1000\n",
      "206/206 [==============================] - 0s 750us/step - loss: 0.5006 - accuracy: 0.9757\n",
      "Epoch 19/1000\n",
      "206/206 [==============================] - 0s 731us/step - loss: 0.4383 - accuracy: 0.9757\n",
      "Epoch 20/1000\n",
      "206/206 [==============================] - 0s 729us/step - loss: 0.3847 - accuracy: 0.9757\n",
      "Epoch 21/1000\n",
      "206/206 [==============================] - 0s 796us/step - loss: 0.3404 - accuracy: 0.9806\n",
      "Epoch 22/1000\n",
      "206/206 [==============================] - 0s 852us/step - loss: 0.3039 - accuracy: 0.9806\n",
      "Epoch 23/1000\n",
      "206/206 [==============================] - 0s 862us/step - loss: 0.2740 - accuracy: 0.9757\n",
      "Epoch 24/1000\n",
      "206/206 [==============================] - 0s 823us/step - loss: 0.2506 - accuracy: 0.9806\n",
      "Epoch 25/1000\n",
      "206/206 [==============================] - 0s 736us/step - loss: 0.2326 - accuracy: 0.9806\n",
      "Epoch 26/1000\n",
      "206/206 [==============================] - 0s 736us/step - loss: 0.2191 - accuracy: 0.9806\n",
      "Epoch 27/1000\n",
      "206/206 [==============================] - 0s 739us/step - loss: 0.2091 - accuracy: 0.9806\n",
      "Epoch 28/1000\n",
      "206/206 [==============================] - 0s 712us/step - loss: 0.2022 - accuracy: 0.9709\n",
      "Epoch 29/1000\n",
      "206/206 [==============================] - 0s 694us/step - loss: 0.1970 - accuracy: 0.9563\n",
      "Epoch 30/1000\n",
      "206/206 [==============================] - 0s 733us/step - loss: 0.1935 - accuracy: 0.9563\n",
      "Epoch 31/1000\n",
      "206/206 [==============================] - 0s 717us/step - loss: 0.1909 - accuracy: 0.9563\n",
      "Epoch 32/1000\n",
      "206/206 [==============================] - 0s 710us/step - loss: 0.1893 - accuracy: 0.9563\n",
      "Epoch 33/1000\n",
      "206/206 [==============================] - 0s 699us/step - loss: 0.1880 - accuracy: 0.9563\n",
      "Epoch 34/1000\n",
      "206/206 [==============================] - 0s 694us/step - loss: 0.1871 - accuracy: 0.9563\n",
      "Epoch 35/1000\n",
      "206/206 [==============================] - 0s 719us/step - loss: 0.1865 - accuracy: 0.9563\n",
      "Epoch 36/1000\n",
      "206/206 [==============================] - 0s 760us/step - loss: 0.1860 - accuracy: 0.9563\n",
      "Epoch 37/1000\n",
      "206/206 [==============================] - 0s 696us/step - loss: 0.1857 - accuracy: 0.9563\n",
      "Epoch 38/1000\n",
      "206/206 [==============================] - 0s 757us/step - loss: 0.1851 - accuracy: 0.9563\n",
      "Epoch 39/1000\n",
      "206/206 [==============================] - 0s 775us/step - loss: 0.1852 - accuracy: 0.9515\n",
      "Epoch 40/1000\n",
      "206/206 [==============================] - 0s 779us/step - loss: 0.1848 - accuracy: 0.9563\n",
      "Epoch 41/1000\n",
      "206/206 [==============================] - 0s 765us/step - loss: 0.1846 - accuracy: 0.9466\n"
     ]
    },
    {
     "data": {
      "text/plain": [
       "[('OT_theobromine', -0.009332181),\n",
       " ('OT_betaine', -0.020143298),\n",
       " ('OT_caffeine', -0.08596392),\n",
       " ('OT_choline', -0.21729048)]"
      ]
     },
     "metadata": {},
     "output_type": "display_data"
    }
   ],
   "source": [
    "weights_list = list()\n",
    "\n",
    "# Definición de parámetros\n",
    "comp_dict = {'optimizer': 'adam',\n",
    "             'loss': 'binary_crossentropy',\n",
    "             'metrics': ['accuracy'],\n",
    "             'model_num': '1'}\n",
    "\n",
    "for cluster in range(len(np.unique(clusters))):\n",
    "    print(f'Revisando cluster #{cluster}')\n",
    "    weights_data = get_important_features(interest_vectors, comp_dict, cluster_to_rev=cluster,\n",
    "                                          model_num=comp_dict['model_num'])\n",
    "    weights_list.append(weights_data)\n",
    "    display(weights_data)\n",
    "    break"
   ]
  },
  {
   "cell_type": "markdown",
   "id": "772fb2e4",
   "metadata": {},
   "source": [
    "### Idea 2"
   ]
  },
  {
   "cell_type": "code",
   "execution_count": 22,
   "id": "f21ffcfe",
   "metadata": {
    "ExecuteTime": {
     "end_time": "2021-10-13T16:29:56.672008Z",
     "start_time": "2021-10-13T16:29:52.892874Z"
    },
    "scrolled": true
   },
   "outputs": [
    {
     "name": "stdout",
     "output_type": "stream",
     "text": [
      "Revisando cluster #0\n",
      "Epoch 1/1000\n",
      "206/206 [==============================] - 0s 723us/step - loss: nan - accuracy: 0.5971\n",
      "Epoch 2/1000\n",
      "206/206 [==============================] - 0s 682us/step - loss: nan - accuracy: 0.6019\n",
      "Epoch 3/1000\n",
      "206/206 [==============================] - 0s 708us/step - loss: nan - accuracy: 0.6019\n",
      "Epoch 4/1000\n",
      "206/206 [==============================] - 0s 707us/step - loss: nan - accuracy: 0.6019\n",
      "Epoch 5/1000\n",
      "206/206 [==============================] - 0s 703us/step - loss: nan - accuracy: 0.6019\n",
      "Epoch 6/1000\n",
      "206/206 [==============================] - 0s 707us/step - loss: nan - accuracy: 0.6019\n",
      "Epoch 7/1000\n",
      "206/206 [==============================] - 0s 707us/step - loss: nan - accuracy: 0.6019\n",
      "Epoch 8/1000\n",
      "206/206 [==============================] - 0s 702us/step - loss: nan - accuracy: 0.6019\n",
      "Epoch 9/1000\n",
      "206/206 [==============================] - 0s 867us/step - loss: nan - accuracy: 0.6019\n",
      "Epoch 10/1000\n",
      "206/206 [==============================] - 0s 721us/step - loss: nan - accuracy: 0.6019\n",
      "Epoch 11/1000\n",
      "206/206 [==============================] - 0s 705us/step - loss: nan - accuracy: 0.6019\n",
      "Epoch 12/1000\n",
      "206/206 [==============================] - 0s 862us/step - loss: nan - accuracy: 0.6019\n",
      "Epoch 13/1000\n",
      "206/206 [==============================] - 0s 707us/step - loss: nan - accuracy: 0.6019\n",
      "Epoch 14/1000\n",
      "206/206 [==============================] - 0s 673us/step - loss: nan - accuracy: 0.6019\n",
      "Epoch 15/1000\n",
      "206/206 [==============================] - 0s 700us/step - loss: nan - accuracy: 0.6019\n",
      "Epoch 16/1000\n",
      "206/206 [==============================] - 0s 676us/step - loss: nan - accuracy: 0.6019\n",
      "Epoch 17/1000\n",
      "206/206 [==============================] - 0s 685us/step - loss: nan - accuracy: 0.6019\n",
      "Epoch 18/1000\n",
      "206/206 [==============================] - 0s 700us/step - loss: nan - accuracy: 0.6019\n",
      "Epoch 19/1000\n",
      "206/206 [==============================] - 0s 670us/step - loss: nan - accuracy: 0.6019\n",
      "Epoch 20/1000\n",
      "206/206 [==============================] - 0s 704us/step - loss: nan - accuracy: 0.6019\n",
      "Epoch 21/1000\n",
      "206/206 [==============================] - 0s 694us/step - loss: nan - accuracy: 0.6019\n",
      "Epoch 22/1000\n",
      "206/206 [==============================] - 0s 671us/step - loss: nan - accuracy: 0.6019\n"
     ]
    },
    {
     "data": {
      "text/plain": [
       "array([[nan, nan, nan, nan, nan, nan],\n",
       "       [nan, nan, nan, nan, nan, nan],\n",
       "       [nan, nan, nan, nan, nan, nan],\n",
       "       [nan, nan, nan, nan, nan, nan]], dtype=float32)"
      ]
     },
     "metadata": {},
     "output_type": "display_data"
    }
   ],
   "source": [
    "weights_list = list()\n",
    "\n",
    "# Definición de parámetros\n",
    "comp_dict = {'optimizer': 'adam',\n",
    "             'loss': 'sparse_categorical_crossentropy',\n",
    "             'metrics': ['accuracy'],\n",
    "             'num_clusters': len(np.unique(clusters)),\n",
    "             'model_num': '2'}\n",
    "\n",
    "\n",
    "for cluster in range(len(np.unique(clusters))):\n",
    "    print(f'Revisando cluster #{cluster}')\n",
    "    weights_data = get_important_features(interest_vectors, comp_dict, cluster_to_rev=cluster,\n",
    "                                          model_num=comp_dict['model_num'])\n",
    "    weights_list.append(weights_data)\n",
    "    display(weights_data)\n",
    "    break"
   ]
  },
  {
   "cell_type": "markdown",
   "id": "8089c173",
   "metadata": {},
   "source": [
    "### Idea 3"
   ]
  },
  {
   "cell_type": "code",
   "execution_count": 386,
   "id": "e91f3123",
   "metadata": {
    "ExecuteTime": {
     "end_time": "2021-10-13T15:52:27.264497Z",
     "start_time": "2021-10-13T15:52:22.996414Z"
    },
    "scrolled": true
   },
   "outputs": [
    {
     "name": "stdout",
     "output_type": "stream",
     "text": [
      "Revisando cluster #0\n",
      "Epoch 1/1000\n",
      "206/206 [==============================] - 0s 778us/step - loss: 7.3346 - accuracy: 0.7767\n",
      "Epoch 2/1000\n",
      "206/206 [==============================] - 0s 726us/step - loss: 4.6271 - accuracy: 0.7573\n",
      "Epoch 3/1000\n",
      "206/206 [==============================] - 0s 704us/step - loss: 2.6969 - accuracy: 0.7136\n",
      "Epoch 4/1000\n",
      "206/206 [==============================] - 0s 723us/step - loss: 1.5769 - accuracy: 0.8495\n",
      "Epoch 5/1000\n",
      "206/206 [==============================] - 0s 693us/step - loss: 1.2929 - accuracy: 0.8738\n",
      "Epoch 6/1000\n",
      "206/206 [==============================] - 0s 701us/step - loss: 1.1853 - accuracy: 0.8738\n",
      "Epoch 7/1000\n",
      "206/206 [==============================] - 0s 704us/step - loss: 1.1249 - accuracy: 0.8738\n",
      "Epoch 8/1000\n",
      "206/206 [==============================] - 0s 721us/step - loss: 1.0870 - accuracy: 0.8738\n",
      "Epoch 9/1000\n",
      "206/206 [==============================] - 0s 721us/step - loss: 1.0578 - accuracy: 0.8738\n",
      "Epoch 10/1000\n",
      "206/206 [==============================] - 0s 741us/step - loss: 1.0319 - accuracy: 0.8738\n",
      "Epoch 11/1000\n",
      "206/206 [==============================] - 0s 708us/step - loss: 1.0070 - accuracy: 0.8738\n",
      "Epoch 12/1000\n",
      "206/206 [==============================] - 0s 828us/step - loss: 0.9808 - accuracy: 0.8738\n",
      "Epoch 13/1000\n",
      "206/206 [==============================] - 0s 755us/step - loss: 0.9537 - accuracy: 0.8738\n",
      "Epoch 14/1000\n",
      "206/206 [==============================] - 0s 695us/step - loss: 0.9256 - accuracy: 0.8738\n",
      "Epoch 15/1000\n",
      "206/206 [==============================] - 0s 697us/step - loss: 0.8957 - accuracy: 0.8738\n",
      "Epoch 16/1000\n",
      "206/206 [==============================] - 0s 707us/step - loss: 0.8656 - accuracy: 0.8738\n",
      "Epoch 17/1000\n",
      "206/206 [==============================] - 0s 732us/step - loss: 0.8343 - accuracy: 0.8738\n",
      "Epoch 18/1000\n",
      "206/206 [==============================] - 0s 676us/step - loss: 0.8020 - accuracy: 0.8738\n",
      "Epoch 19/1000\n",
      "206/206 [==============================] - 0s 686us/step - loss: 0.7695 - accuracy: 0.8738\n",
      "Epoch 20/1000\n",
      "206/206 [==============================] - 0s 675us/step - loss: 0.7369 - accuracy: 0.8738\n",
      "Epoch 21/1000\n",
      "206/206 [==============================] - 0s 770us/step - loss: 0.7032 - accuracy: 0.8738\n",
      "Epoch 22/1000\n",
      "206/206 [==============================] - 0s 736us/step - loss: 0.6710 - accuracy: 0.8738\n",
      "Epoch 23/1000\n",
      "206/206 [==============================] - 0s 716us/step - loss: 0.6406 - accuracy: 0.8738\n",
      "Epoch 24/1000\n",
      "206/206 [==============================] - 0s 765us/step - loss: 0.6097 - accuracy: 0.8738\n",
      "Epoch 25/1000\n",
      "206/206 [==============================] - 0s 688us/step - loss: 0.5855 - accuracy: 0.8738\n"
     ]
    },
    {
     "data": {
      "text/plain": [
       "array([[ 3.9777798e-03, -3.9714319e-03],\n",
       "       [ 7.2078684e-08, -1.4199226e-08],\n",
       "       [-8.8992761e-03,  8.9303618e-03],\n",
       "       [ 1.8144624e-02, -1.8141564e-02],\n",
       "       [-6.6987635e-03,  6.7009642e-03],\n",
       "       [ 2.1231249e-03, -1.9584233e-03],\n",
       "       [ 3.3590609e-01,  2.8413904e-01],\n",
       "       [ 9.2697311e-03, -9.3598757e-03],\n",
       "       [ 1.2146984e-03, -2.9937651e-03]], dtype=float32)"
      ]
     },
     "metadata": {},
     "output_type": "display_data"
    }
   ],
   "source": [
    "weights_list = list()\n",
    "\n",
    "# Definición de parámetros\n",
    "comp_dict = {'optimizer': 'adam',\n",
    "             'loss': 'sparse_categorical_crossentropy',\n",
    "             'metrics': ['accuracy'],\n",
    "             'num_clusters': len(np.unique(clusters)),\n",
    "             'model_num': '1_1'}\n",
    "\n",
    "\n",
    "for cluster in range(len(np.unique(clusters))):\n",
    "    print(f'Revisando cluster #{cluster}')\n",
    "    weights_data = get_important_features(interest_vectors, comp_dict, cluster_to_rev=cluster,\n",
    "                                          model_num=comp_dict['model_num'])\n",
    "    weights_list.append(weights_data)\n",
    "    display(weights_data)\n",
    "    break"
   ]
  },
  {
   "cell_type": "code",
   "execution_count": 387,
   "id": "5ec8a9a7",
   "metadata": {
    "ExecuteTime": {
     "end_time": "2021-10-13T15:52:27.406398Z",
     "start_time": "2021-10-13T15:52:27.391398Z"
    }
   },
   "outputs": [
    {
     "data": {
      "text/plain": [
       "[('V_vit c', 0.3359061),\n",
       " ('V_vit b5', 0.018144624),\n",
       " ('V_vit h', 0.009269731),\n",
       " ('V_vit b1', 0.0039777798),\n",
       " ('V_vit b9', 0.002123125),\n",
       " ('V_vit k', 0.0012146984),\n",
       " ('V_vit b12', 7.2078684e-08),\n",
       " ('V_vit b6', -0.0066987635),\n",
       " ('V_vit b2', -0.008899276)]"
      ]
     },
     "execution_count": 387,
     "metadata": {},
     "output_type": "execute_result"
    }
   ],
   "source": [
    "a = [(interest_vectors.columns[i], data_i[0]) for i, data_i in enumerate(weights_data)]\n",
    "a.sort(key=lambda x: x[1], reverse=True)\n",
    "a"
   ]
  },
  {
   "cell_type": "code",
   "execution_count": 352,
   "id": "1d656e41",
   "metadata": {
    "ExecuteTime": {
     "end_time": "2021-10-13T15:47:09.185882Z",
     "start_time": "2021-10-13T15:47:09.168928Z"
    }
   },
   "outputs": [
    {
     "data": {
      "text/plain": [
       "Index(['V_vit b1', 'V_vit b12', 'V_vit b2', 'V_vit b5', 'V_vit b6', 'V_vit b9',\n",
       "       'V_vit c', 'V_vit h', 'V_vit k'],\n",
       "      dtype='object')"
      ]
     },
     "execution_count": 352,
     "metadata": {},
     "output_type": "execute_result"
    }
   ],
   "source": [
    "interest_vectors.columns"
   ]
  },
  {
   "cell_type": "markdown",
   "id": "700a02ae",
   "metadata": {},
   "source": [
    "# Con sklearn"
   ]
  },
  {
   "cell_type": "code",
   "execution_count": 205,
   "id": "b100a3e4",
   "metadata": {
    "ExecuteTime": {
     "end_time": "2021-10-13T15:20:42.857068Z",
     "start_time": "2021-10-13T15:20:42.844135Z"
    }
   },
   "outputs": [],
   "source": [
    "from sklearn.linear_model import LogisticRegression "
   ]
  },
  {
   "cell_type": "code",
   "execution_count": 16,
   "id": "16d6d051",
   "metadata": {
    "ExecuteTime": {
     "end_time": "2021-10-13T16:28:51.735948Z",
     "start_time": "2021-10-13T16:28:51.717031Z"
    }
   },
   "outputs": [],
   "source": [
    "# Definición del x e y\n",
    "X = interest_vectors.to_numpy()\n",
    "Y = np.array(clusters == 0, dtype=int)"
   ]
  },
  {
   "cell_type": "code",
   "execution_count": 17,
   "id": "f8e9d86b",
   "metadata": {
    "ExecuteTime": {
     "end_time": "2021-10-13T16:28:52.260093Z",
     "start_time": "2021-10-13T16:28:52.241146Z"
    },
    "scrolled": false
   },
   "outputs": [
    {
     "name": "stdout",
     "output_type": "stream",
     "text": [
      "[LibLinear]"
     ]
    },
    {
     "data": {
      "text/plain": [
       "array([[-0.05489158, -0.37704036, -0.95228148, -0.00402614]])"
      ]
     },
     "metadata": {},
     "output_type": "display_data"
    },
    {
     "data": {
      "text/plain": [
       "array([ True,  True,  True,  True,  True,  True,  True,  True,  True,\n",
       "        True,  True,  True,  True,  True,  True,  True,  True,  True,\n",
       "        True,  True,  True,  True,  True,  True,  True,  True,  True,\n",
       "        True,  True,  True,  True,  True,  True,  True,  True,  True,\n",
       "        True,  True,  True,  True,  True,  True,  True,  True,  True,\n",
       "        True,  True,  True,  True,  True,  True,  True,  True,  True,\n",
       "        True,  True,  True,  True,  True,  True,  True,  True,  True,\n",
       "        True,  True,  True,  True,  True,  True,  True,  True,  True,\n",
       "        True,  True,  True,  True,  True,  True,  True,  True,  True,\n",
       "        True,  True,  True,  True,  True,  True,  True,  True,  True,\n",
       "        True,  True,  True,  True,  True,  True,  True,  True,  True,\n",
       "        True,  True,  True,  True,  True,  True,  True,  True,  True,\n",
       "        True,  True,  True,  True,  True,  True,  True,  True,  True,\n",
       "        True,  True,  True,  True,  True,  True,  True,  True,  True,\n",
       "        True,  True,  True,  True,  True,  True,  True,  True,  True,\n",
       "        True,  True,  True,  True,  True,  True,  True,  True,  True,\n",
       "        True,  True,  True,  True,  True,  True,  True,  True,  True,\n",
       "        True,  True,  True,  True,  True,  True,  True,  True,  True,\n",
       "        True,  True,  True,  True,  True,  True,  True,  True,  True,\n",
       "        True,  True,  True,  True,  True,  True,  True,  True,  True,\n",
       "        True,  True,  True,  True,  True,  True,  True,  True,  True,\n",
       "        True,  True,  True,  True,  True,  True,  True,  True,  True,\n",
       "        True,  True,  True,  True,  True,  True,  True,  True])"
      ]
     },
     "metadata": {},
     "output_type": "display_data"
    },
    {
     "data": {
      "text/plain": [
       "1.0"
      ]
     },
     "metadata": {},
     "output_type": "display_data"
    }
   ],
   "source": [
    "clf = LogisticRegression(random_state=3, max_iter=2000, verbose=1, solver='liblinear').fit(X, Y)\n",
    "display(clf.coef_)\n",
    "display(clf.predict(X) == Y)\n",
    "display(np.sum(clf.predict(X) == Y) / len(Y))"
   ]
  },
  {
   "cell_type": "code",
   "execution_count": 18,
   "id": "199d79e1",
   "metadata": {
    "ExecuteTime": {
     "end_time": "2021-10-13T16:28:53.767885Z",
     "start_time": "2021-10-13T16:28:53.755917Z"
    }
   },
   "outputs": [
    {
     "data": {
      "text/plain": [
       "[('OT_theobromine', -0.0040261378884168374),\n",
       " ('OT_betaine', -0.05489158375462725),\n",
       " ('OT_caffeine', -0.3770403575726564),\n",
       " ('OT_choline', -0.9522814806524978)]"
      ]
     },
     "execution_count": 18,
     "metadata": {},
     "output_type": "execute_result"
    }
   ],
   "source": [
    "a = [(interest_vectors.columns[i], data_i) for i, data_i in enumerate(clf.coef_[0])]\n",
    "a.sort(key=lambda x: x[1], reverse=True)\n",
    "a"
   ]
  },
  {
   "cell_type": "code",
   "execution_count": 19,
   "id": "c4d61262",
   "metadata": {
    "ExecuteTime": {
     "end_time": "2021-10-13T16:28:54.605507Z",
     "start_time": "2021-10-13T16:28:54.592542Z"
    }
   },
   "outputs": [
    {
     "data": {
      "text/plain": [
       "array([[-0.05489158, -0.37704036, -0.95228148, -0.00402614]])"
      ]
     },
     "execution_count": 19,
     "metadata": {},
     "output_type": "execute_result"
    }
   ],
   "source": [
    "clf.coef_"
   ]
  },
  {
   "cell_type": "code",
   "execution_count": null,
   "id": "fbad0cac",
   "metadata": {},
   "outputs": [],
   "source": []
  }
 ],
 "metadata": {
  "kernelspec": {
   "display_name": "Python 3 (ipykernel)",
   "language": "python",
   "name": "python3"
  },
  "language_info": {
   "codemirror_mode": {
    "name": "ipython",
    "version": 3
   },
   "file_extension": ".py",
   "mimetype": "text/x-python",
   "name": "python",
   "nbconvert_exporter": "python",
   "pygments_lexer": "ipython3",
   "version": "3.8.7"
  },
  "varInspector": {
   "cols": {
    "lenName": 16,
    "lenType": 16,
    "lenVar": 40
   },
   "kernels_config": {
    "python": {
     "delete_cmd_postfix": "",
     "delete_cmd_prefix": "del ",
     "library": "var_list.py",
     "varRefreshCmd": "print(var_dic_list())"
    },
    "r": {
     "delete_cmd_postfix": ") ",
     "delete_cmd_prefix": "rm(",
     "library": "var_list.r",
     "varRefreshCmd": "cat(var_dic_list()) "
    }
   },
   "types_to_exclude": [
    "module",
    "function",
    "builtin_function_or_method",
    "instance",
    "_Feature"
   ],
   "window_display": false
  }
 },
 "nbformat": 4,
 "nbformat_minor": 5
}
