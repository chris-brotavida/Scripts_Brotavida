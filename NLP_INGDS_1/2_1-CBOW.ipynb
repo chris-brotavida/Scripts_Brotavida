{
 "cells": [
  {
   "cell_type": "code",
   "execution_count": 1,
   "id": "03bc68cf",
   "metadata": {
    "ExecuteTime": {
     "end_time": "2021-10-22T18:51:52.221942Z",
     "start_time": "2021-10-22T18:51:48.995130Z"
    }
   },
   "outputs": [],
   "source": [
    "import mysql.connector\n",
    "import os, getpass, re, requests\n",
    "import gensim\n",
    "import pandas as pd\n",
    "import numpy as np\n",
    "import cvxpy as cp\n",
    "import tensorflow as tf\n",
    "import matplotlib.pyplot as plt\n",
    "from mysql.connector import Error\n",
    "from itertools import combinations\n",
    "from ast import literal_eval\n",
    "from collections import defaultdict\n",
    "from scipy.spatial import distance\n",
    "from sklearn.manifold import TSNE\n",
    "from bs4 import BeautifulSoup\n",
    "import plotly.graph_objects as go\n",
    "from nltk.corpus import stopwords\n",
    "K = 10"
   ]
  },
  {
   "cell_type": "code",
   "execution_count": 2,
   "id": "25fb5857",
   "metadata": {
    "ExecuteTime": {
     "end_time": "2021-10-22T18:51:56.363613Z",
     "start_time": "2021-10-22T18:51:53.373093Z"
    }
   },
   "outputs": [
    {
     "name": "stdout",
     "output_type": "stream",
     "text": [
      "Introduzca la contraseña: ········\n",
      "Connected to MySQL Server version  8.0.26\n"
     ]
    }
   ],
   "source": [
    "# Definición de parámetros de conexión\n",
    "connection_params = {\n",
    "    'host': 'localhost',\n",
    "    'user': 'cmescobar',\n",
    "    'database': 'foodb',\n",
    "    'password': getpass.getpass(prompt='Introduzca la contraseña: ')\n",
    "}\n",
    "\n",
    "try:\n",
    "    connection = mysql.connector.connect(**connection_params)\n",
    "\n",
    "    if connection.is_connected():\n",
    "        db_Info = connection.get_server_info()\n",
    "        print(\"Connected to MySQL Server version \", db_Info)\n",
    "        cursor = connection.cursor()\n",
    "\n",
    "except Error as e:\n",
    "    print(\"Error while connecting to MySQL\", e)"
   ]
  },
  {
   "cell_type": "markdown",
   "id": "accf56b1",
   "metadata": {},
   "source": [
    "# Query sobre la tabla de health_effects"
   ]
  },
  {
   "cell_type": "code",
   "execution_count": 3,
   "id": "74891f6b",
   "metadata": {
    "ExecuteTime": {
     "end_time": "2021-10-22T18:51:57.200704Z",
     "start_time": "2021-10-22T18:51:57.161756Z"
    }
   },
   "outputs": [
    {
     "data": {
      "text/html": [
       "<div>\n",
       "<style scoped>\n",
       "    .dataframe tbody tr th:only-of-type {\n",
       "        vertical-align: middle;\n",
       "    }\n",
       "\n",
       "    .dataframe tbody tr th {\n",
       "        vertical-align: top;\n",
       "    }\n",
       "\n",
       "    .dataframe thead th {\n",
       "        text-align: right;\n",
       "    }\n",
       "</style>\n",
       "<table border=\"1\" class=\"dataframe\">\n",
       "  <thead>\n",
       "    <tr style=\"text-align: right;\">\n",
       "      <th></th>\n",
       "      <th>name</th>\n",
       "      <th>chebi_name</th>\n",
       "      <th>definitions</th>\n",
       "    </tr>\n",
       "  </thead>\n",
       "  <tbody>\n",
       "    <tr>\n",
       "      <th>0</th>\n",
       "      <td>(+)-inotropic</td>\n",
       "      <td>None</td>\n",
       "      <td>An agent that alters the force or energy of mu...</td>\n",
       "    </tr>\n",
       "    <tr>\n",
       "      <th>1</th>\n",
       "      <td>(-)-chronotropic</td>\n",
       "      <td>None</td>\n",
       "      <td>An agent that may change the heart rate by aff...</td>\n",
       "    </tr>\n",
       "    <tr>\n",
       "      <th>2</th>\n",
       "      <td>(-)-inotropic</td>\n",
       "      <td>None</td>\n",
       "      <td>An agent that alters the force or energy of mu...</td>\n",
       "    </tr>\n",
       "    <tr>\n",
       "      <th>3</th>\n",
       "      <td>11beta-hydroxysteroid-dehydrogenase inhibitor</td>\n",
       "      <td>enzyme inhibitor</td>\n",
       "      <td>A compound or agent that combines with an enzy...</td>\n",
       "    </tr>\n",
       "    <tr>\n",
       "      <th>4</th>\n",
       "      <td>12-lipoxygenase inhibitor</td>\n",
       "      <td>enzyme inhibitor</td>\n",
       "      <td>A compound or agent that combines with an enzy...</td>\n",
       "    </tr>\n",
       "    <tr>\n",
       "      <th>...</th>\n",
       "      <td>...</td>\n",
       "      <td>...</td>\n",
       "      <td>...</td>\n",
       "    </tr>\n",
       "    <tr>\n",
       "      <th>1312</th>\n",
       "      <td>xanthine oxidase inhibitor</td>\n",
       "      <td>xanthine oxidase inhibitor</td>\n",
       "      <td>An EC 1.17.3.* (oxidoreductase acting on CH or...</td>\n",
       "    </tr>\n",
       "    <tr>\n",
       "      <th>1313</th>\n",
       "      <td>inhibitor</td>\n",
       "      <td>inhibitor</td>\n",
       "      <td>A substance that diminishes the rate of a chem...</td>\n",
       "    </tr>\n",
       "    <tr>\n",
       "      <th>1314</th>\n",
       "      <td>prostaglandin antagonist</td>\n",
       "      <td>prostaglandin antagonist</td>\n",
       "      <td>A compound that inhibits the action of prostag...</td>\n",
       "    </tr>\n",
       "    <tr>\n",
       "      <th>1315</th>\n",
       "      <td>platelet aggregation inhibitor</td>\n",
       "      <td>platelet aggregation inhibitor</td>\n",
       "      <td>A drug or agent which antagonizes or impairs a...</td>\n",
       "    </tr>\n",
       "    <tr>\n",
       "      <th>1316</th>\n",
       "      <td>EC 3.2.1.18 (exo-alpha-sialidase) inhibitor</td>\n",
       "      <td>EC 3.2.1.18 (exo-alpha-sialidase) inhibitor</td>\n",
       "      <td>An antiviral drug targeted at influenza viruse...</td>\n",
       "    </tr>\n",
       "  </tbody>\n",
       "</table>\n",
       "<p>1317 rows × 3 columns</p>\n",
       "</div>"
      ],
      "text/plain": [
       "                                               name  \\\n",
       "0                                     (+)-inotropic   \n",
       "1                                  (-)-chronotropic   \n",
       "2                                     (-)-inotropic   \n",
       "3     11beta-hydroxysteroid-dehydrogenase inhibitor   \n",
       "4                         12-lipoxygenase inhibitor   \n",
       "...                                             ...   \n",
       "1312                     xanthine oxidase inhibitor   \n",
       "1313                                      inhibitor   \n",
       "1314                       prostaglandin antagonist   \n",
       "1315                 platelet aggregation inhibitor   \n",
       "1316    EC 3.2.1.18 (exo-alpha-sialidase) inhibitor   \n",
       "\n",
       "                                       chebi_name  \\\n",
       "0                                            None   \n",
       "1                                            None   \n",
       "2                                            None   \n",
       "3                                enzyme inhibitor   \n",
       "4                                enzyme inhibitor   \n",
       "...                                           ...   \n",
       "1312                   xanthine oxidase inhibitor   \n",
       "1313                                    inhibitor   \n",
       "1314                     prostaglandin antagonist   \n",
       "1315               platelet aggregation inhibitor   \n",
       "1316  EC 3.2.1.18 (exo-alpha-sialidase) inhibitor   \n",
       "\n",
       "                                            definitions  \n",
       "0     An agent that alters the force or energy of mu...  \n",
       "1     An agent that may change the heart rate by aff...  \n",
       "2     An agent that alters the force or energy of mu...  \n",
       "3     A compound or agent that combines with an enzy...  \n",
       "4     A compound or agent that combines with an enzy...  \n",
       "...                                                 ...  \n",
       "1312  An EC 1.17.3.* (oxidoreductase acting on CH or...  \n",
       "1313  A substance that diminishes the rate of a chem...  \n",
       "1314  A compound that inhibits the action of prostag...  \n",
       "1315  A drug or agent which antagonizes or impairs a...  \n",
       "1316  An antiviral drug targeted at influenza viruse...  \n",
       "\n",
       "[1317 rows x 3 columns]"
      ]
     },
     "execution_count": 3,
     "metadata": {},
     "output_type": "execute_result"
    }
   ],
   "source": [
    "sql_query = '''\n",
    "    SELECT name, chebi_name, IF(description IS NULL, chebi_definition, description) as definitions \n",
    "    FROM foodb.health_effects he\n",
    "    WHERE description IS NOT NULL OR chebi_definition IS NOT NULL\n",
    "'''\n",
    "\n",
    "# Obtener el dataframe\n",
    "df = pd.read_sql(sql_query, con=connection)\n",
    "df"
   ]
  },
  {
   "cell_type": "markdown",
   "id": "e7f17851",
   "metadata": {},
   "source": [
    "# Obtener conceptos a agregar al diccionario"
   ]
  },
  {
   "cell_type": "code",
   "execution_count": 4,
   "id": "a72949cd",
   "metadata": {
    "ExecuteTime": {
     "end_time": "2021-10-22T18:52:01.559713Z",
     "start_time": "2021-10-22T18:51:58.242466Z"
    },
    "code_folding": [
     0
    ]
   },
   "outputs": [],
   "source": [
    "def preprocess_HE_decriptions():\n",
    "    # Definición de los tokens de nombres a agregar\n",
    "    names = list(df['name'])\n",
    "    \n",
    "    # Definición de los tokens de descripción\n",
    "    descriptions = list()\n",
    "    \n",
    "    # Definición de tokens generados a partir de las descripciones\n",
    "    from_defs = list()\n",
    "    for d in df['definitions']:\n",
    "        # En primer lugar eliminar el salto de linea\n",
    "        txt = d.strip()\n",
    "\n",
    "        # Eliminando los puntos y comas\n",
    "        txt = ''.join(re.findall('[\\w\\s]+', txt))\n",
    "\n",
    "        # Reemplazando los espacios múltiples con espacios\n",
    "        txt = re.sub('\\s+', ' ', txt)\n",
    "\n",
    "        # Pasando a minúsculas\n",
    "        txt = txt.lower()\n",
    "\n",
    "        # Filtrando palabras stop\n",
    "        txt = [i for i in txt.split() if not i in stopwords.words('english')]\n",
    "        \n",
    "        # Agregando a la lista\n",
    "        descriptions.append(txt)\n",
    "        \n",
    "    return names, descriptions\n",
    "        \n",
    "        \n",
    "names, descriptions = preprocess_HE_decriptions()"
   ]
  },
  {
   "cell_type": "markdown",
   "id": "1c852c75",
   "metadata": {},
   "source": [
    "## Generando un diccionario a partir de las palabras obtenidas"
   ]
  },
  {
   "cell_type": "code",
   "execution_count": 33,
   "id": "2356517d",
   "metadata": {
    "ExecuteTime": {
     "end_time": "2021-10-22T20:08:31.166543Z",
     "start_time": "2021-10-22T20:08:31.157841Z"
    }
   },
   "outputs": [
    {
     "name": "stdout",
     "output_type": "stream",
     "text": [
      "Vocabulario extra de largo  2733\n"
     ]
    }
   ],
   "source": [
    "vocab_extra = set()\n",
    "for desc in descriptions:\n",
    "    vocab_extra.update(desc)\n",
    "print('Vocabulario extra de largo ', len(vocab_extra))"
   ]
  },
  {
   "cell_type": "markdown",
   "id": "9695f253",
   "metadata": {},
   "source": [
    "# Cargando embeddings pre entrenados"
   ]
  },
  {
   "cell_type": "code",
   "execution_count": 34,
   "id": "c3661244",
   "metadata": {
    "ExecuteTime": {
     "end_time": "2021-10-22T20:08:51.551211Z",
     "start_time": "2021-10-22T20:08:40.532303Z"
    }
   },
   "outputs": [
    {
     "name": "stdout",
     "output_type": "stream",
     "text": [
      "Vector de 400001 palabras cargadas.\n"
     ]
    }
   ],
   "source": [
    "# Cargando el embedding en memoria\n",
    "embeddings_index = dict()\n",
    "with open('C:/Users/Chris-Brota/Desktop/glove.6b/glove.6B.100d.txt', 'r', encoding='utf8') as file:\n",
    "    for line in file:\n",
    "        values = line.split()\n",
    "        word = values[0]\n",
    "        coefs = np.asarray(values[1:], dtype='float32')\n",
    "        embeddings_index[word] = coefs\n",
    "\n",
    "print(f'Vector de {len(embeddings_index)} palabras cargadas.')"
   ]
  },
  {
   "cell_type": "code",
   "execution_count": 35,
   "id": "77e108cc",
   "metadata": {
    "ExecuteTime": {
     "end_time": "2021-10-22T20:09:00.968319Z",
     "start_time": "2021-10-22T20:09:00.949338Z"
    }
   },
   "outputs": [
    {
     "name": "stdout",
     "output_type": "stream",
     "text": [
      "Vector ahora tiene 400279 palabras cargadas.\n"
     ]
    }
   ],
   "source": [
    "d_embed = 100\n",
    "for word in vocab_extra:\n",
    "    if embeddings_index.get(word, None) is None:\n",
    "        embeddings_index[word] = np.random.uniform(-1, 1, d_embed)\n",
    "        \n",
    "print(f'Vector ahora tiene {len(embeddings_index)} palabras cargadas.')"
   ]
  },
  {
   "cell_type": "markdown",
   "id": "366b1c12",
   "metadata": {},
   "source": [
    "# Creando el tokenizer"
   ]
  },
  {
   "cell_type": "code",
   "execution_count": 37,
   "id": "ff7943fc",
   "metadata": {
    "ExecuteTime": {
     "end_time": "2021-10-22T20:20:49.728358Z",
     "start_time": "2021-10-22T20:20:46.671392Z"
    }
   },
   "outputs": [],
   "source": [
    "# Definición de los tokens\n",
    "vocab_tokens = vocab_extra.union(embeddings_index.keys())\n",
    "\n",
    "# Creación del tokenizer\n",
    "tokenizer = tf.keras.preprocessing.text.Tokenizer()\n",
    "# Ajustando\n",
    "tokenizer.fit_on_texts(list(vocab_tokens))\n",
    "\n",
    "# Definiendo el tamaño del vocabulario\n",
    "vocab_size = len(tokenizer.word_index) + 1"
   ]
  },
  {
   "cell_type": "markdown",
   "id": "d7970028",
   "metadata": {},
   "source": [
    "# Obtener los vectores de entrada y salida"
   ]
  },
  {
   "cell_type": "code",
   "execution_count": 55,
   "id": "5059bea7",
   "metadata": {
    "ExecuteTime": {
     "end_time": "2021-10-22T21:05:26.601888Z",
     "start_time": "2021-10-22T21:05:26.558043Z"
    }
   },
   "outputs": [],
   "source": [
    "# Una vez definido el token para cada palabra, se transforman los textos mediante cada token\n",
    "X = tokenizer.texts_to_sequences(descriptions)\n",
    "Y = tf.keras.utils.to_categorical([i for i in range(len(names))], \n",
    "                                  num_classes=len(names), dtype='int')"
   ]
  },
  {
   "cell_type": "code",
   "execution_count": 56,
   "id": "7b1d8621",
   "metadata": {
    "ExecuteTime": {
     "end_time": "2021-10-22T21:05:26.617511Z",
     "start_time": "2021-10-22T21:05:26.602918Z"
    }
   },
   "outputs": [
    {
     "data": {
      "text/plain": [
       "array([[1, 0, 0, ..., 0, 0, 0],\n",
       "       [0, 1, 0, ..., 0, 0, 0],\n",
       "       [0, 0, 1, ..., 0, 0, 0],\n",
       "       ...,\n",
       "       [0, 0, 0, ..., 1, 0, 0],\n",
       "       [0, 0, 0, ..., 0, 1, 0],\n",
       "       [0, 0, 0, ..., 0, 0, 1]])"
      ]
     },
     "execution_count": 56,
     "metadata": {},
     "output_type": "execute_result"
    }
   ],
   "source": [
    "Y"
   ]
  },
  {
   "cell_type": "code",
   "execution_count": 40,
   "id": "0af7a66e",
   "metadata": {
    "ExecuteTime": {
     "end_time": "2021-10-22T20:24:46.936383Z",
     "start_time": "2021-10-22T20:24:46.703514Z"
    }
   },
   "outputs": [
    {
     "data": {
      "image/png": "[encoded data removed]",
      "text/plain": [
       "<Figure size 432x288 with 2 Axes>"
      ]
     },
     "metadata": {
      "needs_background": "light"
     },
     "output_type": "display_data"
    }
   ],
   "source": [
    "len_x = [len(i) for i in X]\n",
    "X_ord = sorted(X, key=lambda x: len(x))\n",
    "len_ordx = [len(i) for i in X_ord]\n",
    "\n",
    "plt.subplot(2,1,1)\n",
    "plt.plot(len_x)\n",
    "plt.subplot(2,1,2)\n",
    "plt.plot(len_ordx)\n",
    "plt.show()"
   ]
  },
  {
   "cell_type": "code",
   "execution_count": 57,
   "id": "fc71660a",
   "metadata": {
    "ExecuteTime": {
     "end_time": "2021-10-25T13:33:58.874053Z",
     "start_time": "2021-10-25T13:33:58.846120Z"
    },
    "code_folding": [
     0,
     94
    ]
   },
   "outputs": [],
   "source": [
    "def data_generator(batch_size, max_length, data_lines, shuffle=True):\n",
    "    \"\"\"Generator function that yields batches of data\n",
    "\n",
    "    Args:\n",
    "        batch_size (int): number of examples (in this case, sentences) per batch.\n",
    "        max_length (int): maximum length of the output tensor.\n",
    "        NOTE: max_length includes the end-of-sentence character that will be added\n",
    "                to the tensor.  \n",
    "                Keep in mind that the length of the tensor is always 1 + the length\n",
    "                of the original line of characters.\n",
    "        data_lines (list): list of the sentences to group into batches.\n",
    "        shuffle (bool, optional): True if the generator should generate random batches of data. Defaults to True.\n",
    "\n",
    "    Yields:\n",
    "        tuple: two copies of the batch (jax.interpreters.xla.DeviceArray) and mask (jax.interpreters.xla.DeviceArray).\n",
    "        NOTE: jax.interpreters.xla.DeviceArray is trax's version of numpy.ndarray\n",
    "    \"\"\"\n",
    "    # initialize the index that points to the current position in the lines index array\n",
    "    index = 0\n",
    "    \n",
    "    # initialize the list that will contain the current batch\n",
    "    cur_batch = []\n",
    "    \n",
    "    # count the number of lines in data_lines\n",
    "    num_lines = len(X)\n",
    "    \n",
    "    # create an array with the indexes of data_lines that can be shuffled\n",
    "    lines_index = [*range(num_lines)]\n",
    "    \n",
    "    # shuffle line indexes if shuffle is set to True\n",
    "    if shuffle:\n",
    "        rnd.shuffle(lines_index)\n",
    "    \n",
    "    ### START CODE HERE (Replace instances of 'None' with your code) ###\n",
    "    while True:\n",
    "        \n",
    "        # if the index is greater or equal than to the number of lines in data_lines\n",
    "        if index >= num_lines:\n",
    "            # then reset the index to 0\n",
    "            index = 0\n",
    "            # shuffle line indexes if shuffle is set to True\n",
    "            if shuffle:\n",
    "                rnd.shuffle(lines_index)\n",
    "            \n",
    "        # get a line at the `lines_index[index]` position in data_lines\n",
    "        line = X[lines_index[index]]\n",
    "        \n",
    "        # if the length of the line is less than max_length\n",
    "        if len(line) < max_length:\n",
    "            # append the line to the current batch\n",
    "            cur_batch.append(line)\n",
    "            \n",
    "        # increment the index by one\n",
    "        index += 1\n",
    "        \n",
    "        # if the current batch is now equal to the desired batch size\n",
    "        if len(cur_batch) == batch_size:\n",
    "            \n",
    "            batch = []\n",
    "            mask = []\n",
    "            \n",
    "            # go through each line (li) in cur_batch\n",
    "            for tensor in cur_batch:\n",
    "                # Create a list of zeros to represent the padding\n",
    "                # so that the tensor plus padding will have length `max_length`\n",
    "                pad = [0] * (max_length - len(tensor))\n",
    "                \n",
    "                # combine the tensor plus pad\n",
    "                tensor_pad = tensor + pad\n",
    "                \n",
    "                # append the padded tensor to the batch\n",
    "                batch.append(tensor_pad)\n",
    "\n",
    "                # A mask for  tensor_pad is 1 wherever tensor_pad is not\n",
    "                # 0 and 0 wherever tensor_pad is 0, i.e. if tensor_pad is\n",
    "                # [1, 2, 3, 0, 0, 0] then example_mask should be\n",
    "                # [1, 1, 1, 0, 0, 0]\n",
    "                # Hint: Use a list comprehension for this\n",
    "                example_mask = [1] * len(tensor) + pad\n",
    "                mask.append(example_mask)\n",
    "               \n",
    "            # convert the batch (data type list) to a trax's numpy array\n",
    "            batch_np_arr = np.array(batch)\n",
    "            mask_np_arr = np.array(mask)\n",
    "            \n",
    "            ### END CODE HERE ##\n",
    "            \n",
    "            # Yield two copies of the batch and mask.\n",
    "            yield batch_np_arr, batch_np_arr, mask_np_arr\n",
    "            \n",
    "            # reset the current batch to an empty list\n",
    "            cur_batch = []\n",
    "            \n",
    "        \n",
    "def get_word_embeddings(d_embed, maxlen=65, table_to_rev='health_effects'):\n",
    "    # Creación de un diccionario de embeddings\n",
    "    embeddings_index = dict()\n",
    "    # Creación de un set de palabras\n",
    "    word_set = set()\n",
    "    \n",
    "    # Cargando el embedding en memoria\n",
    "    with open(f'C:/Users/Chris-Brota/Desktop/glove.6b/glove.6B.{d_embed}d.txt', 'r', \n",
    "              encoding='utf8') as file:\n",
    "        for line in file:\n",
    "            values = line.split()\n",
    "            word = values[0]\n",
    "            coefs = np.asarray(values[1:], dtype='float32')\n",
    "            \n",
    "            # Agregando a las estructuras correspondientes\n",
    "            embeddings_index[word] = coefs\n",
    "            word_set.add(word)\n",
    "    \n",
    "    # Obtener los conceptos de la tabla de interés\n",
    "    if table_to_rev == 'health_effects':\n",
    "        names, descriptions = preprocess_HE_decriptions()\n",
    "    \n",
    "    # Agregando a un set auxiliar de nuevas palabras\n",
    "    vocab_extra = set()\n",
    "    for desc in descriptions:\n",
    "        vocab_extra.update(desc)\n",
    "    \n",
    "    # Revisando en este nuevo diccionario\n",
    "    for word in vocab_extra:\n",
    "        if embeddings_index.get(word, None) is None:\n",
    "            embeddings_index[word] = np.random.uniform(-1, 1, d_embed)\n",
    "            word_set.add(word)\n",
    "    \n",
    "    # Checkeo de sanidad\n",
    "    assert len(embeddings_index) == len(word_set)\n",
    "    print(f'Vector de {len(embeddings_index)} palabras cargadas.')\n",
    "    \n",
    "    # Creación del tokenizer\n",
    "    tokenizer = tf.keras.preprocessing.text.Tokenizer()\n",
    "    # Ajustando\n",
    "    tokenizer.fit_on_texts(list(word_set))\n",
    "    \n",
    "    # Definiendo el tamaño del vocabulario\n",
    "    vocab_size = len(tokenizer.word_index) + 1\n",
    "    \n",
    "    # Definición de la matriz de embedding\n",
    "    embedding_matrix = np.zeros((vocab_size, d_embed))\n",
    "    for word, i in tokenizer.word_index.items():\n",
    "        embedding_vector = embeddings_index.get(word, None)\n",
    "        if embedding_vector is not None:\n",
    "            embedding_matrix[i] = embedding_vector\n",
    "            \n",
    "    return embedding_matrix, tokenizer"
   ]
  },
  {
   "cell_type": "code",
   "execution_count": 49,
   "id": "50e160d9",
   "metadata": {
    "ExecuteTime": {
     "end_time": "2021-10-22T20:45:03.716780Z",
     "start_time": "2021-10-22T20:45:03.693263Z"
    }
   },
   "outputs": [],
   "source": [
    "# Dado que las secuencias no tienen el mismo largo, se paddea para obtener una matriz\n",
    "X_token = tf.keras.preprocessing.sequence.pad_sequences(X, maxlen=65, padding='post')"
   ]
  },
  {
   "cell_type": "markdown",
   "id": "40616a40",
   "metadata": {},
   "source": [
    "# Single CBOW\n",
    "\n",
    "Cada palabra v/s el concepto objetivo."
   ]
  },
  {
   "cell_type": "code",
   "execution_count": 51,
   "id": "099794bd",
   "metadata": {
    "ExecuteTime": {
     "end_time": "2021-10-22T20:45:13.024959Z",
     "start_time": "2021-10-22T20:45:13.018637Z"
    }
   },
   "outputs": [
    {
     "data": {
      "text/plain": [
       "(1317, 65)"
      ]
     },
     "execution_count": 51,
     "metadata": {},
     "output_type": "execute_result"
    }
   ],
   "source": [
    "def model_CBOW_1(vocab_size, embedding_matrix, embedding_dim=100, embedding_trainable=True):\n",
    "    ####  Red Target  #### \n",
    "    # Capa de entrada\n",
    "    x_targ_in = tf.keras.Input(shape=(1,), name='Target_Input')\n",
    "    # Capa de embebido\n",
    "    x_targ = tf.keras.layers.Embedding(vocab_size, embedding_dim, \n",
    "                                       trainable=embedding_trainable,\n",
    "                                       embeddings_initializer=tf.keras.initializers.Constant(embedding_matrix)\n",
    "                                       mask_zero=True)(x_targ_in)\n",
    "    \n",
    "    return model"
   ]
  },
  {
   "cell_type": "markdown",
   "id": "4d39e7da",
   "metadata": {},
   "source": [
    "# CBOW clásico"
   ]
  },
  {
   "cell_type": "code",
   "execution_count": null,
   "id": "914a60e0",
   "metadata": {},
   "outputs": [],
   "source": []
  }
 ],
 "metadata": {
  "kernelspec": {
   "display_name": "Python 3 (ipykernel)",
   "language": "python",
   "name": "python3"
  },
  "language_info": {
   "codemirror_mode": {
    "name": "ipython",
    "version": 3
   },
   "file_extension": ".py",
   "mimetype": "text/x-python",
   "name": "python",
   "nbconvert_exporter": "python",
   "pygments_lexer": "ipython3",
   "version": "3.8.7"
  },
  "varInspector": {
   "cols": {
    "lenName": 16,
    "lenType": 16,
    "lenVar": 40
   },
   "kernels_config": {
    "python": {
     "delete_cmd_postfix": "",
     "delete_cmd_prefix": "del ",
     "library": "var_list.py",
     "varRefreshCmd": "print(var_dic_list())"
    },
    "r": {
     "delete_cmd_postfix": ") ",
     "delete_cmd_prefix": "rm(",
     "library": "var_list.r",
     "varRefreshCmd": "cat(var_dic_list()) "
    }
   },
   "types_to_exclude": [
    "module",
    "function",
    "builtin_function_or_method",
    "instance",
    "_Feature"
   ],
   "window_display": false
  }
 },
 "nbformat": 4,
 "nbformat_minor": 5
}
