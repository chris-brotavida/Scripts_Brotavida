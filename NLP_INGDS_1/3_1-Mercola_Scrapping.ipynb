{
 "cells": [
  {
   "cell_type": "code",
   "execution_count": 9,
   "id": "b4795c42",
   "metadata": {
    "ExecuteTime": {
     "end_time": "2021-10-26T20:34:55.810453Z",
     "start_time": "2021-10-26T20:34:55.798483Z"
    }
   },
   "outputs": [],
   "source": [
    "import mysql.connector\n",
    "import os, getpass, re, requests\n",
    "import gensim, unidecode\n",
    "import wikipedia\n",
    "import pandas as pd\n",
    "import numpy as np\n",
    "import cvxpy as cp\n",
    "import tensorflow as tf\n",
    "from tqdm import tqdm\n",
    "from mysql.connector import Error\n",
    "from itertools import combinations\n",
    "from ast import literal_eval\n",
    "from collections import defaultdict\n",
    "from scipy.spatial import distance\n",
    "from bs4 import BeautifulSoup\n",
    "from urllib.request import urlopen, Request\n",
    "K = 10"
   ]
  },
  {
   "cell_type": "code",
   "execution_count": 18,
   "id": "76a539dd",
   "metadata": {
    "ExecuteTime": {
     "end_time": "2021-10-26T21:11:22.615258Z",
     "start_time": "2021-10-26T21:11:22.578970Z"
    }
   },
   "outputs": [],
   "source": [
    "def mercola_scraping(page):\n",
    "    # Acondicionando el link de la página\n",
    "    page = page.replace(' ', '-')\n",
    "    page = unidecode.unidecode(page)\n",
    "    \n",
    "    # Especificando la dirección URL\n",
    "    website = f'https://foodfacts.mercola.com/{page}.html'\n",
    "    req = Request(website, headers={'User-Agent': 'Mozilla/5.0'})\n",
    "    source = urlopen(req).read()\n",
    "\n",
    "    # Preparando la sopa \n",
    "    soup = BeautifulSoup(source,'html.parser')\n",
    "\n",
    "    # Extrayendo el texto de los párrafos\n",
    "    paragraphs = []\n",
    "    for paragraph in soup.find_all('p'):\n",
    "        paragraphs.append(str(paragraph.text))\n",
    "    \n",
    "    # Uniendo como texto plano\n",
    "    text_out = ' '.join(paragraphs)\n",
    "    \n",
    "    # Dropear footnotes en brackets\n",
    "    text_out = re.sub(r\"\\[.*?\\]+\", '', text_out)\n",
    "    \n",
    "    # Eliminar los non-breaking-spaces\n",
    "    text_out = re.sub(r\"\\xa0\", ' ', text_out)\n",
    "    \n",
    "    # Eliminar los code promotion\n",
    "    text_out = re.sub(r\"code: lat promoted to code: la \", '', text_out)\n",
    "\n",
    "    # Replace '\\n' (a new line) with '' and end the string at $1000.\n",
    "    text_out = text_out.replace('\\n', '')\n",
    "    \n",
    "    # Remover espacios extra\n",
    "    text_out = re.sub(r'\\s+', ' ', text_out)\n",
    "    \n",
    "    return text_out"
   ]
  },
  {
   "cell_type": "code",
   "execution_count": 19,
   "id": "ac2fae3a",
   "metadata": {
    "ExecuteTime": {
     "end_time": "2021-10-26T21:11:24.219107Z",
     "start_time": "2021-10-26T21:11:22.710308Z"
    },
    "scrolled": false
   },
   "outputs": [
    {
     "name": "stdout",
     "output_type": "stream",
     "text": [
      "<urllib.request.Request object at 0x00000134166FB610>\n"
     ]
    },
    {
     "data": {
      "text/plain": [
       "'(Advertisement) The Leaky Vaccine Breakthrough Variant Is Here October 26, 2021 All Organ Donors and Recipients Must Be Vaccinated October 26, 2021 Vitamin D Reduces Cancer Deaths October 26, 2021 Categories Secret Documents Reveal FDA\\'s Attack on Ivermectin October 25, 2021 Ivermectin vs. Merck\\'s New Antiviral, Molnupiravir October 25, 2021 Bill Gates Is This Country\\'s Biggest Farmland Owner October 25, 2021 View All Health Videos Body Hacks Check out these Healthy Body Hacks and gain valuable health information about a wide variety of interesting topics that you won\\'t find anywhere else! Common Health Questions If you want to learn what happens to your body when you eat a food or use a particular substance, read these insightful health articles today. Diseases Directory Your ultimate guide to common health conditions - know the causes, symptoms, treatment and other information you need to know about diseases. Special Reports Get free access to over 100,000 health articles and special reports worth $9.97 each when you subscribe to the free Mercola health newsletter. Fitness Plan The Mercola Fitness Plan, combined with the other pillars of health, is the perfect formula to help you move up the ladder to good health. Food Facts Find out food facts, nutrition facts, and healthy recipes of common healthy foods that you should add to your wholesome diet. Health Blogs Participate in open discussions about natural health articles and health information on Dr. Mercola’s health blog. Herbal Oils Dr. Mercola’s Herbal Oil List is a directory that provides A-Zs of herbal oils, their healing properties and their time-tested culinary and aromatherapy uses. Herbs and Spices Dr. Mercola’s Herbs and Spices List is a directory that provides A-Zs of herbs and spices, their health benefits and their time-tested culinary and pain-relieving formulas. Infographics Check out these health infographics, or information graphics, from Dr. Mercola, and learn useful facts and tips that can help you achieve optimal wellness. Nutrition Plan Dr. Mercola\\'s Nutrition Plan will give you tips on healthy eating and exercise, as well as other lifestyle strategies to help you achieve optimal health. Recipes Find the top and most recent healthy food recipes and try different nutritious foods and snacks that are based on Dr. Mercola\\'s optimized Nutrition Plan. Teas Learn more about the different types of tea, their caffeine content and their different nutritional components that you can benefit from. Vitamins and Supplements Discover all the important facts about supplements, their mechanisms of action and proven benefits, recommended dosage and potential side effects. (Advertisement) (Advertisement) (Advertisement) Disclaimer: The entire contents of this website are based upon the opinions of Dr. Mercola, unless otherwise noted. Individual articles are based upon the opinions of the respective author, who retains copyright as marked. The information on this website is not intended to replace a one-on-one relationship with a qualified health care professional and is not intended as medical advice. It is intended as a sharing of knowledge and information from the research and experience of Dr. Mercola and his community. Dr. Mercola encourages you to make your own health care decisions based upon your research and in partnership with a qualified health care professional. If you are pregnant, nursing, taking medication, or have a medical condition, consult your health care professional before using products based on this content. If you want to use an article on your site please click here. This content may be copied in full, with copyright, contact, creation and information intact, without specific permission, when used only in a not-for-profit format. If any other use is desired, permission in writing from Dr. Mercola is required. Terms & Conditions | Updated Privacy Policy †The World\\'s #1 Natural Health Website claim is based upon Alexa Natural Health Website rankings. © 1997-2021 Dr. Joseph Mercola. All Rights Reserved. Awesome Apples Botanical name: Malus domestica Apples are a popular lunchbox snack known for their delicious, crunchy and sweet nature. Although they are often considered distinctly American, they actually originated from the mountains of Kazakhstan from the Malus sieversii tree, the progenitor of the modern apple. Interestingly, you can still find this ancient apple tree growing today.1 European settlers brought apples to America during the 1600s and cultivation was immediately successful. By the 19th century, apples were found everywhere and came in different forms. In 1905, the U.S. Department of Agriculture (USDA) noted that there were around 17,000 apple varieties, though the number was actually closer to 14,000, as some names would overlap.2 According to the U.S. Apple Association, around 100 varieties are grown in the United States today, but these are the most popular among consumers:3 Apples are high in vitamin C,4 one of the most important nutrients you should regularly attain from your diet. Studies show that vitamin C may help regulate blood pressure5 as well as reduce oxidative stress damage caused by exercise.6 Vitamin A, also found in apples, is crucial for the reproductive health of both males and females, as well as the growth of embryos.7 Increasing your intake of vitamin A may also help resist infection by boosting your immune function.8 Additionally, apples contain generous amounts of dietary fiber, which may help inhibit LDL (bad) cholesterol concentration, thereby improving cardiovascular health.9 Apples are a good source of folate, a nutrient that may help lower the risk of neural tube defects in fetuses.10 Increasing folate during pregnancy may also lower the risk of congenital heart defects in newborn children.11 Minerals found in apples include iron, phosphorus, calcium and potassium, which are important components in helping regulate blood pressure.12 All of these elements and more demonstrate why apples can legitimately be called a \"superfood.\" Warning: Apples are one of the most pesticide-contaminated foods in America. According to the Environmental Working Group (EWG), apples rank fifth in their 2020 \"Dirty Dozen\" for pesticides found in produce. As such, it\\'s important to buy certified organic apples to safeguard your health.13 One study shows that the flavonoids and nitrates in apples may help protect against cardiovascular disease15 by lowering blood pressure, as well as improving endothelial function to regulate blood flow.16 Flavonoids are one of the most important naturally occurring phytochemicals in fruits and vegetables. Research also indicates a connection between eating apples and the reduced risk of certain cancers, specifically colorectal cancer,17 due to the high flavonoid content that releases antioxidant activity. Flavonoids work against cancer cells by influencing cellular processes such as apoptosis, cell proliferation and cell differentiation.18 Polyphenols found in apples may have benefits as well. The following benefits were observed in mice, which may translate positively to human health: To get the most out of your apples, make sure you eat the peel. Research shows that this part of the fruit contains the highest amount of antioxidants compared to other parts.22 Just make sure that you’re consuming organic apples to avoid pesticide contamination. Ingredients: ✓ 1 cup cooked wild rice ✓ 1 cup cooked brown rice ✓ 1 cup cooked barley ✓ 2 large Granny Smith apples, peeled, cored, and diced ✓ ½ cup toasted walnuts, coarsely chopped ✓ 2 ribs celery, thinly sliced ✓ 1 small carrot, grated ✓ ⅓ cup raisins ✓ ½ cup chopped fresh dill ✓ ½ cup plain yogurt ✓ 3 tablespoons lemon juice ✓ Sea salt and freshly ground pepper, to taste Procedure: (From \"Healthy Recipes for Your Nutritional Type\" by Dr. Mercola) Historians discovered a Mesopotamian tablet dated around 1500 B.C. showing a deed of sale of for an apple orchard by Tupkitilla, an Assyrian, in exchange for three sheep. Over a thousand years later in 1665, Sir Isaac Newton observes an apple fall to the ground, giving him an idea about the nature of gravity.23 Apples have appeared in art, music and literature throughout the ages, and not just because of their crunch. They\\'re extremely versatile in recipes, both raw and cooked, and offer chemopreventive properties and powerful antioxidants with every bite. What could be better than that? Despite these benefits, it\\'s important to consume apples in moderation, as they contain fructose, which can be detrimental to your health in excessive amounts. Tags: Fruits Most Popular References: By continuing to browse our site you agree to our use of cookies, revised Privacy Policy and Terms of Service. I agree You\\'ll also receive my FREE Natural Health newsletter | Privacy Policy Inside Mercola.com Special Info Sites Disclaimer: The entire contents of this website are based upon the opinions of Dr. Mercola, unless otherwise noted. Individual articles are based upon the opinions of the respective author, who retains copyright as marked. The information on this website is not intended to replace a one-on-one relationship with a qualified health care professional and is not intended as medical advice. It is intended as a sharing of knowledge and information from the research and experience of Dr. Mercola and his community. Dr. Mercola encourages you to make your own health care decisions based upon your research and in partnership with a qualified health care professional. If you are pregnant, nursing, taking medication, or have a medical condition, consult your health care professional before using products based on this content. If you want to use an article on your site please click here. This content may be copied in full, with copyright, contact, creation and information intact, without specific permission, when used only in a not-for-profit format. If any other use is desired, permission in writing from Dr. Mercola is required. HomeAboutAll Mercola ProductsSitemap © 1997-2021 Dr. Joseph Mercola. All Rights Reserved.'"
      ]
     },
     "execution_count": 19,
     "metadata": {},
     "output_type": "execute_result"
    }
   ],
   "source": [
    "mercola_scraping('apple')"
   ]
  },
  {
   "cell_type": "code",
   "execution_count": null,
   "id": "3edba8e7",
   "metadata": {},
   "outputs": [],
   "source": []
  }
 ],
 "metadata": {
  "kernelspec": {
   "display_name": "Python 3 (ipykernel)",
   "language": "python",
   "name": "python3"
  },
  "language_info": {
   "codemirror_mode": {
    "name": "ipython",
    "version": 3
   },
   "file_extension": ".py",
   "mimetype": "text/x-python",
   "name": "python",
   "nbconvert_exporter": "python",
   "pygments_lexer": "ipython3",
   "version": "3.8.7"
  },
  "varInspector": {
   "cols": {
    "lenName": 16,
    "lenType": 16,
    "lenVar": 40
   },
   "kernels_config": {
    "python": {
     "delete_cmd_postfix": "",
     "delete_cmd_prefix": "del ",
     "library": "var_list.py",
     "varRefreshCmd": "print(var_dic_list())"
    },
    "r": {
     "delete_cmd_postfix": ") ",
     "delete_cmd_prefix": "rm(",
     "library": "var_list.r",
     "varRefreshCmd": "cat(var_dic_list()) "
    }
   },
   "types_to_exclude": [
    "module",
    "function",
    "builtin_function_or_method",
    "instance",
    "_Feature"
   ],
   "window_display": false
  }
 },
 "nbformat": 4,
 "nbformat_minor": 5
}
