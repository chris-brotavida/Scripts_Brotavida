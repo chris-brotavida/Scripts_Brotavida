{
 "cells": [
  {
   "cell_type": "code",
   "execution_count": 1,
   "id": "d67bb892",
   "metadata": {
    "ExecuteTime": {
     "end_time": "2021-10-28T15:55:59.444864Z",
     "start_time": "2021-10-28T15:55:54.587526Z"
    }
   },
   "outputs": [],
   "source": [
    "import mysql.connector\n",
    "import os, getpass, re, requests\n",
    "import gensim\n",
    "import pandas as pd\n",
    "import numpy as np\n",
    "import cvxpy as cp\n",
    "import tensorflow as tf\n",
    "import matplotlib.pyplot as plt\n",
    "from mysql.connector import Error\n",
    "from itertools import combinations\n",
    "from ast import literal_eval\n",
    "from collections import defaultdict\n",
    "from scipy.spatial import distance\n",
    "from sklearn.manifold import TSNE\n",
    "from bs4 import BeautifulSoup\n",
    "import plotly.graph_objects as go\n",
    "from nltk.corpus import stopwords\n",
    "from transformers import T5Tokenizer, T5ForConditionalGeneration"
   ]
  },
  {
   "cell_type": "code",
   "execution_count": 2,
   "id": "a3bcb615",
   "metadata": {
    "ExecuteTime": {
     "end_time": "2021-10-28T15:56:05.388889Z",
     "start_time": "2021-10-28T15:56:01.081878Z"
    }
   },
   "outputs": [
    {
     "name": "stdout",
     "output_type": "stream",
     "text": [
      "Introduzca la contraseña: ········\n",
      "Connected to MySQL Server version  8.0.26\n"
     ]
    }
   ],
   "source": [
    "# Definición de parámetros de conexión\n",
    "connection_params = {\n",
    "    'host': 'localhost',\n",
    "    'user': 'cmescobar',\n",
    "    'database': 'foodb',\n",
    "    'password': getpass.getpass(prompt='Introduzca la contraseña: ')\n",
    "}\n",
    "\n",
    "try:\n",
    "    connection = mysql.connector.connect(**connection_params)\n",
    "\n",
    "    if connection.is_connected():\n",
    "        db_Info = connection.get_server_info()\n",
    "        print(\"Connected to MySQL Server version \", db_Info)\n",
    "        cursor = connection.cursor()\n",
    "\n",
    "except Error as e:\n",
    "    print(\"Error while connecting to MySQL\", e)"
   ]
  },
  {
   "cell_type": "markdown",
   "id": "b7a05d6c",
   "metadata": {},
   "source": [
    "# Definición del modo de funcionamiento"
   ]
  },
  {
   "cell_type": "code",
   "execution_count": 3,
   "id": "7ccce25c",
   "metadata": {
    "ExecuteTime": {
     "end_time": "2021-10-28T15:56:06.446295Z",
     "start_time": "2021-10-28T15:56:06.429375Z"
    }
   },
   "outputs": [],
   "source": [
    "test = True               # Si se utiliza o no un conjunto más pequeño de conceptos\n",
    "raw_XY = True             # Si es True, se hace el conjunto para el siamese normal. \n",
    "                          # En caso contrario, es para todo el resto.\n",
    "tokenizer_func = 'custom'\n",
    "task_prefix = 'health_effects: '"
   ]
  },
  {
   "cell_type": "code",
   "execution_count": 4,
   "id": "c9f65b9c",
   "metadata": {
    "ExecuteTime": {
     "end_time": "2021-10-28T15:56:06.851172Z",
     "start_time": "2021-10-28T15:56:06.830512Z"
    },
    "code_folding": [
     0
    ]
   },
   "outputs": [],
   "source": [
    "def preprocess_HE_decriptions(connection, test=False, to_list=True):\n",
    "    # Definición de la query que se le hace a la base de datos\n",
    "    sql_query = '''\n",
    "        SELECT name, chebi_name, IF(description IS NULL, chebi_definition, description) as definitions \n",
    "        FROM foodb.health_effects he\n",
    "        WHERE description IS NOT NULL OR chebi_definition IS NOT NULL\n",
    "    '''\n",
    "\n",
    "    # Obtener el dataframe\n",
    "    dataframe = pd.read_sql(sql_query, con=connection)\n",
    "    \n",
    "    # Acortar para un testeo sencillo\n",
    "    if test:\n",
    "        with open('Summary/names_to_rev.txt', 'r', encoding='utf8') as file:\n",
    "            concepts = list()\n",
    "            for line in file:\n",
    "                concepts.append(line.strip())\n",
    "\n",
    "        dataframe = dataframe[dataframe['name'].isin(concepts)]\n",
    "\n",
    "    # Definición de los tokens de nombres a agregar\n",
    "    names = list(dataframe['name'])\n",
    "    \n",
    "    # Definición de los tokens de descripción\n",
    "    descriptions = list()\n",
    "    \n",
    "    # Definición de tokens generados a partir de las descripciones\n",
    "    from_defs = list()\n",
    "    for d in dataframe['definitions']:\n",
    "        # En primer lugar eliminar el salto de linea\n",
    "        txt = d.strip()\n",
    "\n",
    "        # Eliminando los puntos y comas\n",
    "        txt = ''.join(re.findall('[\\w\\s]+', txt))\n",
    "\n",
    "        # Reemplazando los espacios múltiples con espacios\n",
    "        txt = re.sub('\\s+', ' ', txt)\n",
    "\n",
    "        # Pasando a minúsculas\n",
    "        txt = txt.lower()\n",
    "\n",
    "        # Filtrando palabras stop\n",
    "        if to_list:\n",
    "            txt = [i for i in txt.split() if not i in stopwords.words('english')]\n",
    "        \n",
    "        # Agregando a la lista\n",
    "        descriptions.append(txt)\n",
    "        \n",
    "    return names, descriptions"
   ]
  },
  {
   "cell_type": "code",
   "execution_count": 5,
   "id": "69cf69e5",
   "metadata": {
    "ExecuteTime": {
     "end_time": "2021-10-28T15:56:07.333908Z",
     "start_time": "2021-10-28T15:56:07.289823Z"
    }
   },
   "outputs": [],
   "source": [
    "names, descriptions = preprocess_HE_decriptions(connection, test=test, to_list=False)"
   ]
  },
  {
   "cell_type": "markdown",
   "id": "52e88c49",
   "metadata": {},
   "source": [
    "# Training"
   ]
  },
  {
   "cell_type": "code",
   "execution_count": 6,
   "id": "4d21e9de",
   "metadata": {
    "ExecuteTime": {
     "end_time": "2021-10-28T15:56:23.930429Z",
     "start_time": "2021-10-28T15:56:08.669992Z"
    }
   },
   "outputs": [],
   "source": [
    "tokenizer = T5Tokenizer.from_pretrained(\"t5-base\")\n",
    "model = T5ForConditionalGeneration.from_pretrained(\"t5-base\")"
   ]
  },
  {
   "cell_type": "code",
   "execution_count": 7,
   "id": "1949c10a",
   "metadata": {
    "ExecuteTime": {
     "end_time": "2021-10-28T15:57:35.251961Z",
     "start_time": "2021-10-28T15:57:35.195471Z"
    }
   },
   "outputs": [],
   "source": [
    "# the following 2 hyperparameters are task-specific\n",
    "max_source_length = 512\n",
    "max_target_length = 128\n",
    "\n",
    "# Codificar las entradas\n",
    "encoding = tokenizer([task_prefix + sequence for sequence in descriptions],\n",
    "                     padding='longest',\n",
    "                     max_length=max_source_length,\n",
    "                     truncation=True,\n",
    "                     return_tensors=\"pt\")\n",
    "input_ids, attention_mask = encoding.input_ids, encoding.attention_mask"
   ]
  },
  {
   "cell_type": "code",
   "execution_count": null,
   "id": "8a75629a",
   "metadata": {},
   "outputs": [],
   "source": [
    "# encode the targets\n",
    "target_encoding = tokenizer(names, padding='longest',\n",
    "                            max_length=max_target_length,\n",
    "                            truncation=True)\n",
    "labels = target_encoding.input_ids\n",
    "\n",
    "# replace padding token id's of the labels by -100\n",
    "labels = [\n",
    "           [(label if label != tokenizer.pad_token_id else -100) for label in labels_example] for labels_example in labels\n",
    "]\n",
    "labels = torch.tensor(labels)\n",
    "\n",
    "# forward pass\n",
    "loss = model(input_ids=input_ids, attention_mask=attention_mask, labels=labels).loss"
   ]
  }
 ],
 "metadata": {
  "kernelspec": {
   "display_name": "Python 3 (ipykernel)",
   "language": "python",
   "name": "python3"
  },
  "language_info": {
   "codemirror_mode": {
    "name": "ipython",
    "version": 3
   },
   "file_extension": ".py",
   "mimetype": "text/x-python",
   "name": "python",
   "nbconvert_exporter": "python",
   "pygments_lexer": "ipython3",
   "version": "3.8.7"
  },
  "varInspector": {
   "cols": {
    "lenName": 16,
    "lenType": 16,
    "lenVar": 40
   },
   "kernels_config": {
    "python": {
     "delete_cmd_postfix": "",
     "delete_cmd_prefix": "del ",
     "library": "var_list.py",
     "varRefreshCmd": "print(var_dic_list())"
    },
    "r": {
     "delete_cmd_postfix": ") ",
     "delete_cmd_prefix": "rm(",
     "library": "var_list.r",
     "varRefreshCmd": "cat(var_dic_list()) "
    }
   },
   "types_to_exclude": [
    "module",
    "function",
    "builtin_function_or_method",
    "instance",
    "_Feature"
   ],
   "window_display": false
  }
 },
 "nbformat": 4,
 "nbformat_minor": 5
}
