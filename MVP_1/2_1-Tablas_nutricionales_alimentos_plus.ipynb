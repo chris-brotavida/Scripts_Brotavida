{
 "cells": [
  {
   "cell_type": "code",
   "execution_count": 1,
   "id": "11ed2dbb",
   "metadata": {
    "ExecuteTime": {
     "end_time": "2021-08-18T15:26:36.020718Z",
     "start_time": "2021-08-18T15:26:35.990963Z"
    }
   },
   "outputs": [],
   "source": [
    "import mysql.connector\n",
    "import getpass\n",
    "from mysql.connector import Error"
   ]
  },
  {
   "cell_type": "markdown",
   "id": "dbaa2099",
   "metadata": {},
   "source": [
    "# Conectando a la base de datos"
   ]
  },
  {
   "cell_type": "code",
   "execution_count": 2,
   "id": "b787b2e7",
   "metadata": {
    "ExecuteTime": {
     "end_time": "2021-08-18T15:26:40.376272Z",
     "start_time": "2021-08-18T15:26:37.031116Z"
    }
   },
   "outputs": [
    {
     "name": "stdout",
     "output_type": "stream",
     "text": [
      "Introduzca la contraseña: ········\n",
      "Connected to MySQL Server version  8.0.26\n"
     ]
    }
   ],
   "source": [
    "# Definición de parámetros de conexión\n",
    "connection_params = {\n",
    "    'host': 'localhost',\n",
    "    'user': 'cmescobar',\n",
    "    'database': 'foodb',\n",
    "    'password': getpass.getpass(prompt='Introduzca la contraseña: ')\n",
    "}\n",
    "\n",
    "try:\n",
    "    connection = mysql.connector.connect(**connection_params)\n",
    "\n",
    "    if connection.is_connected():\n",
    "        db_Info = connection.get_server_info()\n",
    "        print(\"Connected to MySQL Server version \", db_Info)\n",
    "        cursor = connection.cursor()\n",
    "\n",
    "except Error as e:\n",
    "    print(\"Error while connecting to MySQL\", e)"
   ]
  },
  {
   "cell_type": "markdown",
   "id": "a0ec89c4",
   "metadata": {},
   "source": [
    "# Definición de los parámetros de interés"
   ]
  },
  {
   "cell_type": "code",
   "execution_count": 3,
   "id": "6772df70",
   "metadata": {
    "ExecuteTime": {
     "end_time": "2021-08-18T15:26:41.465838Z",
     "start_time": "2021-08-18T15:26:41.454867Z"
    }
   },
   "outputs": [],
   "source": [
    "# Definición de los alimentos de interés\n",
    "food_public_ids = ['FOOD00941', 'FOOD00938', 'FOOD00168', 'FOOD00058', \n",
    "                   'FOOD00572', 'FOOD00687', 'FOOD00068', 'FOOD00367', \n",
    "                   'FOOD00219', 'FOOD00982', 'FOOD00915', 'FOOD00723', \n",
    "                   'FOOD00206', 'FOOD00555', 'FOOD00916', 'FOOD00109', \n",
    "                   'FOOD00379', 'FOOD00159', 'FOOD00647', 'FOOD00165', \n",
    "                   'FOOD00548', 'FOOD00908', 'FOOD00183', 'FOOD00187', \n",
    "                   'FOOD00040']\n",
    "\n",
    "# Definición de las componentes a revisar (Excel Nico)\n",
    "compounds_id_public_sheet = ['FDB003010', 'FDB009020', 'FDB000571', 'FDB030727', \n",
    "                            'FDB016592', 'FDB013228', 'FDB012292', 'FDB014504', \n",
    "                            'FDB023903', 'FDB016251', 'FDB000572', 'FDB012738', \n",
    "                            'FDB013567', 'FDB003518', 'FDB003521', 'FDB011814', \n",
    "                            'FDB011795', 'FDB003523', 'FDB003191', 'FDB000455', \n",
    "                            'FDB000453', 'FDB007057', 'FDB014797', 'FDB002251', \n",
    "                            'FDB022939', 'FDB001014', 'FDB000574', 'FDB001223', \n",
    "                            'FDB023125', 'FDB001977', 'FDB003729']\n",
    "\n",
    "# Definición de la lista de nutrientes\n",
    "nutrients_public_id = []\n",
    "\n",
    "# Definición de la lista de compuestos final\n",
    "compounds_public_id = [i for i in compounds_id_public_sheet]\n",
    "\n",
    "# Definición de las componentes de interés en una bebida energética\n",
    "with open('interest_drink_comps_codes.csv', 'r', encoding='utf8') as file:\n",
    "    for line in file:\n",
    "        data = line.strip().split(';')\n",
    "        \n",
    "        # Revisando el código de interés\n",
    "        if 'FDBN' in data[2]:\n",
    "            nutrients_public_id.append(data[2])\n",
    "        else:\n",
    "            compounds_public_id.append(data[2])\n",
    "            \n",
    "# Finalmente, se eliminan los duplicados\n",
    "compounds_public_id = list(set(compounds_public_id))"
   ]
  },
  {
   "cell_type": "code",
   "execution_count": 4,
   "id": "f4a73db0",
   "metadata": {
    "ExecuteTime": {
     "end_time": "2021-08-18T15:26:42.701097Z",
     "start_time": "2021-08-18T15:26:42.689131Z"
    },
    "scrolled": true
   },
   "outputs": [
    {
     "data": {
      "text/plain": [
       "['FDB013400',\n",
       " 'FDB023087',\n",
       " 'FDB002100',\n",
       " 'FDB013390',\n",
       " 'FDB000574',\n",
       " 'FDB000453',\n",
       " 'FDB023125',\n",
       " 'FDB003523',\n",
       " 'FDB013228',\n",
       " 'FDB000710',\n",
       " 'FDB003191',\n",
       " 'FDB003729',\n",
       " 'FDB012160',\n",
       " 'FDB012738',\n",
       " 'FDB001014',\n",
       " 'FDB003521',\n",
       " 'FDB003513',\n",
       " 'FDB003010',\n",
       " 'FDB014797',\n",
       " 'FDB012292',\n",
       " 'FDB007057',\n",
       " 'FDB023903',\n",
       " 'FDB008424',\n",
       " 'FDB022886',\n",
       " 'FDB003582',\n",
       " 'FDB030727',\n",
       " 'FDB011814',\n",
       " 'FDB011795',\n",
       " 'FDB002251',\n",
       " 'FDB022939',\n",
       " 'FDB001223',\n",
       " 'FDB001977',\n",
       " 'FDB013567',\n",
       " 'FDB003518',\n",
       " 'FDB000572',\n",
       " 'FDB014504',\n",
       " 'FDB016592',\n",
       " 'FDB009020',\n",
       " 'FDB003520',\n",
       " 'FDB000455',\n",
       " 'FDB003715',\n",
       " 'FDB016251',\n",
       " 'FDB000571']"
      ]
     },
     "execution_count": 4,
     "metadata": {},
     "output_type": "execute_result"
    }
   ],
   "source": [
    "compounds_public_id"
   ]
  },
  {
   "cell_type": "markdown",
   "id": "036a2945",
   "metadata": {},
   "source": [
    "# Realizando las querys necesarias"
   ]
  },
  {
   "cell_type": "markdown",
   "id": "bce767e7",
   "metadata": {},
   "source": [
    "## Obteniendo las id de los alimentos"
   ]
  },
  {
   "cell_type": "code",
   "execution_count": 5,
   "id": "d14e0139",
   "metadata": {
    "ExecuteTime": {
     "end_time": "2021-08-18T15:28:34.958548Z",
     "start_time": "2021-08-18T15:28:34.931327Z"
    }
   },
   "outputs": [],
   "source": [
    "query = f'''SELECT id, name\n",
    "    FROM foods\n",
    "    WHERE public_id IN {tuple(food_public_ids)}\n",
    "    ;\n",
    "'''\n",
    "\n",
    "# Ejecutando la query\n",
    "cursor.execute(query)\n",
    "\n",
    "# Desplegando la información: Obteniendo la lista de foods_id\n",
    "foods_id_name = [i for i in cursor.fetchall()]"
   ]
  },
  {
   "cell_type": "code",
   "execution_count": 6,
   "id": "e27681cf",
   "metadata": {
    "ExecuteTime": {
     "end_time": "2021-08-18T15:28:35.422575Z",
     "start_time": "2021-08-18T15:28:35.417590Z"
    },
    "scrolled": true
   },
   "outputs": [
    {
     "data": {
      "text/plain": [
       "[(40, 'Pepper'),\n",
       " (58, 'Coffee'),\n",
       " (68, 'Turmeric'),\n",
       " (109, 'Mentha'),\n",
       " (159, 'Rosemary'),\n",
       " (165, 'Common sage'),\n",
       " (168, 'Winter savory'),\n",
       " (183, 'Common thyme'),\n",
       " (187, 'Common wheat'),\n",
       " (206, 'Ginger'),\n",
       " (219, 'Ginseng'),\n",
       " (372, 'Ginkgo nuts'),\n",
       " (384, 'Horseradish tree'),\n",
       " (562, 'Shiitake'),\n",
       " (569, 'Maitake'),\n",
       " (586, 'Cinnamon'),\n",
       " (666, 'Salt'),\n",
       " (709, 'Chocolate'),\n",
       " (748, 'Hibiscus tea'),\n",
       " (940, 'Green tea'),\n",
       " (947, 'Guarana'),\n",
       " (948, 'Mate'),\n",
       " (970, 'Coconut milk'),\n",
       " (973, 'Coconut oil'),\n",
       " (1014, 'Goji')]"
      ]
     },
     "execution_count": 6,
     "metadata": {},
     "output_type": "execute_result"
    }
   ],
   "source": [
    "foods_id_name"
   ]
  },
  {
   "cell_type": "markdown",
   "id": "bc466629",
   "metadata": {},
   "source": [
    "## Obteniendo las id de las componentes"
   ]
  },
  {
   "cell_type": "code",
   "execution_count": 7,
   "id": "0c74e95f",
   "metadata": {
    "ExecuteTime": {
     "end_time": "2021-08-18T15:28:36.246230Z",
     "start_time": "2021-08-18T15:28:36.216227Z"
    }
   },
   "outputs": [],
   "source": [
    "query = f'''SELECT id, name\n",
    "    FROM compounds\n",
    "    WHERE public_id IN {tuple(compounds_public_id)}\n",
    "    ;\n",
    "'''\n",
    "\n",
    "# Ejecutando la query\n",
    "cursor.execute(query)\n",
    "\n",
    "# Desplegando la información: Obteniendo la lista de foods_id\n",
    "compounds_id_name = [i for i in cursor.fetchall()]"
   ]
  },
  {
   "cell_type": "code",
   "execution_count": 8,
   "id": "77ec9333",
   "metadata": {
    "ExecuteTime": {
     "end_time": "2021-08-18T15:28:36.603825Z",
     "start_time": "2021-08-18T15:28:36.584785Z"
    },
    "scrolled": true
   },
   "outputs": [
    {
     "data": {
      "text/plain": [
       "[(453, 'Theophylline'),\n",
       " (455, 'Theobromine'),\n",
       " (571, 'Carnitine'),\n",
       " (572, 'L-carnitine'),\n",
       " (574, 'Pyridoxine'),\n",
       " (710, 'Choline'),\n",
       " (1014, 'Nicotinic acid'),\n",
       " (1223, 'Ascorbic acid'),\n",
       " (1977, 'Xanthine'),\n",
       " (2100, 'Caffeine'),\n",
       " (2251, '(±)-Tryptophan'),\n",
       " (3011, 'Dodecanoic acid'),\n",
       " (3192, 'Taurine'),\n",
       " (3514, 'Calcium'),\n",
       " (3519, 'Magnesium'),\n",
       " (3521, 'Phosphorus'),\n",
       " (3522, 'Potassium'),\n",
       " (3524, 'Sodium'),\n",
       " (3583, 'Copper'),\n",
       " (3716, 'Sugars'),\n",
       " (3730, 'Zinc'),\n",
       " (7058, 'Terpene'),\n",
       " (8425, 'Thiamine'),\n",
       " (9021, 'Betaine'),\n",
       " (11798, 'Salidroside'),\n",
       " (11817, 'Resveratrol'),\n",
       " (12163, 'Riboflavine'),\n",
       " (12295, 'Curcumin'),\n",
       " (12741, 'L-Theanine'),\n",
       " (13231, 'Coenzyme Q'),\n",
       " (13393, 'Water'),\n",
       " (13403, 'Selenium'),\n",
       " (13570, 'Limonene'),\n",
       " (14507, 'Folic acid'),\n",
       " (14800, 'Thymol methyl ether'),\n",
       " (16258, 'Iron'),\n",
       " (16599, 'Chlorophyll'),\n",
       " (23049, 'Cobalamin'),\n",
       " (23102, 'Methylcobalamin'),\n",
       " (23250, 'Vitamin K1 2,3-epoxide'),\n",
       " (23288, 'Withanolide'),\n",
       " (24066, 'D-Glucurono-6,3-lactone'),\n",
       " (30890, 'cinnamaldehyde')]"
      ]
     },
     "execution_count": 8,
     "metadata": {},
     "output_type": "execute_result"
    }
   ],
   "source": [
    "compounds_id_name"
   ]
  },
  {
   "cell_type": "code",
   "execution_count": 9,
   "id": "13a559d6",
   "metadata": {
    "ExecuteTime": {
     "end_time": "2021-08-18T15:28:48.877252Z",
     "start_time": "2021-08-18T15:28:48.867280Z"
    }
   },
   "outputs": [
    {
     "data": {
      "text/plain": [
       "43"
      ]
     },
     "execution_count": 9,
     "metadata": {},
     "output_type": "execute_result"
    }
   ],
   "source": [
    "len(compounds_id_name)"
   ]
  },
  {
   "cell_type": "markdown",
   "id": "f00a5bfc",
   "metadata": {},
   "source": [
    "# Definición de componentes para cada alimento"
   ]
  },
  {
   "cell_type": "code",
   "execution_count": 42,
   "id": "8d272e44",
   "metadata": {
    "ExecuteTime": {
     "end_time": "2021-08-16T20:09:57.752620Z",
     "start_time": "2021-08-16T20:09:57.747634Z"
    }
   },
   "outputs": [],
   "source": [
    "# Definición de la lista de componentes\n",
    "compounds_id = tuple(zip(*compounds_id_name))[0]"
   ]
  },
  {
   "cell_type": "code",
   "execution_count": 58,
   "id": "eb870c29",
   "metadata": {
    "ExecuteTime": {
     "end_time": "2021-08-16T20:52:23.810717Z",
     "start_time": "2021-08-16T20:52:23.724306Z"
    },
    "scrolled": true
   },
   "outputs": [],
   "source": [
    "# Para cada alimento de la base de datos\n",
    "for food_i in foods_id_name:\n",
    "    # Definición de la solicitud de encabezado\n",
    "    query = f'''SELECT COLUMN_NAME \n",
    "        FROM information_schema.COLUMNS\n",
    "        WHERE TABLE_NAME = 'contents'\n",
    "        ;\n",
    "    '''\n",
    "    \n",
    "    # Ejecutando la query\n",
    "    cursor.execute(query)\n",
    "    \n",
    "    # Definición del encabezado\n",
    "    header = tuple([i[0] for i in cursor.fetchall()])\n",
    "    \n",
    "    with open(f'Summary/Food_Compound_Full/{food_i[1]}.csv', 'w', encoding='utf8') as file:\n",
    "        file.write(f'{header}\\n')\n",
    "    \n",
    "    # Definición de la solicitud\n",
    "    query = f'''SELECT *\n",
    "        FROM foodb.contents cont\n",
    "        WHERE cont.food_id = {food_i[0]} AND cont.source_type = 'Compound' \n",
    "        AND cont.source_id IN {compounds_id}\n",
    "        ORDER BY source_id\n",
    "    '''\n",
    "\n",
    "    # Ejecutando la query\n",
    "    cursor.execute(query)\n",
    "    \n",
    "    a = [i for i in cursor.fetchall()]\n",
    "    \n",
    "    with open(f'Summary/Food_Compound_Full/{food_i[1]}.csv', 'a', encoding='utf8') as file:\n",
    "        for i in a:\n",
    "            file.write(f'{i}\\n')\n",
    "            \n",
    "    break"
   ]
  },
  {
   "cell_type": "code",
   "execution_count": 64,
   "id": "0e927c18",
   "metadata": {
    "ExecuteTime": {
     "end_time": "2021-08-16T20:55:13.441047Z",
     "start_time": "2021-08-16T20:55:13.402045Z"
    }
   },
   "outputs": [
    {
     "data": {
      "text/plain": [
       "Decimal('1.000000000')"
      ]
     },
     "execution_count": 64,
     "metadata": {},
     "output_type": "execute_result"
    }
   ],
   "source": [
    "a[0][-3] + 1"
   ]
  },
  {
   "cell_type": "code",
   "execution_count": null,
   "id": "076a253c",
   "metadata": {},
   "outputs": [],
   "source": [
    "0"
   ]
  }
 ],
 "metadata": {
  "kernelspec": {
   "display_name": "Python 3 (ipykernel)",
   "language": "python",
   "name": "python3"
  },
  "language_info": {
   "codemirror_mode": {
    "name": "ipython",
    "version": 3
   },
   "file_extension": ".py",
   "mimetype": "text/x-python",
   "name": "python",
   "nbconvert_exporter": "python",
   "pygments_lexer": "ipython3",
   "version": "3.8.7"
  },
  "varInspector": {
   "cols": {
    "lenName": 16,
    "lenType": 16,
    "lenVar": 40
   },
   "kernels_config": {
    "python": {
     "delete_cmd_postfix": "",
     "delete_cmd_prefix": "del ",
     "library": "var_list.py",
     "varRefreshCmd": "print(var_dic_list())"
    },
    "r": {
     "delete_cmd_postfix": ") ",
     "delete_cmd_prefix": "rm(",
     "library": "var_list.r",
     "varRefreshCmd": "cat(var_dic_list()) "
    }
   },
   "position": {
    "height": "405px",
    "left": "1295px",
    "right": "20px",
    "top": "125px",
    "width": "640px"
   },
   "types_to_exclude": [
    "module",
    "function",
    "builtin_function_or_method",
    "instance",
    "_Feature"
   ],
   "window_display": false
  }
 },
 "nbformat": 4,
 "nbformat_minor": 5
}
